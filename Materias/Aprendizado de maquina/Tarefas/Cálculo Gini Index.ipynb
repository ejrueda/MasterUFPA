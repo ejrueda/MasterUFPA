{
 "cells": [
  {
   "cell_type": "code",
   "execution_count": 1,
   "metadata": {},
   "outputs": [],
   "source": [
    "import numpy as np"
   ]
  },
  {
   "cell_type": "markdown",
   "metadata": {},
   "source": [
    "#### Gini(Ages)"
   ]
  },
  {
   "cell_type": "code",
   "execution_count": 10,
   "metadata": {},
   "outputs": [
    {
     "name": "stdout",
     "output_type": "stream",
     "text": [
      "gini(buy_c|Age<=30) =  0.48\n",
      "gini(buy_c|Age<=30) =  0.0\n",
      "gini(buy_c|Age<=30) =  0.48\n",
      "gini(Ages) =  0.34285714285714286\n"
     ]
    }
   ],
   "source": [
    "gA1 = 1 - ((3/5)**2) - ((2/5)**2)\n",
    "gA2 = 1 - ((4/4)**2) - ((0/4)**2)\n",
    "gA3 = 1 - ((3/5)**2) - ((2/5)**2)\n",
    "print(\"gini(buy_c|Age<=30) = \", gA1)\n",
    "print(\"gini(buy_c|Age<=30) = \", gA2)\n",
    "print(\"gini(buy_c|Age<=30) = \", gA3)\n",
    "print(\"gini(Ages) = \", ((5/14)*0.48) + ((5/14)*0.48))"
   ]
  },
  {
   "cell_type": "code",
   "execution_count": 12,
   "metadata": {},
   "outputs": [
    {
     "name": "stdout",
     "output_type": "stream",
     "text": [
      "gini(buy_c|Age<=30) =  0.5\n",
      "gini(buy_c|Age<=30) =  0.4444444444444445\n",
      "gini(buy_c|Age<=30) =  0.375\n",
      "gini(Ages) =  0.4404571428571428\n"
     ]
    }
   ],
   "source": [
    "gI1 = 1 - ((2/4)**2) - ((2/4)**2)\n",
    "gI2 = 1 - ((4/6)**2) - ((2/6)**2)\n",
    "gI3 = 1 - ((3/4)**2) - ((1/4)**2)\n",
    "print(\"gini(buy_c|Age<=30) = \", gI1)\n",
    "print(\"gini(buy_c|Age<=30) = \", gI2)\n",
    "print(\"gini(buy_c|Age<=30) = \", gI3)\n",
    "print(\"gini(Ages) = \", ((4/14)*0.5) + ((6/14)*0.4444) + ((4/14)*0.375))"
   ]
  },
  {
   "cell_type": "code",
   "execution_count": 14,
   "metadata": {},
   "outputs": [
    {
     "name": "stdout",
     "output_type": "stream",
     "text": [
      "gini(buy_c|Age<=30) =  0.48979591836734704\n",
      "gini(buy_c|Age<=30) =  0.24489795918367355\n",
      "gini(Ages) =  0.36735\n"
     ]
    }
   ],
   "source": [
    "gS1 = 1 - ((4/7)**2) - ((3/7)**2)\n",
    "gS2 = 1 - ((6/7)**2) - ((1/7)**2)\n",
    "print(\"gini(buy_c|Age<=30) = \", gS1)\n",
    "print(\"gini(buy_c|Age<=30) = \", gS2)\n",
    "print(\"gini(Ages) = \", ((7/14)*0.4898) + ((7/14)*0.2449))"
   ]
  },
  {
   "cell_type": "code",
   "execution_count": 18,
   "metadata": {},
   "outputs": [
    {
     "name": "stdout",
     "output_type": "stream",
     "text": [
      "gini(buy_c|Age<=30) =  0.375\n",
      "gini(buy_c|Age<=30) =  0.5\n",
      "gini(Ages) =  0.42857142857142855\n"
     ]
    }
   ],
   "source": [
    "gCR1 = 1 - ((2/8)**2) - ((6/8)**2)\n",
    "gCR2 = 1 - ((3/6)**2) - ((3/6)**2)\n",
    "print(\"gini(buy_c|Age<=30) = \", gCR1)\n",
    "print(\"gini(buy_c|Age<=30) = \", gCR2)\n",
    "print(\"gini(Ages) = \", ((8/14)*0.375) + ((6/14)*0.5))"
   ]
  },
  {
   "cell_type": "code",
   "execution_count": null,
   "metadata": {},
   "outputs": [],
   "source": []
  }
 ],
 "metadata": {
  "kernelspec": {
   "display_name": "Python 3",
   "language": "python",
   "name": "python3"
  },
  "language_info": {
   "codemirror_mode": {
    "name": "ipython",
    "version": 3
   },
   "file_extension": ".py",
   "mimetype": "text/x-python",
   "name": "python",
   "nbconvert_exporter": "python",
   "pygments_lexer": "ipython3",
   "version": "3.6.5"
  }
 },
 "nbformat": 4,
 "nbformat_minor": 2
}
