{
 "cells": [
  {
   "cell_type": "code",
   "execution_count": 3,
   "metadata": {},
   "outputs": [],
   "source": [
    "import numpy as np\n",
    "import matplotlib.pyplot as plt\n",
    "import pandas as pd\n",
    "%matplotlib inline"
   ]
  },
  {
   "cell_type": "markdown",
   "metadata": {},
   "source": [
    "1. (1.0 pt) Os dados abaixo se referem a taxas de colesterol total (mg/100ml) de 30\n",
    "indivı́duos. Utilize duas casas decimais para o cálculo."
   ]
  },
  {
   "cell_type": "code",
   "execution_count": 3,
   "metadata": {},
   "outputs": [
    {
     "data": {
      "text/plain": [
       "30"
      ]
     },
     "execution_count": 3,
     "metadata": {},
     "output_type": "execute_result"
    }
   ],
   "source": [
    "taxa_c = [140,160,168,180,180,180,180,184,185,190,190,\n",
    "         192,192,196,200,200,200,205,205,208,214,214,\n",
    "         220,220,225,230,240,260,280,315]\n",
    "\n",
    "len(taxa_c)"
   ]
  },
  {
   "cell_type": "markdown",
   "metadata": {},
   "source": [
    "#### 1 (a)\n",
    "- Montar uma tabela dem distribuição de frequência por intervalo para as taxas (utilize a regra de Sturges para calcular o número de classes - intervalos).\n",
    "- Regla de Sturges, #clases = 1 + 3.3*log(n)"
   ]
  },
  {
   "cell_type": "code",
   "execution_count": 20,
   "metadata": {},
   "outputs": [
    {
     "name": "stdout",
     "output_type": "stream",
     "text": [
      "Número de clases: 6.0\n"
     ]
    }
   ],
   "source": [
    "n = len(taxa_c)\n",
    "k = 1 + 3.3*np.log10(n)\n",
    "print(\"Número de clases:\", np.ceil(k))"
   ]
  },
  {
   "cell_type": "markdown",
   "metadata": {},
   "source": [
    "Calcule a amplitude do conjunto de dados L = x max -x min"
   ]
  },
  {
   "cell_type": "code",
   "execution_count": 41,
   "metadata": {},
   "outputs": [
    {
     "data": {
      "text/plain": [
       "(315, 140)"
      ]
     },
     "execution_count": 41,
     "metadata": {},
     "output_type": "execute_result"
    }
   ],
   "source": [
    "max(taxa_c) , min(taxa_c)"
   ]
  },
  {
   "cell_type": "code",
   "execution_count": 13,
   "metadata": {},
   "outputs": [
    {
     "name": "stdout",
     "output_type": "stream",
     "text": [
      "Amplitud:  175\n"
     ]
    }
   ],
   "source": [
    "L = max(taxa_c) - min(taxa_c)\n",
    "print(\"Amplitud: \", L)"
   ]
  },
  {
   "cell_type": "markdown",
   "metadata": {},
   "source": [
    "Largura de la clase: h = L/k"
   ]
  },
  {
   "cell_type": "code",
   "execution_count": 25,
   "metadata": {},
   "outputs": [
    {
     "name": "stdout",
     "output_type": "stream",
     "text": [
      "Largura de la clase:  29.79\n"
     ]
    }
   ],
   "source": [
    "h = L/k\n",
    "print(\"Largura de la clase: \", round(h,2))"
   ]
  },
  {
   "cell_type": "code",
   "execution_count": 32,
   "metadata": {},
   "outputs": [
    {
     "name": "stdout",
     "output_type": "stream",
     "text": [
      "140  ->  169.79\n",
      "169.79  ->  199.57999999999998\n",
      "199.58  ->  229.37\n",
      "229.37  ->  259.16\n",
      "259.16  ->  288.95000000000005\n",
      "288.95  ->  318.74\n"
     ]
    }
   ],
   "source": [
    "aux = min(taxa_c)\n",
    "for i in range(int(np.ceil(k))):\n",
    "    print(round(aux,2), \" -> \",aux + round(h,2))\n",
    "    aux = round(aux + round(h,2),2)"
   ]
  },
  {
   "cell_type": "code",
   "execution_count": 40,
   "metadata": {},
   "outputs": [
    {
     "data": {
      "text/plain": [
       "315.0"
      ]
     },
     "execution_count": 40,
     "metadata": {},
     "output_type": "execute_result"
    }
   ],
   "source": [
    "min(taxa_c) + k*h"
   ]
  },
  {
   "cell_type": "code",
   "execution_count": 60,
   "metadata": {
    "scrolled": true
   },
   "outputs": [
    {
     "data": {
      "text/plain": [
       "1"
      ]
     },
     "execution_count": 60,
     "metadata": {},
     "output_type": "execute_result"
    }
   ],
   "source": [
    "sum((np.array(taxa_c) >= 288.95) * (np.array(taxa_c) < 55555))"
   ]
  },
  {
   "cell_type": "code",
   "execution_count": 91,
   "metadata": {},
   "outputs": [
    {
     "data": {
      "image/png": "[encoded data removed]",
      "text/plain": [
       "<Figure size 720x360 with 1 Axes>"
      ]
     },
     "metadata": {},
     "output_type": "display_data"
    }
   ],
   "source": [
    "x = range(6)\n",
    "y = [3, 11, 11, 2, 2, 1]\n",
    "plt.figure(figsize=(10,5))\n",
    "ax = plt.axes()\n",
    "ax.spines['right'].set_visible(False)\n",
    "ax.spines['top'].set_visible(False)\n",
    "plt.title(\"Histograma\", size=16)\n",
    "plt.grid(axis=\"y\")\n",
    "plt.xticks(x, [\"[139 - 169.79)\",\"[169.79 – 199.58)\",\"[199.58 – 229.37)\",\"[229.37 – 259.16)\",\n",
    "               \"[259.16 – 288.95)\", \"[288.95 – 317.74)\"], rotation=10)\n",
    "plt.yticks(np.arange(12))\n",
    "plt.bar(x,y, label=\"cantidade\")\n",
    "plt.xlabel(\"Intervalos\", size=14)\n",
    "plt.legend();"
   ]
  },
  {
   "cell_type": "code",
   "execution_count": 96,
   "metadata": {},
   "outputs": [
    {
     "name": "stdout",
     "output_type": "stream",
     "text": [
      "Media:  205.1\n"
     ]
    }
   ],
   "source": [
    "print(\"Media: \", np.mean(taxa_c))"
   ]
  },
  {
   "cell_type": "code",
   "execution_count": 97,
   "metadata": {},
   "outputs": [
    {
     "data": {
      "text/plain": [
       "200.0"
      ]
     },
     "execution_count": 97,
     "metadata": {},
     "output_type": "execute_result"
    }
   ],
   "source": [
    "np.median(taxa_c)"
   ]
  },
  {
   "cell_type": "code",
   "execution_count": 99,
   "metadata": {},
   "outputs": [
    {
     "data": {
      "text/plain": [
       "1184.1566666666665"
      ]
     },
     "execution_count": 99,
     "metadata": {},
     "output_type": "execute_result"
    }
   ],
   "source": [
    "np.var(taxa_c)"
   ]
  },
  {
   "cell_type": "code",
   "execution_count": 130,
   "metadata": {},
   "outputs": [
    {
     "data": {
      "text/plain": [
       "34.999852216436764"
      ]
     },
     "execution_count": 130,
     "metadata": {},
     "output_type": "execute_result"
    }
   ],
   "source": [
    "(np.std(taxa_c, ddof=1))"
   ]
  },
  {
   "cell_type": "code",
   "execution_count": 129,
   "metadata": {},
   "outputs": [
    {
     "data": {
      "text/plain": [
       "34.999852216436764"
      ]
     },
     "execution_count": 129,
     "metadata": {},
     "output_type": "execute_result"
    }
   ],
   "source": [
    "np.sqrt(sum(((taxa_c - np.mean(taxa_c))**2)/29))"
   ]
  },
  {
   "cell_type": "markdown",
   "metadata": {},
   "source": [
    "#### 2. (1.5 pt)\n",
    "- Considere que os valores assumidos por um dado atributo numérico são lis-\n",
    "tados no vetor x = {1, 3, 2, 3, 2, 2, 0, 1, 0, 0, 3, 0, 2, 3, 2, 2, 3, 3, 0, 3, 2, 0} . a) Calcule o\n",
    "histograma de x (utilize o bom senso para definir o número de classes). b) Supondo\n",
    "que tais valores correspondem aos assumidos em um experimento por uma variável\n",
    "aleatória X, estime sua média E[X] = μ, E[X 2 ], variância σ x 2 , o desvio padrão σ x e o\n",
    "desvio médio absoluto. c) X é uma variável aleatórioa ou contı́nua?"
   ]
  },
  {
   "cell_type": "code",
   "execution_count": 131,
   "metadata": {},
   "outputs": [],
   "source": [
    "x = [1, 3, 2, 3, 2, 2, 0, 1, 0, 0, 3, 0, 2, 3, 2, 2, 3, 3, 0, 3, 2, 0]"
   ]
  },
  {
   "cell_type": "markdown",
   "metadata": {},
   "source": [
    "#### 3 clases me parece un buen senso"
   ]
  },
  {
   "cell_type": "code",
   "execution_count": 134,
   "metadata": {},
   "outputs": [
    {
     "name": "stdout",
     "output_type": "stream",
     "text": [
      "0  ->  1.0\n",
      "1.0  ->  2.0\n",
      "2.0  ->  3.0\n"
     ]
    }
   ],
   "source": [
    "k=3\n",
    "L = max(x) - min(x)\n",
    "h = L/k\n",
    "\n",
    "aux = min(x)\n",
    "for i in range(int(np.ceil(k))):\n",
    "    print(round(aux,2), \" -> \",aux + round(h,2))\n",
    "    aux = round(aux + round(h,2),2)"
   ]
  },
  {
   "cell_type": "code",
   "execution_count": 153,
   "metadata": {},
   "outputs": [
    {
     "data": {
      "text/plain": [
       "[1, 3, 2, 3, 2, 2, 0, 1, 0, 0, 3, 0, 2, 3, 2, 2, 3, 3, 0, 3, 2, 0]"
      ]
     },
     "execution_count": 153,
     "metadata": {},
     "output_type": "execute_result"
    }
   ],
   "source": [
    "x"
   ]
  },
  {
   "cell_type": "code",
   "execution_count": 154,
   "metadata": {},
   "outputs": [
    {
     "data": {
      "image/png": "[encoded data removed]",
      "text/plain": [
       "<Figure size 576x360 with 1 Axes>"
      ]
     },
     "metadata": {},
     "output_type": "display_data"
    }
   ],
   "source": [
    "x1 = range(3)\n",
    "y1 = [6, 2, 14]\n",
    "plt.figure(figsize=(8,5))\n",
    "ax = plt.axes()\n",
    "ax.spines['right'].set_visible(False)\n",
    "ax.spines['top'].set_visible(False)\n",
    "plt.title(\"Histograma\", size=16)\n",
    "plt.grid(axis=\"y\")\n",
    "plt.xticks(x1, [\"[0 - 1)\",\"[1 – 2)\",\"[2 – 3)\"])\n",
    "#plt.yticks(np.arange(12))\n",
    "plt.bar(x1,y1, label=\"cantidade\", color=\"green\", width=0.4)\n",
    "plt.xlabel(\"Intervalos - classes\", size=14)\n",
    "plt.legend();"
   ]
  },
  {
   "cell_type": "markdown",
   "metadata": {},
   "source": [
    "b) Supondo que tais valores correspondem aos assumidos em um experimento por uma variável aleatória X, estime sua média E[X] = μ, E[X 2 ], variância σ x 2 , o desvio padrão σ x e o desvio médio absoluto."
   ]
  },
  {
   "cell_type": "code",
   "execution_count": 200,
   "metadata": {},
   "outputs": [],
   "source": [
    "b = (sum(np.array(x)==0)/len(x))*0 +(sum(np.array(x)==1)/len(x))*1 + (sum(np.array(x)==2)/len(x))*4 + (sum(np.array(x)==3)/len(x))*9"
   ]
  },
  {
   "cell_type": "code",
   "execution_count": 208,
   "metadata": {},
   "outputs": [
    {
     "data": {
      "text/plain": [
       "1.6818181818181819"
      ]
     },
     "execution_count": 208,
     "metadata": {},
     "output_type": "execute_result"
    }
   ],
   "source": [
    "np.mean(x)"
   ]
  },
  {
   "cell_type": "code",
   "execution_count": 213,
   "metadata": {},
   "outputs": [
    {
     "data": {
      "text/plain": [
       "1.0413223140495866"
      ]
     },
     "execution_count": 213,
     "metadata": {},
     "output_type": "execute_result"
    }
   ],
   "source": [
    "sum(abs(x - np.mean(x)))/len(x)"
   ]
  },
  {
   "cell_type": "markdown",
   "metadata": {},
   "source": [
    "#### 3. (2.0 pt)\n",
    "- Use um editor de texto ASCII para verificar o conteúdo do arquivo iris.arff\n",
    "(o qual vem com Weka). Estude-o também usando a GUI chamada Explorer do pa-\n",
    "cote Weka. Copie a iris.arff para um novo arquivo chamado iris.csv, elimine o header\n",
    "(primeirais linhas, antes de @data), e leia o arquivo iris.cvs no Excel. Escreva código\n",
    "em Java ou outra linguagem de sua preferência para calcular a variância do terceiro\n",
    "parâmetro (terceiro elemento de x) a partir da leitura do arquivo iris.csv. Compare o\n",
    "resultado com as variâncias estimadas pelos programas Weka e Excel. Inclua a listagem\n",
    "de seu código."
   ]
  },
  {
   "cell_type": "code",
   "execution_count": 23,
   "metadata": {},
   "outputs": [
    {
     "name": "stdout",
     "output_type": "stream",
     "text": [
      "varianza por Python:  3.0924\n",
      "varianza Amostral por Python:  3.1132\n"
     ]
    },
    {
     "data": {
      "text/html": [
       "<div>\n",
       "<style scoped>\n",
       "    .dataframe tbody tr th:only-of-type {\n",
       "        vertical-align: middle;\n",
       "    }\n",
       "\n",
       "    .dataframe tbody tr th {\n",
       "        vertical-align: top;\n",
       "    }\n",
       "\n",
       "    .dataframe thead th {\n",
       "        text-align: right;\n",
       "    }\n",
       "</style>\n",
       "<table border=\"1\" class=\"dataframe\">\n",
       "  <thead>\n",
       "    <tr style=\"text-align: right;\">\n",
       "      <th></th>\n",
       "      <th>sepallength</th>\n",
       "      <th>sepalwidth</th>\n",
       "      <th>petallength</th>\n",
       "      <th>petalwidth</th>\n",
       "      <th>CLASSE</th>\n",
       "    </tr>\n",
       "  </thead>\n",
       "  <tbody>\n",
       "    <tr>\n",
       "      <th>0</th>\n",
       "      <td>5.1</td>\n",
       "      <td>3.5</td>\n",
       "      <td>1.4</td>\n",
       "      <td>0.2</td>\n",
       "      <td>Iris-setosa</td>\n",
       "    </tr>\n",
       "    <tr>\n",
       "      <th>1</th>\n",
       "      <td>4.9</td>\n",
       "      <td>3.0</td>\n",
       "      <td>1.4</td>\n",
       "      <td>0.2</td>\n",
       "      <td>Iris-setosa</td>\n",
       "    </tr>\n",
       "    <tr>\n",
       "      <th>2</th>\n",
       "      <td>4.7</td>\n",
       "      <td>3.2</td>\n",
       "      <td>1.3</td>\n",
       "      <td>0.2</td>\n",
       "      <td>Iris-setosa</td>\n",
       "    </tr>\n",
       "    <tr>\n",
       "      <th>3</th>\n",
       "      <td>4.6</td>\n",
       "      <td>3.1</td>\n",
       "      <td>1.5</td>\n",
       "      <td>0.2</td>\n",
       "      <td>Iris-setosa</td>\n",
       "    </tr>\n",
       "    <tr>\n",
       "      <th>4</th>\n",
       "      <td>5.0</td>\n",
       "      <td>3.6</td>\n",
       "      <td>1.4</td>\n",
       "      <td>0.2</td>\n",
       "      <td>Iris-setosa</td>\n",
       "    </tr>\n",
       "  </tbody>\n",
       "</table>\n",
       "</div>"
      ],
      "text/plain": [
       "  sepallength  sepalwidth  petallength  petalwidth       CLASSE\n",
       "0         5.1         3.5          1.4         0.2  Iris-setosa\n",
       "1         4.9         3.0          1.4         0.2  Iris-setosa\n",
       "2         4.7         3.2          1.3         0.2  Iris-setosa\n",
       "3         4.6         3.1          1.5         0.2  Iris-setosa\n",
       "4         5.0         3.6          1.4         0.2  Iris-setosa"
      ]
     },
     "execution_count": 23,
     "metadata": {},
     "output_type": "execute_result"
    }
   ],
   "source": [
    "df = pd.read_csv(\"./iris.csv\", names=[\"sepallength\",\"sepalwidth\",\"petallength\",\"petalwidth\", \"CLASSE\"])\n",
    "print(\"varianza por Python: \", round(np.var(df[\"petallength\"]), 4))\n",
    "print(\"varianza Amostral por Python: \", round(np.var(df[\"petallength\"], ddof=1), 4))\n",
    "df.head()"
   ]
  },
  {
   "cell_type": "markdown",
   "metadata": {},
   "source": [
    "#### 4. (2.5 pt)\n",
    "- O Coeficiente de variação (CV) é uma medida relativa de variabilidade que\n",
    "independe da unidade de medida utilizada CV = (Desvio p adrao/M edia). É possı́vel\n",
    "utilizar o CV para selecionar os ”melhores” atributos, ou seja, aqueles que contenham\n",
    "os menores valores de CV. Selecione duas bases de dados do UCI e construa um gráfico\n",
    "(Taxa de erro versus conjunto de atributos) para cada base. Utilize o classificador 1-\n",
    "NN para estimar a taxa de erro. Os conjuntos de atributos serão formados da seguinte\n",
    "maneira: inicialmente o conjunto irá conter o atributo com o menor CV: no passo\n",
    "seguinte o conjunto irá conter os dois atributos com os menores CVs; e assim por\n",
    "diante até que o conjunto final seja formado por todas os atributos."
   ]
  },
  {
   "cell_type": "markdown",
   "metadata": {},
   "source": [
    "### DataSet Iris\n",
    "- vamos a sacar el orden de los datos mas relevantes"
   ]
  },
  {
   "cell_type": "code",
   "execution_count": 125,
   "metadata": {},
   "outputs": [
    {
     "data": {
      "text/html": [
       "<div>\n",
       "<style scoped>\n",
       "    .dataframe tbody tr th:only-of-type {\n",
       "        vertical-align: middle;\n",
       "    }\n",
       "\n",
       "    .dataframe tbody tr th {\n",
       "        vertical-align: top;\n",
       "    }\n",
       "\n",
       "    .dataframe thead th {\n",
       "        text-align: right;\n",
       "    }\n",
       "</style>\n",
       "<table border=\"1\" class=\"dataframe\">\n",
       "  <thead>\n",
       "    <tr style=\"text-align: right;\">\n",
       "      <th></th>\n",
       "      <th>sepallength</th>\n",
       "      <th>sepalwidth</th>\n",
       "      <th>petallength</th>\n",
       "      <th>petalwidth</th>\n",
       "      <th>CLASSE</th>\n",
       "    </tr>\n",
       "  </thead>\n",
       "  <tbody>\n",
       "    <tr>\n",
       "      <th>0</th>\n",
       "      <td>5.1</td>\n",
       "      <td>3.5</td>\n",
       "      <td>1.4</td>\n",
       "      <td>0.2</td>\n",
       "      <td>Iris-setosa</td>\n",
       "    </tr>\n",
       "    <tr>\n",
       "      <th>1</th>\n",
       "      <td>4.9</td>\n",
       "      <td>3.0</td>\n",
       "      <td>1.4</td>\n",
       "      <td>0.2</td>\n",
       "      <td>Iris-setosa</td>\n",
       "    </tr>\n",
       "    <tr>\n",
       "      <th>2</th>\n",
       "      <td>4.7</td>\n",
       "      <td>3.2</td>\n",
       "      <td>1.3</td>\n",
       "      <td>0.2</td>\n",
       "      <td>Iris-setosa</td>\n",
       "    </tr>\n",
       "    <tr>\n",
       "      <th>3</th>\n",
       "      <td>4.6</td>\n",
       "      <td>3.1</td>\n",
       "      <td>1.5</td>\n",
       "      <td>0.2</td>\n",
       "      <td>Iris-setosa</td>\n",
       "    </tr>\n",
       "    <tr>\n",
       "      <th>4</th>\n",
       "      <td>5.0</td>\n",
       "      <td>3.6</td>\n",
       "      <td>1.4</td>\n",
       "      <td>0.2</td>\n",
       "      <td>Iris-setosa</td>\n",
       "    </tr>\n",
       "  </tbody>\n",
       "</table>\n",
       "</div>"
      ],
      "text/plain": [
       "   sepallength  sepalwidth  petallength  petalwidth       CLASSE\n",
       "0          5.1         3.5          1.4         0.2  Iris-setosa\n",
       "1          4.9         3.0          1.4         0.2  Iris-setosa\n",
       "2          4.7         3.2          1.3         0.2  Iris-setosa\n",
       "3          4.6         3.1          1.5         0.2  Iris-setosa\n",
       "4          5.0         3.6          1.4         0.2  Iris-setosa"
      ]
     },
     "execution_count": 125,
     "metadata": {},
     "output_type": "execute_result"
    }
   ],
   "source": [
    "df = pd.read_csv(\"./data/iris.csv\", names=[\"sepallength\",\"sepalwidth\",\"petallength\",\"petalwidth\", \"CLASSE\"])\n",
    "df.head()"
   ]
  },
  {
   "cell_type": "code",
   "execution_count": 126,
   "metadata": {},
   "outputs": [
    {
     "name": "stdout",
     "output_type": "stream",
     "text": [
      "CV sepallength:  0.1412380989934639\n",
      "CV sepalwidth:  0.14150182713508297\n",
      "CV petallength:  0.46785983950129095\n",
      "CV petalwidth:  0.6345489031603212\n"
     ]
    }
   ],
   "source": [
    "print(\"CV sepallength: \", np.std(df[\"sepallength\"])/np.mean(df[\"sepallength\"]))\n",
    "print(\"CV sepalwidth: \", np.std(df[\"sepalwidth\"])/np.mean(df[\"sepalwidth\"]))\n",
    "print(\"CV petallength: \", np.std(df[\"petallength\"])/np.mean(df[\"petallength\"]))\n",
    "print(\"CV petalwidth: \", np.std(df[\"petalwidth\"])/np.mean(df[\"petalwidth\"]))"
   ]
  },
  {
   "cell_type": "code",
   "execution_count": 127,
   "metadata": {},
   "outputs": [
    {
     "data": {
      "text/plain": [
       "array(['Iris-setosa', 'Iris-versicolor', 'Iris-virginica'], dtype=object)"
      ]
     },
     "execution_count": 127,
     "metadata": {},
     "output_type": "execute_result"
    }
   ],
   "source": [
    "df[\"CLASSE\"].unique()"
   ]
  },
  {
   "cell_type": "code",
   "execution_count": 128,
   "metadata": {},
   "outputs": [],
   "source": [
    "df.loc[df.loc[:,\"CLASSE\"]==\"Iris-setosa\", \"CLASSE\"] = 1\n",
    "df.loc[df.loc[:,\"CLASSE\"]==\"Iris-versicolor\", \"CLASSE\"] = 2\n",
    "df.loc[df.loc[:,\"CLASSE\"]==\"Iris-virginica\", \"CLASSE\"] = 3"
   ]
  },
  {
   "cell_type": "code",
   "execution_count": 129,
   "metadata": {},
   "outputs": [
    {
     "name": "stdout",
     "output_type": "stream",
     "text": [
      "0.96\n"
     ]
    }
   ],
   "source": [
    "from sklearn.neighbors import KNeighborsClassifier\n",
    "from sklearn.model_selection import cross_val_score\n",
    "\n",
    "X = df.drop(\"CLASSE\", axis=1)\n",
    "#X = np.array(df[\"petalwidth\"]).reshape(-1,1)\n",
    "y = df[\"CLASSE\"]\n",
    "clf = KNeighborsClassifier(n_neighbors=1, n_jobs=2)\n",
    "score = cross_val_score(clf, X, y, cv=5)\n",
    "print(np.mean(score))"
   ]
  },
  {
   "cell_type": "code",
   "execution_count": 130,
   "metadata": {},
   "outputs": [],
   "source": [
    "scores = [0.6133, 0.7266, 0.9333, 0.96]"
   ]
  },
  {
   "cell_type": "code",
   "execution_count": 131,
   "metadata": {},
   "outputs": [],
   "source": [
    "y = np.ones(4)\n",
    "y = y-scores"
   ]
  },
  {
   "cell_type": "code",
   "execution_count": 132,
   "metadata": {},
   "outputs": [
    {
     "data": {
      "image/png": "[encoded data removed]",
      "text/plain": [
       "<Figure size 504x288 with 1 Axes>"
      ]
     },
     "metadata": {},
     "output_type": "display_data"
    }
   ],
   "source": [
    "x = range(1,5)\n",
    "plt.figure(figsize=(7,4))\n",
    "ax = plt.axes()\n",
    "ax.spines['right'].set_visible(False)\n",
    "ax.spines['top'].set_visible(False)\n",
    "plt.title(\"Taxa de erro - DataSet Iris\", size=16)\n",
    "plt.grid()\n",
    "plt.xticks(x, [1,2,3,4,5])\n",
    "#plt.yticks(np.arange(12))\n",
    "plt.plot(x,y, label=\"erro kfold=5\", color=\"orange\")\n",
    "plt.xlabel(\"numero de atributos\", size=14)\n",
    "plt.ylabel(\"erro\", size=14)\n",
    "plt.legend();"
   ]
  },
  {
   "cell_type": "code",
   "execution_count": 99,
   "metadata": {},
   "outputs": [
    {
     "data": {
      "text/plain": [
       "'quality'"
      ]
     },
     "execution_count": 99,
     "metadata": {},
     "output_type": "execute_result"
    }
   ],
   "source": [
    "\"fixed acidity\";\"volatile acidity\";\"citric acid\";\"residual sugar\";\"chlorides\";\"free sulfur dioxide\";\"total sulfur dioxide\";\"density\";\"pH\";\"sulphates\";\"alcohol\";\"quality\""
   ]
  },
  {
   "cell_type": "code",
   "execution_count": 134,
   "metadata": {},
   "outputs": [
    {
     "data": {
      "text/html": [
       "<div>\n",
       "<style scoped>\n",
       "    .dataframe tbody tr th:only-of-type {\n",
       "        vertical-align: middle;\n",
       "    }\n",
       "\n",
       "    .dataframe tbody tr th {\n",
       "        vertical-align: top;\n",
       "    }\n",
       "\n",
       "    .dataframe thead th {\n",
       "        text-align: right;\n",
       "    }\n",
       "</style>\n",
       "<table border=\"1\" class=\"dataframe\">\n",
       "  <thead>\n",
       "    <tr style=\"text-align: right;\">\n",
       "      <th></th>\n",
       "      <th>fixed acidity</th>\n",
       "      <th>volatile acidity</th>\n",
       "      <th>citric acid</th>\n",
       "      <th>residual sugar</th>\n",
       "      <th>chlorides</th>\n",
       "      <th>free sulfur dioxide</th>\n",
       "      <th>total sulfur dioxide</th>\n",
       "      <th>density</th>\n",
       "      <th>pH</th>\n",
       "      <th>sulphates</th>\n",
       "      <th>alcohol</th>\n",
       "      <th>quality</th>\n",
       "    </tr>\n",
       "  </thead>\n",
       "  <tbody>\n",
       "    <tr>\n",
       "      <th>0</th>\n",
       "      <td>7.4</td>\n",
       "      <td>0.70</td>\n",
       "      <td>0.00</td>\n",
       "      <td>1.9</td>\n",
       "      <td>0.076</td>\n",
       "      <td>11.0</td>\n",
       "      <td>34.0</td>\n",
       "      <td>0.9978</td>\n",
       "      <td>3.51</td>\n",
       "      <td>0.56</td>\n",
       "      <td>9.4</td>\n",
       "      <td>5</td>\n",
       "    </tr>\n",
       "    <tr>\n",
       "      <th>1</th>\n",
       "      <td>7.8</td>\n",
       "      <td>0.88</td>\n",
       "      <td>0.00</td>\n",
       "      <td>2.6</td>\n",
       "      <td>0.098</td>\n",
       "      <td>25.0</td>\n",
       "      <td>67.0</td>\n",
       "      <td>0.9968</td>\n",
       "      <td>3.20</td>\n",
       "      <td>0.68</td>\n",
       "      <td>9.8</td>\n",
       "      <td>5</td>\n",
       "    </tr>\n",
       "    <tr>\n",
       "      <th>2</th>\n",
       "      <td>7.8</td>\n",
       "      <td>0.76</td>\n",
       "      <td>0.04</td>\n",
       "      <td>2.3</td>\n",
       "      <td>0.092</td>\n",
       "      <td>15.0</td>\n",
       "      <td>54.0</td>\n",
       "      <td>0.9970</td>\n",
       "      <td>3.26</td>\n",
       "      <td>0.65</td>\n",
       "      <td>9.8</td>\n",
       "      <td>5</td>\n",
       "    </tr>\n",
       "    <tr>\n",
       "      <th>3</th>\n",
       "      <td>11.2</td>\n",
       "      <td>0.28</td>\n",
       "      <td>0.56</td>\n",
       "      <td>1.9</td>\n",
       "      <td>0.075</td>\n",
       "      <td>17.0</td>\n",
       "      <td>60.0</td>\n",
       "      <td>0.9980</td>\n",
       "      <td>3.16</td>\n",
       "      <td>0.58</td>\n",
       "      <td>9.8</td>\n",
       "      <td>6</td>\n",
       "    </tr>\n",
       "    <tr>\n",
       "      <th>4</th>\n",
       "      <td>7.4</td>\n",
       "      <td>0.70</td>\n",
       "      <td>0.00</td>\n",
       "      <td>1.9</td>\n",
       "      <td>0.076</td>\n",
       "      <td>11.0</td>\n",
       "      <td>34.0</td>\n",
       "      <td>0.9978</td>\n",
       "      <td>3.51</td>\n",
       "      <td>0.56</td>\n",
       "      <td>9.4</td>\n",
       "      <td>5</td>\n",
       "    </tr>\n",
       "  </tbody>\n",
       "</table>\n",
       "</div>"
      ],
      "text/plain": [
       "   fixed acidity  volatile acidity  citric acid  residual sugar  chlorides  \\\n",
       "0            7.4              0.70         0.00             1.9      0.076   \n",
       "1            7.8              0.88         0.00             2.6      0.098   \n",
       "2            7.8              0.76         0.04             2.3      0.092   \n",
       "3           11.2              0.28         0.56             1.9      0.075   \n",
       "4            7.4              0.70         0.00             1.9      0.076   \n",
       "\n",
       "   free sulfur dioxide  total sulfur dioxide  density    pH  sulphates  \\\n",
       "0                 11.0                  34.0   0.9978  3.51       0.56   \n",
       "1                 25.0                  67.0   0.9968  3.20       0.68   \n",
       "2                 15.0                  54.0   0.9970  3.26       0.65   \n",
       "3                 17.0                  60.0   0.9980  3.16       0.58   \n",
       "4                 11.0                  34.0   0.9978  3.51       0.56   \n",
       "\n",
       "   alcohol  quality  \n",
       "0      9.4        5  \n",
       "1      9.8        5  \n",
       "2      9.8        5  \n",
       "3      9.8        6  \n",
       "4      9.4        5  "
      ]
     },
     "execution_count": 134,
     "metadata": {},
     "output_type": "execute_result"
    }
   ],
   "source": [
    "df = pd.read_csv(\"./data/winequality-red.csv\", delimiter=\";\",\n",
    "                names=[\"fixed acidity\",\"volatile acidity\", \"citric acid\", \"residual sugar\",\"chlorides\",\n",
    "                      \"free sulfur dioxide\",\"total sulfur dioxide\",\"density\",\"pH\",\"sulphates\", \"alcohol\",\n",
    "                      \"quality\"])\n",
    "df.head()"
   ]
  },
  {
   "cell_type": "code",
   "execution_count": 135,
   "metadata": {},
   "outputs": [
    {
     "name": "stdout",
     "output_type": "stream",
     "text": [
      "fixed acidity   0.20921005843572743\n",
      "volatile acidity   0.3391374527832352\n",
      "citric acid   0.7186632576548769\n",
      "residual sugar   0.5551772715863559\n",
      "chlorides   0.537926637418415\n",
      "free sulfur dioxide   0.6587046997429178\n",
      "total sulfur dioxide   0.7076952653522394\n",
      "density   0.0018929019180630874\n",
      "pH   0.04661217309297281\n",
      "sulphates   0.25747058440832254\n",
      "alcohol   0.10221011476715985\n",
      "quality   0.14324230872895627\n"
     ]
    }
   ],
   "source": [
    "for col in df.columns:\n",
    "    print(col, \" \", np.std(df[col])/np.mean(df[col]))"
   ]
  },
  {
   "cell_type": "code",
   "execution_count": 149,
   "metadata": {},
   "outputs": [
    {
     "name": "stdout",
     "output_type": "stream",
     "text": [
      "0.44646555265978405\n"
     ]
    }
   ],
   "source": [
    "from sklearn.neighbors import KNeighborsClassifier\n",
    "from sklearn.model_selection import cross_val_score\n",
    "\n",
    "X = df.drop(\"quality\", axis=1)\n",
    "#X = df[[\"density\", \"pH\", \"alcohol\", \"fixed acidity\", \"sulphates\", \"volatile acidity\", \"chlorides\",\n",
    "       #\"residual sugar\", \"free sulfur dioxide\",\"total sulfur dioxide\", \"citric acid\"]]\n",
    "y = df[\"quality\"]\n",
    "clf = KNeighborsClassifier(n_neighbors=1, n_jobs=2)\n",
    "score = cross_val_score(clf, X, y, cv=5)\n",
    "print(np.mean(score))"
   ]
  },
  {
   "cell_type": "code",
   "execution_count": 139,
   "metadata": {},
   "outputs": [],
   "source": [
    "scores = [0.35017670917733074, 0.34081507127550487,0.4226129100846146,0.433206547944298,0.44704900421681765,\n",
    "         0.46209083676264145,0.4652375490281367,0.4514245083045928, 0.4703143299475375, 0.44647534947386014,\n",
    "         0.44646555265978405]"
   ]
  },
  {
   "cell_type": "code",
   "execution_count": 140,
   "metadata": {},
   "outputs": [
    {
     "data": {
      "text/plain": [
       "array([0.64982329, 0.65918493, 0.57738709, 0.56679345, 0.552951  ,\n",
       "       0.53790916, 0.53476245, 0.54857549, 0.52968567, 0.55352465,\n",
       "       0.55353445])"
      ]
     },
     "execution_count": 140,
     "metadata": {},
     "output_type": "execute_result"
    }
   ],
   "source": [
    "y = np.ones(len(scores)) - scores\n",
    "y"
   ]
  },
  {
   "cell_type": "code",
   "execution_count": 142,
   "metadata": {},
   "outputs": [
    {
     "data": {
      "image/png": "[encoded data removed]",
      "text/plain": [
       "<Figure size 504x288 with 1 Axes>"
      ]
     },
     "metadata": {},
     "output_type": "display_data"
    }
   ],
   "source": [
    "x = range(1, len(scores)+1)\n",
    "plt.figure(figsize=(7,4))\n",
    "ax = plt.axes()\n",
    "ax.spines['right'].set_visible(False)\n",
    "ax.spines['top'].set_visible(False)\n",
    "plt.title(\"Taxa de erro - DataSet Iris\", size=16)\n",
    "plt.grid()\n",
    "plt.xticks(x, range(1, len(scores)+1))\n",
    "#plt.yticks(np.arange(12))\n",
    "plt.plot(x,y, label=\"erro kfold=5\", color=\"green\")\n",
    "plt.xlabel(\"numero de atributos\", size=14)\n",
    "plt.ylabel(\"erro\", size=14)\n",
    "plt.legend();"
   ]
  },
  {
   "cell_type": "code",
   "execution_count": null,
   "metadata": {},
   "outputs": [],
   "source": []
  }
 ],
 "metadata": {
  "kernelspec": {
   "display_name": "Python 3",
   "language": "python",
   "name": "python3"
  },
  "language_info": {
   "codemirror_mode": {
    "name": "ipython",
    "version": 3
   },
   "file_extension": ".py",
   "mimetype": "text/x-python",
   "name": "python",
   "nbconvert_exporter": "python",
   "pygments_lexer": "ipython3",
   "version": "3.6.5"
  }
 },
 "nbformat": 4,
 "nbformat_minor": 2
}
