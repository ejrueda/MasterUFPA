{
 "cells": [
  {
   "cell_type": "code",
   "execution_count": 1,
   "metadata": {},
   "outputs": [],
   "source": [
    "import numpy as np\n",
    "import matplotlib.pyplot as plt\n",
    "%matplotlib inline"
   ]
  },
  {
   "cell_type": "markdown",
   "metadata": {},
   "source": [
    "1. (1.0 pt) Os dados abaixo se referem a taxas de colesterol total (mg/100ml) de 30\n",
    "indivı́duos. Utilize duas casas decimais para o cálculo."
   ]
  },
  {
   "cell_type": "code",
   "execution_count": 3,
   "metadata": {},
   "outputs": [
    {
     "data": {
      "text/plain": [
       "30"
      ]
     },
     "execution_count": 3,
     "metadata": {},
     "output_type": "execute_result"
    }
   ],
   "source": [
    "taxa_c = [140,160,168,180,180,180,180,184,185,190,190,\n",
    "         192,192,196,200,200,200,205,205,208,214,214,\n",
    "         220,220,225,230,240,260,280,315]\n",
    "\n",
    "len(taxa_c)"
   ]
  },
  {
   "cell_type": "markdown",
   "metadata": {},
   "source": [
    "#### 1 (a)\n",
    "- Montar uma tabela dem distribuição de frequência por intervalo para as taxas (utilize a regra de Sturges para calcular o número de classes - intervalos).\n",
    "- Regla de Sturges, #clases = 1 + 3.3*log(n)"
   ]
  },
  {
   "cell_type": "code",
   "execution_count": 20,
   "metadata": {},
   "outputs": [
    {
     "name": "stdout",
     "output_type": "stream",
     "text": [
      "Número de clases: 6.0\n"
     ]
    }
   ],
   "source": [
    "n = len(taxa_c)\n",
    "k = 1 + 3.3*np.log10(n)\n",
    "print(\"Número de clases:\", np.ceil(k))"
   ]
  },
  {
   "cell_type": "markdown",
   "metadata": {},
   "source": [
    "Calcule a amplitude do conjunto de dados L = x max -x min"
   ]
  },
  {
   "cell_type": "code",
   "execution_count": 41,
   "metadata": {},
   "outputs": [
    {
     "data": {
      "text/plain": [
       "(315, 140)"
      ]
     },
     "execution_count": 41,
     "metadata": {},
     "output_type": "execute_result"
    }
   ],
   "source": [
    "max(taxa_c) , min(taxa_c)"
   ]
  },
  {
   "cell_type": "code",
   "execution_count": 13,
   "metadata": {},
   "outputs": [
    {
     "name": "stdout",
     "output_type": "stream",
     "text": [
      "Amplitud:  175\n"
     ]
    }
   ],
   "source": [
    "L = max(taxa_c) - min(taxa_c)\n",
    "print(\"Amplitud: \", L)"
   ]
  },
  {
   "cell_type": "markdown",
   "metadata": {},
   "source": [
    "Largura de la clase: h = L/k"
   ]
  },
  {
   "cell_type": "code",
   "execution_count": 25,
   "metadata": {},
   "outputs": [
    {
     "name": "stdout",
     "output_type": "stream",
     "text": [
      "Largura de la clase:  29.79\n"
     ]
    }
   ],
   "source": [
    "h = L/k\n",
    "print(\"Largura de la clase: \", round(h,2))"
   ]
  },
  {
   "cell_type": "code",
   "execution_count": 32,
   "metadata": {},
   "outputs": [
    {
     "name": "stdout",
     "output_type": "stream",
     "text": [
      "140  ->  169.79\n",
      "169.79  ->  199.57999999999998\n",
      "199.58  ->  229.37\n",
      "229.37  ->  259.16\n",
      "259.16  ->  288.95000000000005\n",
      "288.95  ->  318.74\n"
     ]
    }
   ],
   "source": [
    "aux = min(taxa_c)\n",
    "for i in range(int(np.ceil(k))):\n",
    "    print(round(aux,2), \" -> \",aux + round(h,2))\n",
    "    aux = round(aux + round(h,2),2)"
   ]
  },
  {
   "cell_type": "code",
   "execution_count": 40,
   "metadata": {},
   "outputs": [
    {
     "data": {
      "text/plain": [
       "315.0"
      ]
     },
     "execution_count": 40,
     "metadata": {},
     "output_type": "execute_result"
    }
   ],
   "source": [
    "min(taxa_c) + k*h"
   ]
  },
  {
   "cell_type": "code",
   "execution_count": 60,
   "metadata": {
    "scrolled": true
   },
   "outputs": [
    {
     "data": {
      "text/plain": [
       "1"
      ]
     },
     "execution_count": 60,
     "metadata": {},
     "output_type": "execute_result"
    }
   ],
   "source": [
    "sum((np.array(taxa_c) >= 288.95) * (np.array(taxa_c) < 55555))"
   ]
  },
  {
   "cell_type": "code",
   "execution_count": 91,
   "metadata": {},
   "outputs": [
    {
     "data": {
      "image/png": "[encoded data removed]",
      "text/plain": [
       "<Figure size 720x360 with 1 Axes>"
      ]
     },
     "metadata": {},
     "output_type": "display_data"
    }
   ],
   "source": [
    "x = range(6)\n",
    "y = [3, 11, 11, 2, 2, 1]\n",
    "plt.figure(figsize=(10,5))\n",
    "ax = plt.axes()\n",
    "ax.spines['right'].set_visible(False)\n",
    "ax.spines['top'].set_visible(False)\n",
    "plt.title(\"Histograma\", size=16)\n",
    "plt.grid(axis=\"y\")\n",
    "plt.xticks(x, [\"[139 - 169.79)\",\"[169.79 – 199.58)\",\"[199.58 – 229.37)\",\"[229.37 – 259.16)\",\n",
    "               \"[259.16 – 288.95)\", \"[288.95 – 317.74)\"], rotation=10)\n",
    "plt.yticks(np.arange(12))\n",
    "plt.bar(x,y, label=\"cantidade\")\n",
    "plt.xlabel(\"Intervalos\", size=14)\n",
    "plt.legend();"
   ]
  },
  {
   "cell_type": "code",
   "execution_count": 96,
   "metadata": {},
   "outputs": [
    {
     "name": "stdout",
     "output_type": "stream",
     "text": [
      "Media:  205.1\n"
     ]
    }
   ],
   "source": [
    "print(\"Media: \", np.mean(taxa_c))"
   ]
  },
  {
   "cell_type": "code",
   "execution_count": 97,
   "metadata": {},
   "outputs": [
    {
     "data": {
      "text/plain": [
       "200.0"
      ]
     },
     "execution_count": 97,
     "metadata": {},
     "output_type": "execute_result"
    }
   ],
   "source": [
    "np.median(taxa_c)"
   ]
  },
  {
   "cell_type": "code",
   "execution_count": 99,
   "metadata": {},
   "outputs": [
    {
     "data": {
      "text/plain": [
       "1184.1566666666665"
      ]
     },
     "execution_count": 99,
     "metadata": {},
     "output_type": "execute_result"
    }
   ],
   "source": [
    "np.var(taxa_c)"
   ]
  },
  {
   "cell_type": "code",
   "execution_count": 130,
   "metadata": {},
   "outputs": [
    {
     "data": {
      "text/plain": [
       "34.999852216436764"
      ]
     },
     "execution_count": 130,
     "metadata": {},
     "output_type": "execute_result"
    }
   ],
   "source": [
    "(np.std(taxa_c, ddof=1))"
   ]
  },
  {
   "cell_type": "code",
   "execution_count": 129,
   "metadata": {},
   "outputs": [
    {
     "data": {
      "text/plain": [
       "34.999852216436764"
      ]
     },
     "execution_count": 129,
     "metadata": {},
     "output_type": "execute_result"
    }
   ],
   "source": [
    "np.sqrt(sum(((taxa_c - np.mean(taxa_c))**2)/29))"
   ]
  },
  {
   "cell_type": "markdown",
   "metadata": {},
   "source": [
    "#### 2. (1.5 pt)\n",
    "- Considere que os valores assumidos por um dado atributo numérico são lis-\n",
    "tados no vetor x = {1, 3, 2, 3, 2, 2, 0, 1, 0, 0, 3, 0, 2, 3, 2, 2, 3, 3, 0, 3, 2, 0} . a) Calcule o\n",
    "histograma de x (utilize o bom senso para definir o número de classes). b) Supondo\n",
    "que tais valores correspondem aos assumidos em um experimento por uma variável\n",
    "aleatória X, estime sua média E[X] = μ, E[X 2 ], variância σ x 2 , o desvio padrão σ x e o\n",
    "desvio médio absoluto. c) X é uma variável aleatórioa ou contı́nua?"
   ]
  },
  {
   "cell_type": "code",
   "execution_count": 131,
   "metadata": {},
   "outputs": [],
   "source": [
    "x = [1, 3, 2, 3, 2, 2, 0, 1, 0, 0, 3, 0, 2, 3, 2, 2, 3, 3, 0, 3, 2, 0]"
   ]
  },
  {
   "cell_type": "markdown",
   "metadata": {},
   "source": [
    "#### 3 clases me parece un buen senso"
   ]
  },
  {
   "cell_type": "code",
   "execution_count": 134,
   "metadata": {},
   "outputs": [
    {
     "name": "stdout",
     "output_type": "stream",
     "text": [
      "0  ->  1.0\n",
      "1.0  ->  2.0\n",
      "2.0  ->  3.0\n"
     ]
    }
   ],
   "source": [
    "k=3\n",
    "L = max(x) - min(x)\n",
    "h = L/k\n",
    "\n",
    "aux = min(x)\n",
    "for i in range(int(np.ceil(k))):\n",
    "    print(round(aux,2), \" -> \",aux + round(h,2))\n",
    "    aux = round(aux + round(h,2),2)"
   ]
  },
  {
   "cell_type": "code",
   "execution_count": 153,
   "metadata": {},
   "outputs": [
    {
     "data": {
      "text/plain": [
       "[1, 3, 2, 3, 2, 2, 0, 1, 0, 0, 3, 0, 2, 3, 2, 2, 3, 3, 0, 3, 2, 0]"
      ]
     },
     "execution_count": 153,
     "metadata": {},
     "output_type": "execute_result"
    }
   ],
   "source": [
    "x"
   ]
  },
  {
   "cell_type": "code",
   "execution_count": 154,
   "metadata": {},
   "outputs": [
    {
     "data": {
      "image/png": "[encoded data removed]",
      "text/plain": [
       "<Figure size 576x360 with 1 Axes>"
      ]
     },
     "metadata": {},
     "output_type": "display_data"
    }
   ],
   "source": [
    "x1 = range(3)\n",
    "y1 = [6, 2, 14]\n",
    "plt.figure(figsize=(8,5))\n",
    "ax = plt.axes()\n",
    "ax.spines['right'].set_visible(False)\n",
    "ax.spines['top'].set_visible(False)\n",
    "plt.title(\"Histograma\", size=16)\n",
    "plt.grid(axis=\"y\")\n",
    "plt.xticks(x1, [\"[0 - 1)\",\"[1 – 2)\",\"[2 – 3)\"])\n",
    "#plt.yticks(np.arange(12))\n",
    "plt.bar(x1,y1, label=\"cantidade\", color=\"green\", width=0.4)\n",
    "plt.xlabel(\"Intervalos - classes\", size=14)\n",
    "plt.legend();"
   ]
  },
  {
   "cell_type": "markdown",
   "metadata": {},
   "source": [
    "b) Supondo que tais valores correspondem aos assumidos em um experimento por uma variável aleatória X, estime sua média E[X] = μ, E[X 2 ], variância σ x 2 , o desvio padrão σ x e o desvio médio absoluto."
   ]
  },
  {
   "cell_type": "code",
   "execution_count": 200,
   "metadata": {},
   "outputs": [],
   "source": [
    "b = (sum(np.array(x)==0)/len(x))*0 +(sum(np.array(x)==1)/len(x))*1 + (sum(np.array(x)==2)/len(x))*4 + (sum(np.array(x)==3)/len(x))*9"
   ]
  },
  {
   "cell_type": "code",
   "execution_count": 208,
   "metadata": {},
   "outputs": [
    {
     "data": {
      "text/plain": [
       "1.6818181818181819"
      ]
     },
     "execution_count": 208,
     "metadata": {},
     "output_type": "execute_result"
    }
   ],
   "source": [
    "np.mean(x)"
   ]
  },
  {
   "cell_type": "code",
   "execution_count": 213,
   "metadata": {},
   "outputs": [
    {
     "data": {
      "text/plain": [
       "1.0413223140495866"
      ]
     },
     "execution_count": 213,
     "metadata": {},
     "output_type": "execute_result"
    }
   ],
   "source": [
    "sum(abs(x - np.mean(x)))/len(x)"
   ]
  },
  {
   "cell_type": "code",
   "execution_count": null,
   "metadata": {},
   "outputs": [],
   "source": []
  },
  {
   "cell_type": "code",
   "execution_count": null,
   "metadata": {},
   "outputs": [],
   "source": []
  },
  {
   "cell_type": "code",
   "execution_count": null,
   "metadata": {},
   "outputs": [],
   "source": []
  }
 ],
 "metadata": {
  "kernelspec": {
   "display_name": "Python 3",
   "language": "python",
   "name": "python3"
  },
  "language_info": {
   "codemirror_mode": {
    "name": "ipython",
    "version": 3
   },
   "file_extension": ".py",
   "mimetype": "text/x-python",
   "name": "python",
   "nbconvert_exporter": "python",
   "pygments_lexer": "ipython3",
   "version": "3.6.5"
  }
 },
 "nbformat": 4,
 "nbformat_minor": 2
}
