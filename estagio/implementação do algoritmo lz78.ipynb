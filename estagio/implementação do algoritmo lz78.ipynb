{
 "cells": [
  {
   "cell_type": "code",
   "execution_count": 289,
   "metadata": {},
   "outputs": [],
   "source": [
    "class lz78():\n",
    "    ############ ENCODING ###########\n",
    "    def encoding(self, text):\n",
    "        \"\"\"Compress a string to a list of output symbols.\"\"\"\n",
    "        l_c = list(text)\n",
    "        d = dict()\n",
    "        count = 1\n",
    "        i = 0\n",
    "        result = []\n",
    "        flag = True\n",
    "        for idx in range(len(l_c)):\n",
    "            w = l_c[i]\n",
    "            if w not in d.values() or i==(len(l_c)-1):\n",
    "                d[count] = w\n",
    "                count +=1\n",
    "                i += 1\n",
    "                result.append([0,w])\n",
    "            else:\n",
    "                i += 1\n",
    "                w = w + l_c[i]\n",
    "                while(w in d.values() and (i==(len(l_c)))):\n",
    "                    i += 1\n",
    "                    w = w + l_c[i]\n",
    "                d[count] = w\n",
    "                count +=1\n",
    "                key = list(d.keys())[list(d.values()).index(w[:-1])]\n",
    "                result.append([key,w[-1]])\n",
    "                i += 1\n",
    "            if i>=len(l_c):\n",
    "                break\n",
    "        return result\n",
    "    \n",
    "    ########## DECODING ############\n",
    "    def decoding(self, lista_chaves):\n",
    "        result = \"\"\n",
    "        d = dict()\n",
    "        count = 1\n",
    "        for key, val in lista_chaves:\n",
    "            if key == 0:\n",
    "                d[count] = val\n",
    "                count += 1\n",
    "                result += val\n",
    "            else:\n",
    "                w = d[key] + val\n",
    "                result += w\n",
    "                d[count] = w\n",
    "                count += 1\n",
    "        return result"
   ]
  },
  {
   "cell_type": "code",
   "execution_count": 299,
   "metadata": {},
   "outputs": [
    {
     "data": {
      "text/plain": [
       "[[0, 'o'],\n",
       " [0, 's'],\n",
       " [0, ' '],\n",
       " [0, 't'],\n",
       " [0, 'e'],\n",
       " [2, 't'],\n",
       " [5, 's'],\n",
       " [3, 's'],\n",
       " [0, 'ã'],\n",
       " [1, ' '],\n",
       " [0, 'f'],\n",
       " [5, 'i'],\n",
       " [4, 'o'],\n",
       " [2, ' '],\n",
       " [0, 'p'],\n",
       " [0, 'a'],\n",
       " [0, 'r'],\n",
       " [16, ' '],\n",
       " [4, 'e'],\n",
       " [2, 't'],\n",
       " [16, 'r']]"
      ]
     },
     "execution_count": 299,
     "metadata": {},
     "output_type": "execute_result"
    }
   ],
   "source": [
    "obj = lz78()\n",
    "text = \"os testes são feitos para testar\"\n",
    "l_e = obj.encoding(text)\n",
    "l_e"
   ]
  },
  {
   "cell_type": "code",
   "execution_count": 300,
   "metadata": {},
   "outputs": [
    {
     "name": "stdout",
     "output_type": "stream",
     "text": [
      "os testes são feitos para testar\n"
     ]
    }
   ],
   "source": [
    "print(obj.decoding(l_e))"
   ]
  },
  {
   "cell_type": "code",
   "execution_count": null,
   "metadata": {},
   "outputs": [],
   "source": []
  }
 ],
 "metadata": {
  "kernelspec": {
   "display_name": "Python 3",
   "language": "python",
   "name": "python3"
  },
  "language_info": {
   "codemirror_mode": {
    "name": "ipython",
    "version": 3
   },
   "file_extension": ".py",
   "mimetype": "text/x-python",
   "name": "python",
   "nbconvert_exporter": "python",
   "pygments_lexer": "ipython3",
   "version": "3.6.8"
  }
 },
 "nbformat": 4,
 "nbformat_minor": 2
}
