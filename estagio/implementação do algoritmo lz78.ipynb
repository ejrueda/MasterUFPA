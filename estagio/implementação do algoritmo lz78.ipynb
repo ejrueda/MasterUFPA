{
 "cells": [
  {
   "cell_type": "code",
   "execution_count": 5,
   "metadata": {},
   "outputs": [
    {
     "name": "stdout",
     "output_type": "stream",
     "text": [
      "[[0, 'a'], [0, 'b'], [2, 'b'], [1, 'b'], [2, 'b'], [0, 'r'], [0, 'c'], [1, 'a'], [1, 'r'], [7, 'a'], [0, 'b']]\n",
      "abbbabbbrcaaarcab\n"
     ]
    }
   ],
   "source": [
    "class lz78():\n",
    "    ############ ENCODING ###########\n",
    "    def encoding(self, text):\n",
    "        \"\"\"Compress a string to a list of output symbols.\"\"\"\n",
    "        l_c = list(text)\n",
    "        d = dict()\n",
    "        count = 1\n",
    "        i = 0\n",
    "        result = []\n",
    "        for idx in range(len(l_c)):\n",
    "            w = l_c[i]\n",
    "            if w not in d.values() or i==(len(l_c)-1):\n",
    "                d[count] = w\n",
    "                count +=1\n",
    "                i += 1\n",
    "                result.append([0,w])\n",
    "            else:\n",
    "                i += 1\n",
    "                w = w + l_c[i]\n",
    "                while(w in d.values() and (i==(len(l_c)))):\n",
    "                    i += 1\n",
    "                    w = w + l_c[i]\n",
    "                d[count] = w\n",
    "                count +=1\n",
    "                key = list(d.keys())[list(d.values()).index(w[:-1])]\n",
    "                result.append([key,w[-1]])\n",
    "                i += 1\n",
    "            if i>=len(l_c):\n",
    "                break\n",
    "        return result\n",
    "    \n",
    "    ########## DECODING ############\n",
    "    def decoding(self, lista_chaves):\n",
    "        result = \"\"\n",
    "        d = dict()\n",
    "        count = 1\n",
    "        for key, val in lista_chaves:\n",
    "            if key == 0:\n",
    "                d[count] = val\n",
    "                count += 1\n",
    "                result += val\n",
    "            else:\n",
    "                w = d[key] + val\n",
    "                result += w\n",
    "                d[count] = w\n",
    "                count += 1\n",
    "        return result\n",
    "    \n",
    "obj = lz78()\n",
    "text = \"abbbabbbrcaaarcab\"\n",
    "l_e = obj.encoding(text)\n",
    "print(l_e)\n",
    "print(obj.decoding(l_e))"
   ]
  }
 ],
 "metadata": {
  "kernelspec": {
   "display_name": "Python 3",
   "language": "python",
   "name": "python3"
  },
  "language_info": {
   "codemirror_mode": {
    "name": "ipython",
    "version": 3
   },
   "file_extension": ".py",
   "mimetype": "text/x-python",
   "name": "python",
   "nbconvert_exporter": "python",
   "pygments_lexer": "ipython3",
   "version": "3.6.8"
  }
 },
 "nbformat": 4,
 "nbformat_minor": 2
}
