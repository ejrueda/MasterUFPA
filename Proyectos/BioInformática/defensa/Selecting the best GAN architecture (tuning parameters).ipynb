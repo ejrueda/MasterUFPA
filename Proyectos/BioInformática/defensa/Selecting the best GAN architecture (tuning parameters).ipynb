{
 "cells": [
  {
   "cell_type": "markdown",
   "metadata": {},
   "source": []
  },
  {
   "cell_type": "markdown",
   "metadata": {},
   "source": [
    "<center> <h1> Selecting the best GAN architecture (tunning parameters)</h1>\n",
    "\n",
    "<b>Autor:</b> Edwin Rueda <br>\n",
    "<b>email:</b> ejrueda95g@gmail.com <br>\n",
    "<b>github:</b> https://github.com/ejrueda <br>\n",
    "<b>website:</b> http://edwinrueda.com/ <br>\n",
    "<b> You can cite this work with</b>:\n",
    "\n",
    "@software{edwin_rueda_2020_3843381,<br>\n",
    "  author       = {Edwin Rueda},<br>\n",
    "  title        = {ejrueda/MasterUFPA: zenodo release},<br>\n",
    "  month        = may,<br>\n",
    "  year         = 2020,<br>\n",
    "  publisher    = {Zenodo},<br>\n",
    "  version      = {zenodo},<br>\n",
    "  doi          = {10.5281/zenodo.3843381},<br>\n",
    "  url          = {https://doi.org/10.5281/zenodo.3843381}<br>\n",
    "}"
   ]
  },
  {
   "cell_type": "code",
   "execution_count": 1,
   "metadata": {},
   "outputs": [
    {
     "data": {
      "text/html": [
       "\n",
       "    <div class=\"bk-root\">\n",
       "        <a href=\"https://bokeh.org\" target=\"_blank\" class=\"bk-logo bk-logo-small bk-logo-notebook\"></a>\n",
       "        <span id=\"1001\">Loading BokehJS ...</span>\n",
       "    </div>"
      ]
     },
     "metadata": {},
     "output_type": "display_data"
    },
    {
     "data": {
      "application/javascript": [
       "\n",
       "(function(root) {\n",
       "  function now() {\n",
       "    return new Date();\n",
       "  }\n",
       "\n",
       "  var force = true;\n",
       "\n",
       "  if (typeof root._bokeh_onload_callbacks === \"undefined\" || force === true) {\n",
       "    root._bokeh_onload_callbacks = [];\n",
       "    root._bokeh_is_loading = undefined;\n",
       "  }\n",
       "\n",
       "  var JS_MIME_TYPE = 'application/javascript';\n",
       "  var HTML_MIME_TYPE = 'text/html';\n",
       "  var EXEC_MIME_TYPE = 'application/vnd.bokehjs_exec.v0+json';\n",
       "  var CLASS_NAME = 'output_bokeh rendered_html';\n",
       "\n",
       "  /**\n",
       "   * Render data to the DOM node\n",
       "   */\n",
       "  function render(props, node) {\n",
       "    var script = document.createElement(\"script\");\n",
       "    node.appendChild(script);\n",
       "  }\n",
       "\n",
       "  /**\n",
       "   * Handle when an output is cleared or removed\n",
       "   */\n",
       "  function handleClearOutput(event, handle) {\n",
       "    var cell = handle.cell;\n",
       "\n",
       "    var id = cell.output_area._bokeh_element_id;\n",
       "    var server_id = cell.output_area._bokeh_server_id;\n",
       "    // Clean up Bokeh references\n",
       "    if (id != null && id in Bokeh.index) {\n",
       "      Bokeh.index[id].model.document.clear();\n",
       "      delete Bokeh.index[id];\n",
       "    }\n",
       "\n",
       "    if (server_id !== undefined) {\n",
       "      // Clean up Bokeh references\n",
       "      var cmd = \"from bokeh.io.state import curstate; print(curstate().uuid_to_server['\" + server_id + \"'].get_sessions()[0].document.roots[0]._id)\";\n",
       "      cell.notebook.kernel.execute(cmd, {\n",
       "        iopub: {\n",
       "          output: function(msg) {\n",
       "            var id = msg.content.text.trim();\n",
       "            if (id in Bokeh.index) {\n",
       "              Bokeh.index[id].model.document.clear();\n",
       "              delete Bokeh.index[id];\n",
       "            }\n",
       "          }\n",
       "        }\n",
       "      });\n",
       "      // Destroy server and session\n",
       "      var cmd = \"import bokeh.io.notebook as ion; ion.destroy_server('\" + server_id + \"')\";\n",
       "      cell.notebook.kernel.execute(cmd);\n",
       "    }\n",
       "  }\n",
       "\n",
       "  /**\n",
       "   * Handle when a new output is added\n",
       "   */\n",
       "  function handleAddOutput(event, handle) {\n",
       "    var output_area = handle.output_area;\n",
       "    var output = handle.output;\n",
       "\n",
       "    // limit handleAddOutput to display_data with EXEC_MIME_TYPE content only\n",
       "    if ((output.output_type != \"display_data\") || (!output.data.hasOwnProperty(EXEC_MIME_TYPE))) {\n",
       "      return\n",
       "    }\n",
       "\n",
       "    var toinsert = output_area.element.find(\".\" + CLASS_NAME.split(' ')[0]);\n",
       "\n",
       "    if (output.metadata[EXEC_MIME_TYPE][\"id\"] !== undefined) {\n",
       "      toinsert[toinsert.length - 1].firstChild.textContent = output.data[JS_MIME_TYPE];\n",
       "      // store reference to embed id on output_area\n",
       "      output_area._bokeh_element_id = output.metadata[EXEC_MIME_TYPE][\"id\"];\n",
       "    }\n",
       "    if (output.metadata[EXEC_MIME_TYPE][\"server_id\"] !== undefined) {\n",
       "      var bk_div = document.createElement(\"div\");\n",
       "      bk_div.innerHTML = output.data[HTML_MIME_TYPE];\n",
       "      var script_attrs = bk_div.children[0].attributes;\n",
       "      for (var i = 0; i < script_attrs.length; i++) {\n",
       "        toinsert[toinsert.length - 1].firstChild.setAttribute(script_attrs[i].name, script_attrs[i].value);\n",
       "      }\n",
       "      // store reference to server id on output_area\n",
       "      output_area._bokeh_server_id = output.metadata[EXEC_MIME_TYPE][\"server_id\"];\n",
       "    }\n",
       "  }\n",
       "\n",
       "  function register_renderer(events, OutputArea) {\n",
       "\n",
       "    function append_mime(data, metadata, element) {\n",
       "      // create a DOM node to render to\n",
       "      var toinsert = this.create_output_subarea(\n",
       "        metadata,\n",
       "        CLASS_NAME,\n",
       "        EXEC_MIME_TYPE\n",
       "      );\n",
       "      this.keyboard_manager.register_events(toinsert);\n",
       "      // Render to node\n",
       "      var props = {data: data, metadata: metadata[EXEC_MIME_TYPE]};\n",
       "      render(props, toinsert[toinsert.length - 1]);\n",
       "      element.append(toinsert);\n",
       "      return toinsert\n",
       "    }\n",
       "\n",
       "    /* Handle when an output is cleared or removed */\n",
       "    events.on('clear_output.CodeCell', handleClearOutput);\n",
       "    events.on('delete.Cell', handleClearOutput);\n",
       "\n",
       "    /* Handle when a new output is added */\n",
       "    events.on('output_added.OutputArea', handleAddOutput);\n",
       "\n",
       "    /**\n",
       "     * Register the mime type and append_mime function with output_area\n",
       "     */\n",
       "    OutputArea.prototype.register_mime_type(EXEC_MIME_TYPE, append_mime, {\n",
       "      /* Is output safe? */\n",
       "      safe: true,\n",
       "      /* Index of renderer in `output_area.display_order` */\n",
       "      index: 0\n",
       "    });\n",
       "  }\n",
       "\n",
       "  // register the mime type if in Jupyter Notebook environment and previously unregistered\n",
       "  if (root.Jupyter !== undefined) {\n",
       "    var events = require('base/js/events');\n",
       "    var OutputArea = require('notebook/js/outputarea').OutputArea;\n",
       "\n",
       "    if (OutputArea.prototype.mime_types().indexOf(EXEC_MIME_TYPE) == -1) {\n",
       "      register_renderer(events, OutputArea);\n",
       "    }\n",
       "  }\n",
       "\n",
       "  \n",
       "  if (typeof (root._bokeh_timeout) === \"undefined\" || force === true) {\n",
       "    root._bokeh_timeout = Date.now() + 5000;\n",
       "    root._bokeh_failed_load = false;\n",
       "  }\n",
       "\n",
       "  var NB_LOAD_WARNING = {'data': {'text/html':\n",
       "     \"<div style='background-color: #fdd'>\\n\"+\n",
       "     \"<p>\\n\"+\n",
       "     \"BokehJS does not appear to have successfully loaded. If loading BokehJS from CDN, this \\n\"+\n",
       "     \"may be due to a slow or bad network connection. Possible fixes:\\n\"+\n",
       "     \"</p>\\n\"+\n",
       "     \"<ul>\\n\"+\n",
       "     \"<li>re-rerun `output_notebook()` to attempt to load from CDN again, or</li>\\n\"+\n",
       "     \"<li>use INLINE resources instead, as so:</li>\\n\"+\n",
       "     \"</ul>\\n\"+\n",
       "     \"<code>\\n\"+\n",
       "     \"from bokeh.resources import INLINE\\n\"+\n",
       "     \"output_notebook(resources=INLINE)\\n\"+\n",
       "     \"</code>\\n\"+\n",
       "     \"</div>\"}};\n",
       "\n",
       "  function display_loaded() {\n",
       "    var el = document.getElementById(\"1001\");\n",
       "    if (el != null) {\n",
       "      el.textContent = \"BokehJS is loading...\";\n",
       "    }\n",
       "    if (root.Bokeh !== undefined) {\n",
       "      if (el != null) {\n",
       "        el.textContent = \"BokehJS \" + root.Bokeh.version + \" successfully loaded.\";\n",
       "      }\n",
       "    } else if (Date.now() < root._bokeh_timeout) {\n",
       "      setTimeout(display_loaded, 100)\n",
       "    }\n",
       "  }\n",
       "\n",
       "\n",
       "  function run_callbacks() {\n",
       "    try {\n",
       "      root._bokeh_onload_callbacks.forEach(function(callback) {\n",
       "        if (callback != null)\n",
       "          callback();\n",
       "      });\n",
       "    } finally {\n",
       "      delete root._bokeh_onload_callbacks\n",
       "    }\n",
       "    console.debug(\"Bokeh: all callbacks have finished\");\n",
       "  }\n",
       "\n",
       "  function load_libs(css_urls, js_urls, callback) {\n",
       "    if (css_urls == null) css_urls = [];\n",
       "    if (js_urls == null) js_urls = [];\n",
       "\n",
       "    root._bokeh_onload_callbacks.push(callback);\n",
       "    if (root._bokeh_is_loading > 0) {\n",
       "      console.debug(\"Bokeh: BokehJS is being loaded, scheduling callback at\", now());\n",
       "      return null;\n",
       "    }\n",
       "    if (js_urls == null || js_urls.length === 0) {\n",
       "      run_callbacks();\n",
       "      return null;\n",
       "    }\n",
       "    console.debug(\"Bokeh: BokehJS not loaded, scheduling load and callback at\", now());\n",
       "    root._bokeh_is_loading = css_urls.length + js_urls.length;\n",
       "\n",
       "    function on_load() {\n",
       "      root._bokeh_is_loading--;\n",
       "      if (root._bokeh_is_loading === 0) {\n",
       "        console.debug(\"Bokeh: all BokehJS libraries/stylesheets loaded\");\n",
       "        run_callbacks()\n",
       "      }\n",
       "    }\n",
       "\n",
       "    function on_error() {\n",
       "      console.error(\"failed to load \" + url);\n",
       "    }\n",
       "\n",
       "    for (var i = 0; i < css_urls.length; i++) {\n",
       "      var url = css_urls[i];\n",
       "      const element = document.createElement(\"link\");\n",
       "      element.onload = on_load;\n",
       "      element.onerror = on_error;\n",
       "      element.rel = \"stylesheet\";\n",
       "      element.type = \"text/css\";\n",
       "      element.href = url;\n",
       "      console.debug(\"Bokeh: injecting link tag for BokehJS stylesheet: \", url);\n",
       "      document.body.appendChild(element);\n",
       "    }\n",
       "\n",
       "    for (var i = 0; i < js_urls.length; i++) {\n",
       "      var url = js_urls[i];\n",
       "      var element = document.createElement('script');\n",
       "      element.onload = on_load;\n",
       "      element.onerror = on_error;\n",
       "      element.async = false;\n",
       "      element.src = url;\n",
       "      console.debug(\"Bokeh: injecting script tag for BokehJS library: \", url);\n",
       "      document.head.appendChild(element);\n",
       "    }\n",
       "  };var element = document.getElementById(\"1001\");\n",
       "  if (element == null) {\n",
       "    console.error(\"Bokeh: ERROR: autoload.js configured with elementid '1001' but no matching script tag was found. \")\n",
       "    return false;\n",
       "  }\n",
       "\n",
       "  function inject_raw_css(css) {\n",
       "    const element = document.createElement(\"style\");\n",
       "    element.appendChild(document.createTextNode(css));\n",
       "    document.body.appendChild(element);\n",
       "  }\n",
       "\n",
       "  \n",
       "  var js_urls = [\"https://cdn.pydata.org/bokeh/release/bokeh-1.4.0.min.js\", \"https://cdn.pydata.org/bokeh/release/bokeh-widgets-1.4.0.min.js\", \"https://cdn.pydata.org/bokeh/release/bokeh-tables-1.4.0.min.js\", \"https://cdn.pydata.org/bokeh/release/bokeh-gl-1.4.0.min.js\"];\n",
       "  var css_urls = [];\n",
       "  \n",
       "\n",
       "  var inline_js = [\n",
       "    function(Bokeh) {\n",
       "      Bokeh.set_log_level(\"info\");\n",
       "    },\n",
       "    function(Bokeh) {\n",
       "    \n",
       "    \n",
       "    }\n",
       "  ];\n",
       "\n",
       "  function run_inline_js() {\n",
       "    \n",
       "    if (root.Bokeh !== undefined || force === true) {\n",
       "      \n",
       "    for (var i = 0; i < inline_js.length; i++) {\n",
       "      inline_js[i].call(root, root.Bokeh);\n",
       "    }\n",
       "    if (force === true) {\n",
       "        display_loaded();\n",
       "      }} else if (Date.now() < root._bokeh_timeout) {\n",
       "      setTimeout(run_inline_js, 100);\n",
       "    } else if (!root._bokeh_failed_load) {\n",
       "      console.log(\"Bokeh: BokehJS failed to load within specified timeout.\");\n",
       "      root._bokeh_failed_load = true;\n",
       "    } else if (force !== true) {\n",
       "      var cell = $(document.getElementById(\"1001\")).parents('.cell').data().cell;\n",
       "      cell.output_area.append_execute_result(NB_LOAD_WARNING)\n",
       "    }\n",
       "\n",
       "  }\n",
       "\n",
       "  if (root._bokeh_is_loading === 0) {\n",
       "    console.debug(\"Bokeh: BokehJS loaded, going straight to plotting\");\n",
       "    run_inline_js();\n",
       "  } else {\n",
       "    load_libs(css_urls, js_urls, function() {\n",
       "      console.debug(\"Bokeh: BokehJS plotting callback run at\", now());\n",
       "      run_inline_js();\n",
       "    });\n",
       "  }\n",
       "}(window));"
      ],
      "application/vnd.bokehjs_load.v0+json": "\n(function(root) {\n  function now() {\n    return new Date();\n  }\n\n  var force = true;\n\n  if (typeof root._bokeh_onload_callbacks === \"undefined\" || force === true) {\n    root._bokeh_onload_callbacks = [];\n    root._bokeh_is_loading = undefined;\n  }\n\n  \n\n  \n  if (typeof (root._bokeh_timeout) === \"undefined\" || force === true) {\n    root._bokeh_timeout = Date.now() + 5000;\n    root._bokeh_failed_load = false;\n  }\n\n  var NB_LOAD_WARNING = {'data': {'text/html':\n     \"<div style='background-color: #fdd'>\\n\"+\n     \"<p>\\n\"+\n     \"BokehJS does not appear to have successfully loaded. If loading BokehJS from CDN, this \\n\"+\n     \"may be due to a slow or bad network connection. Possible fixes:\\n\"+\n     \"</p>\\n\"+\n     \"<ul>\\n\"+\n     \"<li>re-rerun `output_notebook()` to attempt to load from CDN again, or</li>\\n\"+\n     \"<li>use INLINE resources instead, as so:</li>\\n\"+\n     \"</ul>\\n\"+\n     \"<code>\\n\"+\n     \"from bokeh.resources import INLINE\\n\"+\n     \"output_notebook(resources=INLINE)\\n\"+\n     \"</code>\\n\"+\n     \"</div>\"}};\n\n  function display_loaded() {\n    var el = document.getElementById(\"1001\");\n    if (el != null) {\n      el.textContent = \"BokehJS is loading...\";\n    }\n    if (root.Bokeh !== undefined) {\n      if (el != null) {\n        el.textContent = \"BokehJS \" + root.Bokeh.version + \" successfully loaded.\";\n      }\n    } else if (Date.now() < root._bokeh_timeout) {\n      setTimeout(display_loaded, 100)\n    }\n  }\n\n\n  function run_callbacks() {\n    try {\n      root._bokeh_onload_callbacks.forEach(function(callback) {\n        if (callback != null)\n          callback();\n      });\n    } finally {\n      delete root._bokeh_onload_callbacks\n    }\n    console.debug(\"Bokeh: all callbacks have finished\");\n  }\n\n  function load_libs(css_urls, js_urls, callback) {\n    if (css_urls == null) css_urls = [];\n    if (js_urls == null) js_urls = [];\n\n    root._bokeh_onload_callbacks.push(callback);\n    if (root._bokeh_is_loading > 0) {\n      console.debug(\"Bokeh: BokehJS is being loaded, scheduling callback at\", now());\n      return null;\n    }\n    if (js_urls == null || js_urls.length === 0) {\n      run_callbacks();\n      return null;\n    }\n    console.debug(\"Bokeh: BokehJS not loaded, scheduling load and callback at\", now());\n    root._bokeh_is_loading = css_urls.length + js_urls.length;\n\n    function on_load() {\n      root._bokeh_is_loading--;\n      if (root._bokeh_is_loading === 0) {\n        console.debug(\"Bokeh: all BokehJS libraries/stylesheets loaded\");\n        run_callbacks()\n      }\n    }\n\n    function on_error() {\n      console.error(\"failed to load \" + url);\n    }\n\n    for (var i = 0; i < css_urls.length; i++) {\n      var url = css_urls[i];\n      const element = document.createElement(\"link\");\n      element.onload = on_load;\n      element.onerror = on_error;\n      element.rel = \"stylesheet\";\n      element.type = \"text/css\";\n      element.href = url;\n      console.debug(\"Bokeh: injecting link tag for BokehJS stylesheet: \", url);\n      document.body.appendChild(element);\n    }\n\n    for (var i = 0; i < js_urls.length; i++) {\n      var url = js_urls[i];\n      var element = document.createElement('script');\n      element.onload = on_load;\n      element.onerror = on_error;\n      element.async = false;\n      element.src = url;\n      console.debug(\"Bokeh: injecting script tag for BokehJS library: \", url);\n      document.head.appendChild(element);\n    }\n  };var element = document.getElementById(\"1001\");\n  if (element == null) {\n    console.error(\"Bokeh: ERROR: autoload.js configured with elementid '1001' but no matching script tag was found. \")\n    return false;\n  }\n\n  function inject_raw_css(css) {\n    const element = document.createElement(\"style\");\n    element.appendChild(document.createTextNode(css));\n    document.body.appendChild(element);\n  }\n\n  \n  var js_urls = [\"https://cdn.pydata.org/bokeh/release/bokeh-1.4.0.min.js\", \"https://cdn.pydata.org/bokeh/release/bokeh-widgets-1.4.0.min.js\", \"https://cdn.pydata.org/bokeh/release/bokeh-tables-1.4.0.min.js\", \"https://cdn.pydata.org/bokeh/release/bokeh-gl-1.4.0.min.js\"];\n  var css_urls = [];\n  \n\n  var inline_js = [\n    function(Bokeh) {\n      Bokeh.set_log_level(\"info\");\n    },\n    function(Bokeh) {\n    \n    \n    }\n  ];\n\n  function run_inline_js() {\n    \n    if (root.Bokeh !== undefined || force === true) {\n      \n    for (var i = 0; i < inline_js.length; i++) {\n      inline_js[i].call(root, root.Bokeh);\n    }\n    if (force === true) {\n        display_loaded();\n      }} else if (Date.now() < root._bokeh_timeout) {\n      setTimeout(run_inline_js, 100);\n    } else if (!root._bokeh_failed_load) {\n      console.log(\"Bokeh: BokehJS failed to load within specified timeout.\");\n      root._bokeh_failed_load = true;\n    } else if (force !== true) {\n      var cell = $(document.getElementById(\"1001\")).parents('.cell').data().cell;\n      cell.output_area.append_execute_result(NB_LOAD_WARNING)\n    }\n\n  }\n\n  if (root._bokeh_is_loading === 0) {\n    console.debug(\"Bokeh: BokehJS loaded, going straight to plotting\");\n    run_inline_js();\n  } else {\n    load_libs(css_urls, js_urls, function() {\n      console.debug(\"Bokeh: BokehJS plotting callback run at\", now());\n      run_inline_js();\n    });\n  }\n}(window));"
     },
     "metadata": {},
     "output_type": "display_data"
    },
    {
     "name": "stdout",
     "output_type": "stream",
     "text": [
      "tensorflow version:  2.3.1\n",
      "numpy version:  1.18.1\n",
      "matplotlib version:  3.1.1\n",
      "sklearn version:  0.23.2\n"
     ]
    }
   ],
   "source": [
    "from utilities import EdwinRueda_utils\n",
    "import tensorflow as tf\n",
    "import numpy as np\n",
    "import pandas as pd\n",
    "from time import time\n",
    "import matplotlib\n",
    "import sklearn\n",
    "import matplotlib.pyplot as plt\n",
    "from sklearn.metrics import precision_score, recall_score\n",
    "from sklearn.decomposition import PCA\n",
    "tf.keras.backend.set_floatx('float64')\n",
    "from tensorflow.keras.layers import Dense, Dropout\n",
    "from tensorflow.keras.models import Sequential\n",
    "from bokeh.plotting import figure, show\n",
    "from bokeh.io import output_notebook, export_svgs\n",
    "from bokeh.transform import jitter\n",
    "from bokeh.models import ColumnDataSource, FactorRange\n",
    "%matplotlib inline\n",
    "output_notebook()\n",
    "print(\"tensorflow version: \", tf.__version__)\n",
    "print(\"numpy version: \", np.__version__)\n",
    "print(\"matplotlib version: \", matplotlib.__version__)\n",
    "print(\"sklearn version: \", sklearn.__version__)"
   ]
  },
  {
   "cell_type": "code",
   "execution_count": 2,
   "metadata": {},
   "outputs": [
    {
     "data": {
      "text/html": [
       "<div>\n",
       "<style scoped>\n",
       "    .dataframe tbody tr th:only-of-type {\n",
       "        vertical-align: middle;\n",
       "    }\n",
       "\n",
       "    .dataframe tbody tr th {\n",
       "        vertical-align: top;\n",
       "    }\n",
       "\n",
       "    .dataframe thead th {\n",
       "        text-align: right;\n",
       "    }\n",
       "</style>\n",
       "<table border=\"1\" class=\"dataframe\">\n",
       "  <thead>\n",
       "    <tr style=\"text-align: right;\">\n",
       "      <th></th>\n",
       "      <th>BB9</th>\n",
       "      <th>BB10</th>\n",
       "      <th>BB17</th>\n",
       "      <th>BB19</th>\n",
       "      <th>BB20</th>\n",
       "      <th>BB21</th>\n",
       "      <th>BB11</th>\n",
       "      <th>BB12</th>\n",
       "      <th>BB18</th>\n",
       "    </tr>\n",
       "    <tr>\n",
       "      <th>gene</th>\n",
       "      <th></th>\n",
       "      <th></th>\n",
       "      <th></th>\n",
       "      <th></th>\n",
       "      <th></th>\n",
       "      <th></th>\n",
       "      <th></th>\n",
       "      <th></th>\n",
       "      <th></th>\n",
       "    </tr>\n",
       "  </thead>\n",
       "  <tbody>\n",
       "    <tr>\n",
       "      <th>aaeA</th>\n",
       "      <td>5.542667</td>\n",
       "      <td>5.876225</td>\n",
       "      <td>5.189101</td>\n",
       "      <td>6.178741</td>\n",
       "      <td>6.258982</td>\n",
       "      <td>5.921482</td>\n",
       "      <td>6.565341</td>\n",
       "      <td>6.308676</td>\n",
       "      <td>6.256590</td>\n",
       "    </tr>\n",
       "    <tr>\n",
       "      <th>aaeB</th>\n",
       "      <td>5.627977</td>\n",
       "      <td>5.436188</td>\n",
       "      <td>5.397088</td>\n",
       "      <td>5.493631</td>\n",
       "      <td>5.603751</td>\n",
       "      <td>5.716862</td>\n",
       "      <td>5.840627</td>\n",
       "      <td>6.132819</td>\n",
       "      <td>5.896502</td>\n",
       "    </tr>\n",
       "    <tr>\n",
       "      <th>aaeR</th>\n",
       "      <td>5.645506</td>\n",
       "      <td>5.758852</td>\n",
       "      <td>5.107190</td>\n",
       "      <td>5.824890</td>\n",
       "      <td>5.487705</td>\n",
       "      <td>6.033795</td>\n",
       "      <td>5.710782</td>\n",
       "      <td>6.302440</td>\n",
       "      <td>16.270368</td>\n",
       "    </tr>\n",
       "    <tr>\n",
       "      <th>aaeX</th>\n",
       "      <td>6.081770</td>\n",
       "      <td>6.043589</td>\n",
       "      <td>6.030808</td>\n",
       "      <td>6.358792</td>\n",
       "      <td>15.682419</td>\n",
       "      <td>6.129392</td>\n",
       "      <td>6.042647</td>\n",
       "      <td>6.134309</td>\n",
       "      <td>15.797839</td>\n",
       "    </tr>\n",
       "    <tr>\n",
       "      <th>aas</th>\n",
       "      <td>6.224669</td>\n",
       "      <td>6.297153</td>\n",
       "      <td>6.297008</td>\n",
       "      <td>6.047021</td>\n",
       "      <td>6.038410</td>\n",
       "      <td>6.296795</td>\n",
       "      <td>6.295251</td>\n",
       "      <td>6.598525</td>\n",
       "      <td>6.568365</td>\n",
       "    </tr>\n",
       "  </tbody>\n",
       "</table>\n",
       "</div>"
      ],
      "text/plain": [
       "           BB9      BB10      BB17      BB19       BB20      BB21      BB11  \\\n",
       "gene                                                                          \n",
       "aaeA  5.542667  5.876225  5.189101  6.178741   6.258982  5.921482  6.565341   \n",
       "aaeB  5.627977  5.436188  5.397088  5.493631   5.603751  5.716862  5.840627   \n",
       "aaeR  5.645506  5.758852  5.107190  5.824890   5.487705  6.033795  5.710782   \n",
       "aaeX  6.081770  6.043589  6.030808  6.358792  15.682419  6.129392  6.042647   \n",
       "aas   6.224669  6.297153  6.297008  6.047021   6.038410  6.296795  6.295251   \n",
       "\n",
       "          BB12       BB18  \n",
       "gene                       \n",
       "aaeA  6.308676   6.256590  \n",
       "aaeB  6.132819   5.896502  \n",
       "aaeR  6.302440  16.270368  \n",
       "aaeX  6.134309  15.797839  \n",
       "aas   6.598525   6.568365  "
      ]
     },
     "execution_count": 2,
     "metadata": {},
     "output_type": "execute_result"
    }
   ],
   "source": [
    "data = pd.read_csv(\"../data/all_counts_9_norm_rpkm_log2_preprocessed.csv\", index_col=0)\n",
    "data.head()"
   ]
  },
  {
   "cell_type": "code",
   "execution_count": 3,
   "metadata": {},
   "outputs": [
    {
     "name": "stdout",
     "output_type": "stream",
     "text": [
      "['cysG', 'hcaT', 'idnT', 'rrsA', 'ihfB', 'ssrA', 'gyrA', 'recA', 'rpoB', 'rpoA', 'gyrB', 'rho', 'ftsZ', 'secA', 'rpoC', 'gmk', 'adk', 'rpoD', 'dnaG', 'glnA', 'recF']\n"
     ]
    }
   ],
   "source": [
    "rg = open(\"../data/reference_genes.txt\").read().splitlines()\n",
    "print(rg)"
   ]
  },
  {
   "cell_type": "code",
   "execution_count": 4,
   "metadata": {},
   "outputs": [
    {
     "data": {
      "text/html": [
       "<div>\n",
       "<style scoped>\n",
       "    .dataframe tbody tr th:only-of-type {\n",
       "        vertical-align: middle;\n",
       "    }\n",
       "\n",
       "    .dataframe tbody tr th {\n",
       "        vertical-align: top;\n",
       "    }\n",
       "\n",
       "    .dataframe thead th {\n",
       "        text-align: right;\n",
       "    }\n",
       "</style>\n",
       "<table border=\"1\" class=\"dataframe\">\n",
       "  <thead>\n",
       "    <tr style=\"text-align: right;\">\n",
       "      <th></th>\n",
       "      <th>BB9</th>\n",
       "      <th>BB10</th>\n",
       "      <th>BB17</th>\n",
       "      <th>BB19</th>\n",
       "      <th>BB20</th>\n",
       "      <th>BB21</th>\n",
       "      <th>BB11</th>\n",
       "      <th>BB12</th>\n",
       "      <th>BB18</th>\n",
       "    </tr>\n",
       "    <tr>\n",
       "      <th>gene</th>\n",
       "      <th></th>\n",
       "      <th></th>\n",
       "      <th></th>\n",
       "      <th></th>\n",
       "      <th></th>\n",
       "      <th></th>\n",
       "      <th></th>\n",
       "      <th></th>\n",
       "      <th></th>\n",
       "    </tr>\n",
       "  </thead>\n",
       "  <tbody>\n",
       "    <tr>\n",
       "      <th>cysG</th>\n",
       "      <td>5.903687</td>\n",
       "      <td>5.879490</td>\n",
       "      <td>5.873191</td>\n",
       "      <td>5.735536</td>\n",
       "      <td>6.016590</td>\n",
       "      <td>6.328393</td>\n",
       "      <td>6.315338</td>\n",
       "      <td>6.504277</td>\n",
       "      <td>6.577601</td>\n",
       "    </tr>\n",
       "    <tr>\n",
       "      <th>hcaT</th>\n",
       "      <td>5.692781</td>\n",
       "      <td>5.733848</td>\n",
       "      <td>5.686571</td>\n",
       "      <td>5.925712</td>\n",
       "      <td>6.290692</td>\n",
       "      <td>6.131968</td>\n",
       "      <td>6.113390</td>\n",
       "      <td>5.891730</td>\n",
       "      <td>5.822536</td>\n",
       "    </tr>\n",
       "    <tr>\n",
       "      <th>rrsA</th>\n",
       "      <td>10.498560</td>\n",
       "      <td>10.775182</td>\n",
       "      <td>11.515848</td>\n",
       "      <td>11.819169</td>\n",
       "      <td>11.745607</td>\n",
       "      <td>11.033925</td>\n",
       "      <td>10.521316</td>\n",
       "      <td>8.685239</td>\n",
       "      <td>10.590185</td>\n",
       "    </tr>\n",
       "    <tr>\n",
       "      <th>ihfB</th>\n",
       "      <td>11.625723</td>\n",
       "      <td>11.784312</td>\n",
       "      <td>12.694811</td>\n",
       "      <td>13.119308</td>\n",
       "      <td>13.096534</td>\n",
       "      <td>12.574847</td>\n",
       "      <td>12.140031</td>\n",
       "      <td>10.126885</td>\n",
       "      <td>11.298441</td>\n",
       "    </tr>\n",
       "    <tr>\n",
       "      <th>ssrA</th>\n",
       "      <td>12.889916</td>\n",
       "      <td>13.026561</td>\n",
       "      <td>13.839784</td>\n",
       "      <td>14.807551</td>\n",
       "      <td>14.601034</td>\n",
       "      <td>13.858224</td>\n",
       "      <td>14.509441</td>\n",
       "      <td>12.713618</td>\n",
       "      <td>13.816964</td>\n",
       "    </tr>\n",
       "    <tr>\n",
       "      <th>gyrA</th>\n",
       "      <td>19.364537</td>\n",
       "      <td>19.544602</td>\n",
       "      <td>10.195372</td>\n",
       "      <td>19.601927</td>\n",
       "      <td>19.576949</td>\n",
       "      <td>18.693722</td>\n",
       "      <td>17.988391</td>\n",
       "      <td>16.700954</td>\n",
       "      <td>17.802523</td>\n",
       "    </tr>\n",
       "    <tr>\n",
       "      <th>recA</th>\n",
       "      <td>16.741059</td>\n",
       "      <td>16.808839</td>\n",
       "      <td>17.125494</td>\n",
       "      <td>11.214665</td>\n",
       "      <td>10.997956</td>\n",
       "      <td>10.271486</td>\n",
       "      <td>19.879175</td>\n",
       "      <td>18.190008</td>\n",
       "      <td>19.661178</td>\n",
       "    </tr>\n",
       "    <tr>\n",
       "      <th>rpoB</th>\n",
       "      <td>8.974988</td>\n",
       "      <td>19.071784</td>\n",
       "      <td>10.029701</td>\n",
       "      <td>19.552264</td>\n",
       "      <td>19.479836</td>\n",
       "      <td>18.539912</td>\n",
       "      <td>8.439041</td>\n",
       "      <td>16.884159</td>\n",
       "      <td>18.085799</td>\n",
       "    </tr>\n",
       "    <tr>\n",
       "      <th>rpoA</th>\n",
       "      <td>12.169900</td>\n",
       "      <td>12.425077</td>\n",
       "      <td>13.123721</td>\n",
       "      <td>12.536993</td>\n",
       "      <td>12.467720</td>\n",
       "      <td>11.604108</td>\n",
       "      <td>11.477677</td>\n",
       "      <td>19.684894</td>\n",
       "      <td>11.166540</td>\n",
       "    </tr>\n",
       "    <tr>\n",
       "      <th>gyrB</th>\n",
       "      <td>18.177930</td>\n",
       "      <td>18.382054</td>\n",
       "      <td>18.985889</td>\n",
       "      <td>18.572611</td>\n",
       "      <td>18.614638</td>\n",
       "      <td>18.101376</td>\n",
       "      <td>18.179938</td>\n",
       "      <td>7.600656</td>\n",
       "      <td>18.267395</td>\n",
       "    </tr>\n",
       "    <tr>\n",
       "      <th>rho</th>\n",
       "      <td>9.359310</td>\n",
       "      <td>19.580089</td>\n",
       "      <td>10.432312</td>\n",
       "      <td>10.209332</td>\n",
       "      <td>10.284049</td>\n",
       "      <td>19.289837</td>\n",
       "      <td>19.171998</td>\n",
       "      <td>17.726897</td>\n",
       "      <td>18.897370</td>\n",
       "    </tr>\n",
       "    <tr>\n",
       "      <th>ftsZ</th>\n",
       "      <td>18.198987</td>\n",
       "      <td>18.281233</td>\n",
       "      <td>18.616832</td>\n",
       "      <td>18.908381</td>\n",
       "      <td>18.795738</td>\n",
       "      <td>18.111757</td>\n",
       "      <td>17.693392</td>\n",
       "      <td>16.670864</td>\n",
       "      <td>17.454315</td>\n",
       "    </tr>\n",
       "    <tr>\n",
       "      <th>secA</th>\n",
       "      <td>17.147602</td>\n",
       "      <td>17.124121</td>\n",
       "      <td>17.839653</td>\n",
       "      <td>17.621329</td>\n",
       "      <td>17.470778</td>\n",
       "      <td>16.943121</td>\n",
       "      <td>16.852822</td>\n",
       "      <td>16.335722</td>\n",
       "      <td>6.691674</td>\n",
       "    </tr>\n",
       "    <tr>\n",
       "      <th>rpoC</th>\n",
       "      <td>18.809313</td>\n",
       "      <td>18.885899</td>\n",
       "      <td>19.703735</td>\n",
       "      <td>19.249637</td>\n",
       "      <td>19.240484</td>\n",
       "      <td>18.388955</td>\n",
       "      <td>18.206585</td>\n",
       "      <td>16.811425</td>\n",
       "      <td>17.908727</td>\n",
       "    </tr>\n",
       "    <tr>\n",
       "      <th>gmk</th>\n",
       "      <td>18.320880</td>\n",
       "      <td>18.397570</td>\n",
       "      <td>18.861556</td>\n",
       "      <td>19.077882</td>\n",
       "      <td>18.908519</td>\n",
       "      <td>18.376202</td>\n",
       "      <td>18.186617</td>\n",
       "      <td>17.558690</td>\n",
       "      <td>18.122712</td>\n",
       "    </tr>\n",
       "    <tr>\n",
       "      <th>adk</th>\n",
       "      <td>18.106231</td>\n",
       "      <td>18.231418</td>\n",
       "      <td>18.575015</td>\n",
       "      <td>18.499616</td>\n",
       "      <td>18.218923</td>\n",
       "      <td>17.913410</td>\n",
       "      <td>17.247084</td>\n",
       "      <td>16.683680</td>\n",
       "      <td>17.303281</td>\n",
       "    </tr>\n",
       "    <tr>\n",
       "      <th>rpoD</th>\n",
       "      <td>8.514122</td>\n",
       "      <td>18.719469</td>\n",
       "      <td>19.407766</td>\n",
       "      <td>19.118764</td>\n",
       "      <td>18.996986</td>\n",
       "      <td>18.366997</td>\n",
       "      <td>18.310688</td>\n",
       "      <td>17.222314</td>\n",
       "      <td>18.078417</td>\n",
       "    </tr>\n",
       "    <tr>\n",
       "      <th>dnaG</th>\n",
       "      <td>18.026626</td>\n",
       "      <td>18.319452</td>\n",
       "      <td>18.845101</td>\n",
       "      <td>18.403491</td>\n",
       "      <td>18.386414</td>\n",
       "      <td>18.062737</td>\n",
       "      <td>17.976967</td>\n",
       "      <td>7.407608</td>\n",
       "      <td>17.924296</td>\n",
       "    </tr>\n",
       "    <tr>\n",
       "      <th>glnA</th>\n",
       "      <td>10.127104</td>\n",
       "      <td>10.139948</td>\n",
       "      <td>10.639775</td>\n",
       "      <td>12.328947</td>\n",
       "      <td>12.052099</td>\n",
       "      <td>11.048126</td>\n",
       "      <td>19.795165</td>\n",
       "      <td>18.530010</td>\n",
       "      <td>10.778742</td>\n",
       "    </tr>\n",
       "    <tr>\n",
       "      <th>recF</th>\n",
       "      <td>6.560863</td>\n",
       "      <td>6.579639</td>\n",
       "      <td>6.344145</td>\n",
       "      <td>16.707454</td>\n",
       "      <td>16.677238</td>\n",
       "      <td>6.553543</td>\n",
       "      <td>16.885244</td>\n",
       "      <td>16.900973</td>\n",
       "      <td>16.955343</td>\n",
       "    </tr>\n",
       "  </tbody>\n",
       "</table>\n",
       "</div>"
      ],
      "text/plain": [
       "            BB9       BB10       BB17       BB19       BB20       BB21  \\\n",
       "gene                                                                     \n",
       "cysG   5.903687   5.879490   5.873191   5.735536   6.016590   6.328393   \n",
       "hcaT   5.692781   5.733848   5.686571   5.925712   6.290692   6.131968   \n",
       "rrsA  10.498560  10.775182  11.515848  11.819169  11.745607  11.033925   \n",
       "ihfB  11.625723  11.784312  12.694811  13.119308  13.096534  12.574847   \n",
       "ssrA  12.889916  13.026561  13.839784  14.807551  14.601034  13.858224   \n",
       "gyrA  19.364537  19.544602  10.195372  19.601927  19.576949  18.693722   \n",
       "recA  16.741059  16.808839  17.125494  11.214665  10.997956  10.271486   \n",
       "rpoB   8.974988  19.071784  10.029701  19.552264  19.479836  18.539912   \n",
       "rpoA  12.169900  12.425077  13.123721  12.536993  12.467720  11.604108   \n",
       "gyrB  18.177930  18.382054  18.985889  18.572611  18.614638  18.101376   \n",
       "rho    9.359310  19.580089  10.432312  10.209332  10.284049  19.289837   \n",
       "ftsZ  18.198987  18.281233  18.616832  18.908381  18.795738  18.111757   \n",
       "secA  17.147602  17.124121  17.839653  17.621329  17.470778  16.943121   \n",
       "rpoC  18.809313  18.885899  19.703735  19.249637  19.240484  18.388955   \n",
       "gmk   18.320880  18.397570  18.861556  19.077882  18.908519  18.376202   \n",
       "adk   18.106231  18.231418  18.575015  18.499616  18.218923  17.913410   \n",
       "rpoD   8.514122  18.719469  19.407766  19.118764  18.996986  18.366997   \n",
       "dnaG  18.026626  18.319452  18.845101  18.403491  18.386414  18.062737   \n",
       "glnA  10.127104  10.139948  10.639775  12.328947  12.052099  11.048126   \n",
       "recF   6.560863   6.579639   6.344145  16.707454  16.677238   6.553543   \n",
       "\n",
       "           BB11       BB12       BB18  \n",
       "gene                                   \n",
       "cysG   6.315338   6.504277   6.577601  \n",
       "hcaT   6.113390   5.891730   5.822536  \n",
       "rrsA  10.521316   8.685239  10.590185  \n",
       "ihfB  12.140031  10.126885  11.298441  \n",
       "ssrA  14.509441  12.713618  13.816964  \n",
       "gyrA  17.988391  16.700954  17.802523  \n",
       "recA  19.879175  18.190008  19.661178  \n",
       "rpoB   8.439041  16.884159  18.085799  \n",
       "rpoA  11.477677  19.684894  11.166540  \n",
       "gyrB  18.179938   7.600656  18.267395  \n",
       "rho   19.171998  17.726897  18.897370  \n",
       "ftsZ  17.693392  16.670864  17.454315  \n",
       "secA  16.852822  16.335722   6.691674  \n",
       "rpoC  18.206585  16.811425  17.908727  \n",
       "gmk   18.186617  17.558690  18.122712  \n",
       "adk   17.247084  16.683680  17.303281  \n",
       "rpoD  18.310688  17.222314  18.078417  \n",
       "dnaG  17.976967   7.407608  17.924296  \n",
       "glnA  19.795165  18.530010  10.778742  \n",
       "recF  16.885244  16.900973  16.955343  "
      ]
     },
     "execution_count": 4,
     "metadata": {},
     "output_type": "execute_result"
    }
   ],
   "source": [
    "rg_data = data.reindex(rg).dropna()\n",
    "rg_data"
   ]
  },
  {
   "cell_type": "code",
   "execution_count": 5,
   "metadata": {},
   "outputs": [
    {
     "name": "stdout",
     "output_type": "stream",
     "text": [
      "Reference genes scaled: \n"
     ]
    },
    {
     "data": {
      "text/html": [
       "<div>\n",
       "<style scoped>\n",
       "    .dataframe tbody tr th:only-of-type {\n",
       "        vertical-align: middle;\n",
       "    }\n",
       "\n",
       "    .dataframe tbody tr th {\n",
       "        vertical-align: top;\n",
       "    }\n",
       "\n",
       "    .dataframe thead th {\n",
       "        text-align: right;\n",
       "    }\n",
       "</style>\n",
       "<table border=\"1\" class=\"dataframe\">\n",
       "  <thead>\n",
       "    <tr style=\"text-align: right;\">\n",
       "      <th></th>\n",
       "      <th>BB9</th>\n",
       "      <th>BB10</th>\n",
       "      <th>BB17</th>\n",
       "      <th>BB19</th>\n",
       "      <th>BB20</th>\n",
       "      <th>BB21</th>\n",
       "      <th>BB11</th>\n",
       "      <th>BB12</th>\n",
       "      <th>BB18</th>\n",
       "    </tr>\n",
       "    <tr>\n",
       "      <th>gene</th>\n",
       "      <th></th>\n",
       "      <th></th>\n",
       "      <th></th>\n",
       "      <th></th>\n",
       "      <th></th>\n",
       "      <th></th>\n",
       "      <th></th>\n",
       "      <th></th>\n",
       "      <th></th>\n",
       "    </tr>\n",
       "  </thead>\n",
       "  <tbody>\n",
       "    <tr>\n",
       "      <th>cysG</th>\n",
       "      <td>-0.969147</td>\n",
       "      <td>-0.978963</td>\n",
       "      <td>-0.973373</td>\n",
       "      <td>-1.000000</td>\n",
       "      <td>-1.000000</td>\n",
       "      <td>-0.970143</td>\n",
       "      <td>-0.970659</td>\n",
       "      <td>-0.911181</td>\n",
       "      <td>-0.890876</td>\n",
       "    </tr>\n",
       "    <tr>\n",
       "      <th>hcaT</th>\n",
       "      <td>-1.000000</td>\n",
       "      <td>-1.000000</td>\n",
       "      <td>-1.000000</td>\n",
       "      <td>-0.972570</td>\n",
       "      <td>-0.959573</td>\n",
       "      <td>-1.000000</td>\n",
       "      <td>-1.000000</td>\n",
       "      <td>-1.000000</td>\n",
       "      <td>-1.000000</td>\n",
       "    </tr>\n",
       "    <tr>\n",
       "      <th>rrsA</th>\n",
       "      <td>-0.296977</td>\n",
       "      <td>-0.271812</td>\n",
       "      <td>-0.168266</td>\n",
       "      <td>-0.122535</td>\n",
       "      <td>-0.155035</td>\n",
       "      <td>-0.254901</td>\n",
       "      <td>-0.359582</td>\n",
       "      <td>-0.594943</td>\n",
       "      <td>-0.310966</td>\n",
       "    </tr>\n",
       "    <tr>\n",
       "      <th>ihfB</th>\n",
       "      <td>-0.132088</td>\n",
       "      <td>-0.126050</td>\n",
       "      <td>-0.000049</td>\n",
       "      <td>0.064988</td>\n",
       "      <td>0.044212</td>\n",
       "      <td>-0.020681</td>\n",
       "      <td>-0.124403</td>\n",
       "      <td>-0.385905</td>\n",
       "      <td>-0.208607</td>\n",
       "    </tr>\n",
       "    <tr>\n",
       "      <th>ssrA</th>\n",
       "      <td>0.052847</td>\n",
       "      <td>0.053385</td>\n",
       "      <td>0.163319</td>\n",
       "      <td>0.308490</td>\n",
       "      <td>0.266109</td>\n",
       "      <td>0.174393</td>\n",
       "      <td>0.219843</td>\n",
       "      <td>-0.010831</td>\n",
       "      <td>0.155377</td>\n",
       "    </tr>\n",
       "    <tr>\n",
       "      <th>gyrA</th>\n",
       "      <td>1.000000</td>\n",
       "      <td>0.994874</td>\n",
       "      <td>-0.356674</td>\n",
       "      <td>1.000000</td>\n",
       "      <td>1.000000</td>\n",
       "      <td>0.909390</td>\n",
       "      <td>0.725292</td>\n",
       "      <td>0.567331</td>\n",
       "      <td>0.731382</td>\n",
       "    </tr>\n",
       "    <tr>\n",
       "      <th>recA</th>\n",
       "      <td>0.616219</td>\n",
       "      <td>0.599711</td>\n",
       "      <td>0.632131</td>\n",
       "      <td>-0.209725</td>\n",
       "      <td>-0.265305</td>\n",
       "      <td>-0.370792</td>\n",
       "      <td>1.000000</td>\n",
       "      <td>0.783242</td>\n",
       "      <td>1.000000</td>\n",
       "    </tr>\n",
       "    <tr>\n",
       "      <th>rpoB</th>\n",
       "      <td>-0.519856</td>\n",
       "      <td>0.926579</td>\n",
       "      <td>-0.380312</td>\n",
       "      <td>0.992837</td>\n",
       "      <td>0.985677</td>\n",
       "      <td>0.886011</td>\n",
       "      <td>-0.662111</td>\n",
       "      <td>0.593895</td>\n",
       "      <td>0.772322</td>\n",
       "    </tr>\n",
       "    <tr>\n",
       "      <th>rpoA</th>\n",
       "      <td>-0.052482</td>\n",
       "      <td>-0.033495</td>\n",
       "      <td>0.061149</td>\n",
       "      <td>-0.019001</td>\n",
       "      <td>-0.048531</td>\n",
       "      <td>-0.168233</td>\n",
       "      <td>-0.220635</td>\n",
       "      <td>1.000000</td>\n",
       "      <td>-0.227669</td>\n",
       "    </tr>\n",
       "    <tr>\n",
       "      <th>gyrB</th>\n",
       "      <td>0.826415</td>\n",
       "      <td>0.826952</td>\n",
       "      <td>0.897576</td>\n",
       "      <td>0.851538</td>\n",
       "      <td>0.858070</td>\n",
       "      <td>0.819354</td>\n",
       "      <td>0.753122</td>\n",
       "      <td>-0.752207</td>\n",
       "      <td>0.798566</td>\n",
       "    </tr>\n",
       "    <tr>\n",
       "      <th>rho</th>\n",
       "      <td>-0.463635</td>\n",
       "      <td>1.000000</td>\n",
       "      <td>-0.322867</td>\n",
       "      <td>-0.354728</td>\n",
       "      <td>-0.370598</td>\n",
       "      <td>1.000000</td>\n",
       "      <td>0.897256</td>\n",
       "      <td>0.716092</td>\n",
       "      <td>0.889612</td>\n",
       "    </tr>\n",
       "    <tr>\n",
       "      <th>ftsZ</th>\n",
       "      <td>0.829495</td>\n",
       "      <td>0.812389</td>\n",
       "      <td>0.844918</td>\n",
       "      <td>0.899967</td>\n",
       "      <td>0.884780</td>\n",
       "      <td>0.820932</td>\n",
       "      <td>0.682432</td>\n",
       "      <td>0.562967</td>\n",
       "      <td>0.681058</td>\n",
       "    </tr>\n",
       "    <tr>\n",
       "      <th>secA</th>\n",
       "      <td>0.675691</td>\n",
       "      <td>0.645251</td>\n",
       "      <td>0.734029</td>\n",
       "      <td>0.714331</td>\n",
       "      <td>0.689364</td>\n",
       "      <td>0.643299</td>\n",
       "      <td>0.560308</td>\n",
       "      <td>0.514372</td>\n",
       "      <td>-0.874390</td>\n",
       "    </tr>\n",
       "    <tr>\n",
       "      <th>rpoC</th>\n",
       "      <td>0.918778</td>\n",
       "      <td>0.899729</td>\n",
       "      <td>1.000000</td>\n",
       "      <td>0.949188</td>\n",
       "      <td>0.950375</td>\n",
       "      <td>0.863066</td>\n",
       "      <td>0.756993</td>\n",
       "      <td>0.583349</td>\n",
       "      <td>0.746731</td>\n",
       "    </tr>\n",
       "    <tr>\n",
       "      <th>gmk</th>\n",
       "      <td>0.847327</td>\n",
       "      <td>0.829193</td>\n",
       "      <td>0.879836</td>\n",
       "      <td>0.924415</td>\n",
       "      <td>0.901414</td>\n",
       "      <td>0.861127</td>\n",
       "      <td>0.754092</td>\n",
       "      <td>0.691702</td>\n",
       "      <td>0.777656</td>\n",
       "    </tr>\n",
       "    <tr>\n",
       "      <th>adk</th>\n",
       "      <td>0.815926</td>\n",
       "      <td>0.805193</td>\n",
       "      <td>0.838952</td>\n",
       "      <td>0.841010</td>\n",
       "      <td>0.799706</td>\n",
       "      <td>0.790783</td>\n",
       "      <td>0.617589</td>\n",
       "      <td>0.564826</td>\n",
       "      <td>0.659230</td>\n",
       "    </tr>\n",
       "    <tr>\n",
       "      <th>rpoD</th>\n",
       "      <td>-0.587275</td>\n",
       "      <td>0.875689</td>\n",
       "      <td>0.957770</td>\n",
       "      <td>0.930312</td>\n",
       "      <td>0.914462</td>\n",
       "      <td>0.859728</td>\n",
       "      <td>0.772118</td>\n",
       "      <td>0.642927</td>\n",
       "      <td>0.771255</td>\n",
       "    </tr>\n",
       "    <tr>\n",
       "      <th>dnaG</th>\n",
       "      <td>0.804281</td>\n",
       "      <td>0.817909</td>\n",
       "      <td>0.877488</td>\n",
       "      <td>0.827145</td>\n",
       "      <td>0.824409</td>\n",
       "      <td>0.813480</td>\n",
       "      <td>0.723632</td>\n",
       "      <td>-0.780199</td>\n",
       "      <td>0.748981</td>\n",
       "    </tr>\n",
       "    <tr>\n",
       "      <th>glnA</th>\n",
       "      <td>-0.351316</td>\n",
       "      <td>-0.363567</td>\n",
       "      <td>-0.293266</td>\n",
       "      <td>-0.049008</td>\n",
       "      <td>-0.109830</td>\n",
       "      <td>-0.252743</td>\n",
       "      <td>0.987794</td>\n",
       "      <td>0.832543</td>\n",
       "      <td>-0.283715</td>\n",
       "    </tr>\n",
       "    <tr>\n",
       "      <th>recF</th>\n",
       "      <td>-0.873011</td>\n",
       "      <td>-0.877831</td>\n",
       "      <td>-0.906176</td>\n",
       "      <td>0.582520</td>\n",
       "      <td>0.572325</td>\n",
       "      <td>-0.935920</td>\n",
       "      <td>0.565018</td>\n",
       "      <td>0.596333</td>\n",
       "      <td>0.608945</td>\n",
       "    </tr>\n",
       "  </tbody>\n",
       "</table>\n",
       "</div>"
      ],
      "text/plain": [
       "           BB9      BB10      BB17      BB19      BB20      BB21      BB11  \\\n",
       "gene                                                                         \n",
       "cysG -0.969147 -0.978963 -0.973373 -1.000000 -1.000000 -0.970143 -0.970659   \n",
       "hcaT -1.000000 -1.000000 -1.000000 -0.972570 -0.959573 -1.000000 -1.000000   \n",
       "rrsA -0.296977 -0.271812 -0.168266 -0.122535 -0.155035 -0.254901 -0.359582   \n",
       "ihfB -0.132088 -0.126050 -0.000049  0.064988  0.044212 -0.020681 -0.124403   \n",
       "ssrA  0.052847  0.053385  0.163319  0.308490  0.266109  0.174393  0.219843   \n",
       "gyrA  1.000000  0.994874 -0.356674  1.000000  1.000000  0.909390  0.725292   \n",
       "recA  0.616219  0.599711  0.632131 -0.209725 -0.265305 -0.370792  1.000000   \n",
       "rpoB -0.519856  0.926579 -0.380312  0.992837  0.985677  0.886011 -0.662111   \n",
       "rpoA -0.052482 -0.033495  0.061149 -0.019001 -0.048531 -0.168233 -0.220635   \n",
       "gyrB  0.826415  0.826952  0.897576  0.851538  0.858070  0.819354  0.753122   \n",
       "rho  -0.463635  1.000000 -0.322867 -0.354728 -0.370598  1.000000  0.897256   \n",
       "ftsZ  0.829495  0.812389  0.844918  0.899967  0.884780  0.820932  0.682432   \n",
       "secA  0.675691  0.645251  0.734029  0.714331  0.689364  0.643299  0.560308   \n",
       "rpoC  0.918778  0.899729  1.000000  0.949188  0.950375  0.863066  0.756993   \n",
       "gmk   0.847327  0.829193  0.879836  0.924415  0.901414  0.861127  0.754092   \n",
       "adk   0.815926  0.805193  0.838952  0.841010  0.799706  0.790783  0.617589   \n",
       "rpoD -0.587275  0.875689  0.957770  0.930312  0.914462  0.859728  0.772118   \n",
       "dnaG  0.804281  0.817909  0.877488  0.827145  0.824409  0.813480  0.723632   \n",
       "glnA -0.351316 -0.363567 -0.293266 -0.049008 -0.109830 -0.252743  0.987794   \n",
       "recF -0.873011 -0.877831 -0.906176  0.582520  0.572325 -0.935920  0.565018   \n",
       "\n",
       "          BB12      BB18  \n",
       "gene                      \n",
       "cysG -0.911181 -0.890876  \n",
       "hcaT -1.000000 -1.000000  \n",
       "rrsA -0.594943 -0.310966  \n",
       "ihfB -0.385905 -0.208607  \n",
       "ssrA -0.010831  0.155377  \n",
       "gyrA  0.567331  0.731382  \n",
       "recA  0.783242  1.000000  \n",
       "rpoB  0.593895  0.772322  \n",
       "rpoA  1.000000 -0.227669  \n",
       "gyrB -0.752207  0.798566  \n",
       "rho   0.716092  0.889612  \n",
       "ftsZ  0.562967  0.681058  \n",
       "secA  0.514372 -0.874390  \n",
       "rpoC  0.583349  0.746731  \n",
       "gmk   0.691702  0.777656  \n",
       "adk   0.564826  0.659230  \n",
       "rpoD  0.642927  0.771255  \n",
       "dnaG -0.780199  0.748981  \n",
       "glnA  0.832543 -0.283715  \n",
       "recF  0.596333  0.608945  "
      ]
     },
     "execution_count": 5,
     "metadata": {},
     "output_type": "execute_result"
    }
   ],
   "source": [
    "scaler = EdwinRueda_utils.scaler(xmin=-1, xmax=1)\n",
    "scaler.fit(rg_data)\n",
    "rg_data = scaler.transform(rg_data)\n",
    "print(\"Reference genes scaled: \")\n",
    "rg_data"
   ]
  },
  {
   "cell_type": "markdown",
   "metadata": {},
   "source": [
    "### bulding the best GAN architecture"
   ]
  },
  {
   "cell_type": "code",
   "execution_count": 6,
   "metadata": {},
   "outputs": [],
   "source": [
    "noise_shape = 50\n",
    "#generator network\n",
    "G = Sequential()\n",
    "G.add(Dense(50, input_shape=(noise_shape,)))\n",
    "G.add(Dense(150))\n",
    "G.add(Dropout(.15))\n",
    "G.add(Dense(rg_data.shape[1], activation=\"tanh\"))\n",
    "\n",
    "#discriminator network\n",
    "D = Sequential()\n",
    "D.add(Dense(32, input_shape=(rg_data.shape[1],)))\n",
    "D.add(tf.keras.layers.LeakyReLU(alpha=.2))\n",
    "D.add(Dense(32))\n",
    "D.add(Dense(1, activation=\"sigmoid\"))"
   ]
  },
  {
   "cell_type": "code",
   "execution_count": 7,
   "metadata": {},
   "outputs": [
    {
     "name": "stdout",
     "output_type": "stream",
     "text": [
      "synthetic samples: \n",
      "tf.Tensor(\n",
      "[[-0.66522097 -0.66660794 -0.86412265  0.75016903 -0.62248016 -0.03571795\n",
      "   0.09611259  0.58166807  0.60414695]\n",
      " [-0.5529314   0.92662753 -0.29243878 -0.54978947  0.97653843  0.44855061\n",
      "  -0.98465242  0.18274855 -0.50010446]\n",
      " [-0.75449153 -0.08380825 -0.95581324  0.09000885  0.20723953  0.46601088\n",
      "  -0.50007902  0.855107   -0.50130889]\n",
      " [-0.89197093  0.71864361 -0.16950509 -0.13084766 -0.09052182  0.19424362\n",
      "   0.83288128  0.03184196  0.06328182]], shape=(4, 9), dtype=float64)\n",
      "----------------------------------------\n",
      "prediction of the discriminator network\n",
      "----------------------------------------\n"
     ]
    },
    {
     "data": {
      "text/plain": [
       "<tf.Tensor: shape=(4, 1), dtype=float64, numpy=\n",
       "array([[0.44569038],\n",
       "       [0.6892784 ],\n",
       "       [0.67698872],\n",
       "       [0.49413048]])>"
      ]
     },
     "execution_count": 7,
     "metadata": {},
     "output_type": "execute_result"
    }
   ],
   "source": [
    "noise_vector = tf.random.normal((4, noise_shape), dtype=tf.float64)\n",
    "print(\"synthetic samples: \")\n",
    "synthetic_samples = G(noise_vector)\n",
    "print(synthetic_samples)\n",
    "print(\"----------------------------------------\")\n",
    "print(\"prediction of the discriminator network\")\n",
    "print(\"----------------------------------------\")\n",
    "D(synthetic_samples)"
   ]
  },
  {
   "cell_type": "code",
   "execution_count": 69,
   "metadata": {},
   "outputs": [],
   "source": [
    "gan_utils = EdwinRueda_utils.gan_utils()\n",
    "epochs = 1700\n",
    "optimizerG = tf.optimizers.SGD(lr=.00015, momentum=.92, decay=.00015/epochs)\n",
    "optimizerD = tf.optimizers.SGD(lr=.001, momentum=.9, decay=.001/epochs)\n",
    "accumulated_gloss, accumulated_dloss = gan_utils.train(rg_data, G, D, noise_input=noise_shape, epochs=epochs,\n",
    "                                                       batch_size=rg_data.shape[0], optimizerG=optimizerG,\n",
    "                                                       optimizerD=optimizerD, verbose=False)"
   ]
  },
  {
   "cell_type": "code",
   "execution_count": 70,
   "metadata": {},
   "outputs": [
    {
     "data": {
      "image/png": "[encoded data removed]",
      "text/plain": [
       "<Figure size 720x360 with 1 Axes>"
      ]
     },
     "metadata": {
      "needs_background": "light"
     },
     "output_type": "display_data"
    }
   ],
   "source": [
    "plt.figure(figsize=(10,5))\n",
    "plt.plot(range(epochs), accumulated_gloss, label=\"G loss\")\n",
    "plt.plot(range(epochs), accumulated_dloss, label=\"D loss\")\n",
    "plt.legend()\n",
    "plt.grid();"
   ]
  },
  {
   "cell_type": "code",
   "execution_count": 71,
   "metadata": {
    "scrolled": false
   },
   "outputs": [
    {
     "data": {
      "image/png": "[encoded data removed]",
      "text/plain": [
       "<Figure size 1080x720 with 4 Axes>"
      ]
     },
     "metadata": {
      "needs_background": "light"
     },
     "output_type": "display_data"
    }
   ],
   "source": [
    "r = gan_utils.plot_results(syn_size=300);"
   ]
  },
  {
   "cell_type": "code",
   "execution_count": 72,
   "metadata": {},
   "outputs": [],
   "source": [
    "bokeh_utils = EdwinRueda_utils.bokeh_utils()\n",
    "\n",
    "precision, kld, loss_g, loss_d, s_metric =  gan_utils.get_metrics(num_iter=200)\n",
    "[pl, pq1, pq2, pq3, pu], pouts = bokeh_utils.boxtplot_values(np.array(precision), True, True)\n",
    "[kl, kq1, kq2, kq3, ku], kouts = bokeh_utils.boxtplot_values(np.array(kld), True, True)\n",
    "[gl, gq1, gq2, gq3, gu], gouts = bokeh_utils.boxtplot_values(np.array(loss_g), True, True)\n",
    "[dl, dq1, dq2, dq3, du], douts = bokeh_utils.boxtplot_values(np.array(loss_d), True, True)"
   ]
  },
  {
   "cell_type": "code",
   "execution_count": 73,
   "metadata": {},
   "outputs": [
    {
     "data": {
      "text/html": [
       "\n",
       "\n",
       "\n",
       "\n",
       "\n",
       "\n",
       "  <div class=\"bk-root\" id=\"bc62dfb1-8c03-4adb-95c1-987cccdc26b5\" data-root-id=\"9146\"></div>\n"
      ]
     },
     "metadata": {},
     "output_type": "display_data"
    },
    {
     "data": {
      "application/javascript": [
       "(function(root) {\n",
       "  function embed_document(root) {\n",
       "    \n",
       "  var docs_json = {\"7606d5c3-71f8-4b26-a007-6ab161fa03cc\":{\"roots\":{\"references\":[{\"attributes\":{\"background_fill_color\":{\"value\":\"#E8E8E8\"},\"below\":[{\"id\":\"9155\",\"type\":\"CategoricalAxis\"}],\"center\":[{\"id\":\"9158\",\"type\":\"Grid\"},{\"id\":\"9163\",\"type\":\"Grid\"}],\"left\":[{\"id\":\"9159\",\"type\":\"LinearAxis\"}],\"plot_height\":200,\"plot_width\":350,\"renderers\":[{\"id\":\"9180\",\"type\":\"GlyphRenderer\"},{\"id\":\"9185\",\"type\":\"GlyphRenderer\"},{\"id\":\"9190\",\"type\":\"GlyphRenderer\"},{\"id\":\"9195\",\"type\":\"GlyphRenderer\"},{\"id\":\"9200\",\"type\":\"GlyphRenderer\"},{\"id\":\"9205\",\"type\":\"GlyphRenderer\"},{\"id\":\"9212\",\"type\":\"GlyphRenderer\"}],\"title\":{\"id\":\"9621\",\"type\":\"Title\"},\"toolbar\":{\"id\":\"9170\",\"type\":\"Toolbar\"},\"x_range\":{\"id\":\"9147\",\"type\":\"FactorRange\"},\"x_scale\":{\"id\":\"9151\",\"type\":\"CategoricalScale\"},\"y_range\":{\"id\":\"9149\",\"type\":\"DataRange1d\"},\"y_scale\":{\"id\":\"9153\",\"type\":\"LinearScale\"}},\"id\":\"9146\",\"subtype\":\"Figure\",\"type\":\"Plot\"},{\"attributes\":{\"data_source\":{\"id\":\"9192\",\"type\":\"ColumnDataSource\"},\"glyph\":{\"id\":\"9193\",\"type\":\"VBar\"},\"hover_glyph\":null,\"muted_glyph\":null,\"nonselection_glyph\":{\"id\":\"9194\",\"type\":\"VBar\"},\"selection_glyph\":null,\"view\":{\"id\":\"9196\",\"type\":\"CDSView\"}},\"id\":\"9195\",\"type\":\"GlyphRenderer\"},{\"attributes\":{\"fill_alpha\":{\"value\":0.1},\"fill_color\":{\"value\":\"#1f77b4\"},\"height\":{\"units\":\"data\",\"value\":0.001},\"line_alpha\":{\"value\":0.1},\"line_color\":{\"value\":\"#1f77b4\"},\"width\":{\"units\":\"data\",\"value\":0.2},\"x\":{\"field\":\"x\"},\"y\":{\"field\":\"y\"}},\"id\":\"9179\",\"type\":\"Rect\"},{\"attributes\":{},\"id\":\"9167\",\"type\":\"SaveTool\"},{\"attributes\":{\"callback\":null,\"factors\":[\"precision\",\"KLD\",\"loss_G\",\"loss_D\"]},\"id\":\"9147\",\"type\":\"FactorRange\"},{\"attributes\":{\"source\":{\"id\":\"9192\",\"type\":\"ColumnDataSource\"}},\"id\":\"9196\",\"type\":\"CDSView\"},{\"attributes\":{},\"id\":\"9168\",\"type\":\"ResetTool\"},{\"attributes\":{},\"id\":\"9623\",\"type\":\"CategoricalTickFormatter\"},{\"attributes\":{\"callback\":null},\"id\":\"9149\",\"type\":\"DataRange1d\"},{\"attributes\":{\"callback\":null,\"data\":{\"x\":[\"precision\",\"KLD\",\"loss_G\",\"loss_D\"],\"y\":[0.6746031746031746,0.03226086285289405,0.7438580490754165,0.7247404227949696]},\"selected\":{\"id\":\"9637\",\"type\":\"Selection\"},\"selection_policy\":{\"id\":\"9636\",\"type\":\"UnionRenderers\"}},\"id\":\"9202\",\"type\":\"ColumnDataSource\"},{\"attributes\":{},\"id\":\"9169\",\"type\":\"HelpTool\"},{\"attributes\":{},\"id\":\"9624\",\"type\":\"BasicTickFormatter\"},{\"attributes\":{},\"id\":\"9151\",\"type\":\"CategoricalScale\"},{\"attributes\":{\"x0\":{\"field\":\"x0\"},\"x1\":{\"field\":\"x1\"},\"y0\":{\"field\":\"y0\"},\"y1\":{\"field\":\"y1\"}},\"id\":\"9198\",\"type\":\"Segment\"},{\"attributes\":{\"active_drag\":\"auto\",\"active_inspect\":\"auto\",\"active_multi\":null,\"active_scroll\":\"auto\",\"active_tap\":\"auto\",\"tools\":[{\"id\":\"9164\",\"type\":\"PanTool\"},{\"id\":\"9165\",\"type\":\"WheelZoomTool\"},{\"id\":\"9166\",\"type\":\"BoxZoomTool\"},{\"id\":\"9167\",\"type\":\"SaveTool\"},{\"id\":\"9168\",\"type\":\"ResetTool\"},{\"id\":\"9169\",\"type\":\"HelpTool\"}]},\"id\":\"9170\",\"type\":\"Toolbar\"},{\"attributes\":{},\"id\":\"9153\",\"type\":\"LinearScale\"},{\"attributes\":{\"line_alpha\":{\"value\":0.1},\"line_color\":{\"value\":\"#1f77b4\"},\"x0\":{\"field\":\"x0\"},\"x1\":{\"field\":\"x1\"},\"y0\":{\"field\":\"y0\"},\"y1\":{\"field\":\"y1\"}},\"id\":\"9199\",\"type\":\"Segment\"},{\"attributes\":{\"bottom_units\":\"screen\",\"fill_alpha\":{\"value\":0.5},\"fill_color\":{\"value\":\"lightgrey\"},\"left_units\":\"screen\",\"level\":\"overlay\",\"line_alpha\":{\"value\":1.0},\"line_color\":{\"value\":\"black\"},\"line_dash\":[4,4],\"line_width\":{\"value\":2},\"render_mode\":\"css\",\"right_units\":\"screen\",\"top_units\":\"screen\"},\"id\":\"9625\",\"type\":\"BoxAnnotation\"},{\"attributes\":{\"data_source\":{\"id\":\"9177\",\"type\":\"ColumnDataSource\"},\"glyph\":{\"id\":\"9178\",\"type\":\"Rect\"},\"hover_glyph\":null,\"muted_glyph\":null,\"nonselection_glyph\":{\"id\":\"9179\",\"type\":\"Rect\"},\"selection_glyph\":null,\"view\":{\"id\":\"9181\",\"type\":\"CDSView\"}},\"id\":\"9180\",\"type\":\"GlyphRenderer\"},{\"attributes\":{\"data_source\":{\"id\":\"9197\",\"type\":\"ColumnDataSource\"},\"glyph\":{\"id\":\"9198\",\"type\":\"Segment\"},\"hover_glyph\":null,\"muted_glyph\":null,\"nonselection_glyph\":{\"id\":\"9199\",\"type\":\"Segment\"},\"selection_glyph\":null,\"view\":{\"id\":\"9201\",\"type\":\"CDSView\"}},\"id\":\"9200\",\"type\":\"GlyphRenderer\"},{\"attributes\":{\"formatter\":{\"id\":\"9623\",\"type\":\"CategoricalTickFormatter\"},\"ticker\":{\"id\":\"9156\",\"type\":\"CategoricalTicker\"}},\"id\":\"9155\",\"type\":\"CategoricalAxis\"},{\"attributes\":{\"source\":{\"id\":\"9177\",\"type\":\"ColumnDataSource\"}},\"id\":\"9181\",\"type\":\"CDSView\"},{\"attributes\":{},\"id\":\"9626\",\"type\":\"UnionRenderers\"},{\"attributes\":{},\"id\":\"9627\",\"type\":\"Selection\"},{\"attributes\":{\"source\":{\"id\":\"9197\",\"type\":\"ColumnDataSource\"}},\"id\":\"9201\",\"type\":\"CDSView\"},{\"attributes\":{},\"id\":\"9156\",\"type\":\"CategoricalTicker\"},{\"attributes\":{\"callback\":null,\"data\":{\"bottom\":[0.47619047619047616,-0.0003055668809178,0.6783686776340399,0.6919957370742815],\"top\":[0.5,0.0071246832153492425,0.6938520105281796,0.6997374035213513],\"x\":[\"precision\",\"KLD\",\"loss_G\",\"loss_D\"]},\"selected\":{\"id\":\"9631\",\"type\":\"Selection\"},\"selection_policy\":{\"id\":\"9630\",\"type\":\"UnionRenderers\"}},\"id\":\"9187\",\"type\":\"ColumnDataSource\"},{\"attributes\":{\"line_alpha\":{\"value\":0.1},\"line_color\":{\"value\":\"#1f77b4\"},\"x0\":{\"field\":\"x0\"},\"x1\":{\"field\":\"x1\"},\"y0\":{\"field\":\"y0\"},\"y1\":{\"field\":\"y1\"}},\"id\":\"9184\",\"type\":\"Segment\"},{\"attributes\":{},\"id\":\"9628\",\"type\":\"UnionRenderers\"},{\"attributes\":{\"grid_line_color\":null,\"ticker\":{\"id\":\"9156\",\"type\":\"CategoricalTicker\"}},\"id\":\"9158\",\"type\":\"Grid\"},{\"attributes\":{},\"id\":\"9629\",\"type\":\"Selection\"},{\"attributes\":{\"formatter\":{\"id\":\"9624\",\"type\":\"BasicTickFormatter\"},\"ticker\":{\"id\":\"9207\",\"type\":\"FixedTicker\"}},\"id\":\"9159\",\"type\":\"LinearAxis\"},{\"attributes\":{\"fill_color\":{\"value\":\"#1f77b4\"},\"height\":{\"units\":\"data\",\"value\":0.001},\"width\":{\"units\":\"data\",\"value\":0.2},\"x\":{\"field\":\"x\"},\"y\":{\"field\":\"y\"}},\"id\":\"9203\",\"type\":\"Rect\"},{\"attributes\":{\"data_source\":{\"id\":\"9182\",\"type\":\"ColumnDataSource\"},\"glyph\":{\"id\":\"9183\",\"type\":\"Segment\"},\"hover_glyph\":null,\"muted_glyph\":null,\"nonselection_glyph\":{\"id\":\"9184\",\"type\":\"Segment\"},\"selection_glyph\":null,\"view\":{\"id\":\"9186\",\"type\":\"CDSView\"}},\"id\":\"9185\",\"type\":\"GlyphRenderer\"},{\"attributes\":{},\"id\":\"9630\",\"type\":\"UnionRenderers\"},{\"attributes\":{\"fill_alpha\":{\"value\":0.1},\"fill_color\":{\"value\":\"#1f77b4\"},\"height\":{\"units\":\"data\",\"value\":0.001},\"line_alpha\":{\"value\":0.1},\"line_color\":{\"value\":\"#1f77b4\"},\"width\":{\"units\":\"data\",\"value\":0.2},\"x\":{\"field\":\"x\"},\"y\":{\"field\":\"y\"}},\"id\":\"9204\",\"type\":\"Rect\"},{\"attributes\":{},\"id\":\"9160\",\"type\":\"BasicTicker\"},{\"attributes\":{\"source\":{\"id\":\"9182\",\"type\":\"ColumnDataSource\"}},\"id\":\"9186\",\"type\":\"CDSView\"},{\"attributes\":{},\"id\":\"9631\",\"type\":\"Selection\"},{\"attributes\":{\"data_source\":{\"id\":\"9202\",\"type\":\"ColumnDataSource\"},\"glyph\":{\"id\":\"9203\",\"type\":\"Rect\"},\"hover_glyph\":null,\"muted_glyph\":null,\"nonselection_glyph\":{\"id\":\"9204\",\"type\":\"Rect\"},\"selection_glyph\":null,\"view\":{\"id\":\"9206\",\"type\":\"CDSView\"}},\"id\":\"9205\",\"type\":\"GlyphRenderer\"},{\"attributes\":{\"dimension\":1,\"grid_line_color\":\"white\",\"ticker\":{\"id\":\"9160\",\"type\":\"BasicTicker\"}},\"id\":\"9163\",\"type\":\"Grid\"},{\"attributes\":{\"callback\":null,\"data\":{\"bottom\":[0.5,0.0071246832153492425,0.6938520105281796,0.6997374035213513],\"top\":[0.5555555555555556,0.015139437746420441,0.709720859741501,0.7076718281280122],\"x\":[\"precision\",\"KLD\",\"loss_G\",\"loss_D\"]},\"selected\":{\"id\":\"9633\",\"type\":\"Selection\"},\"selection_policy\":{\"id\":\"9632\",\"type\":\"UnionRenderers\"}},\"id\":\"9192\",\"type\":\"ColumnDataSource\"},{\"attributes\":{\"x0\":{\"field\":\"x0\"},\"x1\":{\"field\":\"x1\"},\"y0\":{\"field\":\"y0\"},\"y1\":{\"field\":\"y1\"}},\"id\":\"9183\",\"type\":\"Segment\"},{\"attributes\":{},\"id\":\"9632\",\"type\":\"UnionRenderers\"},{\"attributes\":{\"source\":{\"id\":\"9202\",\"type\":\"ColumnDataSource\"}},\"id\":\"9206\",\"type\":\"CDSView\"},{\"attributes\":{\"bottom\":{\"field\":\"bottom\"},\"fill_color\":{\"value\":\"#3B8686\"},\"top\":{\"field\":\"top\"},\"width\":{\"value\":0.4},\"x\":{\"field\":\"x\"}},\"id\":\"9188\",\"type\":\"VBar\"},{\"attributes\":{},\"id\":\"9633\",\"type\":\"Selection\"},{\"attributes\":{\"callback\":null,\"data\":{\"x\":[\"precision\"],\"y\":{\"__ndarray__\":\"t23btm3b5j8=\",\"dtype\":\"float64\",\"shape\":[1]}},\"selected\":{\"id\":\"9639\",\"type\":\"Selection\"},\"selection_policy\":{\"id\":\"9638\",\"type\":\"UnionRenderers\"}},\"id\":\"9209\",\"type\":\"ColumnDataSource\"},{\"attributes\":{\"bottom\":{\"field\":\"bottom\"},\"fill_alpha\":{\"value\":0.1},\"fill_color\":{\"value\":\"#1f77b4\"},\"line_alpha\":{\"value\":0.1},\"line_color\":{\"value\":\"#1f77b4\"},\"top\":{\"field\":\"top\"},\"width\":{\"value\":0.4},\"x\":{\"field\":\"x\"}},\"id\":\"9189\",\"type\":\"VBar\"},{\"attributes\":{},\"id\":\"9634\",\"type\":\"UnionRenderers\"},{\"attributes\":{\"fill_color\":{\"value\":\"#1f77b4\"},\"height\":{\"units\":\"data\",\"value\":0.001},\"width\":{\"units\":\"data\",\"value\":0.2},\"x\":{\"field\":\"x\"},\"y\":{\"field\":\"y\"}},\"id\":\"9178\",\"type\":\"Rect\"},{\"attributes\":{\"data_source\":{\"id\":\"9187\",\"type\":\"ColumnDataSource\"},\"glyph\":{\"id\":\"9188\",\"type\":\"VBar\"},\"hover_glyph\":null,\"muted_glyph\":null,\"nonselection_glyph\":{\"id\":\"9189\",\"type\":\"VBar\"},\"selection_glyph\":null,\"view\":{\"id\":\"9191\",\"type\":\"CDSView\"}},\"id\":\"9190\",\"type\":\"GlyphRenderer\"},{\"attributes\":{\"fill_color\":{\"value\":\"#FFA851\"},\"line_color\":{\"value\":\"#FF8000\"},\"x\":{\"field\":\"x\"},\"y\":{\"field\":\"y\"}},\"id\":\"9210\",\"type\":\"Circle\"},{\"attributes\":{},\"id\":\"9635\",\"type\":\"Selection\"},{\"attributes\":{\"callback\":null,\"data\":{\"x0\":[\"precision\",\"KLD\",\"loss_G\",\"loss_D\"],\"x1\":[\"precision\",\"KLD\",\"loss_G\",\"loss_D\"],\"y0\":[0.38461538461538464,-0.016846639789981622,0.6454012739686646,0.6755120352415938],\"y1\":[0.47619047619047616,-0.0003055668809178,0.6783686776340399,0.6919957370742815]},\"selected\":{\"id\":\"9629\",\"type\":\"Selection\"},\"selection_policy\":{\"id\":\"9628\",\"type\":\"UnionRenderers\"}},\"id\":\"9182\",\"type\":\"ColumnDataSource\"},{\"attributes\":{\"ticks\":[0.0,0.1,0.2,0.30000000000000004,0.4,0.5,0.6000000000000001,0.7000000000000001,0.8,0.9,1.0]},\"id\":\"9207\",\"type\":\"FixedTicker\"},{\"attributes\":{\"source\":{\"id\":\"9187\",\"type\":\"ColumnDataSource\"}},\"id\":\"9191\",\"type\":\"CDSView\"},{\"attributes\":{},\"id\":\"9636\",\"type\":\"UnionRenderers\"},{\"attributes\":{},\"id\":\"9164\",\"type\":\"PanTool\"},{\"attributes\":{\"fill_alpha\":{\"value\":0.1},\"fill_color\":{\"value\":\"#1f77b4\"},\"line_alpha\":{\"value\":0.1},\"line_color\":{\"value\":\"#1f77b4\"},\"x\":{\"field\":\"x\"},\"y\":{\"field\":\"y\"}},\"id\":\"9211\",\"type\":\"Circle\"},{\"attributes\":{\"callback\":null,\"data\":{\"x0\":[\"precision\",\"KLD\",\"loss_G\",\"loss_D\"],\"x1\":[\"precision\",\"KLD\",\"loss_G\",\"loss_D\"],\"y0\":[0.5555555555555556,0.015139437746420441,0.709720859741501,0.7076718281280122],\"y1\":[0.6746031746031746,0.03226086285289405,0.7438580490754165,0.7247404227949696]},\"selected\":{\"id\":\"9635\",\"type\":\"Selection\"},\"selection_policy\":{\"id\":\"9634\",\"type\":\"UnionRenderers\"}},\"id\":\"9197\",\"type\":\"ColumnDataSource\"},{\"attributes\":{\"text\":\"\"},\"id\":\"9621\",\"type\":\"Title\"},{\"attributes\":{},\"id\":\"9165\",\"type\":\"WheelZoomTool\"},{\"attributes\":{\"callback\":null,\"data\":{\"x\":[\"precision\",\"KLD\",\"loss_G\",\"loss_D\"],\"y\":[0.38461538461538464,-0.016846639789981622,0.6454012739686646,0.6755120352415938]},\"selected\":{\"id\":\"9627\",\"type\":\"Selection\"},\"selection_policy\":{\"id\":\"9626\",\"type\":\"UnionRenderers\"}},\"id\":\"9177\",\"type\":\"ColumnDataSource\"},{\"attributes\":{\"bottom\":{\"field\":\"bottom\"},\"fill_color\":{\"value\":\"#E08E79\"},\"top\":{\"field\":\"top\"},\"width\":{\"value\":0.4},\"x\":{\"field\":\"x\"}},\"id\":\"9193\",\"type\":\"VBar\"},{\"attributes\":{\"data_source\":{\"id\":\"9209\",\"type\":\"ColumnDataSource\"},\"glyph\":{\"id\":\"9210\",\"type\":\"Circle\"},\"hover_glyph\":null,\"muted_glyph\":null,\"nonselection_glyph\":{\"id\":\"9211\",\"type\":\"Circle\"},\"selection_glyph\":null,\"view\":{\"id\":\"9213\",\"type\":\"CDSView\"}},\"id\":\"9212\",\"type\":\"GlyphRenderer\"},{\"attributes\":{},\"id\":\"9637\",\"type\":\"Selection\"},{\"attributes\":{},\"id\":\"9638\",\"type\":\"UnionRenderers\"},{\"attributes\":{\"overlay\":{\"id\":\"9625\",\"type\":\"BoxAnnotation\"}},\"id\":\"9166\",\"type\":\"BoxZoomTool\"},{\"attributes\":{\"bottom\":{\"field\":\"bottom\"},\"fill_alpha\":{\"value\":0.1},\"fill_color\":{\"value\":\"#1f77b4\"},\"line_alpha\":{\"value\":0.1},\"line_color\":{\"value\":\"#1f77b4\"},\"top\":{\"field\":\"top\"},\"width\":{\"value\":0.4},\"x\":{\"field\":\"x\"}},\"id\":\"9194\",\"type\":\"VBar\"},{\"attributes\":{\"source\":{\"id\":\"9209\",\"type\":\"ColumnDataSource\"}},\"id\":\"9213\",\"type\":\"CDSView\"},{\"attributes\":{},\"id\":\"9639\",\"type\":\"Selection\"}],\"root_ids\":[\"9146\"]},\"title\":\"Bokeh Application\",\"version\":\"1.4.0\"}};\n",
       "  var render_items = [{\"docid\":\"7606d5c3-71f8-4b26-a007-6ab161fa03cc\",\"roots\":{\"9146\":\"bc62dfb1-8c03-4adb-95c1-987cccdc26b5\"}}];\n",
       "  root.Bokeh.embed.embed_items_notebook(docs_json, render_items);\n",
       "\n",
       "  }\n",
       "  if (root.Bokeh !== undefined) {\n",
       "    embed_document(root);\n",
       "  } else {\n",
       "    var attempts = 0;\n",
       "    var timer = setInterval(function(root) {\n",
       "      if (root.Bokeh !== undefined) {\n",
       "        clearInterval(timer);\n",
       "        embed_document(root);\n",
       "      } else {\n",
       "        attempts++;\n",
       "        if (attempts > 100) {\n",
       "          clearInterval(timer);\n",
       "          console.log(\"Bokeh: ERROR: Unable to run BokehJS code because BokehJS library is missing\");\n",
       "        }\n",
       "      }\n",
       "    }, 10, root)\n",
       "  }\n",
       "})(window);"
      ],
      "application/vnd.bokehjs_exec.v0+json": ""
     },
     "metadata": {
      "application/vnd.bokehjs_exec.v0+json": {
       "id": "9146"
      }
     },
     "output_type": "display_data"
    }
   ],
   "source": [
    "cats = [\"precision\", \"KLD\", \"loss_G\", \"loss_D\"]\n",
    "p = figure(plot_height=200, plot_width=350, x_range=cats, background_fill_color=\"#E8E8E8\",)\n",
    "p.rect(cats, [pl, kl, gl, dl], width=.2, height=.001, line_color=\"black\")\n",
    "p.segment(cats, [pl, kl, gl, dl], cats, [pq1, kq1, gq1, dq1], line_color=\"black\")\n",
    "p.vbar(cats, width=.4, top=[pq2, kq2, gq2, dq2], bottom=[pq1, kq1, gq1, dq1], fill_color=\"#3B8686\",\n",
    "       line_color=\"black\")\n",
    "p.vbar(cats, width=.4, top=[pq3, kq3, gq3, dq3], bottom=[pq2, kq2, gq2, dq2], fill_color=\"#E08E79\",\n",
    "      line_color=\"black\")\n",
    "p.segment(cats, [pq3, kq3, gq3, dq3], cats, [pu, ku, gu, du], line_color=\"black\")\n",
    "p.rect(cats, [pu, ku, gu, du], width=.2, height=.001, line_color=\"black\")\n",
    "p.xgrid.grid_line_color = None\n",
    "p.ygrid.grid_line_color = \"white\"\n",
    "p.grid.grid_line_width = 1\n",
    "p.yaxis.ticker = np.arange(0,1.1,.1)\n",
    "\n",
    "#outliers\n",
    "list_outs = [pouts, kouts, gouts, douts]\n",
    "for idx in range(len(cats)):\n",
    "    aux_var = list_outs[idx]\n",
    "    if len(aux_var)>0:\n",
    "        p.circle([cats[idx] for i in range(len(aux_var))], aux_var, line_color=\"#FF8000\",\n",
    "                fill_color=\"#FFA851\", size=4)\n",
    "    \n",
    "show(p)"
   ]
  },
  {
   "cell_type": "markdown",
   "metadata": {},
   "source": [
    "### The baseline architecture is the architecture used to qualify"
   ]
  },
  {
   "cell_type": "code",
   "execution_count": 74,
   "metadata": {},
   "outputs": [],
   "source": [
    "noise_shape = 50\n",
    "num_syn_samples = 3"
   ]
  },
  {
   "cell_type": "markdown",
   "metadata": {},
   "source": [
    "### architecture #1"
   ]
  },
  {
   "cell_type": "code",
   "execution_count": 138,
   "metadata": {},
   "outputs": [
    {
     "name": "stdout",
     "output_type": "stream",
     "text": [
      "noise input shape: (3, 50)\n",
      "---------------------------\n",
      "synthetic samples:\n"
     ]
    },
    {
     "data": {
      "text/plain": [
       "<tf.Tensor: shape=(3, 9), dtype=float64, numpy=\n",
       "array([[ 0.0673217 , -0.02922019,  0.03988792,  0.12463029,  0.00888695,\n",
       "         0.0331545 , -0.00928583, -0.08657194, -0.11514063],\n",
       "       [ 0.05529063, -0.04475115,  0.08255624,  0.04624423,  0.0358963 ,\n",
       "         0.13185535, -0.0264161 , -0.03340491, -0.09392613],\n",
       "       [-0.01038055,  0.02784468, -0.01242266, -0.08391571,  0.05103893,\n",
       "         0.03560771, -0.04172323,  0.11961724,  0.05572402]])>"
      ]
     },
     "execution_count": 138,
     "metadata": {},
     "output_type": "execute_result"
    }
   ],
   "source": [
    "#Generator network\n",
    "G1 = Sequential()\n",
    "G1.add(Dense(50, input_shape=(noise_shape,)))\n",
    "G1.add(Dense(150))\n",
    "G1.add(Dropout(.15))\n",
    "G1.add(Dense(9, activation=\"tanh\"))\n",
    "\n",
    "#synthetic sample\n",
    "noise_input = tf.random_normal_initializer()((num_syn_samples, noise_shape))\n",
    "print(\"noise input shape:\", noise_input.shape)\n",
    "print(\"---------------------------\")\n",
    "print(\"synthetic samples:\")\n",
    "synthetic_samples = G1(noise_input)\n",
    "synthetic_samples"
   ]
  },
  {
   "cell_type": "code",
   "execution_count": 139,
   "metadata": {},
   "outputs": [
    {
     "name": "stdout",
     "output_type": "stream",
     "text": [
      "output of the disriminator network:\n"
     ]
    },
    {
     "data": {
      "text/plain": [
       "<tf.Tensor: shape=(3, 1), dtype=float64, numpy=\n",
       "array([[0.4818697 ],\n",
       "       [0.49580578],\n",
       "       [0.52175818]])>"
      ]
     },
     "execution_count": 139,
     "metadata": {},
     "output_type": "execute_result"
    }
   ],
   "source": [
    "#Discriminator network\n",
    "D1 = Sequential()\n",
    "D1.add(Dense(32, input_shape=(rg_data.shape[1],)))\n",
    "D1.add(tf.keras.layers.LeakyReLU(alpha=.2))\n",
    "D1.add(Dense(32))\n",
    "D1.add(Dense(1, activation=\"sigmoid\"))\n",
    "print(\"output of the disriminator network:\")\n",
    "D1(synthetic_samples)"
   ]
  },
  {
   "cell_type": "code",
   "execution_count": 140,
   "metadata": {},
   "outputs": [
    {
     "data": {
      "text/plain": [
       "(20, 9)"
      ]
     },
     "execution_count": 140,
     "metadata": {},
     "output_type": "execute_result"
    }
   ],
   "source": [
    "rg_data.shape"
   ]
  },
  {
   "cell_type": "code",
   "execution_count": 141,
   "metadata": {
    "scrolled": false
   },
   "outputs": [
    {
     "name": "stderr",
     "output_type": "stream",
     "text": [
      "/home/edwin/.local/lib/python3.6/site-packages/sklearn/metrics/_classification.py:1221: UndefinedMetricWarning: Precision is ill-defined and being set to 0.0 due to no predicted samples. Use `zero_division` parameter to control this behavior.\n",
      "  _warn_prf(average, modifier, msg_start, len(result))\n"
     ]
    },
    {
     "name": "stdout",
     "output_type": "stream",
     "text": [
      "iteration: 0, time: 16.202423334121704 [s]\n",
      "iteration: 1, time: 16.087100744247437 [s]\n"
     ]
    },
    {
     "name": "stderr",
     "output_type": "stream",
     "text": [
      "/home/edwin/.local/lib/python3.6/site-packages/sklearn/metrics/_classification.py:1221: UndefinedMetricWarning: Precision is ill-defined and being set to 0.0 due to no predicted samples. Use `zero_division` parameter to control this behavior.\n",
      "  _warn_prf(average, modifier, msg_start, len(result))\n"
     ]
    },
    {
     "name": "stdout",
     "output_type": "stream",
     "text": [
      "iteration: 2, time: 16.11058235168457 [s]\n"
     ]
    },
    {
     "name": "stderr",
     "output_type": "stream",
     "text": [
      "/home/edwin/.local/lib/python3.6/site-packages/sklearn/metrics/_classification.py:1221: UndefinedMetricWarning: Precision is ill-defined and being set to 0.0 due to no predicted samples. Use `zero_division` parameter to control this behavior.\n",
      "  _warn_prf(average, modifier, msg_start, len(result))\n"
     ]
    },
    {
     "name": "stdout",
     "output_type": "stream",
     "text": [
      "iteration: 3, time: 16.08485198020935 [s]\n",
      "iteration: 4, time: 16.03618311882019 [s]\n"
     ]
    },
    {
     "name": "stderr",
     "output_type": "stream",
     "text": [
      "/home/edwin/.local/lib/python3.6/site-packages/sklearn/metrics/_classification.py:1221: UndefinedMetricWarning: Precision is ill-defined and being set to 0.0 due to no predicted samples. Use `zero_division` parameter to control this behavior.\n",
      "  _warn_prf(average, modifier, msg_start, len(result))\n"
     ]
    },
    {
     "name": "stdout",
     "output_type": "stream",
     "text": [
      "iteration: 5, time: 16.089293956756592 [s]\n"
     ]
    },
    {
     "name": "stderr",
     "output_type": "stream",
     "text": [
      "/home/edwin/.local/lib/python3.6/site-packages/sklearn/metrics/_classification.py:1221: UndefinedMetricWarning: Precision is ill-defined and being set to 0.0 due to no predicted samples. Use `zero_division` parameter to control this behavior.\n",
      "  _warn_prf(average, modifier, msg_start, len(result))\n"
     ]
    },
    {
     "name": "stdout",
     "output_type": "stream",
     "text": [
      "iteration: 6, time: 16.116921186447144 [s]\n"
     ]
    },
    {
     "name": "stderr",
     "output_type": "stream",
     "text": [
      "/home/edwin/.local/lib/python3.6/site-packages/sklearn/metrics/_classification.py:1221: UndefinedMetricWarning: Precision is ill-defined and being set to 0.0 due to no predicted samples. Use `zero_division` parameter to control this behavior.\n",
      "  _warn_prf(average, modifier, msg_start, len(result))\n"
     ]
    },
    {
     "name": "stdout",
     "output_type": "stream",
     "text": [
      "iteration: 7, time: 16.805596828460693 [s]\n",
      "iteration: 8, time: 16.383458375930786 [s]\n",
      "iteration: 9, time: 16.403135061264038 [s]\n",
      "iteration: 10, time: 16.436928272247314 [s]\n"
     ]
    },
    {
     "name": "stderr",
     "output_type": "stream",
     "text": [
      "/home/edwin/.local/lib/python3.6/site-packages/sklearn/metrics/_classification.py:1221: UndefinedMetricWarning: Precision is ill-defined and being set to 0.0 due to no predicted samples. Use `zero_division` parameter to control this behavior.\n",
      "  _warn_prf(average, modifier, msg_start, len(result))\n"
     ]
    },
    {
     "name": "stdout",
     "output_type": "stream",
     "text": [
      "iteration: 11, time: 16.347299814224243 [s]\n"
     ]
    },
    {
     "name": "stderr",
     "output_type": "stream",
     "text": [
      "/home/edwin/.local/lib/python3.6/site-packages/sklearn/metrics/_classification.py:1221: UndefinedMetricWarning: Precision is ill-defined and being set to 0.0 due to no predicted samples. Use `zero_division` parameter to control this behavior.\n",
      "  _warn_prf(average, modifier, msg_start, len(result))\n"
     ]
    },
    {
     "name": "stdout",
     "output_type": "stream",
     "text": [
      "iteration: 12, time: 16.46800661087036 [s]\n",
      "iteration: 13, time: 16.439268350601196 [s]\n"
     ]
    },
    {
     "name": "stderr",
     "output_type": "stream",
     "text": [
      "/home/edwin/.local/lib/python3.6/site-packages/sklearn/metrics/_classification.py:1221: UndefinedMetricWarning: Precision is ill-defined and being set to 0.0 due to no predicted samples. Use `zero_division` parameter to control this behavior.\n",
      "  _warn_prf(average, modifier, msg_start, len(result))\n"
     ]
    },
    {
     "name": "stdout",
     "output_type": "stream",
     "text": [
      "iteration: 14, time: 16.469671964645386 [s]\n",
      "iteration: 15, time: 16.323235511779785 [s]\n",
      "iteration: 16, time: 16.376864910125732 [s]\n"
     ]
    },
    {
     "name": "stderr",
     "output_type": "stream",
     "text": [
      "/home/edwin/.local/lib/python3.6/site-packages/sklearn/metrics/_classification.py:1221: UndefinedMetricWarning: Precision is ill-defined and being set to 0.0 due to no predicted samples. Use `zero_division` parameter to control this behavior.\n",
      "  _warn_prf(average, modifier, msg_start, len(result))\n"
     ]
    },
    {
     "name": "stdout",
     "output_type": "stream",
     "text": [
      "iteration: 17, time: 16.32345747947693 [s]\n",
      "iteration: 18, time: 16.44283699989319 [s]\n"
     ]
    },
    {
     "name": "stderr",
     "output_type": "stream",
     "text": [
      "/home/edwin/.local/lib/python3.6/site-packages/sklearn/metrics/_classification.py:1221: UndefinedMetricWarning: Precision is ill-defined and being set to 0.0 due to no predicted samples. Use `zero_division` parameter to control this behavior.\n",
      "  _warn_prf(average, modifier, msg_start, len(result))\n"
     ]
    },
    {
     "name": "stdout",
     "output_type": "stream",
     "text": [
      "iteration: 19, time: 16.373307704925537 [s]\n",
      "iteration: 20, time: 16.37781548500061 [s]\n",
      "iteration: 21, time: 16.393675327301025 [s]\n",
      "iteration: 22, time: 16.37326216697693 [s]\n"
     ]
    },
    {
     "name": "stderr",
     "output_type": "stream",
     "text": [
      "/home/edwin/.local/lib/python3.6/site-packages/sklearn/metrics/_classification.py:1221: UndefinedMetricWarning: Precision is ill-defined and being set to 0.0 due to no predicted samples. Use `zero_division` parameter to control this behavior.\n",
      "  _warn_prf(average, modifier, msg_start, len(result))\n"
     ]
    },
    {
     "name": "stdout",
     "output_type": "stream",
     "text": [
      "iteration: 23, time: 16.322706699371338 [s]\n",
      "iteration: 24, time: 16.70581865310669 [s]\n"
     ]
    },
    {
     "name": "stderr",
     "output_type": "stream",
     "text": [
      "/home/edwin/.local/lib/python3.6/site-packages/sklearn/metrics/_classification.py:1221: UndefinedMetricWarning: Precision is ill-defined and being set to 0.0 due to no predicted samples. Use `zero_division` parameter to control this behavior.\n",
      "  _warn_prf(average, modifier, msg_start, len(result))\n"
     ]
    },
    {
     "name": "stdout",
     "output_type": "stream",
     "text": [
      "iteration: 25, time: 16.483207941055298 [s]\n"
     ]
    },
    {
     "name": "stderr",
     "output_type": "stream",
     "text": [
      "/home/edwin/.local/lib/python3.6/site-packages/sklearn/metrics/_classification.py:1221: UndefinedMetricWarning: Precision is ill-defined and being set to 0.0 due to no predicted samples. Use `zero_division` parameter to control this behavior.\n",
      "  _warn_prf(average, modifier, msg_start, len(result))\n"
     ]
    },
    {
     "name": "stdout",
     "output_type": "stream",
     "text": [
      "iteration: 26, time: 16.39047384262085 [s]\n",
      "iteration: 27, time: 16.50207781791687 [s]\n"
     ]
    },
    {
     "name": "stderr",
     "output_type": "stream",
     "text": [
      "/home/edwin/.local/lib/python3.6/site-packages/sklearn/metrics/_classification.py:1221: UndefinedMetricWarning: Precision is ill-defined and being set to 0.0 due to no predicted samples. Use `zero_division` parameter to control this behavior.\n",
      "  _warn_prf(average, modifier, msg_start, len(result))\n"
     ]
    },
    {
     "name": "stdout",
     "output_type": "stream",
     "text": [
      "iteration: 28, time: 16.419527769088745 [s]\n",
      "iteration: 29, time: 16.822020530700684 [s]\n"
     ]
    },
    {
     "name": "stderr",
     "output_type": "stream",
     "text": [
      "/home/edwin/.local/lib/python3.6/site-packages/sklearn/metrics/_classification.py:1221: UndefinedMetricWarning: Precision is ill-defined and being set to 0.0 due to no predicted samples. Use `zero_division` parameter to control this behavior.\n",
      "  _warn_prf(average, modifier, msg_start, len(result))\n"
     ]
    },
    {
     "name": "stdout",
     "output_type": "stream",
     "text": [
      "iteration: 30, time: 16.9225754737854 [s]\n",
      "iteration: 31, time: 17.470624923706055 [s]\n"
     ]
    },
    {
     "name": "stderr",
     "output_type": "stream",
     "text": [
      "/home/edwin/.local/lib/python3.6/site-packages/sklearn/metrics/_classification.py:1221: UndefinedMetricWarning: Precision is ill-defined and being set to 0.0 due to no predicted samples. Use `zero_division` parameter to control this behavior.\n",
      "  _warn_prf(average, modifier, msg_start, len(result))\n"
     ]
    },
    {
     "name": "stdout",
     "output_type": "stream",
     "text": [
      "iteration: 32, time: 17.236640453338623 [s]\n"
     ]
    },
    {
     "name": "stderr",
     "output_type": "stream",
     "text": [
      "/home/edwin/.local/lib/python3.6/site-packages/sklearn/metrics/_classification.py:1221: UndefinedMetricWarning: Precision is ill-defined and being set to 0.0 due to no predicted samples. Use `zero_division` parameter to control this behavior.\n",
      "  _warn_prf(average, modifier, msg_start, len(result))\n"
     ]
    },
    {
     "name": "stdout",
     "output_type": "stream",
     "text": [
      "iteration: 33, time: 16.504812240600586 [s]\n"
     ]
    },
    {
     "name": "stderr",
     "output_type": "stream",
     "text": [
      "/home/edwin/.local/lib/python3.6/site-packages/sklearn/metrics/_classification.py:1221: UndefinedMetricWarning: Precision is ill-defined and being set to 0.0 due to no predicted samples. Use `zero_division` parameter to control this behavior.\n",
      "  _warn_prf(average, modifier, msg_start, len(result))\n"
     ]
    },
    {
     "name": "stdout",
     "output_type": "stream",
     "text": [
      "iteration: 34, time: 16.37767004966736 [s]\n",
      "iteration: 35, time: 16.304096698760986 [s]\n",
      "iteration: 36, time: 16.47515630722046 [s]\n",
      "iteration: 37, time: 16.29820966720581 [s]\n"
     ]
    },
    {
     "name": "stderr",
     "output_type": "stream",
     "text": [
      "/home/edwin/.local/lib/python3.6/site-packages/sklearn/metrics/_classification.py:1221: UndefinedMetricWarning: Precision is ill-defined and being set to 0.0 due to no predicted samples. Use `zero_division` parameter to control this behavior.\n",
      "  _warn_prf(average, modifier, msg_start, len(result))\n"
     ]
    },
    {
     "name": "stdout",
     "output_type": "stream",
     "text": [
      "iteration: 38, time: 16.33423137664795 [s]\n",
      "iteration: 39, time: 16.29881525039673 [s]\n"
     ]
    }
   ],
   "source": [
    "num_iterations = 20\n",
    "epochs = 1700\n",
    "precision1, kld1, loss_g1, loss_d1, s_metric_1 = [], [], [], [], []\n",
    "train_times = []\n",
    "for i in range(num_iterations):\n",
    "    tic = time()\n",
    "    init = tf.keras.initializers.glorot_uniform()\n",
    "    init_weights = []\n",
    "    for w in D1.get_weights():\n",
    "        init_weights.append(init(w.shape))\n",
    "    D1.set_weights(init_weights)\n",
    "    \n",
    "    init = tf.keras.initializers.glorot_uniform()\n",
    "    init_weights = []\n",
    "    for w in G1.get_weights():\n",
    "        init_weights.append(init(w.shape))\n",
    "    G1.set_weights(init_weights)    \n",
    "    \n",
    "    gan_utils1 = EdwinRueda_utils.gan_utils()\n",
    "    optimizerG1 = tf.optimizers.SGD(lr=.00015, momentum=.92, decay=.00015/epochs)\n",
    "    optimizerD1 = tf.optimizers.SGD(lr=.001, momentum=.9, decay=.001/epochs)\n",
    "    accumulated_gloss, accumulated_dloss = gan_utils1.train(rg_data, G1, D1, noise_input=noise_shape,\n",
    "                                                       epochs=epochs, batch_size=rg_data.shape[0],\n",
    "                                                       optimizerG=optimizerG1, optimizerD=optimizerD1,\n",
    "                                                       verbose=False)\n",
    "    precision, kld, loss_g, loss_d, s_metric =  gan_utils1.get_metrics(num_iter=50)\n",
    "    precision1.append(np.mean(precision))\n",
    "    kld1.append(np.mean(kld))\n",
    "    loss_g1.append(np.mean(loss_g))\n",
    "    loss_d1.append(np.mean(loss_d))\n",
    "    s_metric_1.append(np.mean(s_metric))\n",
    "    toc = time()\n",
    "    train_times.append(toc-tic)\n",
    "    print(\"iteration: {}, time: {} [s]\".format(i, toc-tic))"
   ]
  },
  {
   "cell_type": "markdown",
   "metadata": {},
   "source": [
    "### Metric to select the best GAN architecture\n",
    "$$ S(x, x')=\\sum_{i}^{m}\\sum_{j}^{n_g}\\sum_{k}^{n_f}\\frac{\\vert x_{i}^{(k)}- x_{j}^{'(k)}\\vert}{n_f n_g m} + \\frac{\\beta}{n_g}\\sum_{l}^{n_g}{(\\hat{y}- 0.5})^2$$\n",
    "- where $\\beta$ is a parameter of adjustment, $x$ are the real samples and $x'$ are the synthetics samples."
   ]
  },
  {
   "cell_type": "code",
   "execution_count": 142,
   "metadata": {},
   "outputs": [],
   "source": [
    "bokeh_utils = EdwinRueda_utils.bokeh_utils()\n",
    "\n",
    "[pl_1, pq1_1, pq2_1, pq3_1, pu_1], pouts_1 = bokeh_utils.boxtplot_values(np.array(precision1), True, True)\n",
    "[kl_1, kq1_1, kq2_1, kq3_1, ku_1], kouts_1 = bokeh_utils.boxtplot_values(np.array(kld1), True, True)\n",
    "[gl_1, gq1_1, gq2_1, gq3_1, gu_1], gouts_1 = bokeh_utils.boxtplot_values(np.array(loss_g1), True, True)\n",
    "[dl_1, dq1_1, dq2_1, dq3_1, du_1], douts_1 = bokeh_utils.boxtplot_values(np.array(loss_d1), True, True)\n",
    "[sl_1, sq1_1, sq2_1, sq3_1, su_1], souts_1 = bokeh_utils.boxtplot_values(np.array(s_metric), True, True)"
   ]
  },
  {
   "cell_type": "code",
   "execution_count": 143,
   "metadata": {},
   "outputs": [
    {
     "data": {
      "text/html": [
       "\n",
       "\n",
       "\n",
       "\n",
       "\n",
       "\n",
       "  <div class=\"bk-root\" id=\"74a633ce-b24d-470e-8fd0-dd6d872edd0d\" data-root-id=\"14097\"></div>\n"
      ]
     },
     "metadata": {},
     "output_type": "display_data"
    },
    {
     "data": {
      "application/javascript": [
       "(function(root) {\n",
       "  function embed_document(root) {\n",
       "    \n",
       "  var docs_json = {\"7b99ab8b-5eb5-4a55-a022-3d13ffbbd9ba\":{\"roots\":{\"references\":[{\"attributes\":{\"background_fill_color\":{\"value\":\"#E8E8E8\"},\"below\":[{\"id\":\"14106\",\"type\":\"CategoricalAxis\"}],\"center\":[{\"id\":\"14109\",\"type\":\"Grid\"},{\"id\":\"14114\",\"type\":\"Grid\"}],\"left\":[{\"id\":\"14110\",\"type\":\"LinearAxis\"}],\"plot_height\":200,\"plot_width\":350,\"renderers\":[{\"id\":\"14131\",\"type\":\"GlyphRenderer\"},{\"id\":\"14136\",\"type\":\"GlyphRenderer\"},{\"id\":\"14141\",\"type\":\"GlyphRenderer\"},{\"id\":\"14146\",\"type\":\"GlyphRenderer\"},{\"id\":\"14151\",\"type\":\"GlyphRenderer\"},{\"id\":\"14156\",\"type\":\"GlyphRenderer\"},{\"id\":\"14163\",\"type\":\"GlyphRenderer\"},{\"id\":\"14168\",\"type\":\"GlyphRenderer\"},{\"id\":\"14173\",\"type\":\"GlyphRenderer\"}],\"title\":{\"id\":\"14740\",\"type\":\"Title\"},\"toolbar\":{\"id\":\"14121\",\"type\":\"Toolbar\"},\"x_range\":{\"id\":\"14098\",\"type\":\"FactorRange\"},\"x_scale\":{\"id\":\"14102\",\"type\":\"CategoricalScale\"},\"y_range\":{\"id\":\"14100\",\"type\":\"DataRange1d\"},\"y_scale\":{\"id\":\"14104\",\"type\":\"LinearScale\"}},\"id\":\"14097\",\"subtype\":\"Figure\",\"type\":\"Plot\"},{\"attributes\":{},\"id\":\"14756\",\"type\":\"Selection\"},{\"attributes\":{},\"id\":\"14754\",\"type\":\"Selection\"},{\"attributes\":{\"x0\":{\"field\":\"x0\"},\"x1\":{\"field\":\"x1\"},\"y0\":{\"field\":\"y0\"},\"y1\":{\"field\":\"y1\"}},\"id\":\"14149\",\"type\":\"Segment\"},{\"attributes\":{},\"id\":\"14761\",\"type\":\"UnionRenderers\"},{\"attributes\":{\"bottom\":{\"field\":\"bottom\"},\"fill_alpha\":{\"value\":0.1},\"fill_color\":{\"value\":\"#1f77b4\"},\"line_alpha\":{\"value\":0.1},\"line_color\":{\"value\":\"#1f77b4\"},\"top\":{\"field\":\"top\"},\"width\":{\"value\":0.4},\"x\":{\"field\":\"x\"}},\"id\":\"14145\",\"type\":\"VBar\"},{\"attributes\":{\"fill_color\":{\"value\":\"#1f77b4\"},\"height\":{\"units\":\"data\",\"value\":0.001},\"width\":{\"units\":\"data\",\"value\":0.2},\"x\":{\"field\":\"x\"},\"y\":{\"field\":\"y\"}},\"id\":\"14154\",\"type\":\"Rect\"},{\"attributes\":{\"callback\":null,\"data\":{\"x\":[\"precision\",\"s_metric\",\"KLD\",\"loss_G\",\"loss_D\"],\"y\":[0.7582432567432568,0.7940239965483689,0.06976559105521075,0.7203052622787522,0.7034679998605903]},\"selected\":{\"id\":\"14756\",\"type\":\"Selection\"},\"selection_policy\":{\"id\":\"14755\",\"type\":\"UnionRenderers\"}},\"id\":\"14153\",\"type\":\"ColumnDataSource\"},{\"attributes\":{\"line_alpha\":{\"value\":0.1},\"line_color\":{\"value\":\"#1f77b4\"},\"x0\":{\"field\":\"x0\"},\"x1\":{\"field\":\"x1\"},\"y0\":{\"field\":\"y0\"},\"y1\":{\"field\":\"y1\"}},\"id\":\"14150\",\"type\":\"Segment\"},{\"attributes\":{\"bottom\":{\"field\":\"bottom\"},\"fill_alpha\":{\"value\":0.1},\"fill_color\":{\"value\":\"#1f77b4\"},\"line_alpha\":{\"value\":0.1},\"line_color\":{\"value\":\"#1f77b4\"},\"top\":{\"field\":\"top\"},\"width\":{\"value\":0.4},\"x\":{\"field\":\"x\"}},\"id\":\"14140\",\"type\":\"VBar\"},{\"attributes\":{},\"id\":\"14762\",\"type\":\"Selection\"},{\"attributes\":{\"bottom\":{\"field\":\"bottom\"},\"fill_color\":{\"value\":\"#3B8686\"},\"top\":{\"field\":\"top\"},\"width\":{\"value\":0.4},\"x\":{\"field\":\"x\"}},\"id\":\"14139\",\"type\":\"VBar\"},{\"attributes\":{},\"id\":\"14758\",\"type\":\"Selection\"},{\"attributes\":{},\"id\":\"14759\",\"type\":\"UnionRenderers\"},{\"attributes\":{\"data_source\":{\"id\":\"14148\",\"type\":\"ColumnDataSource\"},\"glyph\":{\"id\":\"14149\",\"type\":\"Segment\"},\"hover_glyph\":null,\"muted_glyph\":null,\"nonselection_glyph\":{\"id\":\"14150\",\"type\":\"Segment\"},\"selection_glyph\":null,\"view\":{\"id\":\"14152\",\"type\":\"CDSView\"}},\"id\":\"14151\",\"type\":\"GlyphRenderer\"},{\"attributes\":{},\"id\":\"14749\",\"type\":\"UnionRenderers\"},{\"attributes\":{},\"id\":\"14760\",\"type\":\"Selection\"},{\"attributes\":{\"data_source\":{\"id\":\"14143\",\"type\":\"ColumnDataSource\"},\"glyph\":{\"id\":\"14144\",\"type\":\"VBar\"},\"hover_glyph\":null,\"muted_glyph\":null,\"nonselection_glyph\":{\"id\":\"14145\",\"type\":\"VBar\"},\"selection_glyph\":null,\"view\":{\"id\":\"14147\",\"type\":\"CDSView\"}},\"id\":\"14146\",\"type\":\"GlyphRenderer\"},{\"attributes\":{},\"id\":\"14757\",\"type\":\"UnionRenderers\"},{\"attributes\":{\"bottom\":{\"field\":\"bottom\"},\"fill_color\":{\"value\":\"#E08E79\"},\"top\":{\"field\":\"top\"},\"width\":{\"value\":0.4},\"x\":{\"field\":\"x\"}},\"id\":\"14144\",\"type\":\"VBar\"},{\"attributes\":{\"source\":{\"id\":\"14138\",\"type\":\"ColumnDataSource\"}},\"id\":\"14142\",\"type\":\"CDSView\"},{\"attributes\":{\"callback\":null,\"data\":{\"x0\":[\"precision\",\"s_metric\",\"KLD\",\"loss_G\",\"loss_D\"],\"x1\":[\"precision\",\"s_metric\",\"KLD\",\"loss_G\",\"loss_D\"],\"y0\":[0.6145175418836409,0.7472087886101451,0.03048472317303641,0.6922620862403688,0.6916215831012427],\"y1\":[0.7582432567432568,0.7940239965483689,0.06976559105521075,0.7203052622787522,0.7034679998605903]},\"selected\":{\"id\":\"14754\",\"type\":\"Selection\"},\"selection_policy\":{\"id\":\"14753\",\"type\":\"UnionRenderers\"}},\"id\":\"14148\",\"type\":\"ColumnDataSource\"},{\"attributes\":{\"source\":{\"id\":\"14148\",\"type\":\"ColumnDataSource\"}},\"id\":\"14152\",\"type\":\"CDSView\"},{\"attributes\":{},\"id\":\"14753\",\"type\":\"UnionRenderers\"},{\"attributes\":{\"callback\":null,\"data\":{\"bottom\":[0.5674477841148995,0.7251060040999582,0.01608542221423512,0.6822733103156726,0.6842756440525087],\"top\":[0.6145175418836409,0.7472087886101451,0.03048472317303641,0.6922620862403688,0.6916215831012427],\"x\":[\"precision\",\"s_metric\",\"KLD\",\"loss_G\",\"loss_D\"]},\"selected\":{\"id\":\"14752\",\"type\":\"Selection\"},\"selection_policy\":{\"id\":\"14751\",\"type\":\"UnionRenderers\"}},\"id\":\"14143\",\"type\":\"ColumnDataSource\"},{\"attributes\":{},\"id\":\"14750\",\"type\":\"Selection\"},{\"attributes\":{\"text\":\"\"},\"id\":\"14740\",\"type\":\"Title\"},{\"attributes\":{\"data_source\":{\"id\":\"14138\",\"type\":\"ColumnDataSource\"},\"glyph\":{\"id\":\"14139\",\"type\":\"VBar\"},\"hover_glyph\":null,\"muted_glyph\":null,\"nonselection_glyph\":{\"id\":\"14140\",\"type\":\"VBar\"},\"selection_glyph\":null,\"view\":{\"id\":\"14142\",\"type\":\"CDSView\"}},\"id\":\"14141\",\"type\":\"GlyphRenderer\"},{\"attributes\":{\"source\":{\"id\":\"14133\",\"type\":\"ColumnDataSource\"}},\"id\":\"14137\",\"type\":\"CDSView\"},{\"attributes\":{\"source\":{\"id\":\"14143\",\"type\":\"ColumnDataSource\"}},\"id\":\"14147\",\"type\":\"CDSView\"},{\"attributes\":{},\"id\":\"14755\",\"type\":\"UnionRenderers\"},{\"attributes\":{\"data_source\":{\"id\":\"14165\",\"type\":\"ColumnDataSource\"},\"glyph\":{\"id\":\"14166\",\"type\":\"Circle\"},\"hover_glyph\":null,\"muted_glyph\":null,\"nonselection_glyph\":{\"id\":\"14167\",\"type\":\"Circle\"},\"selection_glyph\":null,\"view\":{\"id\":\"14169\",\"type\":\"CDSView\"}},\"id\":\"14168\",\"type\":\"GlyphRenderer\"},{\"attributes\":{},\"id\":\"14104\",\"type\":\"LinearScale\"},{\"attributes\":{\"fill_color\":{\"value\":\"#FFA851\"},\"line_color\":{\"value\":\"#FF8000\"},\"x\":{\"field\":\"x\"},\"y\":{\"field\":\"y\"}},\"id\":\"14166\",\"type\":\"Circle\"},{\"attributes\":{\"callback\":null},\"id\":\"14100\",\"type\":\"DataRange1d\"},{\"attributes\":{},\"id\":\"14748\",\"type\":\"Selection\"},{\"attributes\":{\"grid_line_color\":null,\"ticker\":{\"id\":\"14107\",\"type\":\"CategoricalTicker\"}},\"id\":\"14109\",\"type\":\"Grid\"},{\"attributes\":{},\"id\":\"14745\",\"type\":\"UnionRenderers\"},{\"attributes\":{\"callback\":null,\"data\":{\"x0\":[\"precision\",\"s_metric\",\"KLD\",\"loss_G\",\"loss_D\"],\"x1\":[\"precision\",\"s_metric\",\"KLD\",\"loss_G\",\"loss_D\"],\"y0\":[0.4620622581080247,0.6810604803499278,-0.00704081922541443,0.6414590609379266,0.6586426373255501],\"y1\":[0.5071379734214874,0.7072269849665818,0.004297477918253512,0.6719408761193919,0.6784300047909656]},\"selected\":{\"id\":\"14748\",\"type\":\"Selection\"},\"selection_policy\":{\"id\":\"14747\",\"type\":\"UnionRenderers\"}},\"id\":\"14133\",\"type\":\"ColumnDataSource\"},{\"attributes\":{},\"id\":\"14116\",\"type\":\"WheelZoomTool\"},{\"attributes\":{\"source\":{\"id\":\"14160\",\"type\":\"ColumnDataSource\"}},\"id\":\"14164\",\"type\":\"CDSView\"},{\"attributes\":{\"source\":{\"id\":\"14128\",\"type\":\"ColumnDataSource\"}},\"id\":\"14132\",\"type\":\"CDSView\"},{\"attributes\":{\"fill_alpha\":{\"value\":0.1},\"fill_color\":{\"value\":\"#1f77b4\"},\"line_alpha\":{\"value\":0.1},\"line_color\":{\"value\":\"#1f77b4\"},\"x\":{\"field\":\"x\"},\"y\":{\"field\":\"y\"}},\"id\":\"14172\",\"type\":\"Circle\"},{\"attributes\":{\"data_source\":{\"id\":\"14128\",\"type\":\"ColumnDataSource\"},\"glyph\":{\"id\":\"14129\",\"type\":\"Rect\"},\"hover_glyph\":null,\"muted_glyph\":null,\"nonselection_glyph\":{\"id\":\"14130\",\"type\":\"Rect\"},\"selection_glyph\":null,\"view\":{\"id\":\"14132\",\"type\":\"CDSView\"}},\"id\":\"14131\",\"type\":\"GlyphRenderer\"},{\"attributes\":{},\"id\":\"14115\",\"type\":\"PanTool\"},{\"attributes\":{},\"id\":\"14743\",\"type\":\"BasicTickFormatter\"},{\"attributes\":{},\"id\":\"14102\",\"type\":\"CategoricalScale\"},{\"attributes\":{},\"id\":\"14746\",\"type\":\"Selection\"},{\"attributes\":{\"callback\":null,\"factors\":[\"precision\",\"s_metric\",\"KLD\",\"loss_G\",\"loss_D\"]},\"id\":\"14098\",\"type\":\"FactorRange\"},{\"attributes\":{},\"id\":\"14752\",\"type\":\"Selection\"},{\"attributes\":{},\"id\":\"14111\",\"type\":\"BasicTicker\"},{\"attributes\":{\"ticks\":[0.0,0.1,0.2,0.30000000000000004,0.4,0.5,0.6000000000000001,0.7000000000000001,0.8,0.9,1.0]},\"id\":\"14158\",\"type\":\"FixedTicker\"},{\"attributes\":{\"fill_color\":{\"value\":\"#FFA851\"},\"line_color\":{\"value\":\"#FF8000\"},\"x\":{\"field\":\"x\"},\"y\":{\"field\":\"y\"}},\"id\":\"14161\",\"type\":\"Circle\"},{\"attributes\":{\"data_source\":{\"id\":\"14170\",\"type\":\"ColumnDataSource\"},\"glyph\":{\"id\":\"14171\",\"type\":\"Circle\"},\"hover_glyph\":null,\"muted_glyph\":null,\"nonselection_glyph\":{\"id\":\"14172\",\"type\":\"Circle\"},\"selection_glyph\":null,\"view\":{\"id\":\"14174\",\"type\":\"CDSView\"}},\"id\":\"14173\",\"type\":\"GlyphRenderer\"},{\"attributes\":{},\"id\":\"14119\",\"type\":\"ResetTool\"},{\"attributes\":{\"data_source\":{\"id\":\"14160\",\"type\":\"ColumnDataSource\"},\"glyph\":{\"id\":\"14161\",\"type\":\"Circle\"},\"hover_glyph\":null,\"muted_glyph\":null,\"nonselection_glyph\":{\"id\":\"14162\",\"type\":\"Circle\"},\"selection_glyph\":null,\"view\":{\"id\":\"14164\",\"type\":\"CDSView\"}},\"id\":\"14163\",\"type\":\"GlyphRenderer\"},{\"attributes\":{\"fill_alpha\":{\"value\":0.1},\"fill_color\":{\"value\":\"#1f77b4\"},\"height\":{\"units\":\"data\",\"value\":0.001},\"line_alpha\":{\"value\":0.1},\"line_color\":{\"value\":\"#1f77b4\"},\"width\":{\"units\":\"data\",\"value\":0.2},\"x\":{\"field\":\"x\"},\"y\":{\"field\":\"y\"}},\"id\":\"14155\",\"type\":\"Rect\"},{\"attributes\":{\"fill_alpha\":{\"value\":0.1},\"fill_color\":{\"value\":\"#1f77b4\"},\"height\":{\"units\":\"data\",\"value\":0.001},\"line_alpha\":{\"value\":0.1},\"line_color\":{\"value\":\"#1f77b4\"},\"width\":{\"units\":\"data\",\"value\":0.2},\"x\":{\"field\":\"x\"},\"y\":{\"field\":\"y\"}},\"id\":\"14130\",\"type\":\"Rect\"},{\"attributes\":{},\"id\":\"14107\",\"type\":\"CategoricalTicker\"},{\"attributes\":{\"fill_alpha\":{\"value\":0.1},\"fill_color\":{\"value\":\"#1f77b4\"},\"line_alpha\":{\"value\":0.1},\"line_color\":{\"value\":\"#1f77b4\"},\"x\":{\"field\":\"x\"},\"y\":{\"field\":\"y\"}},\"id\":\"14162\",\"type\":\"Circle\"},{\"attributes\":{},\"id\":\"14747\",\"type\":\"UnionRenderers\"},{\"attributes\":{},\"id\":\"14120\",\"type\":\"HelpTool\"},{\"attributes\":{\"callback\":null,\"data\":{\"x\":[\"precision\",\"s_metric\",\"KLD\",\"loss_G\",\"loss_D\"],\"y\":[0.4620622581080247,0.6810604803499278,-0.00704081922541443,0.6414590609379266,0.6586426373255501]},\"selected\":{\"id\":\"14746\",\"type\":\"Selection\"},\"selection_policy\":{\"id\":\"14745\",\"type\":\"UnionRenderers\"}},\"id\":\"14128\",\"type\":\"ColumnDataSource\"},{\"attributes\":{\"source\":{\"id\":\"14165\",\"type\":\"ColumnDataSource\"}},\"id\":\"14169\",\"type\":\"CDSView\"},{\"attributes\":{\"overlay\":{\"id\":\"14744\",\"type\":\"BoxAnnotation\"}},\"id\":\"14117\",\"type\":\"BoxZoomTool\"},{\"attributes\":{},\"id\":\"14742\",\"type\":\"CategoricalTickFormatter\"},{\"attributes\":{\"source\":{\"id\":\"14170\",\"type\":\"ColumnDataSource\"}},\"id\":\"14174\",\"type\":\"CDSView\"},{\"attributes\":{\"fill_color\":{\"value\":\"#1f77b4\"},\"height\":{\"units\":\"data\",\"value\":0.001},\"width\":{\"units\":\"data\",\"value\":0.2},\"x\":{\"field\":\"x\"},\"y\":{\"field\":\"y\"}},\"id\":\"14129\",\"type\":\"Rect\"},{\"attributes\":{\"data_source\":{\"id\":\"14153\",\"type\":\"ColumnDataSource\"},\"glyph\":{\"id\":\"14154\",\"type\":\"Rect\"},\"hover_glyph\":null,\"muted_glyph\":null,\"nonselection_glyph\":{\"id\":\"14155\",\"type\":\"Rect\"},\"selection_glyph\":null,\"view\":{\"id\":\"14157\",\"type\":\"CDSView\"}},\"id\":\"14156\",\"type\":\"GlyphRenderer\"},{\"attributes\":{\"formatter\":{\"id\":\"14743\",\"type\":\"BasicTickFormatter\"},\"ticker\":{\"id\":\"14158\",\"type\":\"FixedTicker\"}},\"id\":\"14110\",\"type\":\"LinearAxis\"},{\"attributes\":{},\"id\":\"14118\",\"type\":\"SaveTool\"},{\"attributes\":{\"data_source\":{\"id\":\"14133\",\"type\":\"ColumnDataSource\"},\"glyph\":{\"id\":\"14134\",\"type\":\"Segment\"},\"hover_glyph\":null,\"muted_glyph\":null,\"nonselection_glyph\":{\"id\":\"14135\",\"type\":\"Segment\"},\"selection_glyph\":null,\"view\":{\"id\":\"14137\",\"type\":\"CDSView\"}},\"id\":\"14136\",\"type\":\"GlyphRenderer\"},{\"attributes\":{\"callback\":null,\"data\":{\"x\":[\"loss_D\"],\"y\":{\"__ndarray__\":\"OxxLm1/Z5D8=\",\"dtype\":\"float64\",\"shape\":[1]}},\"selected\":{\"id\":\"14762\",\"type\":\"Selection\"},\"selection_policy\":{\"id\":\"14761\",\"type\":\"UnionRenderers\"}},\"id\":\"14170\",\"type\":\"ColumnDataSource\"},{\"attributes\":{\"formatter\":{\"id\":\"14742\",\"type\":\"CategoricalTickFormatter\"},\"ticker\":{\"id\":\"14107\",\"type\":\"CategoricalTicker\"}},\"id\":\"14106\",\"type\":\"CategoricalAxis\"},{\"attributes\":{\"dimension\":1,\"grid_line_color\":\"white\",\"ticker\":{\"id\":\"14111\",\"type\":\"BasicTicker\"}},\"id\":\"14114\",\"type\":\"Grid\"},{\"attributes\":{\"callback\":null,\"data\":{\"x\":[\"loss_G\"],\"y\":{\"__ndarray__\":\"cUCU0xxE5D8=\",\"dtype\":\"float64\",\"shape\":[1]}},\"selected\":{\"id\":\"14760\",\"type\":\"Selection\"},\"selection_policy\":{\"id\":\"14759\",\"type\":\"UnionRenderers\"}},\"id\":\"14165\",\"type\":\"ColumnDataSource\"},{\"attributes\":{\"fill_alpha\":{\"value\":0.1},\"fill_color\":{\"value\":\"#1f77b4\"},\"line_alpha\":{\"value\":0.1},\"line_color\":{\"value\":\"#1f77b4\"},\"x\":{\"field\":\"x\"},\"y\":{\"field\":\"y\"}},\"id\":\"14167\",\"type\":\"Circle\"},{\"attributes\":{\"line_alpha\":{\"value\":0.1},\"line_color\":{\"value\":\"#1f77b4\"},\"x0\":{\"field\":\"x0\"},\"x1\":{\"field\":\"x1\"},\"y0\":{\"field\":\"y0\"},\"y1\":{\"field\":\"y1\"}},\"id\":\"14135\",\"type\":\"Segment\"},{\"attributes\":{\"fill_color\":{\"value\":\"#FFA851\"},\"line_color\":{\"value\":\"#FF8000\"},\"x\":{\"field\":\"x\"},\"y\":{\"field\":\"y\"}},\"id\":\"14171\",\"type\":\"Circle\"},{\"attributes\":{\"callback\":null,\"data\":{\"bottom\":[0.5071379734214874,0.7072269849665818,0.004297477918253512,0.6719408761193919,0.6784300047909656],\"top\":[0.5674477841148995,0.7251060040999582,0.01608542221423512,0.6822733103156726,0.6842756440525087],\"x\":[\"precision\",\"s_metric\",\"KLD\",\"loss_G\",\"loss_D\"]},\"selected\":{\"id\":\"14750\",\"type\":\"Selection\"},\"selection_policy\":{\"id\":\"14749\",\"type\":\"UnionRenderers\"}},\"id\":\"14138\",\"type\":\"ColumnDataSource\"},{\"attributes\":{\"callback\":null,\"data\":{\"x\":[\"KLD\"],\"y\":{\"__ndarray__\":\"FLv2rCQJtT8=\",\"dtype\":\"float64\",\"shape\":[1]}},\"selected\":{\"id\":\"14758\",\"type\":\"Selection\"},\"selection_policy\":{\"id\":\"14757\",\"type\":\"UnionRenderers\"}},\"id\":\"14160\",\"type\":\"ColumnDataSource\"},{\"attributes\":{\"x0\":{\"field\":\"x0\"},\"x1\":{\"field\":\"x1\"},\"y0\":{\"field\":\"y0\"},\"y1\":{\"field\":\"y1\"}},\"id\":\"14134\",\"type\":\"Segment\"},{\"attributes\":{\"source\":{\"id\":\"14153\",\"type\":\"ColumnDataSource\"}},\"id\":\"14157\",\"type\":\"CDSView\"},{\"attributes\":{\"bottom_units\":\"screen\",\"fill_alpha\":{\"value\":0.5},\"fill_color\":{\"value\":\"lightgrey\"},\"left_units\":\"screen\",\"level\":\"overlay\",\"line_alpha\":{\"value\":1.0},\"line_color\":{\"value\":\"black\"},\"line_dash\":[4,4],\"line_width\":{\"value\":2},\"render_mode\":\"css\",\"right_units\":\"screen\",\"top_units\":\"screen\"},\"id\":\"14744\",\"type\":\"BoxAnnotation\"},{\"attributes\":{\"active_drag\":\"auto\",\"active_inspect\":\"auto\",\"active_multi\":null,\"active_scroll\":\"auto\",\"active_tap\":\"auto\",\"tools\":[{\"id\":\"14115\",\"type\":\"PanTool\"},{\"id\":\"14116\",\"type\":\"WheelZoomTool\"},{\"id\":\"14117\",\"type\":\"BoxZoomTool\"},{\"id\":\"14118\",\"type\":\"SaveTool\"},{\"id\":\"14119\",\"type\":\"ResetTool\"},{\"id\":\"14120\",\"type\":\"HelpTool\"}]},\"id\":\"14121\",\"type\":\"Toolbar\"},{\"attributes\":{},\"id\":\"14751\",\"type\":\"UnionRenderers\"}],\"root_ids\":[\"14097\"]},\"title\":\"Bokeh Application\",\"version\":\"1.4.0\"}};\n",
       "  var render_items = [{\"docid\":\"7b99ab8b-5eb5-4a55-a022-3d13ffbbd9ba\",\"roots\":{\"14097\":\"74a633ce-b24d-470e-8fd0-dd6d872edd0d\"}}];\n",
       "  root.Bokeh.embed.embed_items_notebook(docs_json, render_items);\n",
       "\n",
       "  }\n",
       "  if (root.Bokeh !== undefined) {\n",
       "    embed_document(root);\n",
       "  } else {\n",
       "    var attempts = 0;\n",
       "    var timer = setInterval(function(root) {\n",
       "      if (root.Bokeh !== undefined) {\n",
       "        clearInterval(timer);\n",
       "        embed_document(root);\n",
       "      } else {\n",
       "        attempts++;\n",
       "        if (attempts > 100) {\n",
       "          clearInterval(timer);\n",
       "          console.log(\"Bokeh: ERROR: Unable to run BokehJS code because BokehJS library is missing\");\n",
       "        }\n",
       "      }\n",
       "    }, 10, root)\n",
       "  }\n",
       "})(window);"
      ],
      "application/vnd.bokehjs_exec.v0+json": ""
     },
     "metadata": {
      "application/vnd.bokehjs_exec.v0+json": {
       "id": "14097"
      }
     },
     "output_type": "display_data"
    }
   ],
   "source": [
    "cats = [\"precision\",\"s_metric\", \"KLD\", \"loss_G\", \"loss_D\"]\n",
    "p = figure(plot_height=200, plot_width=350, x_range=cats, background_fill_color=\"#E8E8E8\",)\n",
    "p.rect(cats, [pl_1, sl_1, kl_1, gl_1, dl_1], width=.2, height=.001, line_color=\"black\")\n",
    "p.segment(cats, [pl_1, sl_1, kl_1, gl_1, dl_1], cats, [pq1_1, sq1_1, kq1_1, gq1_1, dq1_1], line_color=\"black\")\n",
    "p.vbar(cats, width=.4, top=[pq2_1, sq2_1, kq2_1, gq2_1, dq2_1], bottom=[pq1_1, sq1_1, kq1_1, gq1_1, dq1_1],\n",
    "       fill_color=\"#3B8686\", line_color=\"black\")\n",
    "p.vbar(cats, width=.4, top=[pq3_1, sq3_1, kq3_1, gq3_1, dq3_1], bottom=[pq2_1, sq2_1, kq2_1, gq2_1, dq2_1],\n",
    "       fill_color=\"#E08E79\", line_color=\"black\")\n",
    "p.segment(cats, [pq3_1, sq3_1, kq3_1, gq3_1, dq3_1], cats, [pu_1, su_1, ku_1, gu_1, du_1], line_color=\"black\")\n",
    "p.rect(cats, [pu_1, su_1, ku_1, gu_1, du_1], width=.2, height=.001, line_color=\"black\")\n",
    "p.xgrid.grid_line_color = None\n",
    "p.ygrid.grid_line_color = \"white\"\n",
    "p.grid.grid_line_width = 1\n",
    "p.yaxis.ticker = np.arange(0,1.1,.1)\n",
    "\n",
    "#outliers\n",
    "list_outs = [pouts_1, souts_1, kouts_1, gouts_1, douts_1]\n",
    "for idx in range(len(cats)):\n",
    "    aux_var = list_outs[idx]\n",
    "    if len(aux_var)>0:\n",
    "        p.circle([cats[idx] for i in range(len(aux_var))], aux_var, line_color=\"#FF8000\",\n",
    "                fill_color=\"#FFA851\", size=4)\n",
    "    \n",
    "show(p)"
   ]
  },
  {
   "cell_type": "code",
   "execution_count": 144,
   "metadata": {},
   "outputs": [],
   "source": [
    "np.save(file=\"./results/selecting_gan/precision_1.npy\", arr=np.array(precision1))\n",
    "np.save(file=\"./results/selecting_gan/kld_1.npy\", arr=np.array(kld1))\n",
    "np.save(file=\"./results/selecting_gan/loss_g_1.npy\", arr=np.array(loss_g1))\n",
    "np.save(file=\"./results/selecting_gan/loss_d_1.npy\", arr=np.array(loss_d1))\n",
    "np.save(file=\"./results/selecting_gan/s_metric_1.npy\", arr=np.array(s_metric_1))"
   ]
  },
  {
   "cell_type": "markdown",
   "metadata": {},
   "source": [
    "### architecture #2"
   ]
  },
  {
   "cell_type": "code",
   "execution_count": 84,
   "metadata": {},
   "outputs": [
    {
     "name": "stdout",
     "output_type": "stream",
     "text": [
      "noise input shape: (3, 50)\n",
      "---------------------------\n",
      "synthetic samples:\n"
     ]
    },
    {
     "data": {
      "text/plain": [
       "<tf.Tensor: shape=(3, 9), dtype=float64, numpy=\n",
       "array([[ 0.0666585 ,  0.07870154,  0.13700986, -0.15882757, -0.07798688,\n",
       "        -0.09654467, -0.04417036,  0.10516338, -0.1151787 ],\n",
       "       [-0.08953989, -0.03638967,  0.14772465,  0.00851111, -0.06336538,\n",
       "         0.04427652, -0.10444607,  0.03075367, -0.08299109],\n",
       "       [ 0.11944864,  0.00238506, -0.0628525 ,  0.01046058, -0.08389618,\n",
       "        -0.00606319,  0.03033345,  0.00037726, -0.00935931]])>"
      ]
     },
     "execution_count": 84,
     "metadata": {},
     "output_type": "execute_result"
    }
   ],
   "source": [
    "#Generator network\n",
    "G2 = Sequential()\n",
    "G2.add(Dense(noise_shape, input_shape=(noise_shape,)))\n",
    "G2.add(Dropout(.1))\n",
    "G2.add(Dense(70))\n",
    "G2.add(Dropout(.15))\n",
    "G2.add(Dense(20))\n",
    "G2.add(Dense(rg_data.shape[1], activation=\"tanh\"))\n",
    "\n",
    "#synthetic sample\n",
    "noise_input = tf.random_normal_initializer()((num_syn_samples, noise_shape))\n",
    "print(\"noise input shape:\", noise_input.shape)\n",
    "print(\"---------------------------\")\n",
    "print(\"synthetic samples:\")\n",
    "synthetic_samples = G2(noise_input)\n",
    "synthetic_samples"
   ]
  },
  {
   "cell_type": "code",
   "execution_count": 85,
   "metadata": {},
   "outputs": [
    {
     "name": "stdout",
     "output_type": "stream",
     "text": [
      "output of the disriminator network:\n"
     ]
    },
    {
     "data": {
      "text/plain": [
       "<tf.Tensor: shape=(3, 1), dtype=float64, numpy=\n",
       "array([[0.49939364],\n",
       "       [0.49767855],\n",
       "       [0.50055106]])>"
      ]
     },
     "execution_count": 85,
     "metadata": {},
     "output_type": "execute_result"
    }
   ],
   "source": [
    "D2 = Sequential()\n",
    "D2.add(Dense(rg_data.shape[1], input_shape=(rg_data.shape[1],)))\n",
    "D2.add(Dense(9, activation=\"relu\"))\n",
    "D2.add(Dense(30, activation=\"relu\"))\n",
    "D2.add(Dense(9, activation=\"relu\"))\n",
    "D2.add(Dense(1, activation=\"sigmoid\"))\n",
    "\n",
    "print(\"output of the disriminator network:\")\n",
    "D2(synthetic_samples)"
   ]
  },
  {
   "cell_type": "code",
   "execution_count": 86,
   "metadata": {},
   "outputs": [
    {
     "name": "stdout",
     "output_type": "stream",
     "text": [
      "iteration: 0, time: 14.955844163894653 [s]\n"
     ]
    },
    {
     "name": "stderr",
     "output_type": "stream",
     "text": [
      "/home/edwin/.local/lib/python3.6/site-packages/sklearn/metrics/_classification.py:1221: UndefinedMetricWarning: Precision is ill-defined and being set to 0.0 due to no predicted samples. Use `zero_division` parameter to control this behavior.\n",
      "  _warn_prf(average, modifier, msg_start, len(result))\n"
     ]
    },
    {
     "name": "stdout",
     "output_type": "stream",
     "text": [
      "iteration: 1, time: 14.26535153388977 [s]\n",
      "iteration: 2, time: 14.233410358428955 [s]\n",
      "iteration: 3, time: 14.618199110031128 [s]\n",
      "iteration: 4, time: 14.387144327163696 [s]\n",
      "iteration: 5, time: 14.314600229263306 [s]\n",
      "iteration: 6, time: 14.418342351913452 [s]\n",
      "iteration: 7, time: 14.299922704696655 [s]\n"
     ]
    },
    {
     "name": "stderr",
     "output_type": "stream",
     "text": [
      "/home/edwin/.local/lib/python3.6/site-packages/sklearn/metrics/_classification.py:1221: UndefinedMetricWarning: Precision is ill-defined and being set to 0.0 due to no predicted samples. Use `zero_division` parameter to control this behavior.\n",
      "  _warn_prf(average, modifier, msg_start, len(result))\n"
     ]
    },
    {
     "name": "stdout",
     "output_type": "stream",
     "text": [
      "iteration: 8, time: 14.331905603408813 [s]\n"
     ]
    },
    {
     "name": "stderr",
     "output_type": "stream",
     "text": [
      "/home/edwin/.local/lib/python3.6/site-packages/sklearn/metrics/_classification.py:1221: UndefinedMetricWarning: Precision is ill-defined and being set to 0.0 due to no predicted samples. Use `zero_division` parameter to control this behavior.\n",
      "  _warn_prf(average, modifier, msg_start, len(result))\n"
     ]
    },
    {
     "name": "stdout",
     "output_type": "stream",
     "text": [
      "iteration: 9, time: 14.328596830368042 [s]\n"
     ]
    },
    {
     "name": "stderr",
     "output_type": "stream",
     "text": [
      "/home/edwin/.local/lib/python3.6/site-packages/sklearn/metrics/_classification.py:1221: UndefinedMetricWarning: Precision is ill-defined and being set to 0.0 due to no predicted samples. Use `zero_division` parameter to control this behavior.\n",
      "  _warn_prf(average, modifier, msg_start, len(result))\n"
     ]
    },
    {
     "name": "stdout",
     "output_type": "stream",
     "text": [
      "iteration: 10, time: 14.382719993591309 [s]\n"
     ]
    },
    {
     "name": "stderr",
     "output_type": "stream",
     "text": [
      "/home/edwin/.local/lib/python3.6/site-packages/sklearn/metrics/_classification.py:1221: UndefinedMetricWarning: Precision is ill-defined and being set to 0.0 due to no predicted samples. Use `zero_division` parameter to control this behavior.\n",
      "  _warn_prf(average, modifier, msg_start, len(result))\n"
     ]
    },
    {
     "name": "stdout",
     "output_type": "stream",
     "text": [
      "iteration: 11, time: 14.384347915649414 [s]\n"
     ]
    },
    {
     "name": "stderr",
     "output_type": "stream",
     "text": [
      "/home/edwin/.local/lib/python3.6/site-packages/sklearn/metrics/_classification.py:1221: UndefinedMetricWarning: Precision is ill-defined and being set to 0.0 due to no predicted samples. Use `zero_division` parameter to control this behavior.\n",
      "  _warn_prf(average, modifier, msg_start, len(result))\n"
     ]
    },
    {
     "name": "stdout",
     "output_type": "stream",
     "text": [
      "iteration: 12, time: 14.388686180114746 [s]\n"
     ]
    },
    {
     "name": "stderr",
     "output_type": "stream",
     "text": [
      "/home/edwin/.local/lib/python3.6/site-packages/sklearn/metrics/_classification.py:1221: UndefinedMetricWarning: Precision is ill-defined and being set to 0.0 due to no predicted samples. Use `zero_division` parameter to control this behavior.\n",
      "  _warn_prf(average, modifier, msg_start, len(result))\n"
     ]
    },
    {
     "name": "stdout",
     "output_type": "stream",
     "text": [
      "iteration: 13, time: 14.460113286972046 [s]\n",
      "iteration: 14, time: 14.350780725479126 [s]\n"
     ]
    },
    {
     "name": "stderr",
     "output_type": "stream",
     "text": [
      "/home/edwin/.local/lib/python3.6/site-packages/sklearn/metrics/_classification.py:1221: UndefinedMetricWarning: Precision is ill-defined and being set to 0.0 due to no predicted samples. Use `zero_division` parameter to control this behavior.\n",
      "  _warn_prf(average, modifier, msg_start, len(result))\n"
     ]
    },
    {
     "name": "stdout",
     "output_type": "stream",
     "text": [
      "iteration: 15, time: 14.333749771118164 [s]\n",
      "iteration: 16, time: 15.062108278274536 [s]\n",
      "iteration: 17, time: 14.426419973373413 [s]\n",
      "iteration: 18, time: 14.417820692062378 [s]\n"
     ]
    },
    {
     "name": "stderr",
     "output_type": "stream",
     "text": [
      "/home/edwin/.local/lib/python3.6/site-packages/sklearn/metrics/_classification.py:1221: UndefinedMetricWarning: Precision is ill-defined and being set to 0.0 due to no predicted samples. Use `zero_division` parameter to control this behavior.\n",
      "  _warn_prf(average, modifier, msg_start, len(result))\n"
     ]
    },
    {
     "name": "stdout",
     "output_type": "stream",
     "text": [
      "iteration: 19, time: 14.401445388793945 [s]\n",
      "iteration: 20, time: 14.467169284820557 [s]\n"
     ]
    },
    {
     "name": "stderr",
     "output_type": "stream",
     "text": [
      "/home/edwin/.local/lib/python3.6/site-packages/sklearn/metrics/_classification.py:1221: UndefinedMetricWarning: Precision is ill-defined and being set to 0.0 due to no predicted samples. Use `zero_division` parameter to control this behavior.\n",
      "  _warn_prf(average, modifier, msg_start, len(result))\n"
     ]
    },
    {
     "name": "stdout",
     "output_type": "stream",
     "text": [
      "iteration: 21, time: 14.381540298461914 [s]\n",
      "iteration: 22, time: 14.523797273635864 [s]\n",
      "iteration: 23, time: 14.438044786453247 [s]\n"
     ]
    },
    {
     "name": "stderr",
     "output_type": "stream",
     "text": [
      "/home/edwin/.local/lib/python3.6/site-packages/sklearn/metrics/_classification.py:1221: UndefinedMetricWarning: Precision is ill-defined and being set to 0.0 due to no predicted samples. Use `zero_division` parameter to control this behavior.\n",
      "  _warn_prf(average, modifier, msg_start, len(result))\n"
     ]
    },
    {
     "name": "stdout",
     "output_type": "stream",
     "text": [
      "iteration: 24, time: 14.428840398788452 [s]\n",
      "iteration: 25, time: 14.34935736656189 [s]\n",
      "iteration: 26, time: 14.316933155059814 [s]\n"
     ]
    },
    {
     "name": "stderr",
     "output_type": "stream",
     "text": [
      "/home/edwin/.local/lib/python3.6/site-packages/sklearn/metrics/_classification.py:1221: UndefinedMetricWarning: Precision is ill-defined and being set to 0.0 due to no predicted samples. Use `zero_division` parameter to control this behavior.\n",
      "  _warn_prf(average, modifier, msg_start, len(result))\n"
     ]
    },
    {
     "name": "stdout",
     "output_type": "stream",
     "text": [
      "iteration: 27, time: 14.36916732788086 [s]\n",
      "iteration: 28, time: 14.348952770233154 [s]\n"
     ]
    },
    {
     "name": "stderr",
     "output_type": "stream",
     "text": [
      "/home/edwin/.local/lib/python3.6/site-packages/sklearn/metrics/_classification.py:1221: UndefinedMetricWarning: Precision is ill-defined and being set to 0.0 due to no predicted samples. Use `zero_division` parameter to control this behavior.\n",
      "  _warn_prf(average, modifier, msg_start, len(result))\n"
     ]
    },
    {
     "name": "stdout",
     "output_type": "stream",
     "text": [
      "iteration: 29, time: 14.473341941833496 [s]\n",
      "iteration: 30, time: 14.561034679412842 [s]\n",
      "iteration: 31, time: 14.436338186264038 [s]\n",
      "iteration: 32, time: 14.399669647216797 [s]\n",
      "iteration: 33, time: 14.563725471496582 [s]\n",
      "iteration: 34, time: 14.726586103439331 [s]\n",
      "iteration: 35, time: 14.438814401626587 [s]\n",
      "iteration: 36, time: 14.410927057266235 [s]\n"
     ]
    },
    {
     "name": "stderr",
     "output_type": "stream",
     "text": [
      "/home/edwin/.local/lib/python3.6/site-packages/sklearn/metrics/_classification.py:1221: UndefinedMetricWarning: Precision is ill-defined and being set to 0.0 due to no predicted samples. Use `zero_division` parameter to control this behavior.\n",
      "  _warn_prf(average, modifier, msg_start, len(result))\n"
     ]
    },
    {
     "name": "stdout",
     "output_type": "stream",
     "text": [
      "iteration: 37, time: 14.503456354141235 [s]\n"
     ]
    },
    {
     "name": "stderr",
     "output_type": "stream",
     "text": [
      "/home/edwin/.local/lib/python3.6/site-packages/sklearn/metrics/_classification.py:1221: UndefinedMetricWarning: Precision is ill-defined and being set to 0.0 due to no predicted samples. Use `zero_division` parameter to control this behavior.\n",
      "  _warn_prf(average, modifier, msg_start, len(result))\n"
     ]
    },
    {
     "name": "stdout",
     "output_type": "stream",
     "text": [
      "iteration: 38, time: 14.38500165939331 [s]\n"
     ]
    },
    {
     "name": "stderr",
     "output_type": "stream",
     "text": [
      "/home/edwin/.local/lib/python3.6/site-packages/sklearn/metrics/_classification.py:1221: UndefinedMetricWarning: Precision is ill-defined and being set to 0.0 due to no predicted samples. Use `zero_division` parameter to control this behavior.\n",
      "  _warn_prf(average, modifier, msg_start, len(result))\n"
     ]
    },
    {
     "name": "stdout",
     "output_type": "stream",
     "text": [
      "iteration: 39, time: 14.387951135635376 [s]\n"
     ]
    }
   ],
   "source": [
    "epochs = 1700\n",
    "precision2, kld2, loss_g2, loss_d2, s_metric_2 = [], [], [], [], []\n",
    "train_times = []\n",
    "for i in range(num_iterations):\n",
    "    tic = time()\n",
    "    init = tf.keras.initializers.glorot_uniform()\n",
    "    init_weights = []\n",
    "    for w in D2.get_weights():\n",
    "        init_weights.append(init(w.shape))\n",
    "    D2.set_weights(init_weights)\n",
    "    \n",
    "    init = tf.keras.initializers.glorot_uniform()\n",
    "    init_weights = []\n",
    "    for w in G2.get_weights():\n",
    "        init_weights.append(init(w.shape))\n",
    "    G2.set_weights(init_weights)    \n",
    "    \n",
    "    gan_utils2 = EdwinRueda_utils.gan_utils()\n",
    "    optimizerG2 = tf.optimizers.SGD(lr=.00015, momentum=.92, decay=.00015/epochs)\n",
    "    optimizerD2 = tf.optimizers.SGD(lr=.001, momentum=.9, decay=.001/epochs)\n",
    "    accumulated_gloss, accumulated_dloss = gan_utils2.train(rg_data, G2, D2, noise_input=noise_shape,\n",
    "                                                       epochs=epochs, batch_size=rg_data.shape[0],\n",
    "                                                       optimizerG=optimizerG2, optimizerD=optimizerD2,\n",
    "                                                       verbose=False)\n",
    "    precision, kld, loss_g, loss_d, s_metric =  gan_utils2.get_metrics(num_iter=50)\n",
    "    precision2.append(np.mean(precision))\n",
    "    kld2.append(np.mean(kld))\n",
    "    loss_g2.append(np.mean(loss_g))\n",
    "    loss_d2.append(np.mean(loss_d))\n",
    "    s_metric_2.append(np.mean(s_metric))\n",
    "    toc = time()\n",
    "    train_times.append(toc-tic)\n",
    "    print(\"iteration: {}, time: {} [s]\".format(i, toc-tic))"
   ]
  },
  {
   "cell_type": "code",
   "execution_count": 87,
   "metadata": {},
   "outputs": [
    {
     "data": {
      "text/html": [
       "\n",
       "\n",
       "\n",
       "\n",
       "\n",
       "\n",
       "  <div class=\"bk-root\" id=\"a4f022ba-9c64-49c0-87b2-873e357749cc\" data-root-id=\"11168\"></div>\n"
      ]
     },
     "metadata": {},
     "output_type": "display_data"
    },
    {
     "data": {
      "application/javascript": [
       "(function(root) {\n",
       "  function embed_document(root) {\n",
       "    \n",
       "  var docs_json = {\"f42feb5b-1dfa-4ed0-b8c2-b0d451ebb5e4\":{\"roots\":{\"references\":[{\"attributes\":{\"background_fill_color\":{\"value\":\"#E8E8E8\"},\"below\":[{\"id\":\"11177\",\"type\":\"CategoricalAxis\"}],\"center\":[{\"id\":\"11180\",\"type\":\"Grid\"},{\"id\":\"11185\",\"type\":\"Grid\"}],\"left\":[{\"id\":\"11181\",\"type\":\"LinearAxis\"}],\"plot_height\":200,\"plot_width\":350,\"renderers\":[{\"id\":\"11202\",\"type\":\"GlyphRenderer\"},{\"id\":\"11207\",\"type\":\"GlyphRenderer\"},{\"id\":\"11212\",\"type\":\"GlyphRenderer\"},{\"id\":\"11217\",\"type\":\"GlyphRenderer\"},{\"id\":\"11222\",\"type\":\"GlyphRenderer\"},{\"id\":\"11227\",\"type\":\"GlyphRenderer\"},{\"id\":\"11234\",\"type\":\"GlyphRenderer\"},{\"id\":\"11239\",\"type\":\"GlyphRenderer\"}],\"title\":{\"id\":\"11720\",\"type\":\"Title\"},\"toolbar\":{\"id\":\"11192\",\"type\":\"Toolbar\"},\"x_range\":{\"id\":\"11169\",\"type\":\"FactorRange\"},\"x_scale\":{\"id\":\"11173\",\"type\":\"CategoricalScale\"},\"y_range\":{\"id\":\"11171\",\"type\":\"DataRange1d\"},\"y_scale\":{\"id\":\"11175\",\"type\":\"LinearScale\"}},\"id\":\"11168\",\"subtype\":\"Figure\",\"type\":\"Plot\"},{\"attributes\":{},\"id\":\"11173\",\"type\":\"CategoricalScale\"},{\"attributes\":{\"line_alpha\":{\"value\":0.1},\"line_color\":{\"value\":\"#1f77b4\"},\"x0\":{\"field\":\"x0\"},\"x1\":{\"field\":\"x1\"},\"y0\":{\"field\":\"y0\"},\"y1\":{\"field\":\"y1\"}},\"id\":\"11221\",\"type\":\"Segment\"},{\"attributes\":{\"source\":{\"id\":\"11199\",\"type\":\"ColumnDataSource\"}},\"id\":\"11203\",\"type\":\"CDSView\"},{\"attributes\":{},\"id\":\"11738\",\"type\":\"Selection\"},{\"attributes\":{\"source\":{\"id\":\"11236\",\"type\":\"ColumnDataSource\"}},\"id\":\"11240\",\"type\":\"CDSView\"},{\"attributes\":{\"data_source\":{\"id\":\"11219\",\"type\":\"ColumnDataSource\"},\"glyph\":{\"id\":\"11220\",\"type\":\"Segment\"},\"hover_glyph\":null,\"muted_glyph\":null,\"nonselection_glyph\":{\"id\":\"11221\",\"type\":\"Segment\"},\"selection_glyph\":null,\"view\":{\"id\":\"11223\",\"type\":\"CDSView\"}},\"id\":\"11222\",\"type\":\"GlyphRenderer\"},{\"attributes\":{},\"id\":\"11175\",\"type\":\"LinearScale\"},{\"attributes\":{\"callback\":null,\"data\":{\"bottom\":[0.5764312011446923,0.7313848491654273,0.016869086343781453,0.6278158389625726,0.6309589321127396],\"top\":[0.6263053582259261,0.7502347363213919,0.035490536364479575,0.6546917808920738,0.6507918826901957],\"x\":[\"precision\",\"s_metric\",\"KLD\",\"loss_G\",\"loss_D\"]},\"selected\":{\"id\":\"11730\",\"type\":\"Selection\"},\"selection_policy\":{\"id\":\"11729\",\"type\":\"UnionRenderers\"}},\"id\":\"11209\",\"type\":\"ColumnDataSource\"},{\"attributes\":{},\"id\":\"11739\",\"type\":\"UnionRenderers\"},{\"attributes\":{\"formatter\":{\"id\":\"11722\",\"type\":\"CategoricalTickFormatter\"},\"ticker\":{\"id\":\"11178\",\"type\":\"CategoricalTicker\"}},\"id\":\"11177\",\"type\":\"CategoricalAxis\"},{\"attributes\":{\"source\":{\"id\":\"11219\",\"type\":\"ColumnDataSource\"}},\"id\":\"11223\",\"type\":\"CDSView\"},{\"attributes\":{\"x0\":{\"field\":\"x0\"},\"x1\":{\"field\":\"x1\"},\"y0\":{\"field\":\"y0\"},\"y1\":{\"field\":\"y1\"}},\"id\":\"11205\",\"type\":\"Segment\"},{\"attributes\":{},\"id\":\"11740\",\"type\":\"Selection\"},{\"attributes\":{},\"id\":\"11722\",\"type\":\"CategoricalTickFormatter\"},{\"attributes\":{},\"id\":\"11178\",\"type\":\"CategoricalTicker\"},{\"attributes\":{\"line_alpha\":{\"value\":0.1},\"line_color\":{\"value\":\"#1f77b4\"},\"x0\":{\"field\":\"x0\"},\"x1\":{\"field\":\"x1\"},\"y0\":{\"field\":\"y0\"},\"y1\":{\"field\":\"y1\"}},\"id\":\"11206\",\"type\":\"Segment\"},{\"attributes\":{},\"id\":\"11723\",\"type\":\"BasicTickFormatter\"},{\"attributes\":{\"grid_line_color\":null,\"ticker\":{\"id\":\"11178\",\"type\":\"CategoricalTicker\"}},\"id\":\"11180\",\"type\":\"Grid\"},{\"attributes\":{\"fill_color\":{\"value\":\"#1f77b4\"},\"height\":{\"units\":\"data\",\"value\":0.001},\"width\":{\"units\":\"data\",\"value\":0.2},\"x\":{\"field\":\"x\"},\"y\":{\"field\":\"y\"}},\"id\":\"11225\",\"type\":\"Rect\"},{\"attributes\":{\"data_source\":{\"id\":\"11204\",\"type\":\"ColumnDataSource\"},\"glyph\":{\"id\":\"11205\",\"type\":\"Segment\"},\"hover_glyph\":null,\"muted_glyph\":null,\"nonselection_glyph\":{\"id\":\"11206\",\"type\":\"Segment\"},\"selection_glyph\":null,\"view\":{\"id\":\"11208\",\"type\":\"CDSView\"}},\"id\":\"11207\",\"type\":\"GlyphRenderer\"},{\"attributes\":{\"bottom_units\":\"screen\",\"fill_alpha\":{\"value\":0.5},\"fill_color\":{\"value\":\"lightgrey\"},\"left_units\":\"screen\",\"level\":\"overlay\",\"line_alpha\":{\"value\":1.0},\"line_color\":{\"value\":\"black\"},\"line_dash\":[4,4],\"line_width\":{\"value\":2},\"render_mode\":\"css\",\"right_units\":\"screen\",\"top_units\":\"screen\"},\"id\":\"11724\",\"type\":\"BoxAnnotation\"},{\"attributes\":{\"formatter\":{\"id\":\"11723\",\"type\":\"BasicTickFormatter\"},\"ticker\":{\"id\":\"11229\",\"type\":\"FixedTicker\"}},\"id\":\"11181\",\"type\":\"LinearAxis\"},{\"attributes\":{\"fill_alpha\":{\"value\":0.1},\"fill_color\":{\"value\":\"#1f77b4\"},\"height\":{\"units\":\"data\",\"value\":0.001},\"line_alpha\":{\"value\":0.1},\"line_color\":{\"value\":\"#1f77b4\"},\"width\":{\"units\":\"data\",\"value\":0.2},\"x\":{\"field\":\"x\"},\"y\":{\"field\":\"y\"}},\"id\":\"11226\",\"type\":\"Rect\"},{\"attributes\":{\"source\":{\"id\":\"11204\",\"type\":\"ColumnDataSource\"}},\"id\":\"11208\",\"type\":\"CDSView\"},{\"attributes\":{},\"id\":\"11725\",\"type\":\"UnionRenderers\"},{\"attributes\":{\"data_source\":{\"id\":\"11224\",\"type\":\"ColumnDataSource\"},\"glyph\":{\"id\":\"11225\",\"type\":\"Rect\"},\"hover_glyph\":null,\"muted_glyph\":null,\"nonselection_glyph\":{\"id\":\"11226\",\"type\":\"Rect\"},\"selection_glyph\":null,\"view\":{\"id\":\"11228\",\"type\":\"CDSView\"}},\"id\":\"11227\",\"type\":\"GlyphRenderer\"},{\"attributes\":{},\"id\":\"11182\",\"type\":\"BasicTicker\"},{\"attributes\":{\"callback\":null,\"data\":{\"bottom\":[0.6263053582259261,0.7502347363213919,0.035490536364479575,0.6546917808920738,0.6507918826901957],\"top\":[0.6901685740068296,0.7629957910872744,0.07144251990320202,0.6705190130391387,0.676331037839898],\"x\":[\"precision\",\"s_metric\",\"KLD\",\"loss_G\",\"loss_D\"]},\"selected\":{\"id\":\"11732\",\"type\":\"Selection\"},\"selection_policy\":{\"id\":\"11731\",\"type\":\"UnionRenderers\"}},\"id\":\"11214\",\"type\":\"ColumnDataSource\"},{\"attributes\":{},\"id\":\"11726\",\"type\":\"Selection\"},{\"attributes\":{\"dimension\":1,\"grid_line_color\":\"white\",\"ticker\":{\"id\":\"11182\",\"type\":\"BasicTicker\"}},\"id\":\"11185\",\"type\":\"Grid\"},{\"attributes\":{\"source\":{\"id\":\"11224\",\"type\":\"ColumnDataSource\"}},\"id\":\"11228\",\"type\":\"CDSView\"},{\"attributes\":{\"bottom\":{\"field\":\"bottom\"},\"fill_color\":{\"value\":\"#3B8686\"},\"top\":{\"field\":\"top\"},\"width\":{\"value\":0.4},\"x\":{\"field\":\"x\"}},\"id\":\"11210\",\"type\":\"VBar\"},{\"attributes\":{},\"id\":\"11727\",\"type\":\"UnionRenderers\"},{\"attributes\":{\"fill_alpha\":{\"value\":0.1},\"fill_color\":{\"value\":\"#1f77b4\"},\"height\":{\"units\":\"data\",\"value\":0.001},\"line_alpha\":{\"value\":0.1},\"line_color\":{\"value\":\"#1f77b4\"},\"width\":{\"units\":\"data\",\"value\":0.2},\"x\":{\"field\":\"x\"},\"y\":{\"field\":\"y\"}},\"id\":\"11201\",\"type\":\"Rect\"},{\"attributes\":{\"x0\":{\"field\":\"x0\"},\"x1\":{\"field\":\"x1\"},\"y0\":{\"field\":\"y0\"},\"y1\":{\"field\":\"y1\"}},\"id\":\"11220\",\"type\":\"Segment\"},{\"attributes\":{\"bottom\":{\"field\":\"bottom\"},\"fill_alpha\":{\"value\":0.1},\"fill_color\":{\"value\":\"#1f77b4\"},\"line_alpha\":{\"value\":0.1},\"line_color\":{\"value\":\"#1f77b4\"},\"top\":{\"field\":\"top\"},\"width\":{\"value\":0.4},\"x\":{\"field\":\"x\"}},\"id\":\"11211\",\"type\":\"VBar\"},{\"attributes\":{\"callback\":null,\"data\":{\"x\":[\"s_metric\",\"s_metric\",\"s_metric\"],\"y\":{\"__ndarray__\":\"2FSkk69P6j99mxCLghXqP6RFV/j5Huo/\",\"dtype\":\"float64\",\"shape\":[3]}},\"selected\":{\"id\":\"11738\",\"type\":\"Selection\"},\"selection_policy\":{\"id\":\"11737\",\"type\":\"UnionRenderers\"}},\"id\":\"11231\",\"type\":\"ColumnDataSource\"},{\"attributes\":{},\"id\":\"11728\",\"type\":\"Selection\"},{\"attributes\":{\"fill_color\":{\"value\":\"#1f77b4\"},\"height\":{\"units\":\"data\",\"value\":0.001},\"width\":{\"units\":\"data\",\"value\":0.2},\"x\":{\"field\":\"x\"},\"y\":{\"field\":\"y\"}},\"id\":\"11200\",\"type\":\"Rect\"},{\"attributes\":{\"data_source\":{\"id\":\"11209\",\"type\":\"ColumnDataSource\"},\"glyph\":{\"id\":\"11210\",\"type\":\"VBar\"},\"hover_glyph\":null,\"muted_glyph\":null,\"nonselection_glyph\":{\"id\":\"11211\",\"type\":\"VBar\"},\"selection_glyph\":null,\"view\":{\"id\":\"11213\",\"type\":\"CDSView\"}},\"id\":\"11212\",\"type\":\"GlyphRenderer\"},{\"attributes\":{\"callback\":null,\"data\":{\"x0\":[\"precision\",\"s_metric\",\"KLD\",\"loss_G\",\"loss_D\"],\"x1\":[\"precision\",\"s_metric\",\"KLD\",\"loss_G\",\"loss_D\"],\"y0\":[0.4886148573648574,0.6853704604463897,-0.027145793471895475,0.5669766661170546,0.5757649110739927],\"y1\":[0.5764312011446923,0.7313848491654273,0.016869086343781453,0.6278158389625726,0.6309589321127396]},\"selected\":{\"id\":\"11728\",\"type\":\"Selection\"},\"selection_policy\":{\"id\":\"11727\",\"type\":\"UnionRenderers\"}},\"id\":\"11204\",\"type\":\"ColumnDataSource\"},{\"attributes\":{\"fill_color\":{\"value\":\"#FFA851\"},\"line_color\":{\"value\":\"#FF8000\"},\"x\":{\"field\":\"x\"},\"y\":{\"field\":\"y\"}},\"id\":\"11232\",\"type\":\"Circle\"},{\"attributes\":{},\"id\":\"11729\",\"type\":\"UnionRenderers\"},{\"attributes\":{\"active_drag\":\"auto\",\"active_inspect\":\"auto\",\"active_multi\":null,\"active_scroll\":\"auto\",\"active_tap\":\"auto\",\"tools\":[{\"id\":\"11186\",\"type\":\"PanTool\"},{\"id\":\"11187\",\"type\":\"WheelZoomTool\"},{\"id\":\"11188\",\"type\":\"BoxZoomTool\"},{\"id\":\"11189\",\"type\":\"SaveTool\"},{\"id\":\"11190\",\"type\":\"ResetTool\"},{\"id\":\"11191\",\"type\":\"HelpTool\"}]},\"id\":\"11192\",\"type\":\"Toolbar\"},{\"attributes\":{\"ticks\":[0.0,0.1,0.2,0.30000000000000004,0.4,0.5,0.6000000000000001,0.7000000000000001,0.8,0.9,1.0]},\"id\":\"11229\",\"type\":\"FixedTicker\"},{\"attributes\":{\"source\":{\"id\":\"11209\",\"type\":\"ColumnDataSource\"}},\"id\":\"11213\",\"type\":\"CDSView\"},{\"attributes\":{},\"id\":\"11186\",\"type\":\"PanTool\"},{\"attributes\":{\"fill_alpha\":{\"value\":0.1},\"fill_color\":{\"value\":\"#1f77b4\"},\"line_alpha\":{\"value\":0.1},\"line_color\":{\"value\":\"#1f77b4\"},\"x\":{\"field\":\"x\"},\"y\":{\"field\":\"y\"}},\"id\":\"11233\",\"type\":\"Circle\"},{\"attributes\":{},\"id\":\"11730\",\"type\":\"Selection\"},{\"attributes\":{\"callback\":null,\"data\":{\"x0\":[\"precision\",\"s_metric\",\"KLD\",\"loss_G\",\"loss_D\"],\"x1\":[\"precision\",\"s_metric\",\"KLD\",\"loss_G\",\"loss_D\"],\"y0\":[0.6901685740068296,0.7629957910872744,0.07144251990320202,0.6705190130391387,0.676331037839898],\"y1\":[0.8358900611211824,0.8104122039700451,0.15330267024233288,0.7320862659230672,0.688444332339777]},\"selected\":{\"id\":\"11734\",\"type\":\"Selection\"},\"selection_policy\":{\"id\":\"11733\",\"type\":\"UnionRenderers\"}},\"id\":\"11219\",\"type\":\"ColumnDataSource\"},{\"attributes\":{},\"id\":\"11187\",\"type\":\"WheelZoomTool\"},{\"attributes\":{},\"id\":\"11731\",\"type\":\"UnionRenderers\"},{\"attributes\":{\"text\":\"\"},\"id\":\"11720\",\"type\":\"Title\"},{\"attributes\":{\"bottom\":{\"field\":\"bottom\"},\"fill_color\":{\"value\":\"#E08E79\"},\"top\":{\"field\":\"top\"},\"width\":{\"value\":0.4},\"x\":{\"field\":\"x\"}},\"id\":\"11215\",\"type\":\"VBar\"},{\"attributes\":{\"data_source\":{\"id\":\"11231\",\"type\":\"ColumnDataSource\"},\"glyph\":{\"id\":\"11232\",\"type\":\"Circle\"},\"hover_glyph\":null,\"muted_glyph\":null,\"nonselection_glyph\":{\"id\":\"11233\",\"type\":\"Circle\"},\"selection_glyph\":null,\"view\":{\"id\":\"11235\",\"type\":\"CDSView\"}},\"id\":\"11234\",\"type\":\"GlyphRenderer\"},{\"attributes\":{\"overlay\":{\"id\":\"11724\",\"type\":\"BoxAnnotation\"}},\"id\":\"11188\",\"type\":\"BoxZoomTool\"},{\"attributes\":{},\"id\":\"11732\",\"type\":\"Selection\"},{\"attributes\":{\"bottom\":{\"field\":\"bottom\"},\"fill_alpha\":{\"value\":0.1},\"fill_color\":{\"value\":\"#1f77b4\"},\"line_alpha\":{\"value\":0.1},\"line_color\":{\"value\":\"#1f77b4\"},\"top\":{\"field\":\"top\"},\"width\":{\"value\":0.4},\"x\":{\"field\":\"x\"}},\"id\":\"11216\",\"type\":\"VBar\"},{\"attributes\":{},\"id\":\"11189\",\"type\":\"SaveTool\"},{\"attributes\":{\"source\":{\"id\":\"11231\",\"type\":\"ColumnDataSource\"}},\"id\":\"11235\",\"type\":\"CDSView\"},{\"attributes\":{\"callback\":null,\"data\":{\"x\":[\"precision\",\"s_metric\",\"KLD\",\"loss_G\",\"loss_D\"],\"y\":[0.4886148573648574,0.6853704604463897,-0.027145793471895475,0.5669766661170546,0.5757649110739927]},\"selected\":{\"id\":\"11726\",\"type\":\"Selection\"},\"selection_policy\":{\"id\":\"11725\",\"type\":\"UnionRenderers\"}},\"id\":\"11199\",\"type\":\"ColumnDataSource\"},{\"attributes\":{},\"id\":\"11733\",\"type\":\"UnionRenderers\"},{\"attributes\":{\"data_source\":{\"id\":\"11214\",\"type\":\"ColumnDataSource\"},\"glyph\":{\"id\":\"11215\",\"type\":\"VBar\"},\"hover_glyph\":null,\"muted_glyph\":null,\"nonselection_glyph\":{\"id\":\"11216\",\"type\":\"VBar\"},\"selection_glyph\":null,\"view\":{\"id\":\"11218\",\"type\":\"CDSView\"}},\"id\":\"11217\",\"type\":\"GlyphRenderer\"},{\"attributes\":{},\"id\":\"11190\",\"type\":\"ResetTool\"},{\"attributes\":{\"callback\":null,\"data\":{\"x\":[\"KLD\"],\"y\":{\"__ndarray__\":\"D760aSu/wz8=\",\"dtype\":\"float64\",\"shape\":[1]}},\"selected\":{\"id\":\"11740\",\"type\":\"Selection\"},\"selection_policy\":{\"id\":\"11739\",\"type\":\"UnionRenderers\"}},\"id\":\"11236\",\"type\":\"ColumnDataSource\"},{\"attributes\":{},\"id\":\"11734\",\"type\":\"Selection\"},{\"attributes\":{\"source\":{\"id\":\"11214\",\"type\":\"ColumnDataSource\"}},\"id\":\"11218\",\"type\":\"CDSView\"},{\"attributes\":{},\"id\":\"11191\",\"type\":\"HelpTool\"},{\"attributes\":{\"fill_color\":{\"value\":\"#FFA851\"},\"line_color\":{\"value\":\"#FF8000\"},\"x\":{\"field\":\"x\"},\"y\":{\"field\":\"y\"}},\"id\":\"11237\",\"type\":\"Circle\"},{\"attributes\":{},\"id\":\"11735\",\"type\":\"UnionRenderers\"},{\"attributes\":{\"callback\":null,\"factors\":[\"precision\",\"s_metric\",\"KLD\",\"loss_G\",\"loss_D\"]},\"id\":\"11169\",\"type\":\"FactorRange\"},{\"attributes\":{\"callback\":null,\"data\":{\"x\":[\"precision\",\"s_metric\",\"KLD\",\"loss_G\",\"loss_D\"],\"y\":[0.8358900611211824,0.8104122039700451,0.15330267024233288,0.7320862659230672,0.688444332339777]},\"selected\":{\"id\":\"11736\",\"type\":\"Selection\"},\"selection_policy\":{\"id\":\"11735\",\"type\":\"UnionRenderers\"}},\"id\":\"11224\",\"type\":\"ColumnDataSource\"},{\"attributes\":{\"fill_alpha\":{\"value\":0.1},\"fill_color\":{\"value\":\"#1f77b4\"},\"line_alpha\":{\"value\":0.1},\"line_color\":{\"value\":\"#1f77b4\"},\"x\":{\"field\":\"x\"},\"y\":{\"field\":\"y\"}},\"id\":\"11238\",\"type\":\"Circle\"},{\"attributes\":{},\"id\":\"11736\",\"type\":\"Selection\"},{\"attributes\":{\"data_source\":{\"id\":\"11199\",\"type\":\"ColumnDataSource\"},\"glyph\":{\"id\":\"11200\",\"type\":\"Rect\"},\"hover_glyph\":null,\"muted_glyph\":null,\"nonselection_glyph\":{\"id\":\"11201\",\"type\":\"Rect\"},\"selection_glyph\":null,\"view\":{\"id\":\"11203\",\"type\":\"CDSView\"}},\"id\":\"11202\",\"type\":\"GlyphRenderer\"},{\"attributes\":{\"callback\":null},\"id\":\"11171\",\"type\":\"DataRange1d\"},{\"attributes\":{\"data_source\":{\"id\":\"11236\",\"type\":\"ColumnDataSource\"},\"glyph\":{\"id\":\"11237\",\"type\":\"Circle\"},\"hover_glyph\":null,\"muted_glyph\":null,\"nonselection_glyph\":{\"id\":\"11238\",\"type\":\"Circle\"},\"selection_glyph\":null,\"view\":{\"id\":\"11240\",\"type\":\"CDSView\"}},\"id\":\"11239\",\"type\":\"GlyphRenderer\"},{\"attributes\":{},\"id\":\"11737\",\"type\":\"UnionRenderers\"}],\"root_ids\":[\"11168\"]},\"title\":\"Bokeh Application\",\"version\":\"1.4.0\"}};\n",
       "  var render_items = [{\"docid\":\"f42feb5b-1dfa-4ed0-b8c2-b0d451ebb5e4\",\"roots\":{\"11168\":\"a4f022ba-9c64-49c0-87b2-873e357749cc\"}}];\n",
       "  root.Bokeh.embed.embed_items_notebook(docs_json, render_items);\n",
       "\n",
       "  }\n",
       "  if (root.Bokeh !== undefined) {\n",
       "    embed_document(root);\n",
       "  } else {\n",
       "    var attempts = 0;\n",
       "    var timer = setInterval(function(root) {\n",
       "      if (root.Bokeh !== undefined) {\n",
       "        clearInterval(timer);\n",
       "        embed_document(root);\n",
       "      } else {\n",
       "        attempts++;\n",
       "        if (attempts > 100) {\n",
       "          clearInterval(timer);\n",
       "          console.log(\"Bokeh: ERROR: Unable to run BokehJS code because BokehJS library is missing\");\n",
       "        }\n",
       "      }\n",
       "    }, 10, root)\n",
       "  }\n",
       "})(window);"
      ],
      "application/vnd.bokehjs_exec.v0+json": ""
     },
     "metadata": {
      "application/vnd.bokehjs_exec.v0+json": {
       "id": "11168"
      }
     },
     "output_type": "display_data"
    }
   ],
   "source": [
    "[pl_2, pq1_2, pq2_2, pq3_2, pu_2], pouts_2 = bokeh_utils.boxtplot_values(np.array(precision2), True, True)\n",
    "[kl_2, kq1_2, kq2_2, kq3_2, ku_2], kouts_2 = bokeh_utils.boxtplot_values(np.array(kld2), True, True)\n",
    "[gl_2, gq1_2, gq2_2, gq3_2, gu_2], gouts_2 = bokeh_utils.boxtplot_values(np.array(loss_g2), True, True)\n",
    "[dl_2, dq1_2, dq2_2, dq3_2, du_2], douts_2 = bokeh_utils.boxtplot_values(np.array(loss_d2), True, True)\n",
    "[sl_2, sq1_2, sq2_2, sq3_2, su_2], souts_2 = bokeh_utils.boxtplot_values(np.array(s_metric_2), True, True)\n",
    "\n",
    "cats = [\"precision\",\"s_metric\", \"KLD\", \"loss_G\", \"loss_D\"]\n",
    "p = figure(plot_height=200, plot_width=350, x_range=cats, background_fill_color=\"#E8E8E8\",)\n",
    "p.rect(cats, [pl_2, sl_2, kl_2, gl_2, dl_2], width=.2, height=.001, line_color=\"black\")\n",
    "p.segment(cats, [pl_2, sl_2, kl_2, gl_2, dl_2], cats, [pq1_2, sq1_2, kq1_2, gq1_2, dq1_2], line_color=\"black\")\n",
    "p.vbar(cats, width=.4, top=[pq2_2, sq2_2, kq2_2, gq2_2, dq2_2], bottom=[pq1_2, sq1_2, kq1_2, gq1_2, dq1_2],\n",
    "       fill_color=\"#3B8686\", line_color=\"black\")\n",
    "p.vbar(cats, width=.4, top=[pq3_2, sq3_2, kq3_2, gq3_2, dq3_2], bottom=[pq2_2, sq2_2, kq2_2, gq2_2, dq2_2],\n",
    "       fill_color=\"#E08E79\", line_color=\"black\")\n",
    "p.segment(cats, [pq3_2, sq3_2, kq3_2, gq3_2, dq3_2], cats, [pu_2, su_2, ku_2, gu_2, du_2], line_color=\"black\")\n",
    "p.rect(cats, [pu_2, su_2, ku_2, gu_2, du_2], width=.2, height=.001, line_color=\"black\")\n",
    "p.xgrid.grid_line_color = None\n",
    "p.ygrid.grid_line_color = \"white\"\n",
    "p.grid.grid_line_width = 1\n",
    "p.yaxis.ticker = np.arange(0,1.1,.1)\n",
    "\n",
    "#outliers\n",
    "list_outs = [pouts_2, souts_2, kouts_2, gouts_2, douts_2]\n",
    "for idx in range(len(cats)):\n",
    "    aux_var = list_outs[idx]\n",
    "    if len(aux_var)>0:\n",
    "        p.circle([cats[idx] for i in range(len(aux_var))], aux_var, line_color=\"#FF8000\",\n",
    "                fill_color=\"#FFA851\", size=4)\n",
    "    \n",
    "show(p)"
   ]
  },
  {
   "cell_type": "code",
   "execution_count": 88,
   "metadata": {},
   "outputs": [],
   "source": [
    "np.save(file=\"./results/selecting_gan/precision_2.npy\", arr=np.array(precision2))\n",
    "np.save(file=\"./results/selecting_gan/kld_2.npy\", arr=np.array(kld2))\n",
    "np.save(file=\"./results/selecting_gan/loss_g_2.npy\", arr=np.array(loss_g2))\n",
    "np.save(file=\"./results/selecting_gan/loss_d_2.npy\", arr=np.array(loss_d2))\n",
    "np.save(file=\"./results/selecting_gan/s_metric_2.npy\", arr=np.array(s_metric_2))"
   ]
  },
  {
   "cell_type": "markdown",
   "metadata": {},
   "source": [
    "### architecture #3"
   ]
  },
  {
   "cell_type": "code",
   "execution_count": 89,
   "metadata": {},
   "outputs": [
    {
     "name": "stdout",
     "output_type": "stream",
     "text": [
      "noise input shape: (3, 50)\n",
      "---------------------------\n",
      "synthetic samples:\n"
     ]
    },
    {
     "data": {
      "text/plain": [
       "<tf.Tensor: shape=(3, 9), dtype=float64, numpy=\n",
       "array([[-0.05112053,  0.06610225,  0.06994783, -0.05869278, -0.00793019,\n",
       "        -0.15318506,  0.00731242,  0.09733358, -0.10078546],\n",
       "       [ 0.03037344, -0.02033766, -0.09313903,  0.05138862,  0.07834033,\n",
       "         0.01659925, -0.0246435 ,  0.03385921, -0.04608509],\n",
       "       [-0.04364605, -0.01984691,  0.0087266 ,  0.09253134, -0.11239868,\n",
       "        -0.1220889 , -0.04885154, -0.08443967, -0.05942549]])>"
      ]
     },
     "execution_count": 89,
     "metadata": {},
     "output_type": "execute_result"
    }
   ],
   "source": [
    "#generator network\n",
    "G3 = Sequential()\n",
    "G3.add(Dense(noise_shape, input_shape=(noise_shape,), activation=\"tanh\"))\n",
    "G3.add(Dropout(.1))\n",
    "G3.add(Dense(50))\n",
    "G3.add(Dropout(.1))\n",
    "G3.add(Dense(rg_data.shape[1], activation=\"tanh\"))\n",
    "\n",
    "#synthetic sample\n",
    "noise_input = tf.random_normal_initializer()((num_syn_samples, noise_shape))\n",
    "print(\"noise input shape:\", noise_input.shape)\n",
    "print(\"---------------------------\")\n",
    "print(\"synthetic samples:\")\n",
    "synthetic_samples = G3(noise_input)\n",
    "synthetic_samples"
   ]
  },
  {
   "cell_type": "code",
   "execution_count": 90,
   "metadata": {},
   "outputs": [
    {
     "name": "stdout",
     "output_type": "stream",
     "text": [
      "output of the disriminator network:\n"
     ]
    },
    {
     "data": {
      "text/plain": [
       "<tf.Tensor: shape=(3, 1), dtype=float64, numpy=\n",
       "array([[0.50276364],\n",
       "       [0.50385241],\n",
       "       [0.51346797]])>"
      ]
     },
     "execution_count": 90,
     "metadata": {},
     "output_type": "execute_result"
    }
   ],
   "source": [
    "#discriminator networks\n",
    "D3 = Sequential()\n",
    "D3.add(Dense(rg_data.shape[1], input_shape=(rg_data.shape[1],), activation=\"tanh\"))\n",
    "D3.add(tf.keras.layers.LeakyReLU(.2))\n",
    "D3.add(Dense(16))\n",
    "D3.add(tf.keras.layers.LeakyReLU(.2))\n",
    "D3.add(Dense(8))\n",
    "D3.add(Dense(1, activation=\"sigmoid\"))\n",
    "\n",
    "print(\"output of the disriminator network:\")\n",
    "D3(synthetic_samples)"
   ]
  },
  {
   "cell_type": "code",
   "execution_count": 195,
   "metadata": {},
   "outputs": [],
   "source": [
    "gan_utils3 = EdwinRueda_utils.gan_utils()\n",
    "optimizerG3 = tf.optimizers.SGD(lr=.00013, momentum=.95, decay=.00013/epochs)\n",
    "optimizerD3 = tf.optimizers.SGD(lr=.001, momentum=.92, decay=.001/epochs)\n",
    "accumulated_gloss, accumulated_dloss = gan_utils3.train(rg_data, G3, D3, noise_input=noise_shape,\n",
    "                                                   epochs=epochs, batch_size=rg_data.shape[0],\n",
    "                                                   optimizerG=optimizerG3, optimizerD=optimizerD3,\n",
    "                                                   verbose=False)"
   ]
  },
  {
   "cell_type": "code",
   "execution_count": 196,
   "metadata": {},
   "outputs": [
    {
     "data": {
      "image/png": "[encoded data removed]",
      "text/plain": [
       "<Figure size 1080x720 with 4 Axes>"
      ]
     },
     "metadata": {
      "needs_background": "light"
     },
     "output_type": "display_data"
    }
   ],
   "source": [
    "f = gan_utils3.plot_results(200)"
   ]
  },
  {
   "cell_type": "code",
   "execution_count": 91,
   "metadata": {},
   "outputs": [
    {
     "name": "stderr",
     "output_type": "stream",
     "text": [
      "/home/edwin/.local/lib/python3.6/site-packages/sklearn/metrics/_classification.py:1221: UndefinedMetricWarning: Precision is ill-defined and being set to 0.0 due to no predicted samples. Use `zero_division` parameter to control this behavior.\n",
      "  _warn_prf(average, modifier, msg_start, len(result))\n"
     ]
    },
    {
     "name": "stdout",
     "output_type": "stream",
     "text": [
      "iteration: 0, time: 17.797139167785645 [s]\n",
      "iteration: 1, time: 14.059955596923828 [s]\n",
      "iteration: 2, time: 14.070691347122192 [s]\n",
      "iteration: 3, time: 14.08348035812378 [s]\n",
      "iteration: 4, time: 14.14902925491333 [s]\n",
      "iteration: 5, time: 14.587230443954468 [s]\n"
     ]
    },
    {
     "name": "stderr",
     "output_type": "stream",
     "text": [
      "/home/edwin/.local/lib/python3.6/site-packages/sklearn/metrics/_classification.py:1221: UndefinedMetricWarning: Precision is ill-defined and being set to 0.0 due to no predicted samples. Use `zero_division` parameter to control this behavior.\n",
      "  _warn_prf(average, modifier, msg_start, len(result))\n"
     ]
    },
    {
     "name": "stdout",
     "output_type": "stream",
     "text": [
      "iteration: 6, time: 14.166476488113403 [s]\n",
      "iteration: 7, time: 14.19272518157959 [s]\n"
     ]
    },
    {
     "name": "stderr",
     "output_type": "stream",
     "text": [
      "/home/edwin/.local/lib/python3.6/site-packages/sklearn/metrics/_classification.py:1221: UndefinedMetricWarning: Precision is ill-defined and being set to 0.0 due to no predicted samples. Use `zero_division` parameter to control this behavior.\n",
      "  _warn_prf(average, modifier, msg_start, len(result))\n"
     ]
    },
    {
     "name": "stdout",
     "output_type": "stream",
     "text": [
      "iteration: 8, time: 14.261191368103027 [s]\n",
      "iteration: 9, time: 14.165400743484497 [s]\n",
      "iteration: 10, time: 14.21277642250061 [s]\n"
     ]
    },
    {
     "name": "stderr",
     "output_type": "stream",
     "text": [
      "/home/edwin/.local/lib/python3.6/site-packages/sklearn/metrics/_classification.py:1221: UndefinedMetricWarning: Precision is ill-defined and being set to 0.0 due to no predicted samples. Use `zero_division` parameter to control this behavior.\n",
      "  _warn_prf(average, modifier, msg_start, len(result))\n"
     ]
    },
    {
     "name": "stdout",
     "output_type": "stream",
     "text": [
      "iteration: 11, time: 14.217286109924316 [s]\n"
     ]
    },
    {
     "name": "stderr",
     "output_type": "stream",
     "text": [
      "/home/edwin/.local/lib/python3.6/site-packages/sklearn/metrics/_classification.py:1221: UndefinedMetricWarning: Precision is ill-defined and being set to 0.0 due to no predicted samples. Use `zero_division` parameter to control this behavior.\n",
      "  _warn_prf(average, modifier, msg_start, len(result))\n"
     ]
    },
    {
     "name": "stdout",
     "output_type": "stream",
     "text": [
      "iteration: 12, time: 14.169388055801392 [s]\n"
     ]
    },
    {
     "name": "stderr",
     "output_type": "stream",
     "text": [
      "/home/edwin/.local/lib/python3.6/site-packages/sklearn/metrics/_classification.py:1221: UndefinedMetricWarning: Precision is ill-defined and being set to 0.0 due to no predicted samples. Use `zero_division` parameter to control this behavior.\n",
      "  _warn_prf(average, modifier, msg_start, len(result))\n"
     ]
    },
    {
     "name": "stdout",
     "output_type": "stream",
     "text": [
      "iteration: 13, time: 14.526817321777344 [s]\n",
      "iteration: 14, time: 14.199470281600952 [s]\n",
      "iteration: 15, time: 14.194496154785156 [s]\n",
      "iteration: 16, time: 14.733484745025635 [s]\n",
      "iteration: 17, time: 14.22098183631897 [s]\n",
      "iteration: 18, time: 14.172107219696045 [s]\n",
      "iteration: 19, time: 14.175401210784912 [s]\n"
     ]
    },
    {
     "name": "stderr",
     "output_type": "stream",
     "text": [
      "/home/edwin/.local/lib/python3.6/site-packages/sklearn/metrics/_classification.py:1221: UndefinedMetricWarning: Precision is ill-defined and being set to 0.0 due to no predicted samples. Use `zero_division` parameter to control this behavior.\n",
      "  _warn_prf(average, modifier, msg_start, len(result))\n"
     ]
    },
    {
     "name": "stdout",
     "output_type": "stream",
     "text": [
      "iteration: 20, time: 14.503308296203613 [s]\n",
      "iteration: 21, time: 14.219962120056152 [s]\n",
      "iteration: 22, time: 14.188297986984253 [s]\n"
     ]
    },
    {
     "name": "stderr",
     "output_type": "stream",
     "text": [
      "/home/edwin/.local/lib/python3.6/site-packages/sklearn/metrics/_classification.py:1221: UndefinedMetricWarning: Precision is ill-defined and being set to 0.0 due to no predicted samples. Use `zero_division` parameter to control this behavior.\n",
      "  _warn_prf(average, modifier, msg_start, len(result))\n"
     ]
    },
    {
     "name": "stdout",
     "output_type": "stream",
     "text": [
      "iteration: 23, time: 14.464864730834961 [s]\n"
     ]
    },
    {
     "name": "stderr",
     "output_type": "stream",
     "text": [
      "/home/edwin/.local/lib/python3.6/site-packages/sklearn/metrics/_classification.py:1221: UndefinedMetricWarning: Precision is ill-defined and being set to 0.0 due to no predicted samples. Use `zero_division` parameter to control this behavior.\n",
      "  _warn_prf(average, modifier, msg_start, len(result))\n"
     ]
    },
    {
     "name": "stdout",
     "output_type": "stream",
     "text": [
      "iteration: 24, time: 15.005547761917114 [s]\n",
      "iteration: 25, time: 14.317577600479126 [s]\n",
      "iteration: 26, time: 14.206199169158936 [s]\n",
      "iteration: 27, time: 14.129002094268799 [s]\n",
      "iteration: 28, time: 14.257433414459229 [s]\n"
     ]
    },
    {
     "name": "stderr",
     "output_type": "stream",
     "text": [
      "/home/edwin/.local/lib/python3.6/site-packages/sklearn/metrics/_classification.py:1221: UndefinedMetricWarning: Precision is ill-defined and being set to 0.0 due to no predicted samples. Use `zero_division` parameter to control this behavior.\n",
      "  _warn_prf(average, modifier, msg_start, len(result))\n"
     ]
    },
    {
     "name": "stdout",
     "output_type": "stream",
     "text": [
      "iteration: 29, time: 14.170357465744019 [s]\n"
     ]
    },
    {
     "name": "stderr",
     "output_type": "stream",
     "text": [
      "/home/edwin/.local/lib/python3.6/site-packages/sklearn/metrics/_classification.py:1221: UndefinedMetricWarning: Precision is ill-defined and being set to 0.0 due to no predicted samples. Use `zero_division` parameter to control this behavior.\n",
      "  _warn_prf(average, modifier, msg_start, len(result))\n"
     ]
    },
    {
     "name": "stdout",
     "output_type": "stream",
     "text": [
      "iteration: 30, time: 14.17011547088623 [s]\n",
      "iteration: 31, time: 14.135753631591797 [s]\n",
      "iteration: 32, time: 14.196504354476929 [s]\n",
      "iteration: 33, time: 14.228574514389038 [s]\n",
      "iteration: 34, time: 14.56721019744873 [s]\n",
      "iteration: 35, time: 14.20914888381958 [s]\n",
      "iteration: 36, time: 14.289420127868652 [s]\n",
      "iteration: 37, time: 14.274123907089233 [s]\n"
     ]
    },
    {
     "name": "stderr",
     "output_type": "stream",
     "text": [
      "/home/edwin/.local/lib/python3.6/site-packages/sklearn/metrics/_classification.py:1221: UndefinedMetricWarning: Precision is ill-defined and being set to 0.0 due to no predicted samples. Use `zero_division` parameter to control this behavior.\n",
      "  _warn_prf(average, modifier, msg_start, len(result))\n"
     ]
    },
    {
     "name": "stdout",
     "output_type": "stream",
     "text": [
      "iteration: 38, time: 14.272596836090088 [s]\n",
      "iteration: 39, time: 14.178225040435791 [s]\n"
     ]
    }
   ],
   "source": [
    "epochs = 1700\n",
    "precision3, kld3, loss_g3, loss_d3, s_metric_3 = [], [], [], [], []\n",
    "train_times = []\n",
    "for i in range(num_iterations):\n",
    "    tic = time()\n",
    "    init = tf.keras.initializers.glorot_uniform()\n",
    "    init_weights = []\n",
    "    for w in D3.get_weights():\n",
    "        init_weights.append(init(w.shape))\n",
    "    D3.set_weights(init_weights)\n",
    "    \n",
    "    init = tf.keras.initializers.glorot_uniform()\n",
    "    init_weights = []\n",
    "    for w in G3.get_weights():\n",
    "        init_weights.append(init(w.shape))\n",
    "    G3.set_weights(init_weights)    \n",
    "    \n",
    "    gan_utils3 = EdwinRueda_utils.gan_utils()\n",
    "    optimizerG3 = tf.optimizers.SGD(lr=.00013, momentum=.95, decay=.00013/epochs)\n",
    "    optimizerD3 = tf.optimizers.SGD(lr=.001, momentum=.92, decay=.001/epochs)\n",
    "    accumulated_gloss, accumulated_dloss = gan_utils3.train(rg_data, G3, D3, noise_input=noise_shape,\n",
    "                                                       epochs=epochs, batch_size=rg_data.shape[0],\n",
    "                                                       optimizerG=optimizerG3, optimizerD=optimizerD3,\n",
    "                                                       verbose=False)\n",
    "    precision, kld, loss_g, loss_d, s_metric =  gan_utils3.get_metrics(num_iter=50)\n",
    "    precision3.append(np.mean(precision))\n",
    "    kld3.append(np.mean(kld))\n",
    "    loss_g3.append(np.mean(loss_g))\n",
    "    loss_d3.append(np.mean(loss_d))\n",
    "    s_metric_3.append(np.mean(s_metric))\n",
    "    toc = time()\n",
    "    train_times.append(toc-tic)\n",
    "    print(\"iteration: {}, time: {} [s]\".format(i, toc-tic))"
   ]
  },
  {
   "cell_type": "code",
   "execution_count": null,
   "metadata": {},
   "outputs": [],
   "source": []
  },
  {
   "cell_type": "code",
   "execution_count": 92,
   "metadata": {},
   "outputs": [
    {
     "data": {
      "text/html": [
       "\n",
       "\n",
       "\n",
       "\n",
       "\n",
       "\n",
       "  <div class=\"bk-root\" id=\"65e5b0e6-c743-40c1-b089-8953d3984e8c\" data-root-id=\"11873\"></div>\n"
      ]
     },
     "metadata": {},
     "output_type": "display_data"
    },
    {
     "data": {
      "application/javascript": [
       "(function(root) {\n",
       "  function embed_document(root) {\n",
       "    \n",
       "  var docs_json = {\"78b11379-ff85-4810-ba42-b101ca2a0378\":{\"roots\":{\"references\":[{\"attributes\":{\"background_fill_color\":{\"value\":\"#E8E8E8\"},\"below\":[{\"id\":\"11882\",\"type\":\"CategoricalAxis\"}],\"center\":[{\"id\":\"11885\",\"type\":\"Grid\"},{\"id\":\"11890\",\"type\":\"Grid\"}],\"left\":[{\"id\":\"11886\",\"type\":\"LinearAxis\"}],\"plot_height\":200,\"plot_width\":350,\"renderers\":[{\"id\":\"11907\",\"type\":\"GlyphRenderer\"},{\"id\":\"11912\",\"type\":\"GlyphRenderer\"},{\"id\":\"11917\",\"type\":\"GlyphRenderer\"},{\"id\":\"11922\",\"type\":\"GlyphRenderer\"},{\"id\":\"11927\",\"type\":\"GlyphRenderer\"},{\"id\":\"11932\",\"type\":\"GlyphRenderer\"},{\"id\":\"11939\",\"type\":\"GlyphRenderer\"},{\"id\":\"11944\",\"type\":\"GlyphRenderer\"},{\"id\":\"11949\",\"type\":\"GlyphRenderer\"},{\"id\":\"11954\",\"type\":\"GlyphRenderer\"}],\"title\":{\"id\":\"12457\",\"type\":\"Title\"},\"toolbar\":{\"id\":\"11897\",\"type\":\"Toolbar\"},\"x_range\":{\"id\":\"11874\",\"type\":\"FactorRange\"},\"x_scale\":{\"id\":\"11878\",\"type\":\"CategoricalScale\"},\"y_range\":{\"id\":\"11876\",\"type\":\"DataRange1d\"},\"y_scale\":{\"id\":\"11880\",\"type\":\"LinearScale\"}},\"id\":\"11873\",\"subtype\":\"Figure\",\"type\":\"Plot\"},{\"attributes\":{\"fill_color\":{\"value\":\"#FFA851\"},\"line_color\":{\"value\":\"#FF8000\"},\"x\":{\"field\":\"x\"},\"y\":{\"field\":\"y\"}},\"id\":\"11942\",\"type\":\"Circle\"},{\"attributes\":{\"callback\":null,\"data\":{\"x\":[\"KLD\"],\"y\":{\"__ndarray__\":\"YdiKbbkgxj8=\",\"dtype\":\"float64\",\"shape\":[1]}},\"selected\":{\"id\":\"12479\",\"type\":\"Selection\"},\"selection_policy\":{\"id\":\"12478\",\"type\":\"UnionRenderers\"}},\"id\":\"11946\",\"type\":\"ColumnDataSource\"},{\"attributes\":{},\"id\":\"12470\",\"type\":\"UnionRenderers\"},{\"attributes\":{\"fill_alpha\":{\"value\":0.1},\"fill_color\":{\"value\":\"#1f77b4\"},\"line_alpha\":{\"value\":0.1},\"line_color\":{\"value\":\"#1f77b4\"},\"x\":{\"field\":\"x\"},\"y\":{\"field\":\"y\"}},\"id\":\"11943\",\"type\":\"Circle\"},{\"attributes\":{\"fill_alpha\":{\"value\":0.1},\"fill_color\":{\"value\":\"#1f77b4\"},\"line_alpha\":{\"value\":0.1},\"line_color\":{\"value\":\"#1f77b4\"},\"x\":{\"field\":\"x\"},\"y\":{\"field\":\"y\"}},\"id\":\"11938\",\"type\":\"Circle\"},{\"attributes\":{\"data_source\":{\"id\":\"11946\",\"type\":\"ColumnDataSource\"},\"glyph\":{\"id\":\"11947\",\"type\":\"Circle\"},\"hover_glyph\":null,\"muted_glyph\":null,\"nonselection_glyph\":{\"id\":\"11948\",\"type\":\"Circle\"},\"selection_glyph\":null,\"view\":{\"id\":\"11950\",\"type\":\"CDSView\"}},\"id\":\"11949\",\"type\":\"GlyphRenderer\"},{\"attributes\":{\"source\":{\"id\":\"11951\",\"type\":\"ColumnDataSource\"}},\"id\":\"11955\",\"type\":\"CDSView\"},{\"attributes\":{\"fill_alpha\":{\"value\":0.1},\"fill_color\":{\"value\":\"#1f77b4\"},\"line_alpha\":{\"value\":0.1},\"line_color\":{\"value\":\"#1f77b4\"},\"x\":{\"field\":\"x\"},\"y\":{\"field\":\"y\"}},\"id\":\"11953\",\"type\":\"Circle\"},{\"attributes\":{},\"id\":\"12460\",\"type\":\"BasicTickFormatter\"},{\"attributes\":{\"callback\":null,\"data\":{\"x\":[\"precision\"],\"y\":{\"__ndarray__\":\"StoVs3MT3D8=\",\"dtype\":\"float64\",\"shape\":[1]}},\"selected\":{\"id\":\"12475\",\"type\":\"Selection\"},\"selection_policy\":{\"id\":\"12474\",\"type\":\"UnionRenderers\"}},\"id\":\"11936\",\"type\":\"ColumnDataSource\"},{\"attributes\":{},\"id\":\"12469\",\"type\":\"Selection\"},{\"attributes\":{\"fill_color\":{\"value\":\"#FFA851\"},\"line_color\":{\"value\":\"#FF8000\"},\"x\":{\"field\":\"x\"},\"y\":{\"field\":\"y\"}},\"id\":\"11952\",\"type\":\"Circle\"},{\"attributes\":{\"fill_color\":{\"value\":\"#FFA851\"},\"line_color\":{\"value\":\"#FF8000\"},\"x\":{\"field\":\"x\"},\"y\":{\"field\":\"y\"}},\"id\":\"11947\",\"type\":\"Circle\"},{\"attributes\":{\"callback\":null,\"data\":{\"x\":[\"s_metric\"],\"y\":{\"__ndarray__\":\"2O7ev8z45z8=\",\"dtype\":\"float64\",\"shape\":[1]}},\"selected\":{\"id\":\"12477\",\"type\":\"Selection\"},\"selection_policy\":{\"id\":\"12476\",\"type\":\"UnionRenderers\"}},\"id\":\"11941\",\"type\":\"ColumnDataSource\"},{\"attributes\":{\"data_source\":{\"id\":\"11936\",\"type\":\"ColumnDataSource\"},\"glyph\":{\"id\":\"11937\",\"type\":\"Circle\"},\"hover_glyph\":null,\"muted_glyph\":null,\"nonselection_glyph\":{\"id\":\"11938\",\"type\":\"Circle\"},\"selection_glyph\":null,\"view\":{\"id\":\"11940\",\"type\":\"CDSView\"}},\"id\":\"11939\",\"type\":\"GlyphRenderer\"},{\"attributes\":{},\"id\":\"12468\",\"type\":\"UnionRenderers\"},{\"attributes\":{\"bottom_units\":\"screen\",\"fill_alpha\":{\"value\":0.5},\"fill_color\":{\"value\":\"lightgrey\"},\"left_units\":\"screen\",\"level\":\"overlay\",\"line_alpha\":{\"value\":1.0},\"line_color\":{\"value\":\"black\"},\"line_dash\":[4,4],\"line_width\":{\"value\":2},\"render_mode\":\"css\",\"right_units\":\"screen\",\"top_units\":\"screen\"},\"id\":\"12461\",\"type\":\"BoxAnnotation\"},{\"attributes\":{\"source\":{\"id\":\"11936\",\"type\":\"ColumnDataSource\"}},\"id\":\"11940\",\"type\":\"CDSView\"},{\"attributes\":{\"callback\":null,\"data\":{\"x\":[\"loss_G\"],\"y\":{\"__ndarray__\":\"tDKpb0rQ5z8=\",\"dtype\":\"float64\",\"shape\":[1]}},\"selected\":{\"id\":\"12481\",\"type\":\"Selection\"},\"selection_policy\":{\"id\":\"12480\",\"type\":\"UnionRenderers\"}},\"id\":\"11951\",\"type\":\"ColumnDataSource\"},{\"attributes\":{},\"id\":\"12463\",\"type\":\"Selection\"},{\"attributes\":{},\"id\":\"12464\",\"type\":\"UnionRenderers\"},{\"attributes\":{},\"id\":\"12466\",\"type\":\"UnionRenderers\"},{\"attributes\":{\"source\":{\"id\":\"11941\",\"type\":\"ColumnDataSource\"}},\"id\":\"11945\",\"type\":\"CDSView\"},{\"attributes\":{},\"id\":\"12462\",\"type\":\"UnionRenderers\"},{\"attributes\":{\"data_source\":{\"id\":\"11951\",\"type\":\"ColumnDataSource\"},\"glyph\":{\"id\":\"11952\",\"type\":\"Circle\"},\"hover_glyph\":null,\"muted_glyph\":null,\"nonselection_glyph\":{\"id\":\"11953\",\"type\":\"Circle\"},\"selection_glyph\":null,\"view\":{\"id\":\"11955\",\"type\":\"CDSView\"}},\"id\":\"11954\",\"type\":\"GlyphRenderer\"},{\"attributes\":{\"ticks\":[0.0,0.1,0.2,0.30000000000000004,0.4,0.5,0.6000000000000001,0.7000000000000001,0.8,0.9,1.0]},\"id\":\"11934\",\"type\":\"FixedTicker\"},{\"attributes\":{\"data_source\":{\"id\":\"11941\",\"type\":\"ColumnDataSource\"},\"glyph\":{\"id\":\"11942\",\"type\":\"Circle\"},\"hover_glyph\":null,\"muted_glyph\":null,\"nonselection_glyph\":{\"id\":\"11943\",\"type\":\"Circle\"},\"selection_glyph\":null,\"view\":{\"id\":\"11945\",\"type\":\"CDSView\"}},\"id\":\"11944\",\"type\":\"GlyphRenderer\"},{\"attributes\":{},\"id\":\"12459\",\"type\":\"CategoricalTickFormatter\"},{\"attributes\":{},\"id\":\"12467\",\"type\":\"Selection\"},{\"attributes\":{\"source\":{\"id\":\"11946\",\"type\":\"ColumnDataSource\"}},\"id\":\"11950\",\"type\":\"CDSView\"},{\"attributes\":{},\"id\":\"12465\",\"type\":\"Selection\"},{\"attributes\":{\"source\":{\"id\":\"11929\",\"type\":\"ColumnDataSource\"}},\"id\":\"11933\",\"type\":\"CDSView\"},{\"attributes\":{\"fill_color\":{\"value\":\"#FFA851\"},\"line_color\":{\"value\":\"#FF8000\"},\"x\":{\"field\":\"x\"},\"y\":{\"field\":\"y\"}},\"id\":\"11937\",\"type\":\"Circle\"},{\"attributes\":{\"fill_alpha\":{\"value\":0.1},\"fill_color\":{\"value\":\"#1f77b4\"},\"line_alpha\":{\"value\":0.1},\"line_color\":{\"value\":\"#1f77b4\"},\"x\":{\"field\":\"x\"},\"y\":{\"field\":\"y\"}},\"id\":\"11948\",\"type\":\"Circle\"},{\"attributes\":{\"text\":\"\"},\"id\":\"12457\",\"type\":\"Title\"},{\"attributes\":{\"callback\":null,\"data\":{\"x0\":[\"precision\",\"s_metric\",\"KLD\",\"loss_G\",\"loss_D\"],\"x1\":[\"precision\",\"s_metric\",\"KLD\",\"loss_G\",\"loss_D\"],\"y0\":[0.4646029365885085,0.6559258739094014,0.014984177395158409,0.5661954463880122,0.5751556504581872],\"y1\":[0.6087573124180676,0.6791735154244147,0.04454516312127975,0.6147602048411207,0.6215157660000543]},\"selected\":{\"id\":\"12465\",\"type\":\"Selection\"},\"selection_policy\":{\"id\":\"12464\",\"type\":\"UnionRenderers\"}},\"id\":\"11909\",\"type\":\"ColumnDataSource\"},{\"attributes\":{},\"id\":\"12475\",\"type\":\"Selection\"},{\"attributes\":{\"data_source\":{\"id\":\"11909\",\"type\":\"ColumnDataSource\"},\"glyph\":{\"id\":\"11910\",\"type\":\"Segment\"},\"hover_glyph\":null,\"muted_glyph\":null,\"nonselection_glyph\":{\"id\":\"11911\",\"type\":\"Segment\"},\"selection_glyph\":null,\"view\":{\"id\":\"11913\",\"type\":\"CDSView\"}},\"id\":\"11912\",\"type\":\"GlyphRenderer\"},{\"attributes\":{\"callback\":null,\"data\":{\"x0\":[\"precision\",\"s_metric\",\"KLD\",\"loss_G\",\"loss_D\"],\"x1\":[\"precision\",\"s_metric\",\"KLD\",\"loss_G\",\"loss_D\"],\"y0\":[0.7048602296377737,0.7009101227885439,0.09155010385203594,0.659773217822244,0.660419169956429],\"y1\":[0.788012274447259,0.7335150338347377,0.16205751494817022,0.7272927372939288,0.7021834830728898]},\"selected\":{\"id\":\"12471\",\"type\":\"Selection\"},\"selection_policy\":{\"id\":\"12470\",\"type\":\"UnionRenderers\"}},\"id\":\"11924\",\"type\":\"ColumnDataSource\"},{\"attributes\":{},\"id\":\"11896\",\"type\":\"HelpTool\"},{\"attributes\":{\"data_source\":{\"id\":\"11929\",\"type\":\"ColumnDataSource\"},\"glyph\":{\"id\":\"11930\",\"type\":\"Rect\"},\"hover_glyph\":null,\"muted_glyph\":null,\"nonselection_glyph\":{\"id\":\"11931\",\"type\":\"Rect\"},\"selection_glyph\":null,\"view\":{\"id\":\"11933\",\"type\":\"CDSView\"}},\"id\":\"11932\",\"type\":\"GlyphRenderer\"},{\"attributes\":{\"callback\":null,\"data\":{\"bottom\":[0.6087573124180676,0.6791735154244147,0.04454516312127975,0.6147602048411207,0.6215157660000543],\"top\":[0.6535864335706172,0.6916448475572664,0.06656860497449918,0.6416548620173752,0.6455644403147722],\"x\":[\"precision\",\"s_metric\",\"KLD\",\"loss_G\",\"loss_D\"]},\"selected\":{\"id\":\"12467\",\"type\":\"Selection\"},\"selection_policy\":{\"id\":\"12466\",\"type\":\"UnionRenderers\"}},\"id\":\"11914\",\"type\":\"ColumnDataSource\"},{\"attributes\":{},\"id\":\"11894\",\"type\":\"SaveTool\"},{\"attributes\":{},\"id\":\"11880\",\"type\":\"LinearScale\"},{\"attributes\":{},\"id\":\"12474\",\"type\":\"UnionRenderers\"},{\"attributes\":{\"data_source\":{\"id\":\"11924\",\"type\":\"ColumnDataSource\"},\"glyph\":{\"id\":\"11925\",\"type\":\"Segment\"},\"hover_glyph\":null,\"muted_glyph\":null,\"nonselection_glyph\":{\"id\":\"11926\",\"type\":\"Segment\"},\"selection_glyph\":null,\"view\":{\"id\":\"11928\",\"type\":\"CDSView\"}},\"id\":\"11927\",\"type\":\"GlyphRenderer\"},{\"attributes\":{\"bottom\":{\"field\":\"bottom\"},\"fill_alpha\":{\"value\":0.1},\"fill_color\":{\"value\":\"#1f77b4\"},\"line_alpha\":{\"value\":0.1},\"line_color\":{\"value\":\"#1f77b4\"},\"top\":{\"field\":\"top\"},\"width\":{\"value\":0.4},\"x\":{\"field\":\"x\"}},\"id\":\"11916\",\"type\":\"VBar\"},{\"attributes\":{\"source\":{\"id\":\"11904\",\"type\":\"ColumnDataSource\"}},\"id\":\"11908\",\"type\":\"CDSView\"},{\"attributes\":{\"formatter\":{\"id\":\"12460\",\"type\":\"BasicTickFormatter\"},\"ticker\":{\"id\":\"11934\",\"type\":\"FixedTicker\"}},\"id\":\"11886\",\"type\":\"LinearAxis\"},{\"attributes\":{\"callback\":null,\"data\":{\"x\":[\"precision\",\"s_metric\",\"KLD\",\"loss_G\",\"loss_D\"],\"y\":[0.4646029365885085,0.6559258739094014,0.014984177395158409,0.5661954463880122,0.5751556504581872]},\"selected\":{\"id\":\"12463\",\"type\":\"Selection\"},\"selection_policy\":{\"id\":\"12462\",\"type\":\"UnionRenderers\"}},\"id\":\"11904\",\"type\":\"ColumnDataSource\"},{\"attributes\":{},\"id\":\"12479\",\"type\":\"Selection\"},{\"attributes\":{},\"id\":\"11892\",\"type\":\"WheelZoomTool\"},{\"attributes\":{\"x0\":{\"field\":\"x0\"},\"x1\":{\"field\":\"x1\"},\"y0\":{\"field\":\"y0\"},\"y1\":{\"field\":\"y1\"}},\"id\":\"11925\",\"type\":\"Segment\"},{\"attributes\":{\"bottom\":{\"field\":\"bottom\"},\"fill_alpha\":{\"value\":0.1},\"fill_color\":{\"value\":\"#1f77b4\"},\"line_alpha\":{\"value\":0.1},\"line_color\":{\"value\":\"#1f77b4\"},\"top\":{\"field\":\"top\"},\"width\":{\"value\":0.4},\"x\":{\"field\":\"x\"}},\"id\":\"11921\",\"type\":\"VBar\"},{\"attributes\":{\"fill_color\":{\"value\":\"#1f77b4\"},\"height\":{\"units\":\"data\",\"value\":0.001},\"width\":{\"units\":\"data\",\"value\":0.2},\"x\":{\"field\":\"x\"},\"y\":{\"field\":\"y\"}},\"id\":\"11930\",\"type\":\"Rect\"},{\"attributes\":{},\"id\":\"12471\",\"type\":\"Selection\"},{\"attributes\":{\"data_source\":{\"id\":\"11914\",\"type\":\"ColumnDataSource\"},\"glyph\":{\"id\":\"11915\",\"type\":\"VBar\"},\"hover_glyph\":null,\"muted_glyph\":null,\"nonselection_glyph\":{\"id\":\"11916\",\"type\":\"VBar\"},\"selection_glyph\":null,\"view\":{\"id\":\"11918\",\"type\":\"CDSView\"}},\"id\":\"11917\",\"type\":\"GlyphRenderer\"},{\"attributes\":{\"data_source\":{\"id\":\"11919\",\"type\":\"ColumnDataSource\"},\"glyph\":{\"id\":\"11920\",\"type\":\"VBar\"},\"hover_glyph\":null,\"muted_glyph\":null,\"nonselection_glyph\":{\"id\":\"11921\",\"type\":\"VBar\"},\"selection_glyph\":null,\"view\":{\"id\":\"11923\",\"type\":\"CDSView\"}},\"id\":\"11922\",\"type\":\"GlyphRenderer\"},{\"attributes\":{},\"id\":\"11878\",\"type\":\"CategoricalScale\"},{\"attributes\":{},\"id\":\"12476\",\"type\":\"UnionRenderers\"},{\"attributes\":{\"data_source\":{\"id\":\"11904\",\"type\":\"ColumnDataSource\"},\"glyph\":{\"id\":\"11905\",\"type\":\"Rect\"},\"hover_glyph\":null,\"muted_glyph\":null,\"nonselection_glyph\":{\"id\":\"11906\",\"type\":\"Rect\"},\"selection_glyph\":null,\"view\":{\"id\":\"11908\",\"type\":\"CDSView\"}},\"id\":\"11907\",\"type\":\"GlyphRenderer\"},{\"attributes\":{\"callback\":null,\"data\":{\"bottom\":[0.6535864335706172,0.6916448475572664,0.06656860497449918,0.6416548620173752,0.6455644403147722],\"top\":[0.7048602296377737,0.7009101227885439,0.09155010385203594,0.659773217822244,0.660419169956429],\"x\":[\"precision\",\"s_metric\",\"KLD\",\"loss_G\",\"loss_D\"]},\"selected\":{\"id\":\"12469\",\"type\":\"Selection\"},\"selection_policy\":{\"id\":\"12468\",\"type\":\"UnionRenderers\"}},\"id\":\"11919\",\"type\":\"ColumnDataSource\"},{\"attributes\":{\"bottom\":{\"field\":\"bottom\"},\"fill_color\":{\"value\":\"#E08E79\"},\"top\":{\"field\":\"top\"},\"width\":{\"value\":0.4},\"x\":{\"field\":\"x\"}},\"id\":\"11920\",\"type\":\"VBar\"},{\"attributes\":{\"bottom\":{\"field\":\"bottom\"},\"fill_color\":{\"value\":\"#3B8686\"},\"top\":{\"field\":\"top\"},\"width\":{\"value\":0.4},\"x\":{\"field\":\"x\"}},\"id\":\"11915\",\"type\":\"VBar\"},{\"attributes\":{},\"id\":\"12473\",\"type\":\"Selection\"},{\"attributes\":{\"source\":{\"id\":\"11924\",\"type\":\"ColumnDataSource\"}},\"id\":\"11928\",\"type\":\"CDSView\"},{\"attributes\":{\"source\":{\"id\":\"11909\",\"type\":\"ColumnDataSource\"}},\"id\":\"11913\",\"type\":\"CDSView\"},{\"attributes\":{\"line_alpha\":{\"value\":0.1},\"line_color\":{\"value\":\"#1f77b4\"},\"x0\":{\"field\":\"x0\"},\"x1\":{\"field\":\"x1\"},\"y0\":{\"field\":\"y0\"},\"y1\":{\"field\":\"y1\"}},\"id\":\"11926\",\"type\":\"Segment\"},{\"attributes\":{\"fill_alpha\":{\"value\":0.1},\"fill_color\":{\"value\":\"#1f77b4\"},\"height\":{\"units\":\"data\",\"value\":0.001},\"line_alpha\":{\"value\":0.1},\"line_color\":{\"value\":\"#1f77b4\"},\"width\":{\"units\":\"data\",\"value\":0.2},\"x\":{\"field\":\"x\"},\"y\":{\"field\":\"y\"}},\"id\":\"11931\",\"type\":\"Rect\"},{\"attributes\":{\"active_drag\":\"auto\",\"active_inspect\":\"auto\",\"active_multi\":null,\"active_scroll\":\"auto\",\"active_tap\":\"auto\",\"tools\":[{\"id\":\"11891\",\"type\":\"PanTool\"},{\"id\":\"11892\",\"type\":\"WheelZoomTool\"},{\"id\":\"11893\",\"type\":\"BoxZoomTool\"},{\"id\":\"11894\",\"type\":\"SaveTool\"},{\"id\":\"11895\",\"type\":\"ResetTool\"},{\"id\":\"11896\",\"type\":\"HelpTool\"}]},\"id\":\"11897\",\"type\":\"Toolbar\"},{\"attributes\":{\"line_alpha\":{\"value\":0.1},\"line_color\":{\"value\":\"#1f77b4\"},\"x0\":{\"field\":\"x0\"},\"x1\":{\"field\":\"x1\"},\"y0\":{\"field\":\"y0\"},\"y1\":{\"field\":\"y1\"}},\"id\":\"11911\",\"type\":\"Segment\"},{\"attributes\":{\"source\":{\"id\":\"11914\",\"type\":\"ColumnDataSource\"}},\"id\":\"11918\",\"type\":\"CDSView\"},{\"attributes\":{\"source\":{\"id\":\"11919\",\"type\":\"ColumnDataSource\"}},\"id\":\"11923\",\"type\":\"CDSView\"},{\"attributes\":{},\"id\":\"11887\",\"type\":\"BasicTicker\"},{\"attributes\":{\"formatter\":{\"id\":\"12459\",\"type\":\"CategoricalTickFormatter\"},\"ticker\":{\"id\":\"11883\",\"type\":\"CategoricalTicker\"}},\"id\":\"11882\",\"type\":\"CategoricalAxis\"},{\"attributes\":{\"dimension\":1,\"grid_line_color\":\"white\",\"ticker\":{\"id\":\"11887\",\"type\":\"BasicTicker\"}},\"id\":\"11890\",\"type\":\"Grid\"},{\"attributes\":{},\"id\":\"12481\",\"type\":\"Selection\"},{\"attributes\":{\"fill_color\":{\"value\":\"#1f77b4\"},\"height\":{\"units\":\"data\",\"value\":0.001},\"width\":{\"units\":\"data\",\"value\":0.2},\"x\":{\"field\":\"x\"},\"y\":{\"field\":\"y\"}},\"id\":\"11905\",\"type\":\"Rect\"},{\"attributes\":{},\"id\":\"11891\",\"type\":\"PanTool\"},{\"attributes\":{},\"id\":\"12472\",\"type\":\"UnionRenderers\"},{\"attributes\":{\"overlay\":{\"id\":\"12461\",\"type\":\"BoxAnnotation\"}},\"id\":\"11893\",\"type\":\"BoxZoomTool\"},{\"attributes\":{\"callback\":null,\"data\":{\"x\":[\"precision\",\"s_metric\",\"KLD\",\"loss_G\",\"loss_D\"],\"y\":[0.788012274447259,0.7335150338347377,0.16205751494817022,0.7272927372939288,0.7021834830728898]},\"selected\":{\"id\":\"12473\",\"type\":\"Selection\"},\"selection_policy\":{\"id\":\"12472\",\"type\":\"UnionRenderers\"}},\"id\":\"11929\",\"type\":\"ColumnDataSource\"},{\"attributes\":{\"x0\":{\"field\":\"x0\"},\"x1\":{\"field\":\"x1\"},\"y0\":{\"field\":\"y0\"},\"y1\":{\"field\":\"y1\"}},\"id\":\"11910\",\"type\":\"Segment\"},{\"attributes\":{},\"id\":\"12477\",\"type\":\"Selection\"},{\"attributes\":{},\"id\":\"11883\",\"type\":\"CategoricalTicker\"},{\"attributes\":{\"callback\":null},\"id\":\"11876\",\"type\":\"DataRange1d\"},{\"attributes\":{},\"id\":\"12478\",\"type\":\"UnionRenderers\"},{\"attributes\":{\"callback\":null,\"factors\":[\"precision\",\"s_metric\",\"KLD\",\"loss_G\",\"loss_D\"]},\"id\":\"11874\",\"type\":\"FactorRange\"},{\"attributes\":{\"grid_line_color\":null,\"ticker\":{\"id\":\"11883\",\"type\":\"CategoricalTicker\"}},\"id\":\"11885\",\"type\":\"Grid\"},{\"attributes\":{},\"id\":\"12480\",\"type\":\"UnionRenderers\"},{\"attributes\":{\"fill_alpha\":{\"value\":0.1},\"fill_color\":{\"value\":\"#1f77b4\"},\"height\":{\"units\":\"data\",\"value\":0.001},\"line_alpha\":{\"value\":0.1},\"line_color\":{\"value\":\"#1f77b4\"},\"width\":{\"units\":\"data\",\"value\":0.2},\"x\":{\"field\":\"x\"},\"y\":{\"field\":\"y\"}},\"id\":\"11906\",\"type\":\"Rect\"},{\"attributes\":{},\"id\":\"11895\",\"type\":\"ResetTool\"}],\"root_ids\":[\"11873\"]},\"title\":\"Bokeh Application\",\"version\":\"1.4.0\"}};\n",
       "  var render_items = [{\"docid\":\"78b11379-ff85-4810-ba42-b101ca2a0378\",\"roots\":{\"11873\":\"65e5b0e6-c743-40c1-b089-8953d3984e8c\"}}];\n",
       "  root.Bokeh.embed.embed_items_notebook(docs_json, render_items);\n",
       "\n",
       "  }\n",
       "  if (root.Bokeh !== undefined) {\n",
       "    embed_document(root);\n",
       "  } else {\n",
       "    var attempts = 0;\n",
       "    var timer = setInterval(function(root) {\n",
       "      if (root.Bokeh !== undefined) {\n",
       "        clearInterval(timer);\n",
       "        embed_document(root);\n",
       "      } else {\n",
       "        attempts++;\n",
       "        if (attempts > 100) {\n",
       "          clearInterval(timer);\n",
       "          console.log(\"Bokeh: ERROR: Unable to run BokehJS code because BokehJS library is missing\");\n",
       "        }\n",
       "      }\n",
       "    }, 10, root)\n",
       "  }\n",
       "})(window);"
      ],
      "application/vnd.bokehjs_exec.v0+json": ""
     },
     "metadata": {
      "application/vnd.bokehjs_exec.v0+json": {
       "id": "11873"
      }
     },
     "output_type": "display_data"
    }
   ],
   "source": [
    "[pl_3, pq1_3, pq2_3, pq3_3, pu_3], pouts_3 = bokeh_utils.boxtplot_values(np.array(precision3), True, True)\n",
    "[kl_3, kq1_3, kq2_3, kq3_3, ku_3], kouts_3 = bokeh_utils.boxtplot_values(np.array(kld3), True, True)\n",
    "[gl_3, gq1_3, gq2_3, gq3_3, gu_3], gouts_3 = bokeh_utils.boxtplot_values(np.array(loss_g3), True, True)\n",
    "[dl_3, dq1_3, dq2_3, dq3_3, du_3], douts_3 = bokeh_utils.boxtplot_values(np.array(loss_d3), True, True)\n",
    "[sl_3, sq1_3, sq2_3, sq3_3, su_3], souts_3 = bokeh_utils.boxtplot_values(np.array(s_metric_3), True, True)\n",
    "\n",
    "cats = [\"precision\",\"s_metric\", \"KLD\", \"loss_G\", \"loss_D\"]\n",
    "p = figure(plot_height=200, plot_width=350, x_range=cats, background_fill_color=\"#E8E8E8\",)\n",
    "p.rect(cats, [pl_3, sl_3, kl_3, gl_3, dl_3], width=.2, height=.001, line_color=\"black\")\n",
    "p.segment(cats, [pl_3, sl_3, kl_3, gl_3, dl_3], cats, [pq1_3, sq1_3, kq1_3, gq1_3, dq1_3], line_color=\"black\")\n",
    "p.vbar(cats, width=.4, top=[pq2_3, sq2_3, kq2_3, gq2_3, dq2_3], bottom=[pq1_3, sq1_3, kq1_3, gq1_3, dq1_3],\n",
    "       fill_color=\"#3B8686\", line_color=\"black\")\n",
    "p.vbar(cats, width=.4, top=[pq3_3, sq3_3, kq3_3, gq3_3, dq3_3], bottom=[pq2_3, sq2_3, kq2_3, gq2_3, dq2_3],\n",
    "       fill_color=\"#E08E79\", line_color=\"black\")\n",
    "p.segment(cats, [pq3_3, sq3_3, kq3_3, gq3_3, dq3_3], cats, [pu_3, su_3, ku_3, gu_3, du_3], line_color=\"black\")\n",
    "p.rect(cats, [pu_3, su_3, ku_3, gu_3, du_3], width=.2, height=.001, line_color=\"black\")\n",
    "p.xgrid.grid_line_color = None\n",
    "p.ygrid.grid_line_color = \"white\"\n",
    "p.grid.grid_line_width = 1\n",
    "p.yaxis.ticker = np.arange(0,1.1,.1)\n",
    "\n",
    "#outliers\n",
    "list_outs = [pouts_3, souts_3, kouts_3, gouts_3, douts_3]\n",
    "for idx in range(len(cats)):\n",
    "    aux_var = list_outs[idx]\n",
    "    if len(aux_var)>0:\n",
    "        p.circle([cats[idx] for i in range(len(aux_var))], aux_var, line_color=\"#FF8000\",\n",
    "                fill_color=\"#FFA851\", size=4)\n",
    "    \n",
    "show(p)"
   ]
  },
  {
   "cell_type": "code",
   "execution_count": 93,
   "metadata": {},
   "outputs": [],
   "source": [
    "np.save(file=\"./results/selecting_gan/precision_3.npy\", arr=np.array(precision3))\n",
    "np.save(file=\"./results/selecting_gan/kld_3.npy\", arr=np.array(kld3))\n",
    "np.save(file=\"./results/selecting_gan/loss_g_3.npy\", arr=np.array(loss_g3))\n",
    "np.save(file=\"./results/selecting_gan/loss_d_3.npy\", arr=np.array(loss_d3))\n",
    "np.save(file=\"./results/selecting_gan/s_metric_3.npy\", arr=np.array(s_metric_3))"
   ]
  },
  {
   "cell_type": "markdown",
   "metadata": {},
   "source": [
    "### Comparing the architectures"
   ]
  },
  {
   "cell_type": "code",
   "execution_count": 145,
   "metadata": {},
   "outputs": [],
   "source": [
    "#architecture #1\n",
    "precision_1 = np.load(\"./results/selecting_gan/precision_1.npy\")\n",
    "kld_1 = np.load(\"./results/selecting_gan/kld_1.npy\")\n",
    "loss_g_1 = np.load(\"./results/selecting_gan/loss_g_1.npy\")\n",
    "loss_d_1 = np.load(\"./results/selecting_gan/loss_d_1.npy\")\n",
    "s_metric_1 = np.load(\"./results/selecting_gan/s_metric_1.npy\")\n",
    "\n",
    "#architecture #2\n",
    "precision_2 = np.load(\"./results/selecting_gan/precision_2.npy\")\n",
    "kld_2 = np.load(\"./results/selecting_gan/kld_2.npy\")\n",
    "loss_g_2 = np.load(\"./results/selecting_gan/loss_g_2.npy\")\n",
    "loss_d_2 = np.load(\"./results/selecting_gan/loss_d_2.npy\")\n",
    "s_metric_2 = np.load(\"./results/selecting_gan/s_metric_2.npy\")\n",
    "\n",
    "#architecture #3\n",
    "precision_3 = np.load(\"./results/selecting_gan/precision_3.npy\")\n",
    "kld_3 = np.load(\"./results/selecting_gan/kld_3.npy\")\n",
    "loss_g_3 = np.load(\"./results/selecting_gan/loss_g_3.npy\")\n",
    "loss_d_3 = np.load(\"./results/selecting_gan/loss_d_3.npy\")\n",
    "s_metric_3 = np.load(\"./results/selecting_gan/s_metric_3.npy\")"
   ]
  },
  {
   "cell_type": "code",
   "execution_count": null,
   "metadata": {},
   "outputs": [],
   "source": []
  },
  {
   "cell_type": "code",
   "execution_count": 146,
   "metadata": {},
   "outputs": [],
   "source": [
    "factors = []\n",
    "for i in [\"Arquitetura 1\", \"Arquitetura 2\", \"Arquitetura 3\"]:\n",
    "    factors.append((i, \"precisção\"))\n",
    "    factors.append((i, \"kld\"))\n",
    "    factors.append((i, \"loss G\"))\n",
    "    factors.append((i, \"loss D\"))\n",
    "    factors.append((i, \"metrica S\"))"
   ]
  },
  {
   "cell_type": "code",
   "execution_count": null,
   "metadata": {},
   "outputs": [],
   "source": []
  },
  {
   "cell_type": "code",
   "execution_count": 147,
   "metadata": {},
   "outputs": [],
   "source": [
    "from utilities.EdwinRueda_utils import bokeh_utils\n",
    "\n",
    "bokeh_utils = bokeh_utils()\n",
    "\n",
    "[pl_1, pq1_1, pq2_1, pq3_1, pu_1], pouts_1 = bokeh_utils.boxtplot_values(precision_1, True, True)\n",
    "[kl_1, kq1_1, kq2_1, kq3_1, ku_1], kouts_1 = bokeh_utils.boxtplot_values(np.array(kld_1), True, True)\n",
    "[gl_1, gq1_1, gq2_1, gq3_1, gu_1], gouts_1 = bokeh_utils.boxtplot_values(np.array(loss_g_1), True, True)\n",
    "[dl_1, dq1_1, dq2_1, dq3_1, du_1], douts_1 = bokeh_utils.boxtplot_values(np.array(loss_d_1), True, True)\n",
    "[sl_1, sq1_1, sq2_1, sq3_1, su_1], souts_1 = bokeh_utils.boxtplot_values(np.array(s_metric_1), True, True)\n",
    "\n",
    "#2\n",
    "[pl_2, pq1_2, pq2_2, pq3_2, pu_2], pouts_2 = bokeh_utils.boxtplot_values(np.array(precision_2), True, True)\n",
    "[kl_2, kq1_2, kq2_2, kq3_2, ku_2], kouts_2 = bokeh_utils.boxtplot_values(np.array(kld_2), True, True)\n",
    "[gl_2, gq1_2, gq2_2, gq3_2, gu_2], gouts_2 = bokeh_utils.boxtplot_values(np.array(loss_g_2), True, True)\n",
    "[dl_2, dq1_2, dq2_2, dq3_2, du_2], douts_2 = bokeh_utils.boxtplot_values(np.array(loss_d_2), True, True)\n",
    "[sl_2, sq1_2, sq2_2, sq3_2, su_2], souts_2 = bokeh_utils.boxtplot_values(np.array(s_metric_2), True, True)\n",
    "\n",
    "#3\n",
    "[pl_3, pq1_3, pq2_3, pq3_3, pu_3], pouts_3 = bokeh_utils.boxtplot_values(np.array(precision_3), True, True)\n",
    "[kl_3, kq1_3, kq2_3, kq3_3, ku_3], kouts_3 = bokeh_utils.boxtplot_values(np.array(kld_3), True, True)\n",
    "[gl_3, gq1_3, gq2_3, gq3_3, gu_3], gouts_3 = bokeh_utils.boxtplot_values(np.array(loss_g_3), True, True)\n",
    "[dl_3, dq1_3, dq2_3, dq3_3, du_3], douts_3 = bokeh_utils.boxtplot_values(np.array(loss_d_3), True, True)\n",
    "[sl_3, sq1_3, sq2_3, sq3_3, su_3], souts_3 = bokeh_utils.boxtplot_values(np.array(s_metric_3), True, True)"
   ]
  },
  {
   "cell_type": "code",
   "execution_count": 160,
   "metadata": {},
   "outputs": [
    {
     "data": {
      "text/html": [
       "\n",
       "\n",
       "\n",
       "\n",
       "\n",
       "\n",
       "  <div class=\"bk-root\" id=\"4fdaf7b7-b4a4-4562-9bc6-3dec2e49399e\" data-root-id=\"15690\"></div>\n"
      ]
     },
     "metadata": {},
     "output_type": "display_data"
    },
    {
     "data": {
      "application/javascript": [
       "(function(root) {\n",
       "  function embed_document(root) {\n",
       "    \n",
       "  var docs_json = {\"c0c99f72-de5b-46ce-96a0-4fa217fbf196\":{\"roots\":{\"references\":[{\"attributes\":{\"below\":[{\"id\":\"15698\",\"type\":\"CategoricalAxis\"}],\"center\":[{\"id\":\"15701\",\"type\":\"Grid\"},{\"id\":\"15706\",\"type\":\"Grid\"}],\"left\":[{\"id\":\"15702\",\"type\":\"LinearAxis\"}],\"plot_height\":200,\"plot_width\":780,\"renderers\":[{\"id\":\"15723\",\"type\":\"GlyphRenderer\"},{\"id\":\"15728\",\"type\":\"GlyphRenderer\"},{\"id\":\"15733\",\"type\":\"GlyphRenderer\"},{\"id\":\"15738\",\"type\":\"GlyphRenderer\"},{\"id\":\"15743\",\"type\":\"GlyphRenderer\"},{\"id\":\"15748\",\"type\":\"GlyphRenderer\"}],\"title\":{\"id\":\"16358\",\"type\":\"Title\"},\"toolbar\":{\"id\":\"15713\",\"type\":\"Toolbar\"},\"x_range\":{\"id\":\"15689\",\"type\":\"FactorRange\"},\"x_scale\":{\"id\":\"15694\",\"type\":\"CategoricalScale\"},\"y_range\":{\"id\":\"15692\",\"type\":\"DataRange1d\"},\"y_scale\":{\"id\":\"15696\",\"type\":\"LinearScale\"}},\"id\":\"15690\",\"subtype\":\"Figure\",\"type\":\"Plot\"},{\"attributes\":{\"data_source\":{\"id\":\"15730\",\"type\":\"ColumnDataSource\"},\"glyph\":{\"id\":\"15731\",\"type\":\"VBar\"},\"hover_glyph\":null,\"muted_glyph\":null,\"nonselection_glyph\":{\"id\":\"15732\",\"type\":\"VBar\"},\"selection_glyph\":null,\"view\":{\"id\":\"15734\",\"type\":\"CDSView\"}},\"id\":\"15733\",\"type\":\"GlyphRenderer\"},{\"attributes\":{\"active_drag\":\"auto\",\"active_inspect\":\"auto\",\"active_multi\":null,\"active_scroll\":\"auto\",\"active_tap\":\"auto\",\"tools\":[{\"id\":\"15707\",\"type\":\"PanTool\"},{\"id\":\"15708\",\"type\":\"WheelZoomTool\"},{\"id\":\"15709\",\"type\":\"BoxZoomTool\"},{\"id\":\"15710\",\"type\":\"SaveTool\"},{\"id\":\"15711\",\"type\":\"ResetTool\"},{\"id\":\"15712\",\"type\":\"HelpTool\"}]},\"id\":\"15713\",\"type\":\"Toolbar\"},{\"attributes\":{},\"id\":\"15707\",\"type\":\"PanTool\"},{\"attributes\":{\"source\":{\"id\":\"15730\",\"type\":\"ColumnDataSource\"}},\"id\":\"15734\",\"type\":\"CDSView\"},{\"attributes\":{},\"id\":\"16362\",\"type\":\"BasicTickFormatter\"},{\"attributes\":{},\"id\":\"15708\",\"type\":\"WheelZoomTool\"},{\"attributes\":{\"callback\":null,\"data\":{\"x0\":[[\"Arquitetura 1\",\"precis\\u00e7\\u00e3o\"],[\"Arquitetura 1\",\"kld\"],[\"Arquitetura 1\",\"loss G\"],[\"Arquitetura 1\",\"loss D\"],[\"Arquitetura 1\",\"metrica S\"],[\"Arquitetura 2\",\"precis\\u00e7\\u00e3o\"],[\"Arquitetura 2\",\"kld\"],[\"Arquitetura 2\",\"loss G\"],[\"Arquitetura 2\",\"loss D\"],[\"Arquitetura 2\",\"metrica S\"],[\"Arquitetura 3\",\"precis\\u00e7\\u00e3o\"],[\"Arquitetura 3\",\"kld\"],[\"Arquitetura 3\",\"loss G\"],[\"Arquitetura 3\",\"loss D\"],[\"Arquitetura 3\",\"metrica S\"]],\"x1\":[[\"Arquitetura 1\",\"precis\\u00e7\\u00e3o\"],[\"Arquitetura 1\",\"kld\"],[\"Arquitetura 1\",\"loss G\"],[\"Arquitetura 1\",\"loss D\"],[\"Arquitetura 1\",\"metrica S\"],[\"Arquitetura 2\",\"precis\\u00e7\\u00e3o\"],[\"Arquitetura 2\",\"kld\"],[\"Arquitetura 2\",\"loss G\"],[\"Arquitetura 2\",\"loss D\"],[\"Arquitetura 2\",\"metrica S\"],[\"Arquitetura 3\",\"precis\\u00e7\\u00e3o\"],[\"Arquitetura 3\",\"kld\"],[\"Arquitetura 3\",\"loss G\"],[\"Arquitetura 3\",\"loss D\"],[\"Arquitetura 3\",\"metrica S\"]],\"y0\":[0.6145175418836409,0.03048472317303641,0.6922620862403688,0.6916215831012427,0.7391993022808678,0.6901685740068296,0.07144251990320202,0.6705190130391387,0.676331037839898,0.7629957910872744,0.7048602296377737,0.09155010385203594,0.659773217822244,0.660419169956429,0.7009101227885439],\"y1\":[0.7582432567432568,0.06976559105521075,0.7203052622787522,0.7034679998605903,0.7599295463078032,0.8358900611211824,0.15330267024233288,0.7320862659230672,0.688444332339777,0.8104122039700451,0.788012274447259,0.16205751494817022,0.7272927372939288,0.7021834830728898,0.7335150338347377]},\"selected\":{\"id\":\"16373\",\"type\":\"Selection\"},\"selection_policy\":{\"id\":\"16372\",\"type\":\"UnionRenderers\"}},\"id\":\"15740\",\"type\":\"ColumnDataSource\"},{\"attributes\":{},\"id\":\"16360\",\"type\":\"CategoricalTickFormatter\"},{\"attributes\":{\"bottom_units\":\"screen\",\"fill_alpha\":{\"value\":0.5},\"fill_color\":{\"value\":\"lightgrey\"},\"left_units\":\"screen\",\"level\":\"overlay\",\"line_alpha\":{\"value\":1.0},\"line_color\":{\"value\":\"black\"},\"line_dash\":[4,4],\"line_width\":{\"value\":2},\"render_mode\":\"css\",\"right_units\":\"screen\",\"top_units\":\"screen\"},\"id\":\"16363\",\"type\":\"BoxAnnotation\"},{\"attributes\":{\"overlay\":{\"id\":\"16363\",\"type\":\"BoxAnnotation\"}},\"id\":\"15709\",\"type\":\"BoxZoomTool\"},{\"attributes\":{\"bottom\":{\"field\":\"bottom\"},\"fill_color\":{\"field\":\"fill_color\"},\"top\":{\"field\":\"top\"},\"width\":{\"value\":0.4},\"x\":{\"field\":\"x\"}},\"id\":\"15736\",\"type\":\"VBar\"},{\"attributes\":{},\"id\":\"16364\",\"type\":\"UnionRenderers\"},{\"attributes\":{\"callback\":null,\"factors\":[[\"Arquitetura 1\",\"precis\\u00e7\\u00e3o\"],[\"Arquitetura 1\",\"kld\"],[\"Arquitetura 1\",\"loss G\"],[\"Arquitetura 1\",\"loss D\"],[\"Arquitetura 1\",\"metrica S\"],[\"Arquitetura 2\",\"precis\\u00e7\\u00e3o\"],[\"Arquitetura 2\",\"kld\"],[\"Arquitetura 2\",\"loss G\"],[\"Arquitetura 2\",\"loss D\"],[\"Arquitetura 2\",\"metrica S\"],[\"Arquitetura 3\",\"precis\\u00e7\\u00e3o\"],[\"Arquitetura 3\",\"kld\"],[\"Arquitetura 3\",\"loss G\"],[\"Arquitetura 3\",\"loss D\"],[\"Arquitetura 3\",\"metrica S\"]]},\"id\":\"15689\",\"type\":\"FactorRange\"},{\"attributes\":{},\"id\":\"15710\",\"type\":\"SaveTool\"},{\"attributes\":{\"callback\":null,\"data\":{\"x0\":[[\"Arquitetura 1\",\"precis\\u00e7\\u00e3o\"],[\"Arquitetura 1\",\"kld\"],[\"Arquitetura 1\",\"loss G\"],[\"Arquitetura 1\",\"loss D\"],[\"Arquitetura 1\",\"metrica S\"],[\"Arquitetura 2\",\"precis\\u00e7\\u00e3o\"],[\"Arquitetura 2\",\"kld\"],[\"Arquitetura 2\",\"loss G\"],[\"Arquitetura 2\",\"loss D\"],[\"Arquitetura 2\",\"metrica S\"],[\"Arquitetura 3\",\"precis\\u00e7\\u00e3o\"],[\"Arquitetura 3\",\"kld\"],[\"Arquitetura 3\",\"loss G\"],[\"Arquitetura 3\",\"loss D\"],[\"Arquitetura 3\",\"metrica S\"]],\"x1\":[[\"Arquitetura 1\",\"precis\\u00e7\\u00e3o\"],[\"Arquitetura 1\",\"kld\"],[\"Arquitetura 1\",\"loss G\"],[\"Arquitetura 1\",\"loss D\"],[\"Arquitetura 1\",\"metrica S\"],[\"Arquitetura 2\",\"precis\\u00e7\\u00e3o\"],[\"Arquitetura 2\",\"kld\"],[\"Arquitetura 2\",\"loss G\"],[\"Arquitetura 2\",\"loss D\"],[\"Arquitetura 2\",\"metrica S\"],[\"Arquitetura 3\",\"precis\\u00e7\\u00e3o\"],[\"Arquitetura 3\",\"kld\"],[\"Arquitetura 3\",\"loss G\"],[\"Arquitetura 3\",\"loss D\"],[\"Arquitetura 3\",\"metrica S\"]],\"y0\":[0.4620622581080247,-0.00704081922541443,0.6414590609379266,0.6586426373255501,0.6896313123281665,0.4886148573648574,-0.027145793471895475,0.5669766661170546,0.5757649110739927,0.6853704604463897,0.4646029365885085,0.014984177395158409,0.5661954463880122,0.5751556504581872,0.6559258739094014],\"y1\":[0.5071379734214874,0.004297477918253512,0.6719408761193919,0.6784300047909656,0.7193721062997873,0.5764312011446923,0.016869086343781453,0.6278158389625726,0.6309589321127396,0.7313848491654273,0.6087573124180676,0.04454516312127975,0.6147602048411207,0.6215157660000543,0.6791735154244147]},\"selected\":{\"id\":\"16367\",\"type\":\"Selection\"},\"selection_policy\":{\"id\":\"16366\",\"type\":\"UnionRenderers\"}},\"id\":\"15725\",\"type\":\"ColumnDataSource\"},{\"attributes\":{\"bottom\":{\"field\":\"bottom\"},\"fill_alpha\":{\"value\":0.1},\"fill_color\":{\"value\":\"#1f77b4\"},\"line_alpha\":{\"value\":0.1},\"line_color\":{\"value\":\"#1f77b4\"},\"top\":{\"field\":\"top\"},\"width\":{\"value\":0.4},\"x\":{\"field\":\"x\"}},\"id\":\"15737\",\"type\":\"VBar\"},{\"attributes\":{},\"id\":\"16365\",\"type\":\"Selection\"},{\"attributes\":{},\"id\":\"15711\",\"type\":\"ResetTool\"},{\"attributes\":{\"data_source\":{\"id\":\"15735\",\"type\":\"ColumnDataSource\"},\"glyph\":{\"id\":\"15736\",\"type\":\"VBar\"},\"hover_glyph\":null,\"muted_glyph\":null,\"nonselection_glyph\":{\"id\":\"15737\",\"type\":\"VBar\"},\"selection_glyph\":null,\"view\":{\"id\":\"15739\",\"type\":\"CDSView\"}},\"id\":\"15738\",\"type\":\"GlyphRenderer\"},{\"attributes\":{},\"id\":\"16366\",\"type\":\"UnionRenderers\"},{\"attributes\":{},\"id\":\"15712\",\"type\":\"HelpTool\"},{\"attributes\":{\"source\":{\"id\":\"15735\",\"type\":\"ColumnDataSource\"}},\"id\":\"15739\",\"type\":\"CDSView\"},{\"attributes\":{},\"id\":\"16367\",\"type\":\"Selection\"},{\"attributes\":{},\"id\":\"16368\",\"type\":\"UnionRenderers\"},{\"attributes\":{\"callback\":null},\"id\":\"15692\",\"type\":\"DataRange1d\"},{\"attributes\":{\"callback\":null,\"data\":{\"x\":[[\"Arquitetura 1\",\"precis\\u00e7\\u00e3o\"],[\"Arquitetura 1\",\"kld\"],[\"Arquitetura 1\",\"loss G\"],[\"Arquitetura 1\",\"loss D\"],[\"Arquitetura 1\",\"metrica S\"],[\"Arquitetura 2\",\"precis\\u00e7\\u00e3o\"],[\"Arquitetura 2\",\"kld\"],[\"Arquitetura 2\",\"loss G\"],[\"Arquitetura 2\",\"loss D\"],[\"Arquitetura 2\",\"metrica S\"],[\"Arquitetura 3\",\"precis\\u00e7\\u00e3o\"],[\"Arquitetura 3\",\"kld\"],[\"Arquitetura 3\",\"loss G\"],[\"Arquitetura 3\",\"loss D\"],[\"Arquitetura 3\",\"metrica S\"]],\"y\":[0.7582432567432568,0.06976559105521075,0.7203052622787522,0.7034679998605903,0.7599295463078032,0.8358900611211824,0.15330267024233288,0.7320862659230672,0.688444332339777,0.8104122039700451,0.788012274447259,0.16205751494817022,0.7272927372939288,0.7021834830728898,0.7335150338347377]},\"selected\":{\"id\":\"16375\",\"type\":\"Selection\"},\"selection_policy\":{\"id\":\"16374\",\"type\":\"UnionRenderers\"}},\"id\":\"15745\",\"type\":\"ColumnDataSource\"},{\"attributes\":{\"text\":\"\"},\"id\":\"16358\",\"type\":\"Title\"},{\"attributes\":{\"data_source\":{\"id\":\"15720\",\"type\":\"ColumnDataSource\"},\"glyph\":{\"id\":\"15721\",\"type\":\"Rect\"},\"hover_glyph\":null,\"muted_glyph\":null,\"nonselection_glyph\":{\"id\":\"15722\",\"type\":\"Rect\"},\"selection_glyph\":null,\"view\":{\"id\":\"15724\",\"type\":\"CDSView\"}},\"id\":\"15723\",\"type\":\"GlyphRenderer\"},{\"attributes\":{},\"id\":\"15694\",\"type\":\"CategoricalScale\"},{\"attributes\":{\"x0\":{\"field\":\"x0\"},\"x1\":{\"field\":\"x1\"},\"y0\":{\"field\":\"y0\"},\"y1\":{\"field\":\"y1\"}},\"id\":\"15741\",\"type\":\"Segment\"},{\"attributes\":{},\"id\":\"16369\",\"type\":\"Selection\"},{\"attributes\":{},\"id\":\"16370\",\"type\":\"UnionRenderers\"},{\"attributes\":{},\"id\":\"15696\",\"type\":\"LinearScale\"},{\"attributes\":{\"line_alpha\":{\"value\":0.1},\"line_color\":{\"value\":\"#1f77b4\"},\"x0\":{\"field\":\"x0\"},\"x1\":{\"field\":\"x1\"},\"y0\":{\"field\":\"y0\"},\"y1\":{\"field\":\"y1\"}},\"id\":\"15742\",\"type\":\"Segment\"},{\"attributes\":{\"source\":{\"id\":\"15720\",\"type\":\"ColumnDataSource\"}},\"id\":\"15724\",\"type\":\"CDSView\"},{\"attributes\":{},\"id\":\"16371\",\"type\":\"Selection\"},{\"attributes\":{\"data_source\":{\"id\":\"15740\",\"type\":\"ColumnDataSource\"},\"glyph\":{\"id\":\"15741\",\"type\":\"Segment\"},\"hover_glyph\":null,\"muted_glyph\":null,\"nonselection_glyph\":{\"id\":\"15742\",\"type\":\"Segment\"},\"selection_glyph\":null,\"view\":{\"id\":\"15744\",\"type\":\"CDSView\"}},\"id\":\"15743\",\"type\":\"GlyphRenderer\"},{\"attributes\":{\"formatter\":{\"id\":\"16360\",\"type\":\"CategoricalTickFormatter\"},\"ticker\":{\"id\":\"15699\",\"type\":\"CategoricalTicker\"}},\"id\":\"15698\",\"type\":\"CategoricalAxis\"},{\"attributes\":{\"callback\":null,\"data\":{\"bottom\":[0.5071379734214874,0.004297477918253512,0.6719408761193919,0.6784300047909656,0.7193721062997873,0.5764312011446923,0.016869086343781453,0.6278158389625726,0.6309589321127396,0.7313848491654273,0.6087573124180676,0.04454516312127975,0.6147602048411207,0.6215157660000543,0.6791735154244147],\"fill_color\":[\"#1f77b4\",\"#ff7f0e\",\"#2ca02c\",\"#d62728\",\"#9467bd\",\"#1f77b4\",\"#ff7f0e\",\"#2ca02c\",\"#d62728\",\"#9467bd\",\"#1f77b4\",\"#ff7f0e\",\"#2ca02c\",\"#d62728\",\"#9467bd\"],\"top\":[0.5674477841148995,0.01608542221423512,0.6822733103156726,0.6842756440525087,0.7257123783160906,0.6263053582259261,0.035490536364479575,0.6546917808920738,0.6507918826901957,0.7502347363213919,0.6535864335706172,0.06656860497449918,0.6416548620173752,0.6455644403147722,0.6916448475572664],\"x\":[[\"Arquitetura 1\",\"precis\\u00e7\\u00e3o\"],[\"Arquitetura 1\",\"kld\"],[\"Arquitetura 1\",\"loss G\"],[\"Arquitetura 1\",\"loss D\"],[\"Arquitetura 1\",\"metrica S\"],[\"Arquitetura 2\",\"precis\\u00e7\\u00e3o\"],[\"Arquitetura 2\",\"kld\"],[\"Arquitetura 2\",\"loss G\"],[\"Arquitetura 2\",\"loss D\"],[\"Arquitetura 2\",\"metrica S\"],[\"Arquitetura 3\",\"precis\\u00e7\\u00e3o\"],[\"Arquitetura 3\",\"kld\"],[\"Arquitetura 3\",\"loss G\"],[\"Arquitetura 3\",\"loss D\"],[\"Arquitetura 3\",\"metrica S\"]]},\"selected\":{\"id\":\"16369\",\"type\":\"Selection\"},\"selection_policy\":{\"id\":\"16368\",\"type\":\"UnionRenderers\"}},\"id\":\"15730\",\"type\":\"ColumnDataSource\"},{\"attributes\":{},\"id\":\"16372\",\"type\":\"UnionRenderers\"},{\"attributes\":{\"source\":{\"id\":\"15740\",\"type\":\"ColumnDataSource\"}},\"id\":\"15744\",\"type\":\"CDSView\"},{\"attributes\":{},\"id\":\"15699\",\"type\":\"CategoricalTicker\"},{\"attributes\":{\"x0\":{\"field\":\"x0\"},\"x1\":{\"field\":\"x1\"},\"y0\":{\"field\":\"y0\"},\"y1\":{\"field\":\"y1\"}},\"id\":\"15726\",\"type\":\"Segment\"},{\"attributes\":{},\"id\":\"16373\",\"type\":\"Selection\"},{\"attributes\":{\"ticker\":{\"id\":\"15699\",\"type\":\"CategoricalTicker\"}},\"id\":\"15701\",\"type\":\"Grid\"},{\"attributes\":{\"line_alpha\":{\"value\":0.1},\"line_color\":{\"value\":\"#1f77b4\"},\"x0\":{\"field\":\"x0\"},\"x1\":{\"field\":\"x1\"},\"y0\":{\"field\":\"y0\"},\"y1\":{\"field\":\"y1\"}},\"id\":\"15727\",\"type\":\"Segment\"},{\"attributes\":{},\"id\":\"16374\",\"type\":\"UnionRenderers\"},{\"attributes\":{\"formatter\":{\"id\":\"16362\",\"type\":\"BasicTickFormatter\"},\"ticker\":{\"id\":\"15703\",\"type\":\"BasicTicker\"}},\"id\":\"15702\",\"type\":\"LinearAxis\"},{\"attributes\":{\"fill_color\":{\"value\":\"#1f77b4\"},\"height\":{\"units\":\"data\",\"value\":0.001},\"width\":{\"units\":\"data\",\"value\":0.2},\"x\":{\"field\":\"x\"},\"y\":{\"field\":\"y\"}},\"id\":\"15746\",\"type\":\"Rect\"},{\"attributes\":{\"data_source\":{\"id\":\"15725\",\"type\":\"ColumnDataSource\"},\"glyph\":{\"id\":\"15726\",\"type\":\"Segment\"},\"hover_glyph\":null,\"muted_glyph\":null,\"nonselection_glyph\":{\"id\":\"15727\",\"type\":\"Segment\"},\"selection_glyph\":null,\"view\":{\"id\":\"15729\",\"type\":\"CDSView\"}},\"id\":\"15728\",\"type\":\"GlyphRenderer\"},{\"attributes\":{},\"id\":\"16375\",\"type\":\"Selection\"},{\"attributes\":{\"fill_alpha\":{\"value\":0.1},\"fill_color\":{\"value\":\"#1f77b4\"},\"height\":{\"units\":\"data\",\"value\":0.001},\"line_alpha\":{\"value\":0.1},\"line_color\":{\"value\":\"#1f77b4\"},\"width\":{\"units\":\"data\",\"value\":0.2},\"x\":{\"field\":\"x\"},\"y\":{\"field\":\"y\"}},\"id\":\"15747\",\"type\":\"Rect\"},{\"attributes\":{},\"id\":\"15703\",\"type\":\"BasicTicker\"},{\"attributes\":{\"source\":{\"id\":\"15725\",\"type\":\"ColumnDataSource\"}},\"id\":\"15729\",\"type\":\"CDSView\"},{\"attributes\":{\"data_source\":{\"id\":\"15745\",\"type\":\"ColumnDataSource\"},\"glyph\":{\"id\":\"15746\",\"type\":\"Rect\"},\"hover_glyph\":null,\"muted_glyph\":null,\"nonselection_glyph\":{\"id\":\"15747\",\"type\":\"Rect\"},\"selection_glyph\":null,\"view\":{\"id\":\"15749\",\"type\":\"CDSView\"}},\"id\":\"15748\",\"type\":\"GlyphRenderer\"},{\"attributes\":{\"dimension\":1,\"ticker\":{\"id\":\"15703\",\"type\":\"BasicTicker\"}},\"id\":\"15706\",\"type\":\"Grid\"},{\"attributes\":{\"callback\":null,\"data\":{\"bottom\":[0.5674477841148995,0.01608542221423512,0.6822733103156726,0.6842756440525087,0.7257123783160906,0.6263053582259261,0.035490536364479575,0.6546917808920738,0.6507918826901957,0.7502347363213919,0.6535864335706172,0.06656860497449918,0.6416548620173752,0.6455644403147722,0.6916448475572664],\"fill_color\":[\"#1f77b4\",\"#ff7f0e\",\"#2ca02c\",\"#d62728\",\"#9467bd\",\"#1f77b4\",\"#ff7f0e\",\"#2ca02c\",\"#d62728\",\"#9467bd\",\"#1f77b4\",\"#ff7f0e\",\"#2ca02c\",\"#d62728\",\"#9467bd\"],\"top\":[0.6145175418836409,0.03048472317303641,0.6922620862403688,0.6916215831012427,0.7391993022808678,0.6901685740068296,0.07144251990320202,0.6705190130391387,0.676331037839898,0.7629957910872744,0.7048602296377737,0.09155010385203594,0.659773217822244,0.660419169956429,0.7009101227885439],\"x\":[[\"Arquitetura 1\",\"precis\\u00e7\\u00e3o\"],[\"Arquitetura 1\",\"kld\"],[\"Arquitetura 1\",\"loss G\"],[\"Arquitetura 1\",\"loss D\"],[\"Arquitetura 1\",\"metrica S\"],[\"Arquitetura 2\",\"precis\\u00e7\\u00e3o\"],[\"Arquitetura 2\",\"kld\"],[\"Arquitetura 2\",\"loss G\"],[\"Arquitetura 2\",\"loss D\"],[\"Arquitetura 2\",\"metrica S\"],[\"Arquitetura 3\",\"precis\\u00e7\\u00e3o\"],[\"Arquitetura 3\",\"kld\"],[\"Arquitetura 3\",\"loss G\"],[\"Arquitetura 3\",\"loss D\"],[\"Arquitetura 3\",\"metrica S\"]]},\"selected\":{\"id\":\"16371\",\"type\":\"Selection\"},\"selection_policy\":{\"id\":\"16370\",\"type\":\"UnionRenderers\"}},\"id\":\"15735\",\"type\":\"ColumnDataSource\"},{\"attributes\":{\"fill_alpha\":{\"value\":0.1},\"fill_color\":{\"value\":\"#1f77b4\"},\"height\":{\"units\":\"data\",\"value\":0.001},\"line_alpha\":{\"value\":0.1},\"line_color\":{\"value\":\"#1f77b4\"},\"width\":{\"units\":\"data\",\"value\":0.2},\"x\":{\"field\":\"x\"},\"y\":{\"field\":\"y\"}},\"id\":\"15722\",\"type\":\"Rect\"},{\"attributes\":{\"source\":{\"id\":\"15745\",\"type\":\"ColumnDataSource\"}},\"id\":\"15749\",\"type\":\"CDSView\"},{\"attributes\":{\"bottom\":{\"field\":\"bottom\"},\"fill_color\":{\"field\":\"fill_color\"},\"top\":{\"field\":\"top\"},\"width\":{\"value\":0.4},\"x\":{\"field\":\"x\"}},\"id\":\"15731\",\"type\":\"VBar\"},{\"attributes\":{\"fill_color\":{\"value\":\"#1f77b4\"},\"height\":{\"units\":\"data\",\"value\":0.001},\"width\":{\"units\":\"data\",\"value\":0.2},\"x\":{\"field\":\"x\"},\"y\":{\"field\":\"y\"}},\"id\":\"15721\",\"type\":\"Rect\"},{\"attributes\":{\"bottom\":{\"field\":\"bottom\"},\"fill_alpha\":{\"value\":0.1},\"fill_color\":{\"value\":\"#1f77b4\"},\"line_alpha\":{\"value\":0.1},\"line_color\":{\"value\":\"#1f77b4\"},\"top\":{\"field\":\"top\"},\"width\":{\"value\":0.4},\"x\":{\"field\":\"x\"}},\"id\":\"15732\",\"type\":\"VBar\"},{\"attributes\":{\"callback\":null,\"data\":{\"x\":[[\"Arquitetura 1\",\"precis\\u00e7\\u00e3o\"],[\"Arquitetura 1\",\"kld\"],[\"Arquitetura 1\",\"loss G\"],[\"Arquitetura 1\",\"loss D\"],[\"Arquitetura 1\",\"metrica S\"],[\"Arquitetura 2\",\"precis\\u00e7\\u00e3o\"],[\"Arquitetura 2\",\"kld\"],[\"Arquitetura 2\",\"loss G\"],[\"Arquitetura 2\",\"loss D\"],[\"Arquitetura 2\",\"metrica S\"],[\"Arquitetura 3\",\"precis\\u00e7\\u00e3o\"],[\"Arquitetura 3\",\"kld\"],[\"Arquitetura 3\",\"loss G\"],[\"Arquitetura 3\",\"loss D\"],[\"Arquitetura 3\",\"metrica S\"]],\"y\":[0.4620622581080247,-0.00704081922541443,0.6414590609379266,0.6586426373255501,0.6896313123281665,0.4886148573648574,-0.027145793471895475,0.5669766661170546,0.5757649110739927,0.6853704604463897,0.4646029365885085,0.014984177395158409,0.5661954463880122,0.5751556504581872,0.6559258739094014]},\"selected\":{\"id\":\"16365\",\"type\":\"Selection\"},\"selection_policy\":{\"id\":\"16364\",\"type\":\"UnionRenderers\"}},\"id\":\"15720\",\"type\":\"ColumnDataSource\"}],\"root_ids\":[\"15690\"]},\"title\":\"Bokeh Application\",\"version\":\"1.4.0\"}};\n",
       "  var render_items = [{\"docid\":\"c0c99f72-de5b-46ce-96a0-4fa217fbf196\",\"roots\":{\"15690\":\"4fdaf7b7-b4a4-4562-9bc6-3dec2e49399e\"}}];\n",
       "  root.Bokeh.embed.embed_items_notebook(docs_json, render_items);\n",
       "\n",
       "  }\n",
       "  if (root.Bokeh !== undefined) {\n",
       "    embed_document(root);\n",
       "  } else {\n",
       "    var attempts = 0;\n",
       "    var timer = setInterval(function(root) {\n",
       "      if (root.Bokeh !== undefined) {\n",
       "        clearInterval(timer);\n",
       "        embed_document(root);\n",
       "      } else {\n",
       "        attempts++;\n",
       "        if (attempts > 100) {\n",
       "          clearInterval(timer);\n",
       "          console.log(\"Bokeh: ERROR: Unable to run BokehJS code because BokehJS library is missing\");\n",
       "        }\n",
       "      }\n",
       "    }, 10, root)\n",
       "  }\n",
       "})(window);"
      ],
      "application/vnd.bokehjs_exec.v0+json": ""
     },
     "metadata": {
      "application/vnd.bokehjs_exec.v0+json": {
       "id": "15690"
      }
     },
     "output_type": "display_data"
    }
   ],
   "source": [
    "from bokeh.palettes import Category10_5\n",
    "\n",
    "p = figure(x_range=FactorRange(*factors), plot_height=200, plot_width=780)\n",
    "\n",
    "lower = [pl_1,kl_1,gl_1,dl_1,sl_1, pl_2,kl_2,gl_2,dl_2,sl_2, pl_3,kl_3,gl_3,dl_3,sl_3]\n",
    "q1 = [pq1_1,kq1_1,gq1_1,dq1_1,sq1_1, pq1_2,kq1_2,gq1_2,dq1_2,sq1_2, pq1_3,kq1_3,gq1_3,dq1_3,sq1_3]\n",
    "q2 = [pq2_1,kq2_1,gq2_1,dq2_1,sq2_1, pq2_2,kq2_2,gq2_2,dq2_2,sq2_2, pq2_3,kq2_3,gq2_3,dq2_3,sq2_3]\n",
    "q3 = [pq3_1,kq3_1,gq3_1,dq3_1,sq3_1, pq3_2,kq3_2,gq3_2,dq3_2,sq3_2, pq3_3,kq3_3,gq3_3,dq3_3,sq3_3]\n",
    "upper = [pu_1,ku_1,gu_1,du_1,su_1, pu_2,ku_2,gu_2,du_2,su_2, pu_3,ku_3,gu_3,du_3,su_3]\n",
    "\n",
    "p.rect(x=factors, y=lower, width=.2, height=.001, line_color=\"black\" )\n",
    "p.segment(factors, lower, factors, q1, line_color=\"black\")\n",
    "p.vbar(factors, width=.4, top=q2, bottom=q1, fill_color=Category10_5*3, line_color=\"black\")\n",
    "p.vbar(factors, width=.4, top=q3, bottom=q2, fill_color=Category10_5*3, line_color=\"black\")\n",
    "p.segment(factors, q3, factors, upper, line_color=\"black\")\n",
    "p.rect(factors, upper, width=.2, height=.001, line_color=\"black\")\n",
    "\n",
    "show(p)"
   ]
  },
  {
   "cell_type": "markdown",
   "metadata": {},
   "source": [
    "### Obtaining the best model\n",
    "- to obtain the best model we implement a statistic test.\n",
    "- first, we implement a Shapiro-Wilk test to check if the data come from a normal distribution."
   ]
  },
  {
   "cell_type": "code",
   "execution_count": 162,
   "metadata": {},
   "outputs": [
    {
     "name": "stdout",
     "output_type": "stream",
     "text": [
      "Teste de Shapiro-Wilk\n",
      "----------------------\n",
      "-----  arquitetura_1  -----\n",
      "----- p_values ------\n",
      "precisão: 0.09551458060741425\n",
      "kld: 0.014959828928112984\n",
      "Loss_G: 0.3614264726638794\n",
      "Loss_D: 0.16597390174865723\n",
      "métrica S: 0.3978050649166107\n",
      "\n",
      "-----  arquitetura_2  -----\n",
      "----- p_values ------\n",
      "precisão: 0.5281974077224731\n",
      "kld: 0.15633375942707062\n",
      "Loss_G: 0.7310047149658203\n",
      "Loss_D: 0.07791420072317123\n",
      "métrica S: 0.07291118800640106\n",
      "\n",
      "-----  arquitetura_3  -----\n",
      "----- p_values ------\n",
      "precisão: 0.37967047095298767\n",
      "kld: 0.19433201849460602\n",
      "Loss_G: 0.7828501462936401\n",
      "Loss_D: 0.8288561701774597\n",
      "métrica S: 0.42079198360443115\n",
      "\n"
     ]
    }
   ],
   "source": [
    "from scipy.stats import shapiro, ttest_rel\n",
    "\n",
    "metrics = {\"arquitetura_1\": [precision_1, kld_1, loss_g_1, loss_d_1, s_metric_1],\n",
    "          \"arquitetura_2\": [precision_2, kld_2, loss_g_2, loss_d_2, s_metric_2],\n",
    "          \"arquitetura_3\": [precision_3, kld_3, loss_g_3, loss_d_3, s_metric_3]}\n",
    "\n",
    "print(\"Teste de Shapiro-Wilk\")\n",
    "print(\"----------------------\")\n",
    "for k in metrics.keys():\n",
    "    print(\"----- \",k,\" -----\")\n",
    "    print(\"----- p_values ------\")\n",
    "    print(\"precisão:\", shapiro(metrics[k][0])[1])\n",
    "    print(\"kld:\", shapiro(metrics[k][1])[1])\n",
    "    print(\"Loss_G:\", shapiro(metrics[k][2])[1])\n",
    "    print(\"Loss_D:\", shapiro(metrics[k][3])[1])\n",
    "    print(\"métrica S:\", shapiro(metrics[k][4])[1])\n",
    "    print()\n"
   ]
  },
  {
   "cell_type": "markdown",
   "metadata": {},
   "source": [
    "- Since no p-value was less than 5%, it is assumed that all the metrics come from a normal distribution.\n",
    "- Now, we will implement the paired student test to pair the precision metrics, kld, and S metric to see if the metrics are statistically different."
   ]
  },
  {
   "cell_type": "markdown",
   "metadata": {},
   "source": [
    "### Conclusions:\n",
    "- only the precision metric of architectures 2 and 3 are statistically equal.\n",
    "- As we could see with the graph, architecture 1 is the one that shows the best performance. and as it was possible to verify in the previous step, its metrics are statistically different from the other metrics of the other two architectures.\n",
    "\n",
    "Next notebook: comparing different augmentation methods"
   ]
  },
  {
   "cell_type": "code",
   "execution_count": 190,
   "metadata": {},
   "outputs": [
    {
     "name": "stdout",
     "output_type": "stream",
     "text": [
      "---- paired student test ----\n",
      "-----------------------------\n",
      "---- Arquitetura 1 vs Arquitetura 2 (p_value) ----\n",
      "--------------------------------------------------\n",
      "precision: 0.0008400304874136902\n",
      "kld: 0.0010219899392741262\n",
      "S metric: 0.00011086162277707922\n",
      "-----------------------------\n",
      "---- Arquitetura 1 vs Arquitetura 3 (p_value) ----\n",
      "--------------------------------------------------\n",
      "precision: 1.3579535941212103e-05\n",
      "kld: 3.066228645180062e-10\n",
      "S metric: 6.3567870352777655e-12\n",
      "-----------------------------\n",
      "---- Arquitetura 2 vs Arquitetura 3 (p_value) ----\n",
      "--------------------------------------------------\n",
      "precision: 0.37791595036986225\n",
      "kld: 0.006135301716552601\n",
      "S metric: 4.788755088143791e-12\n"
     ]
    }
   ],
   "source": [
    "print(\"---- paired student test ----\")\n",
    "print(\"-----------------------------\")\n",
    "print(\"---- Arquitetura 1 vs Arquitetura 2 (p_value) ----\")\n",
    "print(\"--------------------------------------------------\")\n",
    "print(\"precision:\",ttest_rel(precision_1, precision_2).pvalue)\n",
    "print(\"kld:\",ttest_rel(kld_1, kld_2).pvalue)\n",
    "print(\"S metric:\",ttest_rel(s_metric_1, s_metric_2).pvalue)\n",
    "print(\"-----------------------------\")\n",
    "print(\"---- Arquitetura 1 vs Arquitetura 3 (p_value) ----\")\n",
    "print(\"--------------------------------------------------\")\n",
    "print(\"precision:\",ttest_rel(precision_1, precision_3).pvalue)\n",
    "print(\"kld:\",ttest_rel(kld_1, kld_3).pvalue)\n",
    "print(\"S metric:\",ttest_rel(s_metric_1, s_metric_3).pvalue)\n",
    "print(\"-----------------------------\")\n",
    "print(\"---- Arquitetura 2 vs Arquitetura 3 (p_value) ----\")\n",
    "print(\"--------------------------------------------------\")\n",
    "print(\"precision:\",ttest_rel(precision_2, precision_3).pvalue)\n",
    "print(\"kld:\",ttest_rel(kld_2, kld_3).pvalue)\n",
    "print(\"S metric:\",ttest_rel(s_metric_2, s_metric_3).pvalue)"
   ]
  },
  {
   "cell_type": "code",
   "execution_count": null,
   "metadata": {},
   "outputs": [],
   "source": []
  }
 ],
 "metadata": {
  "kernelspec": {
   "display_name": "Python 3",
   "language": "python",
   "name": "python3"
  },
  "language_info": {
   "codemirror_mode": {
    "name": "ipython",
    "version": 3
   },
   "file_extension": ".py",
   "mimetype": "text/x-python",
   "name": "python",
   "nbconvert_exporter": "python",
   "pygments_lexer": "ipython3",
   "version": "3.6.9"
  }
 },
 "nbformat": 4,
 "nbformat_minor": 2
}
