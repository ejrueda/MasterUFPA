{
 "cells": [
  {
   "cell_type": "markdown",
   "metadata": {},
   "source": []
  },
  {
   "cell_type": "code",
   "execution_count": 11,
   "metadata": {},
   "outputs": [],
   "source": [
    "from sklearn.neighbors import NearestNeighbors\n",
    "import numpy as np\n",
    "import pandas as pd\n",
    "import matplotlib.pyplot as plt\n",
    "%matplotlib inline"
   ]
  },
  {
   "cell_type": "markdown",
   "metadata": {},
   "source": [
    "<center> <h1> Generative models - Baseline </h1>\n",
    "\n",
    "<b>Autor:</b> Edwin Rueda <br>\n",
    "<b>email:</b> ejrueda95g@gmail.com <br>\n",
    "<b>github:</b> https://github.com/ejrueda <br>\n",
    "<b>website:</b> http://edwinrueda.com/ <br>\n",
    "<b> You can cite this work with</b>:\n",
    "\n",
    "@software{edwin_rueda_2020_3843381,<br>\n",
    "  author       = {Edwin Rueda},<br>\n",
    "  title        = {ejrueda/MasterUFPA: zenodo release},<br>\n",
    "  month        = may,<br>\n",
    "  year         = 2020,<br>\n",
    "  publisher    = {Zenodo},<br>\n",
    "  version      = {zenodo},<br>\n",
    "  doi          = {10.5281/zenodo.3843381},<br>\n",
    "  url          = {https://doi.org/10.5281/zenodo.3843381}<br>\n",
    "}"
   ]
  },
  {
   "cell_type": "markdown",
   "metadata": {},
   "source": [
    "- The baseline model is based on K-NN (https://scikit-learn.org/stable/modules/neighbors.html#unsupervised-neighbors)\n",
    "- The objective is to train a KNN model to generate a synthetic samples based on K nearest neighbors."
   ]
  },
  {
   "cell_type": "markdown",
   "metadata": {},
   "source": [
    "### Sample generation - SMOTE: Synthetic Minority Over-sampling Technique\n",
    "- article: https://www.jair.org/index.php/jair/article/view/10302\n",
    "- mathematical formulation:\n",
    "    - a new sample $x_{new}$ is based on a neighbor sample $x_n$ which is based on a KNN algorithm:\n",
    "        - $x_{new} = x_{i}$ + $\\lambda$$*(x_{n}-x_{i})$\n",
    "        - where:\n",
    "            - $\\lambda$ is a random number between 0 and 1\n",
    "            - $x_{i}$ is a sample of the dataset to be increase"
   ]
  },
  {
   "cell_type": "code",
   "execution_count": 108,
   "metadata": {},
   "outputs": [
    {
     "data": {
      "text/plain": [
       "60.0"
      ]
     },
     "execution_count": 108,
     "metadata": {},
     "output_type": "execute_result"
    }
   ],
   "source": [
    "(200/100)*30"
   ]
  },
  {
   "cell_type": "code",
   "execution_count": 196,
   "metadata": {},
   "outputs": [],
   "source": [
    "def smote(T, N, k):\n",
    "    \"\"\"\n",
    "    Inputs:\n",
    "        T: data array to be increase\n",
    "        N: Amount of SMOTE N%. between (0, 100]\n",
    "        k: Number of nearest neighbors\n",
    "    Ouput:\n",
    "    (N/100)* T synthetic minority class samples\n",
    "    (∗ If N is less than 100%, randomize the minority class samples as only a random\n",
    "       percent of them will be SMOTEd. ∗)\n",
    "    \"\"\"\n",
    "    if N < 100:\n",
    "        idxs = np.random.choice(np.arange(0, len(T)), size=int(T*(N/100)), replace=False)\n",
    "        T = T[idxs]\n",
    "        N = 100\n",
    "        \n",
    "    N = int(N/100)*len(T)\n",
    "    synthetic = np.ones((N, T.shape[1]))\n",
    "    neigh = NearestNeighbors(n_neighbors = k)\n",
    "    neigh.fit(T)\n",
    "    #generating synthetic samples\n",
    "    for i in range(N):\n",
    "        #print(i)\n",
    "        idx = np.random.randint(low=0, high=T.shape[0])\n",
    "        T_sample = T[idx] #x_i sample\n",
    "        #print(T_sample.shape)\n",
    "        nn = neigh.kneighbors(T_sample.reshape(1,T.shape[1]), return_distance=False)\n",
    "        #get random k-neighbor index\n",
    "        nn_index = np.random.choice(nn[0])\n",
    "        while (T_sample == T[nn_index]).any():\n",
    "            nn_index = np.random.choice(nn[0])\n",
    "        \n",
    "        dif = T_sample - T[nn_index]\n",
    "        gap = np.random.normal()\n",
    "        synthetic[i] = T_sample + gap*dif\n",
    "    \n",
    "    return synthetic"
   ]
  },
  {
   "cell_type": "code",
   "execution_count": null,
   "metadata": {},
   "outputs": [],
   "source": []
  },
  {
   "cell_type": "code",
   "execution_count": 197,
   "metadata": {},
   "outputs": [],
   "source": [
    "a = np.random.normal(loc=1, scale=.5, size=(100,2))\n",
    "a_synthetic = smote(a, 200, 4)"
   ]
  },
  {
   "cell_type": "code",
   "execution_count": 198,
   "metadata": {},
   "outputs": [
    {
     "data": {
      "text/plain": [
       "(100, 2)"
      ]
     },
     "execution_count": 198,
     "metadata": {},
     "output_type": "execute_result"
    }
   ],
   "source": [
    "a.shape"
   ]
  },
  {
   "cell_type": "code",
   "execution_count": 199,
   "metadata": {},
   "outputs": [
    {
     "data": {
      "text/plain": [
       "(200, 2)"
      ]
     },
     "execution_count": 199,
     "metadata": {},
     "output_type": "execute_result"
    }
   ],
   "source": [
    "a_synthetic.shape"
   ]
  },
  {
   "cell_type": "code",
   "execution_count": 200,
   "metadata": {},
   "outputs": [
    {
     "data": {
      "image/png": "[encoded data removed]",
      "text/plain": [
       "<Figure size 432x288 with 1 Axes>"
      ]
     },
     "metadata": {
      "needs_background": "light"
     },
     "output_type": "display_data"
    }
   ],
   "source": [
    "plt.scatter(a[:,0], a[:,1]);\n",
    "plt.scatter(a_synthetic[:,0], a_synthetic[:,1]);\n"
   ]
  },
  {
   "cell_type": "code",
   "execution_count": null,
   "metadata": {},
   "outputs": [],
   "source": []
  },
  {
   "cell_type": "code",
   "execution_count": 78,
   "metadata": {},
   "outputs": [],
   "source": [
    "def generation_data(X, n, k):\n",
    "    \"\"\"\n",
    "    returns synthetic data from an input data X.\n",
    "    Retorna nuevos datos generados a partir de los pasados en X.\n",
    "\n",
    "    Parameters\n",
    "    ----------\n",
    "    X : dataframe with the data to be augmented\n",
    "    N : (0-1] percentage of data to be generate.\n",
    "    k : int. number of k neighbors.\n",
    "\n",
    "    Returns\n",
    "    -------\n",
    "    S : array, shape = [N * n_minority_samples, n_features]\n",
    "    \"\"\"    \n",
    "    n_minority_samples, n_features = X.shape\n",
    "\n",
    "    if (n<=0 or n>1): raise ValueError(\"N must be between (0,1]\")\n",
    "\n",
    "    n_synthetic_samples = int(n * n_minority_samples)\n",
    "    S = np.zeros(shape=(n_synthetic_samples, n_features))\n",
    "    aux = np.zeros(shape=X.shape)\n",
    "    #Learn nearest neighbours\n",
    "    neigh = NearestNeighbors(n_neighbors = k)\n",
    "    neigh.fit(X)\n",
    "\n",
    "    #Calculate synthetic samples\n",
    "    for i in range(n_minority_samples):\n",
    "        nn = neigh.kneighbors(np.array(X.iloc[i]).reshape(1,-1), return_distance=False)\n",
    "        for j in np.arange(n):\n",
    "            nn_index = np.random.choice(nn[0])\n",
    "            #NOTE: nn includes T[i], we don't want to select it \n",
    "            while (X.iloc[nn_index].values == X.iloc[i].values).any():\n",
    "                nn_index = np.random.choice(nn[0])\n",
    "\n",
    "            dif = X.iloc[nn_index] - X.iloc[i]\n",
    "            gap = np.random.random()\n",
    "            aux[i] = X.iloc[i,:] + gap * dif[:]\n",
    "    S = aux[np.random.choice(np.arange(aux.shape[0]),S.shape[0],replace=False),:]\n",
    "    return S"
   ]
  },
  {
   "cell_type": "code",
   "execution_count": 92,
   "metadata": {},
   "outputs": [
    {
     "data": {
      "text/plain": [
       "1"
      ]
     },
     "execution_count": 92,
     "metadata": {},
     "output_type": "execute_result"
    }
   ],
   "source": [
    "np.random.choice(np.array([0,1,4]))"
   ]
  },
  {
   "cell_type": "code",
   "execution_count": 121,
   "metadata": {},
   "outputs": [],
   "source": [
    "ng = NearestNeighbors(n_neighbors=2)"
   ]
  },
  {
   "cell_type": "code",
   "execution_count": 137,
   "metadata": {},
   "outputs": [
    {
     "data": {
      "text/plain": [
       "array([[1, 1, 1],\n",
       "       [1, 0, 1],\n",
       "       [2, 0, 1]])"
      ]
     },
     "execution_count": 137,
     "metadata": {},
     "output_type": "execute_result"
    }
   ],
   "source": [
    "x = np.array([[1, 1, 1], [1,0,1], [2,0,1]])\n",
    "x"
   ]
  },
  {
   "cell_type": "code",
   "execution_count": 138,
   "metadata": {},
   "outputs": [
    {
     "data": {
      "text/html": [
       "<div>\n",
       "<style scoped>\n",
       "    .dataframe tbody tr th:only-of-type {\n",
       "        vertical-align: middle;\n",
       "    }\n",
       "\n",
       "    .dataframe tbody tr th {\n",
       "        vertical-align: top;\n",
       "    }\n",
       "\n",
       "    .dataframe thead th {\n",
       "        text-align: right;\n",
       "    }\n",
       "</style>\n",
       "<table border=\"1\" class=\"dataframe\">\n",
       "  <thead>\n",
       "    <tr style=\"text-align: right;\">\n",
       "      <th></th>\n",
       "      <th>0</th>\n",
       "      <th>1</th>\n",
       "      <th>2</th>\n",
       "    </tr>\n",
       "  </thead>\n",
       "  <tbody>\n",
       "    <tr>\n",
       "      <td>0</td>\n",
       "      <td>1</td>\n",
       "      <td>1</td>\n",
       "      <td>1</td>\n",
       "    </tr>\n",
       "    <tr>\n",
       "      <td>1</td>\n",
       "      <td>1</td>\n",
       "      <td>0</td>\n",
       "      <td>1</td>\n",
       "    </tr>\n",
       "    <tr>\n",
       "      <td>2</td>\n",
       "      <td>2</td>\n",
       "      <td>0</td>\n",
       "      <td>1</td>\n",
       "    </tr>\n",
       "  </tbody>\n",
       "</table>\n",
       "</div>"
      ],
      "text/plain": [
       "   0  1  2\n",
       "0  1  1  1\n",
       "1  1  0  1\n",
       "2  2  0  1"
      ]
     },
     "execution_count": 138,
     "metadata": {},
     "output_type": "execute_result"
    }
   ],
   "source": [
    "pd.DataFrame(x)"
   ]
  },
  {
   "cell_type": "code",
   "execution_count": 139,
   "metadata": {},
   "outputs": [
    {
     "data": {
      "text/plain": [
       "NearestNeighbors(algorithm='auto', leaf_size=30, metric='minkowski',\n",
       "                 metric_params=None, n_jobs=None, n_neighbors=2, p=2,\n",
       "                 radius=1.0)"
      ]
     },
     "execution_count": 139,
     "metadata": {},
     "output_type": "execute_result"
    }
   ],
   "source": [
    "ng.fit(x)"
   ]
  },
  {
   "cell_type": "code",
   "execution_count": 140,
   "metadata": {},
   "outputs": [],
   "source": [
    "nn = ng.kneighbors(np.array([[2,1,1]]), return_distance=False)"
   ]
  },
  {
   "cell_type": "code",
   "execution_count": 145,
   "metadata": {},
   "outputs": [
    {
     "data": {
      "text/plain": [
       "2"
      ]
     },
     "execution_count": 145,
     "metadata": {},
     "output_type": "execute_result"
    }
   ],
   "source": [
    "np.random.choice(nn[0])\n"
   ]
  },
  {
   "cell_type": "code",
   "execution_count": null,
   "metadata": {},
   "outputs": [],
   "source": []
  }
 ],
 "metadata": {
  "kernelspec": {
   "display_name": "Python 3",
   "language": "python",
   "name": "python3"
  },
  "language_info": {
   "codemirror_mode": {
    "name": "ipython",
    "version": 3
   },
   "file_extension": ".py",
   "mimetype": "text/x-python",
   "name": "python",
   "nbconvert_exporter": "python",
   "pygments_lexer": "ipython3",
   "version": "3.6.9"
  }
 },
 "nbformat": 4,
 "nbformat_minor": 2
}
