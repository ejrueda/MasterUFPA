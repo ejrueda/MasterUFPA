{
 "cells": [
  {
   "cell_type": "markdown",
   "metadata": {},
   "source": []
  },
  {
   "cell_type": "markdown",
   "metadata": {},
   "source": [
    "<center> <h1> Testing differents GAN architectures</h1>\n",
    "\n",
    "<b>Autor:</b> Edwin Rueda <br>\n",
    "<b>email:</b> ejrueda95g@gmail.com <br>\n",
    "<b>github:</b> https://github.com/ejrueda <br>\n",
    "<b>website:</b> http://edwinrueda.com/ <br>\n",
    "<b> You can cite this work with</b>:\n",
    "\n",
    "@software{edwin_rueda_2020_3843381,<br>\n",
    "  author       = {Edwin Rueda},<br>\n",
    "  title        = {ejrueda/MasterUFPA: zenodo release},<br>\n",
    "  month        = may,<br>\n",
    "  year         = 2020,<br>\n",
    "  publisher    = {Zenodo},<br>\n",
    "  version      = {zenodo},<br>\n",
    "  doi          = {10.5281/zenodo.3843381},<br>\n",
    "  url          = {https://doi.org/10.5281/zenodo.3843381}<br>\n",
    "}"
   ]
  },
  {
   "cell_type": "code",
   "execution_count": 1,
   "metadata": {},
   "outputs": [],
   "source": [
    "import numpy as np\n",
    "import pandas as pd\n",
    "from utilities import EdwinRueda_utils "
   ]
  },
  {
   "cell_type": "code",
   "execution_count": 4,
   "metadata": {},
   "outputs": [],
   "source": [
    "import tensorflow as tf\n",
    "from tensorflow.keras.models import Sequential\n",
    "from tensorflow.keras.layers import Dense, LeakyReLU, Dropout"
   ]
  },
  {
   "cell_type": "code",
   "execution_count": 9,
   "metadata": {},
   "outputs": [
    {
     "data": {
      "text/html": [
       "<div>\n",
       "<style scoped>\n",
       "    .dataframe tbody tr th:only-of-type {\n",
       "        vertical-align: middle;\n",
       "    }\n",
       "\n",
       "    .dataframe tbody tr th {\n",
       "        vertical-align: top;\n",
       "    }\n",
       "\n",
       "    .dataframe thead th {\n",
       "        text-align: right;\n",
       "    }\n",
       "</style>\n",
       "<table border=\"1\" class=\"dataframe\">\n",
       "  <thead>\n",
       "    <tr style=\"text-align: right;\">\n",
       "      <th></th>\n",
       "      <th>BB9</th>\n",
       "      <th>BB10</th>\n",
       "      <th>BB17</th>\n",
       "      <th>BB19</th>\n",
       "      <th>BB20</th>\n",
       "      <th>BB21</th>\n",
       "      <th>BB11</th>\n",
       "      <th>BB12</th>\n",
       "      <th>BB18</th>\n",
       "    </tr>\n",
       "    <tr>\n",
       "      <th>gene</th>\n",
       "      <th></th>\n",
       "      <th></th>\n",
       "      <th></th>\n",
       "      <th></th>\n",
       "      <th></th>\n",
       "      <th></th>\n",
       "      <th></th>\n",
       "      <th></th>\n",
       "      <th></th>\n",
       "    </tr>\n",
       "  </thead>\n",
       "  <tbody>\n",
       "    <tr>\n",
       "      <td>aaeA</td>\n",
       "      <td>5.542667</td>\n",
       "      <td>5.876225</td>\n",
       "      <td>5.189101</td>\n",
       "      <td>6.178741</td>\n",
       "      <td>6.258982</td>\n",
       "      <td>5.921482</td>\n",
       "      <td>6.565341</td>\n",
       "      <td>6.308676</td>\n",
       "      <td>6.256590</td>\n",
       "    </tr>\n",
       "    <tr>\n",
       "      <td>aaeB</td>\n",
       "      <td>5.627977</td>\n",
       "      <td>5.436188</td>\n",
       "      <td>5.397088</td>\n",
       "      <td>5.493631</td>\n",
       "      <td>5.603751</td>\n",
       "      <td>5.716862</td>\n",
       "      <td>5.840627</td>\n",
       "      <td>6.132819</td>\n",
       "      <td>5.896502</td>\n",
       "    </tr>\n",
       "    <tr>\n",
       "      <td>aaeR</td>\n",
       "      <td>5.645506</td>\n",
       "      <td>5.758852</td>\n",
       "      <td>5.107190</td>\n",
       "      <td>5.824890</td>\n",
       "      <td>5.487705</td>\n",
       "      <td>6.033795</td>\n",
       "      <td>5.710782</td>\n",
       "      <td>6.302440</td>\n",
       "      <td>16.270368</td>\n",
       "    </tr>\n",
       "    <tr>\n",
       "      <td>aaeX</td>\n",
       "      <td>6.081770</td>\n",
       "      <td>6.043589</td>\n",
       "      <td>6.030808</td>\n",
       "      <td>6.358792</td>\n",
       "      <td>15.682419</td>\n",
       "      <td>6.129392</td>\n",
       "      <td>6.042647</td>\n",
       "      <td>6.134309</td>\n",
       "      <td>15.797839</td>\n",
       "    </tr>\n",
       "    <tr>\n",
       "      <td>aas</td>\n",
       "      <td>6.224669</td>\n",
       "      <td>6.297153</td>\n",
       "      <td>6.297008</td>\n",
       "      <td>6.047021</td>\n",
       "      <td>6.038410</td>\n",
       "      <td>6.296795</td>\n",
       "      <td>6.295251</td>\n",
       "      <td>6.598525</td>\n",
       "      <td>6.568365</td>\n",
       "    </tr>\n",
       "  </tbody>\n",
       "</table>\n",
       "</div>"
      ],
      "text/plain": [
       "           BB9      BB10      BB17      BB19       BB20      BB21      BB11  \\\n",
       "gene                                                                          \n",
       "aaeA  5.542667  5.876225  5.189101  6.178741   6.258982  5.921482  6.565341   \n",
       "aaeB  5.627977  5.436188  5.397088  5.493631   5.603751  5.716862  5.840627   \n",
       "aaeR  5.645506  5.758852  5.107190  5.824890   5.487705  6.033795  5.710782   \n",
       "aaeX  6.081770  6.043589  6.030808  6.358792  15.682419  6.129392  6.042647   \n",
       "aas   6.224669  6.297153  6.297008  6.047021   6.038410  6.296795  6.295251   \n",
       "\n",
       "          BB12       BB18  \n",
       "gene                       \n",
       "aaeA  6.308676   6.256590  \n",
       "aaeB  6.132819   5.896502  \n",
       "aaeR  6.302440  16.270368  \n",
       "aaeX  6.134309  15.797839  \n",
       "aas   6.598525   6.568365  "
      ]
     },
     "execution_count": 9,
     "metadata": {},
     "output_type": "execute_result"
    }
   ],
   "source": [
    "data = pd.read_csv(\"../data/all_counts_9_norm_rpkm_log2_preprocessed.csv\", index_col=0)\n",
    "data.head()"
   ]
  },
  {
   "cell_type": "code",
   "execution_count": 79,
   "metadata": {},
   "outputs": [
    {
     "name": "stdout",
     "output_type": "stream",
     "text": [
      "['cysG', 'hcaT', 'idnT', 'rrsA', 'ihfB', 'ssrA', 'gyrA', 'recA', 'rpoB', 'rpoA', 'gyrB', 'rho', 'ftsZ', 'secA', 'rpoC', 'gmk', 'adk', 'rpoD', 'dnaG', 'glnA', 'recF']\n"
     ]
    }
   ],
   "source": [
    "reference_genes = open(\"../data/reference_genes.txt\").read().splitlines()\n",
    "print(\"Reference genes:\", reference_genes)\n"
   ]
  },
  {
   "cell_type": "markdown",
   "metadata": {},
   "source": [
    "#### Proposed GAN"
   ]
  },
  {
   "cell_type": "code",
   "execution_count": 62,
   "metadata": {},
   "outputs": [],
   "source": [
    "noise_size = 100\n",
    "#generator network\n",
    "G = Sequential()\n",
    "G.add(Dense(noise_size, input_shape=(noise_size,)))\n",
    "G.add(Dense(data.shape[1], activation=\"tanh\"))"
   ]
  },
  {
   "cell_type": "code",
   "execution_count": 68,
   "metadata": {
    "scrolled": false
   },
   "outputs": [
    {
     "name": "stdout",
     "output_type": "stream",
     "text": [
      "Synthetic samples:\n",
      "tf.Tensor(\n",
      "[[ 0.34720555 -0.79775709 -0.52863513 -0.75752314  0.55298923 -0.54434526\n",
      "   0.33151106  0.66808763 -0.71878254]\n",
      " [-0.45535186 -0.80779431 -0.83626951 -0.1454853   0.6785366   0.48325415\n",
      "  -0.77847388  0.3542008  -0.25984561]\n",
      " [ 0.09374843  0.48956202  0.1856134  -0.17367753 -0.85278105  0.60133192\n",
      "  -0.77491157 -0.22461589 -0.73580145]], shape=(3, 9), dtype=float64)\n"
     ]
    }
   ],
   "source": [
    "noise_vector = tf.random.normal([3,100], stddev=.5, dtype=tf.float64)\n",
    "print(\"Synthetic samples:\")\n",
    "synthetic_samples = G(noise_vector)\n",
    "print(synthetic_samples)"
   ]
  },
  {
   "cell_type": "code",
   "execution_count": 69,
   "metadata": {},
   "outputs": [],
   "source": [
    "#discriminator network\n",
    "D = Sequential()\n",
    "D.add(Dense(data.shape[1], input_shape=(data.shape[1],)))\n",
    "D.add(Dense(1, activation=\"sigmoid\"))"
   ]
  },
  {
   "cell_type": "code",
   "execution_count": 70,
   "metadata": {},
   "outputs": [
    {
     "name": "stdout",
     "output_type": "stream",
     "text": [
      "predictions of the discriminator network:\n"
     ]
    },
    {
     "data": {
      "text/plain": [
       "<tf.Tensor: shape=(3, 1), dtype=float64, numpy=\n",
       "array([[0.61147537],\n",
       "       [0.61533635],\n",
       "       [0.40878778]])>"
      ]
     },
     "execution_count": 70,
     "metadata": {},
     "output_type": "execute_result"
    }
   ],
   "source": [
    "print(\"predictions of the discriminator network:\")\n",
    "D(synthetic_samples)"
   ]
  },
  {
   "cell_type": "markdown",
   "metadata": {},
   "source": [
    "#### principal component analysis for see the synthetic and real samples"
   ]
  },
  {
   "cell_type": "code",
   "execution_count": 71,
   "metadata": {},
   "outputs": [],
   "source": [
    "from sklearn.decomposition import PCA\n",
    "\n",
    "pca = PCA(n_components=2)\n"
   ]
  },
  {
   "cell_type": "code",
   "execution_count": null,
   "metadata": {},
   "outputs": [],
   "source": [
    "\n"
   ]
  }
 ],
 "metadata": {
  "kernelspec": {
   "display_name": "Python 3",
   "language": "python",
   "name": "python3"
  },
  "language_info": {
   "codemirror_mode": {
    "name": "ipython",
    "version": 3
   },
   "file_extension": ".py",
   "mimetype": "text/x-python",
   "name": "python",
   "nbconvert_exporter": "python",
   "pygments_lexer": "ipython3",
   "version": "3.6.9"
  }
 },
 "nbformat": 4,
 "nbformat_minor": 2
}
