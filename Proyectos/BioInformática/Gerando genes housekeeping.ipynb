{
 "cells": [
  {
   "cell_type": "code",
   "execution_count": 1,
   "metadata": {},
   "outputs": [],
   "source": [
    "import numpy as np\n",
    "import pandas as pd\n",
    "from time import time\n",
    "import matplotlib.pyplot as plt\n",
    "from sklearn.decomposition import PCA\n",
    "from tensorflow.keras.models import Sequential\n",
    "from tensorflow.keras.layers import Dense, Dropout, LeakyReLU, Reshape, Flatten\n",
    "from tensorflow.keras.optimizers import Adam, RMSprop, SGD"
   ]
  },
  {
   "cell_type": "code",
   "execution_count": 2,
   "metadata": {},
   "outputs": [
    {
     "name": "stdout",
     "output_type": "stream",
     "text": [
      "Dimensionalidade dos dados:  (4051, 9)\n"
     ]
    },
    {
     "data": {
      "text/html": [
       "<div>\n",
       "<style scoped>\n",
       "    .dataframe tbody tr th:only-of-type {\n",
       "        vertical-align: middle;\n",
       "    }\n",
       "\n",
       "    .dataframe tbody tr th {\n",
       "        vertical-align: top;\n",
       "    }\n",
       "\n",
       "    .dataframe thead th {\n",
       "        text-align: right;\n",
       "    }\n",
       "</style>\n",
       "<table border=\"1\" class=\"dataframe\">\n",
       "  <thead>\n",
       "    <tr style=\"text-align: right;\">\n",
       "      <th></th>\n",
       "      <th>BB9</th>\n",
       "      <th>BB10</th>\n",
       "      <th>BB17</th>\n",
       "      <th>BB19</th>\n",
       "      <th>BB20</th>\n",
       "      <th>BB21</th>\n",
       "      <th>BB11</th>\n",
       "      <th>BB12</th>\n",
       "      <th>BB18</th>\n",
       "    </tr>\n",
       "    <tr>\n",
       "      <th>Genes</th>\n",
       "      <th></th>\n",
       "      <th></th>\n",
       "      <th></th>\n",
       "      <th></th>\n",
       "      <th></th>\n",
       "      <th></th>\n",
       "      <th></th>\n",
       "      <th></th>\n",
       "      <th></th>\n",
       "    </tr>\n",
       "  </thead>\n",
       "  <tbody>\n",
       "    <tr>\n",
       "      <td>accD</td>\n",
       "      <td>6.875411</td>\n",
       "      <td>7.047582</td>\n",
       "      <td>7.431765</td>\n",
       "      <td>7.105877</td>\n",
       "      <td>6.516094</td>\n",
       "      <td>6.676126</td>\n",
       "      <td>6.304694</td>\n",
       "      <td>6.168221</td>\n",
       "      <td>6.245553</td>\n",
       "    </tr>\n",
       "    <tr>\n",
       "      <td>aceF</td>\n",
       "      <td>7.732412</td>\n",
       "      <td>7.674997</td>\n",
       "      <td>8.397717</td>\n",
       "      <td>7.455056</td>\n",
       "      <td>7.277269</td>\n",
       "      <td>6.525536</td>\n",
       "      <td>7.455730</td>\n",
       "      <td>6.403830</td>\n",
       "      <td>7.597941</td>\n",
       "    </tr>\n",
       "    <tr>\n",
       "      <td>ackA</td>\n",
       "      <td>7.231720</td>\n",
       "      <td>7.260976</td>\n",
       "      <td>8.033280</td>\n",
       "      <td>6.921924</td>\n",
       "      <td>6.920829</td>\n",
       "      <td>6.556644</td>\n",
       "      <td>6.358150</td>\n",
       "      <td>5.888768</td>\n",
       "      <td>6.359310</td>\n",
       "    </tr>\n",
       "    <tr>\n",
       "      <td>agaV</td>\n",
       "      <td>6.048825</td>\n",
       "      <td>6.250033</td>\n",
       "      <td>5.120269</td>\n",
       "      <td>5.559767</td>\n",
       "      <td>5.915593</td>\n",
       "      <td>6.279490</td>\n",
       "      <td>6.441998</td>\n",
       "      <td>6.553099</td>\n",
       "      <td>6.105364</td>\n",
       "    </tr>\n",
       "    <tr>\n",
       "      <td>alaS</td>\n",
       "      <td>7.811728</td>\n",
       "      <td>7.853890</td>\n",
       "      <td>8.622037</td>\n",
       "      <td>7.636451</td>\n",
       "      <td>7.641365</td>\n",
       "      <td>7.125920</td>\n",
       "      <td>7.164957</td>\n",
       "      <td>6.555678</td>\n",
       "      <td>7.098590</td>\n",
       "    </tr>\n",
       "  </tbody>\n",
       "</table>\n",
       "</div>"
      ],
      "text/plain": [
       "            BB9      BB10      BB17      BB19      BB20      BB21      BB11  \\\n",
       "Genes                                                                         \n",
       "accD   6.875411  7.047582  7.431765  7.105877  6.516094  6.676126  6.304694   \n",
       "aceF   7.732412  7.674997  8.397717  7.455056  7.277269  6.525536  7.455730   \n",
       "ackA   7.231720  7.260976  8.033280  6.921924  6.920829  6.556644  6.358150   \n",
       "agaV   6.048825  6.250033  5.120269  5.559767  5.915593  6.279490  6.441998   \n",
       "alaS   7.811728  7.853890  8.622037  7.636451  7.641365  7.125920  7.164957   \n",
       "\n",
       "           BB12      BB18  \n",
       "Genes                      \n",
       "accD   6.168221  6.245553  \n",
       "aceF   6.403830  7.597941  \n",
       "ackA   5.888768  6.359310  \n",
       "agaV   6.553099  6.105364  \n",
       "alaS   6.555678  7.098590  "
      ]
     },
     "execution_count": 2,
     "metadata": {},
     "output_type": "execute_result"
    }
   ],
   "source": [
    "datos = pd.read_csv(\"./data/ClustREFGenes-master/Data/Core_genome/Data_Core_Genome_Ecoli_log2.csv\",\n",
    "                  index_col=0)\n",
    "print(\"Dimensionalidade dos dados: \", datos.shape)\n",
    "datos.head()"
   ]
  },
  {
   "cell_type": "code",
   "execution_count": 3,
   "metadata": {},
   "outputs": [
    {
     "data": {
      "image/png": "[encoded data removed]",
      "text/plain": [
       "<Figure size 864x864 with 9 Axes>"
      ]
     },
     "metadata": {
      "needs_background": "light"
     },
     "output_type": "display_data"
    }
   ],
   "source": [
    "plt.figure(figsize=(12,12))\n",
    "for i in range(9):\n",
    "    plt.subplot(3,3,(i+1))\n",
    "    plt.title(datos.columns[i], fontsize=14)\n",
    "    plt.boxplot(datos.iloc[:,i]);"
   ]
  },
  {
   "cell_type": "code",
   "execution_count": 4,
   "metadata": {},
   "outputs": [],
   "source": [
    "hkg = [\"adk\",\"cysG\",\"dnaG\",\"ftsZ\",\"gap\",\"gmk\",\"gyrA\",\"gyrB\",\"hcaT\",\"idnT\",\"recA\",\n",
    "       \"rho\",\"rpoA\",\"rpoB\",\"rpoC\",\"rpoD\",\"secA\",\"recF\",\"fusA\",\"glnA\",\"tuf\"]"
   ]
  },
  {
   "cell_type": "code",
   "execution_count": 5,
   "metadata": {},
   "outputs": [
    {
     "name": "stderr",
     "output_type": "stream",
     "text": [
      "/usr/local/lib/python3.6/dist-packages/ipykernel_launcher.py:2: FutureWarning: \n",
      "Passing list-likes to .loc or [] with any missing label will raise\n",
      "KeyError in the future, you can use .reindex() as an alternative.\n",
      "\n",
      "See the documentation here:\n",
      "https://pandas.pydata.org/pandas-docs/stable/user_guide/indexing.html#deprecate-loc-reindex-listlike\n",
      "  \n"
     ]
    },
    {
     "data": {
      "text/plain": [
       "(15, 9)"
      ]
     },
     "execution_count": 5,
     "metadata": {},
     "output_type": "execute_result"
    }
   ],
   "source": [
    "#X_train = X_train.sample(n=100)\n",
    "X_train = datos.loc[hkg].dropna()\n",
    "X_train.shape"
   ]
  },
  {
   "cell_type": "code",
   "execution_count": 6,
   "metadata": {},
   "outputs": [
    {
     "data": {
      "text/html": [
       "<div>\n",
       "<style scoped>\n",
       "    .dataframe tbody tr th:only-of-type {\n",
       "        vertical-align: middle;\n",
       "    }\n",
       "\n",
       "    .dataframe tbody tr th {\n",
       "        vertical-align: top;\n",
       "    }\n",
       "\n",
       "    .dataframe thead th {\n",
       "        text-align: right;\n",
       "    }\n",
       "</style>\n",
       "<table border=\"1\" class=\"dataframe\">\n",
       "  <thead>\n",
       "    <tr style=\"text-align: right;\">\n",
       "      <th></th>\n",
       "      <th>BB9</th>\n",
       "      <th>BB10</th>\n",
       "      <th>BB17</th>\n",
       "      <th>BB19</th>\n",
       "      <th>BB20</th>\n",
       "      <th>BB21</th>\n",
       "      <th>BB11</th>\n",
       "      <th>BB12</th>\n",
       "      <th>BB18</th>\n",
       "    </tr>\n",
       "    <tr>\n",
       "      <th>Genes</th>\n",
       "      <th></th>\n",
       "      <th></th>\n",
       "      <th></th>\n",
       "      <th></th>\n",
       "      <th></th>\n",
       "      <th></th>\n",
       "      <th></th>\n",
       "      <th></th>\n",
       "      <th></th>\n",
       "    </tr>\n",
       "  </thead>\n",
       "  <tbody>\n",
       "    <tr>\n",
       "      <td>adk</td>\n",
       "      <td>8.145545</td>\n",
       "      <td>8.270309</td>\n",
       "      <td>8.612916</td>\n",
       "      <td>8.537715</td>\n",
       "      <td>8.257855</td>\n",
       "      <td>7.953452</td>\n",
       "      <td>7.290535</td>\n",
       "      <td>6.731523</td>\n",
       "      <td>7.346381</td>\n",
       "    </tr>\n",
       "    <tr>\n",
       "      <td>cysG</td>\n",
       "      <td>5.903689</td>\n",
       "      <td>5.879485</td>\n",
       "      <td>5.873198</td>\n",
       "      <td>5.735549</td>\n",
       "      <td>6.016585</td>\n",
       "      <td>6.328388</td>\n",
       "      <td>6.315331</td>\n",
       "      <td>6.504271</td>\n",
       "      <td>6.577595</td>\n",
       "    </tr>\n",
       "    <tr>\n",
       "      <td>dnaG</td>\n",
       "      <td>8.066229</td>\n",
       "      <td>8.358067</td>\n",
       "      <td>8.882374</td>\n",
       "      <td>8.441857</td>\n",
       "      <td>8.424830</td>\n",
       "      <td>8.102207</td>\n",
       "      <td>8.016758</td>\n",
       "      <td>7.407608</td>\n",
       "      <td>7.964295</td>\n",
       "    </tr>\n",
       "    <tr>\n",
       "      <td>ftsZ</td>\n",
       "      <td>8.237984</td>\n",
       "      <td>8.319966</td>\n",
       "      <td>8.654629</td>\n",
       "      <td>8.945523</td>\n",
       "      <td>8.833118</td>\n",
       "      <td>8.151052</td>\n",
       "      <td>7.734391</td>\n",
       "      <td>6.718827</td>\n",
       "      <td>7.496534</td>\n",
       "    </tr>\n",
       "    <tr>\n",
       "      <td>gmk</td>\n",
       "      <td>8.359490</td>\n",
       "      <td>8.435954</td>\n",
       "      <td>8.898795</td>\n",
       "      <td>9.114700</td>\n",
       "      <td>8.945660</td>\n",
       "      <td>8.414647</td>\n",
       "      <td>8.225656</td>\n",
       "      <td>7.600352</td>\n",
       "      <td>8.161968</td>\n",
       "    </tr>\n",
       "    <tr>\n",
       "      <td>gyrA</td>\n",
       "      <td>9.400886</td>\n",
       "      <td>9.580701</td>\n",
       "      <td>10.195372</td>\n",
       "      <td>9.637953</td>\n",
       "      <td>9.613007</td>\n",
       "      <td>8.731333</td>\n",
       "      <td>8.028138</td>\n",
       "      <td>6.748636</td>\n",
       "      <td>7.843029</td>\n",
       "    </tr>\n",
       "    <tr>\n",
       "      <td>gyrB</td>\n",
       "      <td>8.216998</td>\n",
       "      <td>8.420482</td>\n",
       "      <td>9.022878</td>\n",
       "      <td>8.610519</td>\n",
       "      <td>8.652440</td>\n",
       "      <td>8.140707</td>\n",
       "      <td>8.218999</td>\n",
       "      <td>7.600656</td>\n",
       "      <td>8.306171</td>\n",
       "    </tr>\n",
       "    <tr>\n",
       "      <td>hcaT</td>\n",
       "      <td>5.692790</td>\n",
       "      <td>5.733842</td>\n",
       "      <td>5.686585</td>\n",
       "      <td>5.925715</td>\n",
       "      <td>6.290701</td>\n",
       "      <td>6.131960</td>\n",
       "      <td>6.113388</td>\n",
       "      <td>5.891735</td>\n",
       "      <td>5.822526</td>\n",
       "    </tr>\n",
       "    <tr>\n",
       "      <td>idnT</td>\n",
       "      <td>6.061366</td>\n",
       "      <td>6.093687</td>\n",
       "      <td>6.077115</td>\n",
       "      <td>6.325962</td>\n",
       "      <td>6.015315</td>\n",
       "      <td>6.587860</td>\n",
       "      <td>6.507478</td>\n",
       "      <td>6.716346</td>\n",
       "      <td>6.772255</td>\n",
       "    </tr>\n",
       "    <tr>\n",
       "      <td>rho</td>\n",
       "      <td>9.359310</td>\n",
       "      <td>9.616143</td>\n",
       "      <td>10.432312</td>\n",
       "      <td>10.209332</td>\n",
       "      <td>10.284049</td>\n",
       "      <td>9.326299</td>\n",
       "      <td>9.208651</td>\n",
       "      <td>7.767741</td>\n",
       "      <td>8.934534</td>\n",
       "    </tr>\n",
       "    <tr>\n",
       "      <td>rpoB</td>\n",
       "      <td>8.974988</td>\n",
       "      <td>9.108613</td>\n",
       "      <td>10.029701</td>\n",
       "      <td>9.588353</td>\n",
       "      <td>9.516021</td>\n",
       "      <td>8.577905</td>\n",
       "      <td>8.439041</td>\n",
       "      <td>6.930241</td>\n",
       "      <td>8.125186</td>\n",
       "    </tr>\n",
       "    <tr>\n",
       "      <td>rpoC</td>\n",
       "      <td>8.846663</td>\n",
       "      <td>8.923087</td>\n",
       "      <td>9.739637</td>\n",
       "      <td>9.286163</td>\n",
       "      <td>9.277025</td>\n",
       "      <td>8.427363</td>\n",
       "      <td>8.245557</td>\n",
       "      <td>6.858118</td>\n",
       "      <td>7.948788</td>\n",
       "    </tr>\n",
       "    <tr>\n",
       "      <td>rpoD</td>\n",
       "      <td>8.514122</td>\n",
       "      <td>8.757020</td>\n",
       "      <td>9.444052</td>\n",
       "      <td>9.155509</td>\n",
       "      <td>9.033954</td>\n",
       "      <td>8.405469</td>\n",
       "      <td>8.349330</td>\n",
       "      <td>7.265924</td>\n",
       "      <td>8.117830</td>\n",
       "    </tr>\n",
       "    <tr>\n",
       "      <td>secA</td>\n",
       "      <td>7.191711</td>\n",
       "      <td>7.168391</td>\n",
       "      <td>7.880000</td>\n",
       "      <td>7.662675</td>\n",
       "      <td>7.512906</td>\n",
       "      <td>6.988730</td>\n",
       "      <td>6.899164</td>\n",
       "      <td>6.387259</td>\n",
       "      <td>6.691674</td>\n",
       "    </tr>\n",
       "    <tr>\n",
       "      <td>recF</td>\n",
       "      <td>6.560868</td>\n",
       "      <td>6.579633</td>\n",
       "      <td>6.344154</td>\n",
       "      <td>6.755075</td>\n",
       "      <td>6.725141</td>\n",
       "      <td>6.553545</td>\n",
       "      <td>6.931317</td>\n",
       "      <td>6.946918</td>\n",
       "      <td>7.000856</td>\n",
       "    </tr>\n",
       "  </tbody>\n",
       "</table>\n",
       "</div>"
      ],
      "text/plain": [
       "            BB9      BB10       BB17       BB19       BB20      BB21  \\\n",
       "Genes                                                                  \n",
       "adk    8.145545  8.270309   8.612916   8.537715   8.257855  7.953452   \n",
       "cysG   5.903689  5.879485   5.873198   5.735549   6.016585  6.328388   \n",
       "dnaG   8.066229  8.358067   8.882374   8.441857   8.424830  8.102207   \n",
       "ftsZ   8.237984  8.319966   8.654629   8.945523   8.833118  8.151052   \n",
       "gmk    8.359490  8.435954   8.898795   9.114700   8.945660  8.414647   \n",
       "gyrA   9.400886  9.580701  10.195372   9.637953   9.613007  8.731333   \n",
       "gyrB   8.216998  8.420482   9.022878   8.610519   8.652440  8.140707   \n",
       "hcaT   5.692790  5.733842   5.686585   5.925715   6.290701  6.131960   \n",
       "idnT   6.061366  6.093687   6.077115   6.325962   6.015315  6.587860   \n",
       "rho    9.359310  9.616143  10.432312  10.209332  10.284049  9.326299   \n",
       "rpoB   8.974988  9.108613  10.029701   9.588353   9.516021  8.577905   \n",
       "rpoC   8.846663  8.923087   9.739637   9.286163   9.277025  8.427363   \n",
       "rpoD   8.514122  8.757020   9.444052   9.155509   9.033954  8.405469   \n",
       "secA   7.191711  7.168391   7.880000   7.662675   7.512906  6.988730   \n",
       "recF   6.560868  6.579633   6.344154   6.755075   6.725141  6.553545   \n",
       "\n",
       "           BB11      BB12      BB18  \n",
       "Genes                                \n",
       "adk    7.290535  6.731523  7.346381  \n",
       "cysG   6.315331  6.504271  6.577595  \n",
       "dnaG   8.016758  7.407608  7.964295  \n",
       "ftsZ   7.734391  6.718827  7.496534  \n",
       "gmk    8.225656  7.600352  8.161968  \n",
       "gyrA   8.028138  6.748636  7.843029  \n",
       "gyrB   8.218999  7.600656  8.306171  \n",
       "hcaT   6.113388  5.891735  5.822526  \n",
       "idnT   6.507478  6.716346  6.772255  \n",
       "rho    9.208651  7.767741  8.934534  \n",
       "rpoB   8.439041  6.930241  8.125186  \n",
       "rpoC   8.245557  6.858118  7.948788  \n",
       "rpoD   8.349330  7.265924  8.117830  \n",
       "secA   6.899164  6.387259  6.691674  \n",
       "recF   6.931317  6.946918  7.000856  "
      ]
     },
     "execution_count": 6,
     "metadata": {},
     "output_type": "execute_result"
    }
   ],
   "source": [
    "X_train"
   ]
  },
  {
   "cell_type": "code",
   "execution_count": 7,
   "metadata": {},
   "outputs": [
    {
     "data": {
      "text/html": [
       "<div>\n",
       "<style scoped>\n",
       "    .dataframe tbody tr th:only-of-type {\n",
       "        vertical-align: middle;\n",
       "    }\n",
       "\n",
       "    .dataframe tbody tr th {\n",
       "        vertical-align: top;\n",
       "    }\n",
       "\n",
       "    .dataframe thead th {\n",
       "        text-align: right;\n",
       "    }\n",
       "</style>\n",
       "<table border=\"1\" class=\"dataframe\">\n",
       "  <thead>\n",
       "    <tr style=\"text-align: right;\">\n",
       "      <th></th>\n",
       "      <th>BB9</th>\n",
       "      <th>BB10</th>\n",
       "      <th>BB17</th>\n",
       "      <th>BB19</th>\n",
       "      <th>BB20</th>\n",
       "      <th>BB21</th>\n",
       "      <th>BB11</th>\n",
       "      <th>BB12</th>\n",
       "      <th>BB18</th>\n",
       "    </tr>\n",
       "    <tr>\n",
       "      <th>Genes</th>\n",
       "      <th></th>\n",
       "      <th></th>\n",
       "      <th></th>\n",
       "      <th></th>\n",
       "      <th></th>\n",
       "      <th></th>\n",
       "      <th></th>\n",
       "      <th></th>\n",
       "      <th></th>\n",
       "    </tr>\n",
       "  </thead>\n",
       "  <tbody>\n",
       "    <tr>\n",
       "      <td>adk</td>\n",
       "      <td>0.322919</td>\n",
       "      <td>0.306682</td>\n",
       "      <td>0.233249</td>\n",
       "      <td>0.252705</td>\n",
       "      <td>0.050682</td>\n",
       "      <td>0.140450</td>\n",
       "      <td>-0.239388</td>\n",
       "      <td>-0.104706</td>\n",
       "      <td>-0.020661</td>\n",
       "    </tr>\n",
       "    <tr>\n",
       "      <td>cysG</td>\n",
       "      <td>-0.886249</td>\n",
       "      <td>-0.924971</td>\n",
       "      <td>-0.921355</td>\n",
       "      <td>-1.000000</td>\n",
       "      <td>-0.999405</td>\n",
       "      <td>-0.877015</td>\n",
       "      <td>-0.869515</td>\n",
       "      <td>-0.346979</td>\n",
       "      <td>-0.514738</td>\n",
       "    </tr>\n",
       "    <tr>\n",
       "      <td>dnaG</td>\n",
       "      <td>0.280139</td>\n",
       "      <td>0.351892</td>\n",
       "      <td>0.346807</td>\n",
       "      <td>0.209852</td>\n",
       "      <td>0.128913</td>\n",
       "      <td>0.233587</td>\n",
       "      <td>0.229860</td>\n",
       "      <td>0.616064</td>\n",
       "      <td>0.376455</td>\n",
       "    </tr>\n",
       "    <tr>\n",
       "      <td>ftsZ</td>\n",
       "      <td>0.372777</td>\n",
       "      <td>0.332264</td>\n",
       "      <td>0.250828</td>\n",
       "      <td>0.435016</td>\n",
       "      <td>0.320205</td>\n",
       "      <td>0.264169</td>\n",
       "      <td>0.047409</td>\n",
       "      <td>-0.118242</td>\n",
       "      <td>0.075838</td>\n",
       "    </tr>\n",
       "    <tr>\n",
       "      <td>gmk</td>\n",
       "      <td>0.438312</td>\n",
       "      <td>0.392016</td>\n",
       "      <td>0.353727</td>\n",
       "      <td>0.510646</td>\n",
       "      <td>0.372934</td>\n",
       "      <td>0.429208</td>\n",
       "      <td>0.364839</td>\n",
       "      <td>0.821547</td>\n",
       "      <td>0.503494</td>\n",
       "    </tr>\n",
       "    <tr>\n",
       "      <td>gyrA</td>\n",
       "      <td>1.000000</td>\n",
       "      <td>0.981742</td>\n",
       "      <td>0.900146</td>\n",
       "      <td>0.744566</td>\n",
       "      <td>0.685601</td>\n",
       "      <td>0.627487</td>\n",
       "      <td>0.237213</td>\n",
       "      <td>-0.086462</td>\n",
       "      <td>0.298520</td>\n",
       "    </tr>\n",
       "    <tr>\n",
       "      <td>gyrB</td>\n",
       "      <td>0.361458</td>\n",
       "      <td>0.384045</td>\n",
       "      <td>0.406020</td>\n",
       "      <td>0.285252</td>\n",
       "      <td>0.235554</td>\n",
       "      <td>0.257692</td>\n",
       "      <td>0.360538</td>\n",
       "      <td>0.821872</td>\n",
       "      <td>0.596169</td>\n",
       "    </tr>\n",
       "    <tr>\n",
       "      <td>hcaT</td>\n",
       "      <td>-1.000000</td>\n",
       "      <td>-1.000000</td>\n",
       "      <td>-1.000000</td>\n",
       "      <td>-0.914986</td>\n",
       "      <td>-0.870975</td>\n",
       "      <td>-1.000000</td>\n",
       "      <td>-1.000000</td>\n",
       "      <td>-1.000000</td>\n",
       "      <td>-1.000000</td>\n",
       "    </tr>\n",
       "    <tr>\n",
       "      <td>idnT</td>\n",
       "      <td>-0.801205</td>\n",
       "      <td>-0.814623</td>\n",
       "      <td>-0.835418</td>\n",
       "      <td>-0.736056</td>\n",
       "      <td>-1.000000</td>\n",
       "      <td>-0.714558</td>\n",
       "      <td>-0.745359</td>\n",
       "      <td>-0.120887</td>\n",
       "      <td>-0.389636</td>\n",
       "    </tr>\n",
       "    <tr>\n",
       "      <td>rho</td>\n",
       "      <td>0.977576</td>\n",
       "      <td>1.000000</td>\n",
       "      <td>1.000000</td>\n",
       "      <td>1.000000</td>\n",
       "      <td>1.000000</td>\n",
       "      <td>1.000000</td>\n",
       "      <td>1.000000</td>\n",
       "      <td>1.000000</td>\n",
       "      <td>1.000000</td>\n",
       "    </tr>\n",
       "    <tr>\n",
       "      <td>rpoB</td>\n",
       "      <td>0.770288</td>\n",
       "      <td>0.738542</td>\n",
       "      <td>0.830327</td>\n",
       "      <td>0.722392</td>\n",
       "      <td>0.640161</td>\n",
       "      <td>0.531425</td>\n",
       "      <td>0.502718</td>\n",
       "      <td>0.107146</td>\n",
       "      <td>0.479855</td>\n",
       "    </tr>\n",
       "    <tr>\n",
       "      <td>rpoC</td>\n",
       "      <td>0.701074</td>\n",
       "      <td>0.642966</td>\n",
       "      <td>0.708085</td>\n",
       "      <td>0.587298</td>\n",
       "      <td>0.528186</td>\n",
       "      <td>0.437169</td>\n",
       "      <td>0.377698</td>\n",
       "      <td>0.030256</td>\n",
       "      <td>0.366489</td>\n",
       "    </tr>\n",
       "    <tr>\n",
       "      <td>rpoD</td>\n",
       "      <td>0.521715</td>\n",
       "      <td>0.557416</td>\n",
       "      <td>0.583516</td>\n",
       "      <td>0.528890</td>\n",
       "      <td>0.414302</td>\n",
       "      <td>0.423461</td>\n",
       "      <td>0.444751</td>\n",
       "      <td>0.465016</td>\n",
       "      <td>0.475127</td>\n",
       "    </tr>\n",
       "    <tr>\n",
       "      <td>secA</td>\n",
       "      <td>-0.191541</td>\n",
       "      <td>-0.260980</td>\n",
       "      <td>-0.075625</td>\n",
       "      <td>-0.138480</td>\n",
       "      <td>-0.298344</td>\n",
       "      <td>-0.463570</td>\n",
       "      <td>-0.492272</td>\n",
       "      <td>-0.471725</td>\n",
       "      <td>-0.441423</td>\n",
       "    </tr>\n",
       "    <tr>\n",
       "      <td>recF</td>\n",
       "      <td>-0.531793</td>\n",
       "      <td>-0.564284</td>\n",
       "      <td>-0.722880</td>\n",
       "      <td>-0.544222</td>\n",
       "      <td>-0.667430</td>\n",
       "      <td>-0.736042</td>\n",
       "      <td>-0.471496</td>\n",
       "      <td>0.124925</td>\n",
       "      <td>-0.242720</td>\n",
       "    </tr>\n",
       "  </tbody>\n",
       "</table>\n",
       "</div>"
      ],
      "text/plain": [
       "            BB9      BB10      BB17      BB19      BB20      BB21      BB11  \\\n",
       "Genes                                                                         \n",
       "adk    0.322919  0.306682  0.233249  0.252705  0.050682  0.140450 -0.239388   \n",
       "cysG  -0.886249 -0.924971 -0.921355 -1.000000 -0.999405 -0.877015 -0.869515   \n",
       "dnaG   0.280139  0.351892  0.346807  0.209852  0.128913  0.233587  0.229860   \n",
       "ftsZ   0.372777  0.332264  0.250828  0.435016  0.320205  0.264169  0.047409   \n",
       "gmk    0.438312  0.392016  0.353727  0.510646  0.372934  0.429208  0.364839   \n",
       "gyrA   1.000000  0.981742  0.900146  0.744566  0.685601  0.627487  0.237213   \n",
       "gyrB   0.361458  0.384045  0.406020  0.285252  0.235554  0.257692  0.360538   \n",
       "hcaT  -1.000000 -1.000000 -1.000000 -0.914986 -0.870975 -1.000000 -1.000000   \n",
       "idnT  -0.801205 -0.814623 -0.835418 -0.736056 -1.000000 -0.714558 -0.745359   \n",
       "rho    0.977576  1.000000  1.000000  1.000000  1.000000  1.000000  1.000000   \n",
       "rpoB   0.770288  0.738542  0.830327  0.722392  0.640161  0.531425  0.502718   \n",
       "rpoC   0.701074  0.642966  0.708085  0.587298  0.528186  0.437169  0.377698   \n",
       "rpoD   0.521715  0.557416  0.583516  0.528890  0.414302  0.423461  0.444751   \n",
       "secA  -0.191541 -0.260980 -0.075625 -0.138480 -0.298344 -0.463570 -0.492272   \n",
       "recF  -0.531793 -0.564284 -0.722880 -0.544222 -0.667430 -0.736042 -0.471496   \n",
       "\n",
       "           BB12      BB18  \n",
       "Genes                      \n",
       "adk   -0.104706 -0.020661  \n",
       "cysG  -0.346979 -0.514738  \n",
       "dnaG   0.616064  0.376455  \n",
       "ftsZ  -0.118242  0.075838  \n",
       "gmk    0.821547  0.503494  \n",
       "gyrA  -0.086462  0.298520  \n",
       "gyrB   0.821872  0.596169  \n",
       "hcaT  -1.000000 -1.000000  \n",
       "idnT  -0.120887 -0.389636  \n",
       "rho    1.000000  1.000000  \n",
       "rpoB   0.107146  0.479855  \n",
       "rpoC   0.030256  0.366489  \n",
       "rpoD   0.465016  0.475127  \n",
       "secA  -0.471725 -0.441423  \n",
       "recF   0.124925 -0.242720  "
      ]
     },
     "execution_count": 7,
     "metadata": {},
     "output_type": "execute_result"
    }
   ],
   "source": [
    "max_val = 1\n",
    "min_val = -1\n",
    "min_train = np.min(X_train)\n",
    "max_train = np.max(X_train)\n",
    "X_train = ((X_train - min_train)/(max_train - min_train))*(max_val - min_val) + min_val\n",
    "X_train"
   ]
  },
  {
   "cell_type": "code",
   "execution_count": 15,
   "metadata": {},
   "outputs": [
    {
     "data": {
      "text/html": [
       "<div>\n",
       "<style scoped>\n",
       "    .dataframe tbody tr th:only-of-type {\n",
       "        vertical-align: middle;\n",
       "    }\n",
       "\n",
       "    .dataframe tbody tr th {\n",
       "        vertical-align: top;\n",
       "    }\n",
       "\n",
       "    .dataframe thead th {\n",
       "        text-align: right;\n",
       "    }\n",
       "</style>\n",
       "<table border=\"1\" class=\"dataframe\">\n",
       "  <thead>\n",
       "    <tr style=\"text-align: right;\">\n",
       "      <th></th>\n",
       "      <th>BB9</th>\n",
       "      <th>BB10</th>\n",
       "      <th>BB17</th>\n",
       "      <th>BB19</th>\n",
       "      <th>BB20</th>\n",
       "      <th>BB21</th>\n",
       "      <th>BB11</th>\n",
       "      <th>BB12</th>\n",
       "      <th>BB18</th>\n",
       "    </tr>\n",
       "    <tr>\n",
       "      <th>Genes</th>\n",
       "      <th></th>\n",
       "      <th></th>\n",
       "      <th></th>\n",
       "      <th></th>\n",
       "      <th></th>\n",
       "      <th></th>\n",
       "      <th></th>\n",
       "      <th></th>\n",
       "      <th></th>\n",
       "    </tr>\n",
       "  </thead>\n",
       "  <tbody>\n",
       "    <tr>\n",
       "      <td>accD</td>\n",
       "      <td>-0.362141</td>\n",
       "      <td>-0.323216</td>\n",
       "      <td>-0.264526</td>\n",
       "      <td>-0.387396</td>\n",
       "      <td>-0.765374</td>\n",
       "      <td>-0.659294</td>\n",
       "      <td>-0.876388</td>\n",
       "      <td>-0.705240</td>\n",
       "      <td>-0.728132</td>\n",
       "    </tr>\n",
       "    <tr>\n",
       "      <td>aceF</td>\n",
       "      <td>0.100091</td>\n",
       "      <td>0.000002</td>\n",
       "      <td>0.142557</td>\n",
       "      <td>-0.231296</td>\n",
       "      <td>-0.408746</td>\n",
       "      <td>-0.753579</td>\n",
       "      <td>-0.132648</td>\n",
       "      <td>-0.454058</td>\n",
       "      <td>0.141009</td>\n",
       "    </tr>\n",
       "    <tr>\n",
       "      <td>ackA</td>\n",
       "      <td>-0.169962</td>\n",
       "      <td>-0.213284</td>\n",
       "      <td>-0.011028</td>\n",
       "      <td>-0.469632</td>\n",
       "      <td>-0.575746</td>\n",
       "      <td>-0.734102</td>\n",
       "      <td>-0.841847</td>\n",
       "      <td>-1.003163</td>\n",
       "      <td>-0.655024</td>\n",
       "    </tr>\n",
       "    <tr>\n",
       "      <td>agaV</td>\n",
       "      <td>-0.807969</td>\n",
       "      <td>-0.734080</td>\n",
       "      <td>-1.238664</td>\n",
       "      <td>-1.078583</td>\n",
       "      <td>-1.046722</td>\n",
       "      <td>-0.907630</td>\n",
       "      <td>-0.787669</td>\n",
       "      <td>-0.294923</td>\n",
       "      <td>-0.818228</td>\n",
       "    </tr>\n",
       "    <tr>\n",
       "      <td>alaS</td>\n",
       "      <td>0.142871</td>\n",
       "      <td>0.092161</td>\n",
       "      <td>0.237093</td>\n",
       "      <td>-0.150204</td>\n",
       "      <td>-0.238158</td>\n",
       "      <td>-0.377674</td>\n",
       "      <td>-0.320530</td>\n",
       "      <td>-0.292174</td>\n",
       "      <td>-0.179910</td>\n",
       "    </tr>\n",
       "    <tr>\n",
       "      <td>...</td>\n",
       "      <td>...</td>\n",
       "      <td>...</td>\n",
       "      <td>...</td>\n",
       "      <td>...</td>\n",
       "      <td>...</td>\n",
       "      <td>...</td>\n",
       "      <td>...</td>\n",
       "      <td>...</td>\n",
       "      <td>...</td>\n",
       "    </tr>\n",
       "    <tr>\n",
       "      <td>znuC</td>\n",
       "      <td>-0.835971</td>\n",
       "      <td>-0.886207</td>\n",
       "      <td>-0.936596</td>\n",
       "      <td>-0.847323</td>\n",
       "      <td>-0.945745</td>\n",
       "      <td>-1.017741</td>\n",
       "      <td>-1.276775</td>\n",
       "      <td>-0.990625</td>\n",
       "      <td>-1.095593</td>\n",
       "    </tr>\n",
       "    <tr>\n",
       "      <td>zraR</td>\n",
       "      <td>-1.271920</td>\n",
       "      <td>-1.549162</td>\n",
       "      <td>-1.445672</td>\n",
       "      <td>-1.427579</td>\n",
       "      <td>-1.421198</td>\n",
       "      <td>-1.433935</td>\n",
       "      <td>-1.518724</td>\n",
       "      <td>-1.272714</td>\n",
       "      <td>-1.325739</td>\n",
       "    </tr>\n",
       "    <tr>\n",
       "      <td>zraS</td>\n",
       "      <td>-1.116076</td>\n",
       "      <td>-1.404668</td>\n",
       "      <td>-1.235299</td>\n",
       "      <td>-1.144535</td>\n",
       "      <td>-1.425597</td>\n",
       "      <td>-1.399271</td>\n",
       "      <td>-1.082693</td>\n",
       "      <td>-1.138307</td>\n",
       "      <td>-1.212926</td>\n",
       "    </tr>\n",
       "    <tr>\n",
       "      <td>zupT</td>\n",
       "      <td>0.022869</td>\n",
       "      <td>0.010267</td>\n",
       "      <td>-0.019020</td>\n",
       "      <td>0.001644</td>\n",
       "      <td>-0.082421</td>\n",
       "      <td>-0.096041</td>\n",
       "      <td>-0.076727</td>\n",
       "      <td>0.206568</td>\n",
       "      <td>0.106138</td>\n",
       "    </tr>\n",
       "    <tr>\n",
       "      <td>zur</td>\n",
       "      <td>-0.349291</td>\n",
       "      <td>-0.435591</td>\n",
       "      <td>-0.545632</td>\n",
       "      <td>-0.327215</td>\n",
       "      <td>-0.390022</td>\n",
       "      <td>-0.624116</td>\n",
       "      <td>-0.613525</td>\n",
       "      <td>-0.370918</td>\n",
       "      <td>-0.540248</td>\n",
       "    </tr>\n",
       "  </tbody>\n",
       "</table>\n",
       "<p>4051 rows × 9 columns</p>\n",
       "</div>"
      ],
      "text/plain": [
       "            BB9      BB10      BB17      BB19      BB20      BB21      BB11  \\\n",
       "Genes                                                                         \n",
       "accD  -0.362141 -0.323216 -0.264526 -0.387396 -0.765374 -0.659294 -0.876388   \n",
       "aceF   0.100091  0.000002  0.142557 -0.231296 -0.408746 -0.753579 -0.132648   \n",
       "ackA  -0.169962 -0.213284 -0.011028 -0.469632 -0.575746 -0.734102 -0.841847   \n",
       "agaV  -0.807969 -0.734080 -1.238664 -1.078583 -1.046722 -0.907630 -0.787669   \n",
       "alaS   0.142871  0.092161  0.237093 -0.150204 -0.238158 -0.377674 -0.320530   \n",
       "...         ...       ...       ...       ...       ...       ...       ...   \n",
       "znuC  -0.835971 -0.886207 -0.936596 -0.847323 -0.945745 -1.017741 -1.276775   \n",
       "zraR  -1.271920 -1.549162 -1.445672 -1.427579 -1.421198 -1.433935 -1.518724   \n",
       "zraS  -1.116076 -1.404668 -1.235299 -1.144535 -1.425597 -1.399271 -1.082693   \n",
       "zupT   0.022869  0.010267 -0.019020  0.001644 -0.082421 -0.096041 -0.076727   \n",
       "zur   -0.349291 -0.435591 -0.545632 -0.327215 -0.390022 -0.624116 -0.613525   \n",
       "\n",
       "           BB12      BB18  \n",
       "Genes                      \n",
       "accD  -0.705240 -0.728132  \n",
       "aceF  -0.454058  0.141009  \n",
       "ackA  -1.003163 -0.655024  \n",
       "agaV  -0.294923 -0.818228  \n",
       "alaS  -0.292174 -0.179910  \n",
       "...         ...       ...  \n",
       "znuC  -0.990625 -1.095593  \n",
       "zraR  -1.272714 -1.325739  \n",
       "zraS  -1.138307 -1.212926  \n",
       "zupT   0.206568  0.106138  \n",
       "zur   -0.370918 -0.540248  \n",
       "\n",
       "[4051 rows x 9 columns]"
      ]
     },
     "execution_count": 15,
     "metadata": {},
     "output_type": "execute_result"
    }
   ],
   "source": [
    "datos = ((datos - min_train)/(max_train - min_train))*(max_val - min_val) + min_val\n",
    "datos"
   ]
  },
  {
   "cell_type": "code",
   "execution_count": 16,
   "metadata": {},
   "outputs": [
    {
     "data": {
      "image/png": "[encoded data removed]",
      "text/plain": [
       "<Figure size 432x288 with 1 Axes>"
      ]
     },
     "metadata": {
      "needs_background": "light"
     },
     "output_type": "display_data"
    }
   ],
   "source": [
    "pca_real = PCA(n_components=2)\n",
    "X_train_pca = pca_real.fit_transform(X_train)\n",
    "fig = plt.figure()\n",
    "ax = fig.add_subplot()\n",
    "ax.spines['top'].set_visible(False)\n",
    "ax.spines['right'].set_visible(False)\n",
    "plt.title(\"PCA = 2\", fontsize=14)\n",
    "plt.xlabel(\"componente principal um\", fontsize=13)\n",
    "plt.ylabel(\"componente principal dois\", fontsize=13)\n",
    "plt.scatter(X_train_pca[:,0], X_train_pca[:,1], color=\"green\");"
   ]
  },
  {
   "cell_type": "code",
   "execution_count": 17,
   "metadata": {},
   "outputs": [
    {
     "data": {
      "image/png": "[encoded data removed]",
      "text/plain": [
       "<Figure size 432x288 with 1 Axes>"
      ]
     },
     "metadata": {
      "needs_background": "light"
     },
     "output_type": "display_data"
    }
   ],
   "source": [
    "pca_real = PCA(n_components=2)\n",
    "X_train_pca = pca_real.fit_transform(X_train)\n",
    "datos_pca = pca_real.transform(datos)\n",
    "fig = plt.figure()\n",
    "ax = fig.add_subplot()\n",
    "ax.spines['top'].set_visible(False)\n",
    "ax.spines['right'].set_visible(False)\n",
    "plt.title(\"PCA = 2\", fontsize=14)\n",
    "plt.xlabel(\"componente principal um\", fontsize=13)\n",
    "plt.ylabel(\"componente principal dois\", fontsize=13)\n",
    "plt.scatter(datos_pca[:,0], datos_pca[:,1], alpha=.2, color=\"red\", label=\"no hkg\")\n",
    "plt.scatter(X_train_pca[:,0], X_train_pca[:,1], color=\"green\", label=\"hkg\")\n",
    "plt.legend();"
   ]
  },
  {
   "cell_type": "code",
   "execution_count": null,
   "metadata": {},
   "outputs": [],
   "source": []
  },
  {
   "cell_type": "code",
   "execution_count": 332,
   "metadata": {},
   "outputs": [],
   "source": [
    "class Generator():\n",
    "    def __init__(self, noise_input, out_dim, optimizerG):\n",
    "        self.noise_input = noise_input\n",
    "        self.out_dim = out_dim\n",
    "        self.optimizerG = optimizerG\n",
    "        \n",
    "    def generator(self):\n",
    "        \"\"\"\n",
    "        noise_input: vector con los datos de la distribuición inicial\n",
    "        out_dim: dimension de la salida esperada, por ejemplo si es una imagen\n",
    "                 en escala de gris, sería out_dim: (32,32,1)\n",
    "        Retorna el modelo Generador\n",
    "        \"\"\"\n",
    "        model = Sequential()\n",
    "        model.add(Dense(250, input_shape=(self.noise_input,)))\n",
    "        model.add(Dense(250))\n",
    "        model.add(Dense(250))\n",
    "        model.add(Dense(np.prod(self.out_dim), activation=\"tanh\"))\n",
    "        model.add(Reshape(self.out_dim))\n",
    "        return model\n",
    "    \n",
    "    def compileG(self):\n",
    "        Gr = self.generator()\n",
    "        Gr.compile(loss=\"binary_crossentropy\", optimizer= self.optimizerG)\n",
    "        return Gr"
   ]
  },
  {
   "cell_type": "code",
   "execution_count": 333,
   "metadata": {},
   "outputs": [
    {
     "name": "stdout",
     "output_type": "stream",
     "text": [
      "Dimension del ruido de entrada:  100\n"
     ]
    }
   ],
   "source": [
    "noise_input = 100\n",
    "optimizerG = Adam(lr=0.0001, beta_1=0.5)\n",
    "obj_G = Generator(noise_input, (9,), optimizerG)\n",
    "print(\"Dimension del ruido de entrada: \",noise_input)\n",
    "G = obj_G.compileG()"
   ]
  },
  {
   "cell_type": "code",
   "execution_count": 334,
   "metadata": {},
   "outputs": [
    {
     "name": "stdout",
     "output_type": "stream",
     "text": [
      "Model: \"sequential_154\"\n",
      "_________________________________________________________________\n",
      "Layer (type)                 Output Shape              Param #   \n",
      "=================================================================\n",
      "dense_309 (Dense)            (None, 250)               25250     \n",
      "_________________________________________________________________\n",
      "dense_310 (Dense)            (None, 250)               62750     \n",
      "_________________________________________________________________\n",
      "dense_311 (Dense)            (None, 250)               62750     \n",
      "_________________________________________________________________\n",
      "dense_312 (Dense)            (None, 9)                 2259      \n",
      "_________________________________________________________________\n",
      "reshape_52 (Reshape)         (None, 9)                 0         \n",
      "=================================================================\n",
      "Total params: 153,009\n",
      "Trainable params: 153,009\n",
      "Non-trainable params: 0\n",
      "_________________________________________________________________\n"
     ]
    }
   ],
   "source": [
    "G.summary()"
   ]
  },
  {
   "cell_type": "code",
   "execution_count": 335,
   "metadata": {},
   "outputs": [
    {
     "name": "stdout",
     "output_type": "stream",
     "text": [
      "Dimension de los datos de entrada: (15, 100)\n",
      "Dimension de los ejemplos generados: (15, 9)\n"
     ]
    }
   ],
   "source": [
    "noise = np.random.normal(loc=0, scale=1, size=(X_train.shape[0],noise_input))\n",
    "print(\"Dimension de los datos de entrada:\", noise.shape)\n",
    "data_fake = G.predict(noise)\n",
    "print(\"Dimension de los ejemplos generados:\", data_fake.shape)"
   ]
  },
  {
   "cell_type": "code",
   "execution_count": 336,
   "metadata": {},
   "outputs": [
    {
     "name": "stdout",
     "output_type": "stream",
     "text": [
      "Distribuición original de cada caracteristica vs red Generadora sin entrenar\n"
     ]
    },
    {
     "data": {
      "image/png": "[encoded data removed]",
      "text/plain": [
       "<Figure size 1080x648 with 9 Axes>"
      ]
     },
     "metadata": {
      "needs_background": "light"
     },
     "output_type": "display_data"
    }
   ],
   "source": [
    "plt.figure(figsize=(15,9))\n",
    "print(\"Distribuición original de cada caracteristica vs red Generadora sin entrenar\")\n",
    "for col in range(X_train.shape[1]):\n",
    "    aux_real = X_train.iloc[:,col]\n",
    "    aux_fake = data_fake[:,col]\n",
    "    plt.subplot(3,3,col+1)\n",
    "    plt.hist(aux_real, bins=10, label=\"real\",)\n",
    "    plt.hist(aux_fake, bins=10, label=\"fake\", alpha=0.9)\n",
    "    plt.legend()"
   ]
  },
  {
   "cell_type": "code",
   "execution_count": 337,
   "metadata": {},
   "outputs": [
    {
     "data": {
      "image/png": "[encoded data removed]",
      "text/plain": [
       "<Figure size 432x288 with 1 Axes>"
      ]
     },
     "metadata": {
      "needs_background": "light"
     },
     "output_type": "display_data"
    }
   ],
   "source": [
    "noise = np.random.normal(loc=0, scale=1, size=(800,noise_input))\n",
    "fig1 = plt.figure()\n",
    "ax1 = fig1.add_subplot()\n",
    "ax1.spines[\"top\"].set_visible(False)\n",
    "ax1.spines[\"right\"].set_visible(False)\n",
    "plt.title(\"Dados gerados sem treinamento\", fontsize=14)\n",
    "plt.xlabel(\"componente principal um\", fontsize=13)\n",
    "plt.ylabel(\"componente principal dois\", fontsize=13)\n",
    "x_noise = G.predict(noise)\n",
    "X_fake_pca = pca_real.transform(x_noise)\n",
    "plt.scatter(X_fake_pca[:,0], X_fake_pca[:,1], color=\"red\", label=\"fake\", alpha=.3)\n",
    "plt.scatter(X_train_pca[:,0], X_train_pca[:,1], color=\"green\", label=\"real\", alpha=1)\n",
    "plt.legend();"
   ]
  },
  {
   "cell_type": "code",
   "execution_count": 338,
   "metadata": {},
   "outputs": [],
   "source": [
    "class Discriminator():\n",
    "    \n",
    "    def __init__(self, input_dim, optimizerD):\n",
    "        self.input_dim = input_dim\n",
    "        self.optimizerD = optimizerD\n",
    "    \n",
    "    def discriminator(self):\n",
    "        \"\"\"\n",
    "        input_dim: dimension de los datos de entrada,\n",
    "                   por ejemplo si es una imagen en escala de gris,\n",
    "                   sería input_dim: (32,32,1)\n",
    "        \"\"\"\n",
    "        model = Sequential()\n",
    "        model.add(Dense(32, input_shape=self.input_dim))\n",
    "        model.add(LeakyReLU(alpha=0.2)) #función rectificadora\n",
    "        model.add(Dropout(.1))\n",
    "        model.add(Flatten())\n",
    "        #activación sigmoid ya que se precisa establecer si es 0 ó 1.\n",
    "        model.add(Dense(1, activation='sigmoid'))\n",
    "        return model\n",
    "    \n",
    "    def compileD(self):\n",
    "        Dr = self.discriminator()\n",
    "        Dr.compile(loss=\"binary_crossentropy\", optimizer=optimizerD, metrics=[\"accuracy\"])\n",
    "        return Dr"
   ]
  },
  {
   "cell_type": "code",
   "execution_count": 339,
   "metadata": {},
   "outputs": [],
   "source": [
    "optimizerD = Adam(lr=0.0001, beta_1=0.5)\n",
    "objD = Discriminator((X_train.shape[1],), optimizerD)\n",
    "D = objD.compileD()"
   ]
  },
  {
   "cell_type": "code",
   "execution_count": 340,
   "metadata": {},
   "outputs": [],
   "source": [
    "def Gan(generator, discriminator):\n",
    "    \"\"\"\n",
    "    recibe como parámetros de entrada las redes\n",
    "    generador y discriminador\n",
    "    \"\"\"\n",
    "    model = Sequential()\n",
    "    model.add(generator)\n",
    "    discriminator.trainable = False #no se actualizan los pesos\n",
    "    model.add(discriminator)\n",
    "    return model"
   ]
  },
  {
   "cell_type": "code",
   "execution_count": 341,
   "metadata": {},
   "outputs": [],
   "source": [
    "def get_batches(X_train, batch_size):\n",
    "    \"\"\"\n",
    "    X_train: dataset para o treino\n",
    "    epochs: quantidade de epocas para o treino do gradiente\n",
    "    batch: tamanho to batch pra o treino de cada epochs\n",
    "    \"\"\"\n",
    "    batches = []\n",
    "    num_bat = int(np.ceil(X_train.shape[0]/batch_size))\n",
    "    lim_i = 0\n",
    "    lim_s = batch_size\n",
    "    for i in range(num_bat):\n",
    "        if lim_s > X_train.shape[0]:\n",
    "            lim_s = X_train.shape[0]\n",
    "        batches.append(X_train[lim_i:lim_s])\n",
    "        lim_i += batch_size\n",
    "        lim_s += batch_size\n",
    "    return batches"
   ]
  },
  {
   "cell_type": "code",
   "execution_count": 342,
   "metadata": {},
   "outputs": [],
   "source": [
    "#treinamento da GAN\n",
    "def train(X_train, epochs, batch_size, G, D, gan, noise_input):\n",
    "    g_loss = []\n",
    "    d_loss = []\n",
    "    for epoch in range(epochs):\n",
    "        batches = get_batches(X_train, batch_size)\n",
    "        count_b = 0\n",
    "        t_i = time()\n",
    "        d_bacth_loss = []\n",
    "        g_bacth_loss = []\n",
    "        for batch in batches:\n",
    "            gen_noise = np.random.normal(0, 1, (np.int64(batch.shape[0]), noise_input))\n",
    "            #gerando as imagens fake\n",
    "            syntetic_data = G.predict(gen_noise)\n",
    "            #criação do array de treinamento\n",
    "            x_combined_batch = np.concatenate((batch, syntetic_data))\n",
    "            y_combined_batch = np.concatenate((np.ones((batch.shape[0], 1)),\n",
    "                                               np.zeros((batch.shape[0], 1))))\n",
    "            #misturar os dados\n",
    "            #x_combined_batch, y_combined_batch = shuffle(x_combined_batch, y_combined_batch)\n",
    "            #treino do discriminador\n",
    "            d_bacth_loss.append(D.train_on_batch(x_combined_batch, y_combined_batch)[0])\n",
    "            # train generator\n",
    "            noise = np.random.normal(0, 1, (batch.shape[0], noise_input))\n",
    "            y_mislabled = np.ones((batch.shape[0], 1))\n",
    "            g_bacth_loss.append(gan.train_on_batch(noise, y_mislabled))\n",
    "        t_f = time()\n",
    "        t = t_f - t_i\n",
    "        t_i = time()\n",
    "        #d_loss.append(np.mean(np.array(d_bacth_loss)))\n",
    "        #g_loss.append(np.mean(np.array(g_bacth_loss)))\n",
    "        d_loss.append(d_bacth_loss[-1])\n",
    "        g_loss.append(g_bacth_loss[-1])\n",
    "        print ('epoch:[%d/%d] [Discriminator::d_loss: %f],[Generator::loss: %f], %f[sec]'\n",
    "                   % (epoch+1, epochs, d_loss[-1], g_loss[-1], t))\n",
    "    return g_loss, d_loss\n"
   ]
  },
  {
   "cell_type": "code",
   "execution_count": 343,
   "metadata": {},
   "outputs": [
    {
     "name": "stdout",
     "output_type": "stream",
     "text": [
      "Dimension del ruido de entrada:  7\n",
      "Model: \"sequential_158\"\n",
      "_________________________________________________________________\n",
      "Layer (type)                 Output Shape              Param #   \n",
      "=================================================================\n",
      "sequential_156 (Sequential)  (None, 9)                 129759    \n",
      "_________________________________________________________________\n",
      "sequential_157 (Sequential)  (None, 1)                 353       \n",
      "=================================================================\n",
      "Total params: 130,112\n",
      "Trainable params: 129,759\n",
      "Non-trainable params: 353\n",
      "_________________________________________________________________\n"
     ]
    }
   ],
   "source": [
    "noise_input = 7\n",
    "#Gerador\n",
    "#optimizerG = Adam(lr=0.0001, beta_1=0.4)\n",
    "optimizerG = SGD(lr=0.0001, momentum=0.9, decay=0.0001/1200)\n",
    "obj_G = Generator(noise_input, (X_train.shape[1],), optimizerG)\n",
    "print(\"Dimension del ruido de entrada: \",noise_input)\n",
    "G = obj_G.compileG()\n",
    "# Discriminador\n",
    "#optimizerD = Adam(lr=0.002, beta_1=0.9)\n",
    "optimizerD = SGD(lr=0.01, momentum=0.9, decay=0.01/1200)\n",
    "objD = Discriminator((X_train.shape[1],), optimizerD)\n",
    "D = objD.compileD()\n",
    "\n",
    "gan = Gan(G,D)\n",
    "gan.compile(loss='binary_crossentropy', optimizer=optimizerG)\n",
    "gan.summary()"
   ]
  },
  {
   "cell_type": "code",
   "execution_count": 344,
   "metadata": {
    "scrolled": true
   },
   "outputs": [
    {
     "name": "stdout",
     "output_type": "stream",
     "text": [
      "WARNING:tensorflow:Discrepancy between trainable weights and collected trainable weights, did you set `model.trainable` without calling `model.compile` after ?\n",
      "epoch:[1/1200] [Discriminator::d_loss: 0.719485],[Generator::loss: 0.703874], 13.399945[sec]\n",
      "epoch:[2/1200] [Discriminator::d_loss: 0.712093],[Generator::loss: 0.739532], 0.013452[sec]\n",
      "epoch:[3/1200] [Discriminator::d_loss: 0.730532],[Generator::loss: 0.781319], 0.013196[sec]\n",
      "epoch:[4/1200] [Discriminator::d_loss: 0.729828],[Generator::loss: 0.708565], 0.012953[sec]\n",
      "epoch:[5/1200] [Discriminator::d_loss: 0.704559],[Generator::loss: 0.690340], 0.012989[sec]\n",
      "epoch:[6/1200] [Discriminator::d_loss: 0.706690],[Generator::loss: 0.737163], 0.012984[sec]\n",
      "epoch:[7/1200] [Discriminator::d_loss: 0.706495],[Generator::loss: 0.695421], 0.013045[sec]\n",
      "epoch:[8/1200] [Discriminator::d_loss: 0.700399],[Generator::loss: 0.719962], 0.013278[sec]\n",
      "epoch:[9/1200] [Discriminator::d_loss: 0.707715],[Generator::loss: 0.764882], 0.013908[sec]\n",
      "epoch:[10/1200] [Discriminator::d_loss: 0.664900],[Generator::loss: 0.724423], 0.012923[sec]\n",
      "epoch:[11/1200] [Discriminator::d_loss: 0.691080],[Generator::loss: 0.696245], 0.013093[sec]\n",
      "epoch:[12/1200] [Discriminator::d_loss: 0.690404],[Generator::loss: 0.737925], 0.014047[sec]\n",
      "epoch:[13/1200] [Discriminator::d_loss: 0.695946],[Generator::loss: 0.713851], 0.015228[sec]\n",
      "epoch:[14/1200] [Discriminator::d_loss: 0.669241],[Generator::loss: 0.716258], 0.013079[sec]\n",
      "epoch:[15/1200] [Discriminator::d_loss: 0.688718],[Generator::loss: 0.741313], 0.013156[sec]\n",
      "epoch:[16/1200] [Discriminator::d_loss: 0.656928],[Generator::loss: 0.737911], 0.014517[sec]\n",
      "epoch:[17/1200] [Discriminator::d_loss: 0.685929],[Generator::loss: 0.737971], 0.021348[sec]\n",
      "epoch:[18/1200] [Discriminator::d_loss: 0.671577],[Generator::loss: 0.709798], 0.018121[sec]\n",
      "epoch:[19/1200] [Discriminator::d_loss: 0.659275],[Generator::loss: 0.708874], 0.014010[sec]\n",
      "epoch:[20/1200] [Discriminator::d_loss: 0.657746],[Generator::loss: 0.731260], 0.013885[sec]\n",
      "epoch:[21/1200] [Discriminator::d_loss: 0.658924],[Generator::loss: 0.725345], 0.013124[sec]\n",
      "epoch:[22/1200] [Discriminator::d_loss: 0.641777],[Generator::loss: 0.717837], 0.013612[sec]\n",
      "epoch:[23/1200] [Discriminator::d_loss: 0.660084],[Generator::loss: 0.728511], 0.013051[sec]\n",
      "epoch:[24/1200] [Discriminator::d_loss: 0.666307],[Generator::loss: 0.696743], 0.012998[sec]\n",
      "epoch:[25/1200] [Discriminator::d_loss: 0.664068],[Generator::loss: 0.666679], 0.013092[sec]\n",
      "epoch:[26/1200] [Discriminator::d_loss: 0.643272],[Generator::loss: 0.676014], 0.012915[sec]\n",
      "epoch:[27/1200] [Discriminator::d_loss: 0.635326],[Generator::loss: 0.695718], 0.013144[sec]\n",
      "epoch:[28/1200] [Discriminator::d_loss: 0.637838],[Generator::loss: 0.691465], 0.012824[sec]\n",
      "epoch:[29/1200] [Discriminator::d_loss: 0.628189],[Generator::loss: 0.704493], 0.012880[sec]\n",
      "epoch:[30/1200] [Discriminator::d_loss: 0.614260],[Generator::loss: 0.693656], 0.015547[sec]\n",
      "epoch:[31/1200] [Discriminator::d_loss: 0.634102],[Generator::loss: 0.673145], 0.017268[sec]\n",
      "epoch:[32/1200] [Discriminator::d_loss: 0.628777],[Generator::loss: 0.709113], 0.019560[sec]\n",
      "epoch:[33/1200] [Discriminator::d_loss: 0.624322],[Generator::loss: 0.732194], 0.020097[sec]\n",
      "epoch:[34/1200] [Discriminator::d_loss: 0.606197],[Generator::loss: 0.716152], 0.013912[sec]\n",
      "epoch:[35/1200] [Discriminator::d_loss: 0.606189],[Generator::loss: 0.741360], 0.014968[sec]\n",
      "epoch:[36/1200] [Discriminator::d_loss: 0.604059],[Generator::loss: 0.716639], 0.013131[sec]\n",
      "epoch:[37/1200] [Discriminator::d_loss: 0.619142],[Generator::loss: 0.682923], 0.013504[sec]\n",
      "epoch:[38/1200] [Discriminator::d_loss: 0.589095],[Generator::loss: 0.718334], 0.013355[sec]\n",
      "epoch:[39/1200] [Discriminator::d_loss: 0.575043],[Generator::loss: 0.708150], 0.012916[sec]\n",
      "epoch:[40/1200] [Discriminator::d_loss: 0.599640],[Generator::loss: 0.717192], 0.012923[sec]\n",
      "epoch:[41/1200] [Discriminator::d_loss: 0.590720],[Generator::loss: 0.704722], 0.013132[sec]\n",
      "epoch:[42/1200] [Discriminator::d_loss: 0.575763],[Generator::loss: 0.744898], 0.013314[sec]\n",
      "epoch:[43/1200] [Discriminator::d_loss: 0.582105],[Generator::loss: 0.751868], 0.013719[sec]\n",
      "epoch:[44/1200] [Discriminator::d_loss: 0.594109],[Generator::loss: 0.741175], 0.013462[sec]\n",
      "epoch:[45/1200] [Discriminator::d_loss: 0.576669],[Generator::loss: 0.706180], 0.017819[sec]\n",
      "epoch:[46/1200] [Discriminator::d_loss: 0.604087],[Generator::loss: 0.727405], 0.015259[sec]\n",
      "epoch:[47/1200] [Discriminator::d_loss: 0.570687],[Generator::loss: 0.741212], 0.013359[sec]\n",
      "epoch:[48/1200] [Discriminator::d_loss: 0.577994],[Generator::loss: 0.739787], 0.013494[sec]\n",
      "epoch:[49/1200] [Discriminator::d_loss: 0.575605],[Generator::loss: 0.772395], 0.013293[sec]\n",
      "epoch:[50/1200] [Discriminator::d_loss: 0.549570],[Generator::loss: 0.772904], 0.017234[sec]\n",
      "epoch:[51/1200] [Discriminator::d_loss: 0.563465],[Generator::loss: 0.727700], 0.013066[sec]\n",
      "epoch:[52/1200] [Discriminator::d_loss: 0.556779],[Generator::loss: 0.770655], 0.013021[sec]\n",
      "epoch:[53/1200] [Discriminator::d_loss: 0.559713],[Generator::loss: 0.815520], 0.012987[sec]\n",
      "epoch:[54/1200] [Discriminator::d_loss: 0.558170],[Generator::loss: 0.751541], 0.012960[sec]\n",
      "epoch:[55/1200] [Discriminator::d_loss: 0.535048],[Generator::loss: 0.767852], 0.013063[sec]\n",
      "epoch:[56/1200] [Discriminator::d_loss: 0.549792],[Generator::loss: 0.811409], 0.013072[sec]\n",
      "epoch:[57/1200] [Discriminator::d_loss: 0.530754],[Generator::loss: 0.762784], 0.014005[sec]\n",
      "epoch:[58/1200] [Discriminator::d_loss: 0.542372],[Generator::loss: 0.744547], 0.012798[sec]\n",
      "epoch:[59/1200] [Discriminator::d_loss: 0.567494],[Generator::loss: 0.778999], 0.018624[sec]\n",
      "epoch:[60/1200] [Discriminator::d_loss: 0.557739],[Generator::loss: 0.788768], 0.015650[sec]\n",
      "epoch:[61/1200] [Discriminator::d_loss: 0.536075],[Generator::loss: 0.747019], 0.013893[sec]\n",
      "epoch:[62/1200] [Discriminator::d_loss: 0.518853],[Generator::loss: 0.746104], 0.012996[sec]\n",
      "epoch:[63/1200] [Discriminator::d_loss: 0.540507],[Generator::loss: 0.786618], 0.013679[sec]\n",
      "epoch:[64/1200] [Discriminator::d_loss: 0.522304],[Generator::loss: 0.807319], 0.013506[sec]\n",
      "epoch:[65/1200] [Discriminator::d_loss: 0.542737],[Generator::loss: 0.800546], 0.013534[sec]\n",
      "epoch:[66/1200] [Discriminator::d_loss: 0.530592],[Generator::loss: 0.775798], 0.013094[sec]\n",
      "epoch:[67/1200] [Discriminator::d_loss: 0.508897],[Generator::loss: 0.806519], 0.013143[sec]\n",
      "epoch:[68/1200] [Discriminator::d_loss: 0.544654],[Generator::loss: 0.803847], 0.012845[sec]\n",
      "epoch:[69/1200] [Discriminator::d_loss: 0.501811],[Generator::loss: 0.813380], 0.013053[sec]\n",
      "epoch:[70/1200] [Discriminator::d_loss: 0.516769],[Generator::loss: 0.843675], 0.013065[sec]\n",
      "epoch:[71/1200] [Discriminator::d_loss: 0.505396],[Generator::loss: 0.804141], 0.014057[sec]\n",
      "epoch:[72/1200] [Discriminator::d_loss: 0.507846],[Generator::loss: 0.829200], 0.013099[sec]\n",
      "epoch:[73/1200] [Discriminator::d_loss: 0.509654],[Generator::loss: 0.845755], 0.013094[sec]\n",
      "epoch:[74/1200] [Discriminator::d_loss: 0.471775],[Generator::loss: 0.818695], 0.015275[sec]\n",
      "epoch:[75/1200] [Discriminator::d_loss: 0.481810],[Generator::loss: 0.855601], 0.018734[sec]\n",
      "epoch:[76/1200] [Discriminator::d_loss: 0.492243],[Generator::loss: 0.865632], 0.014562[sec]\n",
      "epoch:[77/1200] [Discriminator::d_loss: 0.488294],[Generator::loss: 0.904315], 0.014413[sec]\n",
      "epoch:[78/1200] [Discriminator::d_loss: 0.473828],[Generator::loss: 0.856946], 0.013335[sec]\n",
      "epoch:[79/1200] [Discriminator::d_loss: 0.493419],[Generator::loss: 0.858873], 0.013066[sec]\n",
      "epoch:[80/1200] [Discriminator::d_loss: 0.485861],[Generator::loss: 0.890554], 0.013120[sec]\n",
      "epoch:[81/1200] [Discriminator::d_loss: 0.517042],[Generator::loss: 0.884858], 0.013860[sec]\n",
      "epoch:[82/1200] [Discriminator::d_loss: 0.472334],[Generator::loss: 0.812648], 0.013140[sec]\n",
      "epoch:[83/1200] [Discriminator::d_loss: 0.446474],[Generator::loss: 0.875311], 0.012949[sec]\n",
      "epoch:[84/1200] [Discriminator::d_loss: 0.505737],[Generator::loss: 0.855309], 0.013122[sec]\n",
      "epoch:[85/1200] [Discriminator::d_loss: 0.482881],[Generator::loss: 0.914595], 0.013588[sec]\n",
      "epoch:[86/1200] [Discriminator::d_loss: 0.471407],[Generator::loss: 0.863145], 0.013165[sec]\n",
      "epoch:[87/1200] [Discriminator::d_loss: 0.471269],[Generator::loss: 0.911554], 0.013055[sec]\n",
      "epoch:[88/1200] [Discriminator::d_loss: 0.448998],[Generator::loss: 0.912902], 0.013321[sec]\n"
     ]
    },
    {
     "name": "stdout",
     "output_type": "stream",
     "text": [
      "epoch:[89/1200] [Discriminator::d_loss: 0.426344],[Generator::loss: 0.912631], 0.014750[sec]\n",
      "epoch:[90/1200] [Discriminator::d_loss: 0.486044],[Generator::loss: 0.887069], 0.020626[sec]\n",
      "epoch:[91/1200] [Discriminator::d_loss: 0.454637],[Generator::loss: 0.903262], 0.014509[sec]\n",
      "epoch:[92/1200] [Discriminator::d_loss: 0.450795],[Generator::loss: 0.884864], 0.013742[sec]\n",
      "epoch:[93/1200] [Discriminator::d_loss: 0.472312],[Generator::loss: 0.861082], 0.013137[sec]\n",
      "epoch:[94/1200] [Discriminator::d_loss: 0.428191],[Generator::loss: 0.881393], 0.013043[sec]\n",
      "epoch:[95/1200] [Discriminator::d_loss: 0.446735],[Generator::loss: 0.903722], 0.013041[sec]\n",
      "epoch:[96/1200] [Discriminator::d_loss: 0.433641],[Generator::loss: 0.936217], 0.012992[sec]\n",
      "epoch:[97/1200] [Discriminator::d_loss: 0.428852],[Generator::loss: 0.957391], 0.012812[sec]\n",
      "epoch:[98/1200] [Discriminator::d_loss: 0.448324],[Generator::loss: 0.904223], 0.013000[sec]\n",
      "epoch:[99/1200] [Discriminator::d_loss: 0.486526],[Generator::loss: 0.925077], 0.013924[sec]\n",
      "epoch:[100/1200] [Discriminator::d_loss: 0.457394],[Generator::loss: 0.978994], 0.013626[sec]\n",
      "epoch:[101/1200] [Discriminator::d_loss: 0.410738],[Generator::loss: 0.881587], 0.013068[sec]\n",
      "epoch:[102/1200] [Discriminator::d_loss: 0.422992],[Generator::loss: 0.936200], 0.013344[sec]\n",
      "epoch:[103/1200] [Discriminator::d_loss: 0.403583],[Generator::loss: 0.971814], 0.013797[sec]\n",
      "epoch:[104/1200] [Discriminator::d_loss: 0.433451],[Generator::loss: 0.945260], 0.019236[sec]\n",
      "epoch:[105/1200] [Discriminator::d_loss: 0.451980],[Generator::loss: 0.932465], 0.016059[sec]\n",
      "epoch:[106/1200] [Discriminator::d_loss: 0.466304],[Generator::loss: 0.926685], 0.013603[sec]\n",
      "epoch:[107/1200] [Discriminator::d_loss: 0.407318],[Generator::loss: 0.825515], 0.013427[sec]\n",
      "epoch:[108/1200] [Discriminator::d_loss: 0.430453],[Generator::loss: 0.987159], 0.013195[sec]\n",
      "epoch:[109/1200] [Discriminator::d_loss: 0.416163],[Generator::loss: 0.886190], 0.013101[sec]\n",
      "epoch:[110/1200] [Discriminator::d_loss: 0.458314],[Generator::loss: 0.932864], 0.012969[sec]\n",
      "epoch:[111/1200] [Discriminator::d_loss: 0.427714],[Generator::loss: 0.933436], 0.013055[sec]\n",
      "epoch:[112/1200] [Discriminator::d_loss: 0.423018],[Generator::loss: 0.982801], 0.013095[sec]\n",
      "epoch:[113/1200] [Discriminator::d_loss: 0.434421],[Generator::loss: 0.921135], 0.013732[sec]\n",
      "epoch:[114/1200] [Discriminator::d_loss: 0.448754],[Generator::loss: 0.960842], 0.013129[sec]\n",
      "epoch:[115/1200] [Discriminator::d_loss: 0.426504],[Generator::loss: 0.920682], 0.013111[sec]\n",
      "epoch:[116/1200] [Discriminator::d_loss: 0.477017],[Generator::loss: 1.028032], 0.013025[sec]\n",
      "epoch:[117/1200] [Discriminator::d_loss: 0.383647],[Generator::loss: 1.031744], 0.013125[sec]\n",
      "epoch:[118/1200] [Discriminator::d_loss: 0.421431],[Generator::loss: 0.986359], 0.012983[sec]\n",
      "epoch:[119/1200] [Discriminator::d_loss: 0.420139],[Generator::loss: 0.933060], 0.014318[sec]\n",
      "epoch:[120/1200] [Discriminator::d_loss: 0.435216],[Generator::loss: 1.023736], 0.017987[sec]\n",
      "epoch:[121/1200] [Discriminator::d_loss: 0.400041],[Generator::loss: 0.953341], 0.014320[sec]\n",
      "epoch:[122/1200] [Discriminator::d_loss: 0.469288],[Generator::loss: 0.961385], 0.013649[sec]\n",
      "epoch:[123/1200] [Discriminator::d_loss: 0.415139],[Generator::loss: 1.005706], 0.013064[sec]\n",
      "epoch:[124/1200] [Discriminator::d_loss: 0.398882],[Generator::loss: 1.005465], 0.012905[sec]\n",
      "epoch:[125/1200] [Discriminator::d_loss: 0.423130],[Generator::loss: 1.015634], 0.013108[sec]\n",
      "epoch:[126/1200] [Discriminator::d_loss: 0.425010],[Generator::loss: 1.035460], 0.013190[sec]\n",
      "epoch:[127/1200] [Discriminator::d_loss: 0.411006],[Generator::loss: 1.012356], 0.014243[sec]\n",
      "epoch:[128/1200] [Discriminator::d_loss: 0.441050],[Generator::loss: 1.099559], 0.013238[sec]\n",
      "epoch:[129/1200] [Discriminator::d_loss: 0.405474],[Generator::loss: 1.081188], 0.013120[sec]\n",
      "epoch:[130/1200] [Discriminator::d_loss: 0.422286],[Generator::loss: 0.977789], 0.012931[sec]\n",
      "epoch:[131/1200] [Discriminator::d_loss: 0.448871],[Generator::loss: 1.043132], 0.012961[sec]\n",
      "epoch:[132/1200] [Discriminator::d_loss: 0.404801],[Generator::loss: 0.966368], 0.012964[sec]\n",
      "epoch:[133/1200] [Discriminator::d_loss: 0.447812],[Generator::loss: 1.047768], 0.013079[sec]\n",
      "epoch:[134/1200] [Discriminator::d_loss: 0.395874],[Generator::loss: 1.084449], 0.017069[sec]\n",
      "epoch:[135/1200] [Discriminator::d_loss: 0.413878],[Generator::loss: 0.974679], 0.016493[sec]\n",
      "epoch:[136/1200] [Discriminator::d_loss: 0.464080],[Generator::loss: 1.042586], 0.013650[sec]\n",
      "epoch:[137/1200] [Discriminator::d_loss: 0.388403],[Generator::loss: 1.082746], 0.013918[sec]\n",
      "epoch:[138/1200] [Discriminator::d_loss: 0.403404],[Generator::loss: 0.999914], 0.013093[sec]\n",
      "epoch:[139/1200] [Discriminator::d_loss: 0.432223],[Generator::loss: 1.094730], 0.013093[sec]\n",
      "epoch:[140/1200] [Discriminator::d_loss: 0.400030],[Generator::loss: 1.069856], 0.013008[sec]\n",
      "epoch:[141/1200] [Discriminator::d_loss: 0.408029],[Generator::loss: 0.984451], 0.014518[sec]\n",
      "epoch:[142/1200] [Discriminator::d_loss: 0.384844],[Generator::loss: 1.012534], 0.013161[sec]\n",
      "epoch:[143/1200] [Discriminator::d_loss: 0.412929],[Generator::loss: 0.961915], 0.013218[sec]\n",
      "epoch:[144/1200] [Discriminator::d_loss: 0.431103],[Generator::loss: 1.009370], 0.012877[sec]\n",
      "epoch:[145/1200] [Discriminator::d_loss: 0.454698],[Generator::loss: 0.967182], 0.013027[sec]\n",
      "epoch:[146/1200] [Discriminator::d_loss: 0.423010],[Generator::loss: 1.027126], 0.013035[sec]\n",
      "epoch:[147/1200] [Discriminator::d_loss: 0.412179],[Generator::loss: 0.985409], 0.013251[sec]\n",
      "epoch:[148/1200] [Discriminator::d_loss: 0.368552],[Generator::loss: 0.983739], 0.012836[sec]\n",
      "epoch:[149/1200] [Discriminator::d_loss: 0.397473],[Generator::loss: 1.012370], 0.014239[sec]\n",
      "epoch:[150/1200] [Discriminator::d_loss: 0.371565],[Generator::loss: 1.182089], 0.019970[sec]\n",
      "epoch:[151/1200] [Discriminator::d_loss: 0.435750],[Generator::loss: 0.995206], 0.013511[sec]\n",
      "epoch:[152/1200] [Discriminator::d_loss: 0.398938],[Generator::loss: 0.971282], 0.013770[sec]\n",
      "epoch:[153/1200] [Discriminator::d_loss: 0.420423],[Generator::loss: 1.086766], 0.012967[sec]\n",
      "epoch:[154/1200] [Discriminator::d_loss: 0.420962],[Generator::loss: 0.967690], 0.012964[sec]\n",
      "epoch:[155/1200] [Discriminator::d_loss: 0.432384],[Generator::loss: 0.962079], 0.014278[sec]\n",
      "epoch:[156/1200] [Discriminator::d_loss: 0.376680],[Generator::loss: 1.256334], 0.013261[sec]\n",
      "epoch:[157/1200] [Discriminator::d_loss: 0.429919],[Generator::loss: 1.017993], 0.012911[sec]\n",
      "epoch:[158/1200] [Discriminator::d_loss: 0.405869],[Generator::loss: 1.104914], 0.013104[sec]\n",
      "epoch:[159/1200] [Discriminator::d_loss: 0.529827],[Generator::loss: 0.981038], 0.013034[sec]\n",
      "epoch:[160/1200] [Discriminator::d_loss: 0.390437],[Generator::loss: 1.143289], 0.013565[sec]\n",
      "epoch:[161/1200] [Discriminator::d_loss: 0.404281],[Generator::loss: 1.128277], 0.013133[sec]\n",
      "epoch:[162/1200] [Discriminator::d_loss: 0.396123],[Generator::loss: 0.996838], 0.013106[sec]\n",
      "epoch:[163/1200] [Discriminator::d_loss: 0.422208],[Generator::loss: 0.982040], 0.013515[sec]\n",
      "epoch:[164/1200] [Discriminator::d_loss: 0.367343],[Generator::loss: 1.032325], 0.015954[sec]\n",
      "epoch:[165/1200] [Discriminator::d_loss: 0.381465],[Generator::loss: 1.087427], 0.019110[sec]\n",
      "epoch:[166/1200] [Discriminator::d_loss: 0.485690],[Generator::loss: 1.198338], 0.013241[sec]\n",
      "epoch:[167/1200] [Discriminator::d_loss: 0.417119],[Generator::loss: 1.110257], 0.013848[sec]\n",
      "epoch:[168/1200] [Discriminator::d_loss: 0.417799],[Generator::loss: 1.269108], 0.013085[sec]\n",
      "epoch:[169/1200] [Discriminator::d_loss: 0.406253],[Generator::loss: 1.131590], 0.013026[sec]\n",
      "epoch:[170/1200] [Discriminator::d_loss: 0.376829],[Generator::loss: 1.146877], 0.014076[sec]\n",
      "epoch:[171/1200] [Discriminator::d_loss: 0.452757],[Generator::loss: 1.162352], 0.013246[sec]\n",
      "epoch:[172/1200] [Discriminator::d_loss: 0.463998],[Generator::loss: 1.063533], 0.013105[sec]\n",
      "epoch:[173/1200] [Discriminator::d_loss: 0.440246],[Generator::loss: 0.964541], 0.013196[sec]\n",
      "epoch:[174/1200] [Discriminator::d_loss: 0.367599],[Generator::loss: 0.986044], 0.015366[sec]\n",
      "epoch:[175/1200] [Discriminator::d_loss: 0.430344],[Generator::loss: 1.141875], 0.013047[sec]\n",
      "epoch:[176/1200] [Discriminator::d_loss: 0.471061],[Generator::loss: 1.166420], 0.013286[sec]\n",
      "epoch:[177/1200] [Discriminator::d_loss: 0.417351],[Generator::loss: 1.058577], 0.013579[sec]\n",
      "epoch:[178/1200] [Discriminator::d_loss: 0.433915],[Generator::loss: 1.117790], 0.013409[sec]\n"
     ]
    },
    {
     "name": "stdout",
     "output_type": "stream",
     "text": [
      "epoch:[179/1200] [Discriminator::d_loss: 0.431746],[Generator::loss: 1.047340], 0.014595[sec]\n",
      "epoch:[180/1200] [Discriminator::d_loss: 0.427083],[Generator::loss: 1.162315], 0.015898[sec]\n",
      "epoch:[181/1200] [Discriminator::d_loss: 0.499029],[Generator::loss: 1.128088], 0.013088[sec]\n",
      "epoch:[182/1200] [Discriminator::d_loss: 0.416779],[Generator::loss: 1.041201], 0.013252[sec]\n",
      "epoch:[183/1200] [Discriminator::d_loss: 0.423454],[Generator::loss: 1.139651], 0.013132[sec]\n",
      "epoch:[184/1200] [Discriminator::d_loss: 0.395698],[Generator::loss: 1.021734], 0.013375[sec]\n",
      "epoch:[185/1200] [Discriminator::d_loss: 0.427860],[Generator::loss: 1.164412], 0.013255[sec]\n",
      "epoch:[186/1200] [Discriminator::d_loss: 0.388355],[Generator::loss: 1.081820], 0.012962[sec]\n",
      "epoch:[187/1200] [Discriminator::d_loss: 0.520950],[Generator::loss: 1.174556], 0.013061[sec]\n",
      "epoch:[188/1200] [Discriminator::d_loss: 0.508423],[Generator::loss: 1.155856], 0.013724[sec]\n",
      "epoch:[189/1200] [Discriminator::d_loss: 0.436320],[Generator::loss: 1.047130], 0.013308[sec]\n",
      "epoch:[190/1200] [Discriminator::d_loss: 0.426997],[Generator::loss: 1.035175], 0.013452[sec]\n",
      "epoch:[191/1200] [Discriminator::d_loss: 0.433343],[Generator::loss: 0.992485], 0.013646[sec]\n",
      "epoch:[192/1200] [Discriminator::d_loss: 0.384643],[Generator::loss: 1.037238], 0.013130[sec]\n",
      "epoch:[193/1200] [Discriminator::d_loss: 0.537242],[Generator::loss: 1.148328], 0.013146[sec]\n",
      "epoch:[194/1200] [Discriminator::d_loss: 0.386756],[Generator::loss: 1.214325], 0.015376[sec]\n",
      "epoch:[195/1200] [Discriminator::d_loss: 0.501295],[Generator::loss: 1.023875], 0.017405[sec]\n",
      "epoch:[196/1200] [Discriminator::d_loss: 0.400563],[Generator::loss: 1.154811], 0.013403[sec]\n",
      "epoch:[197/1200] [Discriminator::d_loss: 0.557804],[Generator::loss: 1.092330], 0.013137[sec]\n",
      "epoch:[198/1200] [Discriminator::d_loss: 0.470719],[Generator::loss: 1.026739], 0.014019[sec]\n",
      "epoch:[199/1200] [Discriminator::d_loss: 0.495058],[Generator::loss: 1.101126], 0.013156[sec]\n",
      "epoch:[200/1200] [Discriminator::d_loss: 0.540604],[Generator::loss: 1.022264], 0.013045[sec]\n",
      "epoch:[201/1200] [Discriminator::d_loss: 0.514495],[Generator::loss: 1.073863], 0.013040[sec]\n",
      "epoch:[202/1200] [Discriminator::d_loss: 0.374404],[Generator::loss: 1.206779], 0.013055[sec]\n",
      "epoch:[203/1200] [Discriminator::d_loss: 0.451556],[Generator::loss: 1.008553], 0.012969[sec]\n",
      "epoch:[204/1200] [Discriminator::d_loss: 0.452985],[Generator::loss: 0.994825], 0.012969[sec]\n",
      "epoch:[205/1200] [Discriminator::d_loss: 0.479853],[Generator::loss: 1.058932], 0.013565[sec]\n",
      "epoch:[206/1200] [Discriminator::d_loss: 0.471481],[Generator::loss: 0.924531], 0.013284[sec]\n",
      "epoch:[207/1200] [Discriminator::d_loss: 0.477766],[Generator::loss: 1.004181], 0.013496[sec]\n",
      "epoch:[208/1200] [Discriminator::d_loss: 0.498545],[Generator::loss: 1.008304], 0.013127[sec]\n",
      "epoch:[209/1200] [Discriminator::d_loss: 0.453913],[Generator::loss: 1.115679], 0.013206[sec]\n",
      "epoch:[210/1200] [Discriminator::d_loss: 0.562636],[Generator::loss: 1.081256], 0.021482[sec]\n",
      "epoch:[211/1200] [Discriminator::d_loss: 0.527894],[Generator::loss: 1.072550], 0.013345[sec]\n",
      "epoch:[212/1200] [Discriminator::d_loss: 0.466672],[Generator::loss: 1.071607], 0.014127[sec]\n",
      "epoch:[213/1200] [Discriminator::d_loss: 0.435675],[Generator::loss: 1.102219], 0.013392[sec]\n",
      "epoch:[214/1200] [Discriminator::d_loss: 0.495109],[Generator::loss: 0.999732], 0.012949[sec]\n",
      "epoch:[215/1200] [Discriminator::d_loss: 0.578440],[Generator::loss: 1.174381], 0.013109[sec]\n",
      "epoch:[216/1200] [Discriminator::d_loss: 0.496572],[Generator::loss: 1.096718], 0.013093[sec]\n",
      "epoch:[217/1200] [Discriminator::d_loss: 0.532397],[Generator::loss: 1.189225], 0.013166[sec]\n",
      "epoch:[218/1200] [Discriminator::d_loss: 0.493150],[Generator::loss: 0.984167], 0.013157[sec]\n",
      "epoch:[219/1200] [Discriminator::d_loss: 0.490492],[Generator::loss: 0.968062], 0.014029[sec]\n",
      "epoch:[220/1200] [Discriminator::d_loss: 0.419203],[Generator::loss: 1.096117], 0.013346[sec]\n",
      "epoch:[221/1200] [Discriminator::d_loss: 0.459057],[Generator::loss: 1.019734], 0.013056[sec]\n",
      "epoch:[222/1200] [Discriminator::d_loss: 0.532737],[Generator::loss: 1.280107], 0.013935[sec]\n",
      "epoch:[223/1200] [Discriminator::d_loss: 0.487936],[Generator::loss: 1.001346], 0.013000[sec]\n",
      "epoch:[224/1200] [Discriminator::d_loss: 0.522455],[Generator::loss: 1.098490], 0.016309[sec]\n",
      "epoch:[225/1200] [Discriminator::d_loss: 0.500409],[Generator::loss: 1.236130], 0.013730[sec]\n",
      "epoch:[226/1200] [Discriminator::d_loss: 0.459239],[Generator::loss: 0.876766], 0.014399[sec]\n",
      "epoch:[227/1200] [Discriminator::d_loss: 0.490030],[Generator::loss: 1.150968], 0.013547[sec]\n",
      "epoch:[228/1200] [Discriminator::d_loss: 0.565918],[Generator::loss: 0.904193], 0.013221[sec]\n",
      "epoch:[229/1200] [Discriminator::d_loss: 0.553090],[Generator::loss: 1.050921], 0.013639[sec]\n",
      "epoch:[230/1200] [Discriminator::d_loss: 0.519641],[Generator::loss: 1.111266], 0.012772[sec]\n",
      "epoch:[231/1200] [Discriminator::d_loss: 0.483811],[Generator::loss: 1.036626], 0.013080[sec]\n",
      "epoch:[232/1200] [Discriminator::d_loss: 0.450654],[Generator::loss: 1.067518], 0.013238[sec]\n",
      "epoch:[233/1200] [Discriminator::d_loss: 0.422821],[Generator::loss: 1.002331], 0.013526[sec]\n",
      "epoch:[234/1200] [Discriminator::d_loss: 0.496548],[Generator::loss: 1.048304], 0.014382[sec]\n",
      "epoch:[235/1200] [Discriminator::d_loss: 0.518156],[Generator::loss: 0.953123], 0.013002[sec]\n",
      "epoch:[236/1200] [Discriminator::d_loss: 0.511928],[Generator::loss: 1.247953], 0.013004[sec]\n",
      "epoch:[237/1200] [Discriminator::d_loss: 0.482372],[Generator::loss: 1.111375], 0.012882[sec]\n",
      "epoch:[238/1200] [Discriminator::d_loss: 0.578528],[Generator::loss: 1.000955], 0.013126[sec]\n",
      "epoch:[239/1200] [Discriminator::d_loss: 0.584027],[Generator::loss: 1.373961], 0.013664[sec]\n",
      "epoch:[240/1200] [Discriminator::d_loss: 0.575405],[Generator::loss: 1.197532], 0.022079[sec]\n",
      "epoch:[241/1200] [Discriminator::d_loss: 0.668813],[Generator::loss: 1.021033], 0.015162[sec]\n",
      "epoch:[242/1200] [Discriminator::d_loss: 0.497069],[Generator::loss: 0.944559], 0.014039[sec]\n",
      "epoch:[243/1200] [Discriminator::d_loss: 0.453715],[Generator::loss: 1.119635], 0.013006[sec]\n",
      "epoch:[244/1200] [Discriminator::d_loss: 0.516587],[Generator::loss: 1.000184], 0.013053[sec]\n",
      "epoch:[245/1200] [Discriminator::d_loss: 0.568321],[Generator::loss: 0.942019], 0.013161[sec]\n",
      "epoch:[246/1200] [Discriminator::d_loss: 0.538293],[Generator::loss: 1.019026], 0.013351[sec]\n",
      "epoch:[247/1200] [Discriminator::d_loss: 0.469045],[Generator::loss: 1.035078], 0.012872[sec]\n",
      "epoch:[248/1200] [Discriminator::d_loss: 0.500590],[Generator::loss: 1.001861], 0.014141[sec]\n",
      "epoch:[249/1200] [Discriminator::d_loss: 0.574848],[Generator::loss: 1.118563], 0.013072[sec]\n",
      "epoch:[250/1200] [Discriminator::d_loss: 0.502391],[Generator::loss: 1.103054], 0.013232[sec]\n",
      "epoch:[251/1200] [Discriminator::d_loss: 0.605934],[Generator::loss: 1.072425], 0.012992[sec]\n",
      "epoch:[252/1200] [Discriminator::d_loss: 0.517106],[Generator::loss: 1.012911], 0.012886[sec]\n",
      "epoch:[253/1200] [Discriminator::d_loss: 0.638916],[Generator::loss: 0.996632], 0.013368[sec]\n",
      "epoch:[254/1200] [Discriminator::d_loss: 0.550607],[Generator::loss: 1.266150], 0.023371[sec]\n",
      "epoch:[255/1200] [Discriminator::d_loss: 0.702590],[Generator::loss: 1.114032], 0.014971[sec]\n",
      "epoch:[256/1200] [Discriminator::d_loss: 0.607472],[Generator::loss: 1.062517], 0.013431[sec]\n",
      "epoch:[257/1200] [Discriminator::d_loss: 0.546931],[Generator::loss: 1.047415], 0.013474[sec]\n",
      "epoch:[258/1200] [Discriminator::d_loss: 0.531355],[Generator::loss: 1.256529], 0.013237[sec]\n",
      "epoch:[259/1200] [Discriminator::d_loss: 0.542985],[Generator::loss: 0.885718], 0.013153[sec]\n",
      "epoch:[260/1200] [Discriminator::d_loss: 0.479053],[Generator::loss: 1.156019], 0.013381[sec]\n",
      "epoch:[261/1200] [Discriminator::d_loss: 0.476824],[Generator::loss: 1.191012], 0.013393[sec]\n",
      "epoch:[262/1200] [Discriminator::d_loss: 0.436538],[Generator::loss: 0.969871], 0.013561[sec]\n",
      "epoch:[263/1200] [Discriminator::d_loss: 0.433785],[Generator::loss: 1.170391], 0.012936[sec]\n",
      "epoch:[264/1200] [Discriminator::d_loss: 0.515669],[Generator::loss: 1.269284], 0.013211[sec]\n",
      "epoch:[265/1200] [Discriminator::d_loss: 0.565237],[Generator::loss: 0.752523], 0.013098[sec]\n",
      "epoch:[266/1200] [Discriminator::d_loss: 0.630167],[Generator::loss: 0.851757], 0.013081[sec]\n"
     ]
    },
    {
     "name": "stdout",
     "output_type": "stream",
     "text": [
      "epoch:[267/1200] [Discriminator::d_loss: 0.681834],[Generator::loss: 1.123094], 0.013304[sec]\n",
      "epoch:[268/1200] [Discriminator::d_loss: 0.587359],[Generator::loss: 0.940550], 0.016607[sec]\n",
      "epoch:[269/1200] [Discriminator::d_loss: 0.517166],[Generator::loss: 1.029312], 0.014692[sec]\n",
      "epoch:[270/1200] [Discriminator::d_loss: 0.561479],[Generator::loss: 1.187505], 0.013894[sec]\n",
      "epoch:[271/1200] [Discriminator::d_loss: 0.656826],[Generator::loss: 0.743376], 0.013514[sec]\n",
      "epoch:[272/1200] [Discriminator::d_loss: 0.652940],[Generator::loss: 1.025300], 0.013055[sec]\n",
      "epoch:[273/1200] [Discriminator::d_loss: 0.508402],[Generator::loss: 0.980635], 0.013057[sec]\n",
      "epoch:[274/1200] [Discriminator::d_loss: 0.546368],[Generator::loss: 0.952905], 0.013076[sec]\n",
      "epoch:[275/1200] [Discriminator::d_loss: 0.477697],[Generator::loss: 1.073969], 0.013172[sec]\n",
      "epoch:[276/1200] [Discriminator::d_loss: 0.573332],[Generator::loss: 1.269497], 0.014147[sec]\n",
      "epoch:[277/1200] [Discriminator::d_loss: 0.804651],[Generator::loss: 0.895540], 0.013444[sec]\n",
      "epoch:[278/1200] [Discriminator::d_loss: 0.534033],[Generator::loss: 1.236306], 0.013198[sec]\n",
      "epoch:[279/1200] [Discriminator::d_loss: 0.614626],[Generator::loss: 1.044171], 0.013164[sec]\n",
      "epoch:[280/1200] [Discriminator::d_loss: 0.543437],[Generator::loss: 1.186091], 0.012978[sec]\n",
      "epoch:[281/1200] [Discriminator::d_loss: 0.670732],[Generator::loss: 1.076455], 0.013020[sec]\n",
      "epoch:[282/1200] [Discriminator::d_loss: 0.594399],[Generator::loss: 1.029010], 0.014632[sec]\n",
      "epoch:[283/1200] [Discriminator::d_loss: 0.653644],[Generator::loss: 1.020697], 0.016418[sec]\n",
      "epoch:[284/1200] [Discriminator::d_loss: 0.624238],[Generator::loss: 1.064683], 0.014222[sec]\n",
      "epoch:[285/1200] [Discriminator::d_loss: 0.639464],[Generator::loss: 1.230499], 0.013684[sec]\n",
      "epoch:[286/1200] [Discriminator::d_loss: 0.620354],[Generator::loss: 1.161353], 0.013077[sec]\n",
      "epoch:[287/1200] [Discriminator::d_loss: 0.655901],[Generator::loss: 0.917739], 0.013128[sec]\n",
      "epoch:[288/1200] [Discriminator::d_loss: 0.645628],[Generator::loss: 0.846806], 0.013161[sec]\n",
      "epoch:[289/1200] [Discriminator::d_loss: 0.622592],[Generator::loss: 1.029084], 0.012976[sec]\n",
      "epoch:[290/1200] [Discriminator::d_loss: 0.558458],[Generator::loss: 1.003551], 0.013447[sec]\n",
      "epoch:[291/1200] [Discriminator::d_loss: 0.744972],[Generator::loss: 1.034587], 0.013145[sec]\n",
      "epoch:[292/1200] [Discriminator::d_loss: 0.624264],[Generator::loss: 1.320560], 0.013006[sec]\n",
      "epoch:[293/1200] [Discriminator::d_loss: 0.710199],[Generator::loss: 1.037183], 0.013531[sec]\n",
      "epoch:[294/1200] [Discriminator::d_loss: 0.633612],[Generator::loss: 1.098332], 0.013011[sec]\n",
      "epoch:[295/1200] [Discriminator::d_loss: 0.596326],[Generator::loss: 1.121526], 0.013149[sec]\n",
      "epoch:[296/1200] [Discriminator::d_loss: 0.696064],[Generator::loss: 1.181134], 0.013026[sec]\n",
      "epoch:[297/1200] [Discriminator::d_loss: 0.753617],[Generator::loss: 0.871854], 0.014523[sec]\n",
      "epoch:[298/1200] [Discriminator::d_loss: 0.608561],[Generator::loss: 0.982686], 0.016334[sec]\n",
      "epoch:[299/1200] [Discriminator::d_loss: 0.666334],[Generator::loss: 0.965565], 0.013243[sec]\n",
      "epoch:[300/1200] [Discriminator::d_loss: 0.637595],[Generator::loss: 1.204181], 0.013389[sec]\n",
      "epoch:[301/1200] [Discriminator::d_loss: 0.608777],[Generator::loss: 0.811428], 0.013706[sec]\n",
      "epoch:[302/1200] [Discriminator::d_loss: 0.713213],[Generator::loss: 1.160463], 0.012871[sec]\n",
      "epoch:[303/1200] [Discriminator::d_loss: 0.609824],[Generator::loss: 1.100320], 0.013172[sec]\n",
      "epoch:[304/1200] [Discriminator::d_loss: 0.605245],[Generator::loss: 0.866878], 0.013368[sec]\n",
      "epoch:[305/1200] [Discriminator::d_loss: 0.677504],[Generator::loss: 1.192812], 0.013933[sec]\n",
      "epoch:[306/1200] [Discriminator::d_loss: 0.758959],[Generator::loss: 1.187530], 0.013261[sec]\n",
      "epoch:[307/1200] [Discriminator::d_loss: 0.568251],[Generator::loss: 0.855150], 0.013190[sec]\n",
      "epoch:[308/1200] [Discriminator::d_loss: 0.572377],[Generator::loss: 1.006571], 0.012929[sec]\n",
      "epoch:[309/1200] [Discriminator::d_loss: 0.597107],[Generator::loss: 0.765446], 0.013053[sec]\n",
      "epoch:[310/1200] [Discriminator::d_loss: 0.569934],[Generator::loss: 0.900214], 0.013132[sec]\n",
      "epoch:[311/1200] [Discriminator::d_loss: 0.582891],[Generator::loss: 0.590388], 0.013011[sec]\n",
      "epoch:[312/1200] [Discriminator::d_loss: 0.565908],[Generator::loss: 1.079062], 0.014388[sec]\n",
      "epoch:[313/1200] [Discriminator::d_loss: 0.697887],[Generator::loss: 1.066307], 0.016757[sec]\n",
      "epoch:[314/1200] [Discriminator::d_loss: 0.584658],[Generator::loss: 0.884842], 0.013641[sec]\n",
      "epoch:[315/1200] [Discriminator::d_loss: 0.587601],[Generator::loss: 1.042125], 0.013291[sec]\n",
      "epoch:[316/1200] [Discriminator::d_loss: 0.764205],[Generator::loss: 1.121491], 0.013358[sec]\n",
      "epoch:[317/1200] [Discriminator::d_loss: 0.772881],[Generator::loss: 1.047623], 0.013301[sec]\n",
      "epoch:[318/1200] [Discriminator::d_loss: 0.562553],[Generator::loss: 0.855911], 0.013147[sec]\n",
      "epoch:[319/1200] [Discriminator::d_loss: 0.581715],[Generator::loss: 0.812720], 0.014255[sec]\n",
      "epoch:[320/1200] [Discriminator::d_loss: 0.585378],[Generator::loss: 0.972891], 0.013277[sec]\n",
      "epoch:[321/1200] [Discriminator::d_loss: 0.704235],[Generator::loss: 1.217010], 0.013578[sec]\n",
      "epoch:[322/1200] [Discriminator::d_loss: 0.621240],[Generator::loss: 0.940789], 0.013185[sec]\n",
      "epoch:[323/1200] [Discriminator::d_loss: 0.732875],[Generator::loss: 0.868775], 0.012982[sec]\n",
      "epoch:[324/1200] [Discriminator::d_loss: 0.646404],[Generator::loss: 1.071985], 0.013150[sec]\n",
      "epoch:[325/1200] [Discriminator::d_loss: 0.619215],[Generator::loss: 0.902607], 0.013149[sec]\n",
      "epoch:[326/1200] [Discriminator::d_loss: 0.635774],[Generator::loss: 0.969400], 0.013320[sec]\n",
      "epoch:[327/1200] [Discriminator::d_loss: 0.577296],[Generator::loss: 0.983401], 0.015563[sec]\n",
      "epoch:[328/1200] [Discriminator::d_loss: 0.689542],[Generator::loss: 1.012081], 0.017482[sec]\n",
      "epoch:[329/1200] [Discriminator::d_loss: 0.625852],[Generator::loss: 1.197636], 0.013533[sec]\n",
      "epoch:[330/1200] [Discriminator::d_loss: 0.651097],[Generator::loss: 0.704841], 0.013788[sec]\n",
      "epoch:[331/1200] [Discriminator::d_loss: 0.755059],[Generator::loss: 1.056299], 0.013367[sec]\n",
      "epoch:[332/1200] [Discriminator::d_loss: 0.641503],[Generator::loss: 1.118739], 0.013175[sec]\n",
      "epoch:[333/1200] [Discriminator::d_loss: 0.623460],[Generator::loss: 1.047250], 0.015600[sec]\n",
      "epoch:[334/1200] [Discriminator::d_loss: 0.677572],[Generator::loss: 1.114820], 0.013250[sec]\n",
      "epoch:[335/1200] [Discriminator::d_loss: 0.638290],[Generator::loss: 0.961577], 0.013086[sec]\n",
      "epoch:[336/1200] [Discriminator::d_loss: 0.635934],[Generator::loss: 0.767481], 0.013247[sec]\n",
      "epoch:[337/1200] [Discriminator::d_loss: 0.780641],[Generator::loss: 0.960395], 0.013152[sec]\n",
      "epoch:[338/1200] [Discriminator::d_loss: 0.669078],[Generator::loss: 1.048326], 0.013182[sec]\n",
      "epoch:[339/1200] [Discriminator::d_loss: 0.594037],[Generator::loss: 0.951803], 0.013152[sec]\n",
      "epoch:[340/1200] [Discriminator::d_loss: 0.608468],[Generator::loss: 0.872579], 0.013536[sec]\n",
      "epoch:[341/1200] [Discriminator::d_loss: 0.733739],[Generator::loss: 0.676319], 0.013192[sec]\n",
      "epoch:[342/1200] [Discriminator::d_loss: 0.559778],[Generator::loss: 0.974384], 0.015046[sec]\n",
      "epoch:[343/1200] [Discriminator::d_loss: 0.735047],[Generator::loss: 0.823639], 0.016867[sec]\n",
      "epoch:[344/1200] [Discriminator::d_loss: 0.572096],[Generator::loss: 0.818805], 0.013317[sec]\n",
      "epoch:[345/1200] [Discriminator::d_loss: 0.723859],[Generator::loss: 0.993962], 0.013635[sec]\n",
      "epoch:[346/1200] [Discriminator::d_loss: 0.570978],[Generator::loss: 0.986747], 0.013224[sec]\n",
      "epoch:[347/1200] [Discriminator::d_loss: 0.578924],[Generator::loss: 0.776958], 0.014070[sec]\n",
      "epoch:[348/1200] [Discriminator::d_loss: 0.624824],[Generator::loss: 1.097814], 0.013623[sec]\n",
      "epoch:[349/1200] [Discriminator::d_loss: 0.659384],[Generator::loss: 0.760134], 0.013159[sec]\n",
      "epoch:[350/1200] [Discriminator::d_loss: 0.680356],[Generator::loss: 0.945979], 0.012872[sec]\n",
      "epoch:[351/1200] [Discriminator::d_loss: 0.725888],[Generator::loss: 0.919596], 0.013225[sec]\n",
      "epoch:[352/1200] [Discriminator::d_loss: 0.661028],[Generator::loss: 1.280406], 0.013006[sec]\n",
      "epoch:[353/1200] [Discriminator::d_loss: 0.633070],[Generator::loss: 1.086081], 0.013059[sec]\n",
      "epoch:[354/1200] [Discriminator::d_loss: 0.715588],[Generator::loss: 0.895516], 0.012936[sec]\n",
      "epoch:[355/1200] [Discriminator::d_loss: 0.656963],[Generator::loss: 1.113238], 0.014222[sec]\n",
      "epoch:[356/1200] [Discriminator::d_loss: 0.711813],[Generator::loss: 1.079009], 0.013093[sec]\n"
     ]
    },
    {
     "name": "stdout",
     "output_type": "stream",
     "text": [
      "epoch:[357/1200] [Discriminator::d_loss: 0.727982],[Generator::loss: 0.774912], 0.015749[sec]\n",
      "epoch:[358/1200] [Discriminator::d_loss: 0.739576],[Generator::loss: 0.834426], 0.017955[sec]\n",
      "epoch:[359/1200] [Discriminator::d_loss: 0.709954],[Generator::loss: 0.933034], 0.013584[sec]\n",
      "epoch:[360/1200] [Discriminator::d_loss: 0.720193],[Generator::loss: 0.829209], 0.013388[sec]\n",
      "epoch:[361/1200] [Discriminator::d_loss: 0.711352],[Generator::loss: 1.154660], 0.013498[sec]\n",
      "epoch:[362/1200] [Discriminator::d_loss: 0.663239],[Generator::loss: 0.878400], 0.013459[sec]\n",
      "epoch:[363/1200] [Discriminator::d_loss: 0.604215],[Generator::loss: 0.851772], 0.013049[sec]\n",
      "epoch:[364/1200] [Discriminator::d_loss: 0.662250],[Generator::loss: 0.962626], 0.014040[sec]\n",
      "epoch:[365/1200] [Discriminator::d_loss: 0.709794],[Generator::loss: 0.966274], 0.013057[sec]\n",
      "epoch:[366/1200] [Discriminator::d_loss: 0.628084],[Generator::loss: 0.816828], 0.013237[sec]\n",
      "epoch:[367/1200] [Discriminator::d_loss: 0.652510],[Generator::loss: 0.789775], 0.012897[sec]\n",
      "epoch:[368/1200] [Discriminator::d_loss: 0.626256],[Generator::loss: 1.027921], 0.012859[sec]\n",
      "epoch:[369/1200] [Discriminator::d_loss: 0.534238],[Generator::loss: 1.118449], 0.015003[sec]\n",
      "epoch:[370/1200] [Discriminator::d_loss: 0.671269],[Generator::loss: 0.886293], 0.013038[sec]\n",
      "epoch:[371/1200] [Discriminator::d_loss: 0.675058],[Generator::loss: 1.141003], 0.013260[sec]\n",
      "epoch:[372/1200] [Discriminator::d_loss: 0.565576],[Generator::loss: 1.007135], 0.014185[sec]\n",
      "epoch:[373/1200] [Discriminator::d_loss: 0.645674],[Generator::loss: 1.047864], 0.015518[sec]\n",
      "epoch:[374/1200] [Discriminator::d_loss: 0.626059],[Generator::loss: 0.943122], 0.013298[sec]\n",
      "epoch:[375/1200] [Discriminator::d_loss: 0.698168],[Generator::loss: 1.039197], 0.013567[sec]\n",
      "epoch:[376/1200] [Discriminator::d_loss: 0.665849],[Generator::loss: 0.944127], 0.014118[sec]\n",
      "epoch:[377/1200] [Discriminator::d_loss: 0.759856],[Generator::loss: 0.947666], 0.013226[sec]\n",
      "epoch:[378/1200] [Discriminator::d_loss: 0.712858],[Generator::loss: 0.896960], 0.012981[sec]\n",
      "epoch:[379/1200] [Discriminator::d_loss: 0.683076],[Generator::loss: 0.921932], 0.013054[sec]\n",
      "epoch:[380/1200] [Discriminator::d_loss: 0.662082],[Generator::loss: 1.065549], 0.013022[sec]\n",
      "epoch:[381/1200] [Discriminator::d_loss: 0.654619],[Generator::loss: 0.768624], 0.013072[sec]\n",
      "epoch:[382/1200] [Discriminator::d_loss: 0.599784],[Generator::loss: 0.926685], 0.012973[sec]\n",
      "epoch:[383/1200] [Discriminator::d_loss: 0.661425],[Generator::loss: 0.914124], 0.013832[sec]\n",
      "epoch:[384/1200] [Discriminator::d_loss: 0.563232],[Generator::loss: 0.886756], 0.013367[sec]\n",
      "epoch:[385/1200] [Discriminator::d_loss: 0.647758],[Generator::loss: 0.996216], 0.013284[sec]\n",
      "epoch:[386/1200] [Discriminator::d_loss: 0.576320],[Generator::loss: 0.928083], 0.012999[sec]\n",
      "epoch:[387/1200] [Discriminator::d_loss: 0.689704],[Generator::loss: 0.759060], 0.015442[sec]\n",
      "epoch:[388/1200] [Discriminator::d_loss: 0.631973],[Generator::loss: 0.909750], 0.015675[sec]\n",
      "epoch:[389/1200] [Discriminator::d_loss: 0.691564],[Generator::loss: 0.788175], 0.013225[sec]\n",
      "epoch:[390/1200] [Discriminator::d_loss: 0.658742],[Generator::loss: 1.162911], 0.014497[sec]\n",
      "epoch:[391/1200] [Discriminator::d_loss: 0.668946],[Generator::loss: 1.025577], 0.013294[sec]\n",
      "epoch:[392/1200] [Discriminator::d_loss: 0.616759],[Generator::loss: 0.864933], 0.013176[sec]\n",
      "epoch:[393/1200] [Discriminator::d_loss: 0.708937],[Generator::loss: 0.853619], 0.013070[sec]\n",
      "epoch:[394/1200] [Discriminator::d_loss: 0.662916],[Generator::loss: 0.652507], 0.013000[sec]\n",
      "epoch:[395/1200] [Discriminator::d_loss: 0.754077],[Generator::loss: 0.737106], 0.013172[sec]\n",
      "epoch:[396/1200] [Discriminator::d_loss: 0.689504],[Generator::loss: 0.969148], 0.012888[sec]\n",
      "epoch:[397/1200] [Discriminator::d_loss: 0.631173],[Generator::loss: 0.840965], 0.013659[sec]\n",
      "epoch:[398/1200] [Discriminator::d_loss: 0.681619],[Generator::loss: 0.739996], 0.013285[sec]\n",
      "epoch:[399/1200] [Discriminator::d_loss: 0.674617],[Generator::loss: 0.961013], 0.013062[sec]\n",
      "epoch:[400/1200] [Discriminator::d_loss: 0.608025],[Generator::loss: 0.816043], 0.013162[sec]\n",
      "epoch:[401/1200] [Discriminator::d_loss: 0.662375],[Generator::loss: 1.092839], 0.013247[sec]\n",
      "epoch:[402/1200] [Discriminator::d_loss: 0.739085],[Generator::loss: 0.738434], 0.015114[sec]\n",
      "epoch:[403/1200] [Discriminator::d_loss: 0.657913],[Generator::loss: 0.836595], 0.015707[sec]\n",
      "epoch:[404/1200] [Discriminator::d_loss: 0.676333],[Generator::loss: 0.679707], 0.013865[sec]\n",
      "epoch:[405/1200] [Discriminator::d_loss: 0.669937],[Generator::loss: 0.740867], 0.015269[sec]\n",
      "epoch:[406/1200] [Discriminator::d_loss: 0.637018],[Generator::loss: 1.006501], 0.013242[sec]\n",
      "epoch:[407/1200] [Discriminator::d_loss: 0.588093],[Generator::loss: 0.686495], 0.013277[sec]\n",
      "epoch:[408/1200] [Discriminator::d_loss: 0.678447],[Generator::loss: 0.878298], 0.013157[sec]\n",
      "epoch:[409/1200] [Discriminator::d_loss: 0.622325],[Generator::loss: 0.895111], 0.013385[sec]\n",
      "epoch:[410/1200] [Discriminator::d_loss: 0.695378],[Generator::loss: 0.833345], 0.013084[sec]\n",
      "epoch:[411/1200] [Discriminator::d_loss: 0.525062],[Generator::loss: 0.884307], 0.013230[sec]\n",
      "epoch:[412/1200] [Discriminator::d_loss: 0.621068],[Generator::loss: 1.018025], 0.013808[sec]\n",
      "epoch:[413/1200] [Discriminator::d_loss: 0.637030],[Generator::loss: 0.821316], 0.013073[sec]\n",
      "epoch:[414/1200] [Discriminator::d_loss: 0.751668],[Generator::loss: 0.858423], 0.012988[sec]\n",
      "epoch:[415/1200] [Discriminator::d_loss: 0.703191],[Generator::loss: 1.010850], 0.013038[sec]\n",
      "epoch:[416/1200] [Discriminator::d_loss: 0.633721],[Generator::loss: 1.036110], 0.012971[sec]\n",
      "epoch:[417/1200] [Discriminator::d_loss: 0.624092],[Generator::loss: 0.866408], 0.013808[sec]\n",
      "epoch:[418/1200] [Discriminator::d_loss: 0.686192],[Generator::loss: 0.871725], 0.021339[sec]\n",
      "epoch:[419/1200] [Discriminator::d_loss: 0.663720],[Generator::loss: 0.811613], 0.014643[sec]\n",
      "epoch:[420/1200] [Discriminator::d_loss: 0.624977],[Generator::loss: 0.849296], 0.013286[sec]\n",
      "epoch:[421/1200] [Discriminator::d_loss: 0.656654],[Generator::loss: 0.980511], 0.013057[sec]\n",
      "epoch:[422/1200] [Discriminator::d_loss: 0.695781],[Generator::loss: 0.824538], 0.012912[sec]\n",
      "epoch:[423/1200] [Discriminator::d_loss: 0.667590],[Generator::loss: 0.760536], 0.013162[sec]\n",
      "epoch:[424/1200] [Discriminator::d_loss: 0.672697],[Generator::loss: 0.973277], 0.012855[sec]\n",
      "epoch:[425/1200] [Discriminator::d_loss: 0.651315],[Generator::loss: 0.913059], 0.012972[sec]\n",
      "epoch:[426/1200] [Discriminator::d_loss: 0.593794],[Generator::loss: 0.969597], 0.013810[sec]\n",
      "epoch:[427/1200] [Discriminator::d_loss: 0.629056],[Generator::loss: 0.984402], 0.013058[sec]\n",
      "epoch:[428/1200] [Discriminator::d_loss: 0.724423],[Generator::loss: 0.745799], 0.012989[sec]\n",
      "epoch:[429/1200] [Discriminator::d_loss: 0.707336],[Generator::loss: 0.811052], 0.013045[sec]\n",
      "epoch:[430/1200] [Discriminator::d_loss: 0.641969],[Generator::loss: 1.062472], 0.012835[sec]\n",
      "epoch:[431/1200] [Discriminator::d_loss: 0.804298],[Generator::loss: 0.780539], 0.013113[sec]\n",
      "epoch:[432/1200] [Discriminator::d_loss: 0.647948],[Generator::loss: 0.925411], 0.018042[sec]\n",
      "epoch:[433/1200] [Discriminator::d_loss: 0.654079],[Generator::loss: 0.775960], 0.017066[sec]\n",
      "epoch:[434/1200] [Discriminator::d_loss: 0.668045],[Generator::loss: 0.908053], 0.014134[sec]\n",
      "epoch:[435/1200] [Discriminator::d_loss: 0.637792],[Generator::loss: 0.985589], 0.013556[sec]\n",
      "epoch:[436/1200] [Discriminator::d_loss: 0.704830],[Generator::loss: 0.980387], 0.013128[sec]\n",
      "epoch:[437/1200] [Discriminator::d_loss: 0.635858],[Generator::loss: 0.871450], 0.013247[sec]\n",
      "epoch:[438/1200] [Discriminator::d_loss: 0.659741],[Generator::loss: 0.749519], 0.012991[sec]\n",
      "epoch:[439/1200] [Discriminator::d_loss: 0.650425],[Generator::loss: 0.731389], 0.012865[sec]\n",
      "epoch:[440/1200] [Discriminator::d_loss: 0.618538],[Generator::loss: 0.874435], 0.013903[sec]\n",
      "epoch:[441/1200] [Discriminator::d_loss: 0.686132],[Generator::loss: 0.944779], 0.013027[sec]\n",
      "epoch:[442/1200] [Discriminator::d_loss: 0.687108],[Generator::loss: 0.884499], 0.013124[sec]\n",
      "epoch:[443/1200] [Discriminator::d_loss: 0.730269],[Generator::loss: 0.947707], 0.013165[sec]\n",
      "epoch:[444/1200] [Discriminator::d_loss: 0.717270],[Generator::loss: 0.882500], 0.013014[sec]\n",
      "epoch:[445/1200] [Discriminator::d_loss: 0.718157],[Generator::loss: 0.931446], 0.013246[sec]\n",
      "epoch:[446/1200] [Discriminator::d_loss: 0.669682],[Generator::loss: 1.117206], 0.013184[sec]\n"
     ]
    },
    {
     "name": "stdout",
     "output_type": "stream",
     "text": [
      "epoch:[447/1200] [Discriminator::d_loss: 0.685811],[Generator::loss: 1.002318], 0.014376[sec]\n",
      "epoch:[448/1200] [Discriminator::d_loss: 0.629857],[Generator::loss: 0.817622], 0.017959[sec]\n",
      "epoch:[449/1200] [Discriminator::d_loss: 0.666987],[Generator::loss: 0.929896], 0.013480[sec]\n",
      "epoch:[450/1200] [Discriminator::d_loss: 0.616747],[Generator::loss: 0.932252], 0.013602[sec]\n",
      "epoch:[451/1200] [Discriminator::d_loss: 0.742943],[Generator::loss: 0.886934], 0.013316[sec]\n",
      "epoch:[452/1200] [Discriminator::d_loss: 0.677580],[Generator::loss: 0.884583], 0.013170[sec]\n",
      "epoch:[453/1200] [Discriminator::d_loss: 0.706618],[Generator::loss: 1.073560], 0.013242[sec]\n",
      "epoch:[454/1200] [Discriminator::d_loss: 0.644827],[Generator::loss: 0.861994], 0.013815[sec]\n",
      "epoch:[455/1200] [Discriminator::d_loss: 0.684613],[Generator::loss: 0.938468], 0.013444[sec]\n",
      "epoch:[456/1200] [Discriminator::d_loss: 0.626722],[Generator::loss: 0.850574], 0.013263[sec]\n",
      "epoch:[457/1200] [Discriminator::d_loss: 0.707418],[Generator::loss: 0.914531], 0.013171[sec]\n",
      "epoch:[458/1200] [Discriminator::d_loss: 0.713500],[Generator::loss: 1.045329], 0.013198[sec]\n",
      "epoch:[459/1200] [Discriminator::d_loss: 0.680901],[Generator::loss: 0.982173], 0.013297[sec]\n",
      "epoch:[460/1200] [Discriminator::d_loss: 0.725278],[Generator::loss: 0.784627], 0.013094[sec]\n",
      "epoch:[461/1200] [Discriminator::d_loss: 0.625386],[Generator::loss: 0.949308], 0.014000[sec]\n",
      "epoch:[462/1200] [Discriminator::d_loss: 0.642315],[Generator::loss: 0.836220], 0.017961[sec]\n",
      "epoch:[463/1200] [Discriminator::d_loss: 0.720194],[Generator::loss: 0.812277], 0.013910[sec]\n",
      "epoch:[464/1200] [Discriminator::d_loss: 0.689675],[Generator::loss: 0.881676], 0.013608[sec]\n",
      "epoch:[465/1200] [Discriminator::d_loss: 0.658483],[Generator::loss: 0.756226], 0.013165[sec]\n",
      "epoch:[466/1200] [Discriminator::d_loss: 0.750519],[Generator::loss: 0.907548], 0.012933[sec]\n",
      "epoch:[467/1200] [Discriminator::d_loss: 0.698449],[Generator::loss: 0.978278], 0.012960[sec]\n",
      "epoch:[468/1200] [Discriminator::d_loss: 0.718738],[Generator::loss: 0.909254], 0.013766[sec]\n",
      "epoch:[469/1200] [Discriminator::d_loss: 0.678920],[Generator::loss: 0.783595], 0.013375[sec]\n",
      "epoch:[470/1200] [Discriminator::d_loss: 0.678795],[Generator::loss: 0.802786], 0.012980[sec]\n",
      "epoch:[471/1200] [Discriminator::d_loss: 0.649786],[Generator::loss: 0.995849], 0.013038[sec]\n",
      "epoch:[472/1200] [Discriminator::d_loss: 0.642471],[Generator::loss: 0.810856], 0.013110[sec]\n",
      "epoch:[473/1200] [Discriminator::d_loss: 0.636640],[Generator::loss: 0.897229], 0.013221[sec]\n",
      "epoch:[474/1200] [Discriminator::d_loss: 0.667704],[Generator::loss: 0.862909], 0.012903[sec]\n",
      "epoch:[475/1200] [Discriminator::d_loss: 0.725109],[Generator::loss: 0.743676], 0.013141[sec]\n",
      "epoch:[476/1200] [Discriminator::d_loss: 0.707324],[Generator::loss: 0.814019], 0.014441[sec]\n",
      "epoch:[477/1200] [Discriminator::d_loss: 0.760232],[Generator::loss: 0.797090], 0.014566[sec]\n",
      "epoch:[478/1200] [Discriminator::d_loss: 0.716665],[Generator::loss: 0.982085], 0.015954[sec]\n",
      "epoch:[479/1200] [Discriminator::d_loss: 0.713059],[Generator::loss: 0.705611], 0.013460[sec]\n",
      "epoch:[480/1200] [Discriminator::d_loss: 0.656247],[Generator::loss: 0.952007], 0.013388[sec]\n",
      "epoch:[481/1200] [Discriminator::d_loss: 0.698640],[Generator::loss: 0.813092], 0.013506[sec]\n",
      "epoch:[482/1200] [Discriminator::d_loss: 0.632352],[Generator::loss: 0.874142], 0.013233[sec]\n",
      "epoch:[483/1200] [Discriminator::d_loss: 0.671484],[Generator::loss: 0.810667], 0.014022[sec]\n",
      "epoch:[484/1200] [Discriminator::d_loss: 0.617639],[Generator::loss: 0.835971], 0.012930[sec]\n",
      "epoch:[485/1200] [Discriminator::d_loss: 0.663464],[Generator::loss: 0.802174], 0.013061[sec]\n",
      "epoch:[486/1200] [Discriminator::d_loss: 0.699016],[Generator::loss: 0.770498], 0.013007[sec]\n",
      "epoch:[487/1200] [Discriminator::d_loss: 0.647340],[Generator::loss: 0.751666], 0.013121[sec]\n",
      "epoch:[488/1200] [Discriminator::d_loss: 0.678786],[Generator::loss: 0.782324], 0.013021[sec]\n",
      "epoch:[489/1200] [Discriminator::d_loss: 0.749962],[Generator::loss: 0.905942], 0.013125[sec]\n",
      "epoch:[490/1200] [Discriminator::d_loss: 0.707064],[Generator::loss: 0.749558], 0.014066[sec]\n",
      "epoch:[491/1200] [Discriminator::d_loss: 0.711080],[Generator::loss: 0.879397], 0.013626[sec]\n",
      "epoch:[492/1200] [Discriminator::d_loss: 0.712090],[Generator::loss: 0.944854], 0.017029[sec]\n",
      "epoch:[493/1200] [Discriminator::d_loss: 0.627407],[Generator::loss: 0.793685], 0.015321[sec]\n",
      "epoch:[494/1200] [Discriminator::d_loss: 0.714254],[Generator::loss: 0.827740], 0.013102[sec]\n",
      "epoch:[495/1200] [Discriminator::d_loss: 0.680700],[Generator::loss: 0.766753], 0.013378[sec]\n",
      "epoch:[496/1200] [Discriminator::d_loss: 0.700195],[Generator::loss: 0.735643], 0.013185[sec]\n",
      "epoch:[497/1200] [Discriminator::d_loss: 0.709294],[Generator::loss: 0.842056], 0.013765[sec]\n",
      "epoch:[498/1200] [Discriminator::d_loss: 0.718210],[Generator::loss: 0.722889], 0.013036[sec]\n",
      "epoch:[499/1200] [Discriminator::d_loss: 0.718994],[Generator::loss: 0.881995], 0.013014[sec]\n",
      "epoch:[500/1200] [Discriminator::d_loss: 0.670025],[Generator::loss: 0.757856], 0.012863[sec]\n",
      "epoch:[501/1200] [Discriminator::d_loss: 0.673745],[Generator::loss: 0.820249], 0.013193[sec]\n",
      "epoch:[502/1200] [Discriminator::d_loss: 0.701520],[Generator::loss: 0.847058], 0.013149[sec]\n",
      "epoch:[503/1200] [Discriminator::d_loss: 0.683792],[Generator::loss: 0.817759], 0.013366[sec]\n",
      "epoch:[504/1200] [Discriminator::d_loss: 0.722932],[Generator::loss: 0.928969], 0.014040[sec]\n",
      "epoch:[505/1200] [Discriminator::d_loss: 0.724533],[Generator::loss: 0.835561], 0.013361[sec]\n",
      "epoch:[506/1200] [Discriminator::d_loss: 0.665624],[Generator::loss: 0.780930], 0.013860[sec]\n",
      "epoch:[507/1200] [Discriminator::d_loss: 0.612252],[Generator::loss: 0.828114], 0.014698[sec]\n",
      "epoch:[508/1200] [Discriminator::d_loss: 0.717647],[Generator::loss: 0.781230], 0.019488[sec]\n",
      "epoch:[509/1200] [Discriminator::d_loss: 0.696965],[Generator::loss: 0.828611], 0.013564[sec]\n",
      "epoch:[510/1200] [Discriminator::d_loss: 0.672048],[Generator::loss: 0.783055], 0.013385[sec]\n",
      "epoch:[511/1200] [Discriminator::d_loss: 0.744014],[Generator::loss: 0.658438], 0.013556[sec]\n",
      "epoch:[512/1200] [Discriminator::d_loss: 0.634023],[Generator::loss: 0.840251], 0.013351[sec]\n",
      "epoch:[513/1200] [Discriminator::d_loss: 0.698423],[Generator::loss: 0.817859], 0.013443[sec]\n",
      "epoch:[514/1200] [Discriminator::d_loss: 0.703168],[Generator::loss: 0.823222], 0.012999[sec]\n",
      "epoch:[515/1200] [Discriminator::d_loss: 0.611156],[Generator::loss: 0.893494], 0.013266[sec]\n",
      "epoch:[516/1200] [Discriminator::d_loss: 0.687678],[Generator::loss: 0.786396], 0.012968[sec]\n",
      "epoch:[517/1200] [Discriminator::d_loss: 0.679888],[Generator::loss: 0.859761], 0.013230[sec]\n",
      "epoch:[518/1200] [Discriminator::d_loss: 0.708152],[Generator::loss: 0.802783], 0.014059[sec]\n",
      "epoch:[519/1200] [Discriminator::d_loss: 0.687065],[Generator::loss: 0.817361], 0.013843[sec]\n",
      "epoch:[520/1200] [Discriminator::d_loss: 0.662647],[Generator::loss: 0.780285], 0.013011[sec]\n",
      "epoch:[521/1200] [Discriminator::d_loss: 0.692419],[Generator::loss: 0.825474], 0.013222[sec]\n",
      "epoch:[522/1200] [Discriminator::d_loss: 0.690344],[Generator::loss: 0.849871], 0.014445[sec]\n",
      "epoch:[523/1200] [Discriminator::d_loss: 0.671581],[Generator::loss: 0.878464], 0.017138[sec]\n",
      "epoch:[524/1200] [Discriminator::d_loss: 0.684650],[Generator::loss: 0.820236], 0.013409[sec]\n",
      "epoch:[525/1200] [Discriminator::d_loss: 0.705242],[Generator::loss: 0.907728], 0.014175[sec]\n",
      "epoch:[526/1200] [Discriminator::d_loss: 0.699675],[Generator::loss: 0.851984], 0.013276[sec]\n",
      "epoch:[527/1200] [Discriminator::d_loss: 0.665369],[Generator::loss: 0.800685], 0.013039[sec]\n",
      "epoch:[528/1200] [Discriminator::d_loss: 0.687133],[Generator::loss: 0.809734], 0.013072[sec]\n",
      "epoch:[529/1200] [Discriminator::d_loss: 0.665572],[Generator::loss: 0.850634], 0.012900[sec]\n",
      "epoch:[530/1200] [Discriminator::d_loss: 0.629187],[Generator::loss: 0.722916], 0.013160[sec]\n",
      "epoch:[531/1200] [Discriminator::d_loss: 0.681572],[Generator::loss: 0.811230], 0.013108[sec]\n",
      "epoch:[532/1200] [Discriminator::d_loss: 0.677024],[Generator::loss: 0.735871], 0.013010[sec]\n",
      "epoch:[533/1200] [Discriminator::d_loss: 0.742280],[Generator::loss: 0.920106], 0.014407[sec]\n",
      "epoch:[534/1200] [Discriminator::d_loss: 0.636804],[Generator::loss: 0.740396], 0.013065[sec]\n",
      "epoch:[535/1200] [Discriminator::d_loss: 0.737227],[Generator::loss: 0.824187], 0.013222[sec]\n",
      "epoch:[536/1200] [Discriminator::d_loss: 0.690570],[Generator::loss: 0.747358], 0.013108[sec]\n"
     ]
    },
    {
     "name": "stdout",
     "output_type": "stream",
     "text": [
      "epoch:[537/1200] [Discriminator::d_loss: 0.654266],[Generator::loss: 0.684474], 0.014467[sec]\n",
      "epoch:[538/1200] [Discriminator::d_loss: 0.625649],[Generator::loss: 0.713919], 0.016244[sec]\n",
      "epoch:[539/1200] [Discriminator::d_loss: 0.704734],[Generator::loss: 0.794872], 0.013193[sec]\n",
      "epoch:[540/1200] [Discriminator::d_loss: 0.704114],[Generator::loss: 0.714631], 0.014760[sec]\n",
      "epoch:[541/1200] [Discriminator::d_loss: 0.732276],[Generator::loss: 0.809720], 0.013281[sec]\n",
      "epoch:[542/1200] [Discriminator::d_loss: 0.727910],[Generator::loss: 0.747932], 0.013231[sec]\n",
      "epoch:[543/1200] [Discriminator::d_loss: 0.642069],[Generator::loss: 0.852133], 0.013168[sec]\n",
      "epoch:[544/1200] [Discriminator::d_loss: 0.699304],[Generator::loss: 0.750528], 0.013293[sec]\n",
      "epoch:[545/1200] [Discriminator::d_loss: 0.664349],[Generator::loss: 0.830751], 0.013247[sec]\n",
      "epoch:[546/1200] [Discriminator::d_loss: 0.662334],[Generator::loss: 0.756405], 0.013033[sec]\n",
      "epoch:[547/1200] [Discriminator::d_loss: 0.739221],[Generator::loss: 0.727476], 0.014379[sec]\n",
      "epoch:[548/1200] [Discriminator::d_loss: 0.716296],[Generator::loss: 0.696234], 0.013234[sec]\n",
      "epoch:[549/1200] [Discriminator::d_loss: 0.668176],[Generator::loss: 0.777177], 0.013118[sec]\n",
      "epoch:[550/1200] [Discriminator::d_loss: 0.655100],[Generator::loss: 0.759674], 0.012928[sec]\n",
      "epoch:[551/1200] [Discriminator::d_loss: 0.629288],[Generator::loss: 0.719292], 0.013039[sec]\n",
      "epoch:[552/1200] [Discriminator::d_loss: 0.684301],[Generator::loss: 0.867669], 0.015055[sec]\n",
      "epoch:[553/1200] [Discriminator::d_loss: 0.660027],[Generator::loss: 0.798364], 0.015840[sec]\n",
      "epoch:[554/1200] [Discriminator::d_loss: 0.655411],[Generator::loss: 0.771128], 0.014511[sec]\n",
      "epoch:[555/1200] [Discriminator::d_loss: 0.668767],[Generator::loss: 0.759846], 0.013440[sec]\n",
      "epoch:[556/1200] [Discriminator::d_loss: 0.674262],[Generator::loss: 0.722871], 0.013041[sec]\n",
      "epoch:[557/1200] [Discriminator::d_loss: 0.634115],[Generator::loss: 0.780901], 0.012898[sec]\n",
      "epoch:[558/1200] [Discriminator::d_loss: 0.668380],[Generator::loss: 0.770401], 0.013271[sec]\n",
      "epoch:[559/1200] [Discriminator::d_loss: 0.605111],[Generator::loss: 0.724769], 0.013063[sec]\n",
      "epoch:[560/1200] [Discriminator::d_loss: 0.665523],[Generator::loss: 0.741011], 0.013278[sec]\n",
      "epoch:[561/1200] [Discriminator::d_loss: 0.694053],[Generator::loss: 0.621800], 0.013846[sec]\n",
      "epoch:[562/1200] [Discriminator::d_loss: 0.677951],[Generator::loss: 0.817868], 0.013877[sec]\n",
      "epoch:[563/1200] [Discriminator::d_loss: 0.640008],[Generator::loss: 0.688509], 0.012956[sec]\n",
      "epoch:[564/1200] [Discriminator::d_loss: 0.651126],[Generator::loss: 0.759430], 0.013021[sec]\n",
      "epoch:[565/1200] [Discriminator::d_loss: 0.624771],[Generator::loss: 0.745357], 0.013215[sec]\n",
      "epoch:[566/1200] [Discriminator::d_loss: 0.703871],[Generator::loss: 0.747208], 0.012985[sec]\n",
      "epoch:[567/1200] [Discriminator::d_loss: 0.659872],[Generator::loss: 0.687328], 0.017347[sec]\n",
      "epoch:[568/1200] [Discriminator::d_loss: 0.702769],[Generator::loss: 0.834860], 0.016738[sec]\n",
      "epoch:[569/1200] [Discriminator::d_loss: 0.661209],[Generator::loss: 0.756747], 0.013536[sec]\n",
      "epoch:[570/1200] [Discriminator::d_loss: 0.733112],[Generator::loss: 0.711765], 0.013315[sec]\n",
      "epoch:[571/1200] [Discriminator::d_loss: 0.618465],[Generator::loss: 0.787961], 0.013081[sec]\n",
      "epoch:[572/1200] [Discriminator::d_loss: 0.671732],[Generator::loss: 0.778611], 0.012958[sec]\n",
      "epoch:[573/1200] [Discriminator::d_loss: 0.699285],[Generator::loss: 0.612721], 0.013215[sec]\n",
      "epoch:[574/1200] [Discriminator::d_loss: 0.712306],[Generator::loss: 0.723563], 0.013098[sec]\n",
      "epoch:[575/1200] [Discriminator::d_loss: 0.694081],[Generator::loss: 0.721276], 0.013172[sec]\n",
      "epoch:[576/1200] [Discriminator::d_loss: 0.637058],[Generator::loss: 0.791993], 0.014282[sec]\n",
      "epoch:[577/1200] [Discriminator::d_loss: 0.657618],[Generator::loss: 0.730743], 0.013654[sec]\n",
      "epoch:[578/1200] [Discriminator::d_loss: 0.696894],[Generator::loss: 0.817295], 0.013071[sec]\n",
      "epoch:[579/1200] [Discriminator::d_loss: 0.649055],[Generator::loss: 0.718256], 0.013136[sec]\n",
      "epoch:[580/1200] [Discriminator::d_loss: 0.630138],[Generator::loss: 0.780440], 0.013074[sec]\n",
      "epoch:[581/1200] [Discriminator::d_loss: 0.662903],[Generator::loss: 0.881580], 0.013134[sec]\n",
      "epoch:[582/1200] [Discriminator::d_loss: 0.734117],[Generator::loss: 0.646736], 0.014348[sec]\n",
      "epoch:[583/1200] [Discriminator::d_loss: 0.629175],[Generator::loss: 0.869921], 0.019871[sec]\n",
      "epoch:[584/1200] [Discriminator::d_loss: 0.700862],[Generator::loss: 0.793518], 0.013559[sec]\n",
      "epoch:[585/1200] [Discriminator::d_loss: 0.700472],[Generator::loss: 0.725246], 0.013108[sec]\n",
      "epoch:[586/1200] [Discriminator::d_loss: 0.679780],[Generator::loss: 0.752334], 0.013104[sec]\n",
      "epoch:[587/1200] [Discriminator::d_loss: 0.661246],[Generator::loss: 0.661198], 0.013040[sec]\n",
      "epoch:[588/1200] [Discriminator::d_loss: 0.625784],[Generator::loss: 0.697372], 0.013397[sec]\n",
      "epoch:[589/1200] [Discriminator::d_loss: 0.656987],[Generator::loss: 0.904901], 0.012899[sec]\n",
      "epoch:[590/1200] [Discriminator::d_loss: 0.629604],[Generator::loss: 0.744057], 0.013928[sec]\n",
      "epoch:[591/1200] [Discriminator::d_loss: 0.709099],[Generator::loss: 0.770871], 0.013125[sec]\n",
      "epoch:[592/1200] [Discriminator::d_loss: 0.682622],[Generator::loss: 0.840524], 0.013209[sec]\n",
      "epoch:[593/1200] [Discriminator::d_loss: 0.672921],[Generator::loss: 0.759525], 0.013242[sec]\n",
      "epoch:[594/1200] [Discriminator::d_loss: 0.686143],[Generator::loss: 0.660433], 0.013012[sec]\n",
      "epoch:[595/1200] [Discriminator::d_loss: 0.693159],[Generator::loss: 0.874117], 0.013182[sec]\n",
      "epoch:[596/1200] [Discriminator::d_loss: 0.653905],[Generator::loss: 0.645136], 0.012986[sec]\n",
      "epoch:[597/1200] [Discriminator::d_loss: 0.650385],[Generator::loss: 0.792868], 0.019027[sec]\n",
      "epoch:[598/1200] [Discriminator::d_loss: 0.700978],[Generator::loss: 0.878933], 0.016166[sec]\n",
      "epoch:[599/1200] [Discriminator::d_loss: 0.697703],[Generator::loss: 0.893236], 0.013254[sec]\n",
      "epoch:[600/1200] [Discriminator::d_loss: 0.634347],[Generator::loss: 0.697175], 0.013398[sec]\n",
      "epoch:[601/1200] [Discriminator::d_loss: 0.670305],[Generator::loss: 0.782854], 0.012935[sec]\n",
      "epoch:[602/1200] [Discriminator::d_loss: 0.746318],[Generator::loss: 0.805848], 0.013056[sec]\n",
      "epoch:[603/1200] [Discriminator::d_loss: 0.710922],[Generator::loss: 0.814436], 0.013226[sec]\n",
      "epoch:[604/1200] [Discriminator::d_loss: 0.642840],[Generator::loss: 0.777306], 0.013991[sec]\n",
      "epoch:[605/1200] [Discriminator::d_loss: 0.643523],[Generator::loss: 0.698479], 0.013058[sec]\n",
      "epoch:[606/1200] [Discriminator::d_loss: 0.675816],[Generator::loss: 0.680982], 0.012994[sec]\n",
      "epoch:[607/1200] [Discriminator::d_loss: 0.678319],[Generator::loss: 0.845967], 0.013044[sec]\n",
      "epoch:[608/1200] [Discriminator::d_loss: 0.622370],[Generator::loss: 0.638750], 0.013081[sec]\n",
      "epoch:[609/1200] [Discriminator::d_loss: 0.663502],[Generator::loss: 0.761092], 0.013234[sec]\n",
      "epoch:[610/1200] [Discriminator::d_loss: 0.747445],[Generator::loss: 0.749471], 0.013049[sec]\n",
      "epoch:[611/1200] [Discriminator::d_loss: 0.707034],[Generator::loss: 0.758170], 0.013378[sec]\n",
      "epoch:[612/1200] [Discriminator::d_loss: 0.753972],[Generator::loss: 0.794053], 0.013810[sec]\n",
      "epoch:[613/1200] [Discriminator::d_loss: 0.673234],[Generator::loss: 0.834565], 0.016129[sec]\n",
      "epoch:[614/1200] [Discriminator::d_loss: 0.676563],[Generator::loss: 0.776047], 0.013399[sec]\n",
      "epoch:[615/1200] [Discriminator::d_loss: 0.631029],[Generator::loss: 0.724370], 0.014279[sec]\n",
      "epoch:[616/1200] [Discriminator::d_loss: 0.687549],[Generator::loss: 0.754424], 0.013363[sec]\n",
      "epoch:[617/1200] [Discriminator::d_loss: 0.657607],[Generator::loss: 0.740965], 0.013115[sec]\n",
      "epoch:[618/1200] [Discriminator::d_loss: 0.683890],[Generator::loss: 0.728735], 0.015584[sec]\n",
      "epoch:[619/1200] [Discriminator::d_loss: 0.661447],[Generator::loss: 0.706496], 0.012984[sec]\n",
      "epoch:[620/1200] [Discriminator::d_loss: 0.696353],[Generator::loss: 0.738836], 0.013073[sec]\n",
      "epoch:[621/1200] [Discriminator::d_loss: 0.661150],[Generator::loss: 0.884540], 0.013263[sec]\n",
      "epoch:[622/1200] [Discriminator::d_loss: 0.665622],[Generator::loss: 0.771015], 0.013235[sec]\n",
      "epoch:[623/1200] [Discriminator::d_loss: 0.694941],[Generator::loss: 0.751115], 0.013106[sec]\n",
      "epoch:[624/1200] [Discriminator::d_loss: 0.721155],[Generator::loss: 0.746839], 0.013169[sec]\n",
      "epoch:[625/1200] [Discriminator::d_loss: 0.697887],[Generator::loss: 0.813412], 0.013841[sec]\n",
      "epoch:[626/1200] [Discriminator::d_loss: 0.693818],[Generator::loss: 0.758175], 0.013387[sec]\n"
     ]
    },
    {
     "name": "stdout",
     "output_type": "stream",
     "text": [
      "epoch:[627/1200] [Discriminator::d_loss: 0.680358],[Generator::loss: 0.780726], 0.014761[sec]\n",
      "epoch:[628/1200] [Discriminator::d_loss: 0.633414],[Generator::loss: 0.743184], 0.015501[sec]\n",
      "epoch:[629/1200] [Discriminator::d_loss: 0.675468],[Generator::loss: 0.763999], 0.013634[sec]\n",
      "epoch:[630/1200] [Discriminator::d_loss: 0.675952],[Generator::loss: 0.760133], 0.013455[sec]\n",
      "epoch:[631/1200] [Discriminator::d_loss: 0.678400],[Generator::loss: 0.808514], 0.013017[sec]\n",
      "epoch:[632/1200] [Discriminator::d_loss: 0.657928],[Generator::loss: 0.814342], 0.013655[sec]\n",
      "epoch:[633/1200] [Discriminator::d_loss: 0.666452],[Generator::loss: 0.847756], 0.013912[sec]\n",
      "epoch:[634/1200] [Discriminator::d_loss: 0.638098],[Generator::loss: 0.823510], 0.013100[sec]\n",
      "epoch:[635/1200] [Discriminator::d_loss: 0.653135],[Generator::loss: 0.878514], 0.013391[sec]\n",
      "epoch:[636/1200] [Discriminator::d_loss: 0.717522],[Generator::loss: 0.794440], 0.013216[sec]\n",
      "epoch:[637/1200] [Discriminator::d_loss: 0.631660],[Generator::loss: 0.787661], 0.013117[sec]\n",
      "epoch:[638/1200] [Discriminator::d_loss: 0.632152],[Generator::loss: 0.793341], 0.013177[sec]\n",
      "epoch:[639/1200] [Discriminator::d_loss: 0.683968],[Generator::loss: 0.699764], 0.013266[sec]\n",
      "epoch:[640/1200] [Discriminator::d_loss: 0.737342],[Generator::loss: 0.738306], 0.014396[sec]\n",
      "epoch:[641/1200] [Discriminator::d_loss: 0.716886],[Generator::loss: 0.798956], 0.013366[sec]\n",
      "epoch:[642/1200] [Discriminator::d_loss: 0.655272],[Generator::loss: 0.800466], 0.014318[sec]\n",
      "epoch:[643/1200] [Discriminator::d_loss: 0.658742],[Generator::loss: 0.852719], 0.017129[sec]\n",
      "epoch:[644/1200] [Discriminator::d_loss: 0.628859],[Generator::loss: 0.763687], 0.013190[sec]\n",
      "epoch:[645/1200] [Discriminator::d_loss: 0.667008],[Generator::loss: 0.779640], 0.013879[sec]\n",
      "epoch:[646/1200] [Discriminator::d_loss: 0.660548],[Generator::loss: 0.800824], 0.012824[sec]\n",
      "epoch:[647/1200] [Discriminator::d_loss: 0.675911],[Generator::loss: 0.746101], 0.014324[sec]\n",
      "epoch:[648/1200] [Discriminator::d_loss: 0.698019],[Generator::loss: 0.824569], 0.013433[sec]\n",
      "epoch:[649/1200] [Discriminator::d_loss: 0.666795],[Generator::loss: 0.792731], 0.013066[sec]\n",
      "epoch:[650/1200] [Discriminator::d_loss: 0.684811],[Generator::loss: 0.838530], 0.013189[sec]\n",
      "epoch:[651/1200] [Discriminator::d_loss: 0.664811],[Generator::loss: 0.753052], 0.013243[sec]\n",
      "epoch:[652/1200] [Discriminator::d_loss: 0.625385],[Generator::loss: 0.818407], 0.013159[sec]\n",
      "epoch:[653/1200] [Discriminator::d_loss: 0.684493],[Generator::loss: 0.807156], 0.013173[sec]\n",
      "epoch:[654/1200] [Discriminator::d_loss: 0.738528],[Generator::loss: 0.722014], 0.014081[sec]\n",
      "epoch:[655/1200] [Discriminator::d_loss: 0.721822],[Generator::loss: 0.862948], 0.013097[sec]\n",
      "epoch:[656/1200] [Discriminator::d_loss: 0.642169],[Generator::loss: 0.674968], 0.013147[sec]\n",
      "epoch:[657/1200] [Discriminator::d_loss: 0.672282],[Generator::loss: 0.827238], 0.013532[sec]\n",
      "epoch:[658/1200] [Discriminator::d_loss: 0.665553],[Generator::loss: 0.798640], 0.021168[sec]\n",
      "epoch:[659/1200] [Discriminator::d_loss: 0.681367],[Generator::loss: 0.757679], 0.013226[sec]\n",
      "epoch:[660/1200] [Discriminator::d_loss: 0.680219],[Generator::loss: 0.781679], 0.013204[sec]\n",
      "epoch:[661/1200] [Discriminator::d_loss: 0.678443],[Generator::loss: 0.825247], 0.014366[sec]\n",
      "epoch:[662/1200] [Discriminator::d_loss: 0.728791],[Generator::loss: 0.787895], 0.013217[sec]\n",
      "epoch:[663/1200] [Discriminator::d_loss: 0.645035],[Generator::loss: 0.856330], 0.013141[sec]\n",
      "epoch:[664/1200] [Discriminator::d_loss: 0.647552],[Generator::loss: 0.824128], 0.013207[sec]\n",
      "epoch:[665/1200] [Discriminator::d_loss: 0.672079],[Generator::loss: 0.742520], 0.013002[sec]\n",
      "epoch:[666/1200] [Discriminator::d_loss: 0.693024],[Generator::loss: 0.832862], 0.013114[sec]\n",
      "epoch:[667/1200] [Discriminator::d_loss: 0.655715],[Generator::loss: 0.790974], 0.012885[sec]\n",
      "epoch:[668/1200] [Discriminator::d_loss: 0.640752],[Generator::loss: 0.776013], 0.014171[sec]\n",
      "epoch:[669/1200] [Discriminator::d_loss: 0.638893],[Generator::loss: 0.732090], 0.013371[sec]\n",
      "epoch:[670/1200] [Discriminator::d_loss: 0.666004],[Generator::loss: 0.691122], 0.013220[sec]\n",
      "epoch:[671/1200] [Discriminator::d_loss: 0.661540],[Generator::loss: 0.857125], 0.013319[sec]\n",
      "epoch:[672/1200] [Discriminator::d_loss: 0.658240],[Generator::loss: 0.865121], 0.015255[sec]\n",
      "epoch:[673/1200] [Discriminator::d_loss: 0.684902],[Generator::loss: 0.768055], 0.018266[sec]\n",
      "epoch:[674/1200] [Discriminator::d_loss: 0.757072],[Generator::loss: 0.787198], 0.015450[sec]\n",
      "epoch:[675/1200] [Discriminator::d_loss: 0.667381],[Generator::loss: 0.800825], 0.015842[sec]\n",
      "epoch:[676/1200] [Discriminator::d_loss: 0.667143],[Generator::loss: 0.767279], 0.013679[sec]\n",
      "epoch:[677/1200] [Discriminator::d_loss: 0.683456],[Generator::loss: 0.753553], 0.013653[sec]\n",
      "epoch:[678/1200] [Discriminator::d_loss: 0.680591],[Generator::loss: 0.801397], 0.013203[sec]\n",
      "epoch:[679/1200] [Discriminator::d_loss: 0.697586],[Generator::loss: 0.773797], 0.013218[sec]\n",
      "epoch:[680/1200] [Discriminator::d_loss: 0.676855],[Generator::loss: 0.784763], 0.012858[sec]\n",
      "epoch:[681/1200] [Discriminator::d_loss: 0.641188],[Generator::loss: 0.723126], 0.013104[sec]\n",
      "epoch:[682/1200] [Discriminator::d_loss: 0.671523],[Generator::loss: 0.695147], 0.013566[sec]\n",
      "epoch:[683/1200] [Discriminator::d_loss: 0.677378],[Generator::loss: 0.766544], 0.013418[sec]\n",
      "epoch:[684/1200] [Discriminator::d_loss: 0.675160],[Generator::loss: 0.660559], 0.013178[sec]\n",
      "epoch:[685/1200] [Discriminator::d_loss: 0.657197],[Generator::loss: 0.757547], 0.013191[sec]\n",
      "epoch:[686/1200] [Discriminator::d_loss: 0.698938],[Generator::loss: 0.816441], 0.013341[sec]\n",
      "epoch:[687/1200] [Discriminator::d_loss: 0.658020],[Generator::loss: 0.768482], 0.019562[sec]\n",
      "epoch:[688/1200] [Discriminator::d_loss: 0.675897],[Generator::loss: 0.793323], 0.017400[sec]\n",
      "epoch:[689/1200] [Discriminator::d_loss: 0.652432],[Generator::loss: 0.779946], 0.014655[sec]\n",
      "epoch:[690/1200] [Discriminator::d_loss: 0.680291],[Generator::loss: 0.770647], 0.013401[sec]\n",
      "epoch:[691/1200] [Discriminator::d_loss: 0.660985],[Generator::loss: 0.707439], 0.013006[sec]\n",
      "epoch:[692/1200] [Discriminator::d_loss: 0.666351],[Generator::loss: 0.708232], 0.013011[sec]\n",
      "epoch:[693/1200] [Discriminator::d_loss: 0.715247],[Generator::loss: 0.709795], 0.013075[sec]\n",
      "epoch:[694/1200] [Discriminator::d_loss: 0.643503],[Generator::loss: 0.723955], 0.012948[sec]\n",
      "epoch:[695/1200] [Discriminator::d_loss: 0.692796],[Generator::loss: 0.729171], 0.012938[sec]\n",
      "epoch:[696/1200] [Discriminator::d_loss: 0.681121],[Generator::loss: 0.882257], 0.013885[sec]\n",
      "epoch:[697/1200] [Discriminator::d_loss: 0.677444],[Generator::loss: 0.710111], 0.013368[sec]\n",
      "epoch:[698/1200] [Discriminator::d_loss: 0.666866],[Generator::loss: 0.685525], 0.012985[sec]\n",
      "epoch:[699/1200] [Discriminator::d_loss: 0.671473],[Generator::loss: 0.763227], 0.012965[sec]\n",
      "epoch:[700/1200] [Discriminator::d_loss: 0.645304],[Generator::loss: 0.755263], 0.013034[sec]\n",
      "epoch:[701/1200] [Discriminator::d_loss: 0.698651],[Generator::loss: 0.745907], 0.014599[sec]\n",
      "epoch:[702/1200] [Discriminator::d_loss: 0.709271],[Generator::loss: 0.830731], 0.016900[sec]\n",
      "epoch:[703/1200] [Discriminator::d_loss: 0.673425],[Generator::loss: 0.724691], 0.014808[sec]\n",
      "epoch:[704/1200] [Discriminator::d_loss: 0.713147],[Generator::loss: 0.770814], 0.013414[sec]\n",
      "epoch:[705/1200] [Discriminator::d_loss: 0.717289],[Generator::loss: 0.825368], 0.013044[sec]\n",
      "epoch:[706/1200] [Discriminator::d_loss: 0.681976],[Generator::loss: 0.736542], 0.013304[sec]\n",
      "epoch:[707/1200] [Discriminator::d_loss: 0.724378],[Generator::loss: 0.818553], 0.013024[sec]\n",
      "epoch:[708/1200] [Discriminator::d_loss: 0.647493],[Generator::loss: 0.744886], 0.012869[sec]\n",
      "epoch:[709/1200] [Discriminator::d_loss: 0.616759],[Generator::loss: 0.722077], 0.013100[sec]\n",
      "epoch:[710/1200] [Discriminator::d_loss: 0.702272],[Generator::loss: 0.727921], 0.013942[sec]\n",
      "epoch:[711/1200] [Discriminator::d_loss: 0.657877],[Generator::loss: 0.763678], 0.012943[sec]\n",
      "epoch:[712/1200] [Discriminator::d_loss: 0.628469],[Generator::loss: 0.770266], 0.012761[sec]\n",
      "epoch:[713/1200] [Discriminator::d_loss: 0.636481],[Generator::loss: 0.723085], 0.012954[sec]\n",
      "epoch:[714/1200] [Discriminator::d_loss: 0.716648],[Generator::loss: 0.794259], 0.013052[sec]\n",
      "epoch:[715/1200] [Discriminator::d_loss: 0.717300],[Generator::loss: 0.797992], 0.013060[sec]\n"
     ]
    },
    {
     "name": "stdout",
     "output_type": "stream",
     "text": [
      "epoch:[716/1200] [Discriminator::d_loss: 0.640814],[Generator::loss: 0.727573], 0.014895[sec]\n",
      "epoch:[717/1200] [Discriminator::d_loss: 0.702228],[Generator::loss: 0.777549], 0.017176[sec]\n",
      "epoch:[718/1200] [Discriminator::d_loss: 0.669453],[Generator::loss: 0.704947], 0.014873[sec]\n",
      "epoch:[719/1200] [Discriminator::d_loss: 0.688232],[Generator::loss: 0.804932], 0.013325[sec]\n",
      "epoch:[720/1200] [Discriminator::d_loss: 0.678684],[Generator::loss: 0.690600], 0.013015[sec]\n",
      "epoch:[721/1200] [Discriminator::d_loss: 0.670458],[Generator::loss: 0.852211], 0.013120[sec]\n",
      "epoch:[722/1200] [Discriminator::d_loss: 0.644813],[Generator::loss: 0.787532], 0.013061[sec]\n",
      "epoch:[723/1200] [Discriminator::d_loss: 0.676593],[Generator::loss: 0.671589], 0.013141[sec]\n",
      "epoch:[724/1200] [Discriminator::d_loss: 0.694927],[Generator::loss: 0.714695], 0.013670[sec]\n",
      "epoch:[725/1200] [Discriminator::d_loss: 0.698660],[Generator::loss: 0.776594], 0.012948[sec]\n",
      "epoch:[726/1200] [Discriminator::d_loss: 0.704612],[Generator::loss: 0.707519], 0.012894[sec]\n",
      "epoch:[727/1200] [Discriminator::d_loss: 0.706034],[Generator::loss: 0.758927], 0.012946[sec]\n",
      "epoch:[728/1200] [Discriminator::d_loss: 0.683973],[Generator::loss: 0.815149], 0.013356[sec]\n",
      "epoch:[729/1200] [Discriminator::d_loss: 0.679031],[Generator::loss: 0.801608], 0.013164[sec]\n",
      "epoch:[730/1200] [Discriminator::d_loss: 0.689965],[Generator::loss: 0.846124], 0.013244[sec]\n",
      "epoch:[731/1200] [Discriminator::d_loss: 0.673179],[Generator::loss: 0.767548], 0.014273[sec]\n",
      "epoch:[732/1200] [Discriminator::d_loss: 0.672513],[Generator::loss: 0.745002], 0.016761[sec]\n",
      "epoch:[733/1200] [Discriminator::d_loss: 0.696264],[Generator::loss: 0.747150], 0.013269[sec]\n",
      "epoch:[734/1200] [Discriminator::d_loss: 0.657274],[Generator::loss: 0.825825], 0.013435[sec]\n",
      "epoch:[735/1200] [Discriminator::d_loss: 0.675225],[Generator::loss: 0.745594], 0.013047[sec]\n",
      "epoch:[736/1200] [Discriminator::d_loss: 0.684236],[Generator::loss: 0.798209], 0.012969[sec]\n",
      "epoch:[737/1200] [Discriminator::d_loss: 0.704681],[Generator::loss: 0.764046], 0.012967[sec]\n",
      "epoch:[738/1200] [Discriminator::d_loss: 0.669438],[Generator::loss: 0.754966], 0.013317[sec]\n",
      "epoch:[739/1200] [Discriminator::d_loss: 0.712299],[Generator::loss: 0.700196], 0.014701[sec]\n",
      "epoch:[740/1200] [Discriminator::d_loss: 0.674199],[Generator::loss: 0.812613], 0.012834[sec]\n",
      "epoch:[741/1200] [Discriminator::d_loss: 0.691112],[Generator::loss: 0.775075], 0.012980[sec]\n",
      "epoch:[742/1200] [Discriminator::d_loss: 0.724375],[Generator::loss: 0.770324], 0.013041[sec]\n",
      "epoch:[743/1200] [Discriminator::d_loss: 0.661820],[Generator::loss: 0.719159], 0.012860[sec]\n",
      "epoch:[744/1200] [Discriminator::d_loss: 0.680530],[Generator::loss: 0.742519], 0.013204[sec]\n",
      "epoch:[745/1200] [Discriminator::d_loss: 0.695108],[Generator::loss: 0.796875], 0.013001[sec]\n",
      "epoch:[746/1200] [Discriminator::d_loss: 0.663564],[Generator::loss: 0.786181], 0.015976[sec]\n",
      "epoch:[747/1200] [Discriminator::d_loss: 0.670627],[Generator::loss: 0.718924], 0.017176[sec]\n",
      "epoch:[748/1200] [Discriminator::d_loss: 0.678887],[Generator::loss: 0.733241], 0.013707[sec]\n",
      "epoch:[749/1200] [Discriminator::d_loss: 0.689644],[Generator::loss: 0.779845], 0.013330[sec]\n",
      "epoch:[750/1200] [Discriminator::d_loss: 0.671475],[Generator::loss: 0.788268], 0.013277[sec]\n",
      "epoch:[751/1200] [Discriminator::d_loss: 0.686470],[Generator::loss: 0.751473], 0.013252[sec]\n",
      "epoch:[752/1200] [Discriminator::d_loss: 0.640076],[Generator::loss: 0.806787], 0.012976[sec]\n",
      "epoch:[753/1200] [Discriminator::d_loss: 0.661569],[Generator::loss: 0.750508], 0.015562[sec]\n",
      "epoch:[754/1200] [Discriminator::d_loss: 0.653832],[Generator::loss: 0.759513], 0.013168[sec]\n",
      "epoch:[755/1200] [Discriminator::d_loss: 0.682441],[Generator::loss: 0.723734], 0.013061[sec]\n",
      "epoch:[756/1200] [Discriminator::d_loss: 0.643647],[Generator::loss: 0.802887], 0.013229[sec]\n",
      "epoch:[757/1200] [Discriminator::d_loss: 0.724346],[Generator::loss: 0.711522], 0.013088[sec]\n",
      "epoch:[758/1200] [Discriminator::d_loss: 0.665682],[Generator::loss: 0.745949], 0.013154[sec]\n",
      "epoch:[759/1200] [Discriminator::d_loss: 0.652559],[Generator::loss: 0.699305], 0.013037[sec]\n",
      "epoch:[760/1200] [Discriminator::d_loss: 0.727190],[Generator::loss: 0.770346], 0.015647[sec]\n",
      "epoch:[761/1200] [Discriminator::d_loss: 0.664857],[Generator::loss: 0.841733], 0.014806[sec]\n",
      "epoch:[762/1200] [Discriminator::d_loss: 0.696534],[Generator::loss: 0.760337], 0.015839[sec]\n",
      "epoch:[763/1200] [Discriminator::d_loss: 0.690614],[Generator::loss: 0.752418], 0.013970[sec]\n",
      "epoch:[764/1200] [Discriminator::d_loss: 0.645823],[Generator::loss: 0.708880], 0.013210[sec]\n",
      "epoch:[765/1200] [Discriminator::d_loss: 0.678076],[Generator::loss: 0.812108], 0.013095[sec]\n",
      "epoch:[766/1200] [Discriminator::d_loss: 0.664403],[Generator::loss: 0.772099], 0.012949[sec]\n",
      "epoch:[767/1200] [Discriminator::d_loss: 0.664722],[Generator::loss: 0.724157], 0.013695[sec]\n",
      "epoch:[768/1200] [Discriminator::d_loss: 0.645508],[Generator::loss: 0.764747], 0.013001[sec]\n",
      "epoch:[769/1200] [Discriminator::d_loss: 0.685998],[Generator::loss: 0.739203], 0.013133[sec]\n",
      "epoch:[770/1200] [Discriminator::d_loss: 0.681583],[Generator::loss: 0.781693], 0.013305[sec]\n",
      "epoch:[771/1200] [Discriminator::d_loss: 0.691316],[Generator::loss: 0.821378], 0.013092[sec]\n",
      "epoch:[772/1200] [Discriminator::d_loss: 0.714207],[Generator::loss: 0.715529], 0.013060[sec]\n",
      "epoch:[773/1200] [Discriminator::d_loss: 0.680207],[Generator::loss: 0.806025], 0.013144[sec]\n",
      "epoch:[774/1200] [Discriminator::d_loss: 0.656841],[Generator::loss: 0.830647], 0.016038[sec]\n",
      "epoch:[775/1200] [Discriminator::d_loss: 0.704435],[Generator::loss: 0.686885], 0.013306[sec]\n",
      "epoch:[776/1200] [Discriminator::d_loss: 0.719341],[Generator::loss: 0.756206], 0.014761[sec]\n",
      "epoch:[777/1200] [Discriminator::d_loss: 0.663485],[Generator::loss: 0.793269], 0.016986[sec]\n",
      "epoch:[778/1200] [Discriminator::d_loss: 0.746552],[Generator::loss: 0.750513], 0.013336[sec]\n",
      "epoch:[779/1200] [Discriminator::d_loss: 0.650158],[Generator::loss: 0.749759], 0.013938[sec]\n",
      "epoch:[780/1200] [Discriminator::d_loss: 0.668954],[Generator::loss: 0.741604], 0.013044[sec]\n",
      "epoch:[781/1200] [Discriminator::d_loss: 0.624554],[Generator::loss: 0.760406], 0.014292[sec]\n",
      "epoch:[782/1200] [Discriminator::d_loss: 0.699058],[Generator::loss: 0.846561], 0.013243[sec]\n",
      "epoch:[783/1200] [Discriminator::d_loss: 0.719585],[Generator::loss: 0.759790], 0.013275[sec]\n",
      "epoch:[784/1200] [Discriminator::d_loss: 0.655045],[Generator::loss: 0.760330], 0.013259[sec]\n",
      "epoch:[785/1200] [Discriminator::d_loss: 0.741885],[Generator::loss: 0.704496], 0.013346[sec]\n",
      "epoch:[786/1200] [Discriminator::d_loss: 0.650818],[Generator::loss: 0.703743], 0.013149[sec]\n",
      "epoch:[787/1200] [Discriminator::d_loss: 0.710757],[Generator::loss: 0.789641], 0.012931[sec]\n",
      "epoch:[788/1200] [Discriminator::d_loss: 0.668005],[Generator::loss: 0.731175], 0.013406[sec]\n",
      "epoch:[789/1200] [Discriminator::d_loss: 0.667942],[Generator::loss: 0.758467], 0.014320[sec]\n",
      "epoch:[790/1200] [Discriminator::d_loss: 0.700048],[Generator::loss: 0.819901], 0.012981[sec]\n",
      "epoch:[791/1200] [Discriminator::d_loss: 0.701405],[Generator::loss: 0.753337], 0.013804[sec]\n",
      "epoch:[792/1200] [Discriminator::d_loss: 0.662601],[Generator::loss: 0.773759], 0.018333[sec]\n",
      "epoch:[793/1200] [Discriminator::d_loss: 0.719593],[Generator::loss: 0.719500], 0.013352[sec]\n",
      "epoch:[794/1200] [Discriminator::d_loss: 0.706821],[Generator::loss: 0.747792], 0.013253[sec]\n",
      "epoch:[795/1200] [Discriminator::d_loss: 0.654496],[Generator::loss: 0.753116], 0.013953[sec]\n",
      "epoch:[796/1200] [Discriminator::d_loss: 0.652113],[Generator::loss: 0.721177], 0.013428[sec]\n",
      "epoch:[797/1200] [Discriminator::d_loss: 0.621117],[Generator::loss: 0.735276], 0.012908[sec]\n",
      "epoch:[798/1200] [Discriminator::d_loss: 0.678739],[Generator::loss: 0.692846], 0.013143[sec]\n",
      "epoch:[799/1200] [Discriminator::d_loss: 0.703570],[Generator::loss: 0.711308], 0.013341[sec]\n",
      "epoch:[800/1200] [Discriminator::d_loss: 0.637790],[Generator::loss: 0.773272], 0.013218[sec]\n",
      "epoch:[801/1200] [Discriminator::d_loss: 0.674925],[Generator::loss: 0.759388], 0.012932[sec]\n",
      "epoch:[802/1200] [Discriminator::d_loss: 0.698105],[Generator::loss: 0.725706], 0.013151[sec]\n",
      "epoch:[803/1200] [Discriminator::d_loss: 0.662132],[Generator::loss: 0.648761], 0.013940[sec]\n",
      "epoch:[804/1200] [Discriminator::d_loss: 0.692971],[Generator::loss: 0.816205], 0.013348[sec]\n",
      "epoch:[805/1200] [Discriminator::d_loss: 0.661525],[Generator::loss: 0.762798], 0.012904[sec]\n"
     ]
    },
    {
     "name": "stdout",
     "output_type": "stream",
     "text": [
      "epoch:[806/1200] [Discriminator::d_loss: 0.710682],[Generator::loss: 0.737325], 0.015054[sec]\n",
      "epoch:[807/1200] [Discriminator::d_loss: 0.668093],[Generator::loss: 0.757533], 0.018504[sec]\n",
      "epoch:[808/1200] [Discriminator::d_loss: 0.649961],[Generator::loss: 0.788541], 0.013098[sec]\n",
      "epoch:[809/1200] [Discriminator::d_loss: 0.709151],[Generator::loss: 0.784812], 0.013512[sec]\n",
      "epoch:[810/1200] [Discriminator::d_loss: 0.648819],[Generator::loss: 0.725578], 0.014297[sec]\n",
      "epoch:[811/1200] [Discriminator::d_loss: 0.707059],[Generator::loss: 0.751723], 0.012916[sec]\n",
      "epoch:[812/1200] [Discriminator::d_loss: 0.660917],[Generator::loss: 0.718077], 0.013100[sec]\n",
      "epoch:[813/1200] [Discriminator::d_loss: 0.660778],[Generator::loss: 0.795639], 0.013460[sec]\n",
      "epoch:[814/1200] [Discriminator::d_loss: 0.674600],[Generator::loss: 0.818185], 0.013131[sec]\n",
      "epoch:[815/1200] [Discriminator::d_loss: 0.698010],[Generator::loss: 0.802313], 0.012969[sec]\n",
      "epoch:[816/1200] [Discriminator::d_loss: 0.641512],[Generator::loss: 0.754742], 0.013013[sec]\n",
      "epoch:[817/1200] [Discriminator::d_loss: 0.678003],[Generator::loss: 0.756400], 0.014065[sec]\n",
      "epoch:[818/1200] [Discriminator::d_loss: 0.657595],[Generator::loss: 0.744665], 0.013154[sec]\n",
      "epoch:[819/1200] [Discriminator::d_loss: 0.627138],[Generator::loss: 0.737622], 0.013195[sec]\n",
      "epoch:[820/1200] [Discriminator::d_loss: 0.653858],[Generator::loss: 0.789500], 0.013041[sec]\n",
      "epoch:[821/1200] [Discriminator::d_loss: 0.665256],[Generator::loss: 0.802094], 0.013271[sec]\n",
      "epoch:[822/1200] [Discriminator::d_loss: 0.725063],[Generator::loss: 0.765285], 0.016641[sec]\n",
      "epoch:[823/1200] [Discriminator::d_loss: 0.629482],[Generator::loss: 0.703289], 0.013630[sec]\n",
      "epoch:[824/1200] [Discriminator::d_loss: 0.687431],[Generator::loss: 0.757857], 0.014559[sec]\n",
      "epoch:[825/1200] [Discriminator::d_loss: 0.620256],[Generator::loss: 0.790016], 0.013238[sec]\n",
      "epoch:[826/1200] [Discriminator::d_loss: 0.688186],[Generator::loss: 0.759670], 0.013007[sec]\n",
      "epoch:[827/1200] [Discriminator::d_loss: 0.663374],[Generator::loss: 0.751076], 0.012968[sec]\n",
      "epoch:[828/1200] [Discriminator::d_loss: 0.692986],[Generator::loss: 0.778394], 0.013378[sec]\n",
      "epoch:[829/1200] [Discriminator::d_loss: 0.650043],[Generator::loss: 0.709278], 0.013231[sec]\n",
      "epoch:[830/1200] [Discriminator::d_loss: 0.673492],[Generator::loss: 0.676380], 0.012970[sec]\n",
      "epoch:[831/1200] [Discriminator::d_loss: 0.713657],[Generator::loss: 0.770052], 0.017376[sec]\n",
      "epoch:[832/1200] [Discriminator::d_loss: 0.681802],[Generator::loss: 0.707375], 0.013221[sec]\n",
      "epoch:[833/1200] [Discriminator::d_loss: 0.625490],[Generator::loss: 0.648673], 0.012975[sec]\n",
      "epoch:[834/1200] [Discriminator::d_loss: 0.707392],[Generator::loss: 0.690631], 0.013058[sec]\n",
      "epoch:[835/1200] [Discriminator::d_loss: 0.687324],[Generator::loss: 0.698076], 0.012986[sec]\n",
      "epoch:[836/1200] [Discriminator::d_loss: 0.730626],[Generator::loss: 0.698514], 0.015006[sec]\n",
      "epoch:[837/1200] [Discriminator::d_loss: 0.704680],[Generator::loss: 0.714375], 0.015357[sec]\n",
      "epoch:[838/1200] [Discriminator::d_loss: 0.652310],[Generator::loss: 0.683653], 0.013912[sec]\n",
      "epoch:[839/1200] [Discriminator::d_loss: 0.672543],[Generator::loss: 0.764746], 0.013378[sec]\n",
      "epoch:[840/1200] [Discriminator::d_loss: 0.733245],[Generator::loss: 0.848237], 0.013006[sec]\n",
      "epoch:[841/1200] [Discriminator::d_loss: 0.665439],[Generator::loss: 0.758633], 0.012959[sec]\n",
      "epoch:[842/1200] [Discriminator::d_loss: 0.680473],[Generator::loss: 0.706113], 0.012884[sec]\n",
      "epoch:[843/1200] [Discriminator::d_loss: 0.711053],[Generator::loss: 0.733694], 0.012909[sec]\n",
      "epoch:[844/1200] [Discriminator::d_loss: 0.732432],[Generator::loss: 0.803345], 0.012939[sec]\n",
      "epoch:[845/1200] [Discriminator::d_loss: 0.627429],[Generator::loss: 0.828427], 0.013509[sec]\n",
      "epoch:[846/1200] [Discriminator::d_loss: 0.702506],[Generator::loss: 0.868801], 0.013429[sec]\n",
      "epoch:[847/1200] [Discriminator::d_loss: 0.650121],[Generator::loss: 0.763486], 0.012986[sec]\n",
      "epoch:[848/1200] [Discriminator::d_loss: 0.700284],[Generator::loss: 0.825918], 0.012909[sec]\n",
      "epoch:[849/1200] [Discriminator::d_loss: 0.662439],[Generator::loss: 0.777410], 0.013006[sec]\n",
      "epoch:[850/1200] [Discriminator::d_loss: 0.662375],[Generator::loss: 0.749915], 0.012959[sec]\n",
      "epoch:[851/1200] [Discriminator::d_loss: 0.734460],[Generator::loss: 0.828255], 0.014223[sec]\n",
      "epoch:[852/1200] [Discriminator::d_loss: 0.671397],[Generator::loss: 0.795654], 0.016227[sec]\n",
      "epoch:[853/1200] [Discriminator::d_loss: 0.667030],[Generator::loss: 0.760487], 0.014387[sec]\n",
      "epoch:[854/1200] [Discriminator::d_loss: 0.678148],[Generator::loss: 0.764274], 0.013150[sec]\n",
      "epoch:[855/1200] [Discriminator::d_loss: 0.689914],[Generator::loss: 0.805192], 0.012932[sec]\n",
      "epoch:[856/1200] [Discriminator::d_loss: 0.652284],[Generator::loss: 0.784749], 0.013275[sec]\n",
      "epoch:[857/1200] [Discriminator::d_loss: 0.731202],[Generator::loss: 0.764368], 0.013205[sec]\n",
      "epoch:[858/1200] [Discriminator::d_loss: 0.640429],[Generator::loss: 0.804014], 0.013066[sec]\n",
      "epoch:[859/1200] [Discriminator::d_loss: 0.676464],[Generator::loss: 0.766127], 0.013197[sec]\n",
      "epoch:[860/1200] [Discriminator::d_loss: 0.695082],[Generator::loss: 0.810570], 0.014711[sec]\n",
      "epoch:[861/1200] [Discriminator::d_loss: 0.698789],[Generator::loss: 0.735890], 0.012972[sec]\n",
      "epoch:[862/1200] [Discriminator::d_loss: 0.719160],[Generator::loss: 0.692093], 0.013136[sec]\n",
      "epoch:[863/1200] [Discriminator::d_loss: 0.673396],[Generator::loss: 0.687594], 0.013079[sec]\n",
      "epoch:[864/1200] [Discriminator::d_loss: 0.660770],[Generator::loss: 0.708246], 0.013131[sec]\n",
      "epoch:[865/1200] [Discriminator::d_loss: 0.697436],[Generator::loss: 0.726191], 0.013355[sec]\n",
      "epoch:[866/1200] [Discriminator::d_loss: 0.662653],[Generator::loss: 0.763513], 0.014014[sec]\n",
      "epoch:[867/1200] [Discriminator::d_loss: 0.708915],[Generator::loss: 0.767271], 0.017183[sec]\n",
      "epoch:[868/1200] [Discriminator::d_loss: 0.671634],[Generator::loss: 0.773303], 0.013873[sec]\n",
      "epoch:[869/1200] [Discriminator::d_loss: 0.673676],[Generator::loss: 0.747860], 0.013123[sec]\n",
      "epoch:[870/1200] [Discriminator::d_loss: 0.705588],[Generator::loss: 0.801836], 0.013446[sec]\n",
      "epoch:[871/1200] [Discriminator::d_loss: 0.673722],[Generator::loss: 0.762133], 0.013338[sec]\n",
      "epoch:[872/1200] [Discriminator::d_loss: 0.661877],[Generator::loss: 0.750050], 0.012935[sec]\n",
      "epoch:[873/1200] [Discriminator::d_loss: 0.643870],[Generator::loss: 0.744637], 0.012987[sec]\n",
      "epoch:[874/1200] [Discriminator::d_loss: 0.695693],[Generator::loss: 0.723336], 0.013534[sec]\n",
      "epoch:[875/1200] [Discriminator::d_loss: 0.665056],[Generator::loss: 0.780646], 0.013222[sec]\n",
      "epoch:[876/1200] [Discriminator::d_loss: 0.679164],[Generator::loss: 0.776267], 0.012963[sec]\n",
      "epoch:[877/1200] [Discriminator::d_loss: 0.657720],[Generator::loss: 0.721309], 0.013106[sec]\n",
      "epoch:[878/1200] [Discriminator::d_loss: 0.694732],[Generator::loss: 0.653786], 0.013064[sec]\n",
      "epoch:[879/1200] [Discriminator::d_loss: 0.655438],[Generator::loss: 0.698533], 0.012900[sec]\n",
      "epoch:[880/1200] [Discriminator::d_loss: 0.686104],[Generator::loss: 0.727128], 0.012932[sec]\n",
      "epoch:[881/1200] [Discriminator::d_loss: 0.651571],[Generator::loss: 0.710138], 0.013367[sec]\n",
      "epoch:[882/1200] [Discriminator::d_loss: 0.707628],[Generator::loss: 0.768490], 0.018786[sec]\n",
      "epoch:[883/1200] [Discriminator::d_loss: 0.691172],[Generator::loss: 0.743987], 0.013864[sec]\n",
      "epoch:[884/1200] [Discriminator::d_loss: 0.745532],[Generator::loss: 0.776698], 0.013431[sec]\n",
      "epoch:[885/1200] [Discriminator::d_loss: 0.671481],[Generator::loss: 0.771281], 0.012911[sec]\n",
      "epoch:[886/1200] [Discriminator::d_loss: 0.690484],[Generator::loss: 0.771170], 0.013288[sec]\n",
      "epoch:[887/1200] [Discriminator::d_loss: 0.656657],[Generator::loss: 0.775064], 0.012893[sec]\n",
      "epoch:[888/1200] [Discriminator::d_loss: 0.690121],[Generator::loss: 0.672100], 0.013023[sec]\n",
      "epoch:[889/1200] [Discriminator::d_loss: 0.621826],[Generator::loss: 0.761973], 0.014185[sec]\n",
      "epoch:[890/1200] [Discriminator::d_loss: 0.659136],[Generator::loss: 0.783730], 0.013125[sec]\n",
      "epoch:[891/1200] [Discriminator::d_loss: 0.638003],[Generator::loss: 0.812670], 0.013102[sec]\n",
      "epoch:[892/1200] [Discriminator::d_loss: 0.682258],[Generator::loss: 0.798553], 0.013029[sec]\n",
      "epoch:[893/1200] [Discriminator::d_loss: 0.700752],[Generator::loss: 0.792669], 0.013422[sec]\n",
      "epoch:[894/1200] [Discriminator::d_loss: 0.666553],[Generator::loss: 0.852534], 0.012996[sec]\n",
      "epoch:[895/1200] [Discriminator::d_loss: 0.651164],[Generator::loss: 0.798651], 0.013111[sec]\n"
     ]
    },
    {
     "name": "stdout",
     "output_type": "stream",
     "text": [
      "epoch:[896/1200] [Discriminator::d_loss: 0.686838],[Generator::loss: 0.782932], 0.015069[sec]\n",
      "epoch:[897/1200] [Discriminator::d_loss: 0.681688],[Generator::loss: 0.720222], 0.015674[sec]\n",
      "epoch:[898/1200] [Discriminator::d_loss: 0.659272],[Generator::loss: 0.769926], 0.013419[sec]\n",
      "epoch:[899/1200] [Discriminator::d_loss: 0.660856],[Generator::loss: 0.780894], 0.013486[sec]\n",
      "epoch:[900/1200] [Discriminator::d_loss: 0.695038],[Generator::loss: 0.853799], 0.012989[sec]\n",
      "epoch:[901/1200] [Discriminator::d_loss: 0.671414],[Generator::loss: 0.762496], 0.013163[sec]\n",
      "epoch:[902/1200] [Discriminator::d_loss: 0.681865],[Generator::loss: 0.796829], 0.013166[sec]\n",
      "epoch:[903/1200] [Discriminator::d_loss: 0.666145],[Generator::loss: 0.749810], 0.015571[sec]\n",
      "epoch:[904/1200] [Discriminator::d_loss: 0.643029],[Generator::loss: 0.783695], 0.013086[sec]\n",
      "epoch:[905/1200] [Discriminator::d_loss: 0.686984],[Generator::loss: 0.763312], 0.013144[sec]\n",
      "epoch:[906/1200] [Discriminator::d_loss: 0.659749],[Generator::loss: 0.764588], 0.013382[sec]\n",
      "epoch:[907/1200] [Discriminator::d_loss: 0.631444],[Generator::loss: 0.806918], 0.013080[sec]\n",
      "epoch:[908/1200] [Discriminator::d_loss: 0.643216],[Generator::loss: 0.747443], 0.012983[sec]\n",
      "epoch:[909/1200] [Discriminator::d_loss: 0.675277],[Generator::loss: 0.795247], 0.013127[sec]\n",
      "epoch:[910/1200] [Discriminator::d_loss: 0.726574],[Generator::loss: 0.752661], 0.013879[sec]\n",
      "epoch:[911/1200] [Discriminator::d_loss: 0.666437],[Generator::loss: 0.711492], 0.014170[sec]\n",
      "epoch:[912/1200] [Discriminator::d_loss: 0.687234],[Generator::loss: 0.745031], 0.016831[sec]\n",
      "epoch:[913/1200] [Discriminator::d_loss: 0.671467],[Generator::loss: 0.715358], 0.014049[sec]\n",
      "epoch:[914/1200] [Discriminator::d_loss: 0.701663],[Generator::loss: 0.713172], 0.013286[sec]\n",
      "epoch:[915/1200] [Discriminator::d_loss: 0.647411],[Generator::loss: 0.782481], 0.012957[sec]\n",
      "epoch:[916/1200] [Discriminator::d_loss: 0.706237],[Generator::loss: 0.748442], 0.013055[sec]\n",
      "epoch:[917/1200] [Discriminator::d_loss: 0.722724],[Generator::loss: 0.781465], 0.014368[sec]\n",
      "epoch:[918/1200] [Discriminator::d_loss: 0.687151],[Generator::loss: 0.742661], 0.013329[sec]\n",
      "epoch:[919/1200] [Discriminator::d_loss: 0.677750],[Generator::loss: 0.781022], 0.013150[sec]\n",
      "epoch:[920/1200] [Discriminator::d_loss: 0.717244],[Generator::loss: 0.792257], 0.013087[sec]\n",
      "epoch:[921/1200] [Discriminator::d_loss: 0.665436],[Generator::loss: 0.766981], 0.013028[sec]\n",
      "epoch:[922/1200] [Discriminator::d_loss: 0.679075],[Generator::loss: 0.762325], 0.012961[sec]\n",
      "epoch:[923/1200] [Discriminator::d_loss: 0.668750],[Generator::loss: 0.710811], 0.013139[sec]\n",
      "epoch:[924/1200] [Discriminator::d_loss: 0.656891],[Generator::loss: 0.741993], 0.013004[sec]\n",
      "epoch:[925/1200] [Discriminator::d_loss: 0.690689],[Generator::loss: 0.712221], 0.013834[sec]\n",
      "epoch:[926/1200] [Discriminator::d_loss: 0.729715],[Generator::loss: 0.744849], 0.013607[sec]\n",
      "epoch:[927/1200] [Discriminator::d_loss: 0.649028],[Generator::loss: 0.655015], 0.018344[sec]\n",
      "epoch:[928/1200] [Discriminator::d_loss: 0.612631],[Generator::loss: 0.735661], 0.013324[sec]\n",
      "epoch:[929/1200] [Discriminator::d_loss: 0.724585],[Generator::loss: 0.747209], 0.013886[sec]\n",
      "epoch:[930/1200] [Discriminator::d_loss: 0.641863],[Generator::loss: 0.785123], 0.013100[sec]\n",
      "epoch:[931/1200] [Discriminator::d_loss: 0.665841],[Generator::loss: 0.802988], 0.013336[sec]\n",
      "epoch:[932/1200] [Discriminator::d_loss: 0.661173],[Generator::loss: 0.802697], 0.014116[sec]\n",
      "epoch:[933/1200] [Discriminator::d_loss: 0.672829],[Generator::loss: 0.741940], 0.012983[sec]\n",
      "epoch:[934/1200] [Discriminator::d_loss: 0.705388],[Generator::loss: 0.762904], 0.013243[sec]\n",
      "epoch:[935/1200] [Discriminator::d_loss: 0.665656],[Generator::loss: 0.819811], 0.013155[sec]\n",
      "epoch:[936/1200] [Discriminator::d_loss: 0.649329],[Generator::loss: 0.725454], 0.013216[sec]\n",
      "epoch:[937/1200] [Discriminator::d_loss: 0.663511],[Generator::loss: 0.792031], 0.013248[sec]\n",
      "epoch:[938/1200] [Discriminator::d_loss: 0.690405],[Generator::loss: 0.775007], 0.013469[sec]\n",
      "epoch:[939/1200] [Discriminator::d_loss: 0.652788],[Generator::loss: 0.761083], 0.014015[sec]\n",
      "epoch:[940/1200] [Discriminator::d_loss: 0.696782],[Generator::loss: 0.772775], 0.013077[sec]\n",
      "epoch:[941/1200] [Discriminator::d_loss: 0.700601],[Generator::loss: 0.734432], 0.017401[sec]\n",
      "epoch:[942/1200] [Discriminator::d_loss: 0.631452],[Generator::loss: 0.797742], 0.013915[sec]\n",
      "epoch:[943/1200] [Discriminator::d_loss: 0.692671],[Generator::loss: 0.727046], 0.013971[sec]\n",
      "epoch:[944/1200] [Discriminator::d_loss: 0.673847],[Generator::loss: 0.861282], 0.012894[sec]\n",
      "epoch:[945/1200] [Discriminator::d_loss: 0.637308],[Generator::loss: 0.761773], 0.013360[sec]\n",
      "epoch:[946/1200] [Discriminator::d_loss: 0.646887],[Generator::loss: 0.686896], 0.013497[sec]\n",
      "epoch:[947/1200] [Discriminator::d_loss: 0.604412],[Generator::loss: 0.778381], 0.013070[sec]\n",
      "epoch:[948/1200] [Discriminator::d_loss: 0.683326],[Generator::loss: 0.740510], 0.013149[sec]\n",
      "epoch:[949/1200] [Discriminator::d_loss: 0.671914],[Generator::loss: 0.855307], 0.012980[sec]\n",
      "epoch:[950/1200] [Discriminator::d_loss: 0.622157],[Generator::loss: 0.741733], 0.013039[sec]\n",
      "epoch:[951/1200] [Discriminator::d_loss: 0.628816],[Generator::loss: 0.889444], 0.013249[sec]\n",
      "epoch:[952/1200] [Discriminator::d_loss: 0.604292],[Generator::loss: 0.818289], 0.013042[sec]\n",
      "epoch:[953/1200] [Discriminator::d_loss: 0.620422],[Generator::loss: 0.813619], 0.014073[sec]\n",
      "epoch:[954/1200] [Discriminator::d_loss: 0.617535],[Generator::loss: 0.820207], 0.013229[sec]\n",
      "epoch:[955/1200] [Discriminator::d_loss: 0.656411],[Generator::loss: 0.936434], 0.013068[sec]\n",
      "epoch:[956/1200] [Discriminator::d_loss: 0.674564],[Generator::loss: 0.822639], 0.014258[sec]\n",
      "epoch:[957/1200] [Discriminator::d_loss: 0.635184],[Generator::loss: 0.737022], 0.015582[sec]\n",
      "epoch:[958/1200] [Discriminator::d_loss: 0.672358],[Generator::loss: 0.775356], 0.013721[sec]\n",
      "epoch:[959/1200] [Discriminator::d_loss: 0.663672],[Generator::loss: 0.739959], 0.013215[sec]\n",
      "epoch:[960/1200] [Discriminator::d_loss: 0.653807],[Generator::loss: 0.774341], 0.014000[sec]\n",
      "epoch:[961/1200] [Discriminator::d_loss: 0.636519],[Generator::loss: 0.717988], 0.013219[sec]\n",
      "epoch:[962/1200] [Discriminator::d_loss: 0.641203],[Generator::loss: 0.712007], 0.013148[sec]\n",
      "epoch:[963/1200] [Discriminator::d_loss: 0.701714],[Generator::loss: 0.748927], 0.013087[sec]\n",
      "epoch:[964/1200] [Discriminator::d_loss: 0.646177],[Generator::loss: 0.661871], 0.013044[sec]\n",
      "epoch:[965/1200] [Discriminator::d_loss: 0.647188],[Generator::loss: 0.739906], 0.013182[sec]\n",
      "epoch:[966/1200] [Discriminator::d_loss: 0.675300],[Generator::loss: 0.826056], 0.012978[sec]\n",
      "epoch:[967/1200] [Discriminator::d_loss: 0.643514],[Generator::loss: 0.754674], 0.013006[sec]\n",
      "epoch:[968/1200] [Discriminator::d_loss: 0.683374],[Generator::loss: 0.675582], 0.013964[sec]\n",
      "epoch:[969/1200] [Discriminator::d_loss: 0.619839],[Generator::loss: 0.718040], 0.012931[sec]\n",
      "epoch:[970/1200] [Discriminator::d_loss: 0.689246],[Generator::loss: 0.775283], 0.013004[sec]\n",
      "epoch:[971/1200] [Discriminator::d_loss: 0.668758],[Generator::loss: 0.724732], 0.013918[sec]\n",
      "epoch:[972/1200] [Discriminator::d_loss: 0.660999],[Generator::loss: 0.701307], 0.019751[sec]\n",
      "epoch:[973/1200] [Discriminator::d_loss: 0.647375],[Generator::loss: 0.780643], 0.013742[sec]\n",
      "epoch:[974/1200] [Discriminator::d_loss: 0.697220],[Generator::loss: 0.760255], 0.014112[sec]\n",
      "epoch:[975/1200] [Discriminator::d_loss: 0.647981],[Generator::loss: 0.745667], 0.013983[sec]\n",
      "epoch:[976/1200] [Discriminator::d_loss: 0.653673],[Generator::loss: 0.745591], 0.013097[sec]\n",
      "epoch:[977/1200] [Discriminator::d_loss: 0.661009],[Generator::loss: 0.715976], 0.013190[sec]\n",
      "epoch:[978/1200] [Discriminator::d_loss: 0.673474],[Generator::loss: 0.722668], 0.013078[sec]\n",
      "epoch:[979/1200] [Discriminator::d_loss: 0.689857],[Generator::loss: 0.726744], 0.013090[sec]\n",
      "epoch:[980/1200] [Discriminator::d_loss: 0.656827],[Generator::loss: 0.791104], 0.013017[sec]\n",
      "epoch:[981/1200] [Discriminator::d_loss: 0.662491],[Generator::loss: 0.819650], 0.013071[sec]\n",
      "epoch:[982/1200] [Discriminator::d_loss: 0.617148],[Generator::loss: 0.673576], 0.013981[sec]\n",
      "epoch:[983/1200] [Discriminator::d_loss: 0.675752],[Generator::loss: 0.797536], 0.013280[sec]\n",
      "epoch:[984/1200] [Discriminator::d_loss: 0.654638],[Generator::loss: 0.691663], 0.013200[sec]\n",
      "epoch:[985/1200] [Discriminator::d_loss: 0.683792],[Generator::loss: 0.835306], 0.012912[sec]\n"
     ]
    },
    {
     "name": "stdout",
     "output_type": "stream",
     "text": [
      "epoch:[986/1200] [Discriminator::d_loss: 0.690658],[Generator::loss: 0.778024], 0.017212[sec]\n",
      "epoch:[987/1200] [Discriminator::d_loss: 0.629645],[Generator::loss: 0.762620], 0.016957[sec]\n",
      "epoch:[988/1200] [Discriminator::d_loss: 0.670641],[Generator::loss: 0.725514], 0.016200[sec]\n",
      "epoch:[989/1200] [Discriminator::d_loss: 0.736036],[Generator::loss: 0.695201], 0.013887[sec]\n",
      "epoch:[990/1200] [Discriminator::d_loss: 0.657971],[Generator::loss: 0.759858], 0.013043[sec]\n",
      "epoch:[991/1200] [Discriminator::d_loss: 0.660509],[Generator::loss: 0.715297], 0.013088[sec]\n",
      "epoch:[992/1200] [Discriminator::d_loss: 0.642198],[Generator::loss: 0.779498], 0.013111[sec]\n",
      "epoch:[993/1200] [Discriminator::d_loss: 0.656779],[Generator::loss: 0.730618], 0.013112[sec]\n",
      "epoch:[994/1200] [Discriminator::d_loss: 0.687890],[Generator::loss: 0.826550], 0.013072[sec]\n",
      "epoch:[995/1200] [Discriminator::d_loss: 0.659067],[Generator::loss: 0.718237], 0.013024[sec]\n",
      "epoch:[996/1200] [Discriminator::d_loss: 0.672510],[Generator::loss: 0.739592], 0.013495[sec]\n",
      "epoch:[997/1200] [Discriminator::d_loss: 0.682441],[Generator::loss: 0.701174], 0.013006[sec]\n",
      "epoch:[998/1200] [Discriminator::d_loss: 0.664463],[Generator::loss: 0.811269], 0.013331[sec]\n",
      "epoch:[999/1200] [Discriminator::d_loss: 0.622061],[Generator::loss: 0.763491], 0.013088[sec]\n",
      "epoch:[1000/1200] [Discriminator::d_loss: 0.632777],[Generator::loss: 0.737713], 0.013149[sec]\n",
      "epoch:[1001/1200] [Discriminator::d_loss: 0.647753],[Generator::loss: 0.714588], 0.014139[sec]\n",
      "epoch:[1002/1200] [Discriminator::d_loss: 0.696007],[Generator::loss: 0.893669], 0.016871[sec]\n",
      "epoch:[1003/1200] [Discriminator::d_loss: 0.698002],[Generator::loss: 0.732036], 0.014495[sec]\n",
      "epoch:[1004/1200] [Discriminator::d_loss: 0.665861],[Generator::loss: 0.730896], 0.013215[sec]\n",
      "epoch:[1005/1200] [Discriminator::d_loss: 0.697212],[Generator::loss: 0.745526], 0.013001[sec]\n",
      "epoch:[1006/1200] [Discriminator::d_loss: 0.655534],[Generator::loss: 0.747402], 0.013306[sec]\n",
      "epoch:[1007/1200] [Discriminator::d_loss: 0.657679],[Generator::loss: 0.778525], 0.012838[sec]\n",
      "epoch:[1008/1200] [Discriminator::d_loss: 0.664944],[Generator::loss: 0.690259], 0.013156[sec]\n",
      "epoch:[1009/1200] [Discriminator::d_loss: 0.637762],[Generator::loss: 0.860789], 0.013139[sec]\n",
      "epoch:[1010/1200] [Discriminator::d_loss: 0.642580],[Generator::loss: 0.783377], 0.013994[sec]\n",
      "epoch:[1011/1200] [Discriminator::d_loss: 0.632429],[Generator::loss: 0.777468], 0.013151[sec]\n",
      "epoch:[1012/1200] [Discriminator::d_loss: 0.660369],[Generator::loss: 0.736442], 0.013441[sec]\n",
      "epoch:[1013/1200] [Discriminator::d_loss: 0.654746],[Generator::loss: 0.696870], 0.013214[sec]\n",
      "epoch:[1014/1200] [Discriminator::d_loss: 0.655251],[Generator::loss: 0.760890], 0.013280[sec]\n",
      "epoch:[1015/1200] [Discriminator::d_loss: 0.685397],[Generator::loss: 0.832728], 0.012948[sec]\n",
      "epoch:[1016/1200] [Discriminator::d_loss: 0.671916],[Generator::loss: 0.754521], 0.014959[sec]\n",
      "epoch:[1017/1200] [Discriminator::d_loss: 0.658099],[Generator::loss: 0.802618], 0.016685[sec]\n",
      "epoch:[1018/1200] [Discriminator::d_loss: 0.676618],[Generator::loss: 0.761550], 0.013676[sec]\n",
      "epoch:[1019/1200] [Discriminator::d_loss: 0.622477],[Generator::loss: 0.762440], 0.013609[sec]\n",
      "epoch:[1020/1200] [Discriminator::d_loss: 0.628616],[Generator::loss: 0.836152], 0.013095[sec]\n",
      "epoch:[1021/1200] [Discriminator::d_loss: 0.674319],[Generator::loss: 0.700660], 0.012911[sec]\n",
      "epoch:[1022/1200] [Discriminator::d_loss: 0.610511],[Generator::loss: 0.818984], 0.013042[sec]\n",
      "epoch:[1023/1200] [Discriminator::d_loss: 0.639963],[Generator::loss: 0.731412], 0.013174[sec]\n",
      "epoch:[1024/1200] [Discriminator::d_loss: 0.650824],[Generator::loss: 0.778298], 0.014412[sec]\n",
      "epoch:[1025/1200] [Discriminator::d_loss: 0.653990],[Generator::loss: 0.715648], 0.013265[sec]\n",
      "epoch:[1026/1200] [Discriminator::d_loss: 0.673021],[Generator::loss: 0.799553], 0.012908[sec]\n",
      "epoch:[1027/1200] [Discriminator::d_loss: 0.639951],[Generator::loss: 0.785922], 0.013218[sec]\n",
      "epoch:[1028/1200] [Discriminator::d_loss: 0.648005],[Generator::loss: 0.795765], 0.013019[sec]\n",
      "epoch:[1029/1200] [Discriminator::d_loss: 0.610010],[Generator::loss: 0.769458], 0.013118[sec]\n",
      "epoch:[1030/1200] [Discriminator::d_loss: 0.648378],[Generator::loss: 0.854855], 0.013117[sec]\n",
      "epoch:[1031/1200] [Discriminator::d_loss: 0.686184],[Generator::loss: 0.826813], 0.015146[sec]\n",
      "epoch:[1032/1200] [Discriminator::d_loss: 0.705032],[Generator::loss: 0.797779], 0.016871[sec]\n",
      "epoch:[1033/1200] [Discriminator::d_loss: 0.680160],[Generator::loss: 0.692801], 0.013543[sec]\n",
      "epoch:[1034/1200] [Discriminator::d_loss: 0.680858],[Generator::loss: 0.690270], 0.013533[sec]\n",
      "epoch:[1035/1200] [Discriminator::d_loss: 0.690713],[Generator::loss: 0.756039], 0.013025[sec]\n",
      "epoch:[1036/1200] [Discriminator::d_loss: 0.692971],[Generator::loss: 0.690526], 0.013087[sec]\n",
      "epoch:[1037/1200] [Discriminator::d_loss: 0.663718],[Generator::loss: 0.700750], 0.013107[sec]\n",
      "epoch:[1038/1200] [Discriminator::d_loss: 0.646226],[Generator::loss: 0.687274], 0.012835[sec]\n",
      "epoch:[1039/1200] [Discriminator::d_loss: 0.684313],[Generator::loss: 0.881200], 0.014184[sec]\n",
      "epoch:[1040/1200] [Discriminator::d_loss: 0.591895],[Generator::loss: 0.743771], 0.012968[sec]\n",
      "epoch:[1041/1200] [Discriminator::d_loss: 0.651481],[Generator::loss: 0.790696], 0.013150[sec]\n",
      "epoch:[1042/1200] [Discriminator::d_loss: 0.695306],[Generator::loss: 0.671610], 0.013042[sec]\n",
      "epoch:[1043/1200] [Discriminator::d_loss: 0.728415],[Generator::loss: 0.821874], 0.013189[sec]\n",
      "epoch:[1044/1200] [Discriminator::d_loss: 0.685453],[Generator::loss: 0.762141], 0.013189[sec]\n",
      "epoch:[1045/1200] [Discriminator::d_loss: 0.686158],[Generator::loss: 0.698408], 0.013195[sec]\n",
      "epoch:[1046/1200] [Discriminator::d_loss: 0.677621],[Generator::loss: 0.806018], 0.017694[sec]\n",
      "epoch:[1047/1200] [Discriminator::d_loss: 0.638587],[Generator::loss: 0.774274], 0.017852[sec]\n",
      "epoch:[1048/1200] [Discriminator::d_loss: 0.659515],[Generator::loss: 0.737822], 0.013854[sec]\n",
      "epoch:[1049/1200] [Discriminator::d_loss: 0.695114],[Generator::loss: 0.723139], 0.012958[sec]\n",
      "epoch:[1050/1200] [Discriminator::d_loss: 0.678417],[Generator::loss: 0.779858], 0.013000[sec]\n",
      "epoch:[1051/1200] [Discriminator::d_loss: 0.746337],[Generator::loss: 0.785414], 0.012980[sec]\n",
      "epoch:[1052/1200] [Discriminator::d_loss: 0.670401],[Generator::loss: 0.807264], 0.012944[sec]\n",
      "epoch:[1053/1200] [Discriminator::d_loss: 0.700876],[Generator::loss: 0.824675], 0.013988[sec]\n",
      "epoch:[1054/1200] [Discriminator::d_loss: 0.651657],[Generator::loss: 0.800037], 0.012885[sec]\n",
      "epoch:[1055/1200] [Discriminator::d_loss: 0.659959],[Generator::loss: 0.722990], 0.013031[sec]\n",
      "epoch:[1056/1200] [Discriminator::d_loss: 0.691660],[Generator::loss: 0.762526], 0.013204[sec]\n",
      "epoch:[1057/1200] [Discriminator::d_loss: 0.632378],[Generator::loss: 0.724270], 0.013106[sec]\n",
      "epoch:[1058/1200] [Discriminator::d_loss: 0.670212],[Generator::loss: 0.795127], 0.013102[sec]\n",
      "epoch:[1059/1200] [Discriminator::d_loss: 0.658439],[Generator::loss: 0.690323], 0.013401[sec]\n",
      "epoch:[1060/1200] [Discriminator::d_loss: 0.649425],[Generator::loss: 0.709803], 0.014269[sec]\n",
      "epoch:[1061/1200] [Discriminator::d_loss: 0.655975],[Generator::loss: 0.714760], 0.014445[sec]\n",
      "epoch:[1062/1200] [Discriminator::d_loss: 0.690101],[Generator::loss: 0.740576], 0.016412[sec]\n",
      "epoch:[1063/1200] [Discriminator::d_loss: 0.652936],[Generator::loss: 0.829834], 0.013564[sec]\n",
      "epoch:[1064/1200] [Discriminator::d_loss: 0.650855],[Generator::loss: 0.818169], 0.013369[sec]\n",
      "epoch:[1065/1200] [Discriminator::d_loss: 0.652633],[Generator::loss: 0.798582], 0.013141[sec]\n",
      "epoch:[1066/1200] [Discriminator::d_loss: 0.691320],[Generator::loss: 0.678488], 0.013113[sec]\n",
      "epoch:[1067/1200] [Discriminator::d_loss: 0.692402],[Generator::loss: 0.767556], 0.013630[sec]\n",
      "epoch:[1068/1200] [Discriminator::d_loss: 0.667204],[Generator::loss: 0.786194], 0.013033[sec]\n",
      "epoch:[1069/1200] [Discriminator::d_loss: 0.611248],[Generator::loss: 0.804224], 0.013321[sec]\n",
      "epoch:[1070/1200] [Discriminator::d_loss: 0.624567],[Generator::loss: 0.749977], 0.013359[sec]\n",
      "epoch:[1071/1200] [Discriminator::d_loss: 0.682985],[Generator::loss: 0.688124], 0.013109[sec]\n",
      "epoch:[1072/1200] [Discriminator::d_loss: 0.621022],[Generator::loss: 0.873274], 0.013017[sec]\n",
      "epoch:[1073/1200] [Discriminator::d_loss: 0.648847],[Generator::loss: 0.753149], 0.013079[sec]\n",
      "epoch:[1074/1200] [Discriminator::d_loss: 0.679301],[Generator::loss: 0.764116], 0.015124[sec]\n",
      "epoch:[1075/1200] [Discriminator::d_loss: 0.671106],[Generator::loss: 0.754743], 0.013575[sec]\n"
     ]
    },
    {
     "name": "stdout",
     "output_type": "stream",
     "text": [
      "epoch:[1076/1200] [Discriminator::d_loss: 0.724580],[Generator::loss: 0.796326], 0.013686[sec]\n",
      "epoch:[1077/1200] [Discriminator::d_loss: 0.659648],[Generator::loss: 0.833580], 0.017140[sec]\n",
      "epoch:[1078/1200] [Discriminator::d_loss: 0.637346],[Generator::loss: 0.699768], 0.014050[sec]\n",
      "epoch:[1079/1200] [Discriminator::d_loss: 0.658886],[Generator::loss: 0.729212], 0.013526[sec]\n",
      "epoch:[1080/1200] [Discriminator::d_loss: 0.652372],[Generator::loss: 0.717177], 0.013208[sec]\n",
      "epoch:[1081/1200] [Discriminator::d_loss: 0.685891],[Generator::loss: 0.812509], 0.013444[sec]\n",
      "epoch:[1082/1200] [Discriminator::d_loss: 0.654595],[Generator::loss: 0.793464], 0.013555[sec]\n",
      "epoch:[1083/1200] [Discriminator::d_loss: 0.712449],[Generator::loss: 0.802871], 0.013067[sec]\n",
      "epoch:[1084/1200] [Discriminator::d_loss: 0.672856],[Generator::loss: 0.768271], 0.013150[sec]\n",
      "epoch:[1085/1200] [Discriminator::d_loss: 0.666841],[Generator::loss: 0.648101], 0.013211[sec]\n",
      "epoch:[1086/1200] [Discriminator::d_loss: 0.672746],[Generator::loss: 0.821061], 0.013058[sec]\n",
      "epoch:[1087/1200] [Discriminator::d_loss: 0.691171],[Generator::loss: 0.768833], 0.012973[sec]\n",
      "epoch:[1088/1200] [Discriminator::d_loss: 0.688965],[Generator::loss: 0.788340], 0.012980[sec]\n",
      "epoch:[1089/1200] [Discriminator::d_loss: 0.617925],[Generator::loss: 0.737640], 0.014066[sec]\n",
      "epoch:[1090/1200] [Discriminator::d_loss: 0.622518],[Generator::loss: 0.725159], 0.012882[sec]\n",
      "epoch:[1091/1200] [Discriminator::d_loss: 0.653782],[Generator::loss: 0.716958], 0.016661[sec]\n",
      "epoch:[1092/1200] [Discriminator::d_loss: 0.668156],[Generator::loss: 0.706218], 0.017397[sec]\n",
      "epoch:[1093/1200] [Discriminator::d_loss: 0.672802],[Generator::loss: 0.787643], 0.013263[sec]\n",
      "epoch:[1094/1200] [Discriminator::d_loss: 0.596985],[Generator::loss: 0.735770], 0.013628[sec]\n",
      "epoch:[1095/1200] [Discriminator::d_loss: 0.672045],[Generator::loss: 0.737961], 0.013585[sec]\n",
      "epoch:[1096/1200] [Discriminator::d_loss: 0.643820],[Generator::loss: 0.750572], 0.013423[sec]\n",
      "epoch:[1097/1200] [Discriminator::d_loss: 0.643769],[Generator::loss: 0.762439], 0.013091[sec]\n",
      "epoch:[1098/1200] [Discriminator::d_loss: 0.705402],[Generator::loss: 0.783709], 0.013281[sec]\n",
      "epoch:[1099/1200] [Discriminator::d_loss: 0.712467],[Generator::loss: 0.747529], 0.013288[sec]\n",
      "epoch:[1100/1200] [Discriminator::d_loss: 0.636592],[Generator::loss: 0.694725], 0.012938[sec]\n",
      "epoch:[1101/1200] [Discriminator::d_loss: 0.692013],[Generator::loss: 0.775325], 0.013098[sec]\n",
      "epoch:[1102/1200] [Discriminator::d_loss: 0.664117],[Generator::loss: 0.702209], 0.012856[sec]\n",
      "epoch:[1103/1200] [Discriminator::d_loss: 0.676212],[Generator::loss: 0.746038], 0.014276[sec]\n",
      "epoch:[1104/1200] [Discriminator::d_loss: 0.663296],[Generator::loss: 0.726999], 0.013184[sec]\n",
      "epoch:[1105/1200] [Discriminator::d_loss: 0.637866],[Generator::loss: 0.717568], 0.013370[sec]\n",
      "epoch:[1106/1200] [Discriminator::d_loss: 0.690802],[Generator::loss: 0.754196], 0.014342[sec]\n",
      "epoch:[1107/1200] [Discriminator::d_loss: 0.701971],[Generator::loss: 0.753238], 0.015840[sec]\n",
      "epoch:[1108/1200] [Discriminator::d_loss: 0.616050],[Generator::loss: 0.745406], 0.013234[sec]\n",
      "epoch:[1109/1200] [Discriminator::d_loss: 0.668173],[Generator::loss: 0.763654], 0.013479[sec]\n",
      "epoch:[1110/1200] [Discriminator::d_loss: 0.688124],[Generator::loss: 0.737036], 0.014266[sec]\n",
      "epoch:[1111/1200] [Discriminator::d_loss: 0.638846],[Generator::loss: 0.721882], 0.012983[sec]\n",
      "epoch:[1112/1200] [Discriminator::d_loss: 0.641087],[Generator::loss: 0.651680], 0.013201[sec]\n",
      "epoch:[1113/1200] [Discriminator::d_loss: 0.630286],[Generator::loss: 0.735233], 0.013345[sec]\n",
      "epoch:[1114/1200] [Discriminator::d_loss: 0.652279],[Generator::loss: 0.728096], 0.013106[sec]\n",
      "epoch:[1115/1200] [Discriminator::d_loss: 0.662042],[Generator::loss: 0.812545], 0.012943[sec]\n",
      "epoch:[1116/1200] [Discriminator::d_loss: 0.586276],[Generator::loss: 0.702448], 0.013089[sec]\n",
      "epoch:[1117/1200] [Discriminator::d_loss: 0.682273],[Generator::loss: 0.726950], 0.014478[sec]\n",
      "epoch:[1118/1200] [Discriminator::d_loss: 0.680802],[Generator::loss: 0.757574], 0.015807[sec]\n",
      "epoch:[1119/1200] [Discriminator::d_loss: 0.709027],[Generator::loss: 0.774362], 0.013264[sec]\n",
      "epoch:[1120/1200] [Discriminator::d_loss: 0.656928],[Generator::loss: 0.737205], 0.013310[sec]\n",
      "epoch:[1121/1200] [Discriminator::d_loss: 0.729523],[Generator::loss: 0.787809], 0.017341[sec]\n",
      "epoch:[1122/1200] [Discriminator::d_loss: 0.674012],[Generator::loss: 0.709412], 0.015643[sec]\n",
      "epoch:[1123/1200] [Discriminator::d_loss: 0.673592],[Generator::loss: 0.751160], 0.013222[sec]\n",
      "epoch:[1124/1200] [Discriminator::d_loss: 0.711842],[Generator::loss: 0.794032], 0.015146[sec]\n",
      "epoch:[1125/1200] [Discriminator::d_loss: 0.715099],[Generator::loss: 0.791845], 0.013194[sec]\n",
      "epoch:[1126/1200] [Discriminator::d_loss: 0.654454],[Generator::loss: 0.762168], 0.013317[sec]\n",
      "epoch:[1127/1200] [Discriminator::d_loss: 0.690047],[Generator::loss: 0.847637], 0.013262[sec]\n",
      "epoch:[1128/1200] [Discriminator::d_loss: 0.710108],[Generator::loss: 0.803229], 0.013181[sec]\n",
      "epoch:[1129/1200] [Discriminator::d_loss: 0.699709],[Generator::loss: 0.815099], 0.013096[sec]\n",
      "epoch:[1130/1200] [Discriminator::d_loss: 0.681782],[Generator::loss: 0.800139], 0.013716[sec]\n",
      "epoch:[1131/1200] [Discriminator::d_loss: 0.648574],[Generator::loss: 0.878269], 0.014167[sec]\n",
      "epoch:[1132/1200] [Discriminator::d_loss: 0.646002],[Generator::loss: 0.739520], 0.013223[sec]\n",
      "epoch:[1133/1200] [Discriminator::d_loss: 0.707238],[Generator::loss: 0.831839], 0.013031[sec]\n",
      "epoch:[1134/1200] [Discriminator::d_loss: 0.684064],[Generator::loss: 0.771090], 0.013084[sec]\n",
      "epoch:[1135/1200] [Discriminator::d_loss: 0.634363],[Generator::loss: 0.893057], 0.013123[sec]\n",
      "epoch:[1136/1200] [Discriminator::d_loss: 0.682251],[Generator::loss: 0.811585], 0.014627[sec]\n",
      "epoch:[1137/1200] [Discriminator::d_loss: 0.662947],[Generator::loss: 0.816990], 0.017081[sec]\n",
      "epoch:[1138/1200] [Discriminator::d_loss: 0.701844],[Generator::loss: 0.729265], 0.016120[sec]\n",
      "epoch:[1139/1200] [Discriminator::d_loss: 0.665995],[Generator::loss: 0.825623], 0.012983[sec]\n",
      "epoch:[1140/1200] [Discriminator::d_loss: 0.703733],[Generator::loss: 0.721053], 0.013315[sec]\n",
      "epoch:[1141/1200] [Discriminator::d_loss: 0.701392],[Generator::loss: 0.833103], 0.013060[sec]\n",
      "epoch:[1142/1200] [Discriminator::d_loss: 0.639841],[Generator::loss: 0.729425], 0.013118[sec]\n",
      "epoch:[1143/1200] [Discriminator::d_loss: 0.696637],[Generator::loss: 0.794189], 0.013387[sec]\n",
      "epoch:[1144/1200] [Discriminator::d_loss: 0.687312],[Generator::loss: 0.760607], 0.013642[sec]\n",
      "epoch:[1145/1200] [Discriminator::d_loss: 0.674278],[Generator::loss: 0.776012], 0.013838[sec]\n",
      "epoch:[1146/1200] [Discriminator::d_loss: 0.676599],[Generator::loss: 0.714838], 0.013081[sec]\n",
      "epoch:[1147/1200] [Discriminator::d_loss: 0.618500],[Generator::loss: 0.685169], 0.013360[sec]\n",
      "epoch:[1148/1200] [Discriminator::d_loss: 0.692048],[Generator::loss: 0.717258], 0.013138[sec]\n",
      "epoch:[1149/1200] [Discriminator::d_loss: 0.611361],[Generator::loss: 0.668517], 0.012924[sec]\n",
      "epoch:[1150/1200] [Discriminator::d_loss: 0.641398],[Generator::loss: 0.764096], 0.013051[sec]\n",
      "epoch:[1151/1200] [Discriminator::d_loss: 0.682169],[Generator::loss: 0.671926], 0.014288[sec]\n",
      "epoch:[1152/1200] [Discriminator::d_loss: 0.607875],[Generator::loss: 0.750408], 0.018742[sec]\n",
      "epoch:[1153/1200] [Discriminator::d_loss: 0.669268],[Generator::loss: 0.759357], 0.013899[sec]\n",
      "epoch:[1154/1200] [Discriminator::d_loss: 0.602306],[Generator::loss: 0.692689], 0.013342[sec]\n",
      "epoch:[1155/1200] [Discriminator::d_loss: 0.671536],[Generator::loss: 0.728139], 0.013245[sec]\n",
      "epoch:[1156/1200] [Discriminator::d_loss: 0.687301],[Generator::loss: 0.720464], 0.013032[sec]\n",
      "epoch:[1157/1200] [Discriminator::d_loss: 0.669981],[Generator::loss: 0.714410], 0.013348[sec]\n",
      "epoch:[1158/1200] [Discriminator::d_loss: 0.695548],[Generator::loss: 0.733113], 0.013092[sec]\n",
      "epoch:[1159/1200] [Discriminator::d_loss: 0.664036],[Generator::loss: 0.781763], 0.013804[sec]\n",
      "epoch:[1160/1200] [Discriminator::d_loss: 0.671410],[Generator::loss: 0.761834], 0.013504[sec]\n",
      "epoch:[1161/1200] [Discriminator::d_loss: 0.677639],[Generator::loss: 0.657782], 0.013162[sec]\n",
      "epoch:[1162/1200] [Discriminator::d_loss: 0.662578],[Generator::loss: 0.716823], 0.013452[sec]\n",
      "epoch:[1163/1200] [Discriminator::d_loss: 0.632409],[Generator::loss: 0.722010], 0.012954[sec]\n",
      "epoch:[1164/1200] [Discriminator::d_loss: 0.704037],[Generator::loss: 0.805688], 0.013189[sec]\n",
      "epoch:[1165/1200] [Discriminator::d_loss: 0.653933],[Generator::loss: 0.713691], 0.013014[sec]\n"
     ]
    },
    {
     "name": "stdout",
     "output_type": "stream",
     "text": [
      "epoch:[1166/1200] [Discriminator::d_loss: 0.686094],[Generator::loss: 0.748023], 0.014155[sec]\n",
      "epoch:[1167/1200] [Discriminator::d_loss: 0.717286],[Generator::loss: 0.775355], 0.017874[sec]\n",
      "epoch:[1168/1200] [Discriminator::d_loss: 0.616880],[Generator::loss: 0.732370], 0.013880[sec]\n",
      "epoch:[1169/1200] [Discriminator::d_loss: 0.650137],[Generator::loss: 0.729402], 0.013034[sec]\n",
      "epoch:[1170/1200] [Discriminator::d_loss: 0.671752],[Generator::loss: 0.738894], 0.013044[sec]\n",
      "epoch:[1171/1200] [Discriminator::d_loss: 0.654381],[Generator::loss: 0.753078], 0.013327[sec]\n",
      "epoch:[1172/1200] [Discriminator::d_loss: 0.715866],[Generator::loss: 0.818649], 0.013048[sec]\n",
      "epoch:[1173/1200] [Discriminator::d_loss: 0.648533],[Generator::loss: 0.761654], 0.013107[sec]\n",
      "epoch:[1174/1200] [Discriminator::d_loss: 0.619919],[Generator::loss: 0.655093], 0.014129[sec]\n",
      "epoch:[1175/1200] [Discriminator::d_loss: 0.676649],[Generator::loss: 0.841972], 0.012985[sec]\n",
      "epoch:[1176/1200] [Discriminator::d_loss: 0.676806],[Generator::loss: 0.821734], 0.013365[sec]\n",
      "epoch:[1177/1200] [Discriminator::d_loss: 0.682042],[Generator::loss: 0.767354], 0.013006[sec]\n",
      "epoch:[1178/1200] [Discriminator::d_loss: 0.657498],[Generator::loss: 0.759940], 0.013093[sec]\n",
      "epoch:[1179/1200] [Discriminator::d_loss: 0.643039],[Generator::loss: 0.816963], 0.013144[sec]\n",
      "epoch:[1180/1200] [Discriminator::d_loss: 0.662695],[Generator::loss: 0.737266], 0.013020[sec]\n",
      "epoch:[1181/1200] [Discriminator::d_loss: 0.687989],[Generator::loss: 0.791948], 0.015340[sec]\n",
      "epoch:[1182/1200] [Discriminator::d_loss: 0.709484],[Generator::loss: 0.780585], 0.015073[sec]\n",
      "epoch:[1183/1200] [Discriminator::d_loss: 0.655414],[Generator::loss: 0.702809], 0.013364[sec]\n",
      "epoch:[1184/1200] [Discriminator::d_loss: 0.655722],[Generator::loss: 0.710702], 0.013464[sec]\n",
      "epoch:[1185/1200] [Discriminator::d_loss: 0.682288],[Generator::loss: 0.681319], 0.013023[sec]\n",
      "epoch:[1186/1200] [Discriminator::d_loss: 0.695193],[Generator::loss: 0.855749], 0.013222[sec]\n",
      "epoch:[1187/1200] [Discriminator::d_loss: 0.681990],[Generator::loss: 0.721368], 0.013150[sec]\n",
      "epoch:[1188/1200] [Discriminator::d_loss: 0.699917],[Generator::loss: 0.733345], 0.015501[sec]\n",
      "epoch:[1189/1200] [Discriminator::d_loss: 0.637517],[Generator::loss: 0.713872], 0.013139[sec]\n",
      "epoch:[1190/1200] [Discriminator::d_loss: 0.667630],[Generator::loss: 0.873475], 0.013054[sec]\n",
      "epoch:[1191/1200] [Discriminator::d_loss: 0.626012],[Generator::loss: 0.699011], 0.013141[sec]\n",
      "epoch:[1192/1200] [Discriminator::d_loss: 0.652264],[Generator::loss: 0.731120], 0.013210[sec]\n",
      "epoch:[1193/1200] [Discriminator::d_loss: 0.651447],[Generator::loss: 0.786967], 0.012956[sec]\n",
      "epoch:[1194/1200] [Discriminator::d_loss: 0.665582],[Generator::loss: 0.797167], 0.013189[sec]\n",
      "epoch:[1195/1200] [Discriminator::d_loss: 0.606841],[Generator::loss: 0.711965], 0.013814[sec]\n",
      "epoch:[1196/1200] [Discriminator::d_loss: 0.646824],[Generator::loss: 0.653937], 0.015292[sec]\n",
      "epoch:[1197/1200] [Discriminator::d_loss: 0.695995],[Generator::loss: 0.807180], 0.016481[sec]\n",
      "epoch:[1198/1200] [Discriminator::d_loss: 0.703539],[Generator::loss: 0.749727], 0.013238[sec]\n",
      "epoch:[1199/1200] [Discriminator::d_loss: 0.697797],[Generator::loss: 0.788449], 0.013487[sec]\n",
      "epoch:[1200/1200] [Discriminator::d_loss: 0.667091],[Generator::loss: 0.817943], 0.013353[sec]\n"
     ]
    }
   ],
   "source": [
    "ep = 1200\n",
    "g_loss, d_loss = train(X_train, epochs=ep, batch_size=15, G=G, D=D, gan=gan, noise_input=noise_input)"
   ]
  },
  {
   "cell_type": "code",
   "execution_count": 345,
   "metadata": {},
   "outputs": [
    {
     "data": {
      "image/png": "[encoded data removed]",
      "text/plain": [
       "<Figure size 1080x360 with 1 Axes>"
      ]
     },
     "metadata": {
      "needs_background": "light"
     },
     "output_type": "display_data"
    }
   ],
   "source": [
    "plt.figure(figsize=(15,5))\n",
    "plt.title(\"Loss GAN\", fontsize=15)\n",
    "plt.plot(range(ep), g_loss, label=\"loss rede G\")\n",
    "plt.plot(range(ep), d_loss, label=\"loss rede D\")\n",
    "plt.xlabel(\"epochs\", fontsize=14)\n",
    "plt.ylabel(\"loss\", fontsize=14)\n",
    "plt.grid()\n",
    "plt.legend();"
   ]
  },
  {
   "cell_type": "code",
   "execution_count": 346,
   "metadata": {},
   "outputs": [
    {
     "data": {
      "text/plain": [
       "(0.66709137, 0.817943)"
      ]
     },
     "execution_count": 346,
     "metadata": {},
     "output_type": "execute_result"
    }
   ],
   "source": [
    "d_loss[-1], g_loss[-1]"
   ]
  },
  {
   "cell_type": "code",
   "execution_count": null,
   "metadata": {},
   "outputs": [],
   "source": []
  },
  {
   "cell_type": "code",
   "execution_count": 347,
   "metadata": {
    "scrolled": false
   },
   "outputs": [
    {
     "name": "stdout",
     "output_type": "stream",
     "text": [
      "Distribuición original de cada caracteristica vs red Generadora entrenada\n"
     ]
    },
    {
     "data": {
      "image/png": "[encoded data removed]",
      "text/plain": [
       "<Figure size 1080x648 with 9 Axes>"
      ]
     },
     "metadata": {
      "needs_background": "light"
     },
     "output_type": "display_data"
    }
   ],
   "source": [
    "noise = np.random.normal(loc=0, scale=1, size=(X_train.shape[0],noise_input))\n",
    "data_fake = G.predict(noise)\n",
    "plt.figure(figsize=(15,9))\n",
    "print(\"Distribuición original de cada caracteristica vs red Generadora entrenada\")\n",
    "for col in range(X_train.shape[1]):\n",
    "    aux_real = X_train.iloc[:,col]\n",
    "    aux_fake = data_fake[:,col]\n",
    "    plt.subplot(3,3,col+1)\n",
    "    plt.hist(aux_real, bins=10, label=\"real\",)\n",
    "    plt.hist(aux_fake, bins=10, label=\"fake\", alpha=0.8)\n",
    "    plt.legend()"
   ]
  },
  {
   "cell_type": "code",
   "execution_count": 348,
   "metadata": {},
   "outputs": [
    {
     "name": "stdout",
     "output_type": "stream",
     "text": [
      "(15, 2) (800, 2)\n"
     ]
    },
    {
     "data": {
      "image/png": "[encoded data removed]",
      "text/plain": [
       "<Figure size 432x288 with 1 Axes>"
      ]
     },
     "metadata": {
      "needs_background": "light"
     },
     "output_type": "display_data"
    }
   ],
   "source": [
    "fig2 = plt.figure()\n",
    "ax2 = fig2.add_subplot()\n",
    "ax2.spines[\"top\"].set_visible(False)\n",
    "ax2.spines[\"right\"].set_visible(False)\n",
    "x_noise = G.predict(np.random.normal(loc=0, scale=1, size=(800,noise_input)))\n",
    "X_fake_pca = pca_real.transform(x_noise)\n",
    "print(X_train_pca.shape, X_fake_pca.shape)\n",
    "plt.title(\"2-PCA entre dados reais e fakes\", fontsize=14)\n",
    "plt.xlabel(\"componente principal um\", fontsize=13)\n",
    "plt.ylabel(\"componente principal dois\", fontsize=13)\n",
    "plt.scatter(X_fake_pca[:,0], X_fake_pca[:,1], color=\"red\", label=\"fake\", alpha=0.3)\n",
    "plt.scatter(X_train_pca[:,0], X_train_pca[:,1], color=\"green\", label=\"real\", alpha=1)\n",
    "plt.legend();"
   ]
  },
  {
   "cell_type": "code",
   "execution_count": 349,
   "metadata": {},
   "outputs": [
    {
     "name": "stdout",
     "output_type": "stream",
     "text": [
      "Dados fake:  (5000, 9)\n",
      "\n",
      "-------------- Discriminador com dados fake --------------\n",
      "porcentagem de dados que o discriminador acredita reais:  0.3352\n",
      "porcentagem de dados que o discriminador acredita fakes:  0.6648\n",
      "\n",
      "-------------- Discriminador com dados reais --------------\n",
      "porcentagem de dados que o discriminador acredita reais:  0.6667\n",
      "porcentagem de dados que o discriminador acredita fakes:  0.3333\n"
     ]
    }
   ],
   "source": [
    "fakes = G.predict(np.random.normal(0,1,(5000,noise_input)))\n",
    "print(\"Dados fake: \", fakes.shape)\n",
    "print()\n",
    "D_predict_fake = D.predict_classes(fakes)\n",
    "print(\"-------------- Discriminador com dados fake --------------\")\n",
    "print(\"porcentagem de dados que o discriminador acredita reais: \", np.round(np.mean(D_predict_fake==1),4))\n",
    "print(\"porcentagem de dados que o discriminador acredita fakes: \", np.round(np.mean(D_predict_fake==0),4))\n",
    "print()\n",
    "D_predict_real = D.predict_classes(X_train)\n",
    "print(\"-------------- Discriminador com dados reais --------------\")\n",
    "print(\"porcentagem de dados que o discriminador acredita reais: \", np.round(np.mean(D_predict_real==1),4))\n",
    "print(\"porcentagem de dados que o discriminador acredita fakes: \", np.round(np.mean(D_predict_real==0),4))"
   ]
  },
  {
   "cell_type": "code",
   "execution_count": 8,
   "metadata": {},
   "outputs": [
    {
     "data": {
      "text/plain": [
       "19.667660678508753"
      ]
     },
     "execution_count": 8,
     "metadata": {},
     "output_type": "execute_result"
    }
   ],
   "source": [
    "(100*np.log2(23))/23"
   ]
  },
  {
   "cell_type": "code",
   "execution_count": 183,
   "metadata": {},
   "outputs": [
    {
     "data": {
      "application/vnd.plotly.v1+json": {
       "config": {
        "plotlyServerURL": "https://plot.ly"
       },
       "data": [
        {
         "dimensions": [
          {
           "label": "BB21",
           "values": [
            0.1404500273765561,
            -0.8770149317276594,
            0.23358666691293561,
            0.26416889378365904,
            0.42920773280481517,
            0.62748725166615,
            0.25769181041836875,
            -1,
            -0.7145575344382664,
            1,
            0.5314248112050719,
            0.43716931734546605,
            0.4234613170361692,
            -0.4635697713987147,
            -0.7360424175392779,
            -0.4861300587654114,
            -0.15012168884277344,
            -0.30268362164497375,
            0.39824405312538147,
            -0.9365218281745911,
            0.5369775891304016,
            0.726294219493866,
            0.34351736307144165,
            -0.6925094723701477,
            0.47120627760887146,
            0.9172489047050476,
            0.6660187244415283,
            0.9369135499000549,
            -0.29033952951431274,
            0.6559376120567322
           ]
          },
          {
           "label": "BB11",
           "values": [
            -0.23938805846223687,
            -0.8695148037501175,
            0.2298599505114749,
            0.047408895463810774,
            0.3648391106022326,
            0.23721312211595635,
            0.3605376990582063,
            -1,
            -0.745359279647642,
            1,
            0.5027175396727193,
            0.3776981148290157,
            0.4447508983889257,
            -0.4922719006430146,
            -0.4714962831914443,
            -0.5868752598762512,
            -0.1318075954914093,
            -0.393379807472229,
            0.20734453201293945,
            -0.8571041822433472,
            0.2846670150756836,
            0.630588948726654,
            0.05064019188284874,
            -0.7000945806503296,
            0.3992711007595062,
            0.7987914681434631,
            0.6567950248718262,
            0.7026919722557068,
            -0.35249757766723633,
            0.4467325210571289
           ]
          },
          {
           "label": "BB19",
           "values": [
            0.2527053726119477,
            -1,
            0.20985215420595993,
            0.43501551148099926,
            0.5106459119720377,
            0.7445656170627855,
            0.2852523244869052,
            -0.9149864890630589,
            -0.7360564873173328,
            1,
            0.7223919890616062,
            0.587298266366518,
            0.5288895326393794,
            -0.1384803420282118,
            -0.5442219705336625,
            -0.3882048726081848,
            -0.08010981976985931,
            -0.21511593461036682,
            0.4555889964103699,
            -0.9418449997901917,
            0.7120331525802612,
            0.7997500896453857,
            0.47243019938468933,
            -0.6393062472343445,
            0.515082836151123,
            0.948479950428009,
            0.7117451429367065,
            0.9713685512542725,
            -0.14346125721931458,
            0.7518309354782104
           ]
          },
          {
           "label": "BB18",
           "values": [
            -0.020661257940210676,
            -0.5147383939887045,
            0.3764546877771524,
            0.07583785131657761,
            0.5034935642838967,
            0.298520440821489,
            0.5961687759157441,
            -1,
            -0.38963588782548075,
            1,
            0.4798548075711886,
            0.36648877509312383,
            0.4751273132973952,
            -0.44142302976084824,
            -0.24272045573147616,
            -0.4231448769569397,
            0.03871864080429077,
            -0.21602237224578857,
            0.39921021461486816,
            -0.6940668821334839,
            0.34610792994499207,
            0.6834614276885986,
            0.3253503143787384,
            -0.5306580662727356,
            0.5823021531105042,
            0.788397490978241,
            0.7841988205909729,
            0.6934658885002136,
            -0.1059269830584526,
            0.4901599586009979
           ]
          },
          {
           "label": "BB12",
           "values": [
            -0.10470648814556094,
            -0.3469786343966913,
            0.6160641277266701,
            -0.11824162609288003,
            0.8215474790592354,
            -0.08646241003493549,
            0.8218715718393224,
            -1,
            -0.12088660697247156,
            1,
            0.10714571275358464,
            0.030255766772600223,
            0.46501557031267593,
            -0.4717245040794117,
            0.12492497358750376,
            -0.5830108523368835,
            0.08014871925115585,
            -0.26847314834594727,
            0.4512905776500702,
            -0.6078249216079712,
            0.04611869528889656,
            0.7340875267982483,
            0.10194379836320877,
            -0.6421581506729126,
            0.7242285013198853,
            0.7128029465675354,
            0.9052397012710571,
            0.22277383506298065,
            -0.1735612154006958,
            0.399800181388855
           ]
          },
          {
           "label": "BB9",
           "values": [
            0.3229188241081138,
            -0.886249439065224,
            0.28013891765477483,
            0.3727767565888256,
            0.43831227670480977,
            1,
            0.3614577400369354,
            -1,
            -0.8012047153040266,
            0.9775755535994757,
            0.7702875006472323,
            0.7010740822244093,
            0.521714648164449,
            -0.19154142719066625,
            -0.5317931358842927,
            -0.3715607821941376,
            -0.12176818400621414,
            -0.20176300406455994,
            0.5342197418212891,
            -0.9626132249832153,
            0.7587612867355347,
            0.8180481791496277,
            0.5786316394805908,
            -0.636818528175354,
            0.5758327841758728,
            0.9604246616363525,
            0.719994068145752,
            0.9869095683097839,
            -0.18497373163700104,
            0.8255971670150757
           ]
          },
          {
           "label": "BB20",
           "values": [
            0.050681536961544316,
            -0.9994049758078156,
            0.1289131625442106,
            0.32020547544072686,
            0.37293398932798305,
            0.6856013984474087,
            0.23555367938128624,
            -0.8709753289851276,
            -1,
            1,
            0.6401612281299323,
            0.5281861085745794,
            0.41430175785139034,
            -0.2983441929152768,
            -0.6674302029594721,
            -0.4409433603286743,
            -0.2830820381641388,
            -0.3258723020553589,
            0.2611261010169983,
            -0.886576235294342,
            0.492360383272171,
            0.6446506977081299,
            0.4262647032737732,
            -0.7061465382575989,
            0.4051547050476074,
            0.8503329157829285,
            0.6705679893493652,
            0.9050909876823425,
            -0.1764492690563202,
            0.4963799715042114
           ]
          },
          {
           "label": "BB17",
           "values": [
            0.23324877305416036,
            -0.9213553581990703,
            0.3468069275792731,
            0.2508279553375068,
            0.35372725822618967,
            0.9001459628840855,
            0.40601977315593607,
            -1,
            -0.8354182615224179,
            1,
            0.8303269446388297,
            0.7080847676235908,
            0.583515865956892,
            -0.07562529408033791,
            -0.7228795503829021,
            -0.5023530125617981,
            0.13297072052955627,
            -0.2661013603210449,
            0.5498096346855164,
            -0.974814236164093,
            0.844166100025177,
            0.8970317244529724,
            0.4769763946533203,
            -0.6613292694091797,
            0.5923344492912292,
            0.9856767654418945,
            0.6840382218360901,
            0.9932011961936951,
            -0.22231754660606384,
            0.9069895148277283
           ]
          },
          {
           "label": "BB10",
           "values": [
            0.3066823000071348,
            -0.9249707840788235,
            0.3518915715190556,
            0.3322635210407443,
            0.3920157143920573,
            0.9817417557268229,
            0.38404518351359274,
            -1,
            -0.8146228229083732,
            1,
            0.7385416535193952,
            0.6429663748380146,
            0.5574155636051916,
            -0.2609800218993834,
            -0.5642836554919362,
            -0.380758136510849,
            -0.11512772738933563,
            -0.19217129051685333,
            0.4504728615283966,
            -0.9184268116950989,
            0.6951816082000732,
            0.7909198999404907,
            0.6224825382232666,
            -0.6536791324615479,
            0.5744730234146118,
            0.930263876914978,
            0.7712118029594421,
            0.968060314655304,
            -0.08967550843954086,
            0.7110584378242493
           ]
          }
         ],
         "domain": {
          "x": [
           0,
           0.98
          ],
          "y": [
           0,
           1
          ]
         },
         "line": {
          "color": [
           1,
           1,
           1,
           1,
           1,
           1,
           1,
           1,
           1,
           1,
           1,
           1,
           1,
           1,
           1,
           2,
           2,
           2,
           2,
           2,
           2,
           2,
           2,
           2,
           2,
           2,
           2,
           2,
           2,
           2
          ],
          "coloraxis": "coloraxis"
         },
         "name": "",
         "type": "parcoords"
        }
       ],
       "layout": {
        "coloraxis": {
         "colorbar": {
          "title": {
           "text": "cor"
          }
         },
         "colorscale": [
          [
           0,
           "rgb(0, 147, 146)"
          ],
          [
           0.16666666666666666,
           "rgb(114, 170, 161)"
          ],
          [
           0.3333333333333333,
           "rgb(177, 199, 179)"
          ],
          [
           0.5,
           "rgb(241, 234, 200)"
          ],
          [
           0.6666666666666666,
           "rgb(229, 185, 173)"
          ],
          [
           0.8333333333333334,
           "rgb(217, 137, 148)"
          ],
          [
           1,
           "rgb(208, 88, 126)"
          ]
         ]
        },
        "height": 600,
        "legend": {
         "tracegroupgap": 0
        },
        "margin": {
         "t": 60
        },
        "template": {
         "data": {
          "bar": [
           {
            "error_x": {
             "color": "#2a3f5f"
            },
            "error_y": {
             "color": "#2a3f5f"
            },
            "marker": {
             "line": {
              "color": "#E5ECF6",
              "width": 0.5
             }
            },
            "type": "bar"
           }
          ],
          "barpolar": [
           {
            "marker": {
             "line": {
              "color": "#E5ECF6",
              "width": 0.5
             }
            },
            "type": "barpolar"
           }
          ],
          "carpet": [
           {
            "aaxis": {
             "endlinecolor": "#2a3f5f",
             "gridcolor": "white",
             "linecolor": "white",
             "minorgridcolor": "white",
             "startlinecolor": "#2a3f5f"
            },
            "baxis": {
             "endlinecolor": "#2a3f5f",
             "gridcolor": "white",
             "linecolor": "white",
             "minorgridcolor": "white",
             "startlinecolor": "#2a3f5f"
            },
            "type": "carpet"
           }
          ],
          "choropleth": [
           {
            "colorbar": {
             "outlinewidth": 0,
             "ticks": ""
            },
            "type": "choropleth"
           }
          ],
          "contour": [
           {
            "colorbar": {
             "outlinewidth": 0,
             "ticks": ""
            },
            "colorscale": [
             [
              0,
              "#0d0887"
             ],
             [
              0.1111111111111111,
              "#46039f"
             ],
             [
              0.2222222222222222,
              "#7201a8"
             ],
             [
              0.3333333333333333,
              "#9c179e"
             ],
             [
              0.4444444444444444,
              "#bd3786"
             ],
             [
              0.5555555555555556,
              "#d8576b"
             ],
             [
              0.6666666666666666,
              "#ed7953"
             ],
             [
              0.7777777777777778,
              "#fb9f3a"
             ],
             [
              0.8888888888888888,
              "#fdca26"
             ],
             [
              1,
              "#f0f921"
             ]
            ],
            "type": "contour"
           }
          ],
          "contourcarpet": [
           {
            "colorbar": {
             "outlinewidth": 0,
             "ticks": ""
            },
            "type": "contourcarpet"
           }
          ],
          "heatmap": [
           {
            "colorbar": {
             "outlinewidth": 0,
             "ticks": ""
            },
            "colorscale": [
             [
              0,
              "#0d0887"
             ],
             [
              0.1111111111111111,
              "#46039f"
             ],
             [
              0.2222222222222222,
              "#7201a8"
             ],
             [
              0.3333333333333333,
              "#9c179e"
             ],
             [
              0.4444444444444444,
              "#bd3786"
             ],
             [
              0.5555555555555556,
              "#d8576b"
             ],
             [
              0.6666666666666666,
              "#ed7953"
             ],
             [
              0.7777777777777778,
              "#fb9f3a"
             ],
             [
              0.8888888888888888,
              "#fdca26"
             ],
             [
              1,
              "#f0f921"
             ]
            ],
            "type": "heatmap"
           }
          ],
          "heatmapgl": [
           {
            "colorbar": {
             "outlinewidth": 0,
             "ticks": ""
            },
            "colorscale": [
             [
              0,
              "#0d0887"
             ],
             [
              0.1111111111111111,
              "#46039f"
             ],
             [
              0.2222222222222222,
              "#7201a8"
             ],
             [
              0.3333333333333333,
              "#9c179e"
             ],
             [
              0.4444444444444444,
              "#bd3786"
             ],
             [
              0.5555555555555556,
              "#d8576b"
             ],
             [
              0.6666666666666666,
              "#ed7953"
             ],
             [
              0.7777777777777778,
              "#fb9f3a"
             ],
             [
              0.8888888888888888,
              "#fdca26"
             ],
             [
              1,
              "#f0f921"
             ]
            ],
            "type": "heatmapgl"
           }
          ],
          "histogram": [
           {
            "marker": {
             "colorbar": {
              "outlinewidth": 0,
              "ticks": ""
             }
            },
            "type": "histogram"
           }
          ],
          "histogram2d": [
           {
            "colorbar": {
             "outlinewidth": 0,
             "ticks": ""
            },
            "colorscale": [
             [
              0,
              "#0d0887"
             ],
             [
              0.1111111111111111,
              "#46039f"
             ],
             [
              0.2222222222222222,
              "#7201a8"
             ],
             [
              0.3333333333333333,
              "#9c179e"
             ],
             [
              0.4444444444444444,
              "#bd3786"
             ],
             [
              0.5555555555555556,
              "#d8576b"
             ],
             [
              0.6666666666666666,
              "#ed7953"
             ],
             [
              0.7777777777777778,
              "#fb9f3a"
             ],
             [
              0.8888888888888888,
              "#fdca26"
             ],
             [
              1,
              "#f0f921"
             ]
            ],
            "type": "histogram2d"
           }
          ],
          "histogram2dcontour": [
           {
            "colorbar": {
             "outlinewidth": 0,
             "ticks": ""
            },
            "colorscale": [
             [
              0,
              "#0d0887"
             ],
             [
              0.1111111111111111,
              "#46039f"
             ],
             [
              0.2222222222222222,
              "#7201a8"
             ],
             [
              0.3333333333333333,
              "#9c179e"
             ],
             [
              0.4444444444444444,
              "#bd3786"
             ],
             [
              0.5555555555555556,
              "#d8576b"
             ],
             [
              0.6666666666666666,
              "#ed7953"
             ],
             [
              0.7777777777777778,
              "#fb9f3a"
             ],
             [
              0.8888888888888888,
              "#fdca26"
             ],
             [
              1,
              "#f0f921"
             ]
            ],
            "type": "histogram2dcontour"
           }
          ],
          "mesh3d": [
           {
            "colorbar": {
             "outlinewidth": 0,
             "ticks": ""
            },
            "type": "mesh3d"
           }
          ],
          "parcoords": [
           {
            "line": {
             "colorbar": {
              "outlinewidth": 0,
              "ticks": ""
             }
            },
            "type": "parcoords"
           }
          ],
          "scatter": [
           {
            "marker": {
             "colorbar": {
              "outlinewidth": 0,
              "ticks": ""
             }
            },
            "type": "scatter"
           }
          ],
          "scatter3d": [
           {
            "line": {
             "colorbar": {
              "outlinewidth": 0,
              "ticks": ""
             }
            },
            "marker": {
             "colorbar": {
              "outlinewidth": 0,
              "ticks": ""
             }
            },
            "type": "scatter3d"
           }
          ],
          "scattercarpet": [
           {
            "marker": {
             "colorbar": {
              "outlinewidth": 0,
              "ticks": ""
             }
            },
            "type": "scattercarpet"
           }
          ],
          "scattergeo": [
           {
            "marker": {
             "colorbar": {
              "outlinewidth": 0,
              "ticks": ""
             }
            },
            "type": "scattergeo"
           }
          ],
          "scattergl": [
           {
            "marker": {
             "colorbar": {
              "outlinewidth": 0,
              "ticks": ""
             }
            },
            "type": "scattergl"
           }
          ],
          "scattermapbox": [
           {
            "marker": {
             "colorbar": {
              "outlinewidth": 0,
              "ticks": ""
             }
            },
            "type": "scattermapbox"
           }
          ],
          "scatterpolar": [
           {
            "marker": {
             "colorbar": {
              "outlinewidth": 0,
              "ticks": ""
             }
            },
            "type": "scatterpolar"
           }
          ],
          "scatterpolargl": [
           {
            "marker": {
             "colorbar": {
              "outlinewidth": 0,
              "ticks": ""
             }
            },
            "type": "scatterpolargl"
           }
          ],
          "scatterternary": [
           {
            "marker": {
             "colorbar": {
              "outlinewidth": 0,
              "ticks": ""
             }
            },
            "type": "scatterternary"
           }
          ],
          "surface": [
           {
            "colorbar": {
             "outlinewidth": 0,
             "ticks": ""
            },
            "colorscale": [
             [
              0,
              "#0d0887"
             ],
             [
              0.1111111111111111,
              "#46039f"
             ],
             [
              0.2222222222222222,
              "#7201a8"
             ],
             [
              0.3333333333333333,
              "#9c179e"
             ],
             [
              0.4444444444444444,
              "#bd3786"
             ],
             [
              0.5555555555555556,
              "#d8576b"
             ],
             [
              0.6666666666666666,
              "#ed7953"
             ],
             [
              0.7777777777777778,
              "#fb9f3a"
             ],
             [
              0.8888888888888888,
              "#fdca26"
             ],
             [
              1,
              "#f0f921"
             ]
            ],
            "type": "surface"
           }
          ],
          "table": [
           {
            "cells": {
             "fill": {
              "color": "#EBF0F8"
             },
             "line": {
              "color": "white"
             }
            },
            "header": {
             "fill": {
              "color": "#C8D4E3"
             },
             "line": {
              "color": "white"
             }
            },
            "type": "table"
           }
          ]
         },
         "layout": {
          "annotationdefaults": {
           "arrowcolor": "#2a3f5f",
           "arrowhead": 0,
           "arrowwidth": 1
          },
          "colorscale": {
           "diverging": [
            [
             0,
             "#8e0152"
            ],
            [
             0.1,
             "#c51b7d"
            ],
            [
             0.2,
             "#de77ae"
            ],
            [
             0.3,
             "#f1b6da"
            ],
            [
             0.4,
             "#fde0ef"
            ],
            [
             0.5,
             "#f7f7f7"
            ],
            [
             0.6,
             "#e6f5d0"
            ],
            [
             0.7,
             "#b8e186"
            ],
            [
             0.8,
             "#7fbc41"
            ],
            [
             0.9,
             "#4d9221"
            ],
            [
             1,
             "#276419"
            ]
           ],
           "sequential": [
            [
             0,
             "#0d0887"
            ],
            [
             0.1111111111111111,
             "#46039f"
            ],
            [
             0.2222222222222222,
             "#7201a8"
            ],
            [
             0.3333333333333333,
             "#9c179e"
            ],
            [
             0.4444444444444444,
             "#bd3786"
            ],
            [
             0.5555555555555556,
             "#d8576b"
            ],
            [
             0.6666666666666666,
             "#ed7953"
            ],
            [
             0.7777777777777778,
             "#fb9f3a"
            ],
            [
             0.8888888888888888,
             "#fdca26"
            ],
            [
             1,
             "#f0f921"
            ]
           ],
           "sequentialminus": [
            [
             0,
             "#0d0887"
            ],
            [
             0.1111111111111111,
             "#46039f"
            ],
            [
             0.2222222222222222,
             "#7201a8"
            ],
            [
             0.3333333333333333,
             "#9c179e"
            ],
            [
             0.4444444444444444,
             "#bd3786"
            ],
            [
             0.5555555555555556,
             "#d8576b"
            ],
            [
             0.6666666666666666,
             "#ed7953"
            ],
            [
             0.7777777777777778,
             "#fb9f3a"
            ],
            [
             0.8888888888888888,
             "#fdca26"
            ],
            [
             1,
             "#f0f921"
            ]
           ]
          },
          "colorway": [
           "#636efa",
           "#EF553B",
           "#00cc96",
           "#ab63fa",
           "#FFA15A",
           "#19d3f3",
           "#FF6692",
           "#B6E880",
           "#FF97FF",
           "#FECB52"
          ],
          "font": {
           "color": "#2a3f5f"
          },
          "geo": {
           "bgcolor": "white",
           "lakecolor": "white",
           "landcolor": "#E5ECF6",
           "showlakes": true,
           "showland": true,
           "subunitcolor": "white"
          },
          "hoverlabel": {
           "align": "left"
          },
          "hovermode": "closest",
          "mapbox": {
           "style": "light"
          },
          "paper_bgcolor": "white",
          "plot_bgcolor": "#E5ECF6",
          "polar": {
           "angularaxis": {
            "gridcolor": "white",
            "linecolor": "white",
            "ticks": ""
           },
           "bgcolor": "#E5ECF6",
           "radialaxis": {
            "gridcolor": "white",
            "linecolor": "white",
            "ticks": ""
           }
          },
          "scene": {
           "xaxis": {
            "backgroundcolor": "#E5ECF6",
            "gridcolor": "white",
            "gridwidth": 2,
            "linecolor": "white",
            "showbackground": true,
            "ticks": "",
            "zerolinecolor": "white"
           },
           "yaxis": {
            "backgroundcolor": "#E5ECF6",
            "gridcolor": "white",
            "gridwidth": 2,
            "linecolor": "white",
            "showbackground": true,
            "ticks": "",
            "zerolinecolor": "white"
           },
           "zaxis": {
            "backgroundcolor": "#E5ECF6",
            "gridcolor": "white",
            "gridwidth": 2,
            "linecolor": "white",
            "showbackground": true,
            "ticks": "",
            "zerolinecolor": "white"
           }
          },
          "shapedefaults": {
           "line": {
            "color": "#2a3f5f"
           }
          },
          "ternary": {
           "aaxis": {
            "gridcolor": "white",
            "linecolor": "white",
            "ticks": ""
           },
           "baxis": {
            "gridcolor": "white",
            "linecolor": "white",
            "ticks": ""
           },
           "bgcolor": "#E5ECF6",
           "caxis": {
            "gridcolor": "white",
            "linecolor": "white",
            "ticks": ""
           }
          },
          "title": {
           "x": 0.05
          },
          "xaxis": {
           "automargin": true,
           "gridcolor": "white",
           "linecolor": "white",
           "ticks": "",
           "zerolinecolor": "white",
           "zerolinewidth": 2
          },
          "yaxis": {
           "automargin": true,
           "gridcolor": "white",
           "linecolor": "white",
           "ticks": "",
           "zerolinecolor": "white",
           "zerolinewidth": 2
          }
         }
        }
       }
      },
      "text/html": [
       "<div>\n",
       "        \n",
       "        \n",
       "            <div id=\"b92b056a-2210-4a9b-ac7a-823309472d9e\" class=\"plotly-graph-div\" style=\"height:600px; width:100%;\"></div>\n",
       "            <script type=\"text/javascript\">\n",
       "                require([\"plotly\"], function(Plotly) {\n",
       "                    window.PLOTLYENV=window.PLOTLYENV || {};\n",
       "                    \n",
       "                if (document.getElementById(\"b92b056a-2210-4a9b-ac7a-823309472d9e\")) {\n",
       "                    Plotly.newPlot(\n",
       "                        'b92b056a-2210-4a9b-ac7a-823309472d9e',\n",
       "                        [{\"dimensions\": [{\"label\": \"BB21\", \"values\": [0.1404500273765561, -0.8770149317276594, 0.23358666691293561, 0.26416889378365904, 0.42920773280481517, 0.62748725166615, 0.25769181041836875, -1.0, -0.7145575344382664, 1.0, 0.5314248112050719, 0.43716931734546605, 0.4234613170361692, -0.4635697713987147, -0.7360424175392779, -0.4861300587654114, -0.15012168884277344, -0.30268362164497375, 0.39824405312538147, -0.9365218281745911, 0.5369775891304016, 0.726294219493866, 0.34351736307144165, -0.6925094723701477, 0.47120627760887146, 0.9172489047050476, 0.6660187244415283, 0.9369135499000549, -0.29033952951431274, 0.6559376120567322]}, {\"label\": \"BB11\", \"values\": [-0.23938805846223687, -0.8695148037501175, 0.2298599505114749, 0.047408895463810774, 0.3648391106022326, 0.23721312211595635, 0.3605376990582063, -1.0, -0.745359279647642, 1.0, 0.5027175396727193, 0.3776981148290157, 0.4447508983889257, -0.4922719006430146, -0.4714962831914443, -0.5868752598762512, -0.1318075954914093, -0.393379807472229, 0.20734453201293945, -0.8571041822433472, 0.2846670150756836, 0.630588948726654, 0.05064019188284874, -0.7000945806503296, 0.3992711007595062, 0.7987914681434631, 0.6567950248718262, 0.7026919722557068, -0.35249757766723633, 0.4467325210571289]}, {\"label\": \"BB19\", \"values\": [0.2527053726119477, -1.0, 0.20985215420595993, 0.43501551148099926, 0.5106459119720377, 0.7445656170627855, 0.2852523244869052, -0.9149864890630589, -0.7360564873173328, 1.0, 0.7223919890616062, 0.587298266366518, 0.5288895326393794, -0.1384803420282118, -0.5442219705336625, -0.3882048726081848, -0.08010981976985931, -0.21511593461036682, 0.4555889964103699, -0.9418449997901917, 0.7120331525802612, 0.7997500896453857, 0.47243019938468933, -0.6393062472343445, 0.515082836151123, 0.948479950428009, 0.7117451429367065, 0.9713685512542725, -0.14346125721931458, 0.7518309354782104]}, {\"label\": \"BB18\", \"values\": [-0.020661257940210676, -0.5147383939887045, 0.3764546877771524, 0.07583785131657761, 0.5034935642838967, 0.298520440821489, 0.5961687759157441, -1.0, -0.38963588782548075, 1.0, 0.4798548075711886, 0.36648877509312383, 0.4751273132973952, -0.44142302976084824, -0.24272045573147616, -0.4231448769569397, 0.03871864080429077, -0.21602237224578857, 0.39921021461486816, -0.6940668821334839, 0.34610792994499207, 0.6834614276885986, 0.3253503143787384, -0.5306580662727356, 0.5823021531105042, 0.788397490978241, 0.7841988205909729, 0.6934658885002136, -0.1059269830584526, 0.4901599586009979]}, {\"label\": \"BB12\", \"values\": [-0.10470648814556094, -0.3469786343966913, 0.6160641277266701, -0.11824162609288003, 0.8215474790592354, -0.08646241003493549, 0.8218715718393224, -1.0, -0.12088660697247156, 1.0, 0.10714571275358464, 0.030255766772600223, 0.46501557031267593, -0.4717245040794117, 0.12492497358750376, -0.5830108523368835, 0.08014871925115585, -0.26847314834594727, 0.4512905776500702, -0.6078249216079712, 0.04611869528889656, 0.7340875267982483, 0.10194379836320877, -0.6421581506729126, 0.7242285013198853, 0.7128029465675354, 0.9052397012710571, 0.22277383506298065, -0.1735612154006958, 0.399800181388855]}, {\"label\": \"BB9\", \"values\": [0.3229188241081138, -0.886249439065224, 0.28013891765477483, 0.3727767565888256, 0.43831227670480977, 1.0, 0.3614577400369354, -1.0, -0.8012047153040266, 0.9775755535994757, 0.7702875006472323, 0.7010740822244093, 0.521714648164449, -0.19154142719066625, -0.5317931358842927, -0.3715607821941376, -0.12176818400621414, -0.20176300406455994, 0.5342197418212891, -0.9626132249832153, 0.7587612867355347, 0.8180481791496277, 0.5786316394805908, -0.636818528175354, 0.5758327841758728, 0.9604246616363525, 0.719994068145752, 0.9869095683097839, -0.18497373163700104, 0.8255971670150757]}, {\"label\": \"BB20\", \"values\": [0.050681536961544316, -0.9994049758078156, 0.1289131625442106, 0.32020547544072686, 0.37293398932798305, 0.6856013984474087, 0.23555367938128624, -0.8709753289851276, -1.0, 1.0, 0.6401612281299323, 0.5281861085745794, 0.41430175785139034, -0.2983441929152768, -0.6674302029594721, -0.4409433603286743, -0.2830820381641388, -0.3258723020553589, 0.2611261010169983, -0.886576235294342, 0.492360383272171, 0.6446506977081299, 0.4262647032737732, -0.7061465382575989, 0.4051547050476074, 0.8503329157829285, 0.6705679893493652, 0.9050909876823425, -0.1764492690563202, 0.4963799715042114]}, {\"label\": \"BB17\", \"values\": [0.23324877305416036, -0.9213553581990703, 0.3468069275792731, 0.2508279553375068, 0.35372725822618967, 0.9001459628840855, 0.40601977315593607, -1.0, -0.8354182615224179, 1.0, 0.8303269446388297, 0.7080847676235908, 0.583515865956892, -0.07562529408033791, -0.7228795503829021, -0.5023530125617981, 0.13297072052955627, -0.2661013603210449, 0.5498096346855164, -0.974814236164093, 0.844166100025177, 0.8970317244529724, 0.4769763946533203, -0.6613292694091797, 0.5923344492912292, 0.9856767654418945, 0.6840382218360901, 0.9932011961936951, -0.22231754660606384, 0.9069895148277283]}, {\"label\": \"BB10\", \"values\": [0.3066823000071348, -0.9249707840788235, 0.3518915715190556, 0.3322635210407443, 0.3920157143920573, 0.9817417557268229, 0.38404518351359274, -1.0, -0.8146228229083732, 1.0, 0.7385416535193952, 0.6429663748380146, 0.5574155636051916, -0.2609800218993834, -0.5642836554919362, -0.380758136510849, -0.11512772738933563, -0.19217129051685333, 0.4504728615283966, -0.9184268116950989, 0.6951816082000732, 0.7909198999404907, 0.6224825382232666, -0.6536791324615479, 0.5744730234146118, 0.930263876914978, 0.7712118029594421, 0.968060314655304, -0.08967550843954086, 0.7110584378242493]}], \"domain\": {\"x\": [0.0, 0.98], \"y\": [0.0, 1.0]}, \"line\": {\"color\": [1, 1, 1, 1, 1, 1, 1, 1, 1, 1, 1, 1, 1, 1, 1, 2, 2, 2, 2, 2, 2, 2, 2, 2, 2, 2, 2, 2, 2, 2], \"coloraxis\": \"coloraxis\"}, \"name\": \"\", \"type\": \"parcoords\"}],\n",
       "                        {\"coloraxis\": {\"colorbar\": {\"title\": {\"text\": \"cor\"}}, \"colorscale\": [[0.0, \"rgb(0, 147, 146)\"], [0.16666666666666666, \"rgb(114, 170, 161)\"], [0.3333333333333333, \"rgb(177, 199, 179)\"], [0.5, \"rgb(241, 234, 200)\"], [0.6666666666666666, \"rgb(229, 185, 173)\"], [0.8333333333333334, \"rgb(217, 137, 148)\"], [1.0, \"rgb(208, 88, 126)\"]]}, \"height\": 600, \"legend\": {\"tracegroupgap\": 0}, \"margin\": {\"t\": 60}, \"template\": {\"data\": {\"bar\": [{\"error_x\": {\"color\": \"#2a3f5f\"}, \"error_y\": {\"color\": \"#2a3f5f\"}, \"marker\": {\"line\": {\"color\": \"#E5ECF6\", \"width\": 0.5}}, \"type\": \"bar\"}], \"barpolar\": [{\"marker\": {\"line\": {\"color\": \"#E5ECF6\", \"width\": 0.5}}, \"type\": \"barpolar\"}], \"carpet\": [{\"aaxis\": {\"endlinecolor\": \"#2a3f5f\", \"gridcolor\": \"white\", \"linecolor\": \"white\", \"minorgridcolor\": \"white\", \"startlinecolor\": \"#2a3f5f\"}, \"baxis\": {\"endlinecolor\": \"#2a3f5f\", \"gridcolor\": \"white\", \"linecolor\": \"white\", \"minorgridcolor\": \"white\", \"startlinecolor\": \"#2a3f5f\"}, \"type\": \"carpet\"}], \"choropleth\": [{\"colorbar\": {\"outlinewidth\": 0, \"ticks\": \"\"}, \"type\": \"choropleth\"}], \"contour\": [{\"colorbar\": {\"outlinewidth\": 0, \"ticks\": \"\"}, \"colorscale\": [[0.0, \"#0d0887\"], [0.1111111111111111, \"#46039f\"], [0.2222222222222222, \"#7201a8\"], [0.3333333333333333, \"#9c179e\"], [0.4444444444444444, \"#bd3786\"], [0.5555555555555556, \"#d8576b\"], [0.6666666666666666, \"#ed7953\"], [0.7777777777777778, \"#fb9f3a\"], [0.8888888888888888, \"#fdca26\"], [1.0, \"#f0f921\"]], \"type\": \"contour\"}], \"contourcarpet\": [{\"colorbar\": {\"outlinewidth\": 0, \"ticks\": \"\"}, \"type\": \"contourcarpet\"}], \"heatmap\": [{\"colorbar\": {\"outlinewidth\": 0, \"ticks\": \"\"}, \"colorscale\": [[0.0, \"#0d0887\"], [0.1111111111111111, \"#46039f\"], [0.2222222222222222, \"#7201a8\"], [0.3333333333333333, \"#9c179e\"], [0.4444444444444444, \"#bd3786\"], [0.5555555555555556, \"#d8576b\"], [0.6666666666666666, \"#ed7953\"], [0.7777777777777778, \"#fb9f3a\"], [0.8888888888888888, \"#fdca26\"], [1.0, \"#f0f921\"]], \"type\": \"heatmap\"}], \"heatmapgl\": [{\"colorbar\": {\"outlinewidth\": 0, \"ticks\": \"\"}, \"colorscale\": [[0.0, \"#0d0887\"], [0.1111111111111111, \"#46039f\"], [0.2222222222222222, \"#7201a8\"], [0.3333333333333333, \"#9c179e\"], [0.4444444444444444, \"#bd3786\"], [0.5555555555555556, \"#d8576b\"], [0.6666666666666666, \"#ed7953\"], [0.7777777777777778, \"#fb9f3a\"], [0.8888888888888888, \"#fdca26\"], [1.0, \"#f0f921\"]], \"type\": \"heatmapgl\"}], \"histogram\": [{\"marker\": {\"colorbar\": {\"outlinewidth\": 0, \"ticks\": \"\"}}, \"type\": \"histogram\"}], \"histogram2d\": [{\"colorbar\": {\"outlinewidth\": 0, \"ticks\": \"\"}, \"colorscale\": [[0.0, \"#0d0887\"], [0.1111111111111111, \"#46039f\"], [0.2222222222222222, \"#7201a8\"], [0.3333333333333333, \"#9c179e\"], [0.4444444444444444, \"#bd3786\"], [0.5555555555555556, \"#d8576b\"], [0.6666666666666666, \"#ed7953\"], [0.7777777777777778, \"#fb9f3a\"], [0.8888888888888888, \"#fdca26\"], [1.0, \"#f0f921\"]], \"type\": \"histogram2d\"}], \"histogram2dcontour\": [{\"colorbar\": {\"outlinewidth\": 0, \"ticks\": \"\"}, \"colorscale\": [[0.0, \"#0d0887\"], [0.1111111111111111, \"#46039f\"], [0.2222222222222222, \"#7201a8\"], [0.3333333333333333, \"#9c179e\"], [0.4444444444444444, \"#bd3786\"], [0.5555555555555556, \"#d8576b\"], [0.6666666666666666, \"#ed7953\"], [0.7777777777777778, \"#fb9f3a\"], [0.8888888888888888, \"#fdca26\"], [1.0, \"#f0f921\"]], \"type\": \"histogram2dcontour\"}], \"mesh3d\": [{\"colorbar\": {\"outlinewidth\": 0, \"ticks\": \"\"}, \"type\": \"mesh3d\"}], \"parcoords\": [{\"line\": {\"colorbar\": {\"outlinewidth\": 0, \"ticks\": \"\"}}, \"type\": \"parcoords\"}], \"scatter\": [{\"marker\": {\"colorbar\": {\"outlinewidth\": 0, \"ticks\": \"\"}}, \"type\": \"scatter\"}], \"scatter3d\": [{\"line\": {\"colorbar\": {\"outlinewidth\": 0, \"ticks\": \"\"}}, \"marker\": {\"colorbar\": {\"outlinewidth\": 0, \"ticks\": \"\"}}, \"type\": \"scatter3d\"}], \"scattercarpet\": [{\"marker\": {\"colorbar\": {\"outlinewidth\": 0, \"ticks\": \"\"}}, \"type\": \"scattercarpet\"}], \"scattergeo\": [{\"marker\": {\"colorbar\": {\"outlinewidth\": 0, \"ticks\": \"\"}}, \"type\": \"scattergeo\"}], \"scattergl\": [{\"marker\": {\"colorbar\": {\"outlinewidth\": 0, \"ticks\": \"\"}}, \"type\": \"scattergl\"}], \"scattermapbox\": [{\"marker\": {\"colorbar\": {\"outlinewidth\": 0, \"ticks\": \"\"}}, \"type\": \"scattermapbox\"}], \"scatterpolar\": [{\"marker\": {\"colorbar\": {\"outlinewidth\": 0, \"ticks\": \"\"}}, \"type\": \"scatterpolar\"}], \"scatterpolargl\": [{\"marker\": {\"colorbar\": {\"outlinewidth\": 0, \"ticks\": \"\"}}, \"type\": \"scatterpolargl\"}], \"scatterternary\": [{\"marker\": {\"colorbar\": {\"outlinewidth\": 0, \"ticks\": \"\"}}, \"type\": \"scatterternary\"}], \"surface\": [{\"colorbar\": {\"outlinewidth\": 0, \"ticks\": \"\"}, \"colorscale\": [[0.0, \"#0d0887\"], [0.1111111111111111, \"#46039f\"], [0.2222222222222222, \"#7201a8\"], [0.3333333333333333, \"#9c179e\"], [0.4444444444444444, \"#bd3786\"], [0.5555555555555556, \"#d8576b\"], [0.6666666666666666, \"#ed7953\"], [0.7777777777777778, \"#fb9f3a\"], [0.8888888888888888, \"#fdca26\"], [1.0, \"#f0f921\"]], \"type\": \"surface\"}], \"table\": [{\"cells\": {\"fill\": {\"color\": \"#EBF0F8\"}, \"line\": {\"color\": \"white\"}}, \"header\": {\"fill\": {\"color\": \"#C8D4E3\"}, \"line\": {\"color\": \"white\"}}, \"type\": \"table\"}]}, \"layout\": {\"annotationdefaults\": {\"arrowcolor\": \"#2a3f5f\", \"arrowhead\": 0, \"arrowwidth\": 1}, \"colorscale\": {\"diverging\": [[0, \"#8e0152\"], [0.1, \"#c51b7d\"], [0.2, \"#de77ae\"], [0.3, \"#f1b6da\"], [0.4, \"#fde0ef\"], [0.5, \"#f7f7f7\"], [0.6, \"#e6f5d0\"], [0.7, \"#b8e186\"], [0.8, \"#7fbc41\"], [0.9, \"#4d9221\"], [1, \"#276419\"]], \"sequential\": [[0.0, \"#0d0887\"], [0.1111111111111111, \"#46039f\"], [0.2222222222222222, \"#7201a8\"], [0.3333333333333333, \"#9c179e\"], [0.4444444444444444, \"#bd3786\"], [0.5555555555555556, \"#d8576b\"], [0.6666666666666666, \"#ed7953\"], [0.7777777777777778, \"#fb9f3a\"], [0.8888888888888888, \"#fdca26\"], [1.0, \"#f0f921\"]], \"sequentialminus\": [[0.0, \"#0d0887\"], [0.1111111111111111, \"#46039f\"], [0.2222222222222222, \"#7201a8\"], [0.3333333333333333, \"#9c179e\"], [0.4444444444444444, \"#bd3786\"], [0.5555555555555556, \"#d8576b\"], [0.6666666666666666, \"#ed7953\"], [0.7777777777777778, \"#fb9f3a\"], [0.8888888888888888, \"#fdca26\"], [1.0, \"#f0f921\"]]}, \"colorway\": [\"#636efa\", \"#EF553B\", \"#00cc96\", \"#ab63fa\", \"#FFA15A\", \"#19d3f3\", \"#FF6692\", \"#B6E880\", \"#FF97FF\", \"#FECB52\"], \"font\": {\"color\": \"#2a3f5f\"}, \"geo\": {\"bgcolor\": \"white\", \"lakecolor\": \"white\", \"landcolor\": \"#E5ECF6\", \"showlakes\": true, \"showland\": true, \"subunitcolor\": \"white\"}, \"hoverlabel\": {\"align\": \"left\"}, \"hovermode\": \"closest\", \"mapbox\": {\"style\": \"light\"}, \"paper_bgcolor\": \"white\", \"plot_bgcolor\": \"#E5ECF6\", \"polar\": {\"angularaxis\": {\"gridcolor\": \"white\", \"linecolor\": \"white\", \"ticks\": \"\"}, \"bgcolor\": \"#E5ECF6\", \"radialaxis\": {\"gridcolor\": \"white\", \"linecolor\": \"white\", \"ticks\": \"\"}}, \"scene\": {\"xaxis\": {\"backgroundcolor\": \"#E5ECF6\", \"gridcolor\": \"white\", \"gridwidth\": 2, \"linecolor\": \"white\", \"showbackground\": true, \"ticks\": \"\", \"zerolinecolor\": \"white\"}, \"yaxis\": {\"backgroundcolor\": \"#E5ECF6\", \"gridcolor\": \"white\", \"gridwidth\": 2, \"linecolor\": \"white\", \"showbackground\": true, \"ticks\": \"\", \"zerolinecolor\": \"white\"}, \"zaxis\": {\"backgroundcolor\": \"#E5ECF6\", \"gridcolor\": \"white\", \"gridwidth\": 2, \"linecolor\": \"white\", \"showbackground\": true, \"ticks\": \"\", \"zerolinecolor\": \"white\"}}, \"shapedefaults\": {\"line\": {\"color\": \"#2a3f5f\"}}, \"ternary\": {\"aaxis\": {\"gridcolor\": \"white\", \"linecolor\": \"white\", \"ticks\": \"\"}, \"baxis\": {\"gridcolor\": \"white\", \"linecolor\": \"white\", \"ticks\": \"\"}, \"bgcolor\": \"#E5ECF6\", \"caxis\": {\"gridcolor\": \"white\", \"linecolor\": \"white\", \"ticks\": \"\"}}, \"title\": {\"x\": 0.05}, \"xaxis\": {\"automargin\": true, \"gridcolor\": \"white\", \"linecolor\": \"white\", \"ticks\": \"\", \"zerolinecolor\": \"white\", \"zerolinewidth\": 2}, \"yaxis\": {\"automargin\": true, \"gridcolor\": \"white\", \"linecolor\": \"white\", \"ticks\": \"\", \"zerolinecolor\": \"white\", \"zerolinewidth\": 2}}}},\n",
       "                        {\"responsive\": true}\n",
       "                    ).then(function(){\n",
       "                            \n",
       "var gd = document.getElementById('b92b056a-2210-4a9b-ac7a-823309472d9e');\n",
       "var x = new MutationObserver(function (mutations, observer) {{\n",
       "        var display = window.getComputedStyle(gd).display;\n",
       "        if (!display || display === 'none') {{\n",
       "            console.log([gd, 'removed!']);\n",
       "            Plotly.purge(gd);\n",
       "            observer.disconnect();\n",
       "        }}\n",
       "}});\n",
       "\n",
       "// Listen for the removal of the full notebook cells\n",
       "var notebookContainer = gd.closest('#notebook-container');\n",
       "if (notebookContainer) {{\n",
       "    x.observe(notebookContainer, {childList: true});\n",
       "}}\n",
       "\n",
       "// Listen for the clearing of the current output cell\n",
       "var outputEl = gd.closest('.output');\n",
       "if (outputEl) {{\n",
       "    x.observe(outputEl, {childList: true});\n",
       "}}\n",
       "\n",
       "                        })\n",
       "                };\n",
       "                });\n",
       "            </script>\n",
       "        </div>"
      ]
     },
     "metadata": {},
     "output_type": "display_data"
    }
   ],
   "source": [
    "import plotly.express as px\n",
    "\n",
    "real = X_train.copy()\n",
    "real[\"cor\"] = 1\n",
    "fake = pd.DataFrame(data_fake, columns=X_train.columns).copy()\n",
    "fake[\"cor\"] = 2\n",
    "data = pd.concat([real,fake])\n",
    "\n",
    "fig = px.parallel_coordinates(data, color=\"cor\", dimensions={\"BB9\",\"BB10\",\"BB17\",\"BB19\",\"BB20\",\"BB21\",\n",
    "                                                             \"BB11\",\"BB12\",\"BB18\"},\n",
    "                             color_continuous_scale=px.colors.diverging.Tealrose,)\n",
    "fig.show()"
   ]
  },
  {
   "cell_type": "code",
   "execution_count": 203,
   "metadata": {},
   "outputs": [
    {
     "name": "stdout",
     "output_type": "stream",
     "text": [
      "(15, 2) (500, 2)\n",
      "Distribuición original de cada caracteristica vs red Generadora entrenada\n"
     ]
    },
    {
     "data": {
      "image/png": "[encoded data removed]",
      "text/plain": [
       "<Figure size 1080x648 with 9 Axes>"
      ]
     },
     "metadata": {
      "needs_background": "light"
     },
     "output_type": "display_data"
    }
   ],
   "source": [
    "noise = np.random.normal(0, 1, size=(500,noise_input))\n",
    "data_fake = G.predict(noise)\n",
    "X_fake_pca = pca_real.transform(data_fake)\n",
    "print(X_train_pca.shape, X_fake_pca.shape)\n",
    "\n",
    "plt.figure(figsize=(15,9))\n",
    "print(\"Distribuición original de cada caracteristica vs red Generadora entrenada\")\n",
    "for col in range(X_train.shape[1]):\n",
    "    aux_real = X_train.iloc[:,col]\n",
    "    aux_fake = data_fake[:,col]\n",
    "    plt.subplot(3,3,col+1)\n",
    "    plt.hist(aux_real, bins=10, label=\"real\")\n",
    "    plt.hist(aux_fake, bins=20, label=\"fake\", alpha=0.3)\n",
    "    #plt.yscale(\"log\")\n",
    "    plt.legend()"
   ]
  },
  {
   "cell_type": "code",
   "execution_count": null,
   "metadata": {},
   "outputs": [],
   "source": []
  },
  {
   "cell_type": "code",
   "execution_count": 204,
   "metadata": {},
   "outputs": [
    {
     "data": {
      "text/plain": [
       "array(['adk', 'cysG', 'dnaG', 'ftsZ', 'gmk', 'gyrA', 'gyrB', 'hcaT',\n",
       "       'idnT', 'rho', 'rpoB', 'rpoC', 'rpoD', 'secA', 'recF'],\n",
       "      dtype=object)"
      ]
     },
     "execution_count": 204,
     "metadata": {},
     "output_type": "execute_result"
    }
   ],
   "source": [
    "hkg_index = X_train.index.values\n",
    "hkg_index"
   ]
  },
  {
   "cell_type": "code",
   "execution_count": 205,
   "metadata": {},
   "outputs": [
    {
     "data": {
      "text/html": [
       "<div>\n",
       "<style scoped>\n",
       "    .dataframe tbody tr th:only-of-type {\n",
       "        vertical-align: middle;\n",
       "    }\n",
       "\n",
       "    .dataframe tbody tr th {\n",
       "        vertical-align: top;\n",
       "    }\n",
       "\n",
       "    .dataframe thead th {\n",
       "        text-align: right;\n",
       "    }\n",
       "</style>\n",
       "<table border=\"1\" class=\"dataframe\">\n",
       "  <thead>\n",
       "    <tr style=\"text-align: right;\">\n",
       "      <th></th>\n",
       "      <th>BB9</th>\n",
       "      <th>BB10</th>\n",
       "      <th>BB17</th>\n",
       "      <th>BB19</th>\n",
       "      <th>BB20</th>\n",
       "      <th>BB21</th>\n",
       "      <th>BB11</th>\n",
       "      <th>BB12</th>\n",
       "      <th>BB18</th>\n",
       "    </tr>\n",
       "    <tr>\n",
       "      <th>Genes</th>\n",
       "      <th></th>\n",
       "      <th></th>\n",
       "      <th></th>\n",
       "      <th></th>\n",
       "      <th></th>\n",
       "      <th></th>\n",
       "      <th></th>\n",
       "      <th></th>\n",
       "      <th></th>\n",
       "    </tr>\n",
       "  </thead>\n",
       "  <tbody>\n",
       "    <tr>\n",
       "      <td>accD</td>\n",
       "      <td>0.045137</td>\n",
       "      <td>0.120125</td>\n",
       "      <td>0.188530</td>\n",
       "      <td>0.110790</td>\n",
       "      <td>-0.053590</td>\n",
       "      <td>-0.065493</td>\n",
       "      <td>-0.075443</td>\n",
       "      <td>-0.072632</td>\n",
       "      <td>-0.111987</td>\n",
       "    </tr>\n",
       "    <tr>\n",
       "      <td>aceF</td>\n",
       "      <td>0.298789</td>\n",
       "      <td>0.286341</td>\n",
       "      <td>0.387846</td>\n",
       "      <td>0.183747</td>\n",
       "      <td>0.116566</td>\n",
       "      <td>-0.111405</td>\n",
       "      <td>0.212370</td>\n",
       "      <td>0.007078</td>\n",
       "      <td>0.282773</td>\n",
       "    </tr>\n",
       "    <tr>\n",
       "      <td>ackA</td>\n",
       "      <td>0.150596</td>\n",
       "      <td>0.176658</td>\n",
       "      <td>0.312647</td>\n",
       "      <td>0.072355</td>\n",
       "      <td>0.036886</td>\n",
       "      <td>-0.101920</td>\n",
       "      <td>-0.062076</td>\n",
       "      <td>-0.167175</td>\n",
       "      <td>-0.078782</td>\n",
       "    </tr>\n",
       "    <tr>\n",
       "      <td>agaV</td>\n",
       "      <td>-0.199513</td>\n",
       "      <td>-0.091164</td>\n",
       "      <td>-0.288427</td>\n",
       "      <td>-0.212252</td>\n",
       "      <td>-0.187829</td>\n",
       "      <td>-0.186418</td>\n",
       "      <td>-0.041110</td>\n",
       "      <td>0.057578</td>\n",
       "      <td>-0.152908</td>\n",
       "    </tr>\n",
       "    <tr>\n",
       "      <td>alaS</td>\n",
       "      <td>0.322265</td>\n",
       "      <td>0.333734</td>\n",
       "      <td>0.434132</td>\n",
       "      <td>0.221647</td>\n",
       "      <td>0.197958</td>\n",
       "      <td>0.071639</td>\n",
       "      <td>0.139663</td>\n",
       "      <td>0.058450</td>\n",
       "      <td>0.137013</td>\n",
       "    </tr>\n",
       "    <tr>\n",
       "      <td>...</td>\n",
       "      <td>...</td>\n",
       "      <td>...</td>\n",
       "      <td>...</td>\n",
       "      <td>...</td>\n",
       "      <td>...</td>\n",
       "      <td>...</td>\n",
       "      <td>...</td>\n",
       "      <td>...</td>\n",
       "      <td>...</td>\n",
       "    </tr>\n",
       "    <tr>\n",
       "      <td>znuC</td>\n",
       "      <td>-0.214879</td>\n",
       "      <td>-0.169396</td>\n",
       "      <td>-0.140529</td>\n",
       "      <td>-0.104167</td>\n",
       "      <td>-0.139650</td>\n",
       "      <td>-0.240036</td>\n",
       "      <td>-0.230384</td>\n",
       "      <td>-0.163196</td>\n",
       "      <td>-0.278886</td>\n",
       "    </tr>\n",
       "    <tr>\n",
       "      <td>zraR</td>\n",
       "      <td>-0.454108</td>\n",
       "      <td>-0.510324</td>\n",
       "      <td>-0.389783</td>\n",
       "      <td>-0.375362</td>\n",
       "      <td>-0.366501</td>\n",
       "      <td>-0.442698</td>\n",
       "      <td>-0.324014</td>\n",
       "      <td>-0.252714</td>\n",
       "      <td>-0.383418</td>\n",
       "    </tr>\n",
       "    <tr>\n",
       "      <td>zraS</td>\n",
       "      <td>-0.368588</td>\n",
       "      <td>-0.436017</td>\n",
       "      <td>-0.286780</td>\n",
       "      <td>-0.243076</td>\n",
       "      <td>-0.368600</td>\n",
       "      <td>-0.425818</td>\n",
       "      <td>-0.155279</td>\n",
       "      <td>-0.210061</td>\n",
       "      <td>-0.332179</td>\n",
       "    </tr>\n",
       "    <tr>\n",
       "      <td>zupT</td>\n",
       "      <td>0.256414</td>\n",
       "      <td>0.291620</td>\n",
       "      <td>0.308734</td>\n",
       "      <td>0.292616</td>\n",
       "      <td>0.272264</td>\n",
       "      <td>0.208778</td>\n",
       "      <td>0.234010</td>\n",
       "      <td>0.216720</td>\n",
       "      <td>0.266934</td>\n",
       "    </tr>\n",
       "    <tr>\n",
       "      <td>zur</td>\n",
       "      <td>0.052189</td>\n",
       "      <td>0.062335</td>\n",
       "      <td>0.050895</td>\n",
       "      <td>0.138917</td>\n",
       "      <td>0.125499</td>\n",
       "      <td>-0.048364</td>\n",
       "      <td>0.026280</td>\n",
       "      <td>0.033462</td>\n",
       "      <td>-0.026651</td>\n",
       "    </tr>\n",
       "  </tbody>\n",
       "</table>\n",
       "<p>4042 rows × 9 columns</p>\n",
       "</div>"
      ],
      "text/plain": [
       "            BB9      BB10      BB17      BB19      BB20      BB21      BB11  \\\n",
       "Genes                                                                         \n",
       "accD   0.045137  0.120125  0.188530  0.110790 -0.053590 -0.065493 -0.075443   \n",
       "aceF   0.298789  0.286341  0.387846  0.183747  0.116566 -0.111405  0.212370   \n",
       "ackA   0.150596  0.176658  0.312647  0.072355  0.036886 -0.101920 -0.062076   \n",
       "agaV  -0.199513 -0.091164 -0.288427 -0.212252 -0.187829 -0.186418 -0.041110   \n",
       "alaS   0.322265  0.333734  0.434132  0.221647  0.197958  0.071639  0.139663   \n",
       "...         ...       ...       ...       ...       ...       ...       ...   \n",
       "znuC  -0.214879 -0.169396 -0.140529 -0.104167 -0.139650 -0.240036 -0.230384   \n",
       "zraR  -0.454108 -0.510324 -0.389783 -0.375362 -0.366501 -0.442698 -0.324014   \n",
       "zraS  -0.368588 -0.436017 -0.286780 -0.243076 -0.368600 -0.425818 -0.155279   \n",
       "zupT   0.256414  0.291620  0.308734  0.292616  0.272264  0.208778  0.234010   \n",
       "zur    0.052189  0.062335  0.050895  0.138917  0.125499 -0.048364  0.026280   \n",
       "\n",
       "           BB12      BB18  \n",
       "Genes                      \n",
       "accD  -0.072632 -0.111987  \n",
       "aceF   0.007078  0.282773  \n",
       "ackA  -0.167175 -0.078782  \n",
       "agaV   0.057578 -0.152908  \n",
       "alaS   0.058450  0.137013  \n",
       "...         ...       ...  \n",
       "znuC  -0.163196 -0.278886  \n",
       "zraR  -0.252714 -0.383418  \n",
       "zraS  -0.210061 -0.332179  \n",
       "zupT   0.216720  0.266934  \n",
       "zur    0.033462 -0.026651  \n",
       "\n",
       "[4042 rows x 9 columns]"
      ]
     },
     "execution_count": 205,
     "metadata": {},
     "output_type": "execute_result"
    }
   ],
   "source": [
    "no_hkg = datos.loc[[i for i in datos.index.values if i not in hkg_index]]\n",
    "no_hkg"
   ]
  },
  {
   "cell_type": "markdown",
   "metadata": {},
   "source": [
    "### Classificaçao dos genes"
   ]
  },
  {
   "cell_type": "code",
   "execution_count": 206,
   "metadata": {},
   "outputs": [
    {
     "data": {
      "image/png": "[encoded data removed]",
      "text/plain": [
       "<Figure size 432x288 with 1 Axes>"
      ]
     },
     "metadata": {
      "needs_background": "light"
     },
     "output_type": "display_data"
    }
   ],
   "source": [
    "fig3 = plt.figure()\n",
    "ax3 = fig3.add_subplot()\n",
    "ax3.spines[\"top\"].set_visible(False)\n",
    "ax3.spines[\"right\"].set_visible(False)\n",
    "no_hkg_pca = pca_real.transform(no_hkg)\n",
    "plt.title(\"2-PCA entre dados reais e fakes\", fontsize=14)\n",
    "plt.xlabel(\"componente principal um\", fontsize=13)\n",
    "plt.ylabel(\"componente principal dois\", fontsize=13)\n",
    "plt.scatter(no_hkg_pca[:,0], no_hkg_pca[:,1], color=\"red\", label=\"no_hkg\", alpha=0.2)\n",
    "plt.scatter(X_fake_pca[:,0], X_fake_pca[:,1], color=\"blue\", label=\"real\", alpha=.4)\n",
    "#plt.scatter(X_train_pca[:,0], X_train_pca[:,1], color=\"green\", label=\"hkg\", alpha=1)\n",
    "plt.legend(loc=\"lower right\");"
   ]
  },
  {
   "cell_type": "code",
   "execution_count": 207,
   "metadata": {},
   "outputs": [
    {
     "data": {
      "text/html": [
       "<div>\n",
       "<style scoped>\n",
       "    .dataframe tbody tr th:only-of-type {\n",
       "        vertical-align: middle;\n",
       "    }\n",
       "\n",
       "    .dataframe tbody tr th {\n",
       "        vertical-align: top;\n",
       "    }\n",
       "\n",
       "    .dataframe thead th {\n",
       "        text-align: right;\n",
       "    }\n",
       "</style>\n",
       "<table border=\"1\" class=\"dataframe\">\n",
       "  <thead>\n",
       "    <tr style=\"text-align: right;\">\n",
       "      <th></th>\n",
       "      <th>BB9</th>\n",
       "      <th>BB10</th>\n",
       "      <th>BB17</th>\n",
       "      <th>BB19</th>\n",
       "      <th>BB20</th>\n",
       "      <th>BB21</th>\n",
       "      <th>BB11</th>\n",
       "      <th>BB12</th>\n",
       "      <th>BB18</th>\n",
       "    </tr>\n",
       "    <tr>\n",
       "      <th>Genes</th>\n",
       "      <th></th>\n",
       "      <th></th>\n",
       "      <th></th>\n",
       "      <th></th>\n",
       "      <th></th>\n",
       "      <th></th>\n",
       "      <th></th>\n",
       "      <th></th>\n",
       "      <th></th>\n",
       "    </tr>\n",
       "  </thead>\n",
       "  <tbody>\n",
       "    <tr>\n",
       "      <td>adk</td>\n",
       "      <td>0.421067</td>\n",
       "      <td>0.444053</td>\n",
       "      <td>0.432250</td>\n",
       "      <td>0.409955</td>\n",
       "      <td>0.335770</td>\n",
       "      <td>0.323935</td>\n",
       "      <td>0.171063</td>\n",
       "      <td>0.117941</td>\n",
       "      <td>0.209343</td>\n",
       "    </tr>\n",
       "    <tr>\n",
       "      <td>cysG</td>\n",
       "      <td>-0.242469</td>\n",
       "      <td>-0.189331</td>\n",
       "      <td>-0.133067</td>\n",
       "      <td>-0.175524</td>\n",
       "      <td>-0.165253</td>\n",
       "      <td>-0.171511</td>\n",
       "      <td>-0.072783</td>\n",
       "      <td>0.041058</td>\n",
       "      <td>-0.015065</td>\n",
       "    </tr>\n",
       "    <tr>\n",
       "      <td>dnaG</td>\n",
       "      <td>0.397591</td>\n",
       "      <td>0.467302</td>\n",
       "      <td>0.487850</td>\n",
       "      <td>0.389927</td>\n",
       "      <td>0.373097</td>\n",
       "      <td>0.369287</td>\n",
       "      <td>0.352653</td>\n",
       "      <td>0.346669</td>\n",
       "      <td>0.389711</td>\n",
       "    </tr>\n",
       "    <tr>\n",
       "      <td>ftsZ</td>\n",
       "      <td>0.448427</td>\n",
       "      <td>0.457208</td>\n",
       "      <td>0.440857</td>\n",
       "      <td>0.495162</td>\n",
       "      <td>0.464367</td>\n",
       "      <td>0.384178</td>\n",
       "      <td>0.282048</td>\n",
       "      <td>0.113646</td>\n",
       "      <td>0.253172</td>\n",
       "    </tr>\n",
       "    <tr>\n",
       "      <td>gmk</td>\n",
       "      <td>0.484390</td>\n",
       "      <td>0.487936</td>\n",
       "      <td>0.491239</td>\n",
       "      <td>0.530510</td>\n",
       "      <td>0.489525</td>\n",
       "      <td>0.464542</td>\n",
       "      <td>0.404887</td>\n",
       "      <td>0.411877</td>\n",
       "      <td>0.447411</td>\n",
       "    </tr>\n",
       "    <tr>\n",
       "      <td>gyrA</td>\n",
       "      <td>0.792618</td>\n",
       "      <td>0.791206</td>\n",
       "      <td>0.758776</td>\n",
       "      <td>0.639837</td>\n",
       "      <td>0.638707</td>\n",
       "      <td>0.561093</td>\n",
       "      <td>0.355498</td>\n",
       "      <td>0.123730</td>\n",
       "      <td>0.354314</td>\n",
       "    </tr>\n",
       "    <tr>\n",
       "      <td>gyrB</td>\n",
       "      <td>0.442215</td>\n",
       "      <td>0.483837</td>\n",
       "      <td>0.516842</td>\n",
       "      <td>0.425167</td>\n",
       "      <td>0.423978</td>\n",
       "      <td>0.381024</td>\n",
       "      <td>0.403222</td>\n",
       "      <td>0.411980</td>\n",
       "      <td>0.489504</td>\n",
       "    </tr>\n",
       "    <tr>\n",
       "      <td>hcaT</td>\n",
       "      <td>-0.304891</td>\n",
       "      <td>-0.227915</td>\n",
       "      <td>-0.171573</td>\n",
       "      <td>-0.135791</td>\n",
       "      <td>-0.103976</td>\n",
       "      <td>-0.231397</td>\n",
       "      <td>-0.123278</td>\n",
       "      <td>-0.166171</td>\n",
       "      <td>-0.235468</td>\n",
       "    </tr>\n",
       "    <tr>\n",
       "      <td>idnT</td>\n",
       "      <td>-0.195801</td>\n",
       "      <td>-0.132584</td>\n",
       "      <td>-0.090990</td>\n",
       "      <td>-0.052164</td>\n",
       "      <td>-0.165537</td>\n",
       "      <td>-0.092403</td>\n",
       "      <td>-0.024737</td>\n",
       "      <td>0.112806</td>\n",
       "      <td>0.041756</td>\n",
       "    </tr>\n",
       "    <tr>\n",
       "      <td>rho</td>\n",
       "      <td>0.780313</td>\n",
       "      <td>0.800595</td>\n",
       "      <td>0.807667</td>\n",
       "      <td>0.759220</td>\n",
       "      <td>0.788715</td>\n",
       "      <td>0.742484</td>\n",
       "      <td>0.650682</td>\n",
       "      <td>0.468507</td>\n",
       "      <td>0.672922</td>\n",
       "    </tr>\n",
       "    <tr>\n",
       "      <td>rpoB</td>\n",
       "      <td>0.666562</td>\n",
       "      <td>0.666139</td>\n",
       "      <td>0.724591</td>\n",
       "      <td>0.629474</td>\n",
       "      <td>0.617026</td>\n",
       "      <td>0.514316</td>\n",
       "      <td>0.458243</td>\n",
       "      <td>0.185170</td>\n",
       "      <td>0.436675</td>\n",
       "    </tr>\n",
       "    <tr>\n",
       "      <td>rpoC</td>\n",
       "      <td>0.628581</td>\n",
       "      <td>0.616989</td>\n",
       "      <td>0.664739</td>\n",
       "      <td>0.566335</td>\n",
       "      <td>0.563600</td>\n",
       "      <td>0.468419</td>\n",
       "      <td>0.409863</td>\n",
       "      <td>0.160770</td>\n",
       "      <td>0.385184</td>\n",
       "    </tr>\n",
       "    <tr>\n",
       "      <td>rpoD</td>\n",
       "      <td>0.530157</td>\n",
       "      <td>0.572994</td>\n",
       "      <td>0.603748</td>\n",
       "      <td>0.539036</td>\n",
       "      <td>0.509263</td>\n",
       "      <td>0.461744</td>\n",
       "      <td>0.435811</td>\n",
       "      <td>0.298736</td>\n",
       "      <td>0.434528</td>\n",
       "    </tr>\n",
       "    <tr>\n",
       "      <td>secA</td>\n",
       "      <td>0.138755</td>\n",
       "      <td>0.152130</td>\n",
       "      <td>0.281019</td>\n",
       "      <td>0.227126</td>\n",
       "      <td>0.169241</td>\n",
       "      <td>0.029813</td>\n",
       "      <td>0.073202</td>\n",
       "      <td>0.001472</td>\n",
       "      <td>0.018235</td>\n",
       "    </tr>\n",
       "    <tr>\n",
       "      <td>recF</td>\n",
       "      <td>-0.047960</td>\n",
       "      <td>-0.003846</td>\n",
       "      <td>-0.035889</td>\n",
       "      <td>0.037494</td>\n",
       "      <td>-0.006859</td>\n",
       "      <td>-0.102865</td>\n",
       "      <td>0.081242</td>\n",
       "      <td>0.190812</td>\n",
       "      <td>0.108484</td>\n",
       "    </tr>\n",
       "  </tbody>\n",
       "</table>\n",
       "</div>"
      ],
      "text/plain": [
       "            BB9      BB10      BB17      BB19      BB20      BB21      BB11  \\\n",
       "Genes                                                                         \n",
       "adk    0.421067  0.444053  0.432250  0.409955  0.335770  0.323935  0.171063   \n",
       "cysG  -0.242469 -0.189331 -0.133067 -0.175524 -0.165253 -0.171511 -0.072783   \n",
       "dnaG   0.397591  0.467302  0.487850  0.389927  0.373097  0.369287  0.352653   \n",
       "ftsZ   0.448427  0.457208  0.440857  0.495162  0.464367  0.384178  0.282048   \n",
       "gmk    0.484390  0.487936  0.491239  0.530510  0.489525  0.464542  0.404887   \n",
       "gyrA   0.792618  0.791206  0.758776  0.639837  0.638707  0.561093  0.355498   \n",
       "gyrB   0.442215  0.483837  0.516842  0.425167  0.423978  0.381024  0.403222   \n",
       "hcaT  -0.304891 -0.227915 -0.171573 -0.135791 -0.103976 -0.231397 -0.123278   \n",
       "idnT  -0.195801 -0.132584 -0.090990 -0.052164 -0.165537 -0.092403 -0.024737   \n",
       "rho    0.780313  0.800595  0.807667  0.759220  0.788715  0.742484  0.650682   \n",
       "rpoB   0.666562  0.666139  0.724591  0.629474  0.617026  0.514316  0.458243   \n",
       "rpoC   0.628581  0.616989  0.664739  0.566335  0.563600  0.468419  0.409863   \n",
       "rpoD   0.530157  0.572994  0.603748  0.539036  0.509263  0.461744  0.435811   \n",
       "secA   0.138755  0.152130  0.281019  0.227126  0.169241  0.029813  0.073202   \n",
       "recF  -0.047960 -0.003846 -0.035889  0.037494 -0.006859 -0.102865  0.081242   \n",
       "\n",
       "           BB12      BB18  \n",
       "Genes                      \n",
       "adk    0.117941  0.209343  \n",
       "cysG   0.041058 -0.015065  \n",
       "dnaG   0.346669  0.389711  \n",
       "ftsZ   0.113646  0.253172  \n",
       "gmk    0.411877  0.447411  \n",
       "gyrA   0.123730  0.354314  \n",
       "gyrB   0.411980  0.489504  \n",
       "hcaT  -0.166171 -0.235468  \n",
       "idnT   0.112806  0.041756  \n",
       "rho    0.468507  0.672922  \n",
       "rpoB   0.185170  0.436675  \n",
       "rpoC   0.160770  0.385184  \n",
       "rpoD   0.298736  0.434528  \n",
       "secA   0.001472  0.018235  \n",
       "recF   0.190812  0.108484  "
      ]
     },
     "execution_count": 207,
     "metadata": {},
     "output_type": "execute_result"
    }
   ],
   "source": [
    "X_train"
   ]
  },
  {
   "cell_type": "code",
   "execution_count": 208,
   "metadata": {},
   "outputs": [
    {
     "name": "stdout",
     "output_type": "stream",
     "text": [
      "0.444 0.556\n",
      "0.436 0.564\n",
      "0.428 0.572\n",
      "0.462 0.538\n",
      "0.412 0.588\n",
      "0.436 0.564\n",
      "0.424 0.576\n",
      "0.446 0.554\n",
      "0.428 0.572\n",
      "0.422 0.578\n",
      "0.378 0.622\n",
      "0.416 0.584\n",
      "0.432 0.568\n",
      "0.378 0.622\n",
      "0.392 0.608\n",
      "0.446 0.554\n",
      "0.416 0.584\n",
      "0.416 0.584\n",
      "0.448 0.552\n",
      "0.428 0.572\n",
      "0.432 0.568\n",
      "0.42 0.58\n",
      "0.442 0.558\n",
      "0.426 0.574\n",
      "0.426 0.574\n",
      "0.432 0.568\n",
      "0.392 0.608\n",
      "0.398 0.602\n",
      "0.4 0.6\n",
      "0.396 0.604\n",
      "0.392 0.608\n",
      "0.408 0.592\n",
      "0.422 0.578\n",
      "0.402 0.598\n",
      "0.39 0.61\n",
      "0.424 0.576\n",
      "0.416 0.584\n",
      "0.42 0.58\n",
      "0.408 0.592\n",
      "0.416 0.584\n",
      "0.4 0.6\n",
      "0.392 0.608\n",
      "0.404 0.596\n",
      "0.382 0.618\n",
      "0.384 0.616\n",
      "0.422 0.578\n",
      "0.406 0.594\n",
      "0.434 0.566\n",
      "0.428 0.572\n",
      "0.402 0.598\n"
     ]
    }
   ],
   "source": [
    "for i in range(50):\n",
    "    noise = np.random.normal(0, 1, size=(500,noise_input))\n",
    "    data_fake = G.predict(noise)\n",
    "    print(np.mean(D.predict_classes(data_fake)==1), np.mean(D.predict_classes(data_fake)==0))"
   ]
  },
  {
   "cell_type": "code",
   "execution_count": null,
   "metadata": {},
   "outputs": [],
   "source": []
  },
  {
   "cell_type": "code",
   "execution_count": null,
   "metadata": {},
   "outputs": [],
   "source": []
  }
 ],
 "metadata": {
  "celltoolbar": "Raw Cell Format",
  "kernelspec": {
   "display_name": "Python 3",
   "language": "python",
   "name": "python3"
  },
  "language_info": {
   "codemirror_mode": {
    "name": "ipython",
    "version": 3
   },
   "file_extension": ".py",
   "mimetype": "text/x-python",
   "name": "python",
   "nbconvert_exporter": "python",
   "pygments_lexer": "ipython3",
   "version": "3.6.8"
  }
 },
 "nbformat": 4,
 "nbformat_minor": 2
}
