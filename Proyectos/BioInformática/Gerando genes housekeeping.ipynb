{
 "cells": [
  {
   "cell_type": "code",
   "execution_count": 1,
   "metadata": {},
   "outputs": [],
   "source": [
    "import numpy as np\n",
    "import pandas as pd\n",
    "from time import time\n",
    "import matplotlib.pyplot as plt\n",
    "from sklearn.decomposition import PCA\n",
    "from tensorflow.keras.models import Sequential\n",
    "from tensorflow.keras.layers import Dense, Dropout, LeakyReLU, Reshape, Flatten\n",
    "from tensorflow.keras.optimizers import Adam, RMSprop, SGD"
   ]
  },
  {
   "cell_type": "code",
   "execution_count": 130,
   "metadata": {},
   "outputs": [
    {
     "name": "stdout",
     "output_type": "stream",
     "text": [
      "Dimensionalidade dos dados:  (15, 9)\n"
     ]
    },
    {
     "data": {
      "text/html": [
       "<div>\n",
       "<style scoped>\n",
       "    .dataframe tbody tr th:only-of-type {\n",
       "        vertical-align: middle;\n",
       "    }\n",
       "\n",
       "    .dataframe tbody tr th {\n",
       "        vertical-align: top;\n",
       "    }\n",
       "\n",
       "    .dataframe thead th {\n",
       "        text-align: right;\n",
       "    }\n",
       "</style>\n",
       "<table border=\"1\" class=\"dataframe\">\n",
       "  <thead>\n",
       "    <tr style=\"text-align: right;\">\n",
       "      <th></th>\n",
       "      <th>BB9</th>\n",
       "      <th>BB10</th>\n",
       "      <th>BB17</th>\n",
       "      <th>BB19</th>\n",
       "      <th>BB20</th>\n",
       "      <th>BB21</th>\n",
       "      <th>BB11</th>\n",
       "      <th>BB12</th>\n",
       "      <th>BB18</th>\n",
       "    </tr>\n",
       "    <tr>\n",
       "      <th>Genes</th>\n",
       "      <th></th>\n",
       "      <th></th>\n",
       "      <th></th>\n",
       "      <th></th>\n",
       "      <th></th>\n",
       "      <th></th>\n",
       "      <th></th>\n",
       "      <th></th>\n",
       "      <th></th>\n",
       "    </tr>\n",
       "  </thead>\n",
       "  <tbody>\n",
       "    <tr>\n",
       "      <td>accD</td>\n",
       "      <td>6.875411</td>\n",
       "      <td>7.047582</td>\n",
       "      <td>7.431765</td>\n",
       "      <td>7.105877</td>\n",
       "      <td>6.516094</td>\n",
       "      <td>6.676126</td>\n",
       "      <td>6.304694</td>\n",
       "      <td>6.168221</td>\n",
       "      <td>6.245553</td>\n",
       "    </tr>\n",
       "    <tr>\n",
       "      <td>aceF</td>\n",
       "      <td>7.732412</td>\n",
       "      <td>7.674997</td>\n",
       "      <td>8.397717</td>\n",
       "      <td>7.455056</td>\n",
       "      <td>7.277269</td>\n",
       "      <td>6.525536</td>\n",
       "      <td>7.455730</td>\n",
       "      <td>6.403830</td>\n",
       "      <td>7.597941</td>\n",
       "    </tr>\n",
       "    <tr>\n",
       "      <td>ackA</td>\n",
       "      <td>7.231720</td>\n",
       "      <td>7.260976</td>\n",
       "      <td>8.033280</td>\n",
       "      <td>6.921924</td>\n",
       "      <td>6.920829</td>\n",
       "      <td>6.556644</td>\n",
       "      <td>6.358150</td>\n",
       "      <td>5.888768</td>\n",
       "      <td>6.359310</td>\n",
       "    </tr>\n",
       "    <tr>\n",
       "      <td>agaV</td>\n",
       "      <td>6.048825</td>\n",
       "      <td>6.250033</td>\n",
       "      <td>5.120269</td>\n",
       "      <td>5.559767</td>\n",
       "      <td>5.915593</td>\n",
       "      <td>6.279490</td>\n",
       "      <td>6.441998</td>\n",
       "      <td>6.553099</td>\n",
       "      <td>6.105364</td>\n",
       "    </tr>\n",
       "    <tr>\n",
       "      <td>alaS</td>\n",
       "      <td>7.811728</td>\n",
       "      <td>7.853890</td>\n",
       "      <td>8.622037</td>\n",
       "      <td>7.636451</td>\n",
       "      <td>7.641365</td>\n",
       "      <td>7.125920</td>\n",
       "      <td>7.164957</td>\n",
       "      <td>6.555678</td>\n",
       "      <td>7.098590</td>\n",
       "    </tr>\n",
       "  </tbody>\n",
       "</table>\n",
       "</div>"
      ],
      "text/plain": [
       "            BB9      BB10      BB17      BB19      BB20      BB21      BB11  \\\n",
       "Genes                                                                         \n",
       "accD   6.875411  7.047582  7.431765  7.105877  6.516094  6.676126  6.304694   \n",
       "aceF   7.732412  7.674997  8.397717  7.455056  7.277269  6.525536  7.455730   \n",
       "ackA   7.231720  7.260976  8.033280  6.921924  6.920829  6.556644  6.358150   \n",
       "agaV   6.048825  6.250033  5.120269  5.559767  5.915593  6.279490  6.441998   \n",
       "alaS   7.811728  7.853890  8.622037  7.636451  7.641365  7.125920  7.164957   \n",
       "\n",
       "           BB12      BB18  \n",
       "Genes                      \n",
       "accD   6.168221  6.245553  \n",
       "aceF   6.403830  7.597941  \n",
       "ackA   5.888768  6.359310  \n",
       "agaV   6.553099  6.105364  \n",
       "alaS   6.555678  7.098590  "
      ]
     },
     "execution_count": 130,
     "metadata": {},
     "output_type": "execute_result"
    }
   ],
   "source": [
    "datos = pd.read_csv(\"./data/ClustREFGenes-master/Data/Core_genome/Data_Core_Genome_Ecoli_log2.csv\",\n",
    "                  index_col=0)\n",
    "print(\"Dimensionalidade dos dados: \", X_train.shape)\n",
    "datos.head()"
   ]
  },
  {
   "cell_type": "code",
   "execution_count": 171,
   "metadata": {},
   "outputs": [
    {
     "data": {
      "text/html": [
       "<div>\n",
       "<style scoped>\n",
       "    .dataframe tbody tr th:only-of-type {\n",
       "        vertical-align: middle;\n",
       "    }\n",
       "\n",
       "    .dataframe tbody tr th {\n",
       "        vertical-align: top;\n",
       "    }\n",
       "\n",
       "    .dataframe thead th {\n",
       "        text-align: right;\n",
       "    }\n",
       "</style>\n",
       "<table border=\"1\" class=\"dataframe\">\n",
       "  <thead>\n",
       "    <tr style=\"text-align: right;\">\n",
       "      <th></th>\n",
       "      <th>BB9</th>\n",
       "      <th>BB10</th>\n",
       "      <th>BB17</th>\n",
       "      <th>BB19</th>\n",
       "      <th>BB20</th>\n",
       "      <th>BB21</th>\n",
       "      <th>BB11</th>\n",
       "      <th>BB12</th>\n",
       "      <th>BB18</th>\n",
       "    </tr>\n",
       "    <tr>\n",
       "      <th>Genes</th>\n",
       "      <th></th>\n",
       "      <th></th>\n",
       "      <th></th>\n",
       "      <th></th>\n",
       "      <th></th>\n",
       "      <th></th>\n",
       "      <th></th>\n",
       "      <th></th>\n",
       "      <th></th>\n",
       "    </tr>\n",
       "  </thead>\n",
       "  <tbody>\n",
       "    <tr>\n",
       "      <td>accD</td>\n",
       "      <td>0.045137</td>\n",
       "      <td>0.120125</td>\n",
       "      <td>0.188530</td>\n",
       "      <td>0.110790</td>\n",
       "      <td>-0.053590</td>\n",
       "      <td>-0.065493</td>\n",
       "      <td>-0.075443</td>\n",
       "      <td>-0.072632</td>\n",
       "      <td>-0.111987</td>\n",
       "    </tr>\n",
       "    <tr>\n",
       "      <td>aceF</td>\n",
       "      <td>0.298789</td>\n",
       "      <td>0.286341</td>\n",
       "      <td>0.387846</td>\n",
       "      <td>0.183747</td>\n",
       "      <td>0.116566</td>\n",
       "      <td>-0.111405</td>\n",
       "      <td>0.212370</td>\n",
       "      <td>0.007078</td>\n",
       "      <td>0.282773</td>\n",
       "    </tr>\n",
       "    <tr>\n",
       "      <td>ackA</td>\n",
       "      <td>0.150596</td>\n",
       "      <td>0.176658</td>\n",
       "      <td>0.312647</td>\n",
       "      <td>0.072355</td>\n",
       "      <td>0.036886</td>\n",
       "      <td>-0.101920</td>\n",
       "      <td>-0.062076</td>\n",
       "      <td>-0.167175</td>\n",
       "      <td>-0.078782</td>\n",
       "    </tr>\n",
       "    <tr>\n",
       "      <td>agaV</td>\n",
       "      <td>-0.199513</td>\n",
       "      <td>-0.091164</td>\n",
       "      <td>-0.288427</td>\n",
       "      <td>-0.212252</td>\n",
       "      <td>-0.187829</td>\n",
       "      <td>-0.186418</td>\n",
       "      <td>-0.041110</td>\n",
       "      <td>0.057578</td>\n",
       "      <td>-0.152908</td>\n",
       "    </tr>\n",
       "    <tr>\n",
       "      <td>alaS</td>\n",
       "      <td>0.322265</td>\n",
       "      <td>0.333734</td>\n",
       "      <td>0.434132</td>\n",
       "      <td>0.221647</td>\n",
       "      <td>0.197958</td>\n",
       "      <td>0.071639</td>\n",
       "      <td>0.139663</td>\n",
       "      <td>0.058450</td>\n",
       "      <td>0.137013</td>\n",
       "    </tr>\n",
       "    <tr>\n",
       "      <td>...</td>\n",
       "      <td>...</td>\n",
       "      <td>...</td>\n",
       "      <td>...</td>\n",
       "      <td>...</td>\n",
       "      <td>...</td>\n",
       "      <td>...</td>\n",
       "      <td>...</td>\n",
       "      <td>...</td>\n",
       "      <td>...</td>\n",
       "    </tr>\n",
       "    <tr>\n",
       "      <td>znuC</td>\n",
       "      <td>-0.214879</td>\n",
       "      <td>-0.169396</td>\n",
       "      <td>-0.140529</td>\n",
       "      <td>-0.104167</td>\n",
       "      <td>-0.139650</td>\n",
       "      <td>-0.240036</td>\n",
       "      <td>-0.230384</td>\n",
       "      <td>-0.163196</td>\n",
       "      <td>-0.278886</td>\n",
       "    </tr>\n",
       "    <tr>\n",
       "      <td>zraR</td>\n",
       "      <td>-0.454108</td>\n",
       "      <td>-0.510324</td>\n",
       "      <td>-0.389783</td>\n",
       "      <td>-0.375362</td>\n",
       "      <td>-0.366501</td>\n",
       "      <td>-0.442698</td>\n",
       "      <td>-0.324014</td>\n",
       "      <td>-0.252714</td>\n",
       "      <td>-0.383418</td>\n",
       "    </tr>\n",
       "    <tr>\n",
       "      <td>zraS</td>\n",
       "      <td>-0.368588</td>\n",
       "      <td>-0.436017</td>\n",
       "      <td>-0.286780</td>\n",
       "      <td>-0.243076</td>\n",
       "      <td>-0.368600</td>\n",
       "      <td>-0.425818</td>\n",
       "      <td>-0.155279</td>\n",
       "      <td>-0.210061</td>\n",
       "      <td>-0.332179</td>\n",
       "    </tr>\n",
       "    <tr>\n",
       "      <td>zupT</td>\n",
       "      <td>0.256414</td>\n",
       "      <td>0.291620</td>\n",
       "      <td>0.308734</td>\n",
       "      <td>0.292616</td>\n",
       "      <td>0.272264</td>\n",
       "      <td>0.208778</td>\n",
       "      <td>0.234010</td>\n",
       "      <td>0.216720</td>\n",
       "      <td>0.266934</td>\n",
       "    </tr>\n",
       "    <tr>\n",
       "      <td>zur</td>\n",
       "      <td>0.052189</td>\n",
       "      <td>0.062335</td>\n",
       "      <td>0.050895</td>\n",
       "      <td>0.138917</td>\n",
       "      <td>0.125499</td>\n",
       "      <td>-0.048364</td>\n",
       "      <td>0.026280</td>\n",
       "      <td>0.033462</td>\n",
       "      <td>-0.026651</td>\n",
       "    </tr>\n",
       "  </tbody>\n",
       "</table>\n",
       "<p>4051 rows × 9 columns</p>\n",
       "</div>"
      ],
      "text/plain": [
       "            BB9      BB10      BB17      BB19      BB20      BB21      BB11  \\\n",
       "Genes                                                                         \n",
       "accD   0.045137  0.120125  0.188530  0.110790 -0.053590 -0.065493 -0.075443   \n",
       "aceF   0.298789  0.286341  0.387846  0.183747  0.116566 -0.111405  0.212370   \n",
       "ackA   0.150596  0.176658  0.312647  0.072355  0.036886 -0.101920 -0.062076   \n",
       "agaV  -0.199513 -0.091164 -0.288427 -0.212252 -0.187829 -0.186418 -0.041110   \n",
       "alaS   0.322265  0.333734  0.434132  0.221647  0.197958  0.071639  0.139663   \n",
       "...         ...       ...       ...       ...       ...       ...       ...   \n",
       "znuC  -0.214879 -0.169396 -0.140529 -0.104167 -0.139650 -0.240036 -0.230384   \n",
       "zraR  -0.454108 -0.510324 -0.389783 -0.375362 -0.366501 -0.442698 -0.324014   \n",
       "zraS  -0.368588 -0.436017 -0.286780 -0.243076 -0.368600 -0.425818 -0.155279   \n",
       "zupT   0.256414  0.291620  0.308734  0.292616  0.272264  0.208778  0.234010   \n",
       "zur    0.052189  0.062335  0.050895  0.138917  0.125499 -0.048364  0.026280   \n",
       "\n",
       "           BB12      BB18  \n",
       "Genes                      \n",
       "accD  -0.072632 -0.111987  \n",
       "aceF   0.007078  0.282773  \n",
       "ackA  -0.167175 -0.078782  \n",
       "agaV   0.057578 -0.152908  \n",
       "alaS   0.058450  0.137013  \n",
       "...         ...       ...  \n",
       "znuC  -0.163196 -0.278886  \n",
       "zraR  -0.252714 -0.383418  \n",
       "zraS  -0.210061 -0.332179  \n",
       "zupT   0.216720  0.266934  \n",
       "zur    0.033462 -0.026651  \n",
       "\n",
       "[4051 rows x 9 columns]"
      ]
     },
     "execution_count": 171,
     "metadata": {},
     "output_type": "execute_result"
    }
   ],
   "source": [
    "max_val = 1\n",
    "min_val = -1\n",
    "datos = ((datos - np.min(datos))/(np.max(datos) - np.min(datos)))*(max_val - min_val) + min_val\n",
    "datos"
   ]
  },
  {
   "cell_type": "code",
   "execution_count": 3,
   "metadata": {},
   "outputs": [],
   "source": [
    "hkg = [\"adk\",\"cysG\",\"dnaG\",\"ftsZ\",\"gap\",\"gmk\",\"gyrA\",\"gyrB\",\"hcaT\",\"idnT\",\"recA\",\n",
    "       \"rho\",\"rpoA\",\"rpoB\",\"rpoC\",\"rpoD\",\"secA\",\"recF\",\"fusA\",\"glnA\",\"tuf\"]"
   ]
  },
  {
   "cell_type": "code",
   "execution_count": 4,
   "metadata": {},
   "outputs": [
    {
     "name": "stderr",
     "output_type": "stream",
     "text": [
      "/usr/local/lib/python3.6/dist-packages/ipykernel_launcher.py:2: FutureWarning: \n",
      "Passing list-likes to .loc or [] with any missing label will raise\n",
      "KeyError in the future, you can use .reindex() as an alternative.\n",
      "\n",
      "See the documentation here:\n",
      "https://pandas.pydata.org/pandas-docs/stable/user_guide/indexing.html#deprecate-loc-reindex-listlike\n",
      "  \n"
     ]
    },
    {
     "data": {
      "text/plain": [
       "(15, 9)"
      ]
     },
     "execution_count": 4,
     "metadata": {},
     "output_type": "execute_result"
    }
   ],
   "source": [
    "#X_train = X_train.sample(n=100)\n",
    "X_train = datos.loc[hkg].dropna()\n",
    "X_train.shape"
   ]
  },
  {
   "cell_type": "code",
   "execution_count": 6,
   "metadata": {},
   "outputs": [
    {
     "data": {
      "image/png": "[encoded data removed]",
      "text/plain": [
       "<Figure size 432x288 with 1 Axes>"
      ]
     },
     "metadata": {
      "needs_background": "light"
     },
     "output_type": "display_data"
    }
   ],
   "source": [
    "pca_real = PCA(n_components=2)\n",
    "X_train_pca = pca_real.fit_transform(X_train)\n",
    "fig = plt.figure()\n",
    "ax = fig.add_subplot()\n",
    "ax.spines['top'].set_visible(False)\n",
    "ax.spines['right'].set_visible(False)\n",
    "plt.title(\"PCA = 2\", fontsize=14)\n",
    "plt.xlabel(\"componente principal um\", fontsize=13)\n",
    "plt.ylabel(\"componente principal dois\", fontsize=13)\n",
    "plt.scatter(X_train_pca[:,0], X_train_pca[:,1], color=\"green\");"
   ]
  },
  {
   "cell_type": "code",
   "execution_count": 7,
   "metadata": {},
   "outputs": [],
   "source": [
    "class Generator():\n",
    "    def __init__(self, noise_input, out_dim, optimizerG):\n",
    "        self.noise_input = noise_input\n",
    "        self.out_dim = out_dim\n",
    "        self.optimizerG = optimizerG\n",
    "        \n",
    "    def generator(self):\n",
    "        \"\"\"\n",
    "        noise_input: vector con los datos de la distribuición inicial\n",
    "        out_dim: dimension de la salida esperada, por ejemplo si es una imagen\n",
    "                 en escala de gris, sería out_dim: (32,32,1)\n",
    "        Retorna el modelo Generador\n",
    "        \"\"\"\n",
    "        model = Sequential()\n",
    "        model.add(Dense(64, input_shape=(self.noise_input,)))\n",
    "        model.add(Dense(64))\n",
    "        model.add(Dense(64))\n",
    "        model.add(Dense(np.prod(self.out_dim), activation=\"tanh\"))\n",
    "        model.add(Reshape(self.out_dim))\n",
    "        return model\n",
    "    \n",
    "    def compileG(self):\n",
    "        Gr = self.generator()\n",
    "        Gr.compile(loss=\"binary_crossentropy\", optimizer= self.optimizerG)\n",
    "        return Gr"
   ]
  },
  {
   "cell_type": "code",
   "execution_count": 9,
   "metadata": {},
   "outputs": [
    {
     "name": "stdout",
     "output_type": "stream",
     "text": [
      "Dimension del ruido de entrada:  100\n"
     ]
    }
   ],
   "source": [
    "noise_input = 100\n",
    "optimizerG = Adam(lr=0.0001, beta_1=0.5)\n",
    "obj_G = Generator(noise_input, (9,), optimizerG)\n",
    "print(\"Dimension del ruido de entrada: \",noise_input)\n",
    "G = obj_G.compileG()"
   ]
  },
  {
   "cell_type": "code",
   "execution_count": 10,
   "metadata": {},
   "outputs": [
    {
     "name": "stdout",
     "output_type": "stream",
     "text": [
      "Model: \"sequential_1\"\n",
      "_________________________________________________________________\n",
      "Layer (type)                 Output Shape              Param #   \n",
      "=================================================================\n",
      "dense_4 (Dense)              (None, 64)                6464      \n",
      "_________________________________________________________________\n",
      "dense_5 (Dense)              (None, 64)                4160      \n",
      "_________________________________________________________________\n",
      "dense_6 (Dense)              (None, 64)                4160      \n",
      "_________________________________________________________________\n",
      "dense_7 (Dense)              (None, 9)                 585       \n",
      "_________________________________________________________________\n",
      "reshape_1 (Reshape)          (None, 9)                 0         \n",
      "=================================================================\n",
      "Total params: 15,369\n",
      "Trainable params: 15,369\n",
      "Non-trainable params: 0\n",
      "_________________________________________________________________\n"
     ]
    }
   ],
   "source": [
    "G.summary()"
   ]
  },
  {
   "cell_type": "code",
   "execution_count": 11,
   "metadata": {},
   "outputs": [
    {
     "name": "stdout",
     "output_type": "stream",
     "text": [
      "Dimension de los datos de entrada: (15, 100)\n",
      "Dimension de los ejemplos generados: (15, 9)\n"
     ]
    }
   ],
   "source": [
    "noise = np.random.normal(loc=0, scale=1, size=(X_train.shape[0],noise_input))\n",
    "print(\"Dimension de los datos de entrada:\", noise.shape)\n",
    "data_fake = G.predict(noise)\n",
    "print(\"Dimension de los ejemplos generados:\", data_fake.shape)"
   ]
  },
  {
   "cell_type": "code",
   "execution_count": 12,
   "metadata": {},
   "outputs": [
    {
     "name": "stdout",
     "output_type": "stream",
     "text": [
      "Distribuición original de cada caracteristica vs red Generadora sin entrenar\n"
     ]
    },
    {
     "data": {
      "image/png": "[encoded data removed]",
      "text/plain": [
       "<Figure size 1080x648 with 9 Axes>"
      ]
     },
     "metadata": {
      "needs_background": "light"
     },
     "output_type": "display_data"
    }
   ],
   "source": [
    "plt.figure(figsize=(15,9))\n",
    "print(\"Distribuición original de cada caracteristica vs red Generadora sin entrenar\")\n",
    "for col in range(X_train.shape[1]):\n",
    "    aux_real = X_train.iloc[:,col]\n",
    "    aux_fake = data_fake[:,col]\n",
    "    plt.subplot(3,3,col+1)\n",
    "    plt.hist(aux_real, bins=10, label=\"real\",)\n",
    "    plt.hist(aux_fake, bins=10, label=\"fake\", alpha=0.9)\n",
    "    plt.legend()"
   ]
  },
  {
   "cell_type": "code",
   "execution_count": 18,
   "metadata": {},
   "outputs": [
    {
     "data": {
      "image/png": "[encoded data removed]",
      "text/plain": [
       "<Figure size 432x288 with 1 Axes>"
      ]
     },
     "metadata": {
      "needs_background": "light"
     },
     "output_type": "display_data"
    }
   ],
   "source": [
    "noise = np.random.normal(loc=0, scale=1, size=(800,noise_input))\n",
    "fig1 = plt.figure()\n",
    "ax1 = fig1.add_subplot()\n",
    "ax1.spines[\"top\"].set_visible(False)\n",
    "ax1.spines[\"right\"].set_visible(False)\n",
    "plt.title(\"2-PCA entre dados reais e fakes\", fontsize=14)\n",
    "plt.xlabel(\"componente principal um\", fontsize=13)\n",
    "plt.ylabel(\"componente principal dois\", fontsize=13)\n",
    "x_noise = G.predict(noise)\n",
    "X_fake_pca = pca_real.transform(x_noise)\n",
    "plt.scatter(X_fake_pca[:,0], X_fake_pca[:,1], color=\"red\", label=\"fake\", alpha=.3)\n",
    "plt.scatter(X_train_pca[:,0], X_train_pca[:,1], color=\"green\", label=\"real\", alpha=1)\n",
    "plt.legend();"
   ]
  },
  {
   "cell_type": "code",
   "execution_count": 19,
   "metadata": {},
   "outputs": [],
   "source": [
    "class Discriminator():\n",
    "    \n",
    "    def __init__(self, input_dim, optimizerD):\n",
    "        self.input_dim = input_dim\n",
    "        self.optimizerD = optimizerD\n",
    "    \n",
    "    def discriminator(self):\n",
    "        \"\"\"\n",
    "        input_dim: dimension de los datos de entrada,\n",
    "                   por ejemplo si es una imagen en escala de gris,\n",
    "                   sería input_dim: (32,32,1)\n",
    "        \"\"\"\n",
    "        model = Sequential()\n",
    "        model.add(Dense(32, input_shape=self.input_dim))\n",
    "        model.add(LeakyReLU(alpha=0.2)) #función rectificadora\n",
    "        model.add(Dropout(.1))\n",
    "        model.add(Flatten())\n",
    "        #activación sigmoid ya que se precisa establecer si es 0 ó 1.\n",
    "        model.add(Dense(1, activation='sigmoid'))\n",
    "        return model\n",
    "    \n",
    "    def compileD(self):\n",
    "        Dr = self.discriminator()\n",
    "        Dr.compile(loss=\"binary_crossentropy\", optimizer=optimizerD, metrics=[\"accuracy\"])\n",
    "        return Dr"
   ]
  },
  {
   "cell_type": "code",
   "execution_count": 20,
   "metadata": {},
   "outputs": [
    {
     "name": "stdout",
     "output_type": "stream",
     "text": [
      "WARNING:tensorflow:From /home/edwin/.local/lib/python3.6/site-packages/tensorflow_core/python/ops/nn_impl.py:183: where (from tensorflow.python.ops.array_ops) is deprecated and will be removed in a future version.\n",
      "Instructions for updating:\n",
      "Use tf.where in 2.0, which has the same broadcast rule as np.where\n"
     ]
    }
   ],
   "source": [
    "optimizerD = Adam(lr=0.0001, beta_1=0.5)\n",
    "objD = Discriminator((X_train.shape[1],), optimizerD)\n",
    "D = objD.compileD()"
   ]
  },
  {
   "cell_type": "code",
   "execution_count": 21,
   "metadata": {},
   "outputs": [],
   "source": [
    "def Gan(generator, discriminator):\n",
    "    \"\"\"\n",
    "    recibe como parámetros de entrada las redes\n",
    "    generador y discriminador\n",
    "    \"\"\"\n",
    "    model = Sequential()\n",
    "    model.add(generator)\n",
    "    discriminator.trainable = False #no se actualizan los pesos\n",
    "    model.add(discriminator)\n",
    "    return model"
   ]
  },
  {
   "cell_type": "code",
   "execution_count": 24,
   "metadata": {},
   "outputs": [],
   "source": [
    "def get_batches(X_train, batch_size):\n",
    "    \"\"\"\n",
    "    X_train: dataset para o treino\n",
    "    epochs: quantidade de epocas para o treino do gradiente\n",
    "    batch: tamanho to batch pra o treino de cada epochs\n",
    "    \"\"\"\n",
    "    batches = []\n",
    "    num_bat = int(np.ceil(X_train.shape[0]/batch_size))\n",
    "    lim_i = 0\n",
    "    lim_s = batch_size\n",
    "    for i in range(num_bat):\n",
    "        if lim_s > X_train.shape[0]:\n",
    "            lim_s = X_train.shape[0]\n",
    "        batches.append(X_train[lim_i:lim_s])\n",
    "        lim_i += batch_size\n",
    "        lim_s += batch_size\n",
    "    return batches"
   ]
  },
  {
   "cell_type": "code",
   "execution_count": 86,
   "metadata": {},
   "outputs": [],
   "source": [
    "#treinamento da GAN\n",
    "def train(X_train, epochs, batch_size, G, D, gan, noise_input):\n",
    "    g_loss = []\n",
    "    d_loss = []\n",
    "    for epoch in range(epochs):\n",
    "        batches = get_batches(X_train, batch_size)\n",
    "        count_b = 0\n",
    "        t_i = time()\n",
    "        d_bacth_loss = []\n",
    "        g_bacth_loss = []\n",
    "        for batch in batches:\n",
    "            gen_noise = np.random.normal(0, 1, (np.int64(batch.shape[0]), noise_input))\n",
    "            #gerando as imagens fake\n",
    "            syntetic_data = G.predict(gen_noise)\n",
    "            #criação do array de treinamento\n",
    "            x_combined_batch = np.concatenate((batch, syntetic_data))\n",
    "            y_combined_batch = np.concatenate((np.ones((batch.shape[0], 1)),\n",
    "                                               np.zeros((batch.shape[0], 1))))\n",
    "            #misturar os dados\n",
    "            #x_combined_batch, y_combined_batch = shuffle(x_combined_batch, y_combined_batch)\n",
    "            #treino do discriminador\n",
    "            d_bacth_loss.append(D.train_on_batch(x_combined_batch, y_combined_batch)[0])\n",
    "            # train generator\n",
    "            noise = np.random.normal(0, 1, (batch.shape[0], noise_input))\n",
    "            y_mislabled = np.ones((batch.shape[0], 1))\n",
    "            g_bacth_loss.append(gan.train_on_batch(noise, y_mislabled))\n",
    "        t_f = time()\n",
    "        t = t_f - t_i\n",
    "        t_i = time()\n",
    "        d_loss.append(np.mean(np.array(d_bacth_loss)))\n",
    "        g_loss.append(np.mean(np.array(g_bacth_loss)))\n",
    "        #d_loss.append(np.array(d_bacth_loss[-1]))\n",
    "        #g_loss.append(np.array(g_bacth_loss[-1]))\n",
    "        print ('epoch:[%d/%d] [Discriminator::d_loss: %f],[Generator::loss: %f], %f[sec]'\n",
    "                   % (epoch+1, epochs, d_loss[-1], g_loss[-1], t))\n",
    "    return g_loss, d_loss\n"
   ]
  },
  {
   "cell_type": "code",
   "execution_count": 87,
   "metadata": {},
   "outputs": [
    {
     "name": "stdout",
     "output_type": "stream",
     "text": [
      "Dimension del ruido de entrada:  100\n",
      "Model: \"sequential_59\"\n",
      "_________________________________________________________________\n",
      "Layer (type)                 Output Shape              Param #   \n",
      "=================================================================\n",
      "sequential_57 (Sequential)   (None, 9)                 15369     \n",
      "_________________________________________________________________\n",
      "sequential_58 (Sequential)   (None, 1)                 353       \n",
      "=================================================================\n",
      "Total params: 15,722\n",
      "Trainable params: 15,369\n",
      "Non-trainable params: 353\n",
      "_________________________________________________________________\n"
     ]
    }
   ],
   "source": [
    "noise_input = 100\n",
    "#Gerador\n",
    "optimizerG = Adam(lr=0.0001, beta_1=0.5)\n",
    "obj_G = Generator(noise_input, (X_train.shape[1],), optimizerG)\n",
    "print(\"Dimension del ruido de entrada: \",noise_input)\n",
    "G = obj_G.compileG()\n",
    "# Discriminador\n",
    "optimizerD = Adam(lr=0.0004, beta_1=0.5)\n",
    "objD = Discriminator((X_train.shape[1],), optimizerD)\n",
    "D = objD.compileD()\n",
    "\n",
    "gan = Gan(G,D)\n",
    "gan.compile(loss='binary_crossentropy', optimizer=optimizerG)\n",
    "gan.summary()"
   ]
  },
  {
   "cell_type": "code",
   "execution_count": 96,
   "metadata": {
    "scrolled": true
   },
   "outputs": [
    {
     "name": "stdout",
     "output_type": "stream",
     "text": [
      "epoch:[1/600] [Discriminator::d_loss: 0.684824],[Generator::loss: 0.775096], 0.019130[sec]\n",
      "epoch:[2/600] [Discriminator::d_loss: 0.670375],[Generator::loss: 0.779573], 0.010587[sec]\n",
      "epoch:[3/600] [Discriminator::d_loss: 0.656447],[Generator::loss: 0.741890], 0.012580[sec]\n",
      "epoch:[4/600] [Discriminator::d_loss: 0.668573],[Generator::loss: 0.791633], 0.009559[sec]\n",
      "epoch:[5/600] [Discriminator::d_loss: 0.643896],[Generator::loss: 0.783928], 0.013377[sec]\n",
      "epoch:[6/600] [Discriminator::d_loss: 0.671915],[Generator::loss: 0.787719], 0.010120[sec]\n",
      "epoch:[7/600] [Discriminator::d_loss: 0.672528],[Generator::loss: 0.788818], 0.008352[sec]\n",
      "epoch:[8/600] [Discriminator::d_loss: 0.667527],[Generator::loss: 0.757173], 0.007874[sec]\n",
      "epoch:[9/600] [Discriminator::d_loss: 0.664201],[Generator::loss: 0.770450], 0.007829[sec]\n",
      "epoch:[10/600] [Discriminator::d_loss: 0.684938],[Generator::loss: 0.787301], 0.007976[sec]\n",
      "epoch:[11/600] [Discriminator::d_loss: 0.657088],[Generator::loss: 0.795369], 0.007942[sec]\n",
      "epoch:[12/600] [Discriminator::d_loss: 0.668384],[Generator::loss: 0.757580], 0.008007[sec]\n",
      "epoch:[13/600] [Discriminator::d_loss: 0.660089],[Generator::loss: 0.779313], 0.007968[sec]\n",
      "epoch:[14/600] [Discriminator::d_loss: 0.690427],[Generator::loss: 0.734511], 0.007894[sec]\n",
      "epoch:[15/600] [Discriminator::d_loss: 0.682419],[Generator::loss: 0.801623], 0.007921[sec]\n",
      "epoch:[16/600] [Discriminator::d_loss: 0.650777],[Generator::loss: 0.785539], 0.007794[sec]\n",
      "epoch:[17/600] [Discriminator::d_loss: 0.664008],[Generator::loss: 0.747605], 0.007689[sec]\n",
      "epoch:[18/600] [Discriminator::d_loss: 0.649896],[Generator::loss: 0.745774], 0.007890[sec]\n",
      "epoch:[19/600] [Discriminator::d_loss: 0.637998],[Generator::loss: 0.780127], 0.007932[sec]\n",
      "epoch:[20/600] [Discriminator::d_loss: 0.676095],[Generator::loss: 0.784233], 0.008254[sec]\n",
      "epoch:[21/600] [Discriminator::d_loss: 0.680929],[Generator::loss: 0.791992], 0.007786[sec]\n",
      "epoch:[22/600] [Discriminator::d_loss: 0.662761],[Generator::loss: 0.797220], 0.007915[sec]\n",
      "epoch:[23/600] [Discriminator::d_loss: 0.669142],[Generator::loss: 0.731136], 0.008001[sec]\n",
      "epoch:[24/600] [Discriminator::d_loss: 0.636400],[Generator::loss: 0.764413], 0.012105[sec]\n",
      "epoch:[25/600] [Discriminator::d_loss: 0.654159],[Generator::loss: 0.766967], 0.016578[sec]\n",
      "epoch:[26/600] [Discriminator::d_loss: 0.660186],[Generator::loss: 0.767749], 0.013864[sec]\n",
      "epoch:[27/600] [Discriminator::d_loss: 0.655766],[Generator::loss: 0.787208], 0.011252[sec]\n",
      "epoch:[28/600] [Discriminator::d_loss: 0.674896],[Generator::loss: 0.741882], 0.009453[sec]\n",
      "epoch:[29/600] [Discriminator::d_loss: 0.674558],[Generator::loss: 0.738712], 0.009518[sec]\n",
      "epoch:[30/600] [Discriminator::d_loss: 0.658016],[Generator::loss: 0.775012], 0.008057[sec]\n",
      "epoch:[31/600] [Discriminator::d_loss: 0.651370],[Generator::loss: 0.738564], 0.007802[sec]\n",
      "epoch:[32/600] [Discriminator::d_loss: 0.654864],[Generator::loss: 0.802334], 0.008236[sec]\n",
      "epoch:[33/600] [Discriminator::d_loss: 0.680666],[Generator::loss: 0.767286], 0.008447[sec]\n",
      "epoch:[34/600] [Discriminator::d_loss: 0.668862],[Generator::loss: 0.754418], 0.007995[sec]\n",
      "epoch:[35/600] [Discriminator::d_loss: 0.679466],[Generator::loss: 0.759896], 0.007986[sec]\n",
      "epoch:[36/600] [Discriminator::d_loss: 0.655546],[Generator::loss: 0.766383], 0.007800[sec]\n",
      "epoch:[37/600] [Discriminator::d_loss: 0.655104],[Generator::loss: 0.761384], 0.007763[sec]\n",
      "epoch:[38/600] [Discriminator::d_loss: 0.641708],[Generator::loss: 0.749750], 0.007859[sec]\n",
      "epoch:[39/600] [Discriminator::d_loss: 0.662715],[Generator::loss: 0.813598], 0.008347[sec]\n",
      "epoch:[40/600] [Discriminator::d_loss: 0.682420],[Generator::loss: 0.730082], 0.008181[sec]\n",
      "epoch:[41/600] [Discriminator::d_loss: 0.664747],[Generator::loss: 0.782229], 0.007817[sec]\n",
      "epoch:[42/600] [Discriminator::d_loss: 0.668888],[Generator::loss: 0.785624], 0.007615[sec]\n",
      "epoch:[43/600] [Discriminator::d_loss: 0.657253],[Generator::loss: 0.763563], 0.007810[sec]\n",
      "epoch:[44/600] [Discriminator::d_loss: 0.656905],[Generator::loss: 0.790664], 0.007831[sec]\n",
      "epoch:[45/600] [Discriminator::d_loss: 0.662962],[Generator::loss: 0.770527], 0.007894[sec]\n",
      "epoch:[46/600] [Discriminator::d_loss: 0.642207],[Generator::loss: 0.806851], 0.008650[sec]\n",
      "epoch:[47/600] [Discriminator::d_loss: 0.662925],[Generator::loss: 0.749094], 0.011023[sec]\n",
      "epoch:[48/600] [Discriminator::d_loss: 0.659743],[Generator::loss: 0.783098], 0.010398[sec]\n",
      "epoch:[49/600] [Discriminator::d_loss: 0.682193],[Generator::loss: 0.785971], 0.008608[sec]\n",
      "epoch:[50/600] [Discriminator::d_loss: 0.634978],[Generator::loss: 0.796674], 0.007990[sec]\n",
      "epoch:[51/600] [Discriminator::d_loss: 0.658935],[Generator::loss: 0.757483], 0.008253[sec]\n",
      "epoch:[52/600] [Discriminator::d_loss: 0.630477],[Generator::loss: 0.767754], 0.008019[sec]\n",
      "epoch:[53/600] [Discriminator::d_loss: 0.686782],[Generator::loss: 0.782517], 0.007695[sec]\n",
      "epoch:[54/600] [Discriminator::d_loss: 0.669904],[Generator::loss: 0.793086], 0.007773[sec]\n",
      "epoch:[55/600] [Discriminator::d_loss: 0.673763],[Generator::loss: 0.761552], 0.007811[sec]\n",
      "epoch:[56/600] [Discriminator::d_loss: 0.653914],[Generator::loss: 0.818918], 0.008047[sec]\n",
      "epoch:[57/600] [Discriminator::d_loss: 0.679138],[Generator::loss: 0.827639], 0.007882[sec]\n",
      "epoch:[58/600] [Discriminator::d_loss: 0.657366],[Generator::loss: 0.752848], 0.007853[sec]\n",
      "epoch:[59/600] [Discriminator::d_loss: 0.648129],[Generator::loss: 0.807339], 0.007897[sec]\n",
      "epoch:[60/600] [Discriminator::d_loss: 0.648409],[Generator::loss: 0.758829], 0.007783[sec]\n",
      "epoch:[61/600] [Discriminator::d_loss: 0.659392],[Generator::loss: 0.776375], 0.007916[sec]\n",
      "epoch:[62/600] [Discriminator::d_loss: 0.640313],[Generator::loss: 0.788247], 0.007982[sec]\n",
      "epoch:[63/600] [Discriminator::d_loss: 0.653153],[Generator::loss: 0.765666], 0.007909[sec]\n",
      "epoch:[64/600] [Discriminator::d_loss: 0.657473],[Generator::loss: 0.718069], 0.008025[sec]\n",
      "epoch:[65/600] [Discriminator::d_loss: 0.648263],[Generator::loss: 0.757734], 0.007887[sec]\n",
      "epoch:[66/600] [Discriminator::d_loss: 0.659790],[Generator::loss: 0.756879], 0.007909[sec]\n",
      "epoch:[67/600] [Discriminator::d_loss: 0.647902],[Generator::loss: 0.741058], 0.007849[sec]\n",
      "epoch:[68/600] [Discriminator::d_loss: 0.671425],[Generator::loss: 0.756411], 0.007928[sec]\n",
      "epoch:[69/600] [Discriminator::d_loss: 0.663214],[Generator::loss: 0.788739], 0.007980[sec]\n",
      "epoch:[70/600] [Discriminator::d_loss: 0.658965],[Generator::loss: 0.797610], 0.008415[sec]\n",
      "epoch:[71/600] [Discriminator::d_loss: 0.687649],[Generator::loss: 0.771097], 0.011921[sec]\n",
      "epoch:[72/600] [Discriminator::d_loss: 0.654668],[Generator::loss: 0.770598], 0.010608[sec]\n",
      "epoch:[73/600] [Discriminator::d_loss: 0.652444],[Generator::loss: 0.742921], 0.008209[sec]\n",
      "epoch:[74/600] [Discriminator::d_loss: 0.672207],[Generator::loss: 0.768392], 0.008004[sec]\n",
      "epoch:[75/600] [Discriminator::d_loss: 0.679668],[Generator::loss: 0.800009], 0.008208[sec]\n",
      "epoch:[76/600] [Discriminator::d_loss: 0.653100],[Generator::loss: 0.750887], 0.007874[sec]\n",
      "epoch:[77/600] [Discriminator::d_loss: 0.672642],[Generator::loss: 0.780503], 0.008389[sec]\n",
      "epoch:[78/600] [Discriminator::d_loss: 0.656847],[Generator::loss: 0.736763], 0.009498[sec]\n",
      "epoch:[79/600] [Discriminator::d_loss: 0.663714],[Generator::loss: 0.766742], 0.009860[sec]\n",
      "epoch:[80/600] [Discriminator::d_loss: 0.662577],[Generator::loss: 0.779046], 0.009400[sec]\n",
      "epoch:[81/600] [Discriminator::d_loss: 0.672459],[Generator::loss: 0.746995], 0.009115[sec]\n",
      "epoch:[82/600] [Discriminator::d_loss: 0.646003],[Generator::loss: 0.761863], 0.012099[sec]\n",
      "epoch:[83/600] [Discriminator::d_loss: 0.661402],[Generator::loss: 0.776378], 0.009205[sec]\n",
      "epoch:[84/600] [Discriminator::d_loss: 0.666791],[Generator::loss: 0.753980], 0.009008[sec]\n",
      "epoch:[85/600] [Discriminator::d_loss: 0.649390],[Generator::loss: 0.807389], 0.007981[sec]\n",
      "epoch:[86/600] [Discriminator::d_loss: 0.669646],[Generator::loss: 0.754438], 0.007718[sec]\n",
      "epoch:[87/600] [Discriminator::d_loss: 0.663238],[Generator::loss: 0.785666], 0.007868[sec]\n",
      "epoch:[88/600] [Discriminator::d_loss: 0.666426],[Generator::loss: 0.790413], 0.008323[sec]\n",
      "epoch:[89/600] [Discriminator::d_loss: 0.678164],[Generator::loss: 0.777421], 0.007812[sec]\n",
      "epoch:[90/600] [Discriminator::d_loss: 0.659328],[Generator::loss: 0.739055], 0.008217[sec]\n",
      "epoch:[91/600] [Discriminator::d_loss: 0.670689],[Generator::loss: 0.755671], 0.008062[sec]\n"
     ]
    },
    {
     "name": "stdout",
     "output_type": "stream",
     "text": [
      "epoch:[92/600] [Discriminator::d_loss: 0.663399],[Generator::loss: 0.770038], 0.008690[sec]\n",
      "epoch:[93/600] [Discriminator::d_loss: 0.635095],[Generator::loss: 0.752970], 0.010923[sec]\n",
      "epoch:[94/600] [Discriminator::d_loss: 0.669743],[Generator::loss: 0.772922], 0.009963[sec]\n",
      "epoch:[95/600] [Discriminator::d_loss: 0.666714],[Generator::loss: 0.784575], 0.008423[sec]\n",
      "epoch:[96/600] [Discriminator::d_loss: 0.640947],[Generator::loss: 0.756640], 0.008376[sec]\n",
      "epoch:[97/600] [Discriminator::d_loss: 0.648975],[Generator::loss: 0.761168], 0.007938[sec]\n",
      "epoch:[98/600] [Discriminator::d_loss: 0.685189],[Generator::loss: 0.779962], 0.008643[sec]\n",
      "epoch:[99/600] [Discriminator::d_loss: 0.641098],[Generator::loss: 0.717352], 0.008058[sec]\n",
      "epoch:[100/600] [Discriminator::d_loss: 0.671004],[Generator::loss: 0.776017], 0.007819[sec]\n",
      "epoch:[101/600] [Discriminator::d_loss: 0.662052],[Generator::loss: 0.800733], 0.008144[sec]\n",
      "epoch:[102/600] [Discriminator::d_loss: 0.631633],[Generator::loss: 0.735072], 0.007905[sec]\n",
      "epoch:[103/600] [Discriminator::d_loss: 0.666542],[Generator::loss: 0.843236], 0.007653[sec]\n",
      "epoch:[104/600] [Discriminator::d_loss: 0.656645],[Generator::loss: 0.786194], 0.007867[sec]\n",
      "epoch:[105/600] [Discriminator::d_loss: 0.663989],[Generator::loss: 0.799361], 0.007757[sec]\n",
      "epoch:[106/600] [Discriminator::d_loss: 0.668436],[Generator::loss: 0.823325], 0.007968[sec]\n",
      "epoch:[107/600] [Discriminator::d_loss: 0.660386],[Generator::loss: 0.788571], 0.008029[sec]\n",
      "epoch:[108/600] [Discriminator::d_loss: 0.649437],[Generator::loss: 0.723115], 0.007918[sec]\n",
      "epoch:[109/600] [Discriminator::d_loss: 0.675996],[Generator::loss: 0.751926], 0.007829[sec]\n",
      "epoch:[110/600] [Discriminator::d_loss: 0.668157],[Generator::loss: 0.783849], 0.007738[sec]\n",
      "epoch:[111/600] [Discriminator::d_loss: 0.624578],[Generator::loss: 0.783090], 0.007894[sec]\n",
      "epoch:[112/600] [Discriminator::d_loss: 0.647512],[Generator::loss: 0.794282], 0.007822[sec]\n",
      "epoch:[113/600] [Discriminator::d_loss: 0.657927],[Generator::loss: 0.788646], 0.008017[sec]\n",
      "epoch:[114/600] [Discriminator::d_loss: 0.664209],[Generator::loss: 0.775759], 0.008048[sec]\n",
      "epoch:[115/600] [Discriminator::d_loss: 0.654445],[Generator::loss: 0.795641], 0.007721[sec]\n",
      "epoch:[116/600] [Discriminator::d_loss: 0.652204],[Generator::loss: 0.807338], 0.008862[sec]\n",
      "epoch:[117/600] [Discriminator::d_loss: 0.640146],[Generator::loss: 0.741678], 0.010704[sec]\n",
      "epoch:[118/600] [Discriminator::d_loss: 0.661935],[Generator::loss: 0.779197], 0.010546[sec]\n",
      "epoch:[119/600] [Discriminator::d_loss: 0.675195],[Generator::loss: 0.766024], 0.008386[sec]\n",
      "epoch:[120/600] [Discriminator::d_loss: 0.673483],[Generator::loss: 0.749383], 0.008197[sec]\n",
      "epoch:[121/600] [Discriminator::d_loss: 0.661892],[Generator::loss: 0.761813], 0.007985[sec]\n",
      "epoch:[122/600] [Discriminator::d_loss: 0.669790],[Generator::loss: 0.788857], 0.007978[sec]\n",
      "epoch:[123/600] [Discriminator::d_loss: 0.666075],[Generator::loss: 0.775403], 0.007872[sec]\n",
      "epoch:[124/600] [Discriminator::d_loss: 0.652050],[Generator::loss: 0.799088], 0.007809[sec]\n",
      "epoch:[125/600] [Discriminator::d_loss: 0.657893],[Generator::loss: 0.776015], 0.007800[sec]\n",
      "epoch:[126/600] [Discriminator::d_loss: 0.640796],[Generator::loss: 0.793157], 0.007785[sec]\n",
      "epoch:[127/600] [Discriminator::d_loss: 0.672625],[Generator::loss: 0.786926], 0.008075[sec]\n",
      "epoch:[128/600] [Discriminator::d_loss: 0.693720],[Generator::loss: 0.732576], 0.007829[sec]\n",
      "epoch:[129/600] [Discriminator::d_loss: 0.670953],[Generator::loss: 0.779468], 0.007770[sec]\n",
      "epoch:[130/600] [Discriminator::d_loss: 0.658476],[Generator::loss: 0.736580], 0.008005[sec]\n",
      "epoch:[131/600] [Discriminator::d_loss: 0.653724],[Generator::loss: 0.759328], 0.007843[sec]\n",
      "epoch:[132/600] [Discriminator::d_loss: 0.650114],[Generator::loss: 0.787725], 0.007837[sec]\n",
      "epoch:[133/600] [Discriminator::d_loss: 0.670242],[Generator::loss: 0.762162], 0.007910[sec]\n",
      "epoch:[134/600] [Discriminator::d_loss: 0.655529],[Generator::loss: 0.758352], 0.007926[sec]\n",
      "epoch:[135/600] [Discriminator::d_loss: 0.647084],[Generator::loss: 0.739982], 0.007982[sec]\n",
      "epoch:[136/600] [Discriminator::d_loss: 0.652846],[Generator::loss: 0.793901], 0.007779[sec]\n",
      "epoch:[137/600] [Discriminator::d_loss: 0.673063],[Generator::loss: 0.781666], 0.007709[sec]\n",
      "epoch:[138/600] [Discriminator::d_loss: 0.674398],[Generator::loss: 0.788051], 0.007956[sec]\n",
      "epoch:[139/600] [Discriminator::d_loss: 0.640636],[Generator::loss: 0.773352], 0.007757[sec]\n",
      "epoch:[140/600] [Discriminator::d_loss: 0.669713],[Generator::loss: 0.704880], 0.009311[sec]\n",
      "epoch:[141/600] [Discriminator::d_loss: 0.670420],[Generator::loss: 0.816903], 0.014539[sec]\n",
      "epoch:[142/600] [Discriminator::d_loss: 0.667430],[Generator::loss: 0.791429], 0.008516[sec]\n",
      "epoch:[143/600] [Discriminator::d_loss: 0.663401],[Generator::loss: 0.788690], 0.008737[sec]\n",
      "epoch:[144/600] [Discriminator::d_loss: 0.656594],[Generator::loss: 0.768033], 0.007885[sec]\n",
      "epoch:[145/600] [Discriminator::d_loss: 0.662700],[Generator::loss: 0.785014], 0.008343[sec]\n",
      "epoch:[146/600] [Discriminator::d_loss: 0.663043],[Generator::loss: 0.796324], 0.008746[sec]\n",
      "epoch:[147/600] [Discriminator::d_loss: 0.653063],[Generator::loss: 0.730847], 0.008249[sec]\n",
      "epoch:[148/600] [Discriminator::d_loss: 0.639175],[Generator::loss: 0.723418], 0.008097[sec]\n",
      "epoch:[149/600] [Discriminator::d_loss: 0.652045],[Generator::loss: 0.749099], 0.008043[sec]\n",
      "epoch:[150/600] [Discriminator::d_loss: 0.667423],[Generator::loss: 0.809450], 0.008013[sec]\n",
      "epoch:[151/600] [Discriminator::d_loss: 0.689410],[Generator::loss: 0.718059], 0.007855[sec]\n",
      "epoch:[152/600] [Discriminator::d_loss: 0.667884],[Generator::loss: 0.793568], 0.007861[sec]\n",
      "epoch:[153/600] [Discriminator::d_loss: 0.649276],[Generator::loss: 0.749628], 0.008251[sec]\n",
      "epoch:[154/600] [Discriminator::d_loss: 0.672485],[Generator::loss: 0.752191], 0.007986[sec]\n",
      "epoch:[155/600] [Discriminator::d_loss: 0.660896],[Generator::loss: 0.802604], 0.007921[sec]\n",
      "epoch:[156/600] [Discriminator::d_loss: 0.658582],[Generator::loss: 0.731430], 0.007937[sec]\n",
      "epoch:[157/600] [Discriminator::d_loss: 0.657761],[Generator::loss: 0.769656], 0.008571[sec]\n",
      "epoch:[158/600] [Discriminator::d_loss: 0.670961],[Generator::loss: 0.739114], 0.007966[sec]\n",
      "epoch:[159/600] [Discriminator::d_loss: 0.637594],[Generator::loss: 0.758515], 0.007739[sec]\n",
      "epoch:[160/600] [Discriminator::d_loss: 0.670844],[Generator::loss: 0.766432], 0.008156[sec]\n",
      "epoch:[161/600] [Discriminator::d_loss: 0.648336],[Generator::loss: 0.764137], 0.008682[sec]\n",
      "epoch:[162/600] [Discriminator::d_loss: 0.653983],[Generator::loss: 0.707419], 0.008464[sec]\n",
      "epoch:[163/600] [Discriminator::d_loss: 0.662228],[Generator::loss: 0.789417], 0.016332[sec]\n",
      "epoch:[164/600] [Discriminator::d_loss: 0.663581],[Generator::loss: 0.796249], 0.012236[sec]\n",
      "epoch:[165/600] [Discriminator::d_loss: 0.660246],[Generator::loss: 0.748790], 0.011620[sec]\n",
      "epoch:[166/600] [Discriminator::d_loss: 0.672478],[Generator::loss: 0.738748], 0.011988[sec]\n",
      "epoch:[167/600] [Discriminator::d_loss: 0.654979],[Generator::loss: 0.748829], 0.012866[sec]\n",
      "epoch:[168/600] [Discriminator::d_loss: 0.670588],[Generator::loss: 0.752198], 0.010949[sec]\n",
      "epoch:[169/600] [Discriminator::d_loss: 0.635522],[Generator::loss: 0.750561], 0.012420[sec]\n",
      "epoch:[170/600] [Discriminator::d_loss: 0.646719],[Generator::loss: 0.762936], 0.015666[sec]\n",
      "epoch:[171/600] [Discriminator::d_loss: 0.650364],[Generator::loss: 0.772115], 0.012745[sec]\n",
      "epoch:[172/600] [Discriminator::d_loss: 0.661605],[Generator::loss: 0.730489], 0.012562[sec]\n",
      "epoch:[173/600] [Discriminator::d_loss: 0.670639],[Generator::loss: 0.753886], 0.013021[sec]\n",
      "epoch:[174/600] [Discriminator::d_loss: 0.660299],[Generator::loss: 0.737780], 0.012478[sec]\n",
      "epoch:[175/600] [Discriminator::d_loss: 0.660120],[Generator::loss: 0.787236], 0.012160[sec]\n",
      "epoch:[176/600] [Discriminator::d_loss: 0.666910],[Generator::loss: 0.807334], 0.012499[sec]\n",
      "epoch:[177/600] [Discriminator::d_loss: 0.692664],[Generator::loss: 0.731696], 0.012482[sec]\n",
      "epoch:[178/600] [Discriminator::d_loss: 0.648838],[Generator::loss: 0.780997], 0.010366[sec]\n",
      "epoch:[179/600] [Discriminator::d_loss: 0.676125],[Generator::loss: 0.724040], 0.008843[sec]\n",
      "epoch:[180/600] [Discriminator::d_loss: 0.645189],[Generator::loss: 0.742263], 0.009180[sec]\n",
      "epoch:[181/600] [Discriminator::d_loss: 0.655027],[Generator::loss: 0.716273], 0.008474[sec]\n",
      "epoch:[182/600] [Discriminator::d_loss: 0.653706],[Generator::loss: 0.745371], 0.009242[sec]\n",
      "epoch:[183/600] [Discriminator::d_loss: 0.671585],[Generator::loss: 0.777808], 0.009974[sec]\n",
      "epoch:[184/600] [Discriminator::d_loss: 0.671666],[Generator::loss: 0.783578], 0.010154[sec]\n",
      "epoch:[185/600] [Discriminator::d_loss: 0.665973],[Generator::loss: 0.781454], 0.012350[sec]\n",
      "epoch:[186/600] [Discriminator::d_loss: 0.648838],[Generator::loss: 0.746123], 0.008131[sec]\n",
      "epoch:[187/600] [Discriminator::d_loss: 0.679115],[Generator::loss: 0.741110], 0.008246[sec]\n",
      "epoch:[188/600] [Discriminator::d_loss: 0.655123],[Generator::loss: 0.772919], 0.007982[sec]\n",
      "epoch:[189/600] [Discriminator::d_loss: 0.659913],[Generator::loss: 0.765055], 0.007932[sec]\n",
      "epoch:[190/600] [Discriminator::d_loss: 0.693134],[Generator::loss: 0.778701], 0.008057[sec]\n",
      "epoch:[191/600] [Discriminator::d_loss: 0.666774],[Generator::loss: 0.744367], 0.007722[sec]\n",
      "epoch:[192/600] [Discriminator::d_loss: 0.680460],[Generator::loss: 0.733926], 0.007732[sec]\n",
      "epoch:[193/600] [Discriminator::d_loss: 0.649232],[Generator::loss: 0.759030], 0.007902[sec]\n",
      "epoch:[194/600] [Discriminator::d_loss: 0.672343],[Generator::loss: 0.758770], 0.007941[sec]\n",
      "epoch:[195/600] [Discriminator::d_loss: 0.653846],[Generator::loss: 0.738812], 0.007993[sec]\n",
      "epoch:[196/600] [Discriminator::d_loss: 0.671580],[Generator::loss: 0.755486], 0.008155[sec]\n",
      "epoch:[197/600] [Discriminator::d_loss: 0.667024],[Generator::loss: 0.756515], 0.007843[sec]\n",
      "epoch:[198/600] [Discriminator::d_loss: 0.646585],[Generator::loss: 0.743134], 0.008244[sec]\n",
      "epoch:[199/600] [Discriminator::d_loss: 0.676873],[Generator::loss: 0.734966], 0.008192[sec]\n",
      "epoch:[200/600] [Discriminator::d_loss: 0.642087],[Generator::loss: 0.772286], 0.007768[sec]\n",
      "epoch:[201/600] [Discriminator::d_loss: 0.676989],[Generator::loss: 0.714791], 0.008018[sec]\n"
     ]
    },
    {
     "name": "stdout",
     "output_type": "stream",
     "text": [
      "epoch:[202/600] [Discriminator::d_loss: 0.681533],[Generator::loss: 0.796074], 0.009211[sec]\n",
      "epoch:[203/600] [Discriminator::d_loss: 0.664521],[Generator::loss: 0.725692], 0.010629[sec]\n",
      "epoch:[204/600] [Discriminator::d_loss: 0.675502],[Generator::loss: 0.789613], 0.009017[sec]\n",
      "epoch:[205/600] [Discriminator::d_loss: 0.659553],[Generator::loss: 0.734913], 0.010028[sec]\n",
      "epoch:[206/600] [Discriminator::d_loss: 0.692661],[Generator::loss: 0.772226], 0.008557[sec]\n",
      "epoch:[207/600] [Discriminator::d_loss: 0.666109],[Generator::loss: 0.766977], 0.009019[sec]\n",
      "epoch:[208/600] [Discriminator::d_loss: 0.661457],[Generator::loss: 0.734857], 0.008411[sec]\n",
      "epoch:[209/600] [Discriminator::d_loss: 0.645865],[Generator::loss: 0.752929], 0.008912[sec]\n",
      "epoch:[210/600] [Discriminator::d_loss: 0.665228],[Generator::loss: 0.768333], 0.008423[sec]\n",
      "epoch:[211/600] [Discriminator::d_loss: 0.685981],[Generator::loss: 0.755496], 0.008622[sec]\n",
      "epoch:[212/600] [Discriminator::d_loss: 0.657427],[Generator::loss: 0.723872], 0.008420[sec]\n",
      "epoch:[213/600] [Discriminator::d_loss: 0.641222],[Generator::loss: 0.758983], 0.008408[sec]\n",
      "epoch:[214/600] [Discriminator::d_loss: 0.659955],[Generator::loss: 0.756802], 0.008327[sec]\n",
      "epoch:[215/600] [Discriminator::d_loss: 0.652958],[Generator::loss: 0.738635], 0.008393[sec]\n",
      "epoch:[216/600] [Discriminator::d_loss: 0.667248],[Generator::loss: 0.778233], 0.008771[sec]\n",
      "epoch:[217/600] [Discriminator::d_loss: 0.662502],[Generator::loss: 0.750752], 0.008305[sec]\n",
      "epoch:[218/600] [Discriminator::d_loss: 0.650880],[Generator::loss: 0.781560], 0.008822[sec]\n",
      "epoch:[219/600] [Discriminator::d_loss: 0.684162],[Generator::loss: 0.741038], 0.008084[sec]\n",
      "epoch:[220/600] [Discriminator::d_loss: 0.669616],[Generator::loss: 0.740926], 0.008280[sec]\n",
      "epoch:[221/600] [Discriminator::d_loss: 0.629536],[Generator::loss: 0.779920], 0.007976[sec]\n",
      "epoch:[222/600] [Discriminator::d_loss: 0.678717],[Generator::loss: 0.777560], 0.008520[sec]\n",
      "epoch:[223/600] [Discriminator::d_loss: 0.670949],[Generator::loss: 0.749388], 0.007956[sec]\n",
      "epoch:[224/600] [Discriminator::d_loss: 0.646966],[Generator::loss: 0.749586], 0.007943[sec]\n",
      "epoch:[225/600] [Discriminator::d_loss: 0.658646],[Generator::loss: 0.758281], 0.009490[sec]\n",
      "epoch:[226/600] [Discriminator::d_loss: 0.660482],[Generator::loss: 0.765965], 0.010937[sec]\n",
      "epoch:[227/600] [Discriminator::d_loss: 0.666570],[Generator::loss: 0.742258], 0.008121[sec]\n",
      "epoch:[228/600] [Discriminator::d_loss: 0.650987],[Generator::loss: 0.776888], 0.008247[sec]\n",
      "epoch:[229/600] [Discriminator::d_loss: 0.637399],[Generator::loss: 0.766106], 0.008533[sec]\n",
      "epoch:[230/600] [Discriminator::d_loss: 0.659579],[Generator::loss: 0.753334], 0.008004[sec]\n",
      "epoch:[231/600] [Discriminator::d_loss: 0.628906],[Generator::loss: 0.769613], 0.008152[sec]\n",
      "epoch:[232/600] [Discriminator::d_loss: 0.665946],[Generator::loss: 0.814848], 0.008000[sec]\n",
      "epoch:[233/600] [Discriminator::d_loss: 0.682770],[Generator::loss: 0.778859], 0.008246[sec]\n",
      "epoch:[234/600] [Discriminator::d_loss: 0.654762],[Generator::loss: 0.778374], 0.007999[sec]\n",
      "epoch:[235/600] [Discriminator::d_loss: 0.660623],[Generator::loss: 0.783893], 0.008478[sec]\n",
      "epoch:[236/600] [Discriminator::d_loss: 0.674336],[Generator::loss: 0.747879], 0.012409[sec]\n",
      "epoch:[237/600] [Discriminator::d_loss: 0.655005],[Generator::loss: 0.724794], 0.012839[sec]\n",
      "epoch:[238/600] [Discriminator::d_loss: 0.651173],[Generator::loss: 0.785888], 0.012233[sec]\n",
      "epoch:[239/600] [Discriminator::d_loss: 0.665704],[Generator::loss: 0.789787], 0.012029[sec]\n",
      "epoch:[240/600] [Discriminator::d_loss: 0.658910],[Generator::loss: 0.728278], 0.012336[sec]\n",
      "epoch:[241/600] [Discriminator::d_loss: 0.671243],[Generator::loss: 0.786921], 0.010766[sec]\n",
      "epoch:[242/600] [Discriminator::d_loss: 0.632048],[Generator::loss: 0.759207], 0.010275[sec]\n",
      "epoch:[243/600] [Discriminator::d_loss: 0.683306],[Generator::loss: 0.771446], 0.013592[sec]\n",
      "epoch:[244/600] [Discriminator::d_loss: 0.667224],[Generator::loss: 0.775426], 0.009986[sec]\n",
      "epoch:[245/600] [Discriminator::d_loss: 0.634043],[Generator::loss: 0.760895], 0.014843[sec]\n",
      "epoch:[246/600] [Discriminator::d_loss: 0.674272],[Generator::loss: 0.759524], 0.012916[sec]\n",
      "epoch:[247/600] [Discriminator::d_loss: 0.667091],[Generator::loss: 0.785234], 0.010590[sec]\n",
      "epoch:[248/600] [Discriminator::d_loss: 0.629483],[Generator::loss: 0.706315], 0.011627[sec]\n",
      "epoch:[249/600] [Discriminator::d_loss: 0.666150],[Generator::loss: 0.749713], 0.010438[sec]\n",
      "epoch:[250/600] [Discriminator::d_loss: 0.651783],[Generator::loss: 0.761913], 0.012136[sec]\n",
      "epoch:[251/600] [Discriminator::d_loss: 0.682046],[Generator::loss: 0.764130], 0.012341[sec]\n",
      "epoch:[252/600] [Discriminator::d_loss: 0.637259],[Generator::loss: 0.717956], 0.012033[sec]\n",
      "epoch:[253/600] [Discriminator::d_loss: 0.675621],[Generator::loss: 0.754695], 0.010367[sec]\n",
      "epoch:[254/600] [Discriminator::d_loss: 0.681981],[Generator::loss: 0.698157], 0.013848[sec]\n",
      "epoch:[255/600] [Discriminator::d_loss: 0.652546],[Generator::loss: 0.749515], 0.012113[sec]\n",
      "epoch:[256/600] [Discriminator::d_loss: 0.672331],[Generator::loss: 0.712547], 0.013233[sec]\n",
      "epoch:[257/600] [Discriminator::d_loss: 0.634373],[Generator::loss: 0.685508], 0.012609[sec]\n",
      "epoch:[258/600] [Discriminator::d_loss: 0.647145],[Generator::loss: 0.761220], 0.010698[sec]\n",
      "epoch:[259/600] [Discriminator::d_loss: 0.695196],[Generator::loss: 0.716069], 0.012461[sec]\n",
      "epoch:[260/600] [Discriminator::d_loss: 0.644856],[Generator::loss: 0.764618], 0.009311[sec]\n",
      "epoch:[261/600] [Discriminator::d_loss: 0.656479],[Generator::loss: 0.760576], 0.013426[sec]\n",
      "epoch:[262/600] [Discriminator::d_loss: 0.648560],[Generator::loss: 0.761234], 0.013749[sec]\n",
      "epoch:[263/600] [Discriminator::d_loss: 0.614342],[Generator::loss: 0.774255], 0.010899[sec]\n",
      "epoch:[264/600] [Discriminator::d_loss: 0.663300],[Generator::loss: 0.723850], 0.012368[sec]\n",
      "epoch:[265/600] [Discriminator::d_loss: 0.665155],[Generator::loss: 0.838826], 0.017115[sec]\n",
      "epoch:[266/600] [Discriminator::d_loss: 0.668601],[Generator::loss: 0.769117], 0.012911[sec]\n",
      "epoch:[267/600] [Discriminator::d_loss: 0.651130],[Generator::loss: 0.755545], 0.011153[sec]\n",
      "epoch:[268/600] [Discriminator::d_loss: 0.646917],[Generator::loss: 0.787264], 0.011415[sec]\n",
      "epoch:[269/600] [Discriminator::d_loss: 0.653787],[Generator::loss: 0.738178], 0.011633[sec]\n",
      "epoch:[270/600] [Discriminator::d_loss: 0.658193],[Generator::loss: 0.783249], 0.010893[sec]\n",
      "epoch:[271/600] [Discriminator::d_loss: 0.670620],[Generator::loss: 0.806117], 0.010234[sec]\n",
      "epoch:[272/600] [Discriminator::d_loss: 0.684767],[Generator::loss: 0.775154], 0.011497[sec]\n",
      "epoch:[273/600] [Discriminator::d_loss: 0.644830],[Generator::loss: 0.795202], 0.009828[sec]\n",
      "epoch:[274/600] [Discriminator::d_loss: 0.672537],[Generator::loss: 0.804664], 0.011833[sec]\n",
      "epoch:[275/600] [Discriminator::d_loss: 0.649175],[Generator::loss: 0.778017], 0.010059[sec]\n",
      "epoch:[276/600] [Discriminator::d_loss: 0.662248],[Generator::loss: 0.721765], 0.011538[sec]\n",
      "epoch:[277/600] [Discriminator::d_loss: 0.690018],[Generator::loss: 0.760622], 0.009727[sec]\n",
      "epoch:[278/600] [Discriminator::d_loss: 0.655610],[Generator::loss: 0.764651], 0.010770[sec]\n",
      "epoch:[279/600] [Discriminator::d_loss: 0.681241],[Generator::loss: 0.779519], 0.012029[sec]\n",
      "epoch:[280/600] [Discriminator::d_loss: 0.655463],[Generator::loss: 0.732903], 0.012082[sec]\n",
      "epoch:[281/600] [Discriminator::d_loss: 0.670946],[Generator::loss: 0.715372], 0.013491[sec]\n",
      "epoch:[282/600] [Discriminator::d_loss: 0.674629],[Generator::loss: 0.754940], 0.009767[sec]\n",
      "epoch:[283/600] [Discriminator::d_loss: 0.695867],[Generator::loss: 0.739144], 0.010530[sec]\n",
      "epoch:[284/600] [Discriminator::d_loss: 0.680926],[Generator::loss: 0.736862], 0.013393[sec]\n",
      "epoch:[285/600] [Discriminator::d_loss: 0.665812],[Generator::loss: 0.762949], 0.012242[sec]\n",
      "epoch:[286/600] [Discriminator::d_loss: 0.643214],[Generator::loss: 0.788018], 0.011055[sec]\n",
      "epoch:[287/600] [Discriminator::d_loss: 0.669734],[Generator::loss: 0.735687], 0.011401[sec]\n",
      "epoch:[288/600] [Discriminator::d_loss: 0.671659],[Generator::loss: 0.747100], 0.011332[sec]\n",
      "epoch:[289/600] [Discriminator::d_loss: 0.635530],[Generator::loss: 0.766687], 0.012516[sec]\n",
      "epoch:[290/600] [Discriminator::d_loss: 0.655434],[Generator::loss: 0.726298], 0.012368[sec]\n",
      "epoch:[291/600] [Discriminator::d_loss: 0.661823],[Generator::loss: 0.780847], 0.009619[sec]\n",
      "epoch:[292/600] [Discriminator::d_loss: 0.644052],[Generator::loss: 0.760755], 0.013391[sec]\n",
      "epoch:[293/600] [Discriminator::d_loss: 0.666742],[Generator::loss: 0.733349], 0.009135[sec]\n",
      "epoch:[294/600] [Discriminator::d_loss: 0.676697],[Generator::loss: 0.782984], 0.008323[sec]\n",
      "epoch:[295/600] [Discriminator::d_loss: 0.654889],[Generator::loss: 0.719148], 0.008309[sec]\n",
      "epoch:[296/600] [Discriminator::d_loss: 0.659559],[Generator::loss: 0.753728], 0.007824[sec]\n"
     ]
    },
    {
     "name": "stdout",
     "output_type": "stream",
     "text": [
      "epoch:[297/600] [Discriminator::d_loss: 0.652772],[Generator::loss: 0.743291], 0.009339[sec]\n",
      "epoch:[298/600] [Discriminator::d_loss: 0.651347],[Generator::loss: 0.727960], 0.010040[sec]\n",
      "epoch:[299/600] [Discriminator::d_loss: 0.679641],[Generator::loss: 0.711841], 0.007915[sec]\n",
      "epoch:[300/600] [Discriminator::d_loss: 0.653193],[Generator::loss: 0.759778], 0.008253[sec]\n",
      "epoch:[301/600] [Discriminator::d_loss: 0.669160],[Generator::loss: 0.701679], 0.008197[sec]\n",
      "epoch:[302/600] [Discriminator::d_loss: 0.677171],[Generator::loss: 0.694083], 0.007729[sec]\n",
      "epoch:[303/600] [Discriminator::d_loss: 0.662943],[Generator::loss: 0.752536], 0.007866[sec]\n",
      "epoch:[304/600] [Discriminator::d_loss: 0.673840],[Generator::loss: 0.734840], 0.007864[sec]\n",
      "epoch:[305/600] [Discriminator::d_loss: 0.666554],[Generator::loss: 0.727719], 0.007684[sec]\n",
      "epoch:[306/600] [Discriminator::d_loss: 0.675663],[Generator::loss: 0.778388], 0.008015[sec]\n",
      "epoch:[307/600] [Discriminator::d_loss: 0.652209],[Generator::loss: 0.724257], 0.007690[sec]\n",
      "epoch:[308/600] [Discriminator::d_loss: 0.658040],[Generator::loss: 0.722509], 0.007874[sec]\n",
      "epoch:[309/600] [Discriminator::d_loss: 0.658533],[Generator::loss: 0.735673], 0.007733[sec]\n",
      "epoch:[310/600] [Discriminator::d_loss: 0.671913],[Generator::loss: 0.715892], 0.007801[sec]\n",
      "epoch:[311/600] [Discriminator::d_loss: 0.668951],[Generator::loss: 0.782236], 0.007905[sec]\n",
      "epoch:[312/600] [Discriminator::d_loss: 0.661166],[Generator::loss: 0.746365], 0.008155[sec]\n",
      "epoch:[313/600] [Discriminator::d_loss: 0.662615],[Generator::loss: 0.756511], 0.008114[sec]\n",
      "epoch:[314/600] [Discriminator::d_loss: 0.657966],[Generator::loss: 0.736876], 0.007849[sec]\n",
      "epoch:[315/600] [Discriminator::d_loss: 0.680902],[Generator::loss: 0.761228], 0.007924[sec]\n",
      "epoch:[316/600] [Discriminator::d_loss: 0.669365],[Generator::loss: 0.750534], 0.007980[sec]\n",
      "epoch:[317/600] [Discriminator::d_loss: 0.659825],[Generator::loss: 0.730760], 0.007963[sec]\n",
      "epoch:[318/600] [Discriminator::d_loss: 0.645704],[Generator::loss: 0.778355], 0.008023[sec]\n",
      "epoch:[319/600] [Discriminator::d_loss: 0.666947],[Generator::loss: 0.729069], 0.007828[sec]\n",
      "epoch:[320/600] [Discriminator::d_loss: 0.672361],[Generator::loss: 0.714432], 0.007898[sec]\n",
      "epoch:[321/600] [Discriminator::d_loss: 0.672625],[Generator::loss: 0.756850], 0.008396[sec]\n",
      "epoch:[322/600] [Discriminator::d_loss: 0.692887],[Generator::loss: 0.812227], 0.010485[sec]\n",
      "epoch:[323/600] [Discriminator::d_loss: 0.673090],[Generator::loss: 0.738519], 0.008015[sec]\n",
      "epoch:[324/600] [Discriminator::d_loss: 0.675443],[Generator::loss: 0.745025], 0.008072[sec]\n",
      "epoch:[325/600] [Discriminator::d_loss: 0.679609],[Generator::loss: 0.701401], 0.007976[sec]\n",
      "epoch:[326/600] [Discriminator::d_loss: 0.646426],[Generator::loss: 0.735223], 0.008078[sec]\n",
      "epoch:[327/600] [Discriminator::d_loss: 0.657179],[Generator::loss: 0.714090], 0.008759[sec]\n",
      "epoch:[328/600] [Discriminator::d_loss: 0.661724],[Generator::loss: 0.769707], 0.007946[sec]\n",
      "epoch:[329/600] [Discriminator::d_loss: 0.675247],[Generator::loss: 0.739417], 0.008038[sec]\n",
      "epoch:[330/600] [Discriminator::d_loss: 0.660452],[Generator::loss: 0.736535], 0.007800[sec]\n",
      "epoch:[331/600] [Discriminator::d_loss: 0.686768],[Generator::loss: 0.734972], 0.007971[sec]\n",
      "epoch:[332/600] [Discriminator::d_loss: 0.675958],[Generator::loss: 0.743235], 0.007842[sec]\n",
      "epoch:[333/600] [Discriminator::d_loss: 0.666567],[Generator::loss: 0.758587], 0.007893[sec]\n",
      "epoch:[334/600] [Discriminator::d_loss: 0.660471],[Generator::loss: 0.738111], 0.008021[sec]\n",
      "epoch:[335/600] [Discriminator::d_loss: 0.676272],[Generator::loss: 0.713579], 0.008136[sec]\n",
      "epoch:[336/600] [Discriminator::d_loss: 0.626946],[Generator::loss: 0.717401], 0.007987[sec]\n",
      "epoch:[337/600] [Discriminator::d_loss: 0.673293],[Generator::loss: 0.746143], 0.007752[sec]\n",
      "epoch:[338/600] [Discriminator::d_loss: 0.669482],[Generator::loss: 0.708133], 0.007978[sec]\n",
      "epoch:[339/600] [Discriminator::d_loss: 0.661969],[Generator::loss: 0.754444], 0.009190[sec]\n",
      "epoch:[340/600] [Discriminator::d_loss: 0.680094],[Generator::loss: 0.726579], 0.007766[sec]\n",
      "epoch:[341/600] [Discriminator::d_loss: 0.656446],[Generator::loss: 0.698576], 0.007789[sec]\n",
      "epoch:[342/600] [Discriminator::d_loss: 0.671844],[Generator::loss: 0.776867], 0.008160[sec]\n",
      "epoch:[343/600] [Discriminator::d_loss: 0.641311],[Generator::loss: 0.756333], 0.009830[sec]\n",
      "epoch:[344/600] [Discriminator::d_loss: 0.667931],[Generator::loss: 0.766042], 0.007885[sec]\n",
      "epoch:[345/600] [Discriminator::d_loss: 0.641801],[Generator::loss: 0.724947], 0.010904[sec]\n",
      "epoch:[346/600] [Discriminator::d_loss: 0.668129],[Generator::loss: 0.742967], 0.010551[sec]\n",
      "epoch:[347/600] [Discriminator::d_loss: 0.631479],[Generator::loss: 0.701029], 0.008575[sec]\n",
      "epoch:[348/600] [Discriminator::d_loss: 0.646781],[Generator::loss: 0.785715], 0.008073[sec]\n",
      "epoch:[349/600] [Discriminator::d_loss: 0.677328],[Generator::loss: 0.727536], 0.008224[sec]\n",
      "epoch:[350/600] [Discriminator::d_loss: 0.675466],[Generator::loss: 0.754680], 0.008073[sec]\n",
      "epoch:[351/600] [Discriminator::d_loss: 0.677726],[Generator::loss: 0.751646], 0.007916[sec]\n",
      "epoch:[352/600] [Discriminator::d_loss: 0.647033],[Generator::loss: 0.749798], 0.008692[sec]\n",
      "epoch:[353/600] [Discriminator::d_loss: 0.663217],[Generator::loss: 0.769926], 0.007823[sec]\n",
      "epoch:[354/600] [Discriminator::d_loss: 0.658291],[Generator::loss: 0.735558], 0.008061[sec]\n",
      "epoch:[355/600] [Discriminator::d_loss: 0.661439],[Generator::loss: 0.761439], 0.007768[sec]\n",
      "epoch:[356/600] [Discriminator::d_loss: 0.656631],[Generator::loss: 0.730569], 0.007859[sec]\n",
      "epoch:[357/600] [Discriminator::d_loss: 0.653891],[Generator::loss: 0.703244], 0.007878[sec]\n",
      "epoch:[358/600] [Discriminator::d_loss: 0.677806],[Generator::loss: 0.773412], 0.008023[sec]\n",
      "epoch:[359/600] [Discriminator::d_loss: 0.663555],[Generator::loss: 0.721774], 0.007857[sec]\n",
      "epoch:[360/600] [Discriminator::d_loss: 0.686322],[Generator::loss: 0.717442], 0.007989[sec]\n",
      "epoch:[361/600] [Discriminator::d_loss: 0.678382],[Generator::loss: 0.714268], 0.007846[sec]\n",
      "epoch:[362/600] [Discriminator::d_loss: 0.643354],[Generator::loss: 0.769332], 0.007919[sec]\n",
      "epoch:[363/600] [Discriminator::d_loss: 0.668986],[Generator::loss: 0.736632], 0.007955[sec]\n",
      "epoch:[364/600] [Discriminator::d_loss: 0.670216],[Generator::loss: 0.705439], 0.007599[sec]\n",
      "epoch:[365/600] [Discriminator::d_loss: 0.638719],[Generator::loss: 0.769798], 0.007800[sec]\n",
      "epoch:[366/600] [Discriminator::d_loss: 0.678770],[Generator::loss: 0.703584], 0.007912[sec]\n",
      "epoch:[367/600] [Discriminator::d_loss: 0.652638],[Generator::loss: 0.698340], 0.007901[sec]\n",
      "epoch:[368/600] [Discriminator::d_loss: 0.641535],[Generator::loss: 0.682103], 0.007859[sec]\n",
      "epoch:[369/600] [Discriminator::d_loss: 0.666030],[Generator::loss: 0.741100], 0.007905[sec]\n",
      "epoch:[370/600] [Discriminator::d_loss: 0.655035],[Generator::loss: 0.765042], 0.012335[sec]\n",
      "epoch:[371/600] [Discriminator::d_loss: 0.655369],[Generator::loss: 0.769243], 0.008379[sec]\n",
      "epoch:[372/600] [Discriminator::d_loss: 0.660887],[Generator::loss: 0.737297], 0.007992[sec]\n",
      "epoch:[373/600] [Discriminator::d_loss: 0.654043],[Generator::loss: 0.770985], 0.008351[sec]\n",
      "epoch:[374/600] [Discriminator::d_loss: 0.676889],[Generator::loss: 0.750812], 0.007879[sec]\n",
      "epoch:[375/600] [Discriminator::d_loss: 0.692195],[Generator::loss: 0.756889], 0.007980[sec]\n",
      "epoch:[376/600] [Discriminator::d_loss: 0.656712],[Generator::loss: 0.766623], 0.007891[sec]\n",
      "epoch:[377/600] [Discriminator::d_loss: 0.675915],[Generator::loss: 0.719419], 0.007774[sec]\n",
      "epoch:[378/600] [Discriminator::d_loss: 0.648494],[Generator::loss: 0.734491], 0.008072[sec]\n",
      "epoch:[379/600] [Discriminator::d_loss: 0.652252],[Generator::loss: 0.745281], 0.007858[sec]\n",
      "epoch:[380/600] [Discriminator::d_loss: 0.656319],[Generator::loss: 0.717059], 0.007796[sec]\n",
      "epoch:[381/600] [Discriminator::d_loss: 0.687283],[Generator::loss: 0.727600], 0.007833[sec]\n",
      "epoch:[382/600] [Discriminator::d_loss: 0.687895],[Generator::loss: 0.743440], 0.008063[sec]\n",
      "epoch:[383/600] [Discriminator::d_loss: 0.675921],[Generator::loss: 0.757180], 0.007783[sec]\n",
      "epoch:[384/600] [Discriminator::d_loss: 0.649811],[Generator::loss: 0.706568], 0.007789[sec]\n",
      "epoch:[385/600] [Discriminator::d_loss: 0.669807],[Generator::loss: 0.748956], 0.007798[sec]\n",
      "epoch:[386/600] [Discriminator::d_loss: 0.658470],[Generator::loss: 0.744099], 0.007765[sec]\n",
      "epoch:[387/600] [Discriminator::d_loss: 0.666478],[Generator::loss: 0.747865], 0.007767[sec]\n",
      "epoch:[388/600] [Discriminator::d_loss: 0.641187],[Generator::loss: 0.685423], 0.007708[sec]\n",
      "epoch:[389/600] [Discriminator::d_loss: 0.652732],[Generator::loss: 0.715845], 0.008185[sec]\n",
      "epoch:[390/600] [Discriminator::d_loss: 0.672090],[Generator::loss: 0.748564], 0.008243[sec]\n",
      "epoch:[391/600] [Discriminator::d_loss: 0.687291],[Generator::loss: 0.729938], 0.007985[sec]\n",
      "epoch:[392/600] [Discriminator::d_loss: 0.669804],[Generator::loss: 0.749375], 0.007754[sec]\n"
     ]
    },
    {
     "name": "stdout",
     "output_type": "stream",
     "text": [
      "epoch:[393/600] [Discriminator::d_loss: 0.647683],[Generator::loss: 0.719786], 0.008683[sec]\n",
      "epoch:[394/600] [Discriminator::d_loss: 0.676587],[Generator::loss: 0.727302], 0.010225[sec]\n",
      "epoch:[395/600] [Discriminator::d_loss: 0.684718],[Generator::loss: 0.717776], 0.007965[sec]\n",
      "epoch:[396/600] [Discriminator::d_loss: 0.664178],[Generator::loss: 0.709864], 0.008515[sec]\n",
      "epoch:[397/600] [Discriminator::d_loss: 0.657563],[Generator::loss: 0.738766], 0.007956[sec]\n",
      "epoch:[398/600] [Discriminator::d_loss: 0.692439],[Generator::loss: 0.753074], 0.008089[sec]\n",
      "epoch:[399/600] [Discriminator::d_loss: 0.677012],[Generator::loss: 0.750033], 0.007693[sec]\n",
      "epoch:[400/600] [Discriminator::d_loss: 0.657302],[Generator::loss: 0.747524], 0.008118[sec]\n",
      "epoch:[401/600] [Discriminator::d_loss: 0.671386],[Generator::loss: 0.699844], 0.007927[sec]\n",
      "epoch:[402/600] [Discriminator::d_loss: 0.683401],[Generator::loss: 0.698063], 0.007870[sec]\n",
      "epoch:[403/600] [Discriminator::d_loss: 0.668123],[Generator::loss: 0.704953], 0.007852[sec]\n",
      "epoch:[404/600] [Discriminator::d_loss: 0.683496],[Generator::loss: 0.696097], 0.007776[sec]\n",
      "epoch:[405/600] [Discriminator::d_loss: 0.640724],[Generator::loss: 0.749396], 0.008014[sec]\n",
      "epoch:[406/600] [Discriminator::d_loss: 0.686745],[Generator::loss: 0.741048], 0.008092[sec]\n",
      "epoch:[407/600] [Discriminator::d_loss: 0.655064],[Generator::loss: 0.692034], 0.007937[sec]\n",
      "epoch:[408/600] [Discriminator::d_loss: 0.678273],[Generator::loss: 0.717058], 0.008569[sec]\n",
      "epoch:[409/600] [Discriminator::d_loss: 0.655490],[Generator::loss: 0.748686], 0.007756[sec]\n",
      "epoch:[410/600] [Discriminator::d_loss: 0.667133],[Generator::loss: 0.702590], 0.007773[sec]\n",
      "epoch:[411/600] [Discriminator::d_loss: 0.673088],[Generator::loss: 0.722023], 0.007890[sec]\n",
      "epoch:[412/600] [Discriminator::d_loss: 0.638375],[Generator::loss: 0.692002], 0.007749[sec]\n",
      "epoch:[413/600] [Discriminator::d_loss: 0.665941],[Generator::loss: 0.711271], 0.008034[sec]\n",
      "epoch:[414/600] [Discriminator::d_loss: 0.668125],[Generator::loss: 0.724630], 0.008056[sec]\n",
      "epoch:[415/600] [Discriminator::d_loss: 0.671623],[Generator::loss: 0.699597], 0.007817[sec]\n",
      "epoch:[416/600] [Discriminator::d_loss: 0.675254],[Generator::loss: 0.723076], 0.007872[sec]\n",
      "epoch:[417/600] [Discriminator::d_loss: 0.673818],[Generator::loss: 0.710273], 0.009042[sec]\n",
      "epoch:[418/600] [Discriminator::d_loss: 0.669670],[Generator::loss: 0.676684], 0.010086[sec]\n",
      "epoch:[419/600] [Discriminator::d_loss: 0.646675],[Generator::loss: 0.743966], 0.007929[sec]\n",
      "epoch:[420/600] [Discriminator::d_loss: 0.648252],[Generator::loss: 0.730987], 0.008049[sec]\n",
      "epoch:[421/600] [Discriminator::d_loss: 0.681992],[Generator::loss: 0.703263], 0.007949[sec]\n",
      "epoch:[422/600] [Discriminator::d_loss: 0.660714],[Generator::loss: 0.721439], 0.008116[sec]\n",
      "epoch:[423/600] [Discriminator::d_loss: 0.669001],[Generator::loss: 0.730109], 0.007921[sec]\n",
      "epoch:[424/600] [Discriminator::d_loss: 0.674378],[Generator::loss: 0.680281], 0.007943[sec]\n",
      "epoch:[425/600] [Discriminator::d_loss: 0.670328],[Generator::loss: 0.720809], 0.007882[sec]\n",
      "epoch:[426/600] [Discriminator::d_loss: 0.674657],[Generator::loss: 0.704315], 0.008080[sec]\n",
      "epoch:[427/600] [Discriminator::d_loss: 0.651006],[Generator::loss: 0.767944], 0.007900[sec]\n",
      "epoch:[428/600] [Discriminator::d_loss: 0.654251],[Generator::loss: 0.764163], 0.008024[sec]\n",
      "epoch:[429/600] [Discriminator::d_loss: 0.679606],[Generator::loss: 0.738719], 0.008003[sec]\n",
      "epoch:[430/600] [Discriminator::d_loss: 0.657520],[Generator::loss: 0.723500], 0.007802[sec]\n",
      "epoch:[431/600] [Discriminator::d_loss: 0.657846],[Generator::loss: 0.717671], 0.007711[sec]\n",
      "epoch:[432/600] [Discriminator::d_loss: 0.675057],[Generator::loss: 0.775868], 0.007680[sec]\n",
      "epoch:[433/600] [Discriminator::d_loss: 0.672553],[Generator::loss: 0.728369], 0.007887[sec]\n",
      "epoch:[434/600] [Discriminator::d_loss: 0.663367],[Generator::loss: 0.701594], 0.007964[sec]\n",
      "epoch:[435/600] [Discriminator::d_loss: 0.642633],[Generator::loss: 0.733354], 0.007883[sec]\n",
      "epoch:[436/600] [Discriminator::d_loss: 0.655887],[Generator::loss: 0.721867], 0.007894[sec]\n",
      "epoch:[437/600] [Discriminator::d_loss: 0.644346],[Generator::loss: 0.720612], 0.008064[sec]\n",
      "epoch:[438/600] [Discriminator::d_loss: 0.673319],[Generator::loss: 0.753798], 0.007685[sec]\n",
      "epoch:[439/600] [Discriminator::d_loss: 0.678614],[Generator::loss: 0.754521], 0.007838[sec]\n",
      "epoch:[440/600] [Discriminator::d_loss: 0.658056],[Generator::loss: 0.731551], 0.008047[sec]\n",
      "epoch:[441/600] [Discriminator::d_loss: 0.686464],[Generator::loss: 0.710296], 0.008218[sec]\n",
      "epoch:[442/600] [Discriminator::d_loss: 0.666748],[Generator::loss: 0.715616], 0.012328[sec]\n",
      "epoch:[443/600] [Discriminator::d_loss: 0.672820],[Generator::loss: 0.748693], 0.008107[sec]\n",
      "epoch:[444/600] [Discriminator::d_loss: 0.646058],[Generator::loss: 0.728046], 0.008009[sec]\n",
      "epoch:[445/600] [Discriminator::d_loss: 0.654598],[Generator::loss: 0.721606], 0.007851[sec]\n",
      "epoch:[446/600] [Discriminator::d_loss: 0.677576],[Generator::loss: 0.721967], 0.008144[sec]\n",
      "epoch:[447/600] [Discriminator::d_loss: 0.672380],[Generator::loss: 0.711229], 0.007901[sec]\n",
      "epoch:[448/600] [Discriminator::d_loss: 0.678060],[Generator::loss: 0.733868], 0.008087[sec]\n",
      "epoch:[449/600] [Discriminator::d_loss: 0.669856],[Generator::loss: 0.747990], 0.008156[sec]\n",
      "epoch:[450/600] [Discriminator::d_loss: 0.647789],[Generator::loss: 0.713380], 0.007841[sec]\n",
      "epoch:[451/600] [Discriminator::d_loss: 0.658443],[Generator::loss: 0.677603], 0.007818[sec]\n",
      "epoch:[452/600] [Discriminator::d_loss: 0.638371],[Generator::loss: 0.713185], 0.007888[sec]\n",
      "epoch:[453/600] [Discriminator::d_loss: 0.664065],[Generator::loss: 0.744747], 0.008089[sec]\n",
      "epoch:[454/600] [Discriminator::d_loss: 0.694812],[Generator::loss: 0.722039], 0.007918[sec]\n",
      "epoch:[455/600] [Discriminator::d_loss: 0.676848],[Generator::loss: 0.733032], 0.008003[sec]\n",
      "epoch:[456/600] [Discriminator::d_loss: 0.641244],[Generator::loss: 0.724801], 0.010417[sec]\n",
      "epoch:[457/600] [Discriminator::d_loss: 0.686360],[Generator::loss: 0.719219], 0.007648[sec]\n",
      "epoch:[458/600] [Discriminator::d_loss: 0.662029],[Generator::loss: 0.707616], 0.008073[sec]\n",
      "epoch:[459/600] [Discriminator::d_loss: 0.673616],[Generator::loss: 0.699259], 0.008337[sec]\n",
      "epoch:[460/600] [Discriminator::d_loss: 0.662245],[Generator::loss: 0.773288], 0.007987[sec]\n",
      "epoch:[461/600] [Discriminator::d_loss: 0.657230],[Generator::loss: 0.702461], 0.008053[sec]\n",
      "epoch:[462/600] [Discriminator::d_loss: 0.669639],[Generator::loss: 0.737029], 0.007693[sec]\n",
      "epoch:[463/600] [Discriminator::d_loss: 0.679997],[Generator::loss: 0.748044], 0.007965[sec]\n",
      "epoch:[464/600] [Discriminator::d_loss: 0.687638],[Generator::loss: 0.762592], 0.008101[sec]\n",
      "epoch:[465/600] [Discriminator::d_loss: 0.677318],[Generator::loss: 0.728980], 0.011928[sec]\n",
      "epoch:[466/600] [Discriminator::d_loss: 0.674519],[Generator::loss: 0.727308], 0.009590[sec]\n",
      "epoch:[467/600] [Discriminator::d_loss: 0.653746],[Generator::loss: 0.717566], 0.008100[sec]\n",
      "epoch:[468/600] [Discriminator::d_loss: 0.687715],[Generator::loss: 0.679980], 0.007892[sec]\n",
      "epoch:[469/600] [Discriminator::d_loss: 0.668233],[Generator::loss: 0.730347], 0.008067[sec]\n",
      "epoch:[470/600] [Discriminator::d_loss: 0.688800],[Generator::loss: 0.733805], 0.007714[sec]\n",
      "epoch:[471/600] [Discriminator::d_loss: 0.665036],[Generator::loss: 0.688312], 0.007878[sec]\n",
      "epoch:[472/600] [Discriminator::d_loss: 0.648737],[Generator::loss: 0.705174], 0.007957[sec]\n",
      "epoch:[473/600] [Discriminator::d_loss: 0.638765],[Generator::loss: 0.677528], 0.007769[sec]\n",
      "epoch:[474/600] [Discriminator::d_loss: 0.648724],[Generator::loss: 0.726174], 0.007768[sec]\n",
      "epoch:[475/600] [Discriminator::d_loss: 0.677572],[Generator::loss: 0.718727], 0.007786[sec]\n",
      "epoch:[476/600] [Discriminator::d_loss: 0.639027],[Generator::loss: 0.707548], 0.007823[sec]\n",
      "epoch:[477/600] [Discriminator::d_loss: 0.675543],[Generator::loss: 0.677228], 0.008047[sec]\n",
      "epoch:[478/600] [Discriminator::d_loss: 0.648434],[Generator::loss: 0.741692], 0.007729[sec]\n",
      "epoch:[479/600] [Discriminator::d_loss: 0.663671],[Generator::loss: 0.720444], 0.007757[sec]\n",
      "epoch:[480/600] [Discriminator::d_loss: 0.679459],[Generator::loss: 0.685779], 0.007708[sec]\n",
      "epoch:[481/600] [Discriminator::d_loss: 0.674452],[Generator::loss: 0.740537], 0.007937[sec]\n",
      "epoch:[482/600] [Discriminator::d_loss: 0.671548],[Generator::loss: 0.728094], 0.007844[sec]\n",
      "epoch:[483/600] [Discriminator::d_loss: 0.712548],[Generator::loss: 0.750446], 0.007949[sec]\n",
      "epoch:[484/600] [Discriminator::d_loss: 0.655713],[Generator::loss: 0.718347], 0.007840[sec]\n",
      "epoch:[485/600] [Discriminator::d_loss: 0.680087],[Generator::loss: 0.730689], 0.007675[sec]\n",
      "epoch:[486/600] [Discriminator::d_loss: 0.650543],[Generator::loss: 0.767452], 0.007804[sec]\n",
      "epoch:[487/600] [Discriminator::d_loss: 0.666295],[Generator::loss: 0.694526], 0.007943[sec]\n",
      "epoch:[488/600] [Discriminator::d_loss: 0.678551],[Generator::loss: 0.698817], 0.007873[sec]\n",
      "epoch:[489/600] [Discriminator::d_loss: 0.680681],[Generator::loss: 0.693105], 0.007864[sec]\n"
     ]
    },
    {
     "name": "stdout",
     "output_type": "stream",
     "text": [
      "epoch:[490/600] [Discriminator::d_loss: 0.661959],[Generator::loss: 0.730154], 0.009608[sec]\n",
      "epoch:[491/600] [Discriminator::d_loss: 0.694658],[Generator::loss: 0.709898], 0.009750[sec]\n",
      "epoch:[492/600] [Discriminator::d_loss: 0.661020],[Generator::loss: 0.751514], 0.007981[sec]\n",
      "epoch:[493/600] [Discriminator::d_loss: 0.645128],[Generator::loss: 0.685097], 0.008033[sec]\n",
      "epoch:[494/600] [Discriminator::d_loss: 0.677908],[Generator::loss: 0.699775], 0.007771[sec]\n",
      "epoch:[495/600] [Discriminator::d_loss: 0.663265],[Generator::loss: 0.728984], 0.008009[sec]\n",
      "epoch:[496/600] [Discriminator::d_loss: 0.657649],[Generator::loss: 0.761909], 0.007988[sec]\n",
      "epoch:[497/600] [Discriminator::d_loss: 0.673535],[Generator::loss: 0.702420], 0.007931[sec]\n",
      "epoch:[498/600] [Discriminator::d_loss: 0.652882],[Generator::loss: 0.707974], 0.007857[sec]\n",
      "epoch:[499/600] [Discriminator::d_loss: 0.650802],[Generator::loss: 0.729210], 0.007722[sec]\n",
      "epoch:[500/600] [Discriminator::d_loss: 0.664064],[Generator::loss: 0.696602], 0.007640[sec]\n",
      "epoch:[501/600] [Discriminator::d_loss: 0.680288],[Generator::loss: 0.702082], 0.007574[sec]\n",
      "epoch:[502/600] [Discriminator::d_loss: 0.651148],[Generator::loss: 0.697990], 0.007952[sec]\n",
      "epoch:[503/600] [Discriminator::d_loss: 0.671286],[Generator::loss: 0.731031], 0.007906[sec]\n",
      "epoch:[504/600] [Discriminator::d_loss: 0.661729],[Generator::loss: 0.745188], 0.007720[sec]\n",
      "epoch:[505/600] [Discriminator::d_loss: 0.664833],[Generator::loss: 0.722094], 0.008092[sec]\n",
      "epoch:[506/600] [Discriminator::d_loss: 0.681689],[Generator::loss: 0.739558], 0.007959[sec]\n",
      "epoch:[507/600] [Discriminator::d_loss: 0.643893],[Generator::loss: 0.726615], 0.008130[sec]\n",
      "epoch:[508/600] [Discriminator::d_loss: 0.692222],[Generator::loss: 0.751640], 0.008095[sec]\n",
      "epoch:[509/600] [Discriminator::d_loss: 0.681093],[Generator::loss: 0.725212], 0.007717[sec]\n",
      "epoch:[510/600] [Discriminator::d_loss: 0.662553],[Generator::loss: 0.693120], 0.008156[sec]\n",
      "epoch:[511/600] [Discriminator::d_loss: 0.672602],[Generator::loss: 0.764586], 0.007970[sec]\n",
      "epoch:[512/600] [Discriminator::d_loss: 0.638186],[Generator::loss: 0.695551], 0.007768[sec]\n",
      "epoch:[513/600] [Discriminator::d_loss: 0.656845],[Generator::loss: 0.732621], 0.007943[sec]\n",
      "epoch:[514/600] [Discriminator::d_loss: 0.647618],[Generator::loss: 0.694666], 0.008076[sec]\n",
      "epoch:[515/600] [Discriminator::d_loss: 0.666284],[Generator::loss: 0.670235], 0.009982[sec]\n",
      "epoch:[516/600] [Discriminator::d_loss: 0.667074],[Generator::loss: 0.726107], 0.008486[sec]\n",
      "epoch:[517/600] [Discriminator::d_loss: 0.668770],[Generator::loss: 0.748537], 0.008145[sec]\n",
      "epoch:[518/600] [Discriminator::d_loss: 0.654653],[Generator::loss: 0.716561], 0.008018[sec]\n",
      "epoch:[519/600] [Discriminator::d_loss: 0.670070],[Generator::loss: 0.743982], 0.007986[sec]\n",
      "epoch:[520/600] [Discriminator::d_loss: 0.661915],[Generator::loss: 0.713377], 0.007980[sec]\n",
      "epoch:[521/600] [Discriminator::d_loss: 0.688085],[Generator::loss: 0.753257], 0.007776[sec]\n",
      "epoch:[522/600] [Discriminator::d_loss: 0.675637],[Generator::loss: 0.713656], 0.007734[sec]\n",
      "epoch:[523/600] [Discriminator::d_loss: 0.668313],[Generator::loss: 0.703479], 0.007835[sec]\n",
      "epoch:[524/600] [Discriminator::d_loss: 0.682986],[Generator::loss: 0.704760], 0.007981[sec]\n",
      "epoch:[525/600] [Discriminator::d_loss: 0.657788],[Generator::loss: 0.726666], 0.008042[sec]\n",
      "epoch:[526/600] [Discriminator::d_loss: 0.661815],[Generator::loss: 0.694086], 0.007994[sec]\n",
      "epoch:[527/600] [Discriminator::d_loss: 0.664408],[Generator::loss: 0.716399], 0.007961[sec]\n",
      "epoch:[528/600] [Discriminator::d_loss: 0.651193],[Generator::loss: 0.699731], 0.008094[sec]\n",
      "epoch:[529/600] [Discriminator::d_loss: 0.665621],[Generator::loss: 0.728389], 0.007707[sec]\n",
      "epoch:[530/600] [Discriminator::d_loss: 0.674482],[Generator::loss: 0.712151], 0.007872[sec]\n",
      "epoch:[531/600] [Discriminator::d_loss: 0.675677],[Generator::loss: 0.691666], 0.008149[sec]\n",
      "epoch:[532/600] [Discriminator::d_loss: 0.673213],[Generator::loss: 0.723101], 0.007973[sec]\n",
      "epoch:[533/600] [Discriminator::d_loss: 0.666424],[Generator::loss: 0.769405], 0.007900[sec]\n",
      "epoch:[534/600] [Discriminator::d_loss: 0.673185],[Generator::loss: 0.708114], 0.007827[sec]\n",
      "epoch:[535/600] [Discriminator::d_loss: 0.666093],[Generator::loss: 0.699565], 0.007940[sec]\n",
      "epoch:[536/600] [Discriminator::d_loss: 0.674994],[Generator::loss: 0.718219], 0.007959[sec]\n",
      "epoch:[537/600] [Discriminator::d_loss: 0.678562],[Generator::loss: 0.737820], 0.007933[sec]\n",
      "epoch:[538/600] [Discriminator::d_loss: 0.676245],[Generator::loss: 0.736109], 0.008170[sec]\n",
      "epoch:[539/600] [Discriminator::d_loss: 0.687042],[Generator::loss: 0.702655], 0.013223[sec]\n",
      "epoch:[540/600] [Discriminator::d_loss: 0.678106],[Generator::loss: 0.715021], 0.008072[sec]\n",
      "epoch:[541/600] [Discriminator::d_loss: 0.684961],[Generator::loss: 0.681321], 0.008376[sec]\n",
      "epoch:[542/600] [Discriminator::d_loss: 0.652218],[Generator::loss: 0.775365], 0.007672[sec]\n",
      "epoch:[543/600] [Discriminator::d_loss: 0.652802],[Generator::loss: 0.721532], 0.007953[sec]\n",
      "epoch:[544/600] [Discriminator::d_loss: 0.680522],[Generator::loss: 0.759572], 0.007910[sec]\n",
      "epoch:[545/600] [Discriminator::d_loss: 0.664055],[Generator::loss: 0.771555], 0.007861[sec]\n",
      "epoch:[546/600] [Discriminator::d_loss: 0.671678],[Generator::loss: 0.743087], 0.007878[sec]\n",
      "epoch:[547/600] [Discriminator::d_loss: 0.660425],[Generator::loss: 0.736652], 0.007697[sec]\n",
      "epoch:[548/600] [Discriminator::d_loss: 0.678849],[Generator::loss: 0.718372], 0.007768[sec]\n",
      "epoch:[549/600] [Discriminator::d_loss: 0.658349],[Generator::loss: 0.740583], 0.007843[sec]\n",
      "epoch:[550/600] [Discriminator::d_loss: 0.642745],[Generator::loss: 0.725846], 0.007872[sec]\n",
      "epoch:[551/600] [Discriminator::d_loss: 0.649893],[Generator::loss: 0.715897], 0.007756[sec]\n",
      "epoch:[552/600] [Discriminator::d_loss: 0.663531],[Generator::loss: 0.699572], 0.007751[sec]\n",
      "epoch:[553/600] [Discriminator::d_loss: 0.652367],[Generator::loss: 0.720834], 0.007765[sec]\n",
      "epoch:[554/600] [Discriminator::d_loss: 0.686230],[Generator::loss: 0.729658], 0.007964[sec]\n",
      "epoch:[555/600] [Discriminator::d_loss: 0.672122],[Generator::loss: 0.740698], 0.007774[sec]\n",
      "epoch:[556/600] [Discriminator::d_loss: 0.641955],[Generator::loss: 0.743610], 0.007861[sec]\n",
      "epoch:[557/600] [Discriminator::d_loss: 0.706637],[Generator::loss: 0.717509], 0.007712[sec]\n",
      "epoch:[558/600] [Discriminator::d_loss: 0.677273],[Generator::loss: 0.728698], 0.007723[sec]\n",
      "epoch:[559/600] [Discriminator::d_loss: 0.654197],[Generator::loss: 0.675696], 0.007812[sec]\n",
      "epoch:[560/600] [Discriminator::d_loss: 0.680149],[Generator::loss: 0.676272], 0.007716[sec]\n",
      "epoch:[561/600] [Discriminator::d_loss: 0.691233],[Generator::loss: 0.736665], 0.007750[sec]\n",
      "epoch:[562/600] [Discriminator::d_loss: 0.669859],[Generator::loss: 0.761906], 0.008229[sec]\n",
      "epoch:[563/600] [Discriminator::d_loss: 0.689195],[Generator::loss: 0.713613], 0.010360[sec]\n",
      "epoch:[564/600] [Discriminator::d_loss: 0.677312],[Generator::loss: 0.743677], 0.008935[sec]\n",
      "epoch:[565/600] [Discriminator::d_loss: 0.669428],[Generator::loss: 0.703202], 0.008261[sec]\n",
      "epoch:[566/600] [Discriminator::d_loss: 0.690723],[Generator::loss: 0.721455], 0.007841[sec]\n",
      "epoch:[567/600] [Discriminator::d_loss: 0.686633],[Generator::loss: 0.710252], 0.008137[sec]\n",
      "epoch:[568/600] [Discriminator::d_loss: 0.662592],[Generator::loss: 0.720393], 0.007829[sec]\n",
      "epoch:[569/600] [Discriminator::d_loss: 0.672138],[Generator::loss: 0.731334], 0.007869[sec]\n",
      "epoch:[570/600] [Discriminator::d_loss: 0.680116],[Generator::loss: 0.698049], 0.007837[sec]\n",
      "epoch:[571/600] [Discriminator::d_loss: 0.660789],[Generator::loss: 0.755182], 0.007832[sec]\n",
      "epoch:[572/600] [Discriminator::d_loss: 0.693183],[Generator::loss: 0.741464], 0.007823[sec]\n",
      "epoch:[573/600] [Discriminator::d_loss: 0.681894],[Generator::loss: 0.718199], 0.009234[sec]\n",
      "epoch:[574/600] [Discriminator::d_loss: 0.678285],[Generator::loss: 0.761473], 0.007965[sec]\n",
      "epoch:[575/600] [Discriminator::d_loss: 0.669748],[Generator::loss: 0.736820], 0.007869[sec]\n",
      "epoch:[576/600] [Discriminator::d_loss: 0.668221],[Generator::loss: 0.676816], 0.008580[sec]\n",
      "epoch:[577/600] [Discriminator::d_loss: 0.694549],[Generator::loss: 0.707231], 0.009115[sec]\n",
      "epoch:[578/600] [Discriminator::d_loss: 0.661432],[Generator::loss: 0.735707], 0.007851[sec]\n",
      "epoch:[579/600] [Discriminator::d_loss: 0.667137],[Generator::loss: 0.668226], 0.007963[sec]\n",
      "epoch:[580/600] [Discriminator::d_loss: 0.674122],[Generator::loss: 0.713969], 0.007658[sec]\n",
      "epoch:[581/600] [Discriminator::d_loss: 0.670440],[Generator::loss: 0.768600], 0.007840[sec]\n",
      "epoch:[582/600] [Discriminator::d_loss: 0.654283],[Generator::loss: 0.740608], 0.007956[sec]\n",
      "epoch:[583/600] [Discriminator::d_loss: 0.672554],[Generator::loss: 0.678571], 0.007795[sec]\n",
      "epoch:[584/600] [Discriminator::d_loss: 0.658425],[Generator::loss: 0.760313], 0.007983[sec]\n",
      "epoch:[585/600] [Discriminator::d_loss: 0.647319],[Generator::loss: 0.668200], 0.008004[sec]\n"
     ]
    },
    {
     "name": "stdout",
     "output_type": "stream",
     "text": [
      "epoch:[586/600] [Discriminator::d_loss: 0.672860],[Generator::loss: 0.696318], 0.010172[sec]\n",
      "epoch:[587/600] [Discriminator::d_loss: 0.666552],[Generator::loss: 0.733803], 0.009692[sec]\n",
      "epoch:[588/600] [Discriminator::d_loss: 0.661089],[Generator::loss: 0.723901], 0.009773[sec]\n",
      "epoch:[589/600] [Discriminator::d_loss: 0.683322],[Generator::loss: 0.736282], 0.008028[sec]\n",
      "epoch:[590/600] [Discriminator::d_loss: 0.673020],[Generator::loss: 0.739698], 0.008121[sec]\n",
      "epoch:[591/600] [Discriminator::d_loss: 0.668769],[Generator::loss: 0.748318], 0.007940[sec]\n",
      "epoch:[592/600] [Discriminator::d_loss: 0.677919],[Generator::loss: 0.734622], 0.007867[sec]\n",
      "epoch:[593/600] [Discriminator::d_loss: 0.683011],[Generator::loss: 0.710347], 0.007799[sec]\n",
      "epoch:[594/600] [Discriminator::d_loss: 0.666093],[Generator::loss: 0.702178], 0.007977[sec]\n",
      "epoch:[595/600] [Discriminator::d_loss: 0.679713],[Generator::loss: 0.730112], 0.007853[sec]\n",
      "epoch:[596/600] [Discriminator::d_loss: 0.650448],[Generator::loss: 0.731810], 0.007948[sec]\n",
      "epoch:[597/600] [Discriminator::d_loss: 0.668446],[Generator::loss: 0.726082], 0.007944[sec]\n",
      "epoch:[598/600] [Discriminator::d_loss: 0.680593],[Generator::loss: 0.688581], 0.007897[sec]\n",
      "epoch:[599/600] [Discriminator::d_loss: 0.656062],[Generator::loss: 0.726864], 0.008031[sec]\n",
      "epoch:[600/600] [Discriminator::d_loss: 0.657802],[Generator::loss: 0.715414], 0.007805[sec]\n"
     ]
    }
   ],
   "source": [
    "ep = 600\n",
    "g_loss, d_loss = train(X_train, epochs=ep, batch_size=15, G=G, D=D, gan=gan, noise_input=noise_input)"
   ]
  },
  {
   "cell_type": "code",
   "execution_count": 97,
   "metadata": {},
   "outputs": [
    {
     "data": {
      "image/png": "[encoded data removed]",
      "text/plain": [
       "<Figure size 1080x360 with 1 Axes>"
      ]
     },
     "metadata": {
      "needs_background": "light"
     },
     "output_type": "display_data"
    }
   ],
   "source": [
    "plt.figure(figsize=(15,5))\n",
    "plt.title(\"Loss GAN\", fontsize=15)\n",
    "plt.plot(range(ep), g_loss, label=\"loss rede G\")\n",
    "plt.plot(range(ep), d_loss, label=\"loss rede D\")\n",
    "plt.xlabel(\"epochs\", fontsize=14)\n",
    "plt.ylabel(\"loss\", fontsize=14)\n",
    "plt.grid()\n",
    "plt.legend();"
   ]
  },
  {
   "cell_type": "code",
   "execution_count": null,
   "metadata": {},
   "outputs": [],
   "source": []
  },
  {
   "cell_type": "code",
   "execution_count": 121,
   "metadata": {
    "scrolled": false
   },
   "outputs": [
    {
     "name": "stdout",
     "output_type": "stream",
     "text": [
      "Distribuición original de cada caracteristica vs red Generadora entrenada\n"
     ]
    },
    {
     "data": {
      "image/png": "[encoded data removed]",
      "text/plain": [
       "<Figure size 1080x648 with 9 Axes>"
      ]
     },
     "metadata": {
      "needs_background": "light"
     },
     "output_type": "display_data"
    }
   ],
   "source": [
    "noise = np.random.normal(loc=0, scale=1, size=(X_train.shape[0],noise_input))\n",
    "data_fake = G.predict(noise)\n",
    "plt.figure(figsize=(15,9))\n",
    "print(\"Distribuición original de cada caracteristica vs red Generadora entrenada\")\n",
    "for col in range(X_train.shape[1]):\n",
    "    aux_real = X_train.iloc[:,col]\n",
    "    aux_fake = data_fake[:,col]\n",
    "    plt.subplot(3,3,col+1)\n",
    "    plt.hist(aux_real, bins=10, label=\"real\",)\n",
    "    plt.hist(aux_fake, bins=10, label=\"fake\", alpha=0.8)\n",
    "    plt.legend()"
   ]
  },
  {
   "cell_type": "code",
   "execution_count": 122,
   "metadata": {},
   "outputs": [
    {
     "name": "stdout",
     "output_type": "stream",
     "text": [
      "(15, 2) (800, 2)\n"
     ]
    },
    {
     "data": {
      "image/png": "[encoded data removed]",
      "text/plain": [
       "<Figure size 432x288 with 1 Axes>"
      ]
     },
     "metadata": {
      "needs_background": "light"
     },
     "output_type": "display_data"
    }
   ],
   "source": [
    "fig2 = plt.figure()\n",
    "ax2 = fig2.add_subplot()\n",
    "ax2.spines[\"top\"].set_visible(False)\n",
    "ax2.spines[\"right\"].set_visible(False)\n",
    "x_noise = G.predict(np.random.normal(loc=0, scale=1, size=(800,noise_input)))\n",
    "X_fake_pca = pca_real.transform(x_noise)\n",
    "print(X_train_pca.shape, X_fake_pca.shape)\n",
    "plt.title(\"2-PCA entre dados reais e fakes\", fontsize=14)\n",
    "plt.xlabel(\"componente principal um\", fontsize=13)\n",
    "plt.ylabel(\"componente principal dois\", fontsize=13)\n",
    "plt.scatter(X_fake_pca[:,0], X_fake_pca[:,1], color=\"red\", label=\"fake\", alpha=0.3)\n",
    "plt.scatter(X_train_pca[:,0], X_train_pca[:,1], color=\"green\", label=\"real\", alpha=1)\n",
    "plt.legend();"
   ]
  },
  {
   "cell_type": "code",
   "execution_count": 123,
   "metadata": {},
   "outputs": [
    {
     "name": "stdout",
     "output_type": "stream",
     "text": [
      "Dados fake:  (5000, 9)\n",
      "\n",
      "-------------- Discriminador com dados fake --------------\n",
      "porcentagem de dados que o discriminador acredita reais:  0.3344\n",
      "porcentagem de dados que o discriminador acredita fakes:  0.6656\n",
      "\n",
      "-------------- Discriminador com dados reais --------------\n",
      "porcentagem de dados que o discriminador acredita reais:  0.6\n",
      "porcentagem de dados que o discriminador acredita fakes:  0.4\n"
     ]
    }
   ],
   "source": [
    "fakes = G.predict(np.random.normal(0,1,(5000,noise_input)))\n",
    "print(\"Dados fake: \", fakes.shape)\n",
    "print()\n",
    "D_predict_fake = D.predict_classes(fakes)\n",
    "print(\"-------------- Discriminador com dados fake --------------\")\n",
    "print(\"porcentagem de dados que o discriminador acredita reais: \", np.round(np.mean(D_predict_fake==1),4))\n",
    "print(\"porcentagem de dados que o discriminador acredita fakes: \", np.round(np.mean(D_predict_fake==0),4))\n",
    "print()\n",
    "D_predict_real = D.predict_classes(X_train)\n",
    "print(\"-------------- Discriminador com dados reais --------------\")\n",
    "print(\"porcentagem de dados que o discriminador acredita reais: \", np.round(np.mean(D_predict_real==1),4))\n",
    "print(\"porcentagem de dados que o discriminador acredita fakes: \", np.round(np.mean(D_predict_real==0),4))"
   ]
  },
  {
   "cell_type": "code",
   "execution_count": 124,
   "metadata": {},
   "outputs": [
    {
     "data": {
      "application/vnd.plotly.v1+json": {
       "config": {
        "plotlyServerURL": "https://plot.ly"
       },
       "data": [
        {
         "dimensions": [
          {
           "label": "BB10",
           "values": [
            0.3066823000071348,
            -0.9249707840788235,
            0.3518915715190556,
            0.3322635210407443,
            0.3920157143920573,
            0.9817417557268229,
            0.38404518351359274,
            -1,
            -0.8146228229083732,
            1,
            0.7385416535193952,
            0.6429663748380146,
            0.5574155636051916,
            -0.2609800218993834,
            -0.5642836554919362,
            0.573832631111145,
            -0.48555874824523926,
            0.38098159432411194,
            -0.830603837966919,
            0.48992782831192017,
            -0.16957318782806396,
            -0.41796714067459106,
            0.4951123893260956,
            0.6443046927452087,
            -0.2541256248950958,
            -0.6122845411300659,
            0.5824344158172607,
            0.6011677384376526,
            0.5717822313308716,
            -0.4101744592189789
           ]
          },
          {
           "label": "BB9",
           "values": [
            0.3229188241081138,
            -0.886249439065224,
            0.28013891765477483,
            0.3727767565888256,
            0.43831227670480977,
            1,
            0.3614577400369354,
            -1,
            -0.8012047153040266,
            0.9775755535994757,
            0.7702875006472323,
            0.7010740822244093,
            0.521714648164449,
            -0.19154142719066625,
            -0.5317931358842927,
            0.3887151777744293,
            -0.30448976159095764,
            0.5301260948181152,
            -0.9451903104782104,
            0.43540051579475403,
            -0.026135824620723724,
            -0.4539337158203125,
            0.7143961191177368,
            0.9440102577209473,
            -0.46624186635017395,
            -0.7477352619171143,
            0.6629079580307007,
            0.5161392092704773,
            0.8726851344108582,
            -0.545990526676178
           ]
          },
          {
           "label": "BB19",
           "values": [
            0.2527053726119477,
            -1,
            0.20985215420595993,
            0.43501551148099926,
            0.5106459119720377,
            0.7445656170627855,
            0.2852523244869052,
            -0.9149864890630589,
            -0.7360564873173328,
            1,
            0.7223919890616062,
            0.587298266366518,
            0.5288895326393794,
            -0.1384803420282118,
            -0.5442219705336625,
            0.3407854437828064,
            -0.47668373584747314,
            0.5154120326042175,
            -0.8807787299156189,
            0.07533198595046997,
            0.13480068743228912,
            -0.48248037695884705,
            0.46367576718330383,
            0.921755313873291,
            -0.5279830098152161,
            -0.5595129728317261,
            0.16447214782238007,
            0.5536537170410156,
            0.6775323152542114,
            -0.3433552086353302
           ]
          },
          {
           "label": "BB20",
           "values": [
            0.050681536961544316,
            -0.9994049758078156,
            0.1289131625442106,
            0.32020547544072686,
            0.37293398932798305,
            0.6856013984474087,
            0.23555367938128624,
            -0.8709753289851276,
            -1,
            1,
            0.6401612281299323,
            0.5281861085745794,
            0.41430175785139034,
            -0.2983441929152768,
            -0.6674302029594721,
            0.3224445879459381,
            -0.5036080479621887,
            0.28879350423812866,
            -0.940988302230835,
            0.23002013564109802,
            -0.060388244688510895,
            -0.46855348348617554,
            0.37348535656929016,
            0.7757635116577148,
            -0.5628888010978699,
            -0.5851157307624817,
            0.23452641069889069,
            0.37910374999046326,
            0.37036892771720886,
            -0.44869229197502136
           ]
          },
          {
           "label": "BB18",
           "values": [
            -0.020661257940210676,
            -0.5147383939887045,
            0.3764546877771524,
            0.07583785131657761,
            0.5034935642838967,
            0.298520440821489,
            0.5961687759157441,
            -1,
            -0.38963588782548075,
            1,
            0.4798548075711886,
            0.36648877509312383,
            0.4751273132973952,
            -0.44142302976084824,
            -0.24272045573147616,
            0.2843991219997406,
            -0.2385779619216919,
            0.2220514416694641,
            -0.7358461618423462,
            0.08827191591262817,
            0.07229933142662048,
            -0.34212183952331543,
            0.25038543343544006,
            0.6565681099891663,
            -0.513954758644104,
            -0.4213699400424957,
            0.0978689193725586,
            0.36897313594818115,
            0.5985680818557739,
            -0.3683445453643799
           ]
          },
          {
           "label": "BB12",
           "values": [
            -0.10470648814556094,
            -0.3469786343966913,
            0.6160641277266701,
            -0.11824162609288003,
            0.8215474790592354,
            -0.08646241003493549,
            0.8218715718393224,
            -1,
            -0.12088660697247156,
            1,
            0.10714571275358464,
            0.030255766772600223,
            0.46501557031267593,
            -0.4717245040794117,
            0.12492497358750376,
            0.10079069435596466,
            -0.18395927548408508,
            0.2352808266878128,
            -0.5305739641189575,
            -0.14394190907478333,
            0.16086894273757935,
            -0.37945756316185,
            0.23864750564098358,
            0.6380279660224915,
            -0.6137144565582275,
            -0.2240467667579651,
            -0.142524853348732,
            0.2635306119918823,
            0.4372120797634125,
            -0.17684605717658997
           ]
          },
          {
           "label": "BB17",
           "values": [
            0.23324877305416036,
            -0.9213553581990703,
            0.3468069275792731,
            0.2508279553375068,
            0.35372725822618967,
            0.9001459628840855,
            0.40601977315593607,
            -1,
            -0.8354182615224179,
            1,
            0.8303269446388297,
            0.7080847676235908,
            0.583515865956892,
            -0.07562529408033791,
            -0.7228795503829021,
            0.25358834862709045,
            -0.3548182249069214,
            0.6100199818611145,
            -0.9612179398536682,
            0.17702347040176392,
            -0.01656295172870159,
            -0.281228631734848,
            0.629711389541626,
            0.9467262625694275,
            -0.46896517276763916,
            -0.5669189095497131,
            0.5193598866462708,
            0.5232043862342834,
            0.8330762386322021,
            -0.4078468680381775
           ]
          },
          {
           "label": "BB11",
           "values": [
            -0.23938805846223687,
            -0.8695148037501175,
            0.2298599505114749,
            0.047408895463810774,
            0.3648391106022326,
            0.23721312211595635,
            0.3605376990582063,
            -1,
            -0.745359279647642,
            1,
            0.5027175396727193,
            0.3776981148290157,
            0.4447508983889257,
            -0.4922719006430146,
            -0.4714962831914443,
            0.10852199792861938,
            -0.4251166582107544,
            0.21768367290496826,
            -0.826461911201477,
            -0.1082991287112236,
            -0.1430109739303589,
            -0.4486771523952484,
            0.242117777466774,
            0.7859070301055908,
            -0.6339125633239746,
            -0.5978883504867554,
            -0.11121580749750137,
            0.3166141211986542,
            0.5327582955360413,
            -0.46403053402900696
           ]
          }
         ],
         "domain": {
          "x": [
           0,
           0.98
          ],
          "y": [
           0,
           1
          ]
         },
         "line": {
          "color": [
           1,
           1,
           1,
           1,
           1,
           1,
           1,
           1,
           1,
           1,
           1,
           1,
           1,
           1,
           1,
           2,
           2,
           2,
           2,
           2,
           2,
           2,
           2,
           2,
           2,
           2,
           2,
           2,
           2,
           2
          ],
          "coloraxis": "coloraxis"
         },
         "name": "",
         "type": "parcoords"
        }
       ],
       "layout": {
        "coloraxis": {
         "colorbar": {
          "title": {
           "text": "cor"
          }
         },
         "colorscale": [
          [
           0,
           "rgb(0, 147, 146)"
          ],
          [
           0.16666666666666666,
           "rgb(114, 170, 161)"
          ],
          [
           0.3333333333333333,
           "rgb(177, 199, 179)"
          ],
          [
           0.5,
           "rgb(241, 234, 200)"
          ],
          [
           0.6666666666666666,
           "rgb(229, 185, 173)"
          ],
          [
           0.8333333333333334,
           "rgb(217, 137, 148)"
          ],
          [
           1,
           "rgb(208, 88, 126)"
          ]
         ]
        },
        "height": 600,
        "legend": {
         "tracegroupgap": 0
        },
        "margin": {
         "t": 60
        },
        "template": {
         "data": {
          "bar": [
           {
            "error_x": {
             "color": "#2a3f5f"
            },
            "error_y": {
             "color": "#2a3f5f"
            },
            "marker": {
             "line": {
              "color": "#E5ECF6",
              "width": 0.5
             }
            },
            "type": "bar"
           }
          ],
          "barpolar": [
           {
            "marker": {
             "line": {
              "color": "#E5ECF6",
              "width": 0.5
             }
            },
            "type": "barpolar"
           }
          ],
          "carpet": [
           {
            "aaxis": {
             "endlinecolor": "#2a3f5f",
             "gridcolor": "white",
             "linecolor": "white",
             "minorgridcolor": "white",
             "startlinecolor": "#2a3f5f"
            },
            "baxis": {
             "endlinecolor": "#2a3f5f",
             "gridcolor": "white",
             "linecolor": "white",
             "minorgridcolor": "white",
             "startlinecolor": "#2a3f5f"
            },
            "type": "carpet"
           }
          ],
          "choropleth": [
           {
            "colorbar": {
             "outlinewidth": 0,
             "ticks": ""
            },
            "type": "choropleth"
           }
          ],
          "contour": [
           {
            "colorbar": {
             "outlinewidth": 0,
             "ticks": ""
            },
            "colorscale": [
             [
              0,
              "#0d0887"
             ],
             [
              0.1111111111111111,
              "#46039f"
             ],
             [
              0.2222222222222222,
              "#7201a8"
             ],
             [
              0.3333333333333333,
              "#9c179e"
             ],
             [
              0.4444444444444444,
              "#bd3786"
             ],
             [
              0.5555555555555556,
              "#d8576b"
             ],
             [
              0.6666666666666666,
              "#ed7953"
             ],
             [
              0.7777777777777778,
              "#fb9f3a"
             ],
             [
              0.8888888888888888,
              "#fdca26"
             ],
             [
              1,
              "#f0f921"
             ]
            ],
            "type": "contour"
           }
          ],
          "contourcarpet": [
           {
            "colorbar": {
             "outlinewidth": 0,
             "ticks": ""
            },
            "type": "contourcarpet"
           }
          ],
          "heatmap": [
           {
            "colorbar": {
             "outlinewidth": 0,
             "ticks": ""
            },
            "colorscale": [
             [
              0,
              "#0d0887"
             ],
             [
              0.1111111111111111,
              "#46039f"
             ],
             [
              0.2222222222222222,
              "#7201a8"
             ],
             [
              0.3333333333333333,
              "#9c179e"
             ],
             [
              0.4444444444444444,
              "#bd3786"
             ],
             [
              0.5555555555555556,
              "#d8576b"
             ],
             [
              0.6666666666666666,
              "#ed7953"
             ],
             [
              0.7777777777777778,
              "#fb9f3a"
             ],
             [
              0.8888888888888888,
              "#fdca26"
             ],
             [
              1,
              "#f0f921"
             ]
            ],
            "type": "heatmap"
           }
          ],
          "heatmapgl": [
           {
            "colorbar": {
             "outlinewidth": 0,
             "ticks": ""
            },
            "colorscale": [
             [
              0,
              "#0d0887"
             ],
             [
              0.1111111111111111,
              "#46039f"
             ],
             [
              0.2222222222222222,
              "#7201a8"
             ],
             [
              0.3333333333333333,
              "#9c179e"
             ],
             [
              0.4444444444444444,
              "#bd3786"
             ],
             [
              0.5555555555555556,
              "#d8576b"
             ],
             [
              0.6666666666666666,
              "#ed7953"
             ],
             [
              0.7777777777777778,
              "#fb9f3a"
             ],
             [
              0.8888888888888888,
              "#fdca26"
             ],
             [
              1,
              "#f0f921"
             ]
            ],
            "type": "heatmapgl"
           }
          ],
          "histogram": [
           {
            "marker": {
             "colorbar": {
              "outlinewidth": 0,
              "ticks": ""
             }
            },
            "type": "histogram"
           }
          ],
          "histogram2d": [
           {
            "colorbar": {
             "outlinewidth": 0,
             "ticks": ""
            },
            "colorscale": [
             [
              0,
              "#0d0887"
             ],
             [
              0.1111111111111111,
              "#46039f"
             ],
             [
              0.2222222222222222,
              "#7201a8"
             ],
             [
              0.3333333333333333,
              "#9c179e"
             ],
             [
              0.4444444444444444,
              "#bd3786"
             ],
             [
              0.5555555555555556,
              "#d8576b"
             ],
             [
              0.6666666666666666,
              "#ed7953"
             ],
             [
              0.7777777777777778,
              "#fb9f3a"
             ],
             [
              0.8888888888888888,
              "#fdca26"
             ],
             [
              1,
              "#f0f921"
             ]
            ],
            "type": "histogram2d"
           }
          ],
          "histogram2dcontour": [
           {
            "colorbar": {
             "outlinewidth": 0,
             "ticks": ""
            },
            "colorscale": [
             [
              0,
              "#0d0887"
             ],
             [
              0.1111111111111111,
              "#46039f"
             ],
             [
              0.2222222222222222,
              "#7201a8"
             ],
             [
              0.3333333333333333,
              "#9c179e"
             ],
             [
              0.4444444444444444,
              "#bd3786"
             ],
             [
              0.5555555555555556,
              "#d8576b"
             ],
             [
              0.6666666666666666,
              "#ed7953"
             ],
             [
              0.7777777777777778,
              "#fb9f3a"
             ],
             [
              0.8888888888888888,
              "#fdca26"
             ],
             [
              1,
              "#f0f921"
             ]
            ],
            "type": "histogram2dcontour"
           }
          ],
          "mesh3d": [
           {
            "colorbar": {
             "outlinewidth": 0,
             "ticks": ""
            },
            "type": "mesh3d"
           }
          ],
          "parcoords": [
           {
            "line": {
             "colorbar": {
              "outlinewidth": 0,
              "ticks": ""
             }
            },
            "type": "parcoords"
           }
          ],
          "scatter": [
           {
            "marker": {
             "colorbar": {
              "outlinewidth": 0,
              "ticks": ""
             }
            },
            "type": "scatter"
           }
          ],
          "scatter3d": [
           {
            "line": {
             "colorbar": {
              "outlinewidth": 0,
              "ticks": ""
             }
            },
            "marker": {
             "colorbar": {
              "outlinewidth": 0,
              "ticks": ""
             }
            },
            "type": "scatter3d"
           }
          ],
          "scattercarpet": [
           {
            "marker": {
             "colorbar": {
              "outlinewidth": 0,
              "ticks": ""
             }
            },
            "type": "scattercarpet"
           }
          ],
          "scattergeo": [
           {
            "marker": {
             "colorbar": {
              "outlinewidth": 0,
              "ticks": ""
             }
            },
            "type": "scattergeo"
           }
          ],
          "scattergl": [
           {
            "marker": {
             "colorbar": {
              "outlinewidth": 0,
              "ticks": ""
             }
            },
            "type": "scattergl"
           }
          ],
          "scattermapbox": [
           {
            "marker": {
             "colorbar": {
              "outlinewidth": 0,
              "ticks": ""
             }
            },
            "type": "scattermapbox"
           }
          ],
          "scatterpolar": [
           {
            "marker": {
             "colorbar": {
              "outlinewidth": 0,
              "ticks": ""
             }
            },
            "type": "scatterpolar"
           }
          ],
          "scatterpolargl": [
           {
            "marker": {
             "colorbar": {
              "outlinewidth": 0,
              "ticks": ""
             }
            },
            "type": "scatterpolargl"
           }
          ],
          "scatterternary": [
           {
            "marker": {
             "colorbar": {
              "outlinewidth": 0,
              "ticks": ""
             }
            },
            "type": "scatterternary"
           }
          ],
          "surface": [
           {
            "colorbar": {
             "outlinewidth": 0,
             "ticks": ""
            },
            "colorscale": [
             [
              0,
              "#0d0887"
             ],
             [
              0.1111111111111111,
              "#46039f"
             ],
             [
              0.2222222222222222,
              "#7201a8"
             ],
             [
              0.3333333333333333,
              "#9c179e"
             ],
             [
              0.4444444444444444,
              "#bd3786"
             ],
             [
              0.5555555555555556,
              "#d8576b"
             ],
             [
              0.6666666666666666,
              "#ed7953"
             ],
             [
              0.7777777777777778,
              "#fb9f3a"
             ],
             [
              0.8888888888888888,
              "#fdca26"
             ],
             [
              1,
              "#f0f921"
             ]
            ],
            "type": "surface"
           }
          ],
          "table": [
           {
            "cells": {
             "fill": {
              "color": "#EBF0F8"
             },
             "line": {
              "color": "white"
             }
            },
            "header": {
             "fill": {
              "color": "#C8D4E3"
             },
             "line": {
              "color": "white"
             }
            },
            "type": "table"
           }
          ]
         },
         "layout": {
          "annotationdefaults": {
           "arrowcolor": "#2a3f5f",
           "arrowhead": 0,
           "arrowwidth": 1
          },
          "colorscale": {
           "diverging": [
            [
             0,
             "#8e0152"
            ],
            [
             0.1,
             "#c51b7d"
            ],
            [
             0.2,
             "#de77ae"
            ],
            [
             0.3,
             "#f1b6da"
            ],
            [
             0.4,
             "#fde0ef"
            ],
            [
             0.5,
             "#f7f7f7"
            ],
            [
             0.6,
             "#e6f5d0"
            ],
            [
             0.7,
             "#b8e186"
            ],
            [
             0.8,
             "#7fbc41"
            ],
            [
             0.9,
             "#4d9221"
            ],
            [
             1,
             "#276419"
            ]
           ],
           "sequential": [
            [
             0,
             "#0d0887"
            ],
            [
             0.1111111111111111,
             "#46039f"
            ],
            [
             0.2222222222222222,
             "#7201a8"
            ],
            [
             0.3333333333333333,
             "#9c179e"
            ],
            [
             0.4444444444444444,
             "#bd3786"
            ],
            [
             0.5555555555555556,
             "#d8576b"
            ],
            [
             0.6666666666666666,
             "#ed7953"
            ],
            [
             0.7777777777777778,
             "#fb9f3a"
            ],
            [
             0.8888888888888888,
             "#fdca26"
            ],
            [
             1,
             "#f0f921"
            ]
           ],
           "sequentialminus": [
            [
             0,
             "#0d0887"
            ],
            [
             0.1111111111111111,
             "#46039f"
            ],
            [
             0.2222222222222222,
             "#7201a8"
            ],
            [
             0.3333333333333333,
             "#9c179e"
            ],
            [
             0.4444444444444444,
             "#bd3786"
            ],
            [
             0.5555555555555556,
             "#d8576b"
            ],
            [
             0.6666666666666666,
             "#ed7953"
            ],
            [
             0.7777777777777778,
             "#fb9f3a"
            ],
            [
             0.8888888888888888,
             "#fdca26"
            ],
            [
             1,
             "#f0f921"
            ]
           ]
          },
          "colorway": [
           "#636efa",
           "#EF553B",
           "#00cc96",
           "#ab63fa",
           "#FFA15A",
           "#19d3f3",
           "#FF6692",
           "#B6E880",
           "#FF97FF",
           "#FECB52"
          ],
          "font": {
           "color": "#2a3f5f"
          },
          "geo": {
           "bgcolor": "white",
           "lakecolor": "white",
           "landcolor": "#E5ECF6",
           "showlakes": true,
           "showland": true,
           "subunitcolor": "white"
          },
          "hoverlabel": {
           "align": "left"
          },
          "hovermode": "closest",
          "mapbox": {
           "style": "light"
          },
          "paper_bgcolor": "white",
          "plot_bgcolor": "#E5ECF6",
          "polar": {
           "angularaxis": {
            "gridcolor": "white",
            "linecolor": "white",
            "ticks": ""
           },
           "bgcolor": "#E5ECF6",
           "radialaxis": {
            "gridcolor": "white",
            "linecolor": "white",
            "ticks": ""
           }
          },
          "scene": {
           "xaxis": {
            "backgroundcolor": "#E5ECF6",
            "gridcolor": "white",
            "gridwidth": 2,
            "linecolor": "white",
            "showbackground": true,
            "ticks": "",
            "zerolinecolor": "white"
           },
           "yaxis": {
            "backgroundcolor": "#E5ECF6",
            "gridcolor": "white",
            "gridwidth": 2,
            "linecolor": "white",
            "showbackground": true,
            "ticks": "",
            "zerolinecolor": "white"
           },
           "zaxis": {
            "backgroundcolor": "#E5ECF6",
            "gridcolor": "white",
            "gridwidth": 2,
            "linecolor": "white",
            "showbackground": true,
            "ticks": "",
            "zerolinecolor": "white"
           }
          },
          "shapedefaults": {
           "line": {
            "color": "#2a3f5f"
           }
          },
          "ternary": {
           "aaxis": {
            "gridcolor": "white",
            "linecolor": "white",
            "ticks": ""
           },
           "baxis": {
            "gridcolor": "white",
            "linecolor": "white",
            "ticks": ""
           },
           "bgcolor": "#E5ECF6",
           "caxis": {
            "gridcolor": "white",
            "linecolor": "white",
            "ticks": ""
           }
          },
          "title": {
           "x": 0.05
          },
          "xaxis": {
           "automargin": true,
           "gridcolor": "white",
           "linecolor": "white",
           "ticks": "",
           "zerolinecolor": "white",
           "zerolinewidth": 2
          },
          "yaxis": {
           "automargin": true,
           "gridcolor": "white",
           "linecolor": "white",
           "ticks": "",
           "zerolinecolor": "white",
           "zerolinewidth": 2
          }
         }
        }
       }
      },
      "text/html": [
       "<div>\n",
       "        \n",
       "        \n",
       "            <div id=\"38343399-3550-4c76-b980-502027328736\" class=\"plotly-graph-div\" style=\"height:600px; width:100%;\"></div>\n",
       "            <script type=\"text/javascript\">\n",
       "                require([\"plotly\"], function(Plotly) {\n",
       "                    window.PLOTLYENV=window.PLOTLYENV || {};\n",
       "                    \n",
       "                if (document.getElementById(\"38343399-3550-4c76-b980-502027328736\")) {\n",
       "                    Plotly.newPlot(\n",
       "                        '38343399-3550-4c76-b980-502027328736',\n",
       "                        [{\"dimensions\": [{\"label\": \"BB10\", \"values\": [0.3066823000071348, -0.9249707840788235, 0.3518915715190556, 0.3322635210407443, 0.3920157143920573, 0.9817417557268229, 0.38404518351359274, -1.0, -0.8146228229083732, 1.0, 0.7385416535193952, 0.6429663748380146, 0.5574155636051916, -0.2609800218993834, -0.5642836554919362, 0.573832631111145, -0.48555874824523926, 0.38098159432411194, -0.830603837966919, 0.48992782831192017, -0.16957318782806396, -0.41796714067459106, 0.4951123893260956, 0.6443046927452087, -0.2541256248950958, -0.6122845411300659, 0.5824344158172607, 0.6011677384376526, 0.5717822313308716, -0.4101744592189789]}, {\"label\": \"BB9\", \"values\": [0.3229188241081138, -0.886249439065224, 0.28013891765477483, 0.3727767565888256, 0.43831227670480977, 1.0, 0.3614577400369354, -1.0, -0.8012047153040266, 0.9775755535994757, 0.7702875006472323, 0.7010740822244093, 0.521714648164449, -0.19154142719066625, -0.5317931358842927, 0.3887151777744293, -0.30448976159095764, 0.5301260948181152, -0.9451903104782104, 0.43540051579475403, -0.026135824620723724, -0.4539337158203125, 0.7143961191177368, 0.9440102577209473, -0.46624186635017395, -0.7477352619171143, 0.6629079580307007, 0.5161392092704773, 0.8726851344108582, -0.545990526676178]}, {\"label\": \"BB19\", \"values\": [0.2527053726119477, -1.0, 0.20985215420595993, 0.43501551148099926, 0.5106459119720377, 0.7445656170627855, 0.2852523244869052, -0.9149864890630589, -0.7360564873173328, 1.0, 0.7223919890616062, 0.587298266366518, 0.5288895326393794, -0.1384803420282118, -0.5442219705336625, 0.3407854437828064, -0.47668373584747314, 0.5154120326042175, -0.8807787299156189, 0.07533198595046997, 0.13480068743228912, -0.48248037695884705, 0.46367576718330383, 0.921755313873291, -0.5279830098152161, -0.5595129728317261, 0.16447214782238007, 0.5536537170410156, 0.6775323152542114, -0.3433552086353302]}, {\"label\": \"BB20\", \"values\": [0.050681536961544316, -0.9994049758078156, 0.1289131625442106, 0.32020547544072686, 0.37293398932798305, 0.6856013984474087, 0.23555367938128624, -0.8709753289851276, -1.0, 1.0, 0.6401612281299323, 0.5281861085745794, 0.41430175785139034, -0.2983441929152768, -0.6674302029594721, 0.3224445879459381, -0.5036080479621887, 0.28879350423812866, -0.940988302230835, 0.23002013564109802, -0.060388244688510895, -0.46855348348617554, 0.37348535656929016, 0.7757635116577148, -0.5628888010978699, -0.5851157307624817, 0.23452641069889069, 0.37910374999046326, 0.37036892771720886, -0.44869229197502136]}, {\"label\": \"BB18\", \"values\": [-0.020661257940210676, -0.5147383939887045, 0.3764546877771524, 0.07583785131657761, 0.5034935642838967, 0.298520440821489, 0.5961687759157441, -1.0, -0.38963588782548075, 1.0, 0.4798548075711886, 0.36648877509312383, 0.4751273132973952, -0.44142302976084824, -0.24272045573147616, 0.2843991219997406, -0.2385779619216919, 0.2220514416694641, -0.7358461618423462, 0.08827191591262817, 0.07229933142662048, -0.34212183952331543, 0.25038543343544006, 0.6565681099891663, -0.513954758644104, -0.4213699400424957, 0.0978689193725586, 0.36897313594818115, 0.5985680818557739, -0.3683445453643799]}, {\"label\": \"BB12\", \"values\": [-0.10470648814556094, -0.3469786343966913, 0.6160641277266701, -0.11824162609288003, 0.8215474790592354, -0.08646241003493549, 0.8218715718393224, -1.0, -0.12088660697247156, 1.0, 0.10714571275358464, 0.030255766772600223, 0.46501557031267593, -0.4717245040794117, 0.12492497358750376, 0.10079069435596466, -0.18395927548408508, 0.2352808266878128, -0.5305739641189575, -0.14394190907478333, 0.16086894273757935, -0.37945756316185, 0.23864750564098358, 0.6380279660224915, -0.6137144565582275, -0.2240467667579651, -0.142524853348732, 0.2635306119918823, 0.4372120797634125, -0.17684605717658997]}, {\"label\": \"BB17\", \"values\": [0.23324877305416036, -0.9213553581990703, 0.3468069275792731, 0.2508279553375068, 0.35372725822618967, 0.9001459628840855, 0.40601977315593607, -1.0, -0.8354182615224179, 1.0, 0.8303269446388297, 0.7080847676235908, 0.583515865956892, -0.07562529408033791, -0.7228795503829021, 0.25358834862709045, -0.3548182249069214, 0.6100199818611145, -0.9612179398536682, 0.17702347040176392, -0.01656295172870159, -0.281228631734848, 0.629711389541626, 0.9467262625694275, -0.46896517276763916, -0.5669189095497131, 0.5193598866462708, 0.5232043862342834, 0.8330762386322021, -0.4078468680381775]}, {\"label\": \"BB11\", \"values\": [-0.23938805846223687, -0.8695148037501175, 0.2298599505114749, 0.047408895463810774, 0.3648391106022326, 0.23721312211595635, 0.3605376990582063, -1.0, -0.745359279647642, 1.0, 0.5027175396727193, 0.3776981148290157, 0.4447508983889257, -0.4922719006430146, -0.4714962831914443, 0.10852199792861938, -0.4251166582107544, 0.21768367290496826, -0.826461911201477, -0.1082991287112236, -0.1430109739303589, -0.4486771523952484, 0.242117777466774, 0.7859070301055908, -0.6339125633239746, -0.5978883504867554, -0.11121580749750137, 0.3166141211986542, 0.5327582955360413, -0.46403053402900696]}], \"domain\": {\"x\": [0.0, 0.98], \"y\": [0.0, 1.0]}, \"line\": {\"color\": [1, 1, 1, 1, 1, 1, 1, 1, 1, 1, 1, 1, 1, 1, 1, 2, 2, 2, 2, 2, 2, 2, 2, 2, 2, 2, 2, 2, 2, 2], \"coloraxis\": \"coloraxis\"}, \"name\": \"\", \"type\": \"parcoords\"}],\n",
       "                        {\"coloraxis\": {\"colorbar\": {\"title\": {\"text\": \"cor\"}}, \"colorscale\": [[0.0, \"rgb(0, 147, 146)\"], [0.16666666666666666, \"rgb(114, 170, 161)\"], [0.3333333333333333, \"rgb(177, 199, 179)\"], [0.5, \"rgb(241, 234, 200)\"], [0.6666666666666666, \"rgb(229, 185, 173)\"], [0.8333333333333334, \"rgb(217, 137, 148)\"], [1.0, \"rgb(208, 88, 126)\"]]}, \"height\": 600, \"legend\": {\"tracegroupgap\": 0}, \"margin\": {\"t\": 60}, \"template\": {\"data\": {\"bar\": [{\"error_x\": {\"color\": \"#2a3f5f\"}, \"error_y\": {\"color\": \"#2a3f5f\"}, \"marker\": {\"line\": {\"color\": \"#E5ECF6\", \"width\": 0.5}}, \"type\": \"bar\"}], \"barpolar\": [{\"marker\": {\"line\": {\"color\": \"#E5ECF6\", \"width\": 0.5}}, \"type\": \"barpolar\"}], \"carpet\": [{\"aaxis\": {\"endlinecolor\": \"#2a3f5f\", \"gridcolor\": \"white\", \"linecolor\": \"white\", \"minorgridcolor\": \"white\", \"startlinecolor\": \"#2a3f5f\"}, \"baxis\": {\"endlinecolor\": \"#2a3f5f\", \"gridcolor\": \"white\", \"linecolor\": \"white\", \"minorgridcolor\": \"white\", \"startlinecolor\": \"#2a3f5f\"}, \"type\": \"carpet\"}], \"choropleth\": [{\"colorbar\": {\"outlinewidth\": 0, \"ticks\": \"\"}, \"type\": \"choropleth\"}], \"contour\": [{\"colorbar\": {\"outlinewidth\": 0, \"ticks\": \"\"}, \"colorscale\": [[0.0, \"#0d0887\"], [0.1111111111111111, \"#46039f\"], [0.2222222222222222, \"#7201a8\"], [0.3333333333333333, \"#9c179e\"], [0.4444444444444444, \"#bd3786\"], [0.5555555555555556, \"#d8576b\"], [0.6666666666666666, \"#ed7953\"], [0.7777777777777778, \"#fb9f3a\"], [0.8888888888888888, \"#fdca26\"], [1.0, \"#f0f921\"]], \"type\": \"contour\"}], \"contourcarpet\": [{\"colorbar\": {\"outlinewidth\": 0, \"ticks\": \"\"}, \"type\": \"contourcarpet\"}], \"heatmap\": [{\"colorbar\": {\"outlinewidth\": 0, \"ticks\": \"\"}, \"colorscale\": [[0.0, \"#0d0887\"], [0.1111111111111111, \"#46039f\"], [0.2222222222222222, \"#7201a8\"], [0.3333333333333333, \"#9c179e\"], [0.4444444444444444, \"#bd3786\"], [0.5555555555555556, \"#d8576b\"], [0.6666666666666666, \"#ed7953\"], [0.7777777777777778, \"#fb9f3a\"], [0.8888888888888888, \"#fdca26\"], [1.0, \"#f0f921\"]], \"type\": \"heatmap\"}], \"heatmapgl\": [{\"colorbar\": {\"outlinewidth\": 0, \"ticks\": \"\"}, \"colorscale\": [[0.0, \"#0d0887\"], [0.1111111111111111, \"#46039f\"], [0.2222222222222222, \"#7201a8\"], [0.3333333333333333, \"#9c179e\"], [0.4444444444444444, \"#bd3786\"], [0.5555555555555556, \"#d8576b\"], [0.6666666666666666, \"#ed7953\"], [0.7777777777777778, \"#fb9f3a\"], [0.8888888888888888, \"#fdca26\"], [1.0, \"#f0f921\"]], \"type\": \"heatmapgl\"}], \"histogram\": [{\"marker\": {\"colorbar\": {\"outlinewidth\": 0, \"ticks\": \"\"}}, \"type\": \"histogram\"}], \"histogram2d\": [{\"colorbar\": {\"outlinewidth\": 0, \"ticks\": \"\"}, \"colorscale\": [[0.0, \"#0d0887\"], [0.1111111111111111, \"#46039f\"], [0.2222222222222222, \"#7201a8\"], [0.3333333333333333, \"#9c179e\"], [0.4444444444444444, \"#bd3786\"], [0.5555555555555556, \"#d8576b\"], [0.6666666666666666, \"#ed7953\"], [0.7777777777777778, \"#fb9f3a\"], [0.8888888888888888, \"#fdca26\"], [1.0, \"#f0f921\"]], \"type\": \"histogram2d\"}], \"histogram2dcontour\": [{\"colorbar\": {\"outlinewidth\": 0, \"ticks\": \"\"}, \"colorscale\": [[0.0, \"#0d0887\"], [0.1111111111111111, \"#46039f\"], [0.2222222222222222, \"#7201a8\"], [0.3333333333333333, \"#9c179e\"], [0.4444444444444444, \"#bd3786\"], [0.5555555555555556, \"#d8576b\"], [0.6666666666666666, \"#ed7953\"], [0.7777777777777778, \"#fb9f3a\"], [0.8888888888888888, \"#fdca26\"], [1.0, \"#f0f921\"]], \"type\": \"histogram2dcontour\"}], \"mesh3d\": [{\"colorbar\": {\"outlinewidth\": 0, \"ticks\": \"\"}, \"type\": \"mesh3d\"}], \"parcoords\": [{\"line\": {\"colorbar\": {\"outlinewidth\": 0, \"ticks\": \"\"}}, \"type\": \"parcoords\"}], \"scatter\": [{\"marker\": {\"colorbar\": {\"outlinewidth\": 0, \"ticks\": \"\"}}, \"type\": \"scatter\"}], \"scatter3d\": [{\"line\": {\"colorbar\": {\"outlinewidth\": 0, \"ticks\": \"\"}}, \"marker\": {\"colorbar\": {\"outlinewidth\": 0, \"ticks\": \"\"}}, \"type\": \"scatter3d\"}], \"scattercarpet\": [{\"marker\": {\"colorbar\": {\"outlinewidth\": 0, \"ticks\": \"\"}}, \"type\": \"scattercarpet\"}], \"scattergeo\": [{\"marker\": {\"colorbar\": {\"outlinewidth\": 0, \"ticks\": \"\"}}, \"type\": \"scattergeo\"}], \"scattergl\": [{\"marker\": {\"colorbar\": {\"outlinewidth\": 0, \"ticks\": \"\"}}, \"type\": \"scattergl\"}], \"scattermapbox\": [{\"marker\": {\"colorbar\": {\"outlinewidth\": 0, \"ticks\": \"\"}}, \"type\": \"scattermapbox\"}], \"scatterpolar\": [{\"marker\": {\"colorbar\": {\"outlinewidth\": 0, \"ticks\": \"\"}}, \"type\": \"scatterpolar\"}], \"scatterpolargl\": [{\"marker\": {\"colorbar\": {\"outlinewidth\": 0, \"ticks\": \"\"}}, \"type\": \"scatterpolargl\"}], \"scatterternary\": [{\"marker\": {\"colorbar\": {\"outlinewidth\": 0, \"ticks\": \"\"}}, \"type\": \"scatterternary\"}], \"surface\": [{\"colorbar\": {\"outlinewidth\": 0, \"ticks\": \"\"}, \"colorscale\": [[0.0, \"#0d0887\"], [0.1111111111111111, \"#46039f\"], [0.2222222222222222, \"#7201a8\"], [0.3333333333333333, \"#9c179e\"], [0.4444444444444444, \"#bd3786\"], [0.5555555555555556, \"#d8576b\"], [0.6666666666666666, \"#ed7953\"], [0.7777777777777778, \"#fb9f3a\"], [0.8888888888888888, \"#fdca26\"], [1.0, \"#f0f921\"]], \"type\": \"surface\"}], \"table\": [{\"cells\": {\"fill\": {\"color\": \"#EBF0F8\"}, \"line\": {\"color\": \"white\"}}, \"header\": {\"fill\": {\"color\": \"#C8D4E3\"}, \"line\": {\"color\": \"white\"}}, \"type\": \"table\"}]}, \"layout\": {\"annotationdefaults\": {\"arrowcolor\": \"#2a3f5f\", \"arrowhead\": 0, \"arrowwidth\": 1}, \"colorscale\": {\"diverging\": [[0, \"#8e0152\"], [0.1, \"#c51b7d\"], [0.2, \"#de77ae\"], [0.3, \"#f1b6da\"], [0.4, \"#fde0ef\"], [0.5, \"#f7f7f7\"], [0.6, \"#e6f5d0\"], [0.7, \"#b8e186\"], [0.8, \"#7fbc41\"], [0.9, \"#4d9221\"], [1, \"#276419\"]], \"sequential\": [[0.0, \"#0d0887\"], [0.1111111111111111, \"#46039f\"], [0.2222222222222222, \"#7201a8\"], [0.3333333333333333, \"#9c179e\"], [0.4444444444444444, \"#bd3786\"], [0.5555555555555556, \"#d8576b\"], [0.6666666666666666, \"#ed7953\"], [0.7777777777777778, \"#fb9f3a\"], [0.8888888888888888, \"#fdca26\"], [1.0, \"#f0f921\"]], \"sequentialminus\": [[0.0, \"#0d0887\"], [0.1111111111111111, \"#46039f\"], [0.2222222222222222, \"#7201a8\"], [0.3333333333333333, \"#9c179e\"], [0.4444444444444444, \"#bd3786\"], [0.5555555555555556, \"#d8576b\"], [0.6666666666666666, \"#ed7953\"], [0.7777777777777778, \"#fb9f3a\"], [0.8888888888888888, \"#fdca26\"], [1.0, \"#f0f921\"]]}, \"colorway\": [\"#636efa\", \"#EF553B\", \"#00cc96\", \"#ab63fa\", \"#FFA15A\", \"#19d3f3\", \"#FF6692\", \"#B6E880\", \"#FF97FF\", \"#FECB52\"], \"font\": {\"color\": \"#2a3f5f\"}, \"geo\": {\"bgcolor\": \"white\", \"lakecolor\": \"white\", \"landcolor\": \"#E5ECF6\", \"showlakes\": true, \"showland\": true, \"subunitcolor\": \"white\"}, \"hoverlabel\": {\"align\": \"left\"}, \"hovermode\": \"closest\", \"mapbox\": {\"style\": \"light\"}, \"paper_bgcolor\": \"white\", \"plot_bgcolor\": \"#E5ECF6\", \"polar\": {\"angularaxis\": {\"gridcolor\": \"white\", \"linecolor\": \"white\", \"ticks\": \"\"}, \"bgcolor\": \"#E5ECF6\", \"radialaxis\": {\"gridcolor\": \"white\", \"linecolor\": \"white\", \"ticks\": \"\"}}, \"scene\": {\"xaxis\": {\"backgroundcolor\": \"#E5ECF6\", \"gridcolor\": \"white\", \"gridwidth\": 2, \"linecolor\": \"white\", \"showbackground\": true, \"ticks\": \"\", \"zerolinecolor\": \"white\"}, \"yaxis\": {\"backgroundcolor\": \"#E5ECF6\", \"gridcolor\": \"white\", \"gridwidth\": 2, \"linecolor\": \"white\", \"showbackground\": true, \"ticks\": \"\", \"zerolinecolor\": \"white\"}, \"zaxis\": {\"backgroundcolor\": \"#E5ECF6\", \"gridcolor\": \"white\", \"gridwidth\": 2, \"linecolor\": \"white\", \"showbackground\": true, \"ticks\": \"\", \"zerolinecolor\": \"white\"}}, \"shapedefaults\": {\"line\": {\"color\": \"#2a3f5f\"}}, \"ternary\": {\"aaxis\": {\"gridcolor\": \"white\", \"linecolor\": \"white\", \"ticks\": \"\"}, \"baxis\": {\"gridcolor\": \"white\", \"linecolor\": \"white\", \"ticks\": \"\"}, \"bgcolor\": \"#E5ECF6\", \"caxis\": {\"gridcolor\": \"white\", \"linecolor\": \"white\", \"ticks\": \"\"}}, \"title\": {\"x\": 0.05}, \"xaxis\": {\"automargin\": true, \"gridcolor\": \"white\", \"linecolor\": \"white\", \"ticks\": \"\", \"zerolinecolor\": \"white\", \"zerolinewidth\": 2}, \"yaxis\": {\"automargin\": true, \"gridcolor\": \"white\", \"linecolor\": \"white\", \"ticks\": \"\", \"zerolinecolor\": \"white\", \"zerolinewidth\": 2}}}},\n",
       "                        {\"responsive\": true}\n",
       "                    ).then(function(){\n",
       "                            \n",
       "var gd = document.getElementById('38343399-3550-4c76-b980-502027328736');\n",
       "var x = new MutationObserver(function (mutations, observer) {{\n",
       "        var display = window.getComputedStyle(gd).display;\n",
       "        if (!display || display === 'none') {{\n",
       "            console.log([gd, 'removed!']);\n",
       "            Plotly.purge(gd);\n",
       "            observer.disconnect();\n",
       "        }}\n",
       "}});\n",
       "\n",
       "// Listen for the removal of the full notebook cells\n",
       "var notebookContainer = gd.closest('#notebook-container');\n",
       "if (notebookContainer) {{\n",
       "    x.observe(notebookContainer, {childList: true});\n",
       "}}\n",
       "\n",
       "// Listen for the clearing of the current output cell\n",
       "var outputEl = gd.closest('.output');\n",
       "if (outputEl) {{\n",
       "    x.observe(outputEl, {childList: true});\n",
       "}}\n",
       "\n",
       "                        })\n",
       "                };\n",
       "                });\n",
       "            </script>\n",
       "        </div>"
      ]
     },
     "metadata": {},
     "output_type": "display_data"
    }
   ],
   "source": [
    "import plotly.express as px\n",
    "\n",
    "real = X_train.copy()\n",
    "real[\"cor\"] = 1\n",
    "fake = pd.DataFrame(data_fake, columns=X_train.columns).copy()\n",
    "fake[\"cor\"] = 2\n",
    "data = pd.concat([real,fake])\n",
    "\n",
    "fig = px.parallel_coordinates(data, color=\"cor\", dimensions={\"BB9\",\"BB10\",\"BB17\",\"BB19\",\"BB20\",\"BB11\",\n",
    "                                                             \"BB12\",\"BB18\"},\n",
    "                             color_continuous_scale=px.colors.diverging.Tealrose,)\n",
    "fig.show()"
   ]
  },
  {
   "cell_type": "code",
   "execution_count": 126,
   "metadata": {},
   "outputs": [
    {
     "name": "stdout",
     "output_type": "stream",
     "text": [
      "(15, 2) (500, 2)\n",
      "Distribuición original de cada caracteristica vs red Generadora entrenada\n"
     ]
    },
    {
     "data": {
      "image/png": "[encoded data removed]",
      "text/plain": [
       "<Figure size 1080x648 with 9 Axes>"
      ]
     },
     "metadata": {
      "needs_background": "light"
     },
     "output_type": "display_data"
    }
   ],
   "source": [
    "noise = np.random.normal(0, 1, size=(500,noise_input))\n",
    "data_fake = G.predict(noise)\n",
    "X_fake_pca = pca_real.transform(data_fake)\n",
    "print(X_train_pca.shape, X_fake_pca.shape)\n",
    "\n",
    "plt.figure(figsize=(15,9))\n",
    "print(\"Distribuición original de cada caracteristica vs red Generadora entrenada\")\n",
    "for col in range(X_train.shape[1]):\n",
    "    aux_real = X_train.iloc[:,col]\n",
    "    aux_fake = data_fake[:,col]\n",
    "    plt.subplot(3,3,col+1)\n",
    "    plt.hist(aux_real, bins=10, label=\"real\")\n",
    "    plt.hist(aux_fake, bins=20, label=\"fake\", alpha=0.3)\n",
    "    #plt.yscale(\"log\")\n",
    "    plt.legend()"
   ]
  },
  {
   "cell_type": "code",
   "execution_count": null,
   "metadata": {},
   "outputs": [],
   "source": []
  },
  {
   "cell_type": "code",
   "execution_count": 173,
   "metadata": {},
   "outputs": [
    {
     "data": {
      "text/plain": [
       "array(['adk', 'cysG', 'dnaG', 'ftsZ', 'gmk', 'gyrA', 'gyrB', 'hcaT',\n",
       "       'idnT', 'rho', 'rpoB', 'rpoC', 'rpoD', 'secA', 'recF'],\n",
       "      dtype=object)"
      ]
     },
     "execution_count": 173,
     "metadata": {},
     "output_type": "execute_result"
    }
   ],
   "source": [
    "hkg_index = X_train.index.values\n",
    "hkg_index"
   ]
  },
  {
   "cell_type": "code",
   "execution_count": 174,
   "metadata": {},
   "outputs": [
    {
     "data": {
      "text/html": [
       "<div>\n",
       "<style scoped>\n",
       "    .dataframe tbody tr th:only-of-type {\n",
       "        vertical-align: middle;\n",
       "    }\n",
       "\n",
       "    .dataframe tbody tr th {\n",
       "        vertical-align: top;\n",
       "    }\n",
       "\n",
       "    .dataframe thead th {\n",
       "        text-align: right;\n",
       "    }\n",
       "</style>\n",
       "<table border=\"1\" class=\"dataframe\">\n",
       "  <thead>\n",
       "    <tr style=\"text-align: right;\">\n",
       "      <th></th>\n",
       "      <th>BB9</th>\n",
       "      <th>BB10</th>\n",
       "      <th>BB17</th>\n",
       "      <th>BB19</th>\n",
       "      <th>BB20</th>\n",
       "      <th>BB21</th>\n",
       "      <th>BB11</th>\n",
       "      <th>BB12</th>\n",
       "      <th>BB18</th>\n",
       "    </tr>\n",
       "    <tr>\n",
       "      <th>Genes</th>\n",
       "      <th></th>\n",
       "      <th></th>\n",
       "      <th></th>\n",
       "      <th></th>\n",
       "      <th></th>\n",
       "      <th></th>\n",
       "      <th></th>\n",
       "      <th></th>\n",
       "      <th></th>\n",
       "    </tr>\n",
       "  </thead>\n",
       "  <tbody>\n",
       "    <tr>\n",
       "      <td>accD</td>\n",
       "      <td>0.045137</td>\n",
       "      <td>0.120125</td>\n",
       "      <td>0.188530</td>\n",
       "      <td>0.110790</td>\n",
       "      <td>-0.053590</td>\n",
       "      <td>-0.065493</td>\n",
       "      <td>-0.075443</td>\n",
       "      <td>-0.072632</td>\n",
       "      <td>-0.111987</td>\n",
       "    </tr>\n",
       "    <tr>\n",
       "      <td>aceF</td>\n",
       "      <td>0.298789</td>\n",
       "      <td>0.286341</td>\n",
       "      <td>0.387846</td>\n",
       "      <td>0.183747</td>\n",
       "      <td>0.116566</td>\n",
       "      <td>-0.111405</td>\n",
       "      <td>0.212370</td>\n",
       "      <td>0.007078</td>\n",
       "      <td>0.282773</td>\n",
       "    </tr>\n",
       "    <tr>\n",
       "      <td>ackA</td>\n",
       "      <td>0.150596</td>\n",
       "      <td>0.176658</td>\n",
       "      <td>0.312647</td>\n",
       "      <td>0.072355</td>\n",
       "      <td>0.036886</td>\n",
       "      <td>-0.101920</td>\n",
       "      <td>-0.062076</td>\n",
       "      <td>-0.167175</td>\n",
       "      <td>-0.078782</td>\n",
       "    </tr>\n",
       "    <tr>\n",
       "      <td>agaV</td>\n",
       "      <td>-0.199513</td>\n",
       "      <td>-0.091164</td>\n",
       "      <td>-0.288427</td>\n",
       "      <td>-0.212252</td>\n",
       "      <td>-0.187829</td>\n",
       "      <td>-0.186418</td>\n",
       "      <td>-0.041110</td>\n",
       "      <td>0.057578</td>\n",
       "      <td>-0.152908</td>\n",
       "    </tr>\n",
       "    <tr>\n",
       "      <td>alaS</td>\n",
       "      <td>0.322265</td>\n",
       "      <td>0.333734</td>\n",
       "      <td>0.434132</td>\n",
       "      <td>0.221647</td>\n",
       "      <td>0.197958</td>\n",
       "      <td>0.071639</td>\n",
       "      <td>0.139663</td>\n",
       "      <td>0.058450</td>\n",
       "      <td>0.137013</td>\n",
       "    </tr>\n",
       "    <tr>\n",
       "      <td>...</td>\n",
       "      <td>...</td>\n",
       "      <td>...</td>\n",
       "      <td>...</td>\n",
       "      <td>...</td>\n",
       "      <td>...</td>\n",
       "      <td>...</td>\n",
       "      <td>...</td>\n",
       "      <td>...</td>\n",
       "      <td>...</td>\n",
       "    </tr>\n",
       "    <tr>\n",
       "      <td>znuC</td>\n",
       "      <td>-0.214879</td>\n",
       "      <td>-0.169396</td>\n",
       "      <td>-0.140529</td>\n",
       "      <td>-0.104167</td>\n",
       "      <td>-0.139650</td>\n",
       "      <td>-0.240036</td>\n",
       "      <td>-0.230384</td>\n",
       "      <td>-0.163196</td>\n",
       "      <td>-0.278886</td>\n",
       "    </tr>\n",
       "    <tr>\n",
       "      <td>zraR</td>\n",
       "      <td>-0.454108</td>\n",
       "      <td>-0.510324</td>\n",
       "      <td>-0.389783</td>\n",
       "      <td>-0.375362</td>\n",
       "      <td>-0.366501</td>\n",
       "      <td>-0.442698</td>\n",
       "      <td>-0.324014</td>\n",
       "      <td>-0.252714</td>\n",
       "      <td>-0.383418</td>\n",
       "    </tr>\n",
       "    <tr>\n",
       "      <td>zraS</td>\n",
       "      <td>-0.368588</td>\n",
       "      <td>-0.436017</td>\n",
       "      <td>-0.286780</td>\n",
       "      <td>-0.243076</td>\n",
       "      <td>-0.368600</td>\n",
       "      <td>-0.425818</td>\n",
       "      <td>-0.155279</td>\n",
       "      <td>-0.210061</td>\n",
       "      <td>-0.332179</td>\n",
       "    </tr>\n",
       "    <tr>\n",
       "      <td>zupT</td>\n",
       "      <td>0.256414</td>\n",
       "      <td>0.291620</td>\n",
       "      <td>0.308734</td>\n",
       "      <td>0.292616</td>\n",
       "      <td>0.272264</td>\n",
       "      <td>0.208778</td>\n",
       "      <td>0.234010</td>\n",
       "      <td>0.216720</td>\n",
       "      <td>0.266934</td>\n",
       "    </tr>\n",
       "    <tr>\n",
       "      <td>zur</td>\n",
       "      <td>0.052189</td>\n",
       "      <td>0.062335</td>\n",
       "      <td>0.050895</td>\n",
       "      <td>0.138917</td>\n",
       "      <td>0.125499</td>\n",
       "      <td>-0.048364</td>\n",
       "      <td>0.026280</td>\n",
       "      <td>0.033462</td>\n",
       "      <td>-0.026651</td>\n",
       "    </tr>\n",
       "  </tbody>\n",
       "</table>\n",
       "<p>4042 rows × 9 columns</p>\n",
       "</div>"
      ],
      "text/plain": [
       "            BB9      BB10      BB17      BB19      BB20      BB21      BB11  \\\n",
       "Genes                                                                         \n",
       "accD   0.045137  0.120125  0.188530  0.110790 -0.053590 -0.065493 -0.075443   \n",
       "aceF   0.298789  0.286341  0.387846  0.183747  0.116566 -0.111405  0.212370   \n",
       "ackA   0.150596  0.176658  0.312647  0.072355  0.036886 -0.101920 -0.062076   \n",
       "agaV  -0.199513 -0.091164 -0.288427 -0.212252 -0.187829 -0.186418 -0.041110   \n",
       "alaS   0.322265  0.333734  0.434132  0.221647  0.197958  0.071639  0.139663   \n",
       "...         ...       ...       ...       ...       ...       ...       ...   \n",
       "znuC  -0.214879 -0.169396 -0.140529 -0.104167 -0.139650 -0.240036 -0.230384   \n",
       "zraR  -0.454108 -0.510324 -0.389783 -0.375362 -0.366501 -0.442698 -0.324014   \n",
       "zraS  -0.368588 -0.436017 -0.286780 -0.243076 -0.368600 -0.425818 -0.155279   \n",
       "zupT   0.256414  0.291620  0.308734  0.292616  0.272264  0.208778  0.234010   \n",
       "zur    0.052189  0.062335  0.050895  0.138917  0.125499 -0.048364  0.026280   \n",
       "\n",
       "           BB12      BB18  \n",
       "Genes                      \n",
       "accD  -0.072632 -0.111987  \n",
       "aceF   0.007078  0.282773  \n",
       "ackA  -0.167175 -0.078782  \n",
       "agaV   0.057578 -0.152908  \n",
       "alaS   0.058450  0.137013  \n",
       "...         ...       ...  \n",
       "znuC  -0.163196 -0.278886  \n",
       "zraR  -0.252714 -0.383418  \n",
       "zraS  -0.210061 -0.332179  \n",
       "zupT   0.216720  0.266934  \n",
       "zur    0.033462 -0.026651  \n",
       "\n",
       "[4042 rows x 9 columns]"
      ]
     },
     "execution_count": 174,
     "metadata": {},
     "output_type": "execute_result"
    }
   ],
   "source": [
    "no_hkg = datos.loc[[i for i in datos.index.values if i not in hkg_index]]\n",
    "no_hkg"
   ]
  },
  {
   "cell_type": "markdown",
   "metadata": {},
   "source": [
    "### Classificaçao dos genes"
   ]
  },
  {
   "cell_type": "code",
   "execution_count": 189,
   "metadata": {},
   "outputs": [
    {
     "data": {
      "image/png": "[encoded data removed]",
      "text/plain": [
       "<Figure size 432x288 with 1 Axes>"
      ]
     },
     "metadata": {
      "needs_background": "light"
     },
     "output_type": "display_data"
    }
   ],
   "source": [
    "fig3 = plt.figure()\n",
    "ax3 = fig3.add_subplot()\n",
    "ax3.spines[\"top\"].set_visible(False)\n",
    "ax3.spines[\"right\"].set_visible(False)\n",
    "no_hkg_pca = pca_real.transform(no_hkg)\n",
    "plt.title(\"2-PCA entre dados reais e fakes\", fontsize=14)\n",
    "plt.xlabel(\"componente principal um\", fontsize=13)\n",
    "plt.ylabel(\"componente principal dois\", fontsize=13)\n",
    "plt.scatter(no_hkg_pca[:,0], no_hkg_pca[:,1], color=\"red\", label=\"fake\", alpha=0.2)\n",
    "#plt.scatter(X_fake_pca[:,0], X_fake_pca[:,1], color=\"blue\", label=\"real\", alpha=.4)\n",
    "plt.scatter(X_train_pca[:,0], X_train_pca[:,1], color=\"green\", label=\"real\", alpha=1)\n",
    "plt.legend(loc=\"lower right\");"
   ]
  },
  {
   "cell_type": "code",
   "execution_count": 191,
   "metadata": {},
   "outputs": [
    {
     "data": {
      "text/html": [
       "<div>\n",
       "<style scoped>\n",
       "    .dataframe tbody tr th:only-of-type {\n",
       "        vertical-align: middle;\n",
       "    }\n",
       "\n",
       "    .dataframe tbody tr th {\n",
       "        vertical-align: top;\n",
       "    }\n",
       "\n",
       "    .dataframe thead th {\n",
       "        text-align: right;\n",
       "    }\n",
       "</style>\n",
       "<table border=\"1\" class=\"dataframe\">\n",
       "  <thead>\n",
       "    <tr style=\"text-align: right;\">\n",
       "      <th></th>\n",
       "      <th>BB9</th>\n",
       "      <th>BB10</th>\n",
       "      <th>BB17</th>\n",
       "      <th>BB19</th>\n",
       "      <th>BB20</th>\n",
       "      <th>BB21</th>\n",
       "      <th>BB11</th>\n",
       "      <th>BB12</th>\n",
       "      <th>BB18</th>\n",
       "    </tr>\n",
       "    <tr>\n",
       "      <th>Genes</th>\n",
       "      <th></th>\n",
       "      <th></th>\n",
       "      <th></th>\n",
       "      <th></th>\n",
       "      <th></th>\n",
       "      <th></th>\n",
       "      <th></th>\n",
       "      <th></th>\n",
       "      <th></th>\n",
       "    </tr>\n",
       "  </thead>\n",
       "  <tbody>\n",
       "    <tr>\n",
       "      <td>adk</td>\n",
       "      <td>0.322919</td>\n",
       "      <td>0.306682</td>\n",
       "      <td>0.233249</td>\n",
       "      <td>0.252705</td>\n",
       "      <td>0.050682</td>\n",
       "      <td>0.140450</td>\n",
       "      <td>-0.239388</td>\n",
       "      <td>-0.104706</td>\n",
       "      <td>-0.020661</td>\n",
       "    </tr>\n",
       "    <tr>\n",
       "      <td>cysG</td>\n",
       "      <td>-0.886249</td>\n",
       "      <td>-0.924971</td>\n",
       "      <td>-0.921355</td>\n",
       "      <td>-1.000000</td>\n",
       "      <td>-0.999405</td>\n",
       "      <td>-0.877015</td>\n",
       "      <td>-0.869515</td>\n",
       "      <td>-0.346979</td>\n",
       "      <td>-0.514738</td>\n",
       "    </tr>\n",
       "    <tr>\n",
       "      <td>dnaG</td>\n",
       "      <td>0.280139</td>\n",
       "      <td>0.351892</td>\n",
       "      <td>0.346807</td>\n",
       "      <td>0.209852</td>\n",
       "      <td>0.128913</td>\n",
       "      <td>0.233587</td>\n",
       "      <td>0.229860</td>\n",
       "      <td>0.616064</td>\n",
       "      <td>0.376455</td>\n",
       "    </tr>\n",
       "    <tr>\n",
       "      <td>ftsZ</td>\n",
       "      <td>0.372777</td>\n",
       "      <td>0.332264</td>\n",
       "      <td>0.250828</td>\n",
       "      <td>0.435016</td>\n",
       "      <td>0.320205</td>\n",
       "      <td>0.264169</td>\n",
       "      <td>0.047409</td>\n",
       "      <td>-0.118242</td>\n",
       "      <td>0.075838</td>\n",
       "    </tr>\n",
       "    <tr>\n",
       "      <td>gmk</td>\n",
       "      <td>0.438312</td>\n",
       "      <td>0.392016</td>\n",
       "      <td>0.353727</td>\n",
       "      <td>0.510646</td>\n",
       "      <td>0.372934</td>\n",
       "      <td>0.429208</td>\n",
       "      <td>0.364839</td>\n",
       "      <td>0.821547</td>\n",
       "      <td>0.503494</td>\n",
       "    </tr>\n",
       "    <tr>\n",
       "      <td>gyrA</td>\n",
       "      <td>1.000000</td>\n",
       "      <td>0.981742</td>\n",
       "      <td>0.900146</td>\n",
       "      <td>0.744566</td>\n",
       "      <td>0.685601</td>\n",
       "      <td>0.627487</td>\n",
       "      <td>0.237213</td>\n",
       "      <td>-0.086462</td>\n",
       "      <td>0.298520</td>\n",
       "    </tr>\n",
       "    <tr>\n",
       "      <td>gyrB</td>\n",
       "      <td>0.361458</td>\n",
       "      <td>0.384045</td>\n",
       "      <td>0.406020</td>\n",
       "      <td>0.285252</td>\n",
       "      <td>0.235554</td>\n",
       "      <td>0.257692</td>\n",
       "      <td>0.360538</td>\n",
       "      <td>0.821872</td>\n",
       "      <td>0.596169</td>\n",
       "    </tr>\n",
       "    <tr>\n",
       "      <td>hcaT</td>\n",
       "      <td>-1.000000</td>\n",
       "      <td>-1.000000</td>\n",
       "      <td>-1.000000</td>\n",
       "      <td>-0.914986</td>\n",
       "      <td>-0.870975</td>\n",
       "      <td>-1.000000</td>\n",
       "      <td>-1.000000</td>\n",
       "      <td>-1.000000</td>\n",
       "      <td>-1.000000</td>\n",
       "    </tr>\n",
       "    <tr>\n",
       "      <td>idnT</td>\n",
       "      <td>-0.801205</td>\n",
       "      <td>-0.814623</td>\n",
       "      <td>-0.835418</td>\n",
       "      <td>-0.736056</td>\n",
       "      <td>-1.000000</td>\n",
       "      <td>-0.714558</td>\n",
       "      <td>-0.745359</td>\n",
       "      <td>-0.120887</td>\n",
       "      <td>-0.389636</td>\n",
       "    </tr>\n",
       "    <tr>\n",
       "      <td>rho</td>\n",
       "      <td>0.977576</td>\n",
       "      <td>1.000000</td>\n",
       "      <td>1.000000</td>\n",
       "      <td>1.000000</td>\n",
       "      <td>1.000000</td>\n",
       "      <td>1.000000</td>\n",
       "      <td>1.000000</td>\n",
       "      <td>1.000000</td>\n",
       "      <td>1.000000</td>\n",
       "    </tr>\n",
       "    <tr>\n",
       "      <td>rpoB</td>\n",
       "      <td>0.770288</td>\n",
       "      <td>0.738542</td>\n",
       "      <td>0.830327</td>\n",
       "      <td>0.722392</td>\n",
       "      <td>0.640161</td>\n",
       "      <td>0.531425</td>\n",
       "      <td>0.502718</td>\n",
       "      <td>0.107146</td>\n",
       "      <td>0.479855</td>\n",
       "    </tr>\n",
       "    <tr>\n",
       "      <td>rpoC</td>\n",
       "      <td>0.701074</td>\n",
       "      <td>0.642966</td>\n",
       "      <td>0.708085</td>\n",
       "      <td>0.587298</td>\n",
       "      <td>0.528186</td>\n",
       "      <td>0.437169</td>\n",
       "      <td>0.377698</td>\n",
       "      <td>0.030256</td>\n",
       "      <td>0.366489</td>\n",
       "    </tr>\n",
       "    <tr>\n",
       "      <td>rpoD</td>\n",
       "      <td>0.521715</td>\n",
       "      <td>0.557416</td>\n",
       "      <td>0.583516</td>\n",
       "      <td>0.528890</td>\n",
       "      <td>0.414302</td>\n",
       "      <td>0.423461</td>\n",
       "      <td>0.444751</td>\n",
       "      <td>0.465016</td>\n",
       "      <td>0.475127</td>\n",
       "    </tr>\n",
       "    <tr>\n",
       "      <td>secA</td>\n",
       "      <td>-0.191541</td>\n",
       "      <td>-0.260980</td>\n",
       "      <td>-0.075625</td>\n",
       "      <td>-0.138480</td>\n",
       "      <td>-0.298344</td>\n",
       "      <td>-0.463570</td>\n",
       "      <td>-0.492272</td>\n",
       "      <td>-0.471725</td>\n",
       "      <td>-0.441423</td>\n",
       "    </tr>\n",
       "    <tr>\n",
       "      <td>recF</td>\n",
       "      <td>-0.531793</td>\n",
       "      <td>-0.564284</td>\n",
       "      <td>-0.722880</td>\n",
       "      <td>-0.544222</td>\n",
       "      <td>-0.667430</td>\n",
       "      <td>-0.736042</td>\n",
       "      <td>-0.471496</td>\n",
       "      <td>0.124925</td>\n",
       "      <td>-0.242720</td>\n",
       "    </tr>\n",
       "  </tbody>\n",
       "</table>\n",
       "</div>"
      ],
      "text/plain": [
       "            BB9      BB10      BB17      BB19      BB20      BB21      BB11  \\\n",
       "Genes                                                                         \n",
       "adk    0.322919  0.306682  0.233249  0.252705  0.050682  0.140450 -0.239388   \n",
       "cysG  -0.886249 -0.924971 -0.921355 -1.000000 -0.999405 -0.877015 -0.869515   \n",
       "dnaG   0.280139  0.351892  0.346807  0.209852  0.128913  0.233587  0.229860   \n",
       "ftsZ   0.372777  0.332264  0.250828  0.435016  0.320205  0.264169  0.047409   \n",
       "gmk    0.438312  0.392016  0.353727  0.510646  0.372934  0.429208  0.364839   \n",
       "gyrA   1.000000  0.981742  0.900146  0.744566  0.685601  0.627487  0.237213   \n",
       "gyrB   0.361458  0.384045  0.406020  0.285252  0.235554  0.257692  0.360538   \n",
       "hcaT  -1.000000 -1.000000 -1.000000 -0.914986 -0.870975 -1.000000 -1.000000   \n",
       "idnT  -0.801205 -0.814623 -0.835418 -0.736056 -1.000000 -0.714558 -0.745359   \n",
       "rho    0.977576  1.000000  1.000000  1.000000  1.000000  1.000000  1.000000   \n",
       "rpoB   0.770288  0.738542  0.830327  0.722392  0.640161  0.531425  0.502718   \n",
       "rpoC   0.701074  0.642966  0.708085  0.587298  0.528186  0.437169  0.377698   \n",
       "rpoD   0.521715  0.557416  0.583516  0.528890  0.414302  0.423461  0.444751   \n",
       "secA  -0.191541 -0.260980 -0.075625 -0.138480 -0.298344 -0.463570 -0.492272   \n",
       "recF  -0.531793 -0.564284 -0.722880 -0.544222 -0.667430 -0.736042 -0.471496   \n",
       "\n",
       "           BB12      BB18  \n",
       "Genes                      \n",
       "adk   -0.104706 -0.020661  \n",
       "cysG  -0.346979 -0.514738  \n",
       "dnaG   0.616064  0.376455  \n",
       "ftsZ  -0.118242  0.075838  \n",
       "gmk    0.821547  0.503494  \n",
       "gyrA  -0.086462  0.298520  \n",
       "gyrB   0.821872  0.596169  \n",
       "hcaT  -1.000000 -1.000000  \n",
       "idnT  -0.120887 -0.389636  \n",
       "rho    1.000000  1.000000  \n",
       "rpoB   0.107146  0.479855  \n",
       "rpoC   0.030256  0.366489  \n",
       "rpoD   0.465016  0.475127  \n",
       "secA  -0.471725 -0.441423  \n",
       "recF   0.124925 -0.242720  "
      ]
     },
     "execution_count": 191,
     "metadata": {},
     "output_type": "execute_result"
    }
   ],
   "source": [
    "X_train"
   ]
  },
  {
   "cell_type": "code",
   "execution_count": 207,
   "metadata": {},
   "outputs": [
    {
     "data": {
      "text/plain": [
       "0.6"
      ]
     },
     "execution_count": 207,
     "metadata": {},
     "output_type": "execute_result"
    }
   ],
   "source": [
    "np.mean(np.ravel(D.predict_classes(X_train)) == np.ones(X_train.shape[0]))"
   ]
  },
  {
   "cell_type": "code",
   "execution_count": null,
   "metadata": {},
   "outputs": [],
   "source": []
  }
 ],
 "metadata": {
  "celltoolbar": "Raw Cell Format",
  "kernelspec": {
   "display_name": "Python 3",
   "language": "python",
   "name": "python3"
  },
  "language_info": {
   "codemirror_mode": {
    "name": "ipython",
    "version": 3
   },
   "file_extension": ".py",
   "mimetype": "text/x-python",
   "name": "python",
   "nbconvert_exporter": "python",
   "pygments_lexer": "ipython3",
   "version": "3.6.8"
  }
 },
 "nbformat": 4,
 "nbformat_minor": 2
}
