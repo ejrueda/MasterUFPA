{
 "cells": [
  {
   "cell_type": "code",
   "execution_count": 1,
   "metadata": {},
   "outputs": [],
   "source": [
    "import numpy as np\n",
    "import pandas as pd\n",
    "from time import time\n",
    "import matplotlib.pyplot as plt\n",
    "from sklearn.decomposition import PCA\n",
    "from tensorflow.keras.models import Sequential\n",
    "from tensorflow.keras.layers import Dense, Dropout, LeakyReLU, Reshape, Flatten\n",
    "from tensorflow.keras.optimizers import Adam, RMSprop, SGD"
   ]
  },
  {
   "cell_type": "code",
   "execution_count": 2,
   "metadata": {},
   "outputs": [
    {
     "name": "stdout",
     "output_type": "stream",
     "text": [
      "Dimensionalidade dos dados:  (4051, 9)\n"
     ]
    },
    {
     "data": {
      "text/html": [
       "<div>\n",
       "<style scoped>\n",
       "    .dataframe tbody tr th:only-of-type {\n",
       "        vertical-align: middle;\n",
       "    }\n",
       "\n",
       "    .dataframe tbody tr th {\n",
       "        vertical-align: top;\n",
       "    }\n",
       "\n",
       "    .dataframe thead th {\n",
       "        text-align: right;\n",
       "    }\n",
       "</style>\n",
       "<table border=\"1\" class=\"dataframe\">\n",
       "  <thead>\n",
       "    <tr style=\"text-align: right;\">\n",
       "      <th></th>\n",
       "      <th>BB9</th>\n",
       "      <th>BB10</th>\n",
       "      <th>BB17</th>\n",
       "      <th>BB19</th>\n",
       "      <th>BB20</th>\n",
       "      <th>BB21</th>\n",
       "      <th>BB11</th>\n",
       "      <th>BB12</th>\n",
       "      <th>BB18</th>\n",
       "    </tr>\n",
       "    <tr>\n",
       "      <th>Genes</th>\n",
       "      <th></th>\n",
       "      <th></th>\n",
       "      <th></th>\n",
       "      <th></th>\n",
       "      <th></th>\n",
       "      <th></th>\n",
       "      <th></th>\n",
       "      <th></th>\n",
       "      <th></th>\n",
       "    </tr>\n",
       "  </thead>\n",
       "  <tbody>\n",
       "    <tr>\n",
       "      <td>accD</td>\n",
       "      <td>6.875411</td>\n",
       "      <td>7.047582</td>\n",
       "      <td>7.431765</td>\n",
       "      <td>7.105877</td>\n",
       "      <td>6.516094</td>\n",
       "      <td>6.676126</td>\n",
       "      <td>6.304694</td>\n",
       "      <td>6.168221</td>\n",
       "      <td>6.245553</td>\n",
       "    </tr>\n",
       "    <tr>\n",
       "      <td>aceF</td>\n",
       "      <td>7.732412</td>\n",
       "      <td>7.674997</td>\n",
       "      <td>8.397717</td>\n",
       "      <td>7.455056</td>\n",
       "      <td>7.277269</td>\n",
       "      <td>6.525536</td>\n",
       "      <td>7.455730</td>\n",
       "      <td>6.403830</td>\n",
       "      <td>7.597941</td>\n",
       "    </tr>\n",
       "    <tr>\n",
       "      <td>ackA</td>\n",
       "      <td>7.231720</td>\n",
       "      <td>7.260976</td>\n",
       "      <td>8.033280</td>\n",
       "      <td>6.921924</td>\n",
       "      <td>6.920829</td>\n",
       "      <td>6.556644</td>\n",
       "      <td>6.358150</td>\n",
       "      <td>5.888768</td>\n",
       "      <td>6.359310</td>\n",
       "    </tr>\n",
       "    <tr>\n",
       "      <td>agaV</td>\n",
       "      <td>6.048825</td>\n",
       "      <td>6.250033</td>\n",
       "      <td>5.120269</td>\n",
       "      <td>5.559767</td>\n",
       "      <td>5.915593</td>\n",
       "      <td>6.279490</td>\n",
       "      <td>6.441998</td>\n",
       "      <td>6.553099</td>\n",
       "      <td>6.105364</td>\n",
       "    </tr>\n",
       "    <tr>\n",
       "      <td>alaS</td>\n",
       "      <td>7.811728</td>\n",
       "      <td>7.853890</td>\n",
       "      <td>8.622037</td>\n",
       "      <td>7.636451</td>\n",
       "      <td>7.641365</td>\n",
       "      <td>7.125920</td>\n",
       "      <td>7.164957</td>\n",
       "      <td>6.555678</td>\n",
       "      <td>7.098590</td>\n",
       "    </tr>\n",
       "  </tbody>\n",
       "</table>\n",
       "</div>"
      ],
      "text/plain": [
       "            BB9      BB10      BB17      BB19      BB20      BB21      BB11  \\\n",
       "Genes                                                                         \n",
       "accD   6.875411  7.047582  7.431765  7.105877  6.516094  6.676126  6.304694   \n",
       "aceF   7.732412  7.674997  8.397717  7.455056  7.277269  6.525536  7.455730   \n",
       "ackA   7.231720  7.260976  8.033280  6.921924  6.920829  6.556644  6.358150   \n",
       "agaV   6.048825  6.250033  5.120269  5.559767  5.915593  6.279490  6.441998   \n",
       "alaS   7.811728  7.853890  8.622037  7.636451  7.641365  7.125920  7.164957   \n",
       "\n",
       "           BB12      BB18  \n",
       "Genes                      \n",
       "accD   6.168221  6.245553  \n",
       "aceF   6.403830  7.597941  \n",
       "ackA   5.888768  6.359310  \n",
       "agaV   6.553099  6.105364  \n",
       "alaS   6.555678  7.098590  "
      ]
     },
     "execution_count": 2,
     "metadata": {},
     "output_type": "execute_result"
    }
   ],
   "source": [
    "X_train = pd.read_csv(\"./data/ClustREFGenes-master/Data/Core_genome/Data_Core_Genome_Ecoli_log2.csv\",\n",
    "                  index_col=0)\n",
    "print(\"Dimensionalidade dos dados: \", X_train.shape)\n",
    "X_train.head()"
   ]
  },
  {
   "cell_type": "code",
   "execution_count": 3,
   "metadata": {},
   "outputs": [],
   "source": [
    "hkg = [\"adk\",\"cysG\",\"dnaG\",\"ftsZ\",\"gap\",\"gmk\",\"gyrA\",\"gyrB\",\"hcaT\",\"idnT\",\"recA\",\n",
    "       \"rho\",\"rpoA\",\"rpoB\",\"rpoC\",\"rpoD\",\"secA\",\"recF\",\"fusA\",\"glnA\",\"tuf\"]"
   ]
  },
  {
   "cell_type": "code",
   "execution_count": 4,
   "metadata": {},
   "outputs": [
    {
     "name": "stderr",
     "output_type": "stream",
     "text": [
      "/usr/local/lib/python3.6/dist-packages/ipykernel_launcher.py:2: FutureWarning: \n",
      "Passing list-likes to .loc or [] with any missing label will raise\n",
      "KeyError in the future, you can use .reindex() as an alternative.\n",
      "\n",
      "See the documentation here:\n",
      "https://pandas.pydata.org/pandas-docs/stable/user_guide/indexing.html#deprecate-loc-reindex-listlike\n",
      "  \n"
     ]
    },
    {
     "data": {
      "text/plain": [
       "(15, 9)"
      ]
     },
     "execution_count": 4,
     "metadata": {},
     "output_type": "execute_result"
    }
   ],
   "source": [
    "#X_train = X_train.sample(n=100)\n",
    "X_train = X_train.loc[hkg].dropna()\n",
    "X_train.shape"
   ]
  },
  {
   "cell_type": "code",
   "execution_count": 5,
   "metadata": {},
   "outputs": [
    {
     "data": {
      "text/html": [
       "<div>\n",
       "<style scoped>\n",
       "    .dataframe tbody tr th:only-of-type {\n",
       "        vertical-align: middle;\n",
       "    }\n",
       "\n",
       "    .dataframe tbody tr th {\n",
       "        vertical-align: top;\n",
       "    }\n",
       "\n",
       "    .dataframe thead th {\n",
       "        text-align: right;\n",
       "    }\n",
       "</style>\n",
       "<table border=\"1\" class=\"dataframe\">\n",
       "  <thead>\n",
       "    <tr style=\"text-align: right;\">\n",
       "      <th></th>\n",
       "      <th>BB9</th>\n",
       "      <th>BB10</th>\n",
       "      <th>BB17</th>\n",
       "      <th>BB19</th>\n",
       "      <th>BB20</th>\n",
       "      <th>BB21</th>\n",
       "      <th>BB11</th>\n",
       "      <th>BB12</th>\n",
       "      <th>BB18</th>\n",
       "    </tr>\n",
       "    <tr>\n",
       "      <th>Genes</th>\n",
       "      <th></th>\n",
       "      <th></th>\n",
       "      <th></th>\n",
       "      <th></th>\n",
       "      <th></th>\n",
       "      <th></th>\n",
       "      <th></th>\n",
       "      <th></th>\n",
       "      <th></th>\n",
       "    </tr>\n",
       "  </thead>\n",
       "  <tbody>\n",
       "    <tr>\n",
       "      <td>adk</td>\n",
       "      <td>0.322919</td>\n",
       "      <td>0.306682</td>\n",
       "      <td>0.233249</td>\n",
       "      <td>0.252705</td>\n",
       "      <td>0.050682</td>\n",
       "      <td>0.140450</td>\n",
       "      <td>-0.239388</td>\n",
       "      <td>-0.104706</td>\n",
       "      <td>-0.020661</td>\n",
       "    </tr>\n",
       "    <tr>\n",
       "      <td>cysG</td>\n",
       "      <td>-0.886249</td>\n",
       "      <td>-0.924971</td>\n",
       "      <td>-0.921355</td>\n",
       "      <td>-1.000000</td>\n",
       "      <td>-0.999405</td>\n",
       "      <td>-0.877015</td>\n",
       "      <td>-0.869515</td>\n",
       "      <td>-0.346979</td>\n",
       "      <td>-0.514738</td>\n",
       "    </tr>\n",
       "    <tr>\n",
       "      <td>dnaG</td>\n",
       "      <td>0.280139</td>\n",
       "      <td>0.351892</td>\n",
       "      <td>0.346807</td>\n",
       "      <td>0.209852</td>\n",
       "      <td>0.128913</td>\n",
       "      <td>0.233587</td>\n",
       "      <td>0.229860</td>\n",
       "      <td>0.616064</td>\n",
       "      <td>0.376455</td>\n",
       "    </tr>\n",
       "    <tr>\n",
       "      <td>ftsZ</td>\n",
       "      <td>0.372777</td>\n",
       "      <td>0.332264</td>\n",
       "      <td>0.250828</td>\n",
       "      <td>0.435016</td>\n",
       "      <td>0.320205</td>\n",
       "      <td>0.264169</td>\n",
       "      <td>0.047409</td>\n",
       "      <td>-0.118242</td>\n",
       "      <td>0.075838</td>\n",
       "    </tr>\n",
       "    <tr>\n",
       "      <td>gmk</td>\n",
       "      <td>0.438312</td>\n",
       "      <td>0.392016</td>\n",
       "      <td>0.353727</td>\n",
       "      <td>0.510646</td>\n",
       "      <td>0.372934</td>\n",
       "      <td>0.429208</td>\n",
       "      <td>0.364839</td>\n",
       "      <td>0.821547</td>\n",
       "      <td>0.503494</td>\n",
       "    </tr>\n",
       "    <tr>\n",
       "      <td>gyrA</td>\n",
       "      <td>1.000000</td>\n",
       "      <td>0.981742</td>\n",
       "      <td>0.900146</td>\n",
       "      <td>0.744566</td>\n",
       "      <td>0.685601</td>\n",
       "      <td>0.627487</td>\n",
       "      <td>0.237213</td>\n",
       "      <td>-0.086462</td>\n",
       "      <td>0.298520</td>\n",
       "    </tr>\n",
       "    <tr>\n",
       "      <td>gyrB</td>\n",
       "      <td>0.361458</td>\n",
       "      <td>0.384045</td>\n",
       "      <td>0.406020</td>\n",
       "      <td>0.285252</td>\n",
       "      <td>0.235554</td>\n",
       "      <td>0.257692</td>\n",
       "      <td>0.360538</td>\n",
       "      <td>0.821872</td>\n",
       "      <td>0.596169</td>\n",
       "    </tr>\n",
       "    <tr>\n",
       "      <td>hcaT</td>\n",
       "      <td>-1.000000</td>\n",
       "      <td>-1.000000</td>\n",
       "      <td>-1.000000</td>\n",
       "      <td>-0.914986</td>\n",
       "      <td>-0.870975</td>\n",
       "      <td>-1.000000</td>\n",
       "      <td>-1.000000</td>\n",
       "      <td>-1.000000</td>\n",
       "      <td>-1.000000</td>\n",
       "    </tr>\n",
       "    <tr>\n",
       "      <td>idnT</td>\n",
       "      <td>-0.801205</td>\n",
       "      <td>-0.814623</td>\n",
       "      <td>-0.835418</td>\n",
       "      <td>-0.736056</td>\n",
       "      <td>-1.000000</td>\n",
       "      <td>-0.714558</td>\n",
       "      <td>-0.745359</td>\n",
       "      <td>-0.120887</td>\n",
       "      <td>-0.389636</td>\n",
       "    </tr>\n",
       "    <tr>\n",
       "      <td>rho</td>\n",
       "      <td>0.977576</td>\n",
       "      <td>1.000000</td>\n",
       "      <td>1.000000</td>\n",
       "      <td>1.000000</td>\n",
       "      <td>1.000000</td>\n",
       "      <td>1.000000</td>\n",
       "      <td>1.000000</td>\n",
       "      <td>1.000000</td>\n",
       "      <td>1.000000</td>\n",
       "    </tr>\n",
       "    <tr>\n",
       "      <td>rpoB</td>\n",
       "      <td>0.770288</td>\n",
       "      <td>0.738542</td>\n",
       "      <td>0.830327</td>\n",
       "      <td>0.722392</td>\n",
       "      <td>0.640161</td>\n",
       "      <td>0.531425</td>\n",
       "      <td>0.502718</td>\n",
       "      <td>0.107146</td>\n",
       "      <td>0.479855</td>\n",
       "    </tr>\n",
       "    <tr>\n",
       "      <td>rpoC</td>\n",
       "      <td>0.701074</td>\n",
       "      <td>0.642966</td>\n",
       "      <td>0.708085</td>\n",
       "      <td>0.587298</td>\n",
       "      <td>0.528186</td>\n",
       "      <td>0.437169</td>\n",
       "      <td>0.377698</td>\n",
       "      <td>0.030256</td>\n",
       "      <td>0.366489</td>\n",
       "    </tr>\n",
       "    <tr>\n",
       "      <td>rpoD</td>\n",
       "      <td>0.521715</td>\n",
       "      <td>0.557416</td>\n",
       "      <td>0.583516</td>\n",
       "      <td>0.528890</td>\n",
       "      <td>0.414302</td>\n",
       "      <td>0.423461</td>\n",
       "      <td>0.444751</td>\n",
       "      <td>0.465016</td>\n",
       "      <td>0.475127</td>\n",
       "    </tr>\n",
       "    <tr>\n",
       "      <td>secA</td>\n",
       "      <td>-0.191541</td>\n",
       "      <td>-0.260980</td>\n",
       "      <td>-0.075625</td>\n",
       "      <td>-0.138480</td>\n",
       "      <td>-0.298344</td>\n",
       "      <td>-0.463570</td>\n",
       "      <td>-0.492272</td>\n",
       "      <td>-0.471725</td>\n",
       "      <td>-0.441423</td>\n",
       "    </tr>\n",
       "    <tr>\n",
       "      <td>recF</td>\n",
       "      <td>-0.531793</td>\n",
       "      <td>-0.564284</td>\n",
       "      <td>-0.722880</td>\n",
       "      <td>-0.544222</td>\n",
       "      <td>-0.667430</td>\n",
       "      <td>-0.736042</td>\n",
       "      <td>-0.471496</td>\n",
       "      <td>0.124925</td>\n",
       "      <td>-0.242720</td>\n",
       "    </tr>\n",
       "  </tbody>\n",
       "</table>\n",
       "</div>"
      ],
      "text/plain": [
       "            BB9      BB10      BB17      BB19      BB20      BB21      BB11  \\\n",
       "Genes                                                                         \n",
       "adk    0.322919  0.306682  0.233249  0.252705  0.050682  0.140450 -0.239388   \n",
       "cysG  -0.886249 -0.924971 -0.921355 -1.000000 -0.999405 -0.877015 -0.869515   \n",
       "dnaG   0.280139  0.351892  0.346807  0.209852  0.128913  0.233587  0.229860   \n",
       "ftsZ   0.372777  0.332264  0.250828  0.435016  0.320205  0.264169  0.047409   \n",
       "gmk    0.438312  0.392016  0.353727  0.510646  0.372934  0.429208  0.364839   \n",
       "gyrA   1.000000  0.981742  0.900146  0.744566  0.685601  0.627487  0.237213   \n",
       "gyrB   0.361458  0.384045  0.406020  0.285252  0.235554  0.257692  0.360538   \n",
       "hcaT  -1.000000 -1.000000 -1.000000 -0.914986 -0.870975 -1.000000 -1.000000   \n",
       "idnT  -0.801205 -0.814623 -0.835418 -0.736056 -1.000000 -0.714558 -0.745359   \n",
       "rho    0.977576  1.000000  1.000000  1.000000  1.000000  1.000000  1.000000   \n",
       "rpoB   0.770288  0.738542  0.830327  0.722392  0.640161  0.531425  0.502718   \n",
       "rpoC   0.701074  0.642966  0.708085  0.587298  0.528186  0.437169  0.377698   \n",
       "rpoD   0.521715  0.557416  0.583516  0.528890  0.414302  0.423461  0.444751   \n",
       "secA  -0.191541 -0.260980 -0.075625 -0.138480 -0.298344 -0.463570 -0.492272   \n",
       "recF  -0.531793 -0.564284 -0.722880 -0.544222 -0.667430 -0.736042 -0.471496   \n",
       "\n",
       "           BB12      BB18  \n",
       "Genes                      \n",
       "adk   -0.104706 -0.020661  \n",
       "cysG  -0.346979 -0.514738  \n",
       "dnaG   0.616064  0.376455  \n",
       "ftsZ  -0.118242  0.075838  \n",
       "gmk    0.821547  0.503494  \n",
       "gyrA  -0.086462  0.298520  \n",
       "gyrB   0.821872  0.596169  \n",
       "hcaT  -1.000000 -1.000000  \n",
       "idnT  -0.120887 -0.389636  \n",
       "rho    1.000000  1.000000  \n",
       "rpoB   0.107146  0.479855  \n",
       "rpoC   0.030256  0.366489  \n",
       "rpoD   0.465016  0.475127  \n",
       "secA  -0.471725 -0.441423  \n",
       "recF   0.124925 -0.242720  "
      ]
     },
     "execution_count": 5,
     "metadata": {},
     "output_type": "execute_result"
    }
   ],
   "source": [
    "max_val = 1\n",
    "min_val = -1\n",
    "X_train = ((X_train - np.min(X_train))/(np.max(X_train) - np.min(X_train)))*(max_val - min_val) + min_val\n",
    "X_train"
   ]
  },
  {
   "cell_type": "code",
   "execution_count": 60,
   "metadata": {},
   "outputs": [],
   "source": [
    "class Generator():\n",
    "    def __init__(self, noise_input, out_dim, optimizerG):\n",
    "        self.noise_input = noise_input\n",
    "        self.out_dim = out_dim\n",
    "        self.optimizerG = optimizerG\n",
    "        \n",
    "    def generator(self):\n",
    "        \"\"\"\n",
    "        noise_input: vector con los datos de la distribuición inicial\n",
    "        out_dim: dimension de la salida esperada, por ejemplo si es una imagen\n",
    "                 en escala de gris, sería out_dim: (32,32,1)\n",
    "        Retorna el modelo Generador\n",
    "        \"\"\"\n",
    "        model = Sequential()\n",
    "        model.add(Dense(32, input_shape=(self.noise_input,)))\n",
    "        model.add(Dense(32))\n",
    "        model.add(Dense(32))\n",
    "        model.add(Dense(np.prod(self.out_dim), activation=\"tanh\"))\n",
    "        model.add(Reshape(self.out_dim))\n",
    "        return model\n",
    "    \n",
    "    def compileG(self):\n",
    "        Gr = self.generator()\n",
    "        Gr.compile(loss=\"binary_crossentropy\", optimizer= self.optimizerG)\n",
    "        return Gr"
   ]
  },
  {
   "cell_type": "code",
   "execution_count": 61,
   "metadata": {},
   "outputs": [
    {
     "name": "stdout",
     "output_type": "stream",
     "text": [
      "Dimension del ruido de entrada:  100\n"
     ]
    }
   ],
   "source": [
    "noise_input = 100\n",
    "optimizerG = Adam(lr=0.0001, beta_1=0.5)\n",
    "obj_G = Generator(noise_input, (9,), optimizerG)\n",
    "print(\"Dimension del ruido de entrada: \",noise_input)\n",
    "G = obj_G.compileG()"
   ]
  },
  {
   "cell_type": "code",
   "execution_count": 62,
   "metadata": {},
   "outputs": [
    {
     "name": "stdout",
     "output_type": "stream",
     "text": [
      "Model: \"sequential_11\"\n",
      "_________________________________________________________________\n",
      "Layer (type)                 Output Shape              Param #   \n",
      "=================================================================\n",
      "dense_32 (Dense)             (None, 32)                3232      \n",
      "_________________________________________________________________\n",
      "dense_33 (Dense)             (None, 32)                1056      \n",
      "_________________________________________________________________\n",
      "dense_34 (Dense)             (None, 32)                1056      \n",
      "_________________________________________________________________\n",
      "dense_35 (Dense)             (None, 9)                 297       \n",
      "_________________________________________________________________\n",
      "reshape_4 (Reshape)          (None, 9)                 0         \n",
      "=================================================================\n",
      "Total params: 5,641\n",
      "Trainable params: 5,641\n",
      "Non-trainable params: 0\n",
      "_________________________________________________________________\n"
     ]
    }
   ],
   "source": [
    "G.summary()"
   ]
  },
  {
   "cell_type": "code",
   "execution_count": 63,
   "metadata": {},
   "outputs": [
    {
     "name": "stdout",
     "output_type": "stream",
     "text": [
      "Dimension de los datos de entrada: (15, 100)\n",
      "Dimension de los ejemplos generados: (15, 9)\n"
     ]
    }
   ],
   "source": [
    "noise = np.random.normal(loc=0, scale=1, size=(X_train.shape[0],noise_input))\n",
    "print(\"Dimension de los datos de entrada:\", noise.shape)\n",
    "data_fake = G.predict(noise)\n",
    "print(\"Dimension de los ejemplos generados:\", data_fake.shape)"
   ]
  },
  {
   "cell_type": "code",
   "execution_count": 64,
   "metadata": {},
   "outputs": [
    {
     "name": "stdout",
     "output_type": "stream",
     "text": [
      "Distribuición original de cada caracteristica vs red Generadora sin entrenar\n"
     ]
    },
    {
     "data": {
      "image/png": "[encoded data removed]",
      "text/plain": [
       "<Figure size 1080x648 with 9 Axes>"
      ]
     },
     "metadata": {
      "needs_background": "light"
     },
     "output_type": "display_data"
    }
   ],
   "source": [
    "plt.figure(figsize=(15,9))\n",
    "print(\"Distribuición original de cada caracteristica vs red Generadora sin entrenar\")\n",
    "for col in range(X_train.shape[1]):\n",
    "    aux_real = X_train.iloc[:,col]\n",
    "    aux_fake = data_fake[:,col]\n",
    "    plt.subplot(3,3,col+1)\n",
    "    plt.hist(aux_real, bins=10, label=\"real\",)\n",
    "    plt.hist(aux_fake, bins=10, label=\"fake\", alpha=0.9)\n",
    "    plt.legend()"
   ]
  },
  {
   "cell_type": "code",
   "execution_count": 65,
   "metadata": {},
   "outputs": [
    {
     "name": "stdout",
     "output_type": "stream",
     "text": [
      "(15, 2) (1000, 2)\n"
     ]
    },
    {
     "data": {
      "image/png": "[encoded data removed]",
      "text/plain": [
       "<Figure size 432x288 with 1 Axes>"
      ]
     },
     "metadata": {
      "needs_background": "light"
     },
     "output_type": "display_data"
    }
   ],
   "source": [
    "noise = np.random.normal(loc=0, scale=1, size=(1000,noise_input))\n",
    "data_fake = G.predict(noise)\n",
    "pca = PCA(n_components=2)\n",
    "X_train_pca = pca.fit_transform(X_train)\n",
    "X_fake_pca = pca.transform(data_fake)\n",
    "print(X_train_pca.shape, X_fake_pca.shape)\n",
    "plt.figure(figsize=(6,4))\n",
    "plt.title(\"2-PCA entre dados reais e fakes\", fontsize=14)\n",
    "plt.xlabel(\"componente principal um\", fontsize=13)\n",
    "plt.ylabel(\"componente principal dois\", fontsize=13)\n",
    "plt.scatter(X_fake_pca[:,0], X_fake_pca[:,1], color=\"red\", label=\"fake\", alpha=0.4)\n",
    "plt.scatter(X_train_pca[:,0], X_train_pca[:,1], color=\"green\", label=\"real\", alpha=1)\n",
    "plt.legend();"
   ]
  },
  {
   "cell_type": "code",
   "execution_count": 83,
   "metadata": {},
   "outputs": [],
   "source": [
    "class Discriminator():\n",
    "    \n",
    "    def __init__(self, input_dim, optimizerD):\n",
    "        self.input_dim = input_dim\n",
    "        self.optimizerD = optimizerD\n",
    "    \n",
    "    def discriminator(self):\n",
    "        \"\"\"\n",
    "        input_dim: dimension de los datos de entrada,\n",
    "                   por ejemplo si es una imagen en escala de gris,\n",
    "                   sería input_dim: (32,32,1)\n",
    "        \"\"\"\n",
    "        model = Sequential()\n",
    "        model.add(Dense(32, input_shape=self.input_dim))\n",
    "        model.add(LeakyReLU(alpha=0.2)) #función rectificadora\n",
    "        model.add(Dropout(.1))\n",
    "        model.add(Flatten())\n",
    "        #activación sigmoid ya que se precisa establecer si es 0 ó 1.\n",
    "        model.add(Dense(1, activation='sigmoid'))\n",
    "        return model\n",
    "    \n",
    "    def compileD(self):\n",
    "        Dr = self.discriminator()\n",
    "        Dr.compile(loss=\"binary_crossentropy\", optimizer=optimizerD, metrics=[\"accuracy\"])\n",
    "        return Dr"
   ]
  },
  {
   "cell_type": "code",
   "execution_count": 84,
   "metadata": {},
   "outputs": [],
   "source": [
    "optimizerD = Adam(lr=0.0004, beta_1=0.5)\n",
    "objD = Discriminator((X_train.shape[1],), optimizerD)\n",
    "D = objD.compileD()"
   ]
  },
  {
   "cell_type": "code",
   "execution_count": 85,
   "metadata": {},
   "outputs": [],
   "source": [
    "def Gan(generator, discriminator):\n",
    "    \"\"\"\n",
    "    recibe como parámetros de entrada las redes\n",
    "    generador y discriminador\n",
    "    \"\"\"\n",
    "    model = Sequential()\n",
    "    model.add(generator)\n",
    "    discriminator.trainable = False #no se actualizan los pesos\n",
    "    model.add(discriminator)\n",
    "    return model"
   ]
  },
  {
   "cell_type": "code",
   "execution_count": null,
   "metadata": {},
   "outputs": [],
   "source": []
  },
  {
   "cell_type": "code",
   "execution_count": 86,
   "metadata": {},
   "outputs": [],
   "source": [
    "def get_batches(X_train, batch_size):\n",
    "    \"\"\"\n",
    "    X_train: dataset para o treino\n",
    "    epochs: quantidade de epocas para o treino do gradiente\n",
    "    batch: tamanho to batch pra o treino de cada epochs\n",
    "    \"\"\"\n",
    "    batches = []\n",
    "    num_bat = int(np.ceil(X_train.shape[0]/batch_size))\n",
    "    lim_i = 0\n",
    "    lim_s = batch_size\n",
    "    for i in range(num_bat):\n",
    "        if lim_s > X_train.shape[0]:\n",
    "            lim_s = X_train.shape[0]\n",
    "        batches.append(X_train[lim_i:lim_s])\n",
    "        lim_i += batch_size\n",
    "        lim_s += batch_size\n",
    "    return batches"
   ]
  },
  {
   "cell_type": "code",
   "execution_count": 87,
   "metadata": {},
   "outputs": [],
   "source": [
    "#treinamento da GAN\n",
    "def train(X_train, epochs, batch_size, G, D, gan, noise_input):\n",
    "    g_loss = []\n",
    "    d_loss = []\n",
    "    for epoch in range(epochs):\n",
    "        batches = get_batches(X_train, batch_size)\n",
    "        count_b = 0\n",
    "        t_i = time()\n",
    "        for batch in batches:\n",
    "            gen_noise = np.random.normal(0, 1, (np.int64(batch.shape[0]), noise_input))\n",
    "            #gerando as imagens fake\n",
    "            syntetic_data = G.predict(gen_noise)\n",
    "            #criação do array de treinamento\n",
    "            x_combined_batch = np.concatenate((batch, syntetic_data))\n",
    "            y_combined_batch = np.concatenate((np.ones((batch.shape[0], 1)),\n",
    "                                               np.zeros((batch.shape[0], 1))))\n",
    "            #misturar os dados\n",
    "            #x_combined_batch, y_combined_batch = shuffle(x_combined_batch, y_combined_batch)\n",
    "            #treino do discriminador\n",
    "            d_l = D.train_on_batch(x_combined_batch, y_combined_batch)\n",
    "            # train generator\n",
    "            noise = np.random.normal(0, 1, (batch.shape[0], noise_input))\n",
    "            y_mislabled = np.ones((batch.shape[0], 1))\n",
    "            g_l = gan.train_on_batch(noise, y_mislabled)\n",
    " \n",
    "        t_f = time()\n",
    "        t = t_f - t_i\n",
    "        t_i = time()\n",
    "        d_loss.append(d_l[0])\n",
    "        g_loss.append(g_l)\n",
    "        print ('epoch:[%d/%d] [Discriminator::d_loss: %f],[Generator::loss: %f], %f[sec]'\n",
    "                   % (epoch+1, epochs, d_loss[-1], g_loss[-1], t))\n",
    "    return g_loss, d_loss"
   ]
  },
  {
   "cell_type": "code",
   "execution_count": 88,
   "metadata": {},
   "outputs": [
    {
     "name": "stdout",
     "output_type": "stream",
     "text": [
      "Dimension del ruido de entrada:  100\n",
      "Model: \"sequential_19\"\n",
      "_________________________________________________________________\n",
      "Layer (type)                 Output Shape              Param #   \n",
      "=================================================================\n",
      "sequential_17 (Sequential)   (None, 9)                 5641      \n",
      "_________________________________________________________________\n",
      "sequential_18 (Sequential)   (None, 1)                 353       \n",
      "=================================================================\n",
      "Total params: 5,994\n",
      "Trainable params: 5,641\n",
      "Non-trainable params: 353\n",
      "_________________________________________________________________\n"
     ]
    }
   ],
   "source": [
    "noise_input = 100\n",
    "#Gerador\n",
    "optimizerG = Adam(lr=0.0001, beta_1=0.5)\n",
    "obj_G = Generator(noise_input, (X_train.shape[1],), optimizerG)\n",
    "print(\"Dimension del ruido de entrada: \",noise_input)\n",
    "G = obj_G.compileG()\n",
    "# Discriminador\n",
    "optimizerD = Adam(lr=0.0004, beta_1=0.5)\n",
    "objD = Discriminator((X_train.shape[1],), optimizerD)\n",
    "D = objD.compileD()\n",
    "\n",
    "gan = Gan(G,D)\n",
    "gan.compile(loss='binary_crossentropy', optimizer=optimizerG)\n",
    "gan.summary()"
   ]
  },
  {
   "cell_type": "code",
   "execution_count": 89,
   "metadata": {
    "scrolled": true
   },
   "outputs": [
    {
     "name": "stdout",
     "output_type": "stream",
     "text": [
      "WARNING:tensorflow:Discrepancy between trainable weights and collected trainable weights, did you set `model.trainable` without calling `model.compile` after ?\n",
      "epoch:[1/600] [Discriminator::d_loss: 0.726623],[Generator::loss: 1.490629], 2.665886[sec]\n",
      "epoch:[2/600] [Discriminator::d_loss: 0.689651],[Generator::loss: 0.517254], 0.098561[sec]\n",
      "epoch:[3/600] [Discriminator::d_loss: 0.547435],[Generator::loss: 0.533243], 0.096713[sec]\n",
      "epoch:[4/600] [Discriminator::d_loss: 0.685778],[Generator::loss: 0.673438], 0.110836[sec]\n",
      "epoch:[5/600] [Discriminator::d_loss: 0.604591],[Generator::loss: 1.401041], 0.098024[sec]\n",
      "epoch:[6/600] [Discriminator::d_loss: 0.815891],[Generator::loss: 0.923540], 0.146216[sec]\n",
      "epoch:[7/600] [Discriminator::d_loss: 0.710680],[Generator::loss: 0.910922], 0.120239[sec]\n",
      "epoch:[8/600] [Discriminator::d_loss: 0.758059],[Generator::loss: 0.807625], 0.166950[sec]\n",
      "epoch:[9/600] [Discriminator::d_loss: 0.595440],[Generator::loss: 1.181405], 0.171636[sec]\n",
      "epoch:[10/600] [Discriminator::d_loss: 0.805177],[Generator::loss: 0.690854], 0.122676[sec]\n",
      "epoch:[11/600] [Discriminator::d_loss: 0.732289],[Generator::loss: 1.312721], 0.098607[sec]\n",
      "epoch:[12/600] [Discriminator::d_loss: 0.567816],[Generator::loss: 1.027509], 0.099121[sec]\n",
      "epoch:[13/600] [Discriminator::d_loss: 0.461643],[Generator::loss: 0.507497], 0.112652[sec]\n",
      "epoch:[14/600] [Discriminator::d_loss: 0.658535],[Generator::loss: 0.957369], 0.102012[sec]\n",
      "epoch:[15/600] [Discriminator::d_loss: 0.767015],[Generator::loss: 0.995836], 0.104063[sec]\n",
      "epoch:[16/600] [Discriminator::d_loss: 0.546141],[Generator::loss: 0.694442], 0.101263[sec]\n",
      "epoch:[17/600] [Discriminator::d_loss: 0.715786],[Generator::loss: 0.755527], 0.128452[sec]\n",
      "epoch:[18/600] [Discriminator::d_loss: 0.632845],[Generator::loss: 0.521885], 0.137050[sec]\n",
      "epoch:[19/600] [Discriminator::d_loss: 0.606207],[Generator::loss: 0.932672], 0.167617[sec]\n",
      "epoch:[20/600] [Discriminator::d_loss: 0.487579],[Generator::loss: 0.656706], 0.150000[sec]\n",
      "epoch:[21/600] [Discriminator::d_loss: 0.651734],[Generator::loss: 1.048038], 0.160393[sec]\n",
      "epoch:[22/600] [Discriminator::d_loss: 0.614917],[Generator::loss: 0.507189], 0.143754[sec]\n",
      "epoch:[23/600] [Discriminator::d_loss: 0.733811],[Generator::loss: 0.842360], 0.096199[sec]\n",
      "epoch:[24/600] [Discriminator::d_loss: 0.661451],[Generator::loss: 0.734313], 0.098326[sec]\n",
      "epoch:[25/600] [Discriminator::d_loss: 0.454601],[Generator::loss: 0.741305], 0.115850[sec]\n",
      "epoch:[26/600] [Discriminator::d_loss: 0.605711],[Generator::loss: 0.756007], 0.107666[sec]\n",
      "epoch:[27/600] [Discriminator::d_loss: 0.630554],[Generator::loss: 0.648747], 0.104682[sec]\n",
      "epoch:[28/600] [Discriminator::d_loss: 0.625964],[Generator::loss: 0.512655], 0.109459[sec]\n",
      "epoch:[29/600] [Discriminator::d_loss: 0.855114],[Generator::loss: 0.642204], 0.116474[sec]\n",
      "epoch:[30/600] [Discriminator::d_loss: 0.527982],[Generator::loss: 0.979172], 0.104338[sec]\n",
      "epoch:[31/600] [Discriminator::d_loss: 0.573961],[Generator::loss: 0.477091], 0.112737[sec]\n",
      "epoch:[32/600] [Discriminator::d_loss: 0.741012],[Generator::loss: 1.286901], 0.109262[sec]\n",
      "epoch:[33/600] [Discriminator::d_loss: 0.668133],[Generator::loss: 0.731293], 0.124383[sec]\n",
      "epoch:[34/600] [Discriminator::d_loss: 0.686574],[Generator::loss: 0.984012], 0.111835[sec]\n",
      "epoch:[35/600] [Discriminator::d_loss: 0.428528],[Generator::loss: 1.005351], 0.126617[sec]\n",
      "epoch:[36/600] [Discriminator::d_loss: 0.623452],[Generator::loss: 0.734020], 0.111701[sec]\n",
      "epoch:[37/600] [Discriminator::d_loss: 0.536960],[Generator::loss: 1.159080], 0.117202[sec]\n",
      "epoch:[38/600] [Discriminator::d_loss: 0.677837],[Generator::loss: 1.034457], 0.107985[sec]\n",
      "epoch:[39/600] [Discriminator::d_loss: 0.563757],[Generator::loss: 0.675840], 0.120202[sec]\n",
      "epoch:[40/600] [Discriminator::d_loss: 0.609317],[Generator::loss: 0.647986], 0.108678[sec]\n",
      "epoch:[41/600] [Discriminator::d_loss: 0.423080],[Generator::loss: 1.098234], 0.124062[sec]\n",
      "epoch:[42/600] [Discriminator::d_loss: 0.579280],[Generator::loss: 0.620314], 0.116738[sec]\n",
      "epoch:[43/600] [Discriminator::d_loss: 0.704570],[Generator::loss: 0.703687], 0.125806[sec]\n",
      "epoch:[44/600] [Discriminator::d_loss: 0.710722],[Generator::loss: 0.899586], 0.113322[sec]\n",
      "epoch:[45/600] [Discriminator::d_loss: 0.635154],[Generator::loss: 0.913139], 0.121144[sec]\n",
      "epoch:[46/600] [Discriminator::d_loss: 0.872442],[Generator::loss: 0.581883], 0.102489[sec]\n",
      "epoch:[47/600] [Discriminator::d_loss: 0.598378],[Generator::loss: 0.764011], 0.114192[sec]\n",
      "epoch:[48/600] [Discriminator::d_loss: 0.592285],[Generator::loss: 0.805386], 0.118091[sec]\n",
      "epoch:[49/600] [Discriminator::d_loss: 0.532615],[Generator::loss: 1.092703], 0.109122[sec]\n",
      "epoch:[50/600] [Discriminator::d_loss: 0.751846],[Generator::loss: 0.524381], 0.098732[sec]\n",
      "epoch:[51/600] [Discriminator::d_loss: 0.555591],[Generator::loss: 0.500231], 0.177598[sec]\n",
      "epoch:[52/600] [Discriminator::d_loss: 0.509982],[Generator::loss: 0.526249], 0.101940[sec]\n",
      "epoch:[53/600] [Discriminator::d_loss: 0.558876],[Generator::loss: 1.071307], 0.106440[sec]\n",
      "epoch:[54/600] [Discriminator::d_loss: 0.812343],[Generator::loss: 0.872396], 0.108552[sec]\n",
      "epoch:[55/600] [Discriminator::d_loss: 0.573940],[Generator::loss: 1.253452], 0.130445[sec]\n",
      "epoch:[56/600] [Discriminator::d_loss: 0.623292],[Generator::loss: 0.738705], 0.135743[sec]\n",
      "epoch:[57/600] [Discriminator::d_loss: 0.684776],[Generator::loss: 1.028003], 0.120202[sec]\n",
      "epoch:[58/600] [Discriminator::d_loss: 0.479798],[Generator::loss: 0.825457], 0.103750[sec]\n",
      "epoch:[59/600] [Discriminator::d_loss: 0.724426],[Generator::loss: 0.580311], 0.111781[sec]\n",
      "epoch:[60/600] [Discriminator::d_loss: 0.573173],[Generator::loss: 0.993711], 0.108859[sec]\n",
      "epoch:[61/600] [Discriminator::d_loss: 0.466853],[Generator::loss: 0.859547], 0.105235[sec]\n",
      "epoch:[62/600] [Discriminator::d_loss: 0.521646],[Generator::loss: 0.593445], 0.104130[sec]\n",
      "epoch:[63/600] [Discriminator::d_loss: 0.517226],[Generator::loss: 1.010911], 0.105530[sec]\n",
      "epoch:[64/600] [Discriminator::d_loss: 0.407980],[Generator::loss: 0.709751], 0.117803[sec]\n",
      "epoch:[65/600] [Discriminator::d_loss: 0.627142],[Generator::loss: 0.452472], 0.125322[sec]\n",
      "epoch:[66/600] [Discriminator::d_loss: 0.516303],[Generator::loss: 0.895960], 0.104380[sec]\n",
      "epoch:[67/600] [Discriminator::d_loss: 0.599016],[Generator::loss: 1.068802], 0.152263[sec]\n",
      "epoch:[68/600] [Discriminator::d_loss: 0.582420],[Generator::loss: 0.483523], 0.134785[sec]\n",
      "epoch:[69/600] [Discriminator::d_loss: 0.460713],[Generator::loss: 0.697107], 0.134471[sec]\n",
      "epoch:[70/600] [Discriminator::d_loss: 0.438418],[Generator::loss: 1.366020], 0.157578[sec]\n",
      "epoch:[71/600] [Discriminator::d_loss: 0.502857],[Generator::loss: 0.972460], 0.150094[sec]\n",
      "epoch:[72/600] [Discriminator::d_loss: 0.470008],[Generator::loss: 0.971012], 0.111696[sec]\n",
      "epoch:[73/600] [Discriminator::d_loss: 0.517730],[Generator::loss: 0.708976], 0.150112[sec]\n",
      "epoch:[74/600] [Discriminator::d_loss: 0.551880],[Generator::loss: 0.467761], 0.231089[sec]\n",
      "epoch:[75/600] [Discriminator::d_loss: 0.592855],[Generator::loss: 0.952876], 0.159874[sec]\n",
      "epoch:[76/600] [Discriminator::d_loss: 0.531225],[Generator::loss: 0.570056], 0.150017[sec]\n",
      "epoch:[77/600] [Discriminator::d_loss: 0.728782],[Generator::loss: 1.185511], 0.124284[sec]\n",
      "epoch:[78/600] [Discriminator::d_loss: 0.563508],[Generator::loss: 0.671307], 0.108994[sec]\n",
      "epoch:[79/600] [Discriminator::d_loss: 0.464933],[Generator::loss: 0.623167], 0.132739[sec]\n",
      "epoch:[80/600] [Discriminator::d_loss: 0.418245],[Generator::loss: 1.123642], 0.169194[sec]\n",
      "epoch:[81/600] [Discriminator::d_loss: 0.418292],[Generator::loss: 0.520456], 0.149048[sec]\n",
      "epoch:[82/600] [Discriminator::d_loss: 0.459856],[Generator::loss: 1.234049], 0.200169[sec]\n",
      "epoch:[83/600] [Discriminator::d_loss: 0.820987],[Generator::loss: 1.228467], 0.183425[sec]\n",
      "epoch:[84/600] [Discriminator::d_loss: 0.793184],[Generator::loss: 1.170839], 0.140038[sec]\n",
      "epoch:[85/600] [Discriminator::d_loss: 0.496078],[Generator::loss: 0.954611], 0.108980[sec]\n",
      "epoch:[86/600] [Discriminator::d_loss: 0.412516],[Generator::loss: 0.720563], 0.113706[sec]\n",
      "epoch:[87/600] [Discriminator::d_loss: 0.817604],[Generator::loss: 1.420095], 0.105858[sec]\n",
      "epoch:[88/600] [Discriminator::d_loss: 0.557954],[Generator::loss: 0.918093], 0.108253[sec]\n",
      "epoch:[89/600] [Discriminator::d_loss: 0.612194],[Generator::loss: 0.800218], 0.105622[sec]\n"
     ]
    },
    {
     "name": "stdout",
     "output_type": "stream",
     "text": [
      "epoch:[90/600] [Discriminator::d_loss: 0.478256],[Generator::loss: 0.521496], 0.121310[sec]\n",
      "epoch:[91/600] [Discriminator::d_loss: 0.459571],[Generator::loss: 1.266317], 0.123127[sec]\n",
      "epoch:[92/600] [Discriminator::d_loss: 0.882851],[Generator::loss: 1.294356], 0.116249[sec]\n",
      "epoch:[93/600] [Discriminator::d_loss: 0.509262],[Generator::loss: 0.932825], 0.107957[sec]\n",
      "epoch:[94/600] [Discriminator::d_loss: 0.559109],[Generator::loss: 0.925701], 0.124111[sec]\n",
      "epoch:[95/600] [Discriminator::d_loss: 0.936903],[Generator::loss: 0.625821], 0.128033[sec]\n",
      "epoch:[96/600] [Discriminator::d_loss: 0.497490],[Generator::loss: 0.463735], 0.110181[sec]\n",
      "epoch:[97/600] [Discriminator::d_loss: 0.868994],[Generator::loss: 0.612667], 0.113407[sec]\n",
      "epoch:[98/600] [Discriminator::d_loss: 0.664853],[Generator::loss: 1.038262], 0.115368[sec]\n",
      "epoch:[99/600] [Discriminator::d_loss: 0.509988],[Generator::loss: 0.412377], 0.128106[sec]\n",
      "epoch:[100/600] [Discriminator::d_loss: 0.762067],[Generator::loss: 1.299975], 0.109934[sec]\n",
      "epoch:[101/600] [Discriminator::d_loss: 0.487470],[Generator::loss: 0.782050], 0.111125[sec]\n",
      "epoch:[102/600] [Discriminator::d_loss: 0.485835],[Generator::loss: 0.793289], 0.109729[sec]\n",
      "epoch:[103/600] [Discriminator::d_loss: 0.512268],[Generator::loss: 0.390948], 0.106446[sec]\n",
      "epoch:[104/600] [Discriminator::d_loss: 0.489944],[Generator::loss: 1.124322], 0.112720[sec]\n",
      "epoch:[105/600] [Discriminator::d_loss: 0.455419],[Generator::loss: 0.931851], 0.112860[sec]\n",
      "epoch:[106/600] [Discriminator::d_loss: 0.405748],[Generator::loss: 0.501914], 0.113712[sec]\n",
      "epoch:[107/600] [Discriminator::d_loss: 0.500169],[Generator::loss: 1.054033], 0.107269[sec]\n",
      "epoch:[108/600] [Discriminator::d_loss: 0.564178],[Generator::loss: 0.570978], 0.112743[sec]\n",
      "epoch:[109/600] [Discriminator::d_loss: 0.394305],[Generator::loss: 0.633011], 0.107496[sec]\n",
      "epoch:[110/600] [Discriminator::d_loss: 0.492416],[Generator::loss: 1.253103], 0.104275[sec]\n",
      "epoch:[111/600] [Discriminator::d_loss: 0.670236],[Generator::loss: 0.525478], 0.106198[sec]\n",
      "epoch:[112/600] [Discriminator::d_loss: 0.389742],[Generator::loss: 0.977488], 0.106200[sec]\n",
      "epoch:[113/600] [Discriminator::d_loss: 0.691193],[Generator::loss: 0.700396], 0.117633[sec]\n",
      "epoch:[114/600] [Discriminator::d_loss: 0.505827],[Generator::loss: 0.579853], 0.108806[sec]\n",
      "epoch:[115/600] [Discriminator::d_loss: 0.625473],[Generator::loss: 0.654456], 0.106523[sec]\n",
      "epoch:[116/600] [Discriminator::d_loss: 0.459981],[Generator::loss: 0.729066], 0.109951[sec]\n",
      "epoch:[117/600] [Discriminator::d_loss: 0.658894],[Generator::loss: 1.431356], 0.119175[sec]\n",
      "epoch:[118/600] [Discriminator::d_loss: 0.491350],[Generator::loss: 0.550125], 0.154629[sec]\n",
      "epoch:[119/600] [Discriminator::d_loss: 0.548858],[Generator::loss: 1.230360], 0.168020[sec]\n",
      "epoch:[120/600] [Discriminator::d_loss: 0.696072],[Generator::loss: 0.637978], 0.120911[sec]\n",
      "epoch:[121/600] [Discriminator::d_loss: 0.615074],[Generator::loss: 1.521581], 0.107733[sec]\n",
      "epoch:[122/600] [Discriminator::d_loss: 0.622779],[Generator::loss: 1.373752], 0.114151[sec]\n",
      "epoch:[123/600] [Discriminator::d_loss: 0.530688],[Generator::loss: 0.561148], 0.105833[sec]\n",
      "epoch:[124/600] [Discriminator::d_loss: 0.640328],[Generator::loss: 1.386168], 0.110227[sec]\n",
      "epoch:[125/600] [Discriminator::d_loss: 0.434085],[Generator::loss: 1.021155], 0.119926[sec]\n",
      "epoch:[126/600] [Discriminator::d_loss: 0.550464],[Generator::loss: 0.514548], 0.107317[sec]\n",
      "epoch:[127/600] [Discriminator::d_loss: 0.670761],[Generator::loss: 1.450024], 0.102267[sec]\n",
      "epoch:[128/600] [Discriminator::d_loss: 0.427242],[Generator::loss: 0.797948], 0.106261[sec]\n",
      "epoch:[129/600] [Discriminator::d_loss: 0.544096],[Generator::loss: 0.979212], 0.102339[sec]\n",
      "epoch:[130/600] [Discriminator::d_loss: 0.528128],[Generator::loss: 0.737811], 0.102680[sec]\n",
      "epoch:[131/600] [Discriminator::d_loss: 0.452755],[Generator::loss: 0.586709], 0.107199[sec]\n",
      "epoch:[132/600] [Discriminator::d_loss: 0.511715],[Generator::loss: 0.998970], 0.105267[sec]\n",
      "epoch:[133/600] [Discriminator::d_loss: 0.554809],[Generator::loss: 0.615012], 0.104205[sec]\n",
      "epoch:[134/600] [Discriminator::d_loss: 0.500185],[Generator::loss: 1.084655], 0.104885[sec]\n",
      "epoch:[135/600] [Discriminator::d_loss: 0.581511],[Generator::loss: 0.821794], 0.102298[sec]\n",
      "epoch:[136/600] [Discriminator::d_loss: 0.629399],[Generator::loss: 0.777483], 0.107906[sec]\n",
      "epoch:[137/600] [Discriminator::d_loss: 0.570247],[Generator::loss: 0.740585], 0.103682[sec]\n",
      "epoch:[138/600] [Discriminator::d_loss: 0.786387],[Generator::loss: 1.390253], 0.104151[sec]\n",
      "epoch:[139/600] [Discriminator::d_loss: 0.630909],[Generator::loss: 1.189568], 0.104679[sec]\n",
      "epoch:[140/600] [Discriminator::d_loss: 0.466474],[Generator::loss: 1.042384], 0.102699[sec]\n",
      "epoch:[141/600] [Discriminator::d_loss: 0.637885],[Generator::loss: 0.534545], 0.108854[sec]\n",
      "epoch:[142/600] [Discriminator::d_loss: 0.691025],[Generator::loss: 1.026122], 0.163607[sec]\n",
      "epoch:[143/600] [Discriminator::d_loss: 0.517334],[Generator::loss: 0.847290], 0.125807[sec]\n",
      "epoch:[144/600] [Discriminator::d_loss: 0.706442],[Generator::loss: 0.849424], 0.104782[sec]\n",
      "epoch:[145/600] [Discriminator::d_loss: 0.591811],[Generator::loss: 0.880382], 0.103204[sec]\n",
      "epoch:[146/600] [Discriminator::d_loss: 0.629156],[Generator::loss: 0.728845], 0.105905[sec]\n",
      "epoch:[147/600] [Discriminator::d_loss: 0.460346],[Generator::loss: 0.890932], 0.105324[sec]\n",
      "epoch:[148/600] [Discriminator::d_loss: 0.601342],[Generator::loss: 0.693018], 0.123964[sec]\n",
      "epoch:[149/600] [Discriminator::d_loss: 0.746977],[Generator::loss: 0.721433], 0.165589[sec]\n",
      "epoch:[150/600] [Discriminator::d_loss: 0.491736],[Generator::loss: 0.956295], 0.107082[sec]\n",
      "epoch:[151/600] [Discriminator::d_loss: 0.711074],[Generator::loss: 0.948297], 0.105890[sec]\n",
      "epoch:[152/600] [Discriminator::d_loss: 0.668255],[Generator::loss: 0.961040], 0.103019[sec]\n",
      "epoch:[153/600] [Discriminator::d_loss: 0.527572],[Generator::loss: 0.994246], 0.127926[sec]\n",
      "epoch:[154/600] [Discriminator::d_loss: 0.598814],[Generator::loss: 0.804760], 0.181906[sec]\n",
      "epoch:[155/600] [Discriminator::d_loss: 0.560622],[Generator::loss: 0.573815], 0.113734[sec]\n",
      "epoch:[156/600] [Discriminator::d_loss: 0.699191],[Generator::loss: 0.716080], 0.117704[sec]\n",
      "epoch:[157/600] [Discriminator::d_loss: 0.523721],[Generator::loss: 0.678966], 0.113623[sec]\n",
      "epoch:[158/600] [Discriminator::d_loss: 0.657524],[Generator::loss: 0.710089], 0.116171[sec]\n",
      "epoch:[159/600] [Discriminator::d_loss: 0.579266],[Generator::loss: 0.739330], 0.111665[sec]\n",
      "epoch:[160/600] [Discriminator::d_loss: 0.531524],[Generator::loss: 0.595654], 0.189735[sec]\n",
      "epoch:[161/600] [Discriminator::d_loss: 0.592374],[Generator::loss: 0.624090], 0.117430[sec]\n",
      "epoch:[162/600] [Discriminator::d_loss: 0.682765],[Generator::loss: 0.759027], 0.115233[sec]\n",
      "epoch:[163/600] [Discriminator::d_loss: 0.637940],[Generator::loss: 0.856003], 0.113305[sec]\n",
      "epoch:[164/600] [Discriminator::d_loss: 0.604502],[Generator::loss: 0.888241], 0.111891[sec]\n",
      "epoch:[165/600] [Discriminator::d_loss: 0.626204],[Generator::loss: 0.569850], 0.107311[sec]\n",
      "epoch:[166/600] [Discriminator::d_loss: 0.546105],[Generator::loss: 0.531305], 0.106031[sec]\n",
      "epoch:[167/600] [Discriminator::d_loss: 0.805878],[Generator::loss: 1.055210], 0.111928[sec]\n",
      "epoch:[168/600] [Discriminator::d_loss: 0.569736],[Generator::loss: 0.954882], 0.103182[sec]\n",
      "epoch:[169/600] [Discriminator::d_loss: 0.645928],[Generator::loss: 0.973371], 0.106175[sec]\n",
      "epoch:[170/600] [Discriminator::d_loss: 0.560402],[Generator::loss: 0.789977], 0.104541[sec]\n",
      "epoch:[171/600] [Discriminator::d_loss: 0.735404],[Generator::loss: 0.690113], 0.103801[sec]\n",
      "epoch:[172/600] [Discriminator::d_loss: 0.664782],[Generator::loss: 0.890038], 0.114479[sec]\n",
      "epoch:[173/600] [Discriminator::d_loss: 0.594756],[Generator::loss: 0.939626], 0.103207[sec]\n",
      "epoch:[174/600] [Discriminator::d_loss: 0.743929],[Generator::loss: 0.990252], 0.106310[sec]\n",
      "epoch:[175/600] [Discriminator::d_loss: 0.542475],[Generator::loss: 0.924151], 0.104927[sec]\n",
      "epoch:[176/600] [Discriminator::d_loss: 0.715687],[Generator::loss: 0.486524], 0.108581[sec]\n",
      "epoch:[177/600] [Discriminator::d_loss: 0.709348],[Generator::loss: 0.865872], 0.103484[sec]\n",
      "epoch:[178/600] [Discriminator::d_loss: 0.727455],[Generator::loss: 0.736219], 0.102665[sec]\n",
      "epoch:[179/600] [Discriminator::d_loss: 0.560733],[Generator::loss: 0.931216], 0.104714[sec]\n"
     ]
    },
    {
     "name": "stdout",
     "output_type": "stream",
     "text": [
      "epoch:[180/600] [Discriminator::d_loss: 0.602741],[Generator::loss: 0.836610], 0.122325[sec]\n",
      "epoch:[181/600] [Discriminator::d_loss: 0.574603],[Generator::loss: 0.672281], 0.107146[sec]\n",
      "epoch:[182/600] [Discriminator::d_loss: 0.632360],[Generator::loss: 0.985549], 0.104741[sec]\n",
      "epoch:[183/600] [Discriminator::d_loss: 0.703898],[Generator::loss: 0.522372], 0.101461[sec]\n",
      "epoch:[184/600] [Discriminator::d_loss: 0.651523],[Generator::loss: 0.633564], 0.105457[sec]\n",
      "epoch:[185/600] [Discriminator::d_loss: 0.469421],[Generator::loss: 0.657598], 0.107155[sec]\n",
      "epoch:[186/600] [Discriminator::d_loss: 0.571648],[Generator::loss: 0.988564], 0.110134[sec]\n",
      "epoch:[187/600] [Discriminator::d_loss: 0.621439],[Generator::loss: 0.537512], 0.104732[sec]\n",
      "epoch:[188/600] [Discriminator::d_loss: 0.785210],[Generator::loss: 0.753311], 0.112095[sec]\n",
      "epoch:[189/600] [Discriminator::d_loss: 0.697114],[Generator::loss: 1.159746], 0.114335[sec]\n",
      "epoch:[190/600] [Discriminator::d_loss: 0.607111],[Generator::loss: 0.594557], 0.116675[sec]\n",
      "epoch:[191/600] [Discriminator::d_loss: 0.564845],[Generator::loss: 0.696933], 0.112767[sec]\n",
      "epoch:[192/600] [Discriminator::d_loss: 0.590219],[Generator::loss: 0.882349], 0.103334[sec]\n",
      "epoch:[193/600] [Discriminator::d_loss: 0.604257],[Generator::loss: 1.086390], 0.104702[sec]\n",
      "epoch:[194/600] [Discriminator::d_loss: 0.672259],[Generator::loss: 0.457672], 0.121069[sec]\n",
      "epoch:[195/600] [Discriminator::d_loss: 0.653366],[Generator::loss: 0.571943], 0.116753[sec]\n",
      "epoch:[196/600] [Discriminator::d_loss: 0.622422],[Generator::loss: 0.615760], 0.106445[sec]\n",
      "epoch:[197/600] [Discriminator::d_loss: 0.651774],[Generator::loss: 1.106512], 0.103223[sec]\n",
      "epoch:[198/600] [Discriminator::d_loss: 0.654829],[Generator::loss: 0.741302], 0.112520[sec]\n",
      "epoch:[199/600] [Discriminator::d_loss: 0.607312],[Generator::loss: 0.969883], 0.116281[sec]\n",
      "epoch:[200/600] [Discriminator::d_loss: 0.630964],[Generator::loss: 0.997567], 0.122140[sec]\n",
      "epoch:[201/600] [Discriminator::d_loss: 0.572702],[Generator::loss: 1.034832], 0.116888[sec]\n",
      "epoch:[202/600] [Discriminator::d_loss: 0.588216],[Generator::loss: 0.599152], 0.114912[sec]\n",
      "epoch:[203/600] [Discriminator::d_loss: 0.668840],[Generator::loss: 0.875579], 0.111670[sec]\n",
      "epoch:[204/600] [Discriminator::d_loss: 0.640890],[Generator::loss: 0.789501], 0.108257[sec]\n",
      "epoch:[205/600] [Discriminator::d_loss: 0.544318],[Generator::loss: 0.820774], 0.112221[sec]\n",
      "epoch:[206/600] [Discriminator::d_loss: 0.613315],[Generator::loss: 0.848983], 0.174267[sec]\n",
      "epoch:[207/600] [Discriminator::d_loss: 0.618454],[Generator::loss: 0.563006], 0.168713[sec]\n",
      "epoch:[208/600] [Discriminator::d_loss: 0.707240],[Generator::loss: 0.615135], 0.106153[sec]\n",
      "epoch:[209/600] [Discriminator::d_loss: 0.663214],[Generator::loss: 0.766593], 0.106774[sec]\n",
      "epoch:[210/600] [Discriminator::d_loss: 0.636256],[Generator::loss: 0.766089], 0.108891[sec]\n",
      "epoch:[211/600] [Discriminator::d_loss: 0.611362],[Generator::loss: 0.537712], 0.107970[sec]\n",
      "epoch:[212/600] [Discriminator::d_loss: 0.696886],[Generator::loss: 0.602638], 0.116429[sec]\n",
      "epoch:[213/600] [Discriminator::d_loss: 0.602674],[Generator::loss: 1.017207], 0.114963[sec]\n",
      "epoch:[214/600] [Discriminator::d_loss: 0.605715],[Generator::loss: 0.778796], 0.106057[sec]\n",
      "epoch:[215/600] [Discriminator::d_loss: 0.625201],[Generator::loss: 0.892179], 0.144052[sec]\n",
      "epoch:[216/600] [Discriminator::d_loss: 0.655280],[Generator::loss: 0.987161], 0.106649[sec]\n",
      "epoch:[217/600] [Discriminator::d_loss: 0.741932],[Generator::loss: 0.952353], 0.116735[sec]\n",
      "epoch:[218/600] [Discriminator::d_loss: 0.607730],[Generator::loss: 0.887028], 0.147930[sec]\n",
      "epoch:[219/600] [Discriminator::d_loss: 0.594439],[Generator::loss: 0.752750], 0.177229[sec]\n",
      "epoch:[220/600] [Discriminator::d_loss: 0.607554],[Generator::loss: 0.617736], 0.205121[sec]\n",
      "epoch:[221/600] [Discriminator::d_loss: 0.495481],[Generator::loss: 0.791519], 0.178741[sec]\n",
      "epoch:[222/600] [Discriminator::d_loss: 0.627928],[Generator::loss: 0.826269], 0.126883[sec]\n",
      "epoch:[223/600] [Discriminator::d_loss: 0.704050],[Generator::loss: 0.846319], 0.110002[sec]\n",
      "epoch:[224/600] [Discriminator::d_loss: 0.675634],[Generator::loss: 0.879996], 0.111681[sec]\n",
      "epoch:[225/600] [Discriminator::d_loss: 0.599736],[Generator::loss: 0.801220], 0.128079[sec]\n",
      "epoch:[226/600] [Discriminator::d_loss: 0.557035],[Generator::loss: 0.890740], 0.153131[sec]\n",
      "epoch:[227/600] [Discriminator::d_loss: 0.671658],[Generator::loss: 0.781010], 0.118259[sec]\n",
      "epoch:[228/600] [Discriminator::d_loss: 0.626801],[Generator::loss: 0.709088], 0.101992[sec]\n",
      "epoch:[229/600] [Discriminator::d_loss: 0.633227],[Generator::loss: 0.831497], 0.106040[sec]\n",
      "epoch:[230/600] [Discriminator::d_loss: 0.765240],[Generator::loss: 0.594281], 0.135554[sec]\n",
      "epoch:[231/600] [Discriminator::d_loss: 0.575041],[Generator::loss: 0.764795], 0.146979[sec]\n",
      "epoch:[232/600] [Discriminator::d_loss: 0.631271],[Generator::loss: 0.848708], 0.132709[sec]\n",
      "epoch:[233/600] [Discriminator::d_loss: 0.541374],[Generator::loss: 0.633280], 0.101751[sec]\n",
      "epoch:[234/600] [Discriminator::d_loss: 0.761709],[Generator::loss: 0.809574], 0.109360[sec]\n",
      "epoch:[235/600] [Discriminator::d_loss: 0.666609],[Generator::loss: 0.917001], 0.173764[sec]\n",
      "epoch:[236/600] [Discriminator::d_loss: 0.726941],[Generator::loss: 0.815075], 0.100830[sec]\n",
      "epoch:[237/600] [Discriminator::d_loss: 0.511657],[Generator::loss: 0.726253], 0.124336[sec]\n",
      "epoch:[238/600] [Discriminator::d_loss: 0.751263],[Generator::loss: 0.953886], 0.148618[sec]\n",
      "epoch:[239/600] [Discriminator::d_loss: 0.648561],[Generator::loss: 0.916929], 0.104646[sec]\n",
      "epoch:[240/600] [Discriminator::d_loss: 0.550308],[Generator::loss: 0.614628], 0.100145[sec]\n",
      "epoch:[241/600] [Discriminator::d_loss: 0.586659],[Generator::loss: 1.129490], 0.097935[sec]\n",
      "epoch:[242/600] [Discriminator::d_loss: 0.599417],[Generator::loss: 0.678614], 0.143977[sec]\n",
      "epoch:[243/600] [Discriminator::d_loss: 0.564932],[Generator::loss: 0.855506], 0.104392[sec]\n",
      "epoch:[244/600] [Discriminator::d_loss: 0.609083],[Generator::loss: 0.933020], 0.097051[sec]\n",
      "epoch:[245/600] [Discriminator::d_loss: 0.833559],[Generator::loss: 0.965946], 0.101123[sec]\n",
      "epoch:[246/600] [Discriminator::d_loss: 0.603597],[Generator::loss: 0.842765], 0.109691[sec]\n",
      "epoch:[247/600] [Discriminator::d_loss: 0.650081],[Generator::loss: 0.701108], 0.103307[sec]\n",
      "epoch:[248/600] [Discriminator::d_loss: 0.613645],[Generator::loss: 0.970561], 0.113169[sec]\n",
      "epoch:[249/600] [Discriminator::d_loss: 0.567004],[Generator::loss: 0.509076], 0.139944[sec]\n",
      "epoch:[250/600] [Discriminator::d_loss: 0.654627],[Generator::loss: 0.682695], 0.101376[sec]\n",
      "epoch:[251/600] [Discriminator::d_loss: 0.728295],[Generator::loss: 1.020523], 0.102084[sec]\n",
      "epoch:[252/600] [Discriminator::d_loss: 0.641796],[Generator::loss: 0.902698], 0.103727[sec]\n",
      "epoch:[253/600] [Discriminator::d_loss: 0.680914],[Generator::loss: 0.725148], 0.146567[sec]\n",
      "epoch:[254/600] [Discriminator::d_loss: 0.697804],[Generator::loss: 0.755635], 0.131199[sec]\n",
      "epoch:[255/600] [Discriminator::d_loss: 0.621572],[Generator::loss: 0.457681], 0.151281[sec]\n",
      "epoch:[256/600] [Discriminator::d_loss: 0.700669],[Generator::loss: 1.016848], 0.208615[sec]\n",
      "epoch:[257/600] [Discriminator::d_loss: 0.606516],[Generator::loss: 0.672471], 0.154475[sec]\n",
      "epoch:[258/600] [Discriminator::d_loss: 0.633863],[Generator::loss: 0.971556], 0.106633[sec]\n",
      "epoch:[259/600] [Discriminator::d_loss: 0.638299],[Generator::loss: 0.906985], 0.112808[sec]\n",
      "epoch:[260/600] [Discriminator::d_loss: 0.660860],[Generator::loss: 0.843936], 0.111203[sec]\n",
      "epoch:[261/600] [Discriminator::d_loss: 0.600194],[Generator::loss: 0.661796], 0.110250[sec]\n",
      "epoch:[262/600] [Discriminator::d_loss: 0.705237],[Generator::loss: 0.947372], 0.120746[sec]\n",
      "epoch:[263/600] [Discriminator::d_loss: 0.710696],[Generator::loss: 0.795660], 0.110889[sec]\n",
      "epoch:[264/600] [Discriminator::d_loss: 0.728121],[Generator::loss: 1.090180], 0.104511[sec]\n",
      "epoch:[265/600] [Discriminator::d_loss: 0.637189],[Generator::loss: 0.849278], 0.124936[sec]\n",
      "epoch:[266/600] [Discriminator::d_loss: 0.602020],[Generator::loss: 0.692770], 0.155390[sec]\n",
      "epoch:[267/600] [Discriminator::d_loss: 0.625420],[Generator::loss: 0.632567], 0.141150[sec]\n",
      "epoch:[268/600] [Discriminator::d_loss: 0.587081],[Generator::loss: 0.777106], 0.103959[sec]\n",
      "epoch:[269/600] [Discriminator::d_loss: 0.728584],[Generator::loss: 0.646186], 0.110259[sec]\n"
     ]
    },
    {
     "name": "stdout",
     "output_type": "stream",
     "text": [
      "epoch:[270/600] [Discriminator::d_loss: 0.596565],[Generator::loss: 0.836625], 0.127709[sec]\n",
      "epoch:[271/600] [Discriminator::d_loss: 0.681035],[Generator::loss: 0.498565], 0.120155[sec]\n",
      "epoch:[272/600] [Discriminator::d_loss: 0.584536],[Generator::loss: 0.673569], 0.102626[sec]\n",
      "epoch:[273/600] [Discriminator::d_loss: 0.637012],[Generator::loss: 0.683842], 0.099671[sec]\n",
      "epoch:[274/600] [Discriminator::d_loss: 0.672423],[Generator::loss: 0.707619], 0.098396[sec]\n",
      "epoch:[275/600] [Discriminator::d_loss: 0.658742],[Generator::loss: 0.849935], 0.107786[sec]\n",
      "epoch:[276/600] [Discriminator::d_loss: 0.643854],[Generator::loss: 0.762273], 0.116580[sec]\n",
      "epoch:[277/600] [Discriminator::d_loss: 0.562389],[Generator::loss: 0.798071], 0.097218[sec]\n",
      "epoch:[278/600] [Discriminator::d_loss: 0.658559],[Generator::loss: 0.786508], 0.107691[sec]\n",
      "epoch:[279/600] [Discriminator::d_loss: 0.620356],[Generator::loss: 0.761378], 0.163629[sec]\n",
      "epoch:[280/600] [Discriminator::d_loss: 0.668306],[Generator::loss: 0.680903], 0.101709[sec]\n",
      "epoch:[281/600] [Discriminator::d_loss: 0.516282],[Generator::loss: 0.965920], 0.103187[sec]\n",
      "epoch:[282/600] [Discriminator::d_loss: 0.506253],[Generator::loss: 0.790067], 0.118377[sec]\n",
      "epoch:[283/600] [Discriminator::d_loss: 0.639255],[Generator::loss: 0.655445], 0.106049[sec]\n",
      "epoch:[284/600] [Discriminator::d_loss: 0.596129],[Generator::loss: 0.723343], 0.108818[sec]\n",
      "epoch:[285/600] [Discriminator::d_loss: 0.664643],[Generator::loss: 0.971861], 0.124297[sec]\n",
      "epoch:[286/600] [Discriminator::d_loss: 0.651636],[Generator::loss: 0.616058], 0.102198[sec]\n",
      "epoch:[287/600] [Discriminator::d_loss: 0.607878],[Generator::loss: 0.814239], 0.103853[sec]\n",
      "epoch:[288/600] [Discriminator::d_loss: 0.460115],[Generator::loss: 0.673061], 0.110085[sec]\n",
      "epoch:[289/600] [Discriminator::d_loss: 0.610139],[Generator::loss: 0.590731], 0.101670[sec]\n",
      "epoch:[290/600] [Discriminator::d_loss: 0.631467],[Generator::loss: 0.793480], 0.097462[sec]\n",
      "epoch:[291/600] [Discriminator::d_loss: 0.603844],[Generator::loss: 0.560842], 0.097064[sec]\n",
      "epoch:[292/600] [Discriminator::d_loss: 0.630187],[Generator::loss: 0.788001], 0.102136[sec]\n",
      "epoch:[293/600] [Discriminator::d_loss: 0.655245],[Generator::loss: 0.520531], 0.140079[sec]\n",
      "epoch:[294/600] [Discriminator::d_loss: 0.657370],[Generator::loss: 0.578638], 0.138921[sec]\n",
      "epoch:[295/600] [Discriminator::d_loss: 0.662227],[Generator::loss: 0.568597], 0.136722[sec]\n",
      "epoch:[296/600] [Discriminator::d_loss: 0.609323],[Generator::loss: 0.707069], 0.103893[sec]\n",
      "epoch:[297/600] [Discriminator::d_loss: 0.683848],[Generator::loss: 0.841310], 0.106243[sec]\n",
      "epoch:[298/600] [Discriminator::d_loss: 0.654553],[Generator::loss: 0.752607], 0.099038[sec]\n",
      "epoch:[299/600] [Discriminator::d_loss: 0.558026],[Generator::loss: 1.189858], 0.099922[sec]\n",
      "epoch:[300/600] [Discriminator::d_loss: 0.706316],[Generator::loss: 0.599604], 0.106696[sec]\n",
      "epoch:[301/600] [Discriminator::d_loss: 0.693318],[Generator::loss: 0.793201], 0.107029[sec]\n",
      "epoch:[302/600] [Discriminator::d_loss: 0.656834],[Generator::loss: 0.834943], 0.114779[sec]\n",
      "epoch:[303/600] [Discriminator::d_loss: 0.563277],[Generator::loss: 0.787852], 0.106560[sec]\n",
      "epoch:[304/600] [Discriminator::d_loss: 0.776207],[Generator::loss: 0.821248], 0.107751[sec]\n",
      "epoch:[305/600] [Discriminator::d_loss: 0.749015],[Generator::loss: 0.769665], 0.106539[sec]\n",
      "epoch:[306/600] [Discriminator::d_loss: 0.675497],[Generator::loss: 1.060415], 0.107225[sec]\n",
      "epoch:[307/600] [Discriminator::d_loss: 0.561089],[Generator::loss: 0.841873], 0.107452[sec]\n",
      "epoch:[308/600] [Discriminator::d_loss: 0.700832],[Generator::loss: 0.802294], 0.102541[sec]\n",
      "epoch:[309/600] [Discriminator::d_loss: 0.624014],[Generator::loss: 0.642119], 0.101545[sec]\n",
      "epoch:[310/600] [Discriminator::d_loss: 0.627901],[Generator::loss: 0.761911], 0.098799[sec]\n",
      "epoch:[311/600] [Discriminator::d_loss: 0.678350],[Generator::loss: 0.923123], 0.098105[sec]\n",
      "epoch:[312/600] [Discriminator::d_loss: 0.727113],[Generator::loss: 0.908836], 0.119817[sec]\n",
      "epoch:[313/600] [Discriminator::d_loss: 0.601359],[Generator::loss: 0.708253], 0.097601[sec]\n",
      "epoch:[314/600] [Discriminator::d_loss: 0.817690],[Generator::loss: 0.885898], 0.097930[sec]\n",
      "epoch:[315/600] [Discriminator::d_loss: 0.622194],[Generator::loss: 0.877295], 0.104645[sec]\n",
      "epoch:[316/600] [Discriminator::d_loss: 0.583730],[Generator::loss: 0.713531], 0.098657[sec]\n",
      "epoch:[317/600] [Discriminator::d_loss: 0.537093],[Generator::loss: 0.697389], 0.103316[sec]\n",
      "epoch:[318/600] [Discriminator::d_loss: 0.687490],[Generator::loss: 1.006819], 0.097884[sec]\n",
      "epoch:[319/600] [Discriminator::d_loss: 0.707125],[Generator::loss: 0.747608], 0.107360[sec]\n",
      "epoch:[320/600] [Discriminator::d_loss: 0.646518],[Generator::loss: 0.897719], 0.099975[sec]\n",
      "epoch:[321/600] [Discriminator::d_loss: 0.626392],[Generator::loss: 0.784467], 0.100430[sec]\n",
      "epoch:[322/600] [Discriminator::d_loss: 0.720582],[Generator::loss: 0.513844], 0.097603[sec]\n",
      "epoch:[323/600] [Discriminator::d_loss: 0.723620],[Generator::loss: 0.566833], 0.097356[sec]\n",
      "epoch:[324/600] [Discriminator::d_loss: 0.706283],[Generator::loss: 0.809528], 0.145960[sec]\n",
      "epoch:[325/600] [Discriminator::d_loss: 0.742187],[Generator::loss: 0.925817], 0.133948[sec]\n",
      "epoch:[326/600] [Discriminator::d_loss: 0.664527],[Generator::loss: 0.652689], 0.102405[sec]\n",
      "epoch:[327/600] [Discriminator::d_loss: 0.715452],[Generator::loss: 0.542656], 0.102410[sec]\n",
      "epoch:[328/600] [Discriminator::d_loss: 0.670061],[Generator::loss: 0.593312], 0.109315[sec]\n",
      "epoch:[329/600] [Discriminator::d_loss: 0.792953],[Generator::loss: 0.694904], 0.110274[sec]\n",
      "epoch:[330/600] [Discriminator::d_loss: 0.625113],[Generator::loss: 1.072928], 0.109498[sec]\n",
      "epoch:[331/600] [Discriminator::d_loss: 0.610909],[Generator::loss: 0.875023], 0.105530[sec]\n",
      "epoch:[332/600] [Discriminator::d_loss: 0.571944],[Generator::loss: 0.685850], 0.108227[sec]\n",
      "epoch:[333/600] [Discriminator::d_loss: 0.603859],[Generator::loss: 0.663096], 0.108204[sec]\n",
      "epoch:[334/600] [Discriminator::d_loss: 0.788171],[Generator::loss: 0.683097], 0.108767[sec]\n",
      "epoch:[335/600] [Discriminator::d_loss: 0.849481],[Generator::loss: 0.692373], 0.104008[sec]\n",
      "epoch:[336/600] [Discriminator::d_loss: 0.635697],[Generator::loss: 0.518165], 0.111738[sec]\n",
      "epoch:[337/600] [Discriminator::d_loss: 0.781743],[Generator::loss: 0.921121], 0.103212[sec]\n",
      "epoch:[338/600] [Discriminator::d_loss: 0.619205],[Generator::loss: 0.712759], 0.106272[sec]\n",
      "epoch:[339/600] [Discriminator::d_loss: 0.636613],[Generator::loss: 0.844566], 0.117541[sec]\n",
      "epoch:[340/600] [Discriminator::d_loss: 0.722480],[Generator::loss: 0.873203], 0.097990[sec]\n",
      "epoch:[341/600] [Discriminator::d_loss: 0.664232],[Generator::loss: 0.887139], 0.099905[sec]\n",
      "epoch:[342/600] [Discriminator::d_loss: 0.672683],[Generator::loss: 0.773811], 0.108389[sec]\n",
      "epoch:[343/600] [Discriminator::d_loss: 0.660607],[Generator::loss: 0.807941], 0.103049[sec]\n",
      "epoch:[344/600] [Discriminator::d_loss: 0.617904],[Generator::loss: 0.830984], 0.101897[sec]\n",
      "epoch:[345/600] [Discriminator::d_loss: 0.633991],[Generator::loss: 0.695010], 0.099493[sec]\n",
      "epoch:[346/600] [Discriminator::d_loss: 0.539596],[Generator::loss: 0.849273], 0.107383[sec]\n",
      "epoch:[347/600] [Discriminator::d_loss: 0.650074],[Generator::loss: 0.632224], 0.109001[sec]\n",
      "epoch:[348/600] [Discriminator::d_loss: 0.632587],[Generator::loss: 0.715613], 0.160303[sec]\n",
      "epoch:[349/600] [Discriminator::d_loss: 0.552723],[Generator::loss: 0.698891], 0.132800[sec]\n",
      "epoch:[350/600] [Discriminator::d_loss: 0.651384],[Generator::loss: 0.786958], 0.105047[sec]\n",
      "epoch:[351/600] [Discriminator::d_loss: 0.655885],[Generator::loss: 0.844177], 0.115494[sec]\n",
      "epoch:[352/600] [Discriminator::d_loss: 0.599304],[Generator::loss: 0.807106], 0.105508[sec]\n",
      "epoch:[353/600] [Discriminator::d_loss: 0.580221],[Generator::loss: 0.747505], 0.107784[sec]\n",
      "epoch:[354/600] [Discriminator::d_loss: 0.631336],[Generator::loss: 0.815881], 0.104989[sec]\n",
      "epoch:[355/600] [Discriminator::d_loss: 0.760118],[Generator::loss: 0.783532], 0.104007[sec]\n",
      "epoch:[356/600] [Discriminator::d_loss: 0.607360],[Generator::loss: 0.759180], 0.105016[sec]\n",
      "epoch:[357/600] [Discriminator::d_loss: 0.642873],[Generator::loss: 0.794921], 0.108060[sec]\n",
      "epoch:[358/600] [Discriminator::d_loss: 0.566692],[Generator::loss: 0.641438], 0.107828[sec]\n",
      "epoch:[359/600] [Discriminator::d_loss: 0.615568],[Generator::loss: 0.996838], 0.102158[sec]\n"
     ]
    },
    {
     "name": "stdout",
     "output_type": "stream",
     "text": [
      "epoch:[360/600] [Discriminator::d_loss: 0.650607],[Generator::loss: 0.849649], 0.105338[sec]\n",
      "epoch:[361/600] [Discriminator::d_loss: 0.693811],[Generator::loss: 0.786412], 0.103983[sec]\n",
      "epoch:[362/600] [Discriminator::d_loss: 0.613370],[Generator::loss: 0.734486], 0.107002[sec]\n",
      "epoch:[363/600] [Discriminator::d_loss: 0.752345],[Generator::loss: 0.910609], 0.101720[sec]\n",
      "epoch:[364/600] [Discriminator::d_loss: 0.658673],[Generator::loss: 0.684802], 0.140131[sec]\n",
      "epoch:[365/600] [Discriminator::d_loss: 0.679634],[Generator::loss: 0.654902], 0.112510[sec]\n",
      "epoch:[366/600] [Discriminator::d_loss: 0.658774],[Generator::loss: 0.739004], 0.109300[sec]\n",
      "epoch:[367/600] [Discriminator::d_loss: 0.593048],[Generator::loss: 0.752195], 0.114681[sec]\n",
      "epoch:[368/600] [Discriminator::d_loss: 0.714737],[Generator::loss: 0.959353], 0.110994[sec]\n",
      "epoch:[369/600] [Discriminator::d_loss: 0.596357],[Generator::loss: 0.956651], 0.108036[sec]\n",
      "epoch:[370/600] [Discriminator::d_loss: 0.706247],[Generator::loss: 0.902111], 0.109712[sec]\n",
      "epoch:[371/600] [Discriminator::d_loss: 0.668527],[Generator::loss: 0.776596], 0.147747[sec]\n",
      "epoch:[372/600] [Discriminator::d_loss: 0.589689],[Generator::loss: 0.813628], 0.198756[sec]\n",
      "epoch:[373/600] [Discriminator::d_loss: 0.739295],[Generator::loss: 0.651681], 0.137575[sec]\n",
      "epoch:[374/600] [Discriminator::d_loss: 0.641685],[Generator::loss: 0.724476], 0.104732[sec]\n",
      "epoch:[375/600] [Discriminator::d_loss: 0.771194],[Generator::loss: 0.882583], 0.105840[sec]\n",
      "epoch:[376/600] [Discriminator::d_loss: 0.626814],[Generator::loss: 1.013452], 0.104256[sec]\n",
      "epoch:[377/600] [Discriminator::d_loss: 0.710033],[Generator::loss: 0.568257], 0.102298[sec]\n",
      "epoch:[378/600] [Discriminator::d_loss: 0.666418],[Generator::loss: 0.842566], 0.098982[sec]\n",
      "epoch:[379/600] [Discriminator::d_loss: 0.666648],[Generator::loss: 0.746870], 0.098822[sec]\n",
      "epoch:[380/600] [Discriminator::d_loss: 0.659566],[Generator::loss: 0.597235], 0.109236[sec]\n",
      "epoch:[381/600] [Discriminator::d_loss: 0.617204],[Generator::loss: 0.745154], 0.100696[sec]\n",
      "epoch:[382/600] [Discriminator::d_loss: 0.638746],[Generator::loss: 0.719014], 0.099996[sec]\n",
      "epoch:[383/600] [Discriminator::d_loss: 0.577976],[Generator::loss: 1.010150], 0.121855[sec]\n",
      "epoch:[384/600] [Discriminator::d_loss: 0.721021],[Generator::loss: 0.894106], 0.155119[sec]\n",
      "epoch:[385/600] [Discriminator::d_loss: 0.647301],[Generator::loss: 0.626359], 0.136028[sec]\n",
      "epoch:[386/600] [Discriminator::d_loss: 0.642379],[Generator::loss: 0.794646], 0.143924[sec]\n",
      "epoch:[387/600] [Discriminator::d_loss: 0.761264],[Generator::loss: 0.913079], 0.102369[sec]\n",
      "epoch:[388/600] [Discriminator::d_loss: 0.644910],[Generator::loss: 0.736071], 0.103240[sec]\n",
      "epoch:[389/600] [Discriminator::d_loss: 0.599198],[Generator::loss: 0.995750], 0.101946[sec]\n",
      "epoch:[390/600] [Discriminator::d_loss: 0.635334],[Generator::loss: 0.705323], 0.099831[sec]\n",
      "epoch:[391/600] [Discriminator::d_loss: 0.776382],[Generator::loss: 0.609543], 0.098238[sec]\n",
      "epoch:[392/600] [Discriminator::d_loss: 0.745094],[Generator::loss: 0.827785], 0.103984[sec]\n",
      "epoch:[393/600] [Discriminator::d_loss: 0.573040],[Generator::loss: 0.606370], 0.097085[sec]\n",
      "epoch:[394/600] [Discriminator::d_loss: 0.672273],[Generator::loss: 0.719247], 0.147298[sec]\n",
      "epoch:[395/600] [Discriminator::d_loss: 0.592065],[Generator::loss: 0.637473], 0.099112[sec]\n",
      "epoch:[396/600] [Discriminator::d_loss: 0.660366],[Generator::loss: 0.887046], 0.106694[sec]\n",
      "epoch:[397/600] [Discriminator::d_loss: 0.662138],[Generator::loss: 0.714970], 0.105246[sec]\n",
      "epoch:[398/600] [Discriminator::d_loss: 0.562425],[Generator::loss: 0.713990], 0.112134[sec]\n",
      "epoch:[399/600] [Discriminator::d_loss: 0.637154],[Generator::loss: 0.762589], 0.106467[sec]\n",
      "epoch:[400/600] [Discriminator::d_loss: 0.751964],[Generator::loss: 0.833956], 0.107598[sec]\n",
      "epoch:[401/600] [Discriminator::d_loss: 0.766910],[Generator::loss: 0.571424], 0.116750[sec]\n",
      "epoch:[402/600] [Discriminator::d_loss: 0.689820],[Generator::loss: 0.728221], 0.103042[sec]\n",
      "epoch:[403/600] [Discriminator::d_loss: 0.666693],[Generator::loss: 0.775424], 0.106718[sec]\n",
      "epoch:[404/600] [Discriminator::d_loss: 0.669311],[Generator::loss: 0.798621], 0.101814[sec]\n",
      "epoch:[405/600] [Discriminator::d_loss: 0.736327],[Generator::loss: 0.984970], 0.102247[sec]\n",
      "epoch:[406/600] [Discriminator::d_loss: 0.688035],[Generator::loss: 0.769511], 0.102200[sec]\n",
      "epoch:[407/600] [Discriminator::d_loss: 0.639918],[Generator::loss: 0.676470], 0.099256[sec]\n",
      "epoch:[408/600] [Discriminator::d_loss: 0.717625],[Generator::loss: 0.877668], 0.104149[sec]\n",
      "epoch:[409/600] [Discriminator::d_loss: 0.686782],[Generator::loss: 0.658849], 0.101429[sec]\n",
      "epoch:[410/600] [Discriminator::d_loss: 0.704451],[Generator::loss: 0.838341], 0.100226[sec]\n",
      "epoch:[411/600] [Discriminator::d_loss: 0.682320],[Generator::loss: 0.729600], 0.100311[sec]\n",
      "epoch:[412/600] [Discriminator::d_loss: 0.870442],[Generator::loss: 0.938970], 0.098897[sec]\n",
      "epoch:[413/600] [Discriminator::d_loss: 0.651376],[Generator::loss: 0.703154], 0.098545[sec]\n",
      "epoch:[414/600] [Discriminator::d_loss: 0.660252],[Generator::loss: 0.612966], 0.102023[sec]\n",
      "epoch:[415/600] [Discriminator::d_loss: 0.662325],[Generator::loss: 0.857859], 0.099891[sec]\n",
      "epoch:[416/600] [Discriminator::d_loss: 0.738622],[Generator::loss: 0.904543], 0.098312[sec]\n",
      "epoch:[417/600] [Discriminator::d_loss: 0.611107],[Generator::loss: 0.825824], 0.100937[sec]\n",
      "epoch:[418/600] [Discriminator::d_loss: 0.662635],[Generator::loss: 0.588724], 0.097863[sec]\n",
      "epoch:[419/600] [Discriminator::d_loss: 0.696723],[Generator::loss: 0.665757], 0.103612[sec]\n",
      "epoch:[420/600] [Discriminator::d_loss: 0.579500],[Generator::loss: 0.788952], 0.096855[sec]\n",
      "epoch:[421/600] [Discriminator::d_loss: 0.639895],[Generator::loss: 0.745944], 0.097609[sec]\n",
      "epoch:[422/600] [Discriminator::d_loss: 0.644267],[Generator::loss: 0.632299], 0.103248[sec]\n",
      "epoch:[423/600] [Discriminator::d_loss: 0.595413],[Generator::loss: 0.677379], 0.098371[sec]\n",
      "epoch:[424/600] [Discriminator::d_loss: 0.675308],[Generator::loss: 0.688388], 0.104220[sec]\n",
      "epoch:[425/600] [Discriminator::d_loss: 0.662890],[Generator::loss: 0.959899], 0.104460[sec]\n",
      "epoch:[426/600] [Discriminator::d_loss: 0.764335],[Generator::loss: 0.697218], 0.097799[sec]\n",
      "epoch:[427/600] [Discriminator::d_loss: 0.761632],[Generator::loss: 0.708680], 0.099266[sec]\n",
      "epoch:[428/600] [Discriminator::d_loss: 0.522931],[Generator::loss: 0.606267], 0.099498[sec]\n",
      "epoch:[429/600] [Discriminator::d_loss: 0.576480],[Generator::loss: 0.736839], 0.102612[sec]\n",
      "epoch:[430/600] [Discriminator::d_loss: 0.675422],[Generator::loss: 0.730451], 0.099053[sec]\n",
      "epoch:[431/600] [Discriminator::d_loss: 0.653298],[Generator::loss: 0.858976], 0.098723[sec]\n",
      "epoch:[432/600] [Discriminator::d_loss: 0.691801],[Generator::loss: 0.717297], 0.099979[sec]\n",
      "epoch:[433/600] [Discriminator::d_loss: 0.601312],[Generator::loss: 0.671042], 0.097525[sec]\n",
      "epoch:[434/600] [Discriminator::d_loss: 0.730984],[Generator::loss: 0.616542], 0.098070[sec]\n",
      "epoch:[435/600] [Discriminator::d_loss: 0.721167],[Generator::loss: 0.764032], 0.107206[sec]\n",
      "epoch:[436/600] [Discriminator::d_loss: 0.637731],[Generator::loss: 0.652411], 0.098050[sec]\n",
      "epoch:[437/600] [Discriminator::d_loss: 0.664392],[Generator::loss: 0.708921], 0.122294[sec]\n",
      "epoch:[438/600] [Discriminator::d_loss: 0.679617],[Generator::loss: 0.678166], 0.156512[sec]\n",
      "epoch:[439/600] [Discriminator::d_loss: 0.614279],[Generator::loss: 0.894947], 0.110495[sec]\n",
      "epoch:[440/600] [Discriminator::d_loss: 0.681153],[Generator::loss: 0.693527], 0.097385[sec]\n",
      "epoch:[441/600] [Discriminator::d_loss: 0.703949],[Generator::loss: 0.729184], 0.110186[sec]\n",
      "epoch:[442/600] [Discriminator::d_loss: 0.670220],[Generator::loss: 0.904970], 0.105182[sec]\n",
      "epoch:[443/600] [Discriminator::d_loss: 0.653927],[Generator::loss: 0.619892], 0.108745[sec]\n",
      "epoch:[444/600] [Discriminator::d_loss: 0.631357],[Generator::loss: 0.649949], 0.126323[sec]\n",
      "epoch:[445/600] [Discriminator::d_loss: 0.653110],[Generator::loss: 0.748212], 0.117681[sec]\n",
      "epoch:[446/600] [Discriminator::d_loss: 0.542410],[Generator::loss: 0.752890], 0.112901[sec]\n",
      "epoch:[447/600] [Discriminator::d_loss: 0.624236],[Generator::loss: 0.839120], 0.126640[sec]\n",
      "epoch:[448/600] [Discriminator::d_loss: 0.752826],[Generator::loss: 0.843289], 0.117857[sec]\n"
     ]
    },
    {
     "name": "stdout",
     "output_type": "stream",
     "text": [
      "epoch:[449/600] [Discriminator::d_loss: 0.733710],[Generator::loss: 0.572420], 0.110614[sec]\n",
      "epoch:[450/600] [Discriminator::d_loss: 0.761550],[Generator::loss: 0.699270], 0.108487[sec]\n",
      "epoch:[451/600] [Discriminator::d_loss: 0.798004],[Generator::loss: 0.557878], 0.112703[sec]\n",
      "epoch:[452/600] [Discriminator::d_loss: 0.690410],[Generator::loss: 0.663710], 0.100987[sec]\n",
      "epoch:[453/600] [Discriminator::d_loss: 0.651408],[Generator::loss: 0.928013], 0.108279[sec]\n",
      "epoch:[454/600] [Discriminator::d_loss: 0.803532],[Generator::loss: 0.675097], 0.100912[sec]\n",
      "epoch:[455/600] [Discriminator::d_loss: 0.664875],[Generator::loss: 0.865234], 0.103088[sec]\n",
      "epoch:[456/600] [Discriminator::d_loss: 0.674950],[Generator::loss: 0.889040], 0.097854[sec]\n",
      "epoch:[457/600] [Discriminator::d_loss: 0.755876],[Generator::loss: 0.818944], 0.117655[sec]\n",
      "epoch:[458/600] [Discriminator::d_loss: 0.754843],[Generator::loss: 0.533674], 0.104415[sec]\n",
      "epoch:[459/600] [Discriminator::d_loss: 0.717849],[Generator::loss: 0.876507], 0.107018[sec]\n",
      "epoch:[460/600] [Discriminator::d_loss: 0.700008],[Generator::loss: 0.648183], 0.097868[sec]\n",
      "epoch:[461/600] [Discriminator::d_loss: 0.845002],[Generator::loss: 0.837710], 0.102135[sec]\n",
      "epoch:[462/600] [Discriminator::d_loss: 0.718960],[Generator::loss: 0.698043], 0.108693[sec]\n",
      "epoch:[463/600] [Discriminator::d_loss: 0.673141],[Generator::loss: 0.691560], 0.099003[sec]\n",
      "epoch:[464/600] [Discriminator::d_loss: 0.646692],[Generator::loss: 0.706987], 0.103045[sec]\n",
      "epoch:[465/600] [Discriminator::d_loss: 0.784915],[Generator::loss: 0.710120], 0.099553[sec]\n",
      "epoch:[466/600] [Discriminator::d_loss: 0.631582],[Generator::loss: 0.511475], 0.097067[sec]\n",
      "epoch:[467/600] [Discriminator::d_loss: 0.754863],[Generator::loss: 0.670884], 0.098540[sec]\n",
      "epoch:[468/600] [Discriminator::d_loss: 0.727933],[Generator::loss: 0.662118], 0.100039[sec]\n",
      "epoch:[469/600] [Discriminator::d_loss: 0.786257],[Generator::loss: 0.713881], 0.103619[sec]\n",
      "epoch:[470/600] [Discriminator::d_loss: 0.683401],[Generator::loss: 0.559974], 0.097780[sec]\n",
      "epoch:[471/600] [Discriminator::d_loss: 0.734270],[Generator::loss: 0.858628], 0.098285[sec]\n",
      "epoch:[472/600] [Discriminator::d_loss: 0.696809],[Generator::loss: 0.689818], 0.110819[sec]\n",
      "epoch:[473/600] [Discriminator::d_loss: 0.622856],[Generator::loss: 0.644694], 0.097669[sec]\n",
      "epoch:[474/600] [Discriminator::d_loss: 0.736643],[Generator::loss: 0.970678], 0.099314[sec]\n",
      "epoch:[475/600] [Discriminator::d_loss: 0.664877],[Generator::loss: 0.630475], 0.099700[sec]\n",
      "epoch:[476/600] [Discriminator::d_loss: 0.734667],[Generator::loss: 0.780846], 0.100531[sec]\n",
      "epoch:[477/600] [Discriminator::d_loss: 0.718374],[Generator::loss: 0.712899], 0.120837[sec]\n",
      "epoch:[478/600] [Discriminator::d_loss: 0.781743],[Generator::loss: 0.571436], 0.178198[sec]\n",
      "epoch:[479/600] [Discriminator::d_loss: 0.627777],[Generator::loss: 0.838507], 0.102517[sec]\n",
      "epoch:[480/600] [Discriminator::d_loss: 0.706187],[Generator::loss: 0.502316], 0.100545[sec]\n",
      "epoch:[481/600] [Discriminator::d_loss: 0.660218],[Generator::loss: 0.659026], 0.113242[sec]\n",
      "epoch:[482/600] [Discriminator::d_loss: 0.696587],[Generator::loss: 0.796376], 0.115489[sec]\n",
      "epoch:[483/600] [Discriminator::d_loss: 0.635850],[Generator::loss: 0.623146], 0.111143[sec]\n",
      "epoch:[484/600] [Discriminator::d_loss: 0.660755],[Generator::loss: 0.633231], 0.118410[sec]\n",
      "epoch:[485/600] [Discriminator::d_loss: 0.665864],[Generator::loss: 0.897174], 0.168206[sec]\n",
      "epoch:[486/600] [Discriminator::d_loss: 0.747093],[Generator::loss: 0.643929], 0.157768[sec]\n",
      "epoch:[487/600] [Discriminator::d_loss: 0.753616],[Generator::loss: 0.798497], 0.146219[sec]\n",
      "epoch:[488/600] [Discriminator::d_loss: 0.703332],[Generator::loss: 0.748442], 0.139003[sec]\n",
      "epoch:[489/600] [Discriminator::d_loss: 0.797665],[Generator::loss: 0.636140], 0.158155[sec]\n",
      "epoch:[490/600] [Discriminator::d_loss: 0.719165],[Generator::loss: 0.920588], 0.137713[sec]\n",
      "epoch:[491/600] [Discriminator::d_loss: 0.678508],[Generator::loss: 0.714724], 0.146942[sec]\n",
      "epoch:[492/600] [Discriminator::d_loss: 0.701859],[Generator::loss: 0.789507], 0.109948[sec]\n",
      "epoch:[493/600] [Discriminator::d_loss: 0.750893],[Generator::loss: 0.493069], 0.147802[sec]\n",
      "epoch:[494/600] [Discriminator::d_loss: 0.708638],[Generator::loss: 0.634815], 0.152064[sec]\n",
      "epoch:[495/600] [Discriminator::d_loss: 0.692095],[Generator::loss: 0.650822], 0.119543[sec]\n",
      "epoch:[496/600] [Discriminator::d_loss: 0.807478],[Generator::loss: 0.638917], 0.103035[sec]\n",
      "epoch:[497/600] [Discriminator::d_loss: 0.748280],[Generator::loss: 0.798395], 0.112896[sec]\n",
      "epoch:[498/600] [Discriminator::d_loss: 0.731952],[Generator::loss: 0.749953], 0.102487[sec]\n",
      "epoch:[499/600] [Discriminator::d_loss: 0.623431],[Generator::loss: 0.735226], 0.104547[sec]\n",
      "epoch:[500/600] [Discriminator::d_loss: 0.718252],[Generator::loss: 0.561028], 0.109166[sec]\n",
      "epoch:[501/600] [Discriminator::d_loss: 0.716370],[Generator::loss: 0.709606], 0.106465[sec]\n",
      "epoch:[502/600] [Discriminator::d_loss: 0.666439],[Generator::loss: 0.735710], 0.107613[sec]\n",
      "epoch:[503/600] [Discriminator::d_loss: 0.777748],[Generator::loss: 0.648435], 0.104566[sec]\n",
      "epoch:[504/600] [Discriminator::d_loss: 0.797184],[Generator::loss: 0.778406], 0.107427[sec]\n",
      "epoch:[505/600] [Discriminator::d_loss: 0.714975],[Generator::loss: 0.772605], 0.116529[sec]\n",
      "epoch:[506/600] [Discriminator::d_loss: 0.710160],[Generator::loss: 0.724197], 0.106214[sec]\n",
      "epoch:[507/600] [Discriminator::d_loss: 0.625191],[Generator::loss: 0.711932], 0.105491[sec]\n",
      "epoch:[508/600] [Discriminator::d_loss: 0.721157],[Generator::loss: 0.785947], 0.103400[sec]\n",
      "epoch:[509/600] [Discriminator::d_loss: 0.703536],[Generator::loss: 0.770964], 0.110630[sec]\n",
      "epoch:[510/600] [Discriminator::d_loss: 0.693779],[Generator::loss: 0.546462], 0.105906[sec]\n",
      "epoch:[511/600] [Discriminator::d_loss: 0.724466],[Generator::loss: 0.745971], 0.104311[sec]\n",
      "epoch:[512/600] [Discriminator::d_loss: 0.697877],[Generator::loss: 0.792003], 0.105313[sec]\n",
      "epoch:[513/600] [Discriminator::d_loss: 0.723340],[Generator::loss: 0.740841], 0.107745[sec]\n",
      "epoch:[514/600] [Discriminator::d_loss: 0.700403],[Generator::loss: 0.654379], 0.104305[sec]\n",
      "epoch:[515/600] [Discriminator::d_loss: 0.666026],[Generator::loss: 0.630104], 0.105112[sec]\n",
      "epoch:[516/600] [Discriminator::d_loss: 0.623452],[Generator::loss: 0.749649], 0.103309[sec]\n",
      "epoch:[517/600] [Discriminator::d_loss: 0.677722],[Generator::loss: 0.762138], 0.108770[sec]\n",
      "epoch:[518/600] [Discriminator::d_loss: 0.786145],[Generator::loss: 0.610495], 0.107630[sec]\n",
      "epoch:[519/600] [Discriminator::d_loss: 0.707430],[Generator::loss: 0.632150], 0.105763[sec]\n",
      "epoch:[520/600] [Discriminator::d_loss: 0.794975],[Generator::loss: 0.694280], 0.105716[sec]\n",
      "epoch:[521/600] [Discriminator::d_loss: 0.676919],[Generator::loss: 0.764789], 0.103780[sec]\n",
      "epoch:[522/600] [Discriminator::d_loss: 0.670986],[Generator::loss: 0.772652], 0.106401[sec]\n",
      "epoch:[523/600] [Discriminator::d_loss: 0.725552],[Generator::loss: 0.724772], 0.108972[sec]\n",
      "epoch:[524/600] [Discriminator::d_loss: 0.719706],[Generator::loss: 0.628702], 0.105063[sec]\n",
      "epoch:[525/600] [Discriminator::d_loss: 0.755241],[Generator::loss: 0.737713], 0.104203[sec]\n",
      "epoch:[526/600] [Discriminator::d_loss: 0.776803],[Generator::loss: 0.705107], 0.107780[sec]\n",
      "epoch:[527/600] [Discriminator::d_loss: 0.737128],[Generator::loss: 0.661210], 0.101356[sec]\n",
      "epoch:[528/600] [Discriminator::d_loss: 0.787541],[Generator::loss: 0.696316], 0.109132[sec]\n",
      "epoch:[529/600] [Discriminator::d_loss: 0.783730],[Generator::loss: 0.803683], 0.104160[sec]\n",
      "epoch:[530/600] [Discriminator::d_loss: 0.707165],[Generator::loss: 0.657602], 0.105197[sec]\n",
      "epoch:[531/600] [Discriminator::d_loss: 0.520901],[Generator::loss: 0.682645], 0.109427[sec]\n",
      "epoch:[532/600] [Discriminator::d_loss: 0.744067],[Generator::loss: 0.785686], 0.104865[sec]\n",
      "epoch:[533/600] [Discriminator::d_loss: 0.688099],[Generator::loss: 0.678227], 0.107861[sec]\n",
      "epoch:[534/600] [Discriminator::d_loss: 0.708991],[Generator::loss: 0.606592], 0.104421[sec]\n",
      "epoch:[535/600] [Discriminator::d_loss: 0.641710],[Generator::loss: 0.675555], 0.117022[sec]\n",
      "epoch:[536/600] [Discriminator::d_loss: 0.662643],[Generator::loss: 0.633252], 0.106009[sec]\n",
      "epoch:[537/600] [Discriminator::d_loss: 0.707236],[Generator::loss: 0.536694], 0.137429[sec]\n",
      "epoch:[538/600] [Discriminator::d_loss: 0.778979],[Generator::loss: 0.684681], 0.121424[sec]\n"
     ]
    },
    {
     "name": "stdout",
     "output_type": "stream",
     "text": [
      "epoch:[539/600] [Discriminator::d_loss: 0.751323],[Generator::loss: 0.740814], 0.112355[sec]\n",
      "epoch:[540/600] [Discriminator::d_loss: 0.640927],[Generator::loss: 0.549043], 0.108231[sec]\n",
      "epoch:[541/600] [Discriminator::d_loss: 0.780256],[Generator::loss: 0.839933], 0.116573[sec]\n",
      "epoch:[542/600] [Discriminator::d_loss: 0.732564],[Generator::loss: 0.556265], 0.112982[sec]\n",
      "epoch:[543/600] [Discriminator::d_loss: 0.703590],[Generator::loss: 0.777971], 0.108931[sec]\n",
      "epoch:[544/600] [Discriminator::d_loss: 0.598093],[Generator::loss: 0.630444], 0.107678[sec]\n",
      "epoch:[545/600] [Discriminator::d_loss: 0.641949],[Generator::loss: 0.626416], 0.113240[sec]\n",
      "epoch:[546/600] [Discriminator::d_loss: 0.648461],[Generator::loss: 0.577930], 0.107043[sec]\n",
      "epoch:[547/600] [Discriminator::d_loss: 0.589335],[Generator::loss: 0.732769], 0.104345[sec]\n",
      "epoch:[548/600] [Discriminator::d_loss: 0.773169],[Generator::loss: 0.719352], 0.106827[sec]\n",
      "epoch:[549/600] [Discriminator::d_loss: 0.687693],[Generator::loss: 0.714346], 0.107153[sec]\n",
      "epoch:[550/600] [Discriminator::d_loss: 0.714298],[Generator::loss: 0.788543], 0.107258[sec]\n",
      "epoch:[551/600] [Discriminator::d_loss: 0.682305],[Generator::loss: 0.741933], 0.105340[sec]\n",
      "epoch:[552/600] [Discriminator::d_loss: 0.759388],[Generator::loss: 0.725636], 0.101574[sec]\n",
      "epoch:[553/600] [Discriminator::d_loss: 0.713966],[Generator::loss: 0.749443], 0.102658[sec]\n",
      "epoch:[554/600] [Discriminator::d_loss: 0.688138],[Generator::loss: 0.634603], 0.103803[sec]\n",
      "epoch:[555/600] [Discriminator::d_loss: 0.566517],[Generator::loss: 0.738920], 0.107470[sec]\n",
      "epoch:[556/600] [Discriminator::d_loss: 0.680932],[Generator::loss: 0.682277], 0.112216[sec]\n",
      "epoch:[557/600] [Discriminator::d_loss: 0.634079],[Generator::loss: 0.745222], 0.114816[sec]\n",
      "epoch:[558/600] [Discriminator::d_loss: 0.681509],[Generator::loss: 0.801143], 0.108824[sec]\n",
      "epoch:[559/600] [Discriminator::d_loss: 0.692885],[Generator::loss: 0.778187], 0.125646[sec]\n",
      "epoch:[560/600] [Discriminator::d_loss: 0.640018],[Generator::loss: 0.691112], 0.123291[sec]\n",
      "epoch:[561/600] [Discriminator::d_loss: 0.754331],[Generator::loss: 0.605567], 0.117622[sec]\n",
      "epoch:[562/600] [Discriminator::d_loss: 0.640918],[Generator::loss: 0.691947], 0.110406[sec]\n",
      "epoch:[563/600] [Discriminator::d_loss: 0.615811],[Generator::loss: 0.727151], 0.103875[sec]\n",
      "epoch:[564/600] [Discriminator::d_loss: 0.696106],[Generator::loss: 0.717576], 0.108340[sec]\n",
      "epoch:[565/600] [Discriminator::d_loss: 0.775180],[Generator::loss: 0.695733], 0.102796[sec]\n",
      "epoch:[566/600] [Discriminator::d_loss: 0.762377],[Generator::loss: 0.851538], 0.104406[sec]\n",
      "epoch:[567/600] [Discriminator::d_loss: 0.720199],[Generator::loss: 0.661881], 0.105232[sec]\n",
      "epoch:[568/600] [Discriminator::d_loss: 0.816217],[Generator::loss: 0.674865], 0.103271[sec]\n",
      "epoch:[569/600] [Discriminator::d_loss: 0.683863],[Generator::loss: 0.592251], 0.109057[sec]\n",
      "epoch:[570/600] [Discriminator::d_loss: 0.673567],[Generator::loss: 0.600723], 0.102577[sec]\n",
      "epoch:[571/600] [Discriminator::d_loss: 0.693491],[Generator::loss: 0.736538], 0.104824[sec]\n",
      "epoch:[572/600] [Discriminator::d_loss: 0.674270],[Generator::loss: 0.693474], 0.101254[sec]\n",
      "epoch:[573/600] [Discriminator::d_loss: 0.717124],[Generator::loss: 0.645299], 0.105726[sec]\n",
      "epoch:[574/600] [Discriminator::d_loss: 0.694012],[Generator::loss: 0.913361], 0.103944[sec]\n",
      "epoch:[575/600] [Discriminator::d_loss: 0.672200],[Generator::loss: 0.555043], 0.107356[sec]\n",
      "epoch:[576/600] [Discriminator::d_loss: 0.796469],[Generator::loss: 0.524382], 0.106315[sec]\n",
      "epoch:[577/600] [Discriminator::d_loss: 0.696859],[Generator::loss: 0.755189], 0.107203[sec]\n",
      "epoch:[578/600] [Discriminator::d_loss: 0.786890],[Generator::loss: 0.641165], 0.101818[sec]\n",
      "epoch:[579/600] [Discriminator::d_loss: 0.707022],[Generator::loss: 0.746876], 0.109730[sec]\n",
      "epoch:[580/600] [Discriminator::d_loss: 0.727123],[Generator::loss: 0.741449], 0.104771[sec]\n",
      "epoch:[581/600] [Discriminator::d_loss: 0.636326],[Generator::loss: 0.552746], 0.105293[sec]\n",
      "epoch:[582/600] [Discriminator::d_loss: 0.721078],[Generator::loss: 0.708271], 0.101903[sec]\n",
      "epoch:[583/600] [Discriminator::d_loss: 0.682633],[Generator::loss: 0.867760], 0.107163[sec]\n",
      "epoch:[584/600] [Discriminator::d_loss: 0.751797],[Generator::loss: 0.704171], 0.104990[sec]\n",
      "epoch:[585/600] [Discriminator::d_loss: 0.778719],[Generator::loss: 0.791950], 0.105234[sec]\n",
      "epoch:[586/600] [Discriminator::d_loss: 0.720307],[Generator::loss: 0.715890], 0.103844[sec]\n",
      "epoch:[587/600] [Discriminator::d_loss: 0.606678],[Generator::loss: 0.697995], 0.122961[sec]\n",
      "epoch:[588/600] [Discriminator::d_loss: 0.729368],[Generator::loss: 0.752536], 0.106698[sec]\n",
      "epoch:[589/600] [Discriminator::d_loss: 0.700594],[Generator::loss: 0.574075], 0.106644[sec]\n",
      "epoch:[590/600] [Discriminator::d_loss: 0.687317],[Generator::loss: 0.623332], 0.111742[sec]\n",
      "epoch:[591/600] [Discriminator::d_loss: 0.789278],[Generator::loss: 0.701150], 0.113464[sec]\n",
      "epoch:[592/600] [Discriminator::d_loss: 0.774817],[Generator::loss: 0.846416], 0.103116[sec]\n",
      "epoch:[593/600] [Discriminator::d_loss: 0.672896],[Generator::loss: 0.685668], 0.106787[sec]\n",
      "epoch:[594/600] [Discriminator::d_loss: 0.704387],[Generator::loss: 0.555194], 0.103600[sec]\n",
      "epoch:[595/600] [Discriminator::d_loss: 0.733484],[Generator::loss: 0.777761], 0.106065[sec]\n",
      "epoch:[596/600] [Discriminator::d_loss: 0.702351],[Generator::loss: 0.663984], 0.105222[sec]\n",
      "epoch:[597/600] [Discriminator::d_loss: 0.698097],[Generator::loss: 0.612498], 0.105003[sec]\n",
      "epoch:[598/600] [Discriminator::d_loss: 0.725274],[Generator::loss: 0.574784], 0.105385[sec]\n",
      "epoch:[599/600] [Discriminator::d_loss: 0.855193],[Generator::loss: 0.737961], 0.108136[sec]\n",
      "epoch:[600/600] [Discriminator::d_loss: 0.631740],[Generator::loss: 0.728588], 0.102857[sec]\n"
     ]
    }
   ],
   "source": [
    "ep = 600\n",
    "g_loss, d_loss = train(X_train, epochs=ep, batch_size=1, G=G, D=D, gan=gan, noise_input=noise_input)"
   ]
  },
  {
   "cell_type": "code",
   "execution_count": 90,
   "metadata": {},
   "outputs": [
    {
     "data": {
      "image/png": "[encoded data removed]",
      "text/plain": [
       "<Figure size 864x360 with 1 Axes>"
      ]
     },
     "metadata": {
      "needs_background": "light"
     },
     "output_type": "display_data"
    }
   ],
   "source": [
    "plt.figure(figsize=(12,5))\n",
    "plt.title(\"Loss GAN\", fontsize=15)\n",
    "plt.plot(range(ep), g_loss, label=\"loss rede G\")\n",
    "plt.plot(range(ep), d_loss, label=\"loss rede D\")\n",
    "plt.xlabel(\"epochs\", fontsize=14)\n",
    "plt.ylabel(\"loss\", fontsize=14)\n",
    "plt.grid()\n",
    "plt.legend();"
   ]
  },
  {
   "cell_type": "code",
   "execution_count": 91,
   "metadata": {
    "scrolled": false
   },
   "outputs": [
    {
     "name": "stdout",
     "output_type": "stream",
     "text": [
      "Distribuición original de cada caracteristica vs red Generadora entrenada\n"
     ]
    },
    {
     "data": {
      "image/png": "[encoded data removed]",
      "text/plain": [
       "<Figure size 1080x648 with 9 Axes>"
      ]
     },
     "metadata": {
      "needs_background": "light"
     },
     "output_type": "display_data"
    }
   ],
   "source": [
    "noise = np.random.normal(loc=0, scale=1, size=(X_train.shape[0],noise_input))\n",
    "data_fake = G.predict(noise)\n",
    "plt.figure(figsize=(15,9))\n",
    "print(\"Distribuición original de cada caracteristica vs red Generadora entrenada\")\n",
    "for col in range(X_train.shape[1]):\n",
    "    aux_real = X_train.iloc[:,col]\n",
    "    aux_fake = data_fake[:,col]\n",
    "    plt.subplot(3,3,col+1)\n",
    "    plt.hist(aux_real, bins=10, label=\"real\",)\n",
    "    plt.hist(aux_fake, bins=10, label=\"fake\", alpha=0.8)\n",
    "    plt.legend()"
   ]
  },
  {
   "cell_type": "code",
   "execution_count": 92,
   "metadata": {},
   "outputs": [
    {
     "name": "stdout",
     "output_type": "stream",
     "text": [
      "(15, 2) (15, 2)\n"
     ]
    },
    {
     "data": {
      "image/png": "[encoded data removed]",
      "text/plain": [
       "<Figure size 432x288 with 1 Axes>"
      ]
     },
     "metadata": {
      "needs_background": "light"
     },
     "output_type": "display_data"
    }
   ],
   "source": [
    "pca = PCA(n_components=2)\n",
    "X_train_pca = pca.fit_transform(X_train)\n",
    "X_fake_pca = pca.transform(data_fake)\n",
    "print(X_train_pca.shape, X_fake_pca.shape)\n",
    "plt.figure(figsize=(6,4))\n",
    "plt.title(\"2-PCA entre dados reais e fakes\", fontsize=14)\n",
    "plt.xlabel(\"componente principal um\", fontsize=13)\n",
    "plt.ylabel(\"componente principal dois\", fontsize=13)\n",
    "plt.scatter(X_train_pca[:,0], X_train_pca[:,1], color=\"green\", label=\"real\", alpha=0.4)\n",
    "plt.scatter(X_fake_pca[:500,0], X_fake_pca[:500,1], color=\"red\", label=\"fake\", alpha=0.4)\n",
    "plt.legend();"
   ]
  },
  {
   "cell_type": "code",
   "execution_count": 96,
   "metadata": {},
   "outputs": [
    {
     "name": "stdout",
     "output_type": "stream",
     "text": [
      "Dados fake:  (5000, 9)\n",
      "\n",
      "-------------- Discriminador com dados fake --------------\n",
      "porcentagem de dados que o discriminador acredita reais:  0.5412\n",
      "porcentagem de dados que o discriminador acredita fakes:  0.4588\n",
      "\n",
      "-------------- Discriminador com dados reais --------------\n",
      "porcentagem de dados que o discriminador acredita reais:  0.8\n",
      "porcentagem de dados que o discriminador acredita fakes:  0.2\n"
     ]
    }
   ],
   "source": [
    "fakes = G.predict(np.random.normal(0,1,(5000,noise_input)))\n",
    "print(\"Dados fake: \", fakes.shape)\n",
    "print()\n",
    "D_predict_fake = D.predict_classes(fakes)\n",
    "print(\"-------------- Discriminador com dados fake --------------\")\n",
    "print(\"porcentagem de dados que o discriminador acredita reais: \", np.round(np.mean(D_predict_fake==1),4))\n",
    "print(\"porcentagem de dados que o discriminador acredita fakes: \", np.round(np.mean(D_predict_fake==0),4))\n",
    "print()\n",
    "D_predict_real = D.predict_classes(X_train)\n",
    "print(\"-------------- Discriminador com dados reais --------------\")\n",
    "print(\"porcentagem de dados que o discriminador acredita reais: \", np.round(np.mean(D_predict_real==1),4))\n",
    "print(\"porcentagem de dados que o discriminador acredita fakes: \", np.round(np.mean(D_predict_real==0),4))"
   ]
  },
  {
   "cell_type": "code",
   "execution_count": null,
   "metadata": {},
   "outputs": [],
   "source": []
  },
  {
   "cell_type": "code",
   "execution_count": 98,
   "metadata": {},
   "outputs": [
    {
     "data": {
      "application/vnd.plotly.v1+json": {
       "config": {
        "plotlyServerURL": "https://plot.ly"
       },
       "data": [
        {
         "dimensions": [
          {
           "label": "BB18",
           "values": [
            -0.020661257940210676,
            -0.5147383939887045,
            0.3764546877771524,
            0.07583785131657761,
            0.5034935642838967,
            0.298520440821489,
            0.5961687759157441,
            -1,
            -0.38963588782548075,
            1,
            0.4798548075711886,
            0.36648877509312383,
            0.4751273132973952,
            -0.44142302976084824,
            -0.24272045573147616,
            -0.3497215211391449,
            0.37786468863487244,
            -0.7441918253898621,
            0.8008497357368469,
            -0.047247111797332764,
            0.09075659513473511,
            -0.7811862826347351,
            0.4280289113521576,
            0.10704417526721954,
            -0.09483969211578369,
            0.6880455017089844,
            0.5864119529724121,
            -0.028484927490353584,
            -0.38574644923210144,
            0.1295037865638733
           ]
          },
          {
           "label": "BB12",
           "values": [
            -0.10470648814556094,
            -0.3469786343966913,
            0.6160641277266701,
            -0.11824162609288003,
            0.8215474790592354,
            -0.08646241003493549,
            0.8218715718393224,
            -1,
            -0.12088660697247156,
            1,
            0.10714571275358464,
            0.030255766772600223,
            0.46501557031267593,
            -0.4717245040794117,
            0.12492497358750376,
            -0.3072628080844879,
            0.38984277844429016,
            -0.7344696521759033,
            0.7939087748527527,
            -0.18340182304382324,
            -0.14591120183467865,
            -0.7082947492599487,
            0.2729385793209076,
            0.15064287185668945,
            -0.0506720207631588,
            0.46342942118644714,
            0.7232267260551453,
            -0.34748682379722595,
            -0.48092013597488403,
            0.28261592984199524
           ]
          },
          {
           "label": "BB20",
           "values": [
            0.050681536961544316,
            -0.9994049758078156,
            0.1289131625442106,
            0.32020547544072686,
            0.37293398932798305,
            0.6856013984474087,
            0.23555367938128624,
            -0.8709753289851276,
            -1,
            1,
            0.6401612281299323,
            0.5281861085745794,
            0.41430175785139034,
            -0.2983441929152768,
            -0.6674302029594721,
            -0.6340761780738831,
            0.07820450514554977,
            -0.8089272975921631,
            0.7555025219917297,
            -0.18162448704242706,
            0.06031787022948265,
            -0.8883323669433594,
            0.307720810174942,
            0.022850366309285164,
            -0.3593025505542755,
            0.8442715406417847,
            0.49121445417404175,
            0.2266121804714203,
            -0.32574304938316345,
            0.0940045490860939
           ]
          },
          {
           "label": "BB9",
           "values": [
            0.3229188241081138,
            -0.886249439065224,
            0.28013891765477483,
            0.3727767565888256,
            0.43831227670480977,
            1,
            0.3614577400369354,
            -1,
            -0.8012047153040266,
            0.9775755535994757,
            0.7702875006472323,
            0.7010740822244093,
            0.521714648164449,
            -0.19154142719066625,
            -0.5317931358842927,
            -0.6026329398155212,
            0.44293224811553955,
            -0.8460784554481506,
            0.8717409372329712,
            0.0069305007345974445,
            0.4712667167186737,
            -0.9126242399215698,
            0.5847077965736389,
            0.19590474665164948,
            -0.39644351601600647,
            0.9332035183906555,
            0.6509502530097961,
            0.357766330242157,
            -0.39726758003234863,
            0.283427894115448
           ]
          },
          {
           "label": "BB11",
           "values": [
            -0.23938805846223687,
            -0.8695148037501175,
            0.2298599505114749,
            0.047408895463810774,
            0.3648391106022326,
            0.23721312211595635,
            0.3605376990582063,
            -1,
            -0.745359279647642,
            1,
            0.5027175396727193,
            0.3776981148290157,
            0.4447508983889257,
            -0.4922719006430146,
            -0.4714962831914443,
            -0.5682612061500549,
            0.1197316125035286,
            -0.8410413265228271,
            0.7830650806427002,
            -0.217435821890831,
            -0.04968549311161041,
            -0.873309850692749,
            0.3473599851131439,
            -0.005353469401597977,
            -0.2724798619747162,
            0.7473357319831848,
            0.560361921787262,
            -0.1366252452135086,
            -0.5093392729759216,
            0.06567902863025665
           ]
          },
          {
           "label": "BB19",
           "values": [
            0.2527053726119477,
            -1,
            0.20985215420595993,
            0.43501551148099926,
            0.5106459119720377,
            0.7445656170627855,
            0.2852523244869052,
            -0.9149864890630589,
            -0.7360564873173328,
            1,
            0.7223919890616062,
            0.587298266366518,
            0.5288895326393794,
            -0.1384803420282118,
            -0.5442219705336625,
            -0.5722523927688599,
            0.3644556701183319,
            -0.8341363668441772,
            0.8114827275276184,
            -0.08473938703536987,
            0.2705109119415283,
            -0.9084296226501465,
            0.4875679910182953,
            0.12604553997516632,
            -0.38177138566970825,
            0.8923564553260803,
            0.6561480164527893,
            0.34133806824684143,
            -0.3290786147117615,
            0.35156622529029846
           ]
          },
          {
           "label": "BB10",
           "values": [
            0.3066823000071348,
            -0.9249707840788235,
            0.3518915715190556,
            0.3322635210407443,
            0.3920157143920573,
            0.9817417557268229,
            0.38404518351359274,
            -1,
            -0.8146228229083732,
            1,
            0.7385416535193952,
            0.6429663748380146,
            0.5574155636051916,
            -0.2609800218993834,
            -0.5642836554919362,
            -0.6075804233551025,
            0.3700421154499054,
            -0.8191251754760742,
            0.8489358425140381,
            -0.027682047337293625,
            0.43814319372177124,
            -0.9016422629356384,
            0.5762982368469238,
            0.15795743465423584,
            -0.27231720089912415,
            0.930666446685791,
            0.627189040184021,
            0.32075631618499756,
            -0.2853192687034607,
            0.1608913540840149
           ]
          },
          {
           "label": "BB17",
           "values": [
            0.23324877305416036,
            -0.9213553581990703,
            0.3468069275792731,
            0.2508279553375068,
            0.35372725822618967,
            0.9001459628840855,
            0.40601977315593607,
            -1,
            -0.8354182615224179,
            1,
            0.8303269446388297,
            0.7080847676235908,
            0.583515865956892,
            -0.07562529408033791,
            -0.7228795503829021,
            -0.6584653258323669,
            0.24001385271549225,
            -0.7880147099494934,
            0.8897320628166199,
            0.10049285739660263,
            0.19702443480491638,
            -0.8783970475196838,
            0.5938047170639038,
            0.0886126235127449,
            -0.07538730651140213,
            0.9294202923774719,
            0.5008060932159424,
            0.36805635690689087,
            -0.2245548516511917,
            0.05954369902610779
           ]
          }
         ],
         "domain": {
          "x": [
           0,
           0.98
          ],
          "y": [
           0,
           1
          ]
         },
         "line": {
          "color": [
           1,
           1,
           1,
           1,
           1,
           1,
           1,
           1,
           1,
           1,
           1,
           1,
           1,
           1,
           1,
           2,
           2,
           2,
           2,
           2,
           2,
           2,
           2,
           2,
           2,
           2,
           2,
           2,
           2,
           2
          ],
          "coloraxis": "coloraxis"
         },
         "name": "",
         "type": "parcoords"
        }
       ],
       "layout": {
        "coloraxis": {
         "colorbar": {
          "title": {
           "text": "cor"
          }
         },
         "colorscale": [
          [
           0,
           "rgb(0, 147, 146)"
          ],
          [
           0.16666666666666666,
           "rgb(114, 170, 161)"
          ],
          [
           0.3333333333333333,
           "rgb(177, 199, 179)"
          ],
          [
           0.5,
           "rgb(241, 234, 200)"
          ],
          [
           0.6666666666666666,
           "rgb(229, 185, 173)"
          ],
          [
           0.8333333333333334,
           "rgb(217, 137, 148)"
          ],
          [
           1,
           "rgb(208, 88, 126)"
          ]
         ]
        },
        "height": 600,
        "legend": {
         "tracegroupgap": 0
        },
        "margin": {
         "t": 60
        },
        "template": {
         "data": {
          "bar": [
           {
            "error_x": {
             "color": "#2a3f5f"
            },
            "error_y": {
             "color": "#2a3f5f"
            },
            "marker": {
             "line": {
              "color": "#E5ECF6",
              "width": 0.5
             }
            },
            "type": "bar"
           }
          ],
          "barpolar": [
           {
            "marker": {
             "line": {
              "color": "#E5ECF6",
              "width": 0.5
             }
            },
            "type": "barpolar"
           }
          ],
          "carpet": [
           {
            "aaxis": {
             "endlinecolor": "#2a3f5f",
             "gridcolor": "white",
             "linecolor": "white",
             "minorgridcolor": "white",
             "startlinecolor": "#2a3f5f"
            },
            "baxis": {
             "endlinecolor": "#2a3f5f",
             "gridcolor": "white",
             "linecolor": "white",
             "minorgridcolor": "white",
             "startlinecolor": "#2a3f5f"
            },
            "type": "carpet"
           }
          ],
          "choropleth": [
           {
            "colorbar": {
             "outlinewidth": 0,
             "ticks": ""
            },
            "type": "choropleth"
           }
          ],
          "contour": [
           {
            "colorbar": {
             "outlinewidth": 0,
             "ticks": ""
            },
            "colorscale": [
             [
              0,
              "#0d0887"
             ],
             [
              0.1111111111111111,
              "#46039f"
             ],
             [
              0.2222222222222222,
              "#7201a8"
             ],
             [
              0.3333333333333333,
              "#9c179e"
             ],
             [
              0.4444444444444444,
              "#bd3786"
             ],
             [
              0.5555555555555556,
              "#d8576b"
             ],
             [
              0.6666666666666666,
              "#ed7953"
             ],
             [
              0.7777777777777778,
              "#fb9f3a"
             ],
             [
              0.8888888888888888,
              "#fdca26"
             ],
             [
              1,
              "#f0f921"
             ]
            ],
            "type": "contour"
           }
          ],
          "contourcarpet": [
           {
            "colorbar": {
             "outlinewidth": 0,
             "ticks": ""
            },
            "type": "contourcarpet"
           }
          ],
          "heatmap": [
           {
            "colorbar": {
             "outlinewidth": 0,
             "ticks": ""
            },
            "colorscale": [
             [
              0,
              "#0d0887"
             ],
             [
              0.1111111111111111,
              "#46039f"
             ],
             [
              0.2222222222222222,
              "#7201a8"
             ],
             [
              0.3333333333333333,
              "#9c179e"
             ],
             [
              0.4444444444444444,
              "#bd3786"
             ],
             [
              0.5555555555555556,
              "#d8576b"
             ],
             [
              0.6666666666666666,
              "#ed7953"
             ],
             [
              0.7777777777777778,
              "#fb9f3a"
             ],
             [
              0.8888888888888888,
              "#fdca26"
             ],
             [
              1,
              "#f0f921"
             ]
            ],
            "type": "heatmap"
           }
          ],
          "heatmapgl": [
           {
            "colorbar": {
             "outlinewidth": 0,
             "ticks": ""
            },
            "colorscale": [
             [
              0,
              "#0d0887"
             ],
             [
              0.1111111111111111,
              "#46039f"
             ],
             [
              0.2222222222222222,
              "#7201a8"
             ],
             [
              0.3333333333333333,
              "#9c179e"
             ],
             [
              0.4444444444444444,
              "#bd3786"
             ],
             [
              0.5555555555555556,
              "#d8576b"
             ],
             [
              0.6666666666666666,
              "#ed7953"
             ],
             [
              0.7777777777777778,
              "#fb9f3a"
             ],
             [
              0.8888888888888888,
              "#fdca26"
             ],
             [
              1,
              "#f0f921"
             ]
            ],
            "type": "heatmapgl"
           }
          ],
          "histogram": [
           {
            "marker": {
             "colorbar": {
              "outlinewidth": 0,
              "ticks": ""
             }
            },
            "type": "histogram"
           }
          ],
          "histogram2d": [
           {
            "colorbar": {
             "outlinewidth": 0,
             "ticks": ""
            },
            "colorscale": [
             [
              0,
              "#0d0887"
             ],
             [
              0.1111111111111111,
              "#46039f"
             ],
             [
              0.2222222222222222,
              "#7201a8"
             ],
             [
              0.3333333333333333,
              "#9c179e"
             ],
             [
              0.4444444444444444,
              "#bd3786"
             ],
             [
              0.5555555555555556,
              "#d8576b"
             ],
             [
              0.6666666666666666,
              "#ed7953"
             ],
             [
              0.7777777777777778,
              "#fb9f3a"
             ],
             [
              0.8888888888888888,
              "#fdca26"
             ],
             [
              1,
              "#f0f921"
             ]
            ],
            "type": "histogram2d"
           }
          ],
          "histogram2dcontour": [
           {
            "colorbar": {
             "outlinewidth": 0,
             "ticks": ""
            },
            "colorscale": [
             [
              0,
              "#0d0887"
             ],
             [
              0.1111111111111111,
              "#46039f"
             ],
             [
              0.2222222222222222,
              "#7201a8"
             ],
             [
              0.3333333333333333,
              "#9c179e"
             ],
             [
              0.4444444444444444,
              "#bd3786"
             ],
             [
              0.5555555555555556,
              "#d8576b"
             ],
             [
              0.6666666666666666,
              "#ed7953"
             ],
             [
              0.7777777777777778,
              "#fb9f3a"
             ],
             [
              0.8888888888888888,
              "#fdca26"
             ],
             [
              1,
              "#f0f921"
             ]
            ],
            "type": "histogram2dcontour"
           }
          ],
          "mesh3d": [
           {
            "colorbar": {
             "outlinewidth": 0,
             "ticks": ""
            },
            "type": "mesh3d"
           }
          ],
          "parcoords": [
           {
            "line": {
             "colorbar": {
              "outlinewidth": 0,
              "ticks": ""
             }
            },
            "type": "parcoords"
           }
          ],
          "scatter": [
           {
            "marker": {
             "colorbar": {
              "outlinewidth": 0,
              "ticks": ""
             }
            },
            "type": "scatter"
           }
          ],
          "scatter3d": [
           {
            "line": {
             "colorbar": {
              "outlinewidth": 0,
              "ticks": ""
             }
            },
            "marker": {
             "colorbar": {
              "outlinewidth": 0,
              "ticks": ""
             }
            },
            "type": "scatter3d"
           }
          ],
          "scattercarpet": [
           {
            "marker": {
             "colorbar": {
              "outlinewidth": 0,
              "ticks": ""
             }
            },
            "type": "scattercarpet"
           }
          ],
          "scattergeo": [
           {
            "marker": {
             "colorbar": {
              "outlinewidth": 0,
              "ticks": ""
             }
            },
            "type": "scattergeo"
           }
          ],
          "scattergl": [
           {
            "marker": {
             "colorbar": {
              "outlinewidth": 0,
              "ticks": ""
             }
            },
            "type": "scattergl"
           }
          ],
          "scattermapbox": [
           {
            "marker": {
             "colorbar": {
              "outlinewidth": 0,
              "ticks": ""
             }
            },
            "type": "scattermapbox"
           }
          ],
          "scatterpolar": [
           {
            "marker": {
             "colorbar": {
              "outlinewidth": 0,
              "ticks": ""
             }
            },
            "type": "scatterpolar"
           }
          ],
          "scatterpolargl": [
           {
            "marker": {
             "colorbar": {
              "outlinewidth": 0,
              "ticks": ""
             }
            },
            "type": "scatterpolargl"
           }
          ],
          "scatterternary": [
           {
            "marker": {
             "colorbar": {
              "outlinewidth": 0,
              "ticks": ""
             }
            },
            "type": "scatterternary"
           }
          ],
          "surface": [
           {
            "colorbar": {
             "outlinewidth": 0,
             "ticks": ""
            },
            "colorscale": [
             [
              0,
              "#0d0887"
             ],
             [
              0.1111111111111111,
              "#46039f"
             ],
             [
              0.2222222222222222,
              "#7201a8"
             ],
             [
              0.3333333333333333,
              "#9c179e"
             ],
             [
              0.4444444444444444,
              "#bd3786"
             ],
             [
              0.5555555555555556,
              "#d8576b"
             ],
             [
              0.6666666666666666,
              "#ed7953"
             ],
             [
              0.7777777777777778,
              "#fb9f3a"
             ],
             [
              0.8888888888888888,
              "#fdca26"
             ],
             [
              1,
              "#f0f921"
             ]
            ],
            "type": "surface"
           }
          ],
          "table": [
           {
            "cells": {
             "fill": {
              "color": "#EBF0F8"
             },
             "line": {
              "color": "white"
             }
            },
            "header": {
             "fill": {
              "color": "#C8D4E3"
             },
             "line": {
              "color": "white"
             }
            },
            "type": "table"
           }
          ]
         },
         "layout": {
          "annotationdefaults": {
           "arrowcolor": "#2a3f5f",
           "arrowhead": 0,
           "arrowwidth": 1
          },
          "colorscale": {
           "diverging": [
            [
             0,
             "#8e0152"
            ],
            [
             0.1,
             "#c51b7d"
            ],
            [
             0.2,
             "#de77ae"
            ],
            [
             0.3,
             "#f1b6da"
            ],
            [
             0.4,
             "#fde0ef"
            ],
            [
             0.5,
             "#f7f7f7"
            ],
            [
             0.6,
             "#e6f5d0"
            ],
            [
             0.7,
             "#b8e186"
            ],
            [
             0.8,
             "#7fbc41"
            ],
            [
             0.9,
             "#4d9221"
            ],
            [
             1,
             "#276419"
            ]
           ],
           "sequential": [
            [
             0,
             "#0d0887"
            ],
            [
             0.1111111111111111,
             "#46039f"
            ],
            [
             0.2222222222222222,
             "#7201a8"
            ],
            [
             0.3333333333333333,
             "#9c179e"
            ],
            [
             0.4444444444444444,
             "#bd3786"
            ],
            [
             0.5555555555555556,
             "#d8576b"
            ],
            [
             0.6666666666666666,
             "#ed7953"
            ],
            [
             0.7777777777777778,
             "#fb9f3a"
            ],
            [
             0.8888888888888888,
             "#fdca26"
            ],
            [
             1,
             "#f0f921"
            ]
           ],
           "sequentialminus": [
            [
             0,
             "#0d0887"
            ],
            [
             0.1111111111111111,
             "#46039f"
            ],
            [
             0.2222222222222222,
             "#7201a8"
            ],
            [
             0.3333333333333333,
             "#9c179e"
            ],
            [
             0.4444444444444444,
             "#bd3786"
            ],
            [
             0.5555555555555556,
             "#d8576b"
            ],
            [
             0.6666666666666666,
             "#ed7953"
            ],
            [
             0.7777777777777778,
             "#fb9f3a"
            ],
            [
             0.8888888888888888,
             "#fdca26"
            ],
            [
             1,
             "#f0f921"
            ]
           ]
          },
          "colorway": [
           "#636efa",
           "#EF553B",
           "#00cc96",
           "#ab63fa",
           "#FFA15A",
           "#19d3f3",
           "#FF6692",
           "#B6E880",
           "#FF97FF",
           "#FECB52"
          ],
          "font": {
           "color": "#2a3f5f"
          },
          "geo": {
           "bgcolor": "white",
           "lakecolor": "white",
           "landcolor": "#E5ECF6",
           "showlakes": true,
           "showland": true,
           "subunitcolor": "white"
          },
          "hoverlabel": {
           "align": "left"
          },
          "hovermode": "closest",
          "mapbox": {
           "style": "light"
          },
          "paper_bgcolor": "white",
          "plot_bgcolor": "#E5ECF6",
          "polar": {
           "angularaxis": {
            "gridcolor": "white",
            "linecolor": "white",
            "ticks": ""
           },
           "bgcolor": "#E5ECF6",
           "radialaxis": {
            "gridcolor": "white",
            "linecolor": "white",
            "ticks": ""
           }
          },
          "scene": {
           "xaxis": {
            "backgroundcolor": "#E5ECF6",
            "gridcolor": "white",
            "gridwidth": 2,
            "linecolor": "white",
            "showbackground": true,
            "ticks": "",
            "zerolinecolor": "white"
           },
           "yaxis": {
            "backgroundcolor": "#E5ECF6",
            "gridcolor": "white",
            "gridwidth": 2,
            "linecolor": "white",
            "showbackground": true,
            "ticks": "",
            "zerolinecolor": "white"
           },
           "zaxis": {
            "backgroundcolor": "#E5ECF6",
            "gridcolor": "white",
            "gridwidth": 2,
            "linecolor": "white",
            "showbackground": true,
            "ticks": "",
            "zerolinecolor": "white"
           }
          },
          "shapedefaults": {
           "line": {
            "color": "#2a3f5f"
           }
          },
          "ternary": {
           "aaxis": {
            "gridcolor": "white",
            "linecolor": "white",
            "ticks": ""
           },
           "baxis": {
            "gridcolor": "white",
            "linecolor": "white",
            "ticks": ""
           },
           "bgcolor": "#E5ECF6",
           "caxis": {
            "gridcolor": "white",
            "linecolor": "white",
            "ticks": ""
           }
          },
          "title": {
           "x": 0.05
          },
          "xaxis": {
           "automargin": true,
           "gridcolor": "white",
           "linecolor": "white",
           "ticks": "",
           "zerolinecolor": "white",
           "zerolinewidth": 2
          },
          "yaxis": {
           "automargin": true,
           "gridcolor": "white",
           "linecolor": "white",
           "ticks": "",
           "zerolinecolor": "white",
           "zerolinewidth": 2
          }
         }
        }
       }
      },
      "text/html": [
       "<div>\n",
       "        \n",
       "        \n",
       "            <div id=\"c9ef5b5c-b7a8-45f9-a4c6-7f59437aa509\" class=\"plotly-graph-div\" style=\"height:600px; width:100%;\"></div>\n",
       "            <script type=\"text/javascript\">\n",
       "                require([\"plotly\"], function(Plotly) {\n",
       "                    window.PLOTLYENV=window.PLOTLYENV || {};\n",
       "                    \n",
       "                if (document.getElementById(\"c9ef5b5c-b7a8-45f9-a4c6-7f59437aa509\")) {\n",
       "                    Plotly.newPlot(\n",
       "                        'c9ef5b5c-b7a8-45f9-a4c6-7f59437aa509',\n",
       "                        [{\"dimensions\": [{\"label\": \"BB18\", \"values\": [-0.020661257940210676, -0.5147383939887045, 0.3764546877771524, 0.07583785131657761, 0.5034935642838967, 0.298520440821489, 0.5961687759157441, -1.0, -0.38963588782548075, 1.0, 0.4798548075711886, 0.36648877509312383, 0.4751273132973952, -0.44142302976084824, -0.24272045573147616, -0.3497215211391449, 0.37786468863487244, -0.7441918253898621, 0.8008497357368469, -0.047247111797332764, 0.09075659513473511, -0.7811862826347351, 0.4280289113521576, 0.10704417526721954, -0.09483969211578369, 0.6880455017089844, 0.5864119529724121, -0.028484927490353584, -0.38574644923210144, 0.1295037865638733]}, {\"label\": \"BB12\", \"values\": [-0.10470648814556094, -0.3469786343966913, 0.6160641277266701, -0.11824162609288003, 0.8215474790592354, -0.08646241003493549, 0.8218715718393224, -1.0, -0.12088660697247156, 1.0, 0.10714571275358464, 0.030255766772600223, 0.46501557031267593, -0.4717245040794117, 0.12492497358750376, -0.3072628080844879, 0.38984277844429016, -0.7344696521759033, 0.7939087748527527, -0.18340182304382324, -0.14591120183467865, -0.7082947492599487, 0.2729385793209076, 0.15064287185668945, -0.0506720207631588, 0.46342942118644714, 0.7232267260551453, -0.34748682379722595, -0.48092013597488403, 0.28261592984199524]}, {\"label\": \"BB20\", \"values\": [0.050681536961544316, -0.9994049758078156, 0.1289131625442106, 0.32020547544072686, 0.37293398932798305, 0.6856013984474087, 0.23555367938128624, -0.8709753289851276, -1.0, 1.0, 0.6401612281299323, 0.5281861085745794, 0.41430175785139034, -0.2983441929152768, -0.6674302029594721, -0.6340761780738831, 0.07820450514554977, -0.8089272975921631, 0.7555025219917297, -0.18162448704242706, 0.06031787022948265, -0.8883323669433594, 0.307720810174942, 0.022850366309285164, -0.3593025505542755, 0.8442715406417847, 0.49121445417404175, 0.2266121804714203, -0.32574304938316345, 0.0940045490860939]}, {\"label\": \"BB9\", \"values\": [0.3229188241081138, -0.886249439065224, 0.28013891765477483, 0.3727767565888256, 0.43831227670480977, 1.0, 0.3614577400369354, -1.0, -0.8012047153040266, 0.9775755535994757, 0.7702875006472323, 0.7010740822244093, 0.521714648164449, -0.19154142719066625, -0.5317931358842927, -0.6026329398155212, 0.44293224811553955, -0.8460784554481506, 0.8717409372329712, 0.0069305007345974445, 0.4712667167186737, -0.9126242399215698, 0.5847077965736389, 0.19590474665164948, -0.39644351601600647, 0.9332035183906555, 0.6509502530097961, 0.357766330242157, -0.39726758003234863, 0.283427894115448]}, {\"label\": \"BB11\", \"values\": [-0.23938805846223687, -0.8695148037501175, 0.2298599505114749, 0.047408895463810774, 0.3648391106022326, 0.23721312211595635, 0.3605376990582063, -1.0, -0.745359279647642, 1.0, 0.5027175396727193, 0.3776981148290157, 0.4447508983889257, -0.4922719006430146, -0.4714962831914443, -0.5682612061500549, 0.1197316125035286, -0.8410413265228271, 0.7830650806427002, -0.217435821890831, -0.04968549311161041, -0.873309850692749, 0.3473599851131439, -0.005353469401597977, -0.2724798619747162, 0.7473357319831848, 0.560361921787262, -0.1366252452135086, -0.5093392729759216, 0.06567902863025665]}, {\"label\": \"BB19\", \"values\": [0.2527053726119477, -1.0, 0.20985215420595993, 0.43501551148099926, 0.5106459119720377, 0.7445656170627855, 0.2852523244869052, -0.9149864890630589, -0.7360564873173328, 1.0, 0.7223919890616062, 0.587298266366518, 0.5288895326393794, -0.1384803420282118, -0.5442219705336625, -0.5722523927688599, 0.3644556701183319, -0.8341363668441772, 0.8114827275276184, -0.08473938703536987, 0.2705109119415283, -0.9084296226501465, 0.4875679910182953, 0.12604553997516632, -0.38177138566970825, 0.8923564553260803, 0.6561480164527893, 0.34133806824684143, -0.3290786147117615, 0.35156622529029846]}, {\"label\": \"BB10\", \"values\": [0.3066823000071348, -0.9249707840788235, 0.3518915715190556, 0.3322635210407443, 0.3920157143920573, 0.9817417557268229, 0.38404518351359274, -1.0, -0.8146228229083732, 1.0, 0.7385416535193952, 0.6429663748380146, 0.5574155636051916, -0.2609800218993834, -0.5642836554919362, -0.6075804233551025, 0.3700421154499054, -0.8191251754760742, 0.8489358425140381, -0.027682047337293625, 0.43814319372177124, -0.9016422629356384, 0.5762982368469238, 0.15795743465423584, -0.27231720089912415, 0.930666446685791, 0.627189040184021, 0.32075631618499756, -0.2853192687034607, 0.1608913540840149]}, {\"label\": \"BB17\", \"values\": [0.23324877305416036, -0.9213553581990703, 0.3468069275792731, 0.2508279553375068, 0.35372725822618967, 0.9001459628840855, 0.40601977315593607, -1.0, -0.8354182615224179, 1.0, 0.8303269446388297, 0.7080847676235908, 0.583515865956892, -0.07562529408033791, -0.7228795503829021, -0.6584653258323669, 0.24001385271549225, -0.7880147099494934, 0.8897320628166199, 0.10049285739660263, 0.19702443480491638, -0.8783970475196838, 0.5938047170639038, 0.0886126235127449, -0.07538730651140213, 0.9294202923774719, 0.5008060932159424, 0.36805635690689087, -0.2245548516511917, 0.05954369902610779]}], \"domain\": {\"x\": [0.0, 0.98], \"y\": [0.0, 1.0]}, \"line\": {\"color\": [1, 1, 1, 1, 1, 1, 1, 1, 1, 1, 1, 1, 1, 1, 1, 2, 2, 2, 2, 2, 2, 2, 2, 2, 2, 2, 2, 2, 2, 2], \"coloraxis\": \"coloraxis\"}, \"name\": \"\", \"type\": \"parcoords\"}],\n",
       "                        {\"coloraxis\": {\"colorbar\": {\"title\": {\"text\": \"cor\"}}, \"colorscale\": [[0.0, \"rgb(0, 147, 146)\"], [0.16666666666666666, \"rgb(114, 170, 161)\"], [0.3333333333333333, \"rgb(177, 199, 179)\"], [0.5, \"rgb(241, 234, 200)\"], [0.6666666666666666, \"rgb(229, 185, 173)\"], [0.8333333333333334, \"rgb(217, 137, 148)\"], [1.0, \"rgb(208, 88, 126)\"]]}, \"height\": 600, \"legend\": {\"tracegroupgap\": 0}, \"margin\": {\"t\": 60}, \"template\": {\"data\": {\"bar\": [{\"error_x\": {\"color\": \"#2a3f5f\"}, \"error_y\": {\"color\": \"#2a3f5f\"}, \"marker\": {\"line\": {\"color\": \"#E5ECF6\", \"width\": 0.5}}, \"type\": \"bar\"}], \"barpolar\": [{\"marker\": {\"line\": {\"color\": \"#E5ECF6\", \"width\": 0.5}}, \"type\": \"barpolar\"}], \"carpet\": [{\"aaxis\": {\"endlinecolor\": \"#2a3f5f\", \"gridcolor\": \"white\", \"linecolor\": \"white\", \"minorgridcolor\": \"white\", \"startlinecolor\": \"#2a3f5f\"}, \"baxis\": {\"endlinecolor\": \"#2a3f5f\", \"gridcolor\": \"white\", \"linecolor\": \"white\", \"minorgridcolor\": \"white\", \"startlinecolor\": \"#2a3f5f\"}, \"type\": \"carpet\"}], \"choropleth\": [{\"colorbar\": {\"outlinewidth\": 0, \"ticks\": \"\"}, \"type\": \"choropleth\"}], \"contour\": [{\"colorbar\": {\"outlinewidth\": 0, \"ticks\": \"\"}, \"colorscale\": [[0.0, \"#0d0887\"], [0.1111111111111111, \"#46039f\"], [0.2222222222222222, \"#7201a8\"], [0.3333333333333333, \"#9c179e\"], [0.4444444444444444, \"#bd3786\"], [0.5555555555555556, \"#d8576b\"], [0.6666666666666666, \"#ed7953\"], [0.7777777777777778, \"#fb9f3a\"], [0.8888888888888888, \"#fdca26\"], [1.0, \"#f0f921\"]], \"type\": \"contour\"}], \"contourcarpet\": [{\"colorbar\": {\"outlinewidth\": 0, \"ticks\": \"\"}, \"type\": \"contourcarpet\"}], \"heatmap\": [{\"colorbar\": {\"outlinewidth\": 0, \"ticks\": \"\"}, \"colorscale\": [[0.0, \"#0d0887\"], [0.1111111111111111, \"#46039f\"], [0.2222222222222222, \"#7201a8\"], [0.3333333333333333, \"#9c179e\"], [0.4444444444444444, \"#bd3786\"], [0.5555555555555556, \"#d8576b\"], [0.6666666666666666, \"#ed7953\"], [0.7777777777777778, \"#fb9f3a\"], [0.8888888888888888, \"#fdca26\"], [1.0, \"#f0f921\"]], \"type\": \"heatmap\"}], \"heatmapgl\": [{\"colorbar\": {\"outlinewidth\": 0, \"ticks\": \"\"}, \"colorscale\": [[0.0, \"#0d0887\"], [0.1111111111111111, \"#46039f\"], [0.2222222222222222, \"#7201a8\"], [0.3333333333333333, \"#9c179e\"], [0.4444444444444444, \"#bd3786\"], [0.5555555555555556, \"#d8576b\"], [0.6666666666666666, \"#ed7953\"], [0.7777777777777778, \"#fb9f3a\"], [0.8888888888888888, \"#fdca26\"], [1.0, \"#f0f921\"]], \"type\": \"heatmapgl\"}], \"histogram\": [{\"marker\": {\"colorbar\": {\"outlinewidth\": 0, \"ticks\": \"\"}}, \"type\": \"histogram\"}], \"histogram2d\": [{\"colorbar\": {\"outlinewidth\": 0, \"ticks\": \"\"}, \"colorscale\": [[0.0, \"#0d0887\"], [0.1111111111111111, \"#46039f\"], [0.2222222222222222, \"#7201a8\"], [0.3333333333333333, \"#9c179e\"], [0.4444444444444444, \"#bd3786\"], [0.5555555555555556, \"#d8576b\"], [0.6666666666666666, \"#ed7953\"], [0.7777777777777778, \"#fb9f3a\"], [0.8888888888888888, \"#fdca26\"], [1.0, \"#f0f921\"]], \"type\": \"histogram2d\"}], \"histogram2dcontour\": [{\"colorbar\": {\"outlinewidth\": 0, \"ticks\": \"\"}, \"colorscale\": [[0.0, \"#0d0887\"], [0.1111111111111111, \"#46039f\"], [0.2222222222222222, \"#7201a8\"], [0.3333333333333333, \"#9c179e\"], [0.4444444444444444, \"#bd3786\"], [0.5555555555555556, \"#d8576b\"], [0.6666666666666666, \"#ed7953\"], [0.7777777777777778, \"#fb9f3a\"], [0.8888888888888888, \"#fdca26\"], [1.0, \"#f0f921\"]], \"type\": \"histogram2dcontour\"}], \"mesh3d\": [{\"colorbar\": {\"outlinewidth\": 0, \"ticks\": \"\"}, \"type\": \"mesh3d\"}], \"parcoords\": [{\"line\": {\"colorbar\": {\"outlinewidth\": 0, \"ticks\": \"\"}}, \"type\": \"parcoords\"}], \"scatter\": [{\"marker\": {\"colorbar\": {\"outlinewidth\": 0, \"ticks\": \"\"}}, \"type\": \"scatter\"}], \"scatter3d\": [{\"line\": {\"colorbar\": {\"outlinewidth\": 0, \"ticks\": \"\"}}, \"marker\": {\"colorbar\": {\"outlinewidth\": 0, \"ticks\": \"\"}}, \"type\": \"scatter3d\"}], \"scattercarpet\": [{\"marker\": {\"colorbar\": {\"outlinewidth\": 0, \"ticks\": \"\"}}, \"type\": \"scattercarpet\"}], \"scattergeo\": [{\"marker\": {\"colorbar\": {\"outlinewidth\": 0, \"ticks\": \"\"}}, \"type\": \"scattergeo\"}], \"scattergl\": [{\"marker\": {\"colorbar\": {\"outlinewidth\": 0, \"ticks\": \"\"}}, \"type\": \"scattergl\"}], \"scattermapbox\": [{\"marker\": {\"colorbar\": {\"outlinewidth\": 0, \"ticks\": \"\"}}, \"type\": \"scattermapbox\"}], \"scatterpolar\": [{\"marker\": {\"colorbar\": {\"outlinewidth\": 0, \"ticks\": \"\"}}, \"type\": \"scatterpolar\"}], \"scatterpolargl\": [{\"marker\": {\"colorbar\": {\"outlinewidth\": 0, \"ticks\": \"\"}}, \"type\": \"scatterpolargl\"}], \"scatterternary\": [{\"marker\": {\"colorbar\": {\"outlinewidth\": 0, \"ticks\": \"\"}}, \"type\": \"scatterternary\"}], \"surface\": [{\"colorbar\": {\"outlinewidth\": 0, \"ticks\": \"\"}, \"colorscale\": [[0.0, \"#0d0887\"], [0.1111111111111111, \"#46039f\"], [0.2222222222222222, \"#7201a8\"], [0.3333333333333333, \"#9c179e\"], [0.4444444444444444, \"#bd3786\"], [0.5555555555555556, \"#d8576b\"], [0.6666666666666666, \"#ed7953\"], [0.7777777777777778, \"#fb9f3a\"], [0.8888888888888888, \"#fdca26\"], [1.0, \"#f0f921\"]], \"type\": \"surface\"}], \"table\": [{\"cells\": {\"fill\": {\"color\": \"#EBF0F8\"}, \"line\": {\"color\": \"white\"}}, \"header\": {\"fill\": {\"color\": \"#C8D4E3\"}, \"line\": {\"color\": \"white\"}}, \"type\": \"table\"}]}, \"layout\": {\"annotationdefaults\": {\"arrowcolor\": \"#2a3f5f\", \"arrowhead\": 0, \"arrowwidth\": 1}, \"colorscale\": {\"diverging\": [[0, \"#8e0152\"], [0.1, \"#c51b7d\"], [0.2, \"#de77ae\"], [0.3, \"#f1b6da\"], [0.4, \"#fde0ef\"], [0.5, \"#f7f7f7\"], [0.6, \"#e6f5d0\"], [0.7, \"#b8e186\"], [0.8, \"#7fbc41\"], [0.9, \"#4d9221\"], [1, \"#276419\"]], \"sequential\": [[0.0, \"#0d0887\"], [0.1111111111111111, \"#46039f\"], [0.2222222222222222, \"#7201a8\"], [0.3333333333333333, \"#9c179e\"], [0.4444444444444444, \"#bd3786\"], [0.5555555555555556, \"#d8576b\"], [0.6666666666666666, \"#ed7953\"], [0.7777777777777778, \"#fb9f3a\"], [0.8888888888888888, \"#fdca26\"], [1.0, \"#f0f921\"]], \"sequentialminus\": [[0.0, \"#0d0887\"], [0.1111111111111111, \"#46039f\"], [0.2222222222222222, \"#7201a8\"], [0.3333333333333333, \"#9c179e\"], [0.4444444444444444, \"#bd3786\"], [0.5555555555555556, \"#d8576b\"], [0.6666666666666666, \"#ed7953\"], [0.7777777777777778, \"#fb9f3a\"], [0.8888888888888888, \"#fdca26\"], [1.0, \"#f0f921\"]]}, \"colorway\": [\"#636efa\", \"#EF553B\", \"#00cc96\", \"#ab63fa\", \"#FFA15A\", \"#19d3f3\", \"#FF6692\", \"#B6E880\", \"#FF97FF\", \"#FECB52\"], \"font\": {\"color\": \"#2a3f5f\"}, \"geo\": {\"bgcolor\": \"white\", \"lakecolor\": \"white\", \"landcolor\": \"#E5ECF6\", \"showlakes\": true, \"showland\": true, \"subunitcolor\": \"white\"}, \"hoverlabel\": {\"align\": \"left\"}, \"hovermode\": \"closest\", \"mapbox\": {\"style\": \"light\"}, \"paper_bgcolor\": \"white\", \"plot_bgcolor\": \"#E5ECF6\", \"polar\": {\"angularaxis\": {\"gridcolor\": \"white\", \"linecolor\": \"white\", \"ticks\": \"\"}, \"bgcolor\": \"#E5ECF6\", \"radialaxis\": {\"gridcolor\": \"white\", \"linecolor\": \"white\", \"ticks\": \"\"}}, \"scene\": {\"xaxis\": {\"backgroundcolor\": \"#E5ECF6\", \"gridcolor\": \"white\", \"gridwidth\": 2, \"linecolor\": \"white\", \"showbackground\": true, \"ticks\": \"\", \"zerolinecolor\": \"white\"}, \"yaxis\": {\"backgroundcolor\": \"#E5ECF6\", \"gridcolor\": \"white\", \"gridwidth\": 2, \"linecolor\": \"white\", \"showbackground\": true, \"ticks\": \"\", \"zerolinecolor\": \"white\"}, \"zaxis\": {\"backgroundcolor\": \"#E5ECF6\", \"gridcolor\": \"white\", \"gridwidth\": 2, \"linecolor\": \"white\", \"showbackground\": true, \"ticks\": \"\", \"zerolinecolor\": \"white\"}}, \"shapedefaults\": {\"line\": {\"color\": \"#2a3f5f\"}}, \"ternary\": {\"aaxis\": {\"gridcolor\": \"white\", \"linecolor\": \"white\", \"ticks\": \"\"}, \"baxis\": {\"gridcolor\": \"white\", \"linecolor\": \"white\", \"ticks\": \"\"}, \"bgcolor\": \"#E5ECF6\", \"caxis\": {\"gridcolor\": \"white\", \"linecolor\": \"white\", \"ticks\": \"\"}}, \"title\": {\"x\": 0.05}, \"xaxis\": {\"automargin\": true, \"gridcolor\": \"white\", \"linecolor\": \"white\", \"ticks\": \"\", \"zerolinecolor\": \"white\", \"zerolinewidth\": 2}, \"yaxis\": {\"automargin\": true, \"gridcolor\": \"white\", \"linecolor\": \"white\", \"ticks\": \"\", \"zerolinecolor\": \"white\", \"zerolinewidth\": 2}}}},\n",
       "                        {\"responsive\": true}\n",
       "                    ).then(function(){\n",
       "                            \n",
       "var gd = document.getElementById('c9ef5b5c-b7a8-45f9-a4c6-7f59437aa509');\n",
       "var x = new MutationObserver(function (mutations, observer) {{\n",
       "        var display = window.getComputedStyle(gd).display;\n",
       "        if (!display || display === 'none') {{\n",
       "            console.log([gd, 'removed!']);\n",
       "            Plotly.purge(gd);\n",
       "            observer.disconnect();\n",
       "        }}\n",
       "}});\n",
       "\n",
       "// Listen for the removal of the full notebook cells\n",
       "var notebookContainer = gd.closest('#notebook-container');\n",
       "if (notebookContainer) {{\n",
       "    x.observe(notebookContainer, {childList: true});\n",
       "}}\n",
       "\n",
       "// Listen for the clearing of the current output cell\n",
       "var outputEl = gd.closest('.output');\n",
       "if (outputEl) {{\n",
       "    x.observe(outputEl, {childList: true});\n",
       "}}\n",
       "\n",
       "                        })\n",
       "                };\n",
       "                });\n",
       "            </script>\n",
       "        </div>"
      ]
     },
     "metadata": {},
     "output_type": "display_data"
    }
   ],
   "source": [
    "import plotly.express as px\n",
    "\n",
    "real = X_train.copy()\n",
    "real[\"cor\"] = 1\n",
    "fake = pd.DataFrame(data_fake, columns=X_train.columns).copy()\n",
    "fake[\"cor\"] = 2\n",
    "data = pd.concat([real,fake])\n",
    "\n",
    "fig = px.parallel_coordinates(data, color=\"cor\", dimensions={\"BB9\",\"BB10\",\"BB17\",\"BB19\",\"BB20\",\"BB11\",\n",
    "                                                             \"BB12\",\"BB18\"},\n",
    "                             color_continuous_scale=px.colors.diverging.Tealrose,)\n",
    "fig.show()"
   ]
  },
  {
   "cell_type": "code",
   "execution_count": 120,
   "metadata": {},
   "outputs": [
    {
     "name": "stdout",
     "output_type": "stream",
     "text": [
      "(15, 2) (500, 2)\n",
      "Distribuición original de cada caracteristica vs red Generadora entrenada\n"
     ]
    },
    {
     "data": {
      "image/png": "[encoded data removed]",
      "text/plain": [
       "<Figure size 1080x648 with 9 Axes>"
      ]
     },
     "metadata": {
      "needs_background": "light"
     },
     "output_type": "display_data"
    }
   ],
   "source": [
    "noise = np.random.normal(loc=0, scale=1, size=(500,noise_input))\n",
    "data_fake = G.predict(noise)\n",
    "pca = PCA(n_components=2)\n",
    "X_train_pca = pca.fit_transform(X_train)\n",
    "X_fake_pca = pca.transform(data_fake)\n",
    "print(X_train_pca.shape, X_fake_pca.shape)\n",
    "\n",
    "plt.figure(figsize=(15,9))\n",
    "print(\"Distribuición original de cada caracteristica vs red Generadora entrenada\")\n",
    "for col in range(X_train.shape[1]):\n",
    "    aux_real = X_train.iloc[:,col]\n",
    "    aux_fake = data_fake[:,col]\n",
    "    plt.subplot(3,3,col+1)\n",
    "    plt.hist(aux_real, bins=10, label=\"real\")\n",
    "    plt.hist(aux_fake, bins=20, label=\"fake\", alpha=0.3)\n",
    "    #plt.yscale(\"log\")\n",
    "    plt.legend()"
   ]
  },
  {
   "cell_type": "code",
   "execution_count": 121,
   "metadata": {},
   "outputs": [],
   "source": [
    "#no_hkg = np.array([6.875411,7.047582,7.431765,7.105877,6.516094,6.676126,6.304694,6.168221,6.245553])\n",
    "no_hkg = np.array([6.048825,6.250033,5.120269,5.559767,5.915593,6.279490,6.441998,6.553099,6.105364])\n",
    "Nhkg = pca.transform(no_hkg.reshape(1,-1))"
   ]
  },
  {
   "cell_type": "code",
   "execution_count": 122,
   "metadata": {},
   "outputs": [
    {
     "data": {
      "image/png": "[encoded data removed]",
      "text/plain": [
       "<Figure size 432x288 with 1 Axes>"
      ]
     },
     "metadata": {
      "needs_background": "light"
     },
     "output_type": "display_data"
    }
   ],
   "source": [
    "plt.figure(figsize=(6,4))\n",
    "plt.title(\"2-PCA entre dados reais e fakes\", fontsize=14)\n",
    "plt.xlabel(\"componente principal um\", fontsize=13)\n",
    "plt.ylabel(\"componente principal dois\", fontsize=13)\n",
    "plt.scatter(X_fake_pca[:,0], X_fake_pca[:,1], color=\"red\", label=\"fake\", alpha=0.2)\n",
    "plt.scatter(X_train_pca[:,0], X_train_pca[:,1], color=\"green\", label=\"real\", alpha=1)\n",
    "plt.scatter(Nhkg[:,0], Nhkg[:,1], color=\"blue\")\n",
    "plt.legend();"
   ]
  },
  {
   "cell_type": "code",
   "execution_count": null,
   "metadata": {},
   "outputs": [],
   "source": []
  }
 ],
 "metadata": {
  "celltoolbar": "Raw Cell Format",
  "kernelspec": {
   "display_name": "Python 3",
   "language": "python",
   "name": "python3"
  },
  "language_info": {
   "codemirror_mode": {
    "name": "ipython",
    "version": 3
   },
   "file_extension": ".py",
   "mimetype": "text/x-python",
   "name": "python",
   "nbconvert_exporter": "python",
   "pygments_lexer": "ipython3",
   "version": "3.6.8"
  }
 },
 "nbformat": 4,
 "nbformat_minor": 2
}
