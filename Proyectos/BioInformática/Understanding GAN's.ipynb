{
 "cells": [
  {
   "cell_type": "code",
   "execution_count": 1,
   "metadata": {},
   "outputs": [],
   "source": [
    "import numpy as np\n",
    "import pandas as pd\n",
    "from time import time\n",
    "import matplotlib.pyplot as plt\n",
    "from tensorflow.keras.models import Sequential\n",
    "from tensorflow.keras.layers import Dense, Dropout, LeakyReLU, Reshape, Flatten\n",
    "from tensorflow.keras.optimizers import Adam, RMSprop"
   ]
  },
  {
   "cell_type": "markdown",
   "metadata": {},
   "source": [
    "<center><h2>Jupyter Notebook para entender el modelamiento matemático de las GANs y ponerlo en práctica.</h2></center><br>\n",
    "<b>Autor:</b> Edwin Jahir Rueda Rojas<br>\n",
    "<b>email:</b> ejrueda95g@gmail.com<br>\n",
    "<b>website:</b> edwinrueda.com<br>\n",
    "<b>github:</b> https://github.com/ejrueda<br><br>\n",
    "Todo el contenido aquí realizado se basa en el artículo publicado por Ian J. Goodfellow et al. Titulado: <i><b>Generative Adversarial Nets</b></i>. (https://arxiv.org/abs/1406.2661)"
   ]
  },
  {
   "cell_type": "markdown",
   "metadata": {},
   "source": [
    "<h1>Arquitectura GAN</h1><br>\n",
    "- Se entrenan dos modelos G y D simultaneamente, en los cuales el modelo generativo G captura la distribuición de los datos reales, y el modelo discriminativo D estima la probabilidad de que dado un ejemplo, este sea de la distribuición original o no.\n",
    "\n",
    "#### Objetivo:\n",
    "- El objetivo de esta red es entrenar la red generadora G para maximizar la probabilidad de que la red Discriminadora D cometa errores de intendificación de la distribuición. Esto corresponde a un juego de mini-max entre dos jugadores, y solo existe una única solución, la cual ocurre cuando la red Generadora G capta la distribuición de los datos y así la red Discriminadora D no consigue diferenciar los ejemplos, teniendo así 0.5 de acierto.\n",
    "\n",
    "Cabe aclarar que esto se puede implementar con dos redes perceptrones multicapa utilizando el algoritmo <i>backpropagation</i> para el entrenamiento."
   ]
  },
  {
   "cell_type": "markdown",
   "metadata": {},
   "source": [
    "## Ejemplo práctico\n",
    "- Para nuestro ejemplo práctico, se tomará tomará una base de datos de genes y se trataŕa de generar nuevos genes a partir del modelamiento de la distribuición que aprenderá la red Generadora."
   ]
  },
  {
   "cell_type": "markdown",
   "metadata": {},
   "source": [
    "### Red Generadora G\n",
    "- Se toma una distribuición Gaussiana como entrada a la red Generadora para así generar los datos sintéticos (fake).\n",
    "- Con la red generadora lo que se quiere es ir del espació de datos de la distribuición inicial, a el espacio de datos de la distribuición que se quiere replicar, por eso la salida de esta red no es un simple escalar como en un problema de clasificación, esta red tiene como salida los datos que la red cree que pertenecen al espacio original."
   ]
  },
  {
   "cell_type": "code",
   "execution_count": 2,
   "metadata": {},
   "outputs": [],
   "source": [
    "def generator(noise_input, out_dim):\n",
    "    \"\"\"\n",
    "    noise_input: vector con los datos de la distribuición inicial\n",
    "    out_dim: dimension de la salida esperada, por ejemplo si es una imagen\n",
    "             en escala de gris, sería out_dim: (32,32,1)\n",
    "    Retorna el modelo Generador\n",
    "    \"\"\"\n",
    "    model = Sequential()\n",
    "    model.add(Dense(256, input_shape=(noise_input,)))\n",
    "    model.add(LeakyReLU(alpha=0.3))\n",
    "    model.add(Dropout(.1))\n",
    "    model.add(Dense(np.prod(out_dim), activation=\"tanh\"))\n",
    "    model.add(Reshape(out_dim))\n",
    "    \n",
    "    return model"
   ]
  },
  {
   "cell_type": "code",
   "execution_count": 3,
   "metadata": {},
   "outputs": [
    {
     "name": "stdout",
     "output_type": "stream",
     "text": [
      "Dimension del ruido de entrada:  100\n",
      "WARNING:tensorflow:From /home/edwin/.local/lib/python3.6/site-packages/tensorflow_core/python/ops/resource_variable_ops.py:1630: calling BaseResourceVariable.__init__ (from tensorflow.python.ops.resource_variable_ops) with constraint is deprecated and will be removed in a future version.\n",
      "Instructions for updating:\n",
      "If using Keras pass *_constraint arguments to layers.\n"
     ]
    }
   ],
   "source": [
    "noise_input = 100\n",
    "print(\"Dimension del ruido de entrada: \",noise_input)\n",
    "G = generator(noise_input, out_dim=(9,))\n",
    "optimizerG = Adam(lr=0.0004, beta_1=0.5)\n",
    "G.compile(loss='binary_crossentropy', optimizer=optimizerG)"
   ]
  },
  {
   "cell_type": "code",
   "execution_count": 4,
   "metadata": {},
   "outputs": [
    {
     "name": "stdout",
     "output_type": "stream",
     "text": [
      "Model: \"sequential\"\n",
      "_________________________________________________________________\n",
      "Layer (type)                 Output Shape              Param #   \n",
      "=================================================================\n",
      "dense (Dense)                (None, 256)               25856     \n",
      "_________________________________________________________________\n",
      "leaky_re_lu (LeakyReLU)      (None, 256)               0         \n",
      "_________________________________________________________________\n",
      "dropout (Dropout)            (None, 256)               0         \n",
      "_________________________________________________________________\n",
      "dense_1 (Dense)              (None, 9)                 2313      \n",
      "_________________________________________________________________\n",
      "reshape (Reshape)            (None, 9)                 0         \n",
      "=================================================================\n",
      "Total params: 28,169\n",
      "Trainable params: 28,169\n",
      "Non-trainable params: 0\n",
      "_________________________________________________________________\n"
     ]
    }
   ],
   "source": [
    "G.summary()"
   ]
  },
  {
   "cell_type": "code",
   "execution_count": 5,
   "metadata": {},
   "outputs": [
    {
     "name": "stdout",
     "output_type": "stream",
     "text": [
      "Dimension de los datos de entrada: (50, 100)\n",
      "Dimension de los ejemplos generados: (50, 9)\n"
     ]
    }
   ],
   "source": [
    "noise = np.random.normal(loc=0, scale=1, size=(50,100))\n",
    "print(\"Dimension de los datos de entrada:\", noise.shape)\n",
    "data_fake = G.predict(noise)\n",
    "print(\"Dimension de los ejemplos generados:\", data_fake.shape)"
   ]
  },
  {
   "cell_type": "markdown",
   "metadata": {},
   "source": [
    "### Red discriminadora D\n",
    "- La red discriminadora funciona como una red clasificadora, la cual tendrá dos categorias, 0 si los datos son de la distribuición real y 1 si los datos vienen de la distribuición falsa (fake)."
   ]
  },
  {
   "cell_type": "code",
   "execution_count": 6,
   "metadata": {},
   "outputs": [],
   "source": [
    "def discriminator(input_dim):\n",
    "    \"\"\"\n",
    "    input_dim: dimension de los datos de entrada,\n",
    "               por ejemplo si es una imagen en escala de gris,\n",
    "               sería input_dim: (32,32,1)\n",
    "    \"\"\"\n",
    "    model = Sequential()\n",
    "    model.add(Dense(32, input_shape=input_dim))\n",
    "    model.add(LeakyReLU(alpha=0.2)) #función rectificadora\n",
    "    model.add(Dropout(.1))\n",
    "    model.add(Dense(32))\n",
    "    model.add(Flatten())\n",
    "    #activación sigmoid ya que se precisa establecer si es 0 ó 1.\n",
    "    model.add(Dense(1, activation='sigmoid'))\n",
    "    return model"
   ]
  },
  {
   "cell_type": "code",
   "execution_count": 7,
   "metadata": {},
   "outputs": [
    {
     "name": "stdout",
     "output_type": "stream",
     "text": [
      "WARNING:tensorflow:From /home/edwin/.local/lib/python3.6/site-packages/tensorflow_core/python/ops/nn_impl.py:183: where (from tensorflow.python.ops.array_ops) is deprecated and will be removed in a future version.\n",
      "Instructions for updating:\n",
      "Use tf.where in 2.0, which has the same broadcast rule as np.where\n"
     ]
    }
   ],
   "source": [
    "D = discriminator((9,))\n",
    "optimizerD = Adam(lr=0.0001, beta_1=0.5)\n",
    "D.compile(loss='binary_crossentropy', optimizer=optimizerD, metrics=['accuracy'])"
   ]
  },
  {
   "cell_type": "markdown",
   "metadata": {},
   "source": [
    "### Red GAN\n",
    "- La red GAN está creada conectando tanto la red G como la red D de forma secuencial, recordando que la red D debe ser entrenada de forma separada, para que el algoritmo de <i>backpropagation</i> no afecte los pesos de la red G, asi, una vez la red D se entrene, se procede a entrenar la GAN, la cual mudará solo los pesos de la red G, ya que los de la red D no se pueden actualizar en este paso. Esto se repite la cantidad de <i>epochs</i> que se definan."
   ]
  },
  {
   "cell_type": "code",
   "execution_count": 8,
   "metadata": {},
   "outputs": [],
   "source": [
    "def Gan(generator, discriminator):\n",
    "    \"\"\"\n",
    "    recibe como parámetros de entrada las redes\n",
    "    generador y discriminador\n",
    "    \"\"\"\n",
    "    model = Sequential()\n",
    "    model.add(generator)\n",
    "    discriminator.trainable = False\n",
    "    model.add(discriminator)\n",
    "    return model"
   ]
  },
  {
   "cell_type": "code",
   "execution_count": 9,
   "metadata": {},
   "outputs": [
    {
     "name": "stdout",
     "output_type": "stream",
     "text": [
      "Model: \"sequential_2\"\n",
      "_________________________________________________________________\n",
      "Layer (type)                 Output Shape              Param #   \n",
      "=================================================================\n",
      "sequential (Sequential)      (None, 9)                 28169     \n",
      "_________________________________________________________________\n",
      "sequential_1 (Sequential)    (None, 1)                 1409      \n",
      "=================================================================\n",
      "Total params: 29,578\n",
      "Trainable params: 28,169\n",
      "Non-trainable params: 1,409\n",
      "_________________________________________________________________\n"
     ]
    }
   ],
   "source": [
    "gan = Gan(G,D)\n",
    "gan.compile(loss='binary_crossentropy', optimizer=optimizerG)\n",
    "gan.summary()"
   ]
  },
  {
   "cell_type": "markdown",
   "metadata": {},
   "source": [
    "### Entrenamiento de la red\n",
    "- Para entrenar la red, primero se creará una función con la cual se obtendrán los <i>bacth</i> con los cuales se entrenara la red en cada <i>epochs</i>.\n",
    "- Como se mencionó anteriormente, en cada <i>epochs</i> la red discriminadora D es entrenada a parte y luego es entrenada la red GAN, recordando que esta solo actualiza los pesos de la red generadora G mediante <i>backpropagation</i>."
   ]
  },
  {
   "cell_type": "code",
   "execution_count": 10,
   "metadata": {},
   "outputs": [],
   "source": [
    "def get_batches(X_train, batch_size):\n",
    "    \"\"\"\n",
    "    X_train: dataset para o treino\n",
    "    epochs: quantidade de epocas para o treino do gradiente\n",
    "    batch: tamanho to batch pra o treino de cada epochs\n",
    "    \"\"\"\n",
    "    batches = []\n",
    "    num_bat = int(np.ceil(X_train.shape[0]/batch_size))\n",
    "    lim_i = 0\n",
    "    lim_s = batch_size\n",
    "    for i in range(num_bat):\n",
    "        if lim_s > X_train.shape[0]:\n",
    "            lim_s = X_train.shape[0]\n",
    "        batches.append(X_train[lim_i:lim_s])\n",
    "        lim_i += batch_size\n",
    "        lim_s += batch_size\n",
    "    return batches"
   ]
  },
  {
   "cell_type": "code",
   "execution_count": 11,
   "metadata": {},
   "outputs": [],
   "source": [
    "#treinamento da GAN\n",
    "def train(X_train, epochs, batch_size, G, D, gan, noise_input):\n",
    "    g_loss = []\n",
    "    d_loss = []\n",
    "    for epoch in range(epochs):\n",
    "        batches = get_batches(X_train, batch_size)\n",
    "        count_b = 0\n",
    "        t_i = time()\n",
    "        for batch in batches:\n",
    "            gen_noise = np.random.normal(0, 1, (np.int64(batch.shape[0]), noise_input))\n",
    "            #gerando as imagens fake\n",
    "            syntetic_data = G.predict(gen_noise)\n",
    "            #criação do array de treinamento\n",
    "            x_combined_batch = np.concatenate((batch, syntetic_data))\n",
    "            y_combined_batch = np.concatenate((np.ones((batch.shape[0], 1)),\n",
    "                                               np.zeros((batch.shape[0], 1))))\n",
    "            #misturar os dados\n",
    "            #x_combined_batch, y_combined_batch = shuffle(x_combined_batch, y_combined_batch)\n",
    "            #treino do discriminador\n",
    "            d_l = D.train_on_batch(x_combined_batch, y_combined_batch)\n",
    "            # train generator\n",
    "            noise = np.random.normal(0, 1, (batch.shape[0], noise_input))\n",
    "            y_mislabled = np.ones((batch.shape[0], 1))\n",
    "\n",
    "            g_l = gan.train_on_batch(noise, y_mislabled)\n",
    " \n",
    "        t_f = time()\n",
    "        t = t_f - t_i\n",
    "        t_i = time()\n",
    "        d_loss.append(d_l[0])\n",
    "        g_loss.append(g_l)\n",
    "        print ('epoch:[%d/%d] [Discriminator::d_loss: %f],[Generator::loss: %f], %f[sec]'\n",
    "                   % (epoch+1, epochs, d_loss[-1], g_loss[-1], t))\n",
    "        \n",
    "    return g_loss, d_loss"
   ]
  },
  {
   "cell_type": "code",
   "execution_count": 12,
   "metadata": {},
   "outputs": [
    {
     "name": "stdout",
     "output_type": "stream",
     "text": [
      "Dimensionalidade dos dados:  (4051, 9)\n"
     ]
    },
    {
     "data": {
      "text/html": [
       "<div>\n",
       "<style scoped>\n",
       "    .dataframe tbody tr th:only-of-type {\n",
       "        vertical-align: middle;\n",
       "    }\n",
       "\n",
       "    .dataframe tbody tr th {\n",
       "        vertical-align: top;\n",
       "    }\n",
       "\n",
       "    .dataframe thead th {\n",
       "        text-align: right;\n",
       "    }\n",
       "</style>\n",
       "<table border=\"1\" class=\"dataframe\">\n",
       "  <thead>\n",
       "    <tr style=\"text-align: right;\">\n",
       "      <th></th>\n",
       "      <th>BB9</th>\n",
       "      <th>BB10</th>\n",
       "      <th>BB17</th>\n",
       "      <th>BB19</th>\n",
       "      <th>BB20</th>\n",
       "      <th>BB21</th>\n",
       "      <th>BB11</th>\n",
       "      <th>BB12</th>\n",
       "      <th>BB18</th>\n",
       "    </tr>\n",
       "    <tr>\n",
       "      <th>Genes</th>\n",
       "      <th></th>\n",
       "      <th></th>\n",
       "      <th></th>\n",
       "      <th></th>\n",
       "      <th></th>\n",
       "      <th></th>\n",
       "      <th></th>\n",
       "      <th></th>\n",
       "      <th></th>\n",
       "    </tr>\n",
       "  </thead>\n",
       "  <tbody>\n",
       "    <tr>\n",
       "      <td>accD</td>\n",
       "      <td>6.875411</td>\n",
       "      <td>7.047582</td>\n",
       "      <td>7.431765</td>\n",
       "      <td>7.105877</td>\n",
       "      <td>6.516094</td>\n",
       "      <td>6.676126</td>\n",
       "      <td>6.304694</td>\n",
       "      <td>6.168221</td>\n",
       "      <td>6.245553</td>\n",
       "    </tr>\n",
       "    <tr>\n",
       "      <td>aceF</td>\n",
       "      <td>7.732412</td>\n",
       "      <td>7.674997</td>\n",
       "      <td>8.397717</td>\n",
       "      <td>7.455056</td>\n",
       "      <td>7.277269</td>\n",
       "      <td>6.525536</td>\n",
       "      <td>7.455730</td>\n",
       "      <td>6.403830</td>\n",
       "      <td>7.597941</td>\n",
       "    </tr>\n",
       "    <tr>\n",
       "      <td>ackA</td>\n",
       "      <td>7.231720</td>\n",
       "      <td>7.260976</td>\n",
       "      <td>8.033280</td>\n",
       "      <td>6.921924</td>\n",
       "      <td>6.920829</td>\n",
       "      <td>6.556644</td>\n",
       "      <td>6.358150</td>\n",
       "      <td>5.888768</td>\n",
       "      <td>6.359310</td>\n",
       "    </tr>\n",
       "    <tr>\n",
       "      <td>agaV</td>\n",
       "      <td>6.048825</td>\n",
       "      <td>6.250033</td>\n",
       "      <td>5.120269</td>\n",
       "      <td>5.559767</td>\n",
       "      <td>5.915593</td>\n",
       "      <td>6.279490</td>\n",
       "      <td>6.441998</td>\n",
       "      <td>6.553099</td>\n",
       "      <td>6.105364</td>\n",
       "    </tr>\n",
       "    <tr>\n",
       "      <td>alaS</td>\n",
       "      <td>7.811728</td>\n",
       "      <td>7.853890</td>\n",
       "      <td>8.622037</td>\n",
       "      <td>7.636451</td>\n",
       "      <td>7.641365</td>\n",
       "      <td>7.125920</td>\n",
       "      <td>7.164957</td>\n",
       "      <td>6.555678</td>\n",
       "      <td>7.098590</td>\n",
       "    </tr>\n",
       "  </tbody>\n",
       "</table>\n",
       "</div>"
      ],
      "text/plain": [
       "            BB9      BB10      BB17      BB19      BB20      BB21      BB11  \\\n",
       "Genes                                                                         \n",
       "accD   6.875411  7.047582  7.431765  7.105877  6.516094  6.676126  6.304694   \n",
       "aceF   7.732412  7.674997  8.397717  7.455056  7.277269  6.525536  7.455730   \n",
       "ackA   7.231720  7.260976  8.033280  6.921924  6.920829  6.556644  6.358150   \n",
       "agaV   6.048825  6.250033  5.120269  5.559767  5.915593  6.279490  6.441998   \n",
       "alaS   7.811728  7.853890  8.622037  7.636451  7.641365  7.125920  7.164957   \n",
       "\n",
       "           BB12      BB18  \n",
       "Genes                      \n",
       "accD   6.168221  6.245553  \n",
       "aceF   6.403830  7.597941  \n",
       "ackA   5.888768  6.359310  \n",
       "agaV   6.553099  6.105364  \n",
       "alaS   6.555678  7.098590  "
      ]
     },
     "execution_count": 12,
     "metadata": {},
     "output_type": "execute_result"
    }
   ],
   "source": [
    "X_train = pd.read_csv(\"./data/ClustREFGenes-master/Data/Core_genome/Data_Core_Genome_Ecoli_log2.csv\",\n",
    "                  index_col=0)\n",
    "print(\"Dimensionalidade dos dados: \", X_train.shape)\n",
    "X_train.head()"
   ]
  },
  {
   "cell_type": "code",
   "execution_count": 13,
   "metadata": {},
   "outputs": [],
   "source": [
    "max_val = 1\n",
    "min_val = -1\n",
    "X_train = ((X_train - np.min(X_train))/(np.max(X_train) - np.min(X_train)))*(max_val - min_val) + min_val"
   ]
  },
  {
   "cell_type": "code",
   "execution_count": 14,
   "metadata": {},
   "outputs": [
    {
     "data": {
      "text/plain": [
       "(4051, 9)"
      ]
     },
     "execution_count": 14,
     "metadata": {},
     "output_type": "execute_result"
    }
   ],
   "source": [
    "X_train.shape"
   ]
  },
  {
   "cell_type": "code",
   "execution_count": 15,
   "metadata": {
    "scrolled": true
   },
   "outputs": [
    {
     "name": "stdout",
     "output_type": "stream",
     "text": [
      "WARNING:tensorflow:Discrepancy between trainable weights and collected trainable weights, did you set `model.trainable` without calling `model.compile` after ?\n",
      "epoch:[1/100] [Discriminator::d_loss: 0.696925],[Generator::loss: 0.682230], 1.810640[sec]\n",
      "epoch:[2/100] [Discriminator::d_loss: 0.727474],[Generator::loss: 0.667597], 0.819443[sec]\n",
      "epoch:[3/100] [Discriminator::d_loss: 0.683857],[Generator::loss: 0.773410], 0.820726[sec]\n",
      "epoch:[4/100] [Discriminator::d_loss: 0.653054],[Generator::loss: 0.798441], 0.869345[sec]\n",
      "epoch:[5/100] [Discriminator::d_loss: 0.678749],[Generator::loss: 0.653326], 0.834114[sec]\n",
      "epoch:[6/100] [Discriminator::d_loss: 0.679531],[Generator::loss: 0.769332], 0.855852[sec]\n",
      "epoch:[7/100] [Discriminator::d_loss: 0.655300],[Generator::loss: 0.769057], 0.898130[sec]\n",
      "epoch:[8/100] [Discriminator::d_loss: 0.662749],[Generator::loss: 0.771425], 0.952361[sec]\n",
      "epoch:[9/100] [Discriminator::d_loss: 0.682209],[Generator::loss: 0.705284], 0.837830[sec]\n",
      "epoch:[10/100] [Discriminator::d_loss: 0.668397],[Generator::loss: 0.731623], 0.814991[sec]\n",
      "epoch:[11/100] [Discriminator::d_loss: 0.672104],[Generator::loss: 0.738191], 0.814484[sec]\n",
      "epoch:[12/100] [Discriminator::d_loss: 0.675383],[Generator::loss: 0.711194], 0.831768[sec]\n",
      "epoch:[13/100] [Discriminator::d_loss: 0.692867],[Generator::loss: 0.715414], 0.830626[sec]\n",
      "epoch:[14/100] [Discriminator::d_loss: 0.689342],[Generator::loss: 0.705718], 0.822294[sec]\n",
      "epoch:[15/100] [Discriminator::d_loss: 0.689781],[Generator::loss: 0.695756], 0.815919[sec]\n",
      "epoch:[16/100] [Discriminator::d_loss: 0.691640],[Generator::loss: 0.697834], 0.815542[sec]\n",
      "epoch:[17/100] [Discriminator::d_loss: 0.692722],[Generator::loss: 0.697086], 0.822393[sec]\n",
      "epoch:[18/100] [Discriminator::d_loss: 0.694748],[Generator::loss: 0.709589], 0.820507[sec]\n",
      "epoch:[19/100] [Discriminator::d_loss: 0.692569],[Generator::loss: 0.692269], 0.812650[sec]\n",
      "epoch:[20/100] [Discriminator::d_loss: 0.696412],[Generator::loss: 0.692663], 0.812959[sec]\n",
      "epoch:[21/100] [Discriminator::d_loss: 0.692140],[Generator::loss: 0.687887], 0.819122[sec]\n",
      "epoch:[22/100] [Discriminator::d_loss: 0.701635],[Generator::loss: 0.697590], 0.823194[sec]\n",
      "epoch:[23/100] [Discriminator::d_loss: 0.694574],[Generator::loss: 0.688076], 0.897155[sec]\n",
      "epoch:[24/100] [Discriminator::d_loss: 0.700263],[Generator::loss: 0.691473], 0.815727[sec]\n",
      "epoch:[25/100] [Discriminator::d_loss: 0.695173],[Generator::loss: 0.698019], 0.814965[sec]\n",
      "epoch:[26/100] [Discriminator::d_loss: 0.697312],[Generator::loss: 0.681051], 0.822399[sec]\n",
      "epoch:[27/100] [Discriminator::d_loss: 0.694942],[Generator::loss: 0.685954], 0.843476[sec]\n",
      "epoch:[28/100] [Discriminator::d_loss: 0.692839],[Generator::loss: 0.694767], 0.839473[sec]\n",
      "epoch:[29/100] [Discriminator::d_loss: 0.696760],[Generator::loss: 0.684089], 0.854448[sec]\n",
      "epoch:[30/100] [Discriminator::d_loss: 0.694080],[Generator::loss: 0.700838], 0.877245[sec]\n",
      "epoch:[31/100] [Discriminator::d_loss: 0.693944],[Generator::loss: 0.692211], 0.863826[sec]\n",
      "epoch:[32/100] [Discriminator::d_loss: 0.694904],[Generator::loss: 0.695954], 0.820824[sec]\n",
      "epoch:[33/100] [Discriminator::d_loss: 0.698176],[Generator::loss: 0.684750], 0.817119[sec]\n",
      "epoch:[34/100] [Discriminator::d_loss: 0.704670],[Generator::loss: 0.690184], 0.819712[sec]\n",
      "epoch:[35/100] [Discriminator::d_loss: 0.694336],[Generator::loss: 0.690615], 0.820950[sec]\n",
      "epoch:[36/100] [Discriminator::d_loss: 0.691711],[Generator::loss: 0.693159], 0.817002[sec]\n",
      "epoch:[37/100] [Discriminator::d_loss: 0.695103],[Generator::loss: 0.691636], 0.815573[sec]\n",
      "epoch:[38/100] [Discriminator::d_loss: 0.693286],[Generator::loss: 0.696701], 0.820542[sec]\n",
      "epoch:[39/100] [Discriminator::d_loss: 0.691234],[Generator::loss: 0.687337], 0.822554[sec]\n",
      "epoch:[40/100] [Discriminator::d_loss: 0.700520],[Generator::loss: 0.693501], 0.817066[sec]\n",
      "epoch:[41/100] [Discriminator::d_loss: 0.695555],[Generator::loss: 0.686740], 0.820632[sec]\n",
      "epoch:[42/100] [Discriminator::d_loss: 0.700985],[Generator::loss: 0.694182], 0.820941[sec]\n",
      "epoch:[43/100] [Discriminator::d_loss: 0.697220],[Generator::loss: 0.697175], 0.817699[sec]\n",
      "epoch:[44/100] [Discriminator::d_loss: 0.694792],[Generator::loss: 0.692226], 0.828562[sec]\n",
      "epoch:[45/100] [Discriminator::d_loss: 0.695705],[Generator::loss: 0.686947], 0.821856[sec]\n",
      "epoch:[46/100] [Discriminator::d_loss: 0.691144],[Generator::loss: 0.696446], 0.816329[sec]\n",
      "epoch:[47/100] [Discriminator::d_loss: 0.691239],[Generator::loss: 0.692463], 0.823814[sec]\n",
      "epoch:[48/100] [Discriminator::d_loss: 0.693403],[Generator::loss: 0.693000], 0.823706[sec]\n",
      "epoch:[49/100] [Discriminator::d_loss: 0.694785],[Generator::loss: 0.707373], 0.819906[sec]\n",
      "epoch:[50/100] [Discriminator::d_loss: 0.691214],[Generator::loss: 0.705699], 0.821026[sec]\n",
      "epoch:[51/100] [Discriminator::d_loss: 0.688199],[Generator::loss: 0.692564], 0.823043[sec]\n",
      "epoch:[52/100] [Discriminator::d_loss: 0.693605],[Generator::loss: 0.692905], 0.816348[sec]\n",
      "epoch:[53/100] [Discriminator::d_loss: 0.693715],[Generator::loss: 0.691388], 0.819581[sec]\n",
      "epoch:[54/100] [Discriminator::d_loss: 0.697329],[Generator::loss: 0.689051], 0.822747[sec]\n",
      "epoch:[55/100] [Discriminator::d_loss: 0.698309],[Generator::loss: 0.702006], 0.883358[sec]\n",
      "epoch:[56/100] [Discriminator::d_loss: 0.690823],[Generator::loss: 0.694665], 0.947152[sec]\n",
      "epoch:[57/100] [Discriminator::d_loss: 0.694152],[Generator::loss: 0.693754], 0.817896[sec]\n",
      "epoch:[58/100] [Discriminator::d_loss: 0.694210],[Generator::loss: 0.691894], 0.833782[sec]\n",
      "epoch:[59/100] [Discriminator::d_loss: 0.689320],[Generator::loss: 0.693944], 0.876115[sec]\n",
      "epoch:[60/100] [Discriminator::d_loss: 0.695841],[Generator::loss: 0.696843], 0.918821[sec]\n",
      "epoch:[61/100] [Discriminator::d_loss: 0.694168],[Generator::loss: 0.692284], 0.910095[sec]\n",
      "epoch:[62/100] [Discriminator::d_loss: 0.696806],[Generator::loss: 0.698561], 0.879837[sec]\n",
      "epoch:[63/100] [Discriminator::d_loss: 0.697422],[Generator::loss: 0.689449], 0.906831[sec]\n",
      "epoch:[64/100] [Discriminator::d_loss: 0.694839],[Generator::loss: 0.695352], 0.916466[sec]\n",
      "epoch:[65/100] [Discriminator::d_loss: 0.698700],[Generator::loss: 0.687000], 0.954520[sec]\n",
      "epoch:[66/100] [Discriminator::d_loss: 0.696497],[Generator::loss: 0.692011], 0.963417[sec]\n",
      "epoch:[67/100] [Discriminator::d_loss: 0.695364],[Generator::loss: 0.690587], 0.953302[sec]\n",
      "epoch:[68/100] [Discriminator::d_loss: 0.690609],[Generator::loss: 0.689705], 1.016935[sec]\n",
      "epoch:[69/100] [Discriminator::d_loss: 0.697761],[Generator::loss: 0.683193], 0.967800[sec]\n",
      "epoch:[70/100] [Discriminator::d_loss: 0.694389],[Generator::loss: 0.688064], 1.060477[sec]\n",
      "epoch:[71/100] [Discriminator::d_loss: 0.699251],[Generator::loss: 0.695771], 1.312937[sec]\n",
      "epoch:[72/100] [Discriminator::d_loss: 0.695773],[Generator::loss: 0.695312], 1.474127[sec]\n",
      "epoch:[73/100] [Discriminator::d_loss: 0.696542],[Generator::loss: 0.691213], 1.152545[sec]\n",
      "epoch:[74/100] [Discriminator::d_loss: 0.693476],[Generator::loss: 0.695296], 1.066385[sec]\n",
      "epoch:[75/100] [Discriminator::d_loss: 0.693681],[Generator::loss: 0.702105], 1.383657[sec]\n",
      "epoch:[76/100] [Discriminator::d_loss: 0.694089],[Generator::loss: 0.696188], 1.436894[sec]\n",
      "epoch:[77/100] [Discriminator::d_loss: 0.696950],[Generator::loss: 0.691469], 1.178886[sec]\n",
      "epoch:[78/100] [Discriminator::d_loss: 0.693462],[Generator::loss: 0.688310], 1.032388[sec]\n",
      "epoch:[79/100] [Discriminator::d_loss: 0.688918],[Generator::loss: 0.697185], 0.952823[sec]\n",
      "epoch:[80/100] [Discriminator::d_loss: 0.694610],[Generator::loss: 0.691877], 1.060941[sec]\n",
      "epoch:[81/100] [Discriminator::d_loss: 0.693770],[Generator::loss: 0.692468], 0.958653[sec]\n",
      "epoch:[82/100] [Discriminator::d_loss: 0.694845],[Generator::loss: 0.688230], 1.286114[sec]\n",
      "epoch:[83/100] [Discriminator::d_loss: 0.692302],[Generator::loss: 0.689497], 1.261953[sec]\n",
      "epoch:[84/100] [Discriminator::d_loss: 0.696150],[Generator::loss: 0.693915], 0.925110[sec]\n",
      "epoch:[85/100] [Discriminator::d_loss: 0.692547],[Generator::loss: 0.694014], 0.924299[sec]\n",
      "epoch:[86/100] [Discriminator::d_loss: 0.694082],[Generator::loss: 0.693118], 0.833427[sec]\n",
      "epoch:[87/100] [Discriminator::d_loss: 0.692033],[Generator::loss: 0.694185], 0.950740[sec]\n",
      "epoch:[88/100] [Discriminator::d_loss: 0.692205],[Generator::loss: 0.692927], 0.899875[sec]\n"
     ]
    },
    {
     "name": "stdout",
     "output_type": "stream",
     "text": [
      "epoch:[89/100] [Discriminator::d_loss: 0.695597],[Generator::loss: 0.692768], 0.889837[sec]\n",
      "epoch:[90/100] [Discriminator::d_loss: 0.697904],[Generator::loss: 0.684438], 0.880280[sec]\n",
      "epoch:[91/100] [Discriminator::d_loss: 0.693342],[Generator::loss: 0.690849], 0.923963[sec]\n",
      "epoch:[92/100] [Discriminator::d_loss: 0.691995],[Generator::loss: 0.696965], 0.919555[sec]\n",
      "epoch:[93/100] [Discriminator::d_loss: 0.692870],[Generator::loss: 0.691418], 0.897162[sec]\n",
      "epoch:[94/100] [Discriminator::d_loss: 0.693863],[Generator::loss: 0.699585], 0.825281[sec]\n",
      "epoch:[95/100] [Discriminator::d_loss: 0.696532],[Generator::loss: 0.695842], 0.849464[sec]\n",
      "epoch:[96/100] [Discriminator::d_loss: 0.695293],[Generator::loss: 0.695121], 0.968748[sec]\n",
      "epoch:[97/100] [Discriminator::d_loss: 0.693500],[Generator::loss: 0.689994], 0.974198[sec]\n",
      "epoch:[98/100] [Discriminator::d_loss: 0.695241],[Generator::loss: 0.693924], 0.982965[sec]\n",
      "epoch:[99/100] [Discriminator::d_loss: 0.696061],[Generator::loss: 0.693338], 0.875030[sec]\n",
      "epoch:[100/100] [Discriminator::d_loss: 0.694244],[Generator::loss: 0.690141], 0.871013[sec]\n"
     ]
    }
   ],
   "source": [
    "ep = 100\n",
    "g_loss, d_loss = train(X_train, epochs=ep, batch_size=32, G=G, D=D, gan=gan, noise_input=100)"
   ]
  },
  {
   "cell_type": "code",
   "execution_count": 17,
   "metadata": {},
   "outputs": [
    {
     "data": {
      "image/png": "[encoded data removed]",
      "text/plain": [
       "<Figure size 864x360 with 1 Axes>"
      ]
     },
     "metadata": {
      "needs_background": "light"
     },
     "output_type": "display_data"
    }
   ],
   "source": [
    "plt.figure(figsize=(12,5))\n",
    "plt.title(\"Loss GAN\", fontsize=14)\n",
    "plt.plot(range(ep), g_loss, label=\"loss red G\")\n",
    "plt.plot(range(ep), d_loss, label=\"loss red D\")\n",
    "plt.xlabel(\"epochs\")\n",
    "plt.ylabel(\"loss\")\n",
    "plt.grid()\n",
    "plt.legend();"
   ]
  },
  {
   "cell_type": "code",
   "execution_count": null,
   "metadata": {},
   "outputs": [],
   "source": []
  }
 ],
 "metadata": {
  "kernelspec": {
   "display_name": "Python 3",
   "language": "python",
   "name": "python3"
  },
  "language_info": {
   "codemirror_mode": {
    "name": "ipython",
    "version": 3
   },
   "file_extension": ".py",
   "mimetype": "text/x-python",
   "name": "python",
   "nbconvert_exporter": "python",
   "pygments_lexer": "ipython3",
   "version": "3.6.8"
  }
 },
 "nbformat": 4,
 "nbformat_minor": 2
}
