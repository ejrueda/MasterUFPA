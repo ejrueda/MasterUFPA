{
 "cells": [
  {
   "cell_type": "code",
   "execution_count": 85,
   "metadata": {},
   "outputs": [],
   "source": [
    "import numpy as np\n",
    "import pandas as pd\n",
    "from time import time\n",
    "import matplotlib.pyplot as plt\n",
    "from sklearn.decomposition import PCA\n",
    "from tensorflow.keras.models import Sequential\n",
    "from tensorflow.keras.layers import Dense, Dropout, LeakyReLU, Reshape, Flatten\n",
    "from tensorflow.keras.optimizers import Adam, RMSprop, SGD"
   ]
  },
  {
   "cell_type": "markdown",
   "metadata": {},
   "source": [
    "<center><h2>Jupyter Notebook para entender el modelamiento matemático de las GANs y ponerlo en práctica.</h2></center><br>\n",
    "<b>Autor:</b> Edwin Jahir Rueda Rojas<br>\n",
    "<b>email:</b> ejrueda95g@gmail.com<br>\n",
    "<b>website:</b> edwinrueda.com<br>\n",
    "<b>github:</b> https://github.com/ejrueda<br><br>\n",
    "Todo el contenido aquí realizado se basa en el artículo publicado por Ian J. Goodfellow et al. Titulado: <i><b>Generative Adversarial Nets</b></i>. (https://arxiv.org/abs/1406.2661)"
   ]
  },
  {
   "cell_type": "markdown",
   "metadata": {},
   "source": [
    "<h1>Arquitectura GAN</h1><br>\n",
    "- Se entrenan dos modelos G y D simultaneamente, en los cuales el modelo generativo G captura la distribuición de los datos reales, y el modelo discriminativo D estima la probabilidad de que dado un ejemplo, este sea de la distribuición original o no.\n",
    "\n",
    "#### Objetivo:\n",
    "- El objetivo de esta red es entrenar la red generadora G para maximizar la probabilidad de que la red Discriminadora D cometa errores de intendificación de la distribuición. Esto corresponde a un juego de mini-max entre dos jugadores, y solo existe una única solución, la cual ocurre cuando la red Generadora G capta la distribuición de los datos y así la red Discriminadora D no consigue diferenciar los ejemplos, teniendo así 0.5 de acierto.\n",
    "\n",
    "Cabe aclarar que esto se puede implementar con dos redes perceptrones multicapa utilizando el algoritmo <i>backpropagation</i> para el entrenamiento."
   ]
  },
  {
   "cell_type": "markdown",
   "metadata": {},
   "source": [
    "## Ejemplo práctico\n",
    "- Para nuestro ejemplo práctico, se tomará tomará una base de datos de genes y se trataŕa de generar nuevos genes a partir del modelamiento de la distribuición que aprenderá la red Generadora."
   ]
  },
  {
   "cell_type": "code",
   "execution_count": 86,
   "metadata": {},
   "outputs": [
    {
     "name": "stdout",
     "output_type": "stream",
     "text": [
      "Dimensionalidade dos dados:  (4051, 9)\n"
     ]
    },
    {
     "data": {
      "text/html": [
       "<div>\n",
       "<style scoped>\n",
       "    .dataframe tbody tr th:only-of-type {\n",
       "        vertical-align: middle;\n",
       "    }\n",
       "\n",
       "    .dataframe tbody tr th {\n",
       "        vertical-align: top;\n",
       "    }\n",
       "\n",
       "    .dataframe thead th {\n",
       "        text-align: right;\n",
       "    }\n",
       "</style>\n",
       "<table border=\"1\" class=\"dataframe\">\n",
       "  <thead>\n",
       "    <tr style=\"text-align: right;\">\n",
       "      <th></th>\n",
       "      <th>BB9</th>\n",
       "      <th>BB10</th>\n",
       "      <th>BB17</th>\n",
       "      <th>BB19</th>\n",
       "      <th>BB20</th>\n",
       "      <th>BB21</th>\n",
       "      <th>BB11</th>\n",
       "      <th>BB12</th>\n",
       "      <th>BB18</th>\n",
       "    </tr>\n",
       "    <tr>\n",
       "      <th>Genes</th>\n",
       "      <th></th>\n",
       "      <th></th>\n",
       "      <th></th>\n",
       "      <th></th>\n",
       "      <th></th>\n",
       "      <th></th>\n",
       "      <th></th>\n",
       "      <th></th>\n",
       "      <th></th>\n",
       "    </tr>\n",
       "  </thead>\n",
       "  <tbody>\n",
       "    <tr>\n",
       "      <td>accD</td>\n",
       "      <td>6.875411</td>\n",
       "      <td>7.047582</td>\n",
       "      <td>7.431765</td>\n",
       "      <td>7.105877</td>\n",
       "      <td>6.516094</td>\n",
       "      <td>6.676126</td>\n",
       "      <td>6.304694</td>\n",
       "      <td>6.168221</td>\n",
       "      <td>6.245553</td>\n",
       "    </tr>\n",
       "    <tr>\n",
       "      <td>aceF</td>\n",
       "      <td>7.732412</td>\n",
       "      <td>7.674997</td>\n",
       "      <td>8.397717</td>\n",
       "      <td>7.455056</td>\n",
       "      <td>7.277269</td>\n",
       "      <td>6.525536</td>\n",
       "      <td>7.455730</td>\n",
       "      <td>6.403830</td>\n",
       "      <td>7.597941</td>\n",
       "    </tr>\n",
       "    <tr>\n",
       "      <td>ackA</td>\n",
       "      <td>7.231720</td>\n",
       "      <td>7.260976</td>\n",
       "      <td>8.033280</td>\n",
       "      <td>6.921924</td>\n",
       "      <td>6.920829</td>\n",
       "      <td>6.556644</td>\n",
       "      <td>6.358150</td>\n",
       "      <td>5.888768</td>\n",
       "      <td>6.359310</td>\n",
       "    </tr>\n",
       "    <tr>\n",
       "      <td>agaV</td>\n",
       "      <td>6.048825</td>\n",
       "      <td>6.250033</td>\n",
       "      <td>5.120269</td>\n",
       "      <td>5.559767</td>\n",
       "      <td>5.915593</td>\n",
       "      <td>6.279490</td>\n",
       "      <td>6.441998</td>\n",
       "      <td>6.553099</td>\n",
       "      <td>6.105364</td>\n",
       "    </tr>\n",
       "    <tr>\n",
       "      <td>alaS</td>\n",
       "      <td>7.811728</td>\n",
       "      <td>7.853890</td>\n",
       "      <td>8.622037</td>\n",
       "      <td>7.636451</td>\n",
       "      <td>7.641365</td>\n",
       "      <td>7.125920</td>\n",
       "      <td>7.164957</td>\n",
       "      <td>6.555678</td>\n",
       "      <td>7.098590</td>\n",
       "    </tr>\n",
       "  </tbody>\n",
       "</table>\n",
       "</div>"
      ],
      "text/plain": [
       "            BB9      BB10      BB17      BB19      BB20      BB21      BB11  \\\n",
       "Genes                                                                         \n",
       "accD   6.875411  7.047582  7.431765  7.105877  6.516094  6.676126  6.304694   \n",
       "aceF   7.732412  7.674997  8.397717  7.455056  7.277269  6.525536  7.455730   \n",
       "ackA   7.231720  7.260976  8.033280  6.921924  6.920829  6.556644  6.358150   \n",
       "agaV   6.048825  6.250033  5.120269  5.559767  5.915593  6.279490  6.441998   \n",
       "alaS   7.811728  7.853890  8.622037  7.636451  7.641365  7.125920  7.164957   \n",
       "\n",
       "           BB12      BB18  \n",
       "Genes                      \n",
       "accD   6.168221  6.245553  \n",
       "aceF   6.403830  7.597941  \n",
       "ackA   5.888768  6.359310  \n",
       "agaV   6.553099  6.105364  \n",
       "alaS   6.555678  7.098590  "
      ]
     },
     "execution_count": 86,
     "metadata": {},
     "output_type": "execute_result"
    }
   ],
   "source": [
    "X_train = pd.read_csv(\"./data/ClustREFGenes-master/Data/Core_genome/Data_Core_Genome_Ecoli_log2.csv\",\n",
    "                  index_col=0)\n",
    "print(\"Dimensionalidade dos dados: \", X_train.shape)\n",
    "X_train.head()"
   ]
  },
  {
   "cell_type": "markdown",
   "metadata": {},
   "source": [
    "### Escalado de los datos\n",
    "- Para implementar la red, se escalan los datos para un intervalo [-1,1], utlizando la siguiente fórmula:\n",
    "$$ x = \\frac{x - min(x)}{max(x)-min(x)} \\bullet{(max-min)} + min$$\n",
    "- Donde los parámetros <i>max</i> y <i>min</i> son -1 y 1 sucesivamente."
   ]
  },
  {
   "cell_type": "code",
   "execution_count": 87,
   "metadata": {},
   "outputs": [
    {
     "data": {
      "text/html": [
       "<div>\n",
       "<style scoped>\n",
       "    .dataframe tbody tr th:only-of-type {\n",
       "        vertical-align: middle;\n",
       "    }\n",
       "\n",
       "    .dataframe tbody tr th {\n",
       "        vertical-align: top;\n",
       "    }\n",
       "\n",
       "    .dataframe thead th {\n",
       "        text-align: right;\n",
       "    }\n",
       "</style>\n",
       "<table border=\"1\" class=\"dataframe\">\n",
       "  <thead>\n",
       "    <tr style=\"text-align: right;\">\n",
       "      <th></th>\n",
       "      <th>BB9</th>\n",
       "      <th>BB10</th>\n",
       "      <th>BB17</th>\n",
       "      <th>BB19</th>\n",
       "      <th>BB20</th>\n",
       "      <th>BB21</th>\n",
       "      <th>BB11</th>\n",
       "      <th>BB12</th>\n",
       "      <th>BB18</th>\n",
       "    </tr>\n",
       "    <tr>\n",
       "      <th>Genes</th>\n",
       "      <th></th>\n",
       "      <th></th>\n",
       "      <th></th>\n",
       "      <th></th>\n",
       "      <th></th>\n",
       "      <th></th>\n",
       "      <th></th>\n",
       "      <th></th>\n",
       "      <th></th>\n",
       "    </tr>\n",
       "  </thead>\n",
       "  <tbody>\n",
       "    <tr>\n",
       "      <td>accD</td>\n",
       "      <td>0.045137</td>\n",
       "      <td>0.120125</td>\n",
       "      <td>0.188530</td>\n",
       "      <td>0.110790</td>\n",
       "      <td>-0.053590</td>\n",
       "      <td>-0.065493</td>\n",
       "      <td>-0.075443</td>\n",
       "      <td>-0.072632</td>\n",
       "      <td>-0.111987</td>\n",
       "    </tr>\n",
       "    <tr>\n",
       "      <td>aceF</td>\n",
       "      <td>0.298789</td>\n",
       "      <td>0.286341</td>\n",
       "      <td>0.387846</td>\n",
       "      <td>0.183747</td>\n",
       "      <td>0.116566</td>\n",
       "      <td>-0.111405</td>\n",
       "      <td>0.212370</td>\n",
       "      <td>0.007078</td>\n",
       "      <td>0.282773</td>\n",
       "    </tr>\n",
       "    <tr>\n",
       "      <td>ackA</td>\n",
       "      <td>0.150596</td>\n",
       "      <td>0.176658</td>\n",
       "      <td>0.312647</td>\n",
       "      <td>0.072355</td>\n",
       "      <td>0.036886</td>\n",
       "      <td>-0.101920</td>\n",
       "      <td>-0.062076</td>\n",
       "      <td>-0.167175</td>\n",
       "      <td>-0.078782</td>\n",
       "    </tr>\n",
       "    <tr>\n",
       "      <td>agaV</td>\n",
       "      <td>-0.199513</td>\n",
       "      <td>-0.091164</td>\n",
       "      <td>-0.288427</td>\n",
       "      <td>-0.212252</td>\n",
       "      <td>-0.187829</td>\n",
       "      <td>-0.186418</td>\n",
       "      <td>-0.041110</td>\n",
       "      <td>0.057578</td>\n",
       "      <td>-0.152908</td>\n",
       "    </tr>\n",
       "    <tr>\n",
       "      <td>alaS</td>\n",
       "      <td>0.322265</td>\n",
       "      <td>0.333734</td>\n",
       "      <td>0.434132</td>\n",
       "      <td>0.221647</td>\n",
       "      <td>0.197958</td>\n",
       "      <td>0.071639</td>\n",
       "      <td>0.139663</td>\n",
       "      <td>0.058450</td>\n",
       "      <td>0.137013</td>\n",
       "    </tr>\n",
       "    <tr>\n",
       "      <td>...</td>\n",
       "      <td>...</td>\n",
       "      <td>...</td>\n",
       "      <td>...</td>\n",
       "      <td>...</td>\n",
       "      <td>...</td>\n",
       "      <td>...</td>\n",
       "      <td>...</td>\n",
       "      <td>...</td>\n",
       "      <td>...</td>\n",
       "    </tr>\n",
       "    <tr>\n",
       "      <td>znuC</td>\n",
       "      <td>-0.214879</td>\n",
       "      <td>-0.169396</td>\n",
       "      <td>-0.140529</td>\n",
       "      <td>-0.104167</td>\n",
       "      <td>-0.139650</td>\n",
       "      <td>-0.240036</td>\n",
       "      <td>-0.230384</td>\n",
       "      <td>-0.163196</td>\n",
       "      <td>-0.278886</td>\n",
       "    </tr>\n",
       "    <tr>\n",
       "      <td>zraR</td>\n",
       "      <td>-0.454108</td>\n",
       "      <td>-0.510324</td>\n",
       "      <td>-0.389783</td>\n",
       "      <td>-0.375362</td>\n",
       "      <td>-0.366501</td>\n",
       "      <td>-0.442698</td>\n",
       "      <td>-0.324014</td>\n",
       "      <td>-0.252714</td>\n",
       "      <td>-0.383418</td>\n",
       "    </tr>\n",
       "    <tr>\n",
       "      <td>zraS</td>\n",
       "      <td>-0.368588</td>\n",
       "      <td>-0.436017</td>\n",
       "      <td>-0.286780</td>\n",
       "      <td>-0.243076</td>\n",
       "      <td>-0.368600</td>\n",
       "      <td>-0.425818</td>\n",
       "      <td>-0.155279</td>\n",
       "      <td>-0.210061</td>\n",
       "      <td>-0.332179</td>\n",
       "    </tr>\n",
       "    <tr>\n",
       "      <td>zupT</td>\n",
       "      <td>0.256414</td>\n",
       "      <td>0.291620</td>\n",
       "      <td>0.308734</td>\n",
       "      <td>0.292616</td>\n",
       "      <td>0.272264</td>\n",
       "      <td>0.208778</td>\n",
       "      <td>0.234010</td>\n",
       "      <td>0.216720</td>\n",
       "      <td>0.266934</td>\n",
       "    </tr>\n",
       "    <tr>\n",
       "      <td>zur</td>\n",
       "      <td>0.052189</td>\n",
       "      <td>0.062335</td>\n",
       "      <td>0.050895</td>\n",
       "      <td>0.138917</td>\n",
       "      <td>0.125499</td>\n",
       "      <td>-0.048364</td>\n",
       "      <td>0.026280</td>\n",
       "      <td>0.033462</td>\n",
       "      <td>-0.026651</td>\n",
       "    </tr>\n",
       "  </tbody>\n",
       "</table>\n",
       "<p>4051 rows × 9 columns</p>\n",
       "</div>"
      ],
      "text/plain": [
       "            BB9      BB10      BB17      BB19      BB20      BB21      BB11  \\\n",
       "Genes                                                                         \n",
       "accD   0.045137  0.120125  0.188530  0.110790 -0.053590 -0.065493 -0.075443   \n",
       "aceF   0.298789  0.286341  0.387846  0.183747  0.116566 -0.111405  0.212370   \n",
       "ackA   0.150596  0.176658  0.312647  0.072355  0.036886 -0.101920 -0.062076   \n",
       "agaV  -0.199513 -0.091164 -0.288427 -0.212252 -0.187829 -0.186418 -0.041110   \n",
       "alaS   0.322265  0.333734  0.434132  0.221647  0.197958  0.071639  0.139663   \n",
       "...         ...       ...       ...       ...       ...       ...       ...   \n",
       "znuC  -0.214879 -0.169396 -0.140529 -0.104167 -0.139650 -0.240036 -0.230384   \n",
       "zraR  -0.454108 -0.510324 -0.389783 -0.375362 -0.366501 -0.442698 -0.324014   \n",
       "zraS  -0.368588 -0.436017 -0.286780 -0.243076 -0.368600 -0.425818 -0.155279   \n",
       "zupT   0.256414  0.291620  0.308734  0.292616  0.272264  0.208778  0.234010   \n",
       "zur    0.052189  0.062335  0.050895  0.138917  0.125499 -0.048364  0.026280   \n",
       "\n",
       "           BB12      BB18  \n",
       "Genes                      \n",
       "accD  -0.072632 -0.111987  \n",
       "aceF   0.007078  0.282773  \n",
       "ackA  -0.167175 -0.078782  \n",
       "agaV   0.057578 -0.152908  \n",
       "alaS   0.058450  0.137013  \n",
       "...         ...       ...  \n",
       "znuC  -0.163196 -0.278886  \n",
       "zraR  -0.252714 -0.383418  \n",
       "zraS  -0.210061 -0.332179  \n",
       "zupT   0.216720  0.266934  \n",
       "zur    0.033462 -0.026651  \n",
       "\n",
       "[4051 rows x 9 columns]"
      ]
     },
     "execution_count": 87,
     "metadata": {},
     "output_type": "execute_result"
    }
   ],
   "source": [
    "max_val = 1\n",
    "min_val = -1\n",
    "X_train = ((X_train - np.min(X_train))/(np.max(X_train) - np.min(X_train)))*(max_val - min_val) + min_val\n",
    "X_train"
   ]
  },
  {
   "cell_type": "markdown",
   "metadata": {},
   "source": [
    "### Red Generadora G\n",
    "- Se toma una distribuición Gaussiana como entrada a la red Generadora para así generar los datos sintéticos (fake).\n",
    "- Con la red generadora lo que se quiere es ir del espació de datos de la distribuición inicial, a el espacio de datos de la distribuición que se quiere replicar, por eso la salida de esta red no es un simple escalar como en un problema de clasificación, esta red tiene como salida los datos que la red cree que pertenecen al espacio original."
   ]
  },
  {
   "cell_type": "code",
   "execution_count": 88,
   "metadata": {},
   "outputs": [],
   "source": [
    "def generator(noise_input, out_dim):\n",
    "    \"\"\"\n",
    "    noise_input: vector con los datos de la distribuición inicial\n",
    "    out_dim: dimension de la salida esperada, por ejemplo si es una imagen\n",
    "             en escala de gris, sería out_dim: (32,32,1)\n",
    "    Retorna el modelo Generador\n",
    "    \"\"\"\n",
    "    model = Sequential()\n",
    "    model.add(Dense(256, input_shape=(noise_input,)))\n",
    "    model.add(LeakyReLU(alpha=0.3))\n",
    "    model.add(Dropout(.1))\n",
    "    model.add(Dense(np.prod(out_dim), activation=\"tanh\"))\n",
    "    model.add(Reshape(out_dim))\n",
    "    \n",
    "    return model"
   ]
  },
  {
   "cell_type": "code",
   "execution_count": 89,
   "metadata": {},
   "outputs": [
    {
     "name": "stdout",
     "output_type": "stream",
     "text": [
      "Dimension del ruido de entrada:  100\n"
     ]
    }
   ],
   "source": [
    "noise_input = 100\n",
    "print(\"Dimension del ruido de entrada: \",noise_input)\n",
    "G = generator(noise_input, out_dim=(9,))\n",
    "optimizerG = Adam(lr=0.0004, beta_1=0.5)\n",
    "#optimizerG = SGD(learning_rate=0.001, momentum=0.2)\n",
    "G.compile(loss='binary_crossentropy', optimizer=optimizerG)"
   ]
  },
  {
   "cell_type": "code",
   "execution_count": 90,
   "metadata": {},
   "outputs": [
    {
     "name": "stdout",
     "output_type": "stream",
     "text": [
      "Model: \"sequential_9\"\n",
      "_________________________________________________________________\n",
      "Layer (type)                 Output Shape              Param #   \n",
      "=================================================================\n",
      "dense_15 (Dense)             (None, 256)               25856     \n",
      "_________________________________________________________________\n",
      "leaky_re_lu_6 (LeakyReLU)    (None, 256)               0         \n",
      "_________________________________________________________________\n",
      "dropout_6 (Dropout)          (None, 256)               0         \n",
      "_________________________________________________________________\n",
      "dense_16 (Dense)             (None, 9)                 2313      \n",
      "_________________________________________________________________\n",
      "reshape_3 (Reshape)          (None, 9)                 0         \n",
      "=================================================================\n",
      "Total params: 28,169\n",
      "Trainable params: 28,169\n",
      "Non-trainable params: 0\n",
      "_________________________________________________________________\n"
     ]
    }
   ],
   "source": [
    "G.summary()"
   ]
  },
  {
   "cell_type": "code",
   "execution_count": 91,
   "metadata": {},
   "outputs": [
    {
     "name": "stdout",
     "output_type": "stream",
     "text": [
      "Dimension de los datos de entrada: (4051, 100)\n",
      "Dimension de los ejemplos generados: (4051, 9)\n"
     ]
    }
   ],
   "source": [
    "noise = np.random.normal(loc=0, scale=1, size=(X_train.shape[0],100))\n",
    "print(\"Dimension de los datos de entrada:\", noise.shape)\n",
    "data_fake = G.predict(noise)\n",
    "print(\"Dimension de los ejemplos generados:\", data_fake.shape)"
   ]
  },
  {
   "cell_type": "markdown",
   "metadata": {},
   "source": [
    "### Visualización\n",
    "- Se dibuja por separado la distribuición de cada caracteristica de los datos, para así comparar la distribuición real con la que genera la red Generadora G. En este caso, la red aún no ha sido entrenada, por lo que se espera que los valores de los datos que se predicen, sigan una distribuición un poco uniforme o que no se ajuste a la real."
   ]
  },
  {
   "cell_type": "code",
   "execution_count": 93,
   "metadata": {},
   "outputs": [
    {
     "name": "stdout",
     "output_type": "stream",
     "text": [
      "Distribuición original de cada caracteristica vs red Generadora sin entrenar\n"
     ]
    },
    {
     "data": {
      "image/png": "[encoded data removed]",
      "text/plain": [
       "<Figure size 1080x648 with 9 Axes>"
      ]
     },
     "metadata": {
      "needs_background": "light"
     },
     "output_type": "display_data"
    }
   ],
   "source": [
    "plt.figure(figsize=(15,9))\n",
    "print(\"Distribuición original de cada caracteristica vs red Generadora sin entrenar\")\n",
    "for col in range(X_train.shape[1]):\n",
    "    aux_real = X_train.iloc[:,col]\n",
    "    aux_fake = data_fake[:,col]\n",
    "    plt.subplot(3,3,col+1)\n",
    "    plt.hist(aux_real,  bins=40,label=\"real\",)\n",
    "    plt.hist(aux_fake, bins=40, label=\"fake\", alpha=0.9)\n",
    "    plt.legend()"
   ]
  },
  {
   "cell_type": "markdown",
   "metadata": {},
   "source": [
    "### Red discriminadora D\n",
    "- La red discriminadora funciona como una red clasificadora, la cual tendrá dos categorias, 0 si los datos son de la distribuición real y 1 si los datos vienen de la distribuición falsa (fake)."
   ]
  },
  {
   "cell_type": "code",
   "execution_count": 94,
   "metadata": {},
   "outputs": [],
   "source": [
    "def discriminator(input_dim):\n",
    "    \"\"\"\n",
    "    input_dim: dimension de los datos de entrada,\n",
    "               por ejemplo si es una imagen en escala de gris,\n",
    "               sería input_dim: (32,32,1)\n",
    "    \"\"\"\n",
    "    model = Sequential()\n",
    "    model.add(Dense(32, input_shape=input_dim))\n",
    "    model.add(LeakyReLU(alpha=0.2)) #función rectificadora\n",
    "    model.add(Dropout(.1))\n",
    "    model.add(Dense(32))\n",
    "    model.add(Flatten())\n",
    "    #activación sigmoid ya que se precisa establecer si es 0 ó 1.\n",
    "    model.add(Dense(1, activation='sigmoid'))\n",
    "    return model"
   ]
  },
  {
   "cell_type": "code",
   "execution_count": 95,
   "metadata": {},
   "outputs": [],
   "source": [
    "D = discriminator((9,))\n",
    "optimizerD = Adam(lr=0.0001, beta_1=0.5)\n",
    "#optimizerD = SGD(learning_rate=0.001, momentum=0.1)\n",
    "D.compile(loss='binary_crossentropy', optimizer=optimizerD, metrics=['accuracy'])"
   ]
  },
  {
   "cell_type": "markdown",
   "metadata": {},
   "source": [
    "### Red GAN\n",
    "- La red GAN está creada conectando tanto la red G como la red D de forma secuencial, recordando que la red D debe ser entrenada de forma separada, para que el algoritmo de <i>backpropagation</i> no afecte los pesos de la red G, asi, una vez la red D se entrene, se procede a entrenar la GAN, la cual mudará solo los pesos de la red G, ya que los de la red D no se pueden actualizar en este paso. Esto se repite la cantidad de <i>epochs</i> que se definan."
   ]
  },
  {
   "cell_type": "code",
   "execution_count": 96,
   "metadata": {},
   "outputs": [],
   "source": [
    "def Gan(generator, discriminator):\n",
    "    \"\"\"\n",
    "    recibe como parámetros de entrada las redes\n",
    "    generador y discriminador\n",
    "    \"\"\"\n",
    "    model = Sequential()\n",
    "    model.add(generator)\n",
    "    discriminator.trainable = False #no se actualizan los pesos\n",
    "    model.add(discriminator)\n",
    "    return model"
   ]
  },
  {
   "cell_type": "code",
   "execution_count": 97,
   "metadata": {},
   "outputs": [
    {
     "name": "stdout",
     "output_type": "stream",
     "text": [
      "Model: \"sequential_11\"\n",
      "_________________________________________________________________\n",
      "Layer (type)                 Output Shape              Param #   \n",
      "=================================================================\n",
      "sequential_9 (Sequential)    (None, 9)                 28169     \n",
      "_________________________________________________________________\n",
      "sequential_10 (Sequential)   (None, 1)                 1409      \n",
      "=================================================================\n",
      "Total params: 29,578\n",
      "Trainable params: 28,169\n",
      "Non-trainable params: 1,409\n",
      "_________________________________________________________________\n"
     ]
    }
   ],
   "source": [
    "gan = Gan(G,D)\n",
    "gan.compile(loss='binary_crossentropy', optimizer=optimizerG)\n",
    "gan.summary()"
   ]
  },
  {
   "cell_type": "markdown",
   "metadata": {},
   "source": [
    "### Entrenamiento de la red\n",
    "- Para entrenar la red, primero se creará una función con la cual se obtendrán los <i>bacth</i> con los cuales se entrenara la red en cada <i>epochs</i>.\n",
    "- Como se mencionó anteriormente, en cada <i>epochs</i> la red discriminadora D es entrenada a parte y luego es entrenada la red GAN, recordando que esta solo actualiza los pesos de la red generadora G mediante <i>backpropagation</i>."
   ]
  },
  {
   "cell_type": "code",
   "execution_count": 98,
   "metadata": {},
   "outputs": [],
   "source": [
    "def get_batches(X_train, batch_size):\n",
    "    \"\"\"\n",
    "    X_train: dataset para o treino\n",
    "    epochs: quantidade de epocas para o treino do gradiente\n",
    "    batch: tamanho to batch pra o treino de cada epochs\n",
    "    \"\"\"\n",
    "    batches = []\n",
    "    num_bat = int(np.ceil(X_train.shape[0]/batch_size))\n",
    "    lim_i = 0\n",
    "    lim_s = batch_size\n",
    "    for i in range(num_bat):\n",
    "        if lim_s > X_train.shape[0]:\n",
    "            lim_s = X_train.shape[0]\n",
    "        batches.append(X_train[lim_i:lim_s])\n",
    "        lim_i += batch_size\n",
    "        lim_s += batch_size\n",
    "    return batches"
   ]
  },
  {
   "cell_type": "code",
   "execution_count": 99,
   "metadata": {},
   "outputs": [],
   "source": [
    "#treinamento da GAN\n",
    "def train(X_train, epochs, batch_size, G, D, gan, noise_input):\n",
    "    g_loss = []\n",
    "    d_loss = []\n",
    "    for epoch in range(epochs):\n",
    "        batches = get_batches(X_train, batch_size)\n",
    "        count_b = 0\n",
    "        t_i = time()\n",
    "        for batch in batches:\n",
    "            gen_noise = np.random.normal(0, 1, (np.int64(batch.shape[0]), noise_input))\n",
    "            #gerando as imagens fake\n",
    "            syntetic_data = G.predict(gen_noise)\n",
    "            #criação do array de treinamento\n",
    "            x_combined_batch = np.concatenate((batch, syntetic_data))\n",
    "            y_combined_batch = np.concatenate((np.ones((batch.shape[0], 1)),\n",
    "                                               np.zeros((batch.shape[0], 1))))\n",
    "            #misturar os dados\n",
    "            #x_combined_batch, y_combined_batch = shuffle(x_combined_batch, y_combined_batch)\n",
    "            #treino do discriminador\n",
    "            d_l = D.train_on_batch(x_combined_batch, y_combined_batch)\n",
    "            # train generator\n",
    "            noise = np.random.normal(0, 1, (batch.shape[0], noise_input))\n",
    "            y_mislabled = np.ones((batch.shape[0], 1))\n",
    "            g_l = gan.train_on_batch(noise, y_mislabled)\n",
    " \n",
    "        t_f = time()\n",
    "        t = t_f - t_i\n",
    "        t_i = time()\n",
    "        d_loss.append(d_l[0])\n",
    "        g_loss.append(g_l)\n",
    "        print ('epoch:[%d/%d] [Discriminator::d_loss: %f],[Generator::loss: %f], %f[sec]'\n",
    "                   % (epoch+1, epochs, d_loss[-1], g_loss[-1], t))\n",
    "    return g_loss, d_loss"
   ]
  },
  {
   "cell_type": "code",
   "execution_count": 101,
   "metadata": {},
   "outputs": [
    {
     "data": {
      "text/plain": [
       "(4051, 9)"
      ]
     },
     "execution_count": 101,
     "metadata": {},
     "output_type": "execute_result"
    }
   ],
   "source": [
    "X_train.shape"
   ]
  },
  {
   "cell_type": "code",
   "execution_count": 102,
   "metadata": {
    "scrolled": true
   },
   "outputs": [
    {
     "name": "stdout",
     "output_type": "stream",
     "text": [
      "WARNING:tensorflow:Discrepancy between trainable weights and collected trainable weights, did you set `model.trainable` without calling `model.compile` after ?\n",
      "epoch:[1/200] [Discriminator::d_loss: 0.859101],[Generator::loss: 0.496272], 2.224937[sec]\n",
      "epoch:[2/200] [Discriminator::d_loss: 0.640066],[Generator::loss: 0.861617], 0.762227[sec]\n",
      "epoch:[3/200] [Discriminator::d_loss: 0.745658],[Generator::loss: 0.651170], 0.762486[sec]\n",
      "epoch:[4/200] [Discriminator::d_loss: 0.676406],[Generator::loss: 0.843414], 0.757846[sec]\n",
      "epoch:[5/200] [Discriminator::d_loss: 0.659511],[Generator::loss: 0.788230], 0.781675[sec]\n",
      "epoch:[6/200] [Discriminator::d_loss: 0.653033],[Generator::loss: 0.756314], 0.747797[sec]\n",
      "epoch:[7/200] [Discriminator::d_loss: 0.673053],[Generator::loss: 0.750135], 0.745767[sec]\n",
      "epoch:[8/200] [Discriminator::d_loss: 0.671220],[Generator::loss: 0.699527], 0.750466[sec]\n",
      "epoch:[9/200] [Discriminator::d_loss: 0.673651],[Generator::loss: 0.725599], 0.755491[sec]\n",
      "epoch:[10/200] [Discriminator::d_loss: 0.680236],[Generator::loss: 0.708213], 0.747655[sec]\n",
      "epoch:[11/200] [Discriminator::d_loss: 0.689853],[Generator::loss: 0.704977], 0.744133[sec]\n",
      "epoch:[12/200] [Discriminator::d_loss: 0.694366],[Generator::loss: 0.691157], 0.750618[sec]\n",
      "epoch:[13/200] [Discriminator::d_loss: 0.683838],[Generator::loss: 0.708064], 0.749508[sec]\n",
      "epoch:[14/200] [Discriminator::d_loss: 0.696213],[Generator::loss: 0.695280], 0.749476[sec]\n",
      "epoch:[15/200] [Discriminator::d_loss: 0.695164],[Generator::loss: 0.710009], 0.750174[sec]\n",
      "epoch:[16/200] [Discriminator::d_loss: 0.702412],[Generator::loss: 0.681122], 0.866266[sec]\n",
      "epoch:[17/200] [Discriminator::d_loss: 0.697622],[Generator::loss: 0.672922], 0.761475[sec]\n",
      "epoch:[18/200] [Discriminator::d_loss: 0.694482],[Generator::loss: 0.684186], 0.758780[sec]\n",
      "epoch:[19/200] [Discriminator::d_loss: 0.696933],[Generator::loss: 0.696483], 0.752150[sec]\n",
      "epoch:[20/200] [Discriminator::d_loss: 0.701380],[Generator::loss: 0.696695], 0.774887[sec]\n",
      "epoch:[21/200] [Discriminator::d_loss: 0.701645],[Generator::loss: 0.674319], 0.761431[sec]\n",
      "epoch:[22/200] [Discriminator::d_loss: 0.702625],[Generator::loss: 0.681473], 0.761963[sec]\n",
      "epoch:[23/200] [Discriminator::d_loss: 0.698553],[Generator::loss: 0.693901], 0.748105[sec]\n",
      "epoch:[24/200] [Discriminator::d_loss: 0.695466],[Generator::loss: 0.693730], 0.753350[sec]\n",
      "epoch:[25/200] [Discriminator::d_loss: 0.702885],[Generator::loss: 0.689992], 0.749714[sec]\n",
      "epoch:[26/200] [Discriminator::d_loss: 0.700349],[Generator::loss: 0.684341], 0.759754[sec]\n",
      "epoch:[27/200] [Discriminator::d_loss: 0.695422],[Generator::loss: 0.673757], 0.745644[sec]\n",
      "epoch:[28/200] [Discriminator::d_loss: 0.691692],[Generator::loss: 0.676625], 0.750462[sec]\n",
      "epoch:[29/200] [Discriminator::d_loss: 0.701000],[Generator::loss: 0.690062], 0.753607[sec]\n",
      "epoch:[30/200] [Discriminator::d_loss: 0.694691],[Generator::loss: 0.684280], 0.755862[sec]\n",
      "epoch:[31/200] [Discriminator::d_loss: 0.697762],[Generator::loss: 0.679856], 0.751245[sec]\n",
      "epoch:[32/200] [Discriminator::d_loss: 0.696510],[Generator::loss: 0.684652], 0.744732[sec]\n",
      "epoch:[33/200] [Discriminator::d_loss: 0.703281],[Generator::loss: 0.678756], 0.747309[sec]\n",
      "epoch:[34/200] [Discriminator::d_loss: 0.698071],[Generator::loss: 0.705581], 0.749226[sec]\n",
      "epoch:[35/200] [Discriminator::d_loss: 0.698820],[Generator::loss: 0.696024], 0.750758[sec]\n",
      "epoch:[36/200] [Discriminator::d_loss: 0.696821],[Generator::loss: 0.688966], 0.750503[sec]\n",
      "epoch:[37/200] [Discriminator::d_loss: 0.696629],[Generator::loss: 0.703168], 0.744768[sec]\n",
      "epoch:[38/200] [Discriminator::d_loss: 0.696288],[Generator::loss: 0.691790], 0.747197[sec]\n",
      "epoch:[39/200] [Discriminator::d_loss: 0.697962],[Generator::loss: 0.695773], 0.748180[sec]\n",
      "epoch:[40/200] [Discriminator::d_loss: 0.697330],[Generator::loss: 0.671274], 0.747484[sec]\n",
      "epoch:[41/200] [Discriminator::d_loss: 0.704273],[Generator::loss: 0.682750], 0.750581[sec]\n",
      "epoch:[42/200] [Discriminator::d_loss: 0.699360],[Generator::loss: 0.679421], 0.753030[sec]\n",
      "epoch:[43/200] [Discriminator::d_loss: 0.694169],[Generator::loss: 0.681539], 0.749474[sec]\n",
      "epoch:[44/200] [Discriminator::d_loss: 0.703314],[Generator::loss: 0.688564], 0.753064[sec]\n",
      "epoch:[45/200] [Discriminator::d_loss: 0.700261],[Generator::loss: 0.690010], 0.745620[sec]\n",
      "epoch:[46/200] [Discriminator::d_loss: 0.703594],[Generator::loss: 0.693793], 0.753535[sec]\n",
      "epoch:[47/200] [Discriminator::d_loss: 0.701009],[Generator::loss: 0.683903], 0.746675[sec]\n",
      "epoch:[48/200] [Discriminator::d_loss: 0.699701],[Generator::loss: 0.688280], 0.752557[sec]\n",
      "epoch:[49/200] [Discriminator::d_loss: 0.700927],[Generator::loss: 0.678230], 0.755436[sec]\n",
      "epoch:[50/200] [Discriminator::d_loss: 0.701479],[Generator::loss: 0.685211], 0.753345[sec]\n",
      "epoch:[51/200] [Discriminator::d_loss: 0.707596],[Generator::loss: 0.680758], 0.747882[sec]\n",
      "epoch:[52/200] [Discriminator::d_loss: 0.694085],[Generator::loss: 0.677495], 0.753219[sec]\n",
      "epoch:[53/200] [Discriminator::d_loss: 0.696960],[Generator::loss: 0.689800], 0.754329[sec]\n",
      "epoch:[54/200] [Discriminator::d_loss: 0.695534],[Generator::loss: 0.679683], 0.753370[sec]\n",
      "epoch:[55/200] [Discriminator::d_loss: 0.694812],[Generator::loss: 0.686883], 0.747234[sec]\n",
      "epoch:[56/200] [Discriminator::d_loss: 0.691603],[Generator::loss: 0.704016], 0.750884[sec]\n",
      "epoch:[57/200] [Discriminator::d_loss: 0.694452],[Generator::loss: 0.690554], 0.745915[sec]\n",
      "epoch:[58/200] [Discriminator::d_loss: 0.698022],[Generator::loss: 0.691051], 0.748480[sec]\n",
      "epoch:[59/200] [Discriminator::d_loss: 0.697438],[Generator::loss: 0.691096], 0.744154[sec]\n",
      "epoch:[60/200] [Discriminator::d_loss: 0.690737],[Generator::loss: 0.688007], 0.752381[sec]\n",
      "epoch:[61/200] [Discriminator::d_loss: 0.698749],[Generator::loss: 0.692565], 0.743765[sec]\n",
      "epoch:[62/200] [Discriminator::d_loss: 0.693806],[Generator::loss: 0.683447], 0.746057[sec]\n",
      "epoch:[63/200] [Discriminator::d_loss: 0.697698],[Generator::loss: 0.690579], 0.751455[sec]\n",
      "epoch:[64/200] [Discriminator::d_loss: 0.692645],[Generator::loss: 0.682106], 0.747773[sec]\n",
      "epoch:[65/200] [Discriminator::d_loss: 0.699323],[Generator::loss: 0.673601], 0.745790[sec]\n",
      "epoch:[66/200] [Discriminator::d_loss: 0.695284],[Generator::loss: 0.677795], 0.749486[sec]\n",
      "epoch:[67/200] [Discriminator::d_loss: 0.689059],[Generator::loss: 0.687456], 0.746533[sec]\n",
      "epoch:[68/200] [Discriminator::d_loss: 0.693088],[Generator::loss: 0.696193], 0.748354[sec]\n",
      "epoch:[69/200] [Discriminator::d_loss: 0.695652],[Generator::loss: 0.691332], 0.748910[sec]\n",
      "epoch:[70/200] [Discriminator::d_loss: 0.695220],[Generator::loss: 0.685562], 0.747988[sec]\n",
      "epoch:[71/200] [Discriminator::d_loss: 0.690138],[Generator::loss: 0.689205], 0.747206[sec]\n",
      "epoch:[72/200] [Discriminator::d_loss: 0.692948],[Generator::loss: 0.686236], 0.748094[sec]\n",
      "epoch:[73/200] [Discriminator::d_loss: 0.699703],[Generator::loss: 0.693260], 0.748318[sec]\n",
      "epoch:[74/200] [Discriminator::d_loss: 0.688724],[Generator::loss: 0.681929], 0.755851[sec]\n",
      "epoch:[75/200] [Discriminator::d_loss: 0.692179],[Generator::loss: 0.687972], 0.741902[sec]\n",
      "epoch:[76/200] [Discriminator::d_loss: 0.692000],[Generator::loss: 0.691738], 0.751919[sec]\n",
      "epoch:[77/200] [Discriminator::d_loss: 0.700533],[Generator::loss: 0.682123], 0.741727[sec]\n",
      "epoch:[78/200] [Discriminator::d_loss: 0.699296],[Generator::loss: 0.690445], 0.748824[sec]\n",
      "epoch:[79/200] [Discriminator::d_loss: 0.698191],[Generator::loss: 0.692150], 0.743842[sec]\n",
      "epoch:[80/200] [Discriminator::d_loss: 0.696912],[Generator::loss: 0.700111], 0.752059[sec]\n",
      "epoch:[81/200] [Discriminator::d_loss: 0.696153],[Generator::loss: 0.692743], 0.747041[sec]\n",
      "epoch:[82/200] [Discriminator::d_loss: 0.692952],[Generator::loss: 0.691092], 0.749127[sec]\n",
      "epoch:[83/200] [Discriminator::d_loss: 0.690104],[Generator::loss: 0.697000], 0.751612[sec]\n",
      "epoch:[84/200] [Discriminator::d_loss: 0.691420],[Generator::loss: 0.688514], 0.768802[sec]\n",
      "epoch:[85/200] [Discriminator::d_loss: 0.693723],[Generator::loss: 0.692313], 0.832788[sec]\n",
      "epoch:[86/200] [Discriminator::d_loss: 0.695467],[Generator::loss: 0.692189], 0.740443[sec]\n",
      "epoch:[87/200] [Discriminator::d_loss: 0.700527],[Generator::loss: 0.680281], 0.786265[sec]\n",
      "epoch:[88/200] [Discriminator::d_loss: 0.691509],[Generator::loss: 0.690953], 0.747708[sec]\n"
     ]
    },
    {
     "name": "stdout",
     "output_type": "stream",
     "text": [
      "epoch:[89/200] [Discriminator::d_loss: 0.692829],[Generator::loss: 0.685774], 0.744296[sec]\n",
      "epoch:[90/200] [Discriminator::d_loss: 0.693577],[Generator::loss: 0.693522], 0.741494[sec]\n",
      "epoch:[91/200] [Discriminator::d_loss: 0.698361],[Generator::loss: 0.695419], 0.741078[sec]\n",
      "epoch:[92/200] [Discriminator::d_loss: 0.694129],[Generator::loss: 0.686293], 0.745064[sec]\n",
      "epoch:[93/200] [Discriminator::d_loss: 0.688549],[Generator::loss: 0.698375], 0.739025[sec]\n",
      "epoch:[94/200] [Discriminator::d_loss: 0.695177],[Generator::loss: 0.694147], 0.740532[sec]\n",
      "epoch:[95/200] [Discriminator::d_loss: 0.692549],[Generator::loss: 0.693982], 0.737860[sec]\n",
      "epoch:[96/200] [Discriminator::d_loss: 0.693786],[Generator::loss: 0.694393], 0.743538[sec]\n",
      "epoch:[97/200] [Discriminator::d_loss: 0.693943],[Generator::loss: 0.684914], 0.742013[sec]\n",
      "epoch:[98/200] [Discriminator::d_loss: 0.688970],[Generator::loss: 0.692884], 0.737901[sec]\n",
      "epoch:[99/200] [Discriminator::d_loss: 0.694430],[Generator::loss: 0.696754], 0.739977[sec]\n",
      "epoch:[100/200] [Discriminator::d_loss: 0.694706],[Generator::loss: 0.694105], 0.739904[sec]\n",
      "epoch:[101/200] [Discriminator::d_loss: 0.691964],[Generator::loss: 0.688941], 0.737621[sec]\n",
      "epoch:[102/200] [Discriminator::d_loss: 0.697989],[Generator::loss: 0.694807], 0.737911[sec]\n",
      "epoch:[103/200] [Discriminator::d_loss: 0.699746],[Generator::loss: 0.701141], 0.736772[sec]\n",
      "epoch:[104/200] [Discriminator::d_loss: 0.702637],[Generator::loss: 0.681990], 0.743123[sec]\n",
      "epoch:[105/200] [Discriminator::d_loss: 0.700484],[Generator::loss: 0.688057], 0.744355[sec]\n",
      "epoch:[106/200] [Discriminator::d_loss: 0.692484],[Generator::loss: 0.690120], 0.734915[sec]\n",
      "epoch:[107/200] [Discriminator::d_loss: 0.692945],[Generator::loss: 0.691383], 0.739546[sec]\n",
      "epoch:[108/200] [Discriminator::d_loss: 0.693792],[Generator::loss: 0.694808], 0.739191[sec]\n",
      "epoch:[109/200] [Discriminator::d_loss: 0.694426],[Generator::loss: 0.690984], 0.739940[sec]\n",
      "epoch:[110/200] [Discriminator::d_loss: 0.692602],[Generator::loss: 0.688633], 0.741678[sec]\n",
      "epoch:[111/200] [Discriminator::d_loss: 0.691701],[Generator::loss: 0.693068], 0.738095[sec]\n",
      "epoch:[112/200] [Discriminator::d_loss: 0.693277],[Generator::loss: 0.697384], 0.739369[sec]\n",
      "epoch:[113/200] [Discriminator::d_loss: 0.693123],[Generator::loss: 0.689188], 0.743453[sec]\n",
      "epoch:[114/200] [Discriminator::d_loss: 0.691889],[Generator::loss: 0.689817], 0.748359[sec]\n",
      "epoch:[115/200] [Discriminator::d_loss: 0.692949],[Generator::loss: 0.687418], 0.738726[sec]\n",
      "epoch:[116/200] [Discriminator::d_loss: 0.692959],[Generator::loss: 0.694697], 0.742578[sec]\n",
      "epoch:[117/200] [Discriminator::d_loss: 0.696168],[Generator::loss: 0.691572], 0.741837[sec]\n",
      "epoch:[118/200] [Discriminator::d_loss: 0.696015],[Generator::loss: 0.692324], 0.739644[sec]\n",
      "epoch:[119/200] [Discriminator::d_loss: 0.694853],[Generator::loss: 0.693699], 0.736976[sec]\n",
      "epoch:[120/200] [Discriminator::d_loss: 0.688659],[Generator::loss: 0.683977], 0.742013[sec]\n",
      "epoch:[121/200] [Discriminator::d_loss: 0.700082],[Generator::loss: 0.699444], 0.740081[sec]\n",
      "epoch:[122/200] [Discriminator::d_loss: 0.697450],[Generator::loss: 0.694360], 0.741307[sec]\n",
      "epoch:[123/200] [Discriminator::d_loss: 0.692472],[Generator::loss: 0.695312], 0.731512[sec]\n",
      "epoch:[124/200] [Discriminator::d_loss: 0.695400],[Generator::loss: 0.689343], 0.738777[sec]\n",
      "epoch:[125/200] [Discriminator::d_loss: 0.700164],[Generator::loss: 0.698685], 0.739045[sec]\n",
      "epoch:[126/200] [Discriminator::d_loss: 0.694060],[Generator::loss: 0.689652], 0.739267[sec]\n",
      "epoch:[127/200] [Discriminator::d_loss: 0.696884],[Generator::loss: 0.679765], 0.735673[sec]\n",
      "epoch:[128/200] [Discriminator::d_loss: 0.693699],[Generator::loss: 0.691549], 0.738907[sec]\n",
      "epoch:[129/200] [Discriminator::d_loss: 0.696227],[Generator::loss: 0.691899], 0.757435[sec]\n",
      "epoch:[130/200] [Discriminator::d_loss: 0.695222],[Generator::loss: 0.694087], 0.760129[sec]\n",
      "epoch:[131/200] [Discriminator::d_loss: 0.693989],[Generator::loss: 0.695559], 0.754293[sec]\n",
      "epoch:[132/200] [Discriminator::d_loss: 0.688561],[Generator::loss: 0.687129], 0.753765[sec]\n",
      "epoch:[133/200] [Discriminator::d_loss: 0.694073],[Generator::loss: 0.682572], 0.752417[sec]\n",
      "epoch:[134/200] [Discriminator::d_loss: 0.697524],[Generator::loss: 0.695960], 0.749084[sec]\n",
      "epoch:[135/200] [Discriminator::d_loss: 0.701551],[Generator::loss: 0.692062], 0.752779[sec]\n",
      "epoch:[136/200] [Discriminator::d_loss: 0.691685],[Generator::loss: 0.696632], 0.754793[sec]\n",
      "epoch:[137/200] [Discriminator::d_loss: 0.695381],[Generator::loss: 0.691997], 0.749199[sec]\n",
      "epoch:[138/200] [Discriminator::d_loss: 0.691383],[Generator::loss: 0.694373], 0.746705[sec]\n",
      "epoch:[139/200] [Discriminator::d_loss: 0.694728],[Generator::loss: 0.696776], 0.747169[sec]\n",
      "epoch:[140/200] [Discriminator::d_loss: 0.699345],[Generator::loss: 0.697336], 0.745763[sec]\n",
      "epoch:[141/200] [Discriminator::d_loss: 0.695843],[Generator::loss: 0.685276], 0.742504[sec]\n",
      "epoch:[142/200] [Discriminator::d_loss: 0.689771],[Generator::loss: 0.701337], 0.745664[sec]\n",
      "epoch:[143/200] [Discriminator::d_loss: 0.694515],[Generator::loss: 0.688262], 0.743094[sec]\n",
      "epoch:[144/200] [Discriminator::d_loss: 0.690902],[Generator::loss: 0.694761], 0.746504[sec]\n",
      "epoch:[145/200] [Discriminator::d_loss: 0.695461],[Generator::loss: 0.694159], 0.745631[sec]\n",
      "epoch:[146/200] [Discriminator::d_loss: 0.696530],[Generator::loss: 0.690981], 0.745085[sec]\n",
      "epoch:[147/200] [Discriminator::d_loss: 0.691749],[Generator::loss: 0.695243], 0.742619[sec]\n",
      "epoch:[148/200] [Discriminator::d_loss: 0.689022],[Generator::loss: 0.695160], 0.743260[sec]\n",
      "epoch:[149/200] [Discriminator::d_loss: 0.692196],[Generator::loss: 0.693102], 0.748965[sec]\n",
      "epoch:[150/200] [Discriminator::d_loss: 0.693134],[Generator::loss: 0.692063], 0.740843[sec]\n",
      "epoch:[151/200] [Discriminator::d_loss: 0.695085],[Generator::loss: 0.699748], 0.744483[sec]\n",
      "epoch:[152/200] [Discriminator::d_loss: 0.696274],[Generator::loss: 0.703732], 0.749588[sec]\n",
      "epoch:[153/200] [Discriminator::d_loss: 0.699815],[Generator::loss: 0.678614], 0.745631[sec]\n",
      "epoch:[154/200] [Discriminator::d_loss: 0.694644],[Generator::loss: 0.690026], 0.744477[sec]\n",
      "epoch:[155/200] [Discriminator::d_loss: 0.691936],[Generator::loss: 0.688051], 0.749768[sec]\n",
      "epoch:[156/200] [Discriminator::d_loss: 0.695171],[Generator::loss: 0.695356], 0.750586[sec]\n",
      "epoch:[157/200] [Discriminator::d_loss: 0.692052],[Generator::loss: 0.699365], 0.742746[sec]\n",
      "epoch:[158/200] [Discriminator::d_loss: 0.693285],[Generator::loss: 0.691005], 0.752008[sec]\n",
      "epoch:[159/200] [Discriminator::d_loss: 0.693943],[Generator::loss: 0.683245], 0.746438[sec]\n",
      "epoch:[160/200] [Discriminator::d_loss: 0.697754],[Generator::loss: 0.700778], 0.746789[sec]\n",
      "epoch:[161/200] [Discriminator::d_loss: 0.693672],[Generator::loss: 0.691727], 0.741547[sec]\n",
      "epoch:[162/200] [Discriminator::d_loss: 0.691941],[Generator::loss: 0.697520], 0.744206[sec]\n",
      "epoch:[163/200] [Discriminator::d_loss: 0.694764],[Generator::loss: 0.692982], 0.742410[sec]\n",
      "epoch:[164/200] [Discriminator::d_loss: 0.695773],[Generator::loss: 0.693747], 0.742136[sec]\n",
      "epoch:[165/200] [Discriminator::d_loss: 0.691797],[Generator::loss: 0.693037], 0.748821[sec]\n",
      "epoch:[166/200] [Discriminator::d_loss: 0.694125],[Generator::loss: 0.697513], 0.743530[sec]\n",
      "epoch:[167/200] [Discriminator::d_loss: 0.692629],[Generator::loss: 0.694302], 0.746813[sec]\n",
      "epoch:[168/200] [Discriminator::d_loss: 0.695850],[Generator::loss: 0.693032], 0.748879[sec]\n",
      "epoch:[169/200] [Discriminator::d_loss: 0.693184],[Generator::loss: 0.702404], 0.747503[sec]\n",
      "epoch:[170/200] [Discriminator::d_loss: 0.693033],[Generator::loss: 0.692221], 0.745723[sec]\n",
      "epoch:[171/200] [Discriminator::d_loss: 0.693233],[Generator::loss: 0.687587], 0.743367[sec]\n",
      "epoch:[172/200] [Discriminator::d_loss: 0.692790],[Generator::loss: 0.692666], 0.741574[sec]\n",
      "epoch:[173/200] [Discriminator::d_loss: 0.692676],[Generator::loss: 0.695804], 0.729216[sec]\n",
      "epoch:[174/200] [Discriminator::d_loss: 0.692332],[Generator::loss: 0.690784], 0.728454[sec]\n",
      "epoch:[175/200] [Discriminator::d_loss: 0.697634],[Generator::loss: 0.690041], 0.732706[sec]\n",
      "epoch:[176/200] [Discriminator::d_loss: 0.693720],[Generator::loss: 0.692104], 0.736294[sec]\n",
      "epoch:[177/200] [Discriminator::d_loss: 0.693158],[Generator::loss: 0.690512], 0.734010[sec]\n"
     ]
    },
    {
     "name": "stdout",
     "output_type": "stream",
     "text": [
      "epoch:[178/200] [Discriminator::d_loss: 0.694821],[Generator::loss: 0.694144], 0.739229[sec]\n",
      "epoch:[179/200] [Discriminator::d_loss: 0.693514],[Generator::loss: 0.695333], 0.742140[sec]\n",
      "epoch:[180/200] [Discriminator::d_loss: 0.694045],[Generator::loss: 0.692966], 0.734952[sec]\n",
      "epoch:[181/200] [Discriminator::d_loss: 0.691032],[Generator::loss: 0.698893], 0.735866[sec]\n",
      "epoch:[182/200] [Discriminator::d_loss: 0.693060],[Generator::loss: 0.695100], 0.743779[sec]\n",
      "epoch:[183/200] [Discriminator::d_loss: 0.698049],[Generator::loss: 0.695643], 0.735800[sec]\n",
      "epoch:[184/200] [Discriminator::d_loss: 0.695103],[Generator::loss: 0.696594], 0.741432[sec]\n",
      "epoch:[185/200] [Discriminator::d_loss: 0.693041],[Generator::loss: 0.684318], 0.738052[sec]\n",
      "epoch:[186/200] [Discriminator::d_loss: 0.693948],[Generator::loss: 0.692836], 0.741449[sec]\n",
      "epoch:[187/200] [Discriminator::d_loss: 0.694822],[Generator::loss: 0.694891], 0.743522[sec]\n",
      "epoch:[188/200] [Discriminator::d_loss: 0.695775],[Generator::loss: 0.689557], 0.744206[sec]\n",
      "epoch:[189/200] [Discriminator::d_loss: 0.694235],[Generator::loss: 0.691683], 0.764995[sec]\n",
      "epoch:[190/200] [Discriminator::d_loss: 0.694757],[Generator::loss: 0.689298], 0.743536[sec]\n",
      "epoch:[191/200] [Discriminator::d_loss: 0.693117],[Generator::loss: 0.691376], 0.744699[sec]\n",
      "epoch:[192/200] [Discriminator::d_loss: 0.692798],[Generator::loss: 0.695134], 0.746790[sec]\n",
      "epoch:[193/200] [Discriminator::d_loss: 0.695104],[Generator::loss: 0.698396], 0.755354[sec]\n",
      "epoch:[194/200] [Discriminator::d_loss: 0.692356],[Generator::loss: 0.692430], 0.746527[sec]\n",
      "epoch:[195/200] [Discriminator::d_loss: 0.693246],[Generator::loss: 0.697662], 0.742084[sec]\n",
      "epoch:[196/200] [Discriminator::d_loss: 0.693056],[Generator::loss: 0.693946], 0.744025[sec]\n",
      "epoch:[197/200] [Discriminator::d_loss: 0.692367],[Generator::loss: 0.700418], 0.743764[sec]\n",
      "epoch:[198/200] [Discriminator::d_loss: 0.697967],[Generator::loss: 0.696919], 0.797176[sec]\n",
      "epoch:[199/200] [Discriminator::d_loss: 0.694873],[Generator::loss: 0.688636], 0.834719[sec]\n",
      "epoch:[200/200] [Discriminator::d_loss: 0.693891],[Generator::loss: 0.694246], 0.756763[sec]\n"
     ]
    }
   ],
   "source": [
    "ep = 200\n",
    "g_loss, d_loss = train(X_train, epochs=ep, batch_size=32, G=G, D=D, gan=gan, noise_input=100)"
   ]
  },
  {
   "cell_type": "code",
   "execution_count": 103,
   "metadata": {},
   "outputs": [
    {
     "data": {
      "image/png": "[encoded data removed]",
      "text/plain": [
       "<Figure size 864x360 with 1 Axes>"
      ]
     },
     "metadata": {
      "needs_background": "light"
     },
     "output_type": "display_data"
    }
   ],
   "source": [
    "plt.figure(figsize=(12,5))\n",
    "plt.title(\"Loss GAN\", fontsize=15)\n",
    "plt.plot(range(ep), g_loss, label=\"loss rede G\")\n",
    "plt.plot(range(ep), d_loss, label=\"loss rede D\")\n",
    "plt.xlabel(\"epochs\", fontsize=14)\n",
    "plt.ylabel(\"loss\", fontsize=14)\n",
    "plt.grid()\n",
    "plt.legend();"
   ]
  },
  {
   "cell_type": "code",
   "execution_count": 105,
   "metadata": {},
   "outputs": [
    {
     "name": "stdout",
     "output_type": "stream",
     "text": [
      "Distribuición original de cada caracteristica vs red Generadora entrenada\n"
     ]
    },
    {
     "data": {
      "image/png": "[encoded data removed]",
      "text/plain": [
       "<Figure size 1080x648 with 9 Axes>"
      ]
     },
     "metadata": {
      "needs_background": "light"
     },
     "output_type": "display_data"
    }
   ],
   "source": [
    "noise = np.random.normal(loc=0, scale=1, size=(X_train.shape[0],100))\n",
    "data_fake = G.predict(noise)\n",
    "plt.figure(figsize=(15,9))\n",
    "print(\"Distribuición original de cada caracteristica vs red Generadora entrenada\")\n",
    "for col in range(X_train.shape[1]):\n",
    "    aux_real = X_train.iloc[:,col]\n",
    "    aux_fake = data_fake[:,col]\n",
    "    plt.subplot(3,3,col+1)\n",
    "    plt.hist(aux_real, bins=40, label=\"real\",)\n",
    "    plt.hist(aux_fake, bins=40, label=\"fake\", alpha=0.8)\n",
    "    plt.legend()"
   ]
  },
  {
   "cell_type": "code",
   "execution_count": 106,
   "metadata": {},
   "outputs": [
    {
     "name": "stdout",
     "output_type": "stream",
     "text": [
      "(4051, 2) (4051, 2)\n"
     ]
    }
   ],
   "source": [
    "pca = PCA(n_components=2)\n",
    "X_train_pca = pca.fit_transform(X_train)\n",
    "X_fake_pca = pca.transform(data_fake)\n",
    "print(X_train_pca.shape, X_fake_pca.shape)"
   ]
  },
  {
   "cell_type": "code",
   "execution_count": 107,
   "metadata": {},
   "outputs": [
    {
     "data": {
      "image/png": "[encoded data removed]",
      "text/plain": [
       "<Figure size 432x288 with 1 Axes>"
      ]
     },
     "metadata": {
      "needs_background": "light"
     },
     "output_type": "display_data"
    }
   ],
   "source": [
    "plt.figure(figsize=(6,4))\n",
    "plt.title(\"2-PCA entre dados reais e fakes\", fontsize=14)\n",
    "plt.xlabel(\"componente principal um\", fontsize=13)\n",
    "plt.ylabel(\"componente principal dois\", fontsize=13)\n",
    "plt.scatter(X_train_pca[:,0], X_train_pca[:,1], color=\"green\", label=\"real\", alpha=0.4)\n",
    "plt.scatter(X_fake_pca[:500,0], X_fake_pca[:500,1], color=\"red\", label=\"fake\", alpha=0.4)\n",
    "plt.legend();"
   ]
  },
  {
   "cell_type": "code",
   "execution_count": 108,
   "metadata": {},
   "outputs": [
    {
     "name": "stdout",
     "output_type": "stream",
     "text": [
      "Dados fake:  (4051, 9)\n",
      "\n",
      "-------------- Discriminador com dados fake --------------\n",
      "porcentagem de dados que o discriminador acredita reais:  0.5705\n",
      "porcentagem de dados que o discriminador acredita fakes:  0.4295\n",
      "\n",
      "-------------- Discriminador com dados reais --------------\n",
      "porcentagem de dados que o discriminador acredita reais:  0.4791\n",
      "porcentagem de dados que o discriminador acredita fakes:  0.5209\n"
     ]
    }
   ],
   "source": [
    "fakes = G.predict(np.random.normal(0,1,(X_train.shape[0],noise_input)))\n",
    "print(\"Dados fake: \", fakes.shape)\n",
    "print()\n",
    "D_predict_fake = D.predict_classes(fakes)\n",
    "print(\"-------------- Discriminador com dados fake --------------\")\n",
    "print(\"porcentagem de dados que o discriminador acredita reais: \", np.round(np.mean(D_predict_fake==1),4))\n",
    "print(\"porcentagem de dados que o discriminador acredita fakes: \", np.round(np.mean(D_predict_fake==0),4))\n",
    "print()\n",
    "D_predict_real = D.predict_classes(X_train)\n",
    "print(\"-------------- Discriminador com dados reais --------------\")\n",
    "print(\"porcentagem de dados que o discriminador acredita reais: \", np.round(np.mean(D_predict_real==1),4))\n",
    "print(\"porcentagem de dados que o discriminador acredita fakes: \", np.round(np.mean(D_predict_real==0),4))"
   ]
  },
  {
   "cell_type": "markdown",
   "metadata": {},
   "source": [
    "### Conclusiones\n",
    "- se puede ver que la distribuición de cada caracteristica se logra asimilar a la real, aunque en algunas aún no con la misma eficacia que en otras, eso se debe a que la red <i>GAN</i> no consigue aún llegar a su mejor punto que ocurre cuando ambas redes convergen a 0.5."
   ]
  },
  {
   "cell_type": "code",
   "execution_count": null,
   "metadata": {},
   "outputs": [],
   "source": []
  }
 ],
 "metadata": {
  "kernelspec": {
   "display_name": "Python 3",
   "language": "python",
   "name": "python3"
  },
  "language_info": {
   "codemirror_mode": {
    "name": "ipython",
    "version": 3
   },
   "file_extension": ".py",
   "mimetype": "text/x-python",
   "name": "python",
   "nbconvert_exporter": "python",
   "pygments_lexer": "ipython3",
   "version": "3.6.9"
  }
 },
 "nbformat": 4,
 "nbformat_minor": 2
}
