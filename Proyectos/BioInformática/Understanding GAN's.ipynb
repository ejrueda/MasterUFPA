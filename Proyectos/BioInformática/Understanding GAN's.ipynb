{
 "cells": [
  {
   "cell_type": "code",
   "execution_count": 9,
   "metadata": {},
   "outputs": [],
   "source": [
    "import numpy as np\n",
    "import pandas as pd\n",
    "from time import time\n",
    "import matplotlib.pyplot as plt\n",
    "from sklearn.decomposition import PCA\n",
    "from tensorflow.keras.models import Sequential\n",
    "from tensorflow.keras.layers import Dense, Dropout, LeakyReLU, Reshape, Flatten\n",
    "from tensorflow.keras.optimizers import Adam, RMSprop"
   ]
  },
  {
   "cell_type": "markdown",
   "metadata": {},
   "source": [
    "<center><h2>Jupyter Notebook para entender el modelamiento matemático de las GANs y ponerlo en práctica.</h2></center><br>\n",
    "<b>Autor:</b> Edwin Jahir Rueda Rojas<br>\n",
    "<b>email:</b> ejrueda95g@gmail.com<br>\n",
    "<b>website:</b> edwinrueda.com<br>\n",
    "<b>github:</b> https://github.com/ejrueda<br><br>\n",
    "Todo el contenido aquí realizado se basa en el artículo publicado por Ian J. Goodfellow et al. Titulado: <i><b>Generative Adversarial Nets</b></i>. (https://arxiv.org/abs/1406.2661)"
   ]
  },
  {
   "cell_type": "markdown",
   "metadata": {},
   "source": [
    "<h1>Arquitectura GAN</h1><br>\n",
    "- Se entrenan dos modelos G y D simultaneamente, en los cuales el modelo generativo G captura la distribuición de los datos reales, y el modelo discriminativo D estima la probabilidad de que dado un ejemplo, este sea de la distribuición original o no.\n",
    "\n",
    "#### Objetivo:\n",
    "- El objetivo de esta red es entrenar la red generadora G para maximizar la probabilidad de que la red Discriminadora D cometa errores de intendificación de la distribuición. Esto corresponde a un juego de mini-max entre dos jugadores, y solo existe una única solución, la cual ocurre cuando la red Generadora G capta la distribuición de los datos y así la red Discriminadora D no consigue diferenciar los ejemplos, teniendo así 0.5 de acierto.\n",
    "\n",
    "Cabe aclarar que esto se puede implementar con dos redes perceptrones multicapa utilizando el algoritmo <i>backpropagation</i> para el entrenamiento."
   ]
  },
  {
   "cell_type": "markdown",
   "metadata": {},
   "source": [
    "## Ejemplo práctico\n",
    "- Para nuestro ejemplo práctico, se tomará tomará una base de datos de genes y se trataŕa de generar nuevos genes a partir del modelamiento de la distribuición que aprenderá la red Generadora."
   ]
  },
  {
   "cell_type": "code",
   "execution_count": 10,
   "metadata": {},
   "outputs": [
    {
     "name": "stdout",
     "output_type": "stream",
     "text": [
      "Dimensionalidade dos dados:  (4051, 9)\n"
     ]
    },
    {
     "data": {
      "text/html": [
       "<div>\n",
       "<style scoped>\n",
       "    .dataframe tbody tr th:only-of-type {\n",
       "        vertical-align: middle;\n",
       "    }\n",
       "\n",
       "    .dataframe tbody tr th {\n",
       "        vertical-align: top;\n",
       "    }\n",
       "\n",
       "    .dataframe thead th {\n",
       "        text-align: right;\n",
       "    }\n",
       "</style>\n",
       "<table border=\"1\" class=\"dataframe\">\n",
       "  <thead>\n",
       "    <tr style=\"text-align: right;\">\n",
       "      <th></th>\n",
       "      <th>BB9</th>\n",
       "      <th>BB10</th>\n",
       "      <th>BB17</th>\n",
       "      <th>BB19</th>\n",
       "      <th>BB20</th>\n",
       "      <th>BB21</th>\n",
       "      <th>BB11</th>\n",
       "      <th>BB12</th>\n",
       "      <th>BB18</th>\n",
       "    </tr>\n",
       "    <tr>\n",
       "      <th>Genes</th>\n",
       "      <th></th>\n",
       "      <th></th>\n",
       "      <th></th>\n",
       "      <th></th>\n",
       "      <th></th>\n",
       "      <th></th>\n",
       "      <th></th>\n",
       "      <th></th>\n",
       "      <th></th>\n",
       "    </tr>\n",
       "  </thead>\n",
       "  <tbody>\n",
       "    <tr>\n",
       "      <td>accD</td>\n",
       "      <td>6.875411</td>\n",
       "      <td>7.047582</td>\n",
       "      <td>7.431765</td>\n",
       "      <td>7.105877</td>\n",
       "      <td>6.516094</td>\n",
       "      <td>6.676126</td>\n",
       "      <td>6.304694</td>\n",
       "      <td>6.168221</td>\n",
       "      <td>6.245553</td>\n",
       "    </tr>\n",
       "    <tr>\n",
       "      <td>aceF</td>\n",
       "      <td>7.732412</td>\n",
       "      <td>7.674997</td>\n",
       "      <td>8.397717</td>\n",
       "      <td>7.455056</td>\n",
       "      <td>7.277269</td>\n",
       "      <td>6.525536</td>\n",
       "      <td>7.455730</td>\n",
       "      <td>6.403830</td>\n",
       "      <td>7.597941</td>\n",
       "    </tr>\n",
       "    <tr>\n",
       "      <td>ackA</td>\n",
       "      <td>7.231720</td>\n",
       "      <td>7.260976</td>\n",
       "      <td>8.033280</td>\n",
       "      <td>6.921924</td>\n",
       "      <td>6.920829</td>\n",
       "      <td>6.556644</td>\n",
       "      <td>6.358150</td>\n",
       "      <td>5.888768</td>\n",
       "      <td>6.359310</td>\n",
       "    </tr>\n",
       "    <tr>\n",
       "      <td>agaV</td>\n",
       "      <td>6.048825</td>\n",
       "      <td>6.250033</td>\n",
       "      <td>5.120269</td>\n",
       "      <td>5.559767</td>\n",
       "      <td>5.915593</td>\n",
       "      <td>6.279490</td>\n",
       "      <td>6.441998</td>\n",
       "      <td>6.553099</td>\n",
       "      <td>6.105364</td>\n",
       "    </tr>\n",
       "    <tr>\n",
       "      <td>alaS</td>\n",
       "      <td>7.811728</td>\n",
       "      <td>7.853890</td>\n",
       "      <td>8.622037</td>\n",
       "      <td>7.636451</td>\n",
       "      <td>7.641365</td>\n",
       "      <td>7.125920</td>\n",
       "      <td>7.164957</td>\n",
       "      <td>6.555678</td>\n",
       "      <td>7.098590</td>\n",
       "    </tr>\n",
       "  </tbody>\n",
       "</table>\n",
       "</div>"
      ],
      "text/plain": [
       "            BB9      BB10      BB17      BB19      BB20      BB21      BB11  \\\n",
       "Genes                                                                         \n",
       "accD   6.875411  7.047582  7.431765  7.105877  6.516094  6.676126  6.304694   \n",
       "aceF   7.732412  7.674997  8.397717  7.455056  7.277269  6.525536  7.455730   \n",
       "ackA   7.231720  7.260976  8.033280  6.921924  6.920829  6.556644  6.358150   \n",
       "agaV   6.048825  6.250033  5.120269  5.559767  5.915593  6.279490  6.441998   \n",
       "alaS   7.811728  7.853890  8.622037  7.636451  7.641365  7.125920  7.164957   \n",
       "\n",
       "           BB12      BB18  \n",
       "Genes                      \n",
       "accD   6.168221  6.245553  \n",
       "aceF   6.403830  7.597941  \n",
       "ackA   5.888768  6.359310  \n",
       "agaV   6.553099  6.105364  \n",
       "alaS   6.555678  7.098590  "
      ]
     },
     "execution_count": 10,
     "metadata": {},
     "output_type": "execute_result"
    }
   ],
   "source": [
    "X_train = pd.read_csv(\"./data/ClustREFGenes-master/Data/Core_genome/Data_Core_Genome_Ecoli_log2.csv\",\n",
    "                  index_col=0)\n",
    "print(\"Dimensionalidade dos dados: \", X_train.shape)\n",
    "X_train.head()"
   ]
  },
  {
   "cell_type": "markdown",
   "metadata": {},
   "source": [
    "### Escalado de los datos\n",
    "- Para implementar la red, se escalan los datos para un intervalo [-1,1], utlizando la siguiente fórmula:\n",
    "$$ x = \\frac{x - min(x)}{max(x)-min(x)} \\bullet{(max-min)} + min$$\n",
    "- Donde los parámetros <i>max</i> y <i>min</i> son -1 y 1 sucesivamente."
   ]
  },
  {
   "cell_type": "code",
   "execution_count": 11,
   "metadata": {},
   "outputs": [],
   "source": [
    "max_val = 1\n",
    "min_val = -1\n",
    "X_train = ((X_train - np.min(X_train))/(np.max(X_train) - np.min(X_train)))*(max_val - min_val) + min_val"
   ]
  },
  {
   "cell_type": "markdown",
   "metadata": {},
   "source": [
    "### Red Generadora G\n",
    "- Se toma una distribuición Gaussiana como entrada a la red Generadora para así generar los datos sintéticos (fake).\n",
    "- Con la red generadora lo que se quiere es ir del espació de datos de la distribuición inicial, a el espacio de datos de la distribuición que se quiere replicar, por eso la salida de esta red no es un simple escalar como en un problema de clasificación, esta red tiene como salida los datos que la red cree que pertenecen al espacio original."
   ]
  },
  {
   "cell_type": "code",
   "execution_count": 12,
   "metadata": {},
   "outputs": [],
   "source": [
    "def generator(noise_input, out_dim):\n",
    "    \"\"\"\n",
    "    noise_input: vector con los datos de la distribuición inicial\n",
    "    out_dim: dimension de la salida esperada, por ejemplo si es una imagen\n",
    "             en escala de gris, sería out_dim: (32,32,1)\n",
    "    Retorna el modelo Generador\n",
    "    \"\"\"\n",
    "    model = Sequential()\n",
    "    model.add(Dense(256, input_shape=(noise_input,)))\n",
    "    model.add(LeakyReLU(alpha=0.3))\n",
    "    model.add(Dropout(.1))\n",
    "    model.add(Dense(np.prod(out_dim), activation=\"tanh\"))\n",
    "    model.add(Reshape(out_dim))\n",
    "    \n",
    "    return model"
   ]
  },
  {
   "cell_type": "code",
   "execution_count": 13,
   "metadata": {},
   "outputs": [
    {
     "name": "stdout",
     "output_type": "stream",
     "text": [
      "Dimension del ruido de entrada:  100\n"
     ]
    }
   ],
   "source": [
    "noise_input = 100\n",
    "print(\"Dimension del ruido de entrada: \",noise_input)\n",
    "G = generator(noise_input, out_dim=(9,))\n",
    "optimizerG = Adam(lr=0.0004, beta_1=0.5)\n",
    "G.compile(loss='binary_crossentropy', optimizer=optimizerG)"
   ]
  },
  {
   "cell_type": "code",
   "execution_count": 14,
   "metadata": {},
   "outputs": [
    {
     "name": "stdout",
     "output_type": "stream",
     "text": [
      "Model: \"sequential_1\"\n",
      "_________________________________________________________________\n",
      "Layer (type)                 Output Shape              Param #   \n",
      "=================================================================\n",
      "dense_2 (Dense)              (None, 256)               25856     \n",
      "_________________________________________________________________\n",
      "leaky_re_lu_1 (LeakyReLU)    (None, 256)               0         \n",
      "_________________________________________________________________\n",
      "dropout_1 (Dropout)          (None, 256)               0         \n",
      "_________________________________________________________________\n",
      "dense_3 (Dense)              (None, 9)                 2313      \n",
      "_________________________________________________________________\n",
      "reshape_1 (Reshape)          (None, 9)                 0         \n",
      "=================================================================\n",
      "Total params: 28,169\n",
      "Trainable params: 28,169\n",
      "Non-trainable params: 0\n",
      "_________________________________________________________________\n"
     ]
    }
   ],
   "source": [
    "G.summary()"
   ]
  },
  {
   "cell_type": "code",
   "execution_count": 44,
   "metadata": {},
   "outputs": [
    {
     "name": "stdout",
     "output_type": "stream",
     "text": [
      "Dimension de los datos de entrada: (3000, 100)\n",
      "Dimension de los ejemplos generados: (3000, 9)\n"
     ]
    }
   ],
   "source": [
    "noise = np.random.normal(loc=0, scale=1, size=(3000,100))\n",
    "print(\"Dimension de los datos de entrada:\", noise.shape)\n",
    "data_fake = G.predict(noise)\n",
    "print(\"Dimension de los ejemplos generados:\", data_fake.shape)"
   ]
  },
  {
   "cell_type": "markdown",
   "metadata": {},
   "source": [
    "### Visualización\n",
    "- Se dibuja por separado la distribuición de cada caracteristica de los datos, para así comparar la distribuición real con la que genera la red Generadora G. En este caso, la red aún no ha sido entrenada, por lo que se espera que los valores de los datos que se predicen, sigan una distribuición un poco uniforme o que no se ajuste a la real."
   ]
  },
  {
   "cell_type": "code",
   "execution_count": 56,
   "metadata": {},
   "outputs": [
    {
     "name": "stdout",
     "output_type": "stream",
     "text": [
      "Distribuición original de cada caracteristica vs red Generadora sin entrenar\n"
     ]
    },
    {
     "data": {
      "image/png": "[encoded data removed]",
      "text/plain": [
       "<Figure size 1080x648 with 9 Axes>"
      ]
     },
     "metadata": {
      "needs_background": "light"
     },
     "output_type": "display_data"
    }
   ],
   "source": [
    "plt.figure(figsize=(15,9))\n",
    "print(\"Distribuición original de cada caracteristica vs red Generadora sin entrenar\")\n",
    "for col in range(X_train.shape[1]):\n",
    "    aux_real = X_train.iloc[:,col]\n",
    "    aux_fake = data_fake[:,col]\n",
    "    plt.subplot(3,3,col+1)\n",
    "    plt.hist(aux_real, bins=40, label=\"real\",)\n",
    "    plt.hist(aux_fake, bins=40, label=\"fake\", alpha=0.9)\n",
    "    plt.legend()"
   ]
  },
  {
   "cell_type": "markdown",
   "metadata": {},
   "source": [
    "### Red discriminadora D\n",
    "- La red discriminadora funciona como una red clasificadora, la cual tendrá dos categorias, 0 si los datos son de la distribuición real y 1 si los datos vienen de la distribuición falsa (fake)."
   ]
  },
  {
   "cell_type": "code",
   "execution_count": 57,
   "metadata": {},
   "outputs": [],
   "source": [
    "def discriminator(input_dim):\n",
    "    \"\"\"\n",
    "    input_dim: dimension de los datos de entrada,\n",
    "               por ejemplo si es una imagen en escala de gris,\n",
    "               sería input_dim: (32,32,1)\n",
    "    \"\"\"\n",
    "    model = Sequential()\n",
    "    model.add(Dense(32, input_shape=input_dim))\n",
    "    model.add(LeakyReLU(alpha=0.2)) #función rectificadora\n",
    "    model.add(Dropout(.1))\n",
    "    model.add(Dense(32))\n",
    "    model.add(Flatten())\n",
    "    #activación sigmoid ya que se precisa establecer si es 0 ó 1.\n",
    "    model.add(Dense(1, activation='sigmoid'))\n",
    "    return model"
   ]
  },
  {
   "cell_type": "code",
   "execution_count": 58,
   "metadata": {},
   "outputs": [
    {
     "name": "stdout",
     "output_type": "stream",
     "text": [
      "WARNING:tensorflow:From /home/edwin/.local/lib/python3.6/site-packages/tensorflow_core/python/ops/nn_impl.py:183: where (from tensorflow.python.ops.array_ops) is deprecated and will be removed in a future version.\n",
      "Instructions for updating:\n",
      "Use tf.where in 2.0, which has the same broadcast rule as np.where\n"
     ]
    }
   ],
   "source": [
    "D = discriminator((9,))\n",
    "optimizerD = Adam(lr=0.0001, beta_1=0.5)\n",
    "D.compile(loss='binary_crossentropy', optimizer=optimizerD, metrics=['accuracy'])"
   ]
  },
  {
   "cell_type": "markdown",
   "metadata": {},
   "source": [
    "### Red GAN\n",
    "- La red GAN está creada conectando tanto la red G como la red D de forma secuencial, recordando que la red D debe ser entrenada de forma separada, para que el algoritmo de <i>backpropagation</i> no afecte los pesos de la red G, asi, una vez la red D se entrene, se procede a entrenar la GAN, la cual mudará solo los pesos de la red G, ya que los de la red D no se pueden actualizar en este paso. Esto se repite la cantidad de <i>epochs</i> que se definan."
   ]
  },
  {
   "cell_type": "code",
   "execution_count": 70,
   "metadata": {},
   "outputs": [],
   "source": [
    "def Gan(generator, discriminator):\n",
    "    \"\"\"\n",
    "    recibe como parámetros de entrada las redes\n",
    "    generador y discriminador\n",
    "    \"\"\"\n",
    "    model = Sequential()\n",
    "    model.add(generator)\n",
    "    discriminator.trainable = False #no se actualizan los pesos\n",
    "    model.add(discriminator)\n",
    "    return model"
   ]
  },
  {
   "cell_type": "code",
   "execution_count": 71,
   "metadata": {},
   "outputs": [
    {
     "name": "stdout",
     "output_type": "stream",
     "text": [
      "Model: \"sequential_8\"\n",
      "_________________________________________________________________\n",
      "Layer (type)                 Output Shape              Param #   \n",
      "=================================================================\n",
      "sequential_1 (Sequential)    (None, 9)                 28169     \n",
      "_________________________________________________________________\n",
      "sequential_2 (Sequential)    (None, 1)                 1409      \n",
      "=================================================================\n",
      "Total params: 29,578\n",
      "Trainable params: 28,169\n",
      "Non-trainable params: 1,409\n",
      "_________________________________________________________________\n"
     ]
    }
   ],
   "source": [
    "gan = Gan(G,D)\n",
    "gan.compile(loss='binary_crossentropy', optimizer=optimizerG)\n",
    "gan.summary()"
   ]
  },
  {
   "cell_type": "markdown",
   "metadata": {},
   "source": [
    "### Entrenamiento de la red\n",
    "- Para entrenar la red, primero se creará una función con la cual se obtendrán los <i>bacth</i> con los cuales se entrenara la red en cada <i>epochs</i>.\n",
    "- Como se mencionó anteriormente, en cada <i>epochs</i> la red discriminadora D es entrenada a parte y luego es entrenada la red GAN, recordando que esta solo actualiza los pesos de la red generadora G mediante <i>backpropagation</i>."
   ]
  },
  {
   "cell_type": "code",
   "execution_count": 72,
   "metadata": {},
   "outputs": [],
   "source": [
    "def get_batches(X_train, batch_size):\n",
    "    \"\"\"\n",
    "    X_train: dataset para o treino\n",
    "    epochs: quantidade de epocas para o treino do gradiente\n",
    "    batch: tamanho to batch pra o treino de cada epochs\n",
    "    \"\"\"\n",
    "    batches = []\n",
    "    num_bat = int(np.ceil(X_train.shape[0]/batch_size))\n",
    "    lim_i = 0\n",
    "    lim_s = batch_size\n",
    "    for i in range(num_bat):\n",
    "        if lim_s > X_train.shape[0]:\n",
    "            lim_s = X_train.shape[0]\n",
    "        batches.append(X_train[lim_i:lim_s])\n",
    "        lim_i += batch_size\n",
    "        lim_s += batch_size\n",
    "    return batches"
   ]
  },
  {
   "cell_type": "code",
   "execution_count": 73,
   "metadata": {},
   "outputs": [],
   "source": [
    "#treinamento da GAN\n",
    "def train(X_train, epochs, batch_size, G, D, gan, noise_input):\n",
    "    g_loss = []\n",
    "    d_loss = []\n",
    "    for epoch in range(epochs):\n",
    "        batches = get_batches(X_train, batch_size)\n",
    "        count_b = 0\n",
    "        t_i = time()\n",
    "        for batch in batches:\n",
    "            gen_noise = np.random.normal(0, 1, (np.int64(batch.shape[0]), noise_input))\n",
    "            #gerando as imagens fake\n",
    "            syntetic_data = G.predict(gen_noise)\n",
    "            #criação do array de treinamento\n",
    "            x_combined_batch = np.concatenate((batch, syntetic_data))\n",
    "            y_combined_batch = np.concatenate((np.ones((batch.shape[0], 1)),\n",
    "                                               np.zeros((batch.shape[0], 1))))\n",
    "            #misturar os dados\n",
    "            #x_combined_batch, y_combined_batch = shuffle(x_combined_batch, y_combined_batch)\n",
    "            #treino do discriminador\n",
    "            d_l = D.train_on_batch(x_combined_batch, y_combined_batch)\n",
    "            # train generator\n",
    "            noise = np.random.normal(0, 1, (batch.shape[0], noise_input))\n",
    "            y_mislabled = np.ones((batch.shape[0], 1))\n",
    "\n",
    "            g_l = gan.train_on_batch(noise, y_mislabled)\n",
    " \n",
    "        t_f = time()\n",
    "        t = t_f - t_i\n",
    "        t_i = time()\n",
    "        d_loss.append(d_l[0])\n",
    "        g_loss.append(g_l)\n",
    "        print ('epoch:[%d/%d] [Discriminator::d_loss: %f],[Generator::loss: %f], %f[sec]'\n",
    "                   % (epoch+1, epochs, d_loss[-1], g_loss[-1], t))\n",
    "        \n",
    "    return g_loss, d_loss"
   ]
  },
  {
   "cell_type": "code",
   "execution_count": 74,
   "metadata": {},
   "outputs": [
    {
     "data": {
      "text/plain": [
       "(4051, 9)"
      ]
     },
     "execution_count": 74,
     "metadata": {},
     "output_type": "execute_result"
    }
   ],
   "source": [
    "X_train.shape"
   ]
  },
  {
   "cell_type": "code",
   "execution_count": 75,
   "metadata": {
    "scrolled": true
   },
   "outputs": [
    {
     "name": "stdout",
     "output_type": "stream",
     "text": [
      "WARNING:tensorflow:Discrepancy between trainable weights and collected trainable weights, did you set `model.trainable` without calling `model.compile` after ?\n",
      "epoch:[1/100] [Discriminator::d_loss: 0.670851],[Generator::loss: 0.767276], 1.866929[sec]\n",
      "epoch:[2/100] [Discriminator::d_loss: 0.658735],[Generator::loss: 0.785332], 0.934896[sec]\n",
      "epoch:[3/100] [Discriminator::d_loss: 0.680763],[Generator::loss: 0.704663], 0.860711[sec]\n",
      "epoch:[4/100] [Discriminator::d_loss: 0.680232],[Generator::loss: 0.709445], 0.822828[sec]\n",
      "epoch:[5/100] [Discriminator::d_loss: 0.682928],[Generator::loss: 0.728536], 0.813498[sec]\n",
      "epoch:[6/100] [Discriminator::d_loss: 0.678006],[Generator::loss: 0.732235], 0.909869[sec]\n",
      "epoch:[7/100] [Discriminator::d_loss: 0.680547],[Generator::loss: 0.722113], 0.802563[sec]\n",
      "epoch:[8/100] [Discriminator::d_loss: 0.697109],[Generator::loss: 0.686752], 0.806748[sec]\n",
      "epoch:[9/100] [Discriminator::d_loss: 0.685033],[Generator::loss: 0.699366], 0.998280[sec]\n",
      "epoch:[10/100] [Discriminator::d_loss: 0.690800],[Generator::loss: 0.709456], 1.086276[sec]\n",
      "epoch:[11/100] [Discriminator::d_loss: 0.694258],[Generator::loss: 0.702202], 0.805962[sec]\n",
      "epoch:[12/100] [Discriminator::d_loss: 0.701355],[Generator::loss: 0.717599], 0.810071[sec]\n",
      "epoch:[13/100] [Discriminator::d_loss: 0.685529],[Generator::loss: 0.699047], 0.908187[sec]\n",
      "epoch:[14/100] [Discriminator::d_loss: 0.698387],[Generator::loss: 0.695600], 0.880914[sec]\n",
      "epoch:[15/100] [Discriminator::d_loss: 0.698948],[Generator::loss: 0.677985], 0.897699[sec]\n",
      "epoch:[16/100] [Discriminator::d_loss: 0.698455],[Generator::loss: 0.703186], 0.910200[sec]\n",
      "epoch:[17/100] [Discriminator::d_loss: 0.692631],[Generator::loss: 0.696815], 0.884739[sec]\n",
      "epoch:[18/100] [Discriminator::d_loss: 0.690740],[Generator::loss: 0.701008], 0.852735[sec]\n",
      "epoch:[19/100] [Discriminator::d_loss: 0.692307],[Generator::loss: 0.706626], 0.893653[sec]\n",
      "epoch:[20/100] [Discriminator::d_loss: 0.702848],[Generator::loss: 0.691273], 0.899690[sec]\n",
      "epoch:[21/100] [Discriminator::d_loss: 0.697438],[Generator::loss: 0.695183], 0.881969[sec]\n",
      "epoch:[22/100] [Discriminator::d_loss: 0.697573],[Generator::loss: 0.689835], 0.883394[sec]\n",
      "epoch:[23/100] [Discriminator::d_loss: 0.699177],[Generator::loss: 0.701027], 0.853260[sec]\n",
      "epoch:[24/100] [Discriminator::d_loss: 0.696730],[Generator::loss: 0.691586], 0.845982[sec]\n",
      "epoch:[25/100] [Discriminator::d_loss: 0.700475],[Generator::loss: 0.688020], 0.882294[sec]\n",
      "epoch:[26/100] [Discriminator::d_loss: 0.698049],[Generator::loss: 0.689051], 0.905123[sec]\n",
      "epoch:[27/100] [Discriminator::d_loss: 0.690370],[Generator::loss: 0.676533], 0.910545[sec]\n",
      "epoch:[28/100] [Discriminator::d_loss: 0.702584],[Generator::loss: 0.699679], 0.899734[sec]\n",
      "epoch:[29/100] [Discriminator::d_loss: 0.690915],[Generator::loss: 0.682436], 0.884305[sec]\n",
      "epoch:[30/100] [Discriminator::d_loss: 0.695518],[Generator::loss: 0.701668], 0.873738[sec]\n",
      "epoch:[31/100] [Discriminator::d_loss: 0.690083],[Generator::loss: 0.716913], 0.900838[sec]\n",
      "epoch:[32/100] [Discriminator::d_loss: 0.695552],[Generator::loss: 0.706391], 0.932602[sec]\n",
      "epoch:[33/100] [Discriminator::d_loss: 0.700353],[Generator::loss: 0.683109], 0.889225[sec]\n",
      "epoch:[34/100] [Discriminator::d_loss: 0.702417],[Generator::loss: 0.694161], 0.815177[sec]\n",
      "epoch:[35/100] [Discriminator::d_loss: 0.704006],[Generator::loss: 0.683948], 0.797713[sec]\n",
      "epoch:[36/100] [Discriminator::d_loss: 0.705362],[Generator::loss: 0.686622], 0.814698[sec]\n",
      "epoch:[37/100] [Discriminator::d_loss: 0.699025],[Generator::loss: 0.687851], 0.881263[sec]\n",
      "epoch:[38/100] [Discriminator::d_loss: 0.695079],[Generator::loss: 0.704499], 0.884815[sec]\n",
      "epoch:[39/100] [Discriminator::d_loss: 0.701732],[Generator::loss: 0.680517], 0.873199[sec]\n",
      "epoch:[40/100] [Discriminator::d_loss: 0.706520],[Generator::loss: 0.696835], 0.852544[sec]\n",
      "epoch:[41/100] [Discriminator::d_loss: 0.698832],[Generator::loss: 0.706559], 0.923960[sec]\n",
      "epoch:[42/100] [Discriminator::d_loss: 0.703372],[Generator::loss: 0.692792], 0.896192[sec]\n",
      "epoch:[43/100] [Discriminator::d_loss: 0.699821],[Generator::loss: 0.700451], 0.906024[sec]\n",
      "epoch:[44/100] [Discriminator::d_loss: 0.704127],[Generator::loss: 0.703410], 1.088590[sec]\n",
      "epoch:[45/100] [Discriminator::d_loss: 0.700201],[Generator::loss: 0.694436], 0.850321[sec]\n",
      "epoch:[46/100] [Discriminator::d_loss: 0.703987],[Generator::loss: 0.693744], 0.800179[sec]\n",
      "epoch:[47/100] [Discriminator::d_loss: 0.689064],[Generator::loss: 0.684846], 0.909334[sec]\n",
      "epoch:[48/100] [Discriminator::d_loss: 0.706925],[Generator::loss: 0.689700], 1.127317[sec]\n",
      "epoch:[49/100] [Discriminator::d_loss: 0.693467],[Generator::loss: 0.684756], 1.650044[sec]\n",
      "epoch:[50/100] [Discriminator::d_loss: 0.699890],[Generator::loss: 0.684752], 0.916912[sec]\n",
      "epoch:[51/100] [Discriminator::d_loss: 0.700088],[Generator::loss: 0.682405], 0.901736[sec]\n",
      "epoch:[52/100] [Discriminator::d_loss: 0.689533],[Generator::loss: 0.701409], 0.876101[sec]\n",
      "epoch:[53/100] [Discriminator::d_loss: 0.697033],[Generator::loss: 0.693927], 0.872126[sec]\n",
      "epoch:[54/100] [Discriminator::d_loss: 0.690460],[Generator::loss: 0.700749], 0.881153[sec]\n",
      "epoch:[55/100] [Discriminator::d_loss: 0.694119],[Generator::loss: 0.687793], 0.867190[sec]\n",
      "epoch:[56/100] [Discriminator::d_loss: 0.686099],[Generator::loss: 0.693183], 0.878216[sec]\n",
      "epoch:[57/100] [Discriminator::d_loss: 0.696142],[Generator::loss: 0.688568], 0.876867[sec]\n",
      "epoch:[58/100] [Discriminator::d_loss: 0.701588],[Generator::loss: 0.687732], 1.019283[sec]\n",
      "epoch:[59/100] [Discriminator::d_loss: 0.697182],[Generator::loss: 0.683160], 0.865188[sec]\n",
      "epoch:[60/100] [Discriminator::d_loss: 0.689811],[Generator::loss: 0.702177], 1.003559[sec]\n",
      "epoch:[61/100] [Discriminator::d_loss: 0.693271],[Generator::loss: 0.699664], 1.084301[sec]\n",
      "epoch:[62/100] [Discriminator::d_loss: 0.692348],[Generator::loss: 0.692969], 0.872190[sec]\n",
      "epoch:[63/100] [Discriminator::d_loss: 0.690546],[Generator::loss: 0.701703], 0.879437[sec]\n",
      "epoch:[64/100] [Discriminator::d_loss: 0.697702],[Generator::loss: 0.697476], 0.848276[sec]\n",
      "epoch:[65/100] [Discriminator::d_loss: 0.698814],[Generator::loss: 0.686478], 0.827508[sec]\n",
      "epoch:[66/100] [Discriminator::d_loss: 0.707002],[Generator::loss: 0.681450], 0.831072[sec]\n",
      "epoch:[67/100] [Discriminator::d_loss: 0.692485],[Generator::loss: 0.705707], 0.926522[sec]\n",
      "epoch:[68/100] [Discriminator::d_loss: 0.693528],[Generator::loss: 0.683726], 0.802208[sec]\n",
      "epoch:[69/100] [Discriminator::d_loss: 0.695433],[Generator::loss: 0.690289], 0.808507[sec]\n",
      "epoch:[70/100] [Discriminator::d_loss: 0.692211],[Generator::loss: 0.685947], 0.836623[sec]\n",
      "epoch:[71/100] [Discriminator::d_loss: 0.696204],[Generator::loss: 0.676519], 0.821934[sec]\n",
      "epoch:[72/100] [Discriminator::d_loss: 0.690701],[Generator::loss: 0.693460], 0.897696[sec]\n",
      "epoch:[73/100] [Discriminator::d_loss: 0.699051],[Generator::loss: 0.687095], 0.860843[sec]\n",
      "epoch:[74/100] [Discriminator::d_loss: 0.688511],[Generator::loss: 0.692821], 0.865613[sec]\n",
      "epoch:[75/100] [Discriminator::d_loss: 0.692234],[Generator::loss: 0.692694], 0.847107[sec]\n",
      "epoch:[76/100] [Discriminator::d_loss: 0.710966],[Generator::loss: 0.686624], 0.881066[sec]\n",
      "epoch:[77/100] [Discriminator::d_loss: 0.695771],[Generator::loss: 0.685322], 0.814368[sec]\n",
      "epoch:[78/100] [Discriminator::d_loss: 0.693001],[Generator::loss: 0.695119], 0.822301[sec]\n",
      "epoch:[79/100] [Discriminator::d_loss: 0.692855],[Generator::loss: 0.692956], 0.985438[sec]\n",
      "epoch:[80/100] [Discriminator::d_loss: 0.693068],[Generator::loss: 0.695987], 0.796273[sec]\n",
      "epoch:[81/100] [Discriminator::d_loss: 0.698812],[Generator::loss: 0.690461], 0.845440[sec]\n",
      "epoch:[82/100] [Discriminator::d_loss: 0.701434],[Generator::loss: 0.689911], 0.828821[sec]\n",
      "epoch:[83/100] [Discriminator::d_loss: 0.692937],[Generator::loss: 0.696860], 0.970368[sec]\n",
      "epoch:[84/100] [Discriminator::d_loss: 0.693378],[Generator::loss: 0.696770], 0.818503[sec]\n",
      "epoch:[85/100] [Discriminator::d_loss: 0.692480],[Generator::loss: 0.695164], 0.897803[sec]\n",
      "epoch:[86/100] [Discriminator::d_loss: 0.696555],[Generator::loss: 0.700738], 0.885728[sec]\n",
      "epoch:[87/100] [Discriminator::d_loss: 0.697935],[Generator::loss: 0.694431], 0.932354[sec]\n",
      "epoch:[88/100] [Discriminator::d_loss: 0.698112],[Generator::loss: 0.693716], 0.863517[sec]\n"
     ]
    },
    {
     "name": "stdout",
     "output_type": "stream",
     "text": [
      "epoch:[89/100] [Discriminator::d_loss: 0.692181],[Generator::loss: 0.700965], 0.947551[sec]\n",
      "epoch:[90/100] [Discriminator::d_loss: 0.693828],[Generator::loss: 0.690588], 0.919984[sec]\n",
      "epoch:[91/100] [Discriminator::d_loss: 0.694605],[Generator::loss: 0.686951], 0.895402[sec]\n",
      "epoch:[92/100] [Discriminator::d_loss: 0.695535],[Generator::loss: 0.684935], 0.881466[sec]\n",
      "epoch:[93/100] [Discriminator::d_loss: 0.690239],[Generator::loss: 0.689619], 0.955280[sec]\n",
      "epoch:[94/100] [Discriminator::d_loss: 0.694452],[Generator::loss: 0.700019], 0.960083[sec]\n",
      "epoch:[95/100] [Discriminator::d_loss: 0.700954],[Generator::loss: 0.694777], 0.960913[sec]\n",
      "epoch:[96/100] [Discriminator::d_loss: 0.689205],[Generator::loss: 0.696620], 0.914413[sec]\n",
      "epoch:[97/100] [Discriminator::d_loss: 0.698308],[Generator::loss: 0.694597], 0.942551[sec]\n",
      "epoch:[98/100] [Discriminator::d_loss: 0.693300],[Generator::loss: 0.693149], 0.895536[sec]\n",
      "epoch:[99/100] [Discriminator::d_loss: 0.694500],[Generator::loss: 0.690773], 0.922735[sec]\n",
      "epoch:[100/100] [Discriminator::d_loss: 0.690449],[Generator::loss: 0.693611], 0.926598[sec]\n"
     ]
    }
   ],
   "source": [
    "ep = 100\n",
    "g_loss, d_loss = train(X_train, epochs=ep, batch_size=32, G=G, D=D, gan=gan, noise_input=100)"
   ]
  },
  {
   "cell_type": "code",
   "execution_count": 76,
   "metadata": {},
   "outputs": [
    {
     "data": {
      "image/png": "[encoded data removed]",
      "text/plain": [
       "<Figure size 864x360 with 1 Axes>"
      ]
     },
     "metadata": {
      "needs_background": "light"
     },
     "output_type": "display_data"
    }
   ],
   "source": [
    "plt.figure(figsize=(12,5))\n",
    "plt.title(\"Loss GAN\", fontsize=14)\n",
    "plt.plot(range(ep), g_loss, label=\"loss red G\")\n",
    "plt.plot(range(ep), d_loss, label=\"loss red D\")\n",
    "plt.xlabel(\"epochs\")\n",
    "plt.ylabel(\"loss\")\n",
    "plt.grid()\n",
    "plt.legend();"
   ]
  },
  {
   "cell_type": "code",
   "execution_count": 80,
   "metadata": {},
   "outputs": [
    {
     "name": "stdout",
     "output_type": "stream",
     "text": [
      "Distribuición original de cada caracteristica vs red Generadora entrenada\n"
     ]
    },
    {
     "data": {
      "image/png": "[encoded data removed]",
      "text/plain": [
       "<Figure size 1080x648 with 9 Axes>"
      ]
     },
     "metadata": {
      "needs_background": "light"
     },
     "output_type": "display_data"
    }
   ],
   "source": [
    "noise = np.random.normal(loc=0, scale=1, size=(4000,100))\n",
    "data_fake = G.predict(noise)\n",
    "plt.figure(figsize=(15,9))\n",
    "print(\"Distribuición original de cada caracteristica vs red Generadora entrenada\")\n",
    "for col in range(X_train.shape[1]):\n",
    "    aux_real = X_train.iloc[:,col]\n",
    "    aux_fake = data_fake[:,col]\n",
    "    plt.subplot(3,3,col+1)\n",
    "    plt.hist(aux_real, bins=40, label=\"real\",)\n",
    "    plt.hist(aux_fake, bins=40, label=\"fake\", alpha=0.8)\n",
    "    plt.legend()"
   ]
  },
  {
   "cell_type": "markdown",
   "metadata": {},
   "source": [
    "### Conclusiones\n",
    "- se puede ver que la distribuición de cada caracteristica se logra asimilar a la real, aunque en algunas aún no con la misma eficacia que en otras, eso se debe a que la red <i>GAN</i> no consigue aún llegar a su mejor punto que ocurre cuando ambas redes convergen a 0.5."
   ]
  },
  {
   "cell_type": "code",
   "execution_count": null,
   "metadata": {},
   "outputs": [],
   "source": []
  }
 ],
 "metadata": {
  "kernelspec": {
   "display_name": "Python 3",
   "language": "python",
   "name": "python3"
  },
  "language_info": {
   "codemirror_mode": {
    "name": "ipython",
    "version": 3
   },
   "file_extension": ".py",
   "mimetype": "text/x-python",
   "name": "python",
   "nbconvert_exporter": "python",
   "pygments_lexer": "ipython3",
   "version": "3.6.8"
  }
 },
 "nbformat": 4,
 "nbformat_minor": 2
}
