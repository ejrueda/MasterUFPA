{
 "cells": [
  {
   "cell_type": "markdown",
   "metadata": {},
   "source": [
    "### <center>M-measure - GeNorm"
   ]
  },
  {
   "cell_type": "markdown",
   "metadata": {},
   "source": [
    "$$ A_{jk} = \\left(log_{2}\\frac{a_{1j}}{a_{1k}}, \\cdots, log_{2}\\frac{a_{mj}}{a_{mk}}\\right)$$\n",
    "<br>\n",
    "$$ V_{jk} = \\sigma (A_{jk})$$ \n",
    "<br>\n",
    "$$ M_{j} = \\frac{\\sum_{k=1}^{n}V_{jk}}{n-1} $$"
   ]
  },
  {
   "cell_type": "code",
   "execution_count": 71,
   "metadata": {},
   "outputs": [],
   "source": [
    "import numpy as np\n",
    "import pandas as pd\n",
    "from time import time"
   ]
  },
  {
   "cell_type": "code",
   "execution_count": 5,
   "metadata": {},
   "outputs": [
    {
     "data": {
      "text/html": [
       "<div>\n",
       "<style scoped>\n",
       "    .dataframe tbody tr th:only-of-type {\n",
       "        vertical-align: middle;\n",
       "    }\n",
       "\n",
       "    .dataframe tbody tr th {\n",
       "        vertical-align: top;\n",
       "    }\n",
       "\n",
       "    .dataframe thead th {\n",
       "        text-align: right;\n",
       "    }\n",
       "</style>\n",
       "<table border=\"1\" class=\"dataframe\">\n",
       "  <thead>\n",
       "    <tr style=\"text-align: right;\">\n",
       "      <th></th>\n",
       "      <th>BB9</th>\n",
       "      <th>BB10</th>\n",
       "      <th>BB17</th>\n",
       "      <th>BB19</th>\n",
       "      <th>BB20</th>\n",
       "      <th>BB21</th>\n",
       "      <th>BB11</th>\n",
       "      <th>BB12</th>\n",
       "      <th>BB18</th>\n",
       "    </tr>\n",
       "    <tr>\n",
       "      <th>gene</th>\n",
       "      <th></th>\n",
       "      <th></th>\n",
       "      <th></th>\n",
       "      <th></th>\n",
       "      <th></th>\n",
       "      <th></th>\n",
       "      <th></th>\n",
       "      <th></th>\n",
       "      <th></th>\n",
       "    </tr>\n",
       "  </thead>\n",
       "  <tbody>\n",
       "    <tr>\n",
       "      <td>aaeA</td>\n",
       "      <td>5.542667</td>\n",
       "      <td>5.876225</td>\n",
       "      <td>5.189101</td>\n",
       "      <td>6.178741</td>\n",
       "      <td>6.258982</td>\n",
       "      <td>5.921482</td>\n",
       "      <td>6.565341</td>\n",
       "      <td>6.308676</td>\n",
       "      <td>6.256590</td>\n",
       "    </tr>\n",
       "    <tr>\n",
       "      <td>aaeB</td>\n",
       "      <td>5.627977</td>\n",
       "      <td>5.436188</td>\n",
       "      <td>5.397088</td>\n",
       "      <td>5.493631</td>\n",
       "      <td>5.603751</td>\n",
       "      <td>5.716862</td>\n",
       "      <td>5.840627</td>\n",
       "      <td>6.132819</td>\n",
       "      <td>5.896502</td>\n",
       "    </tr>\n",
       "    <tr>\n",
       "      <td>aaeR</td>\n",
       "      <td>5.645506</td>\n",
       "      <td>5.758852</td>\n",
       "      <td>5.107190</td>\n",
       "      <td>5.824890</td>\n",
       "      <td>5.487705</td>\n",
       "      <td>6.033795</td>\n",
       "      <td>5.710782</td>\n",
       "      <td>6.302440</td>\n",
       "      <td>16.270368</td>\n",
       "    </tr>\n",
       "    <tr>\n",
       "      <td>aaeX</td>\n",
       "      <td>6.081770</td>\n",
       "      <td>6.043589</td>\n",
       "      <td>6.030808</td>\n",
       "      <td>6.358792</td>\n",
       "      <td>15.682419</td>\n",
       "      <td>6.129392</td>\n",
       "      <td>6.042647</td>\n",
       "      <td>6.134309</td>\n",
       "      <td>15.797839</td>\n",
       "    </tr>\n",
       "    <tr>\n",
       "      <td>aas</td>\n",
       "      <td>6.224669</td>\n",
       "      <td>6.297153</td>\n",
       "      <td>6.297008</td>\n",
       "      <td>6.047021</td>\n",
       "      <td>6.038410</td>\n",
       "      <td>6.296795</td>\n",
       "      <td>6.295251</td>\n",
       "      <td>6.598525</td>\n",
       "      <td>6.568365</td>\n",
       "    </tr>\n",
       "  </tbody>\n",
       "</table>\n",
       "</div>"
      ],
      "text/plain": [
       "           BB9      BB10      BB17      BB19       BB20      BB21      BB11  \\\n",
       "gene                                                                          \n",
       "aaeA  5.542667  5.876225  5.189101  6.178741   6.258982  5.921482  6.565341   \n",
       "aaeB  5.627977  5.436188  5.397088  5.493631   5.603751  5.716862  5.840627   \n",
       "aaeR  5.645506  5.758852  5.107190  5.824890   5.487705  6.033795  5.710782   \n",
       "aaeX  6.081770  6.043589  6.030808  6.358792  15.682419  6.129392  6.042647   \n",
       "aas   6.224669  6.297153  6.297008  6.047021   6.038410  6.296795  6.295251   \n",
       "\n",
       "          BB12       BB18  \n",
       "gene                       \n",
       "aaeA  6.308676   6.256590  \n",
       "aaeB  6.132819   5.896502  \n",
       "aaeR  6.302440  16.270368  \n",
       "aaeX  6.134309  15.797839  \n",
       "aas   6.598525   6.568365  "
      ]
     },
     "execution_count": 5,
     "metadata": {},
     "output_type": "execute_result"
    }
   ],
   "source": [
    "data = pd.read_csv(\"./data/all_counts_9_norm_rpkm_log2_preprocessed.csv\", index_col=0)\n",
    "data.head()"
   ]
  },
  {
   "cell_type": "code",
   "execution_count": 72,
   "metadata": {},
   "outputs": [
    {
     "name": "stderr",
     "output_type": "stream",
     "text": [
      "/usr/local/lib/python3.6/dist-packages/ipykernel_launcher.py:4: RuntimeWarning: divide by zero encountered in log2\n",
      "  after removing the cwd from sys.path.\n"
     ]
    },
    {
     "name": "stdout",
     "output_type": "stream",
     "text": [
      "avg time:  22.801254987716675 [s]\n"
     ]
    }
   ],
   "source": [
    "t_i = time()\n",
    "m_measures = {}\n",
    "for idx in range(data.shape[0]):\n",
    "    all_pairs = np.std(np.log2((data.iloc[idx,:]/data).loc[data.index!=data.index[idx]]), axis=1)\n",
    "    m_measures[data.index[idx]] = np.mean(all_pairs)\n",
    "t_f = time()\n",
    "print(\"avg time: \", t_f-t_i, \"[s]\")"
   ]
  },
  {
   "cell_type": "code",
   "execution_count": 73,
   "metadata": {},
   "outputs": [],
   "source": [
    "m = np.array(list(dict(sorted(m_measures.items(), key=lambda x: x[1])).keys()))"
   ]
  },
  {
   "cell_type": "code",
   "execution_count": 74,
   "metadata": {},
   "outputs": [
    {
     "data": {
      "text/plain": [
       "(array([18]),)"
      ]
     },
     "execution_count": 74,
     "metadata": {},
     "output_type": "execute_result"
    }
   ],
   "source": [
    "np.where(m==\"ftsX\")"
   ]
  },
  {
   "cell_type": "code",
   "execution_count": null,
   "metadata": {},
   "outputs": [],
   "source": []
  }
 ],
 "metadata": {
  "kernelspec": {
   "display_name": "Python 3",
   "language": "python",
   "name": "python3"
  },
  "language_info": {
   "codemirror_mode": {
    "name": "ipython",
    "version": 3
   },
   "file_extension": ".py",
   "mimetype": "text/x-python",
   "name": "python",
   "nbconvert_exporter": "python",
   "pygments_lexer": "ipython3",
   "version": "3.6.9"
  }
 },
 "nbformat": 4,
 "nbformat_minor": 2
}
