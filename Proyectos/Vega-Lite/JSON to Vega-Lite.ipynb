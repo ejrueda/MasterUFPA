{
 "cells": [
  {
   "cell_type": "markdown",
   "metadata": {},
   "source": [
    "#### Ruta:\n",
    "- Se especifica la ruta en la cual están los archivos JSON a convetir"
   ]
  },
  {
   "cell_type": "code",
   "execution_count": 5,
   "metadata": {},
   "outputs": [],
   "source": [
    "import json\n",
    "import numpy as np"
   ]
  },
  {
   "cell_type": "code",
   "execution_count": 14,
   "metadata": {},
   "outputs": [],
   "source": [
    "with open('JsonsSend/bar10.png.json') as file:\n",
    "    data = json.load(file)"
   ]
  },
  {
   "cell_type": "code",
   "execution_count": 15,
   "metadata": {
    "scrolled": true
   },
   "outputs": [
    {
     "data": {
      "text/plain": [
       "{'Barras': {'0': [69, 29, 24, 200],\n",
       "  '1': [116, 163, 24, 66],\n",
       "  '2': [163, 229, 24, 0],\n",
       "  '3': [210, 229, 24, 0],\n",
       "  '4': [257, 163, 24, 66],\n",
       "  '5': [304, 229, 24, 0],\n",
       "  '6': [351, 163, 24, 66]},\n",
       " 'xAxis': {'0': 229,\n",
       "  '1': 229,\n",
       "  '2': 229,\n",
       "  '3': 229,\n",
       "  '4': 229,\n",
       "  '5': 229,\n",
       "  '6': 229},\n",
       " 'OCRStatus': {'0': 'total',\n",
       "  '1': 'total',\n",
       "  '2': 'total',\n",
       "  '3': 'total',\n",
       "  '4': 'total',\n",
       "  '5': 'total',\n",
       "  '6': 'total'},\n",
       " 'ponto': {'0': 'Found by OCR',\n",
       "  '1': 'Found by OCR',\n",
       "  '2': 'Found by OCR',\n",
       "  '3': 'Found by OCR',\n",
       "  '4': 'Found by OCR',\n",
       "  '5': 'Found by OCR',\n",
       "  '6': 'Found by OCR'},\n",
       " 'ValorBarras': {'0': 3.0769230769,\n",
       "  '1': 1.0153846154,\n",
       "  '2': 0.0,\n",
       "  '3': 0.0,\n",
       "  '4': 1.0153846154,\n",
       "  '5': 0.0,\n",
       "  '6': 1.0153846154}}"
      ]
     },
     "execution_count": 15,
     "metadata": {},
     "output_type": "execute_result"
    }
   ],
   "source": [
    "data"
   ]
  },
  {
   "cell_type": "code",
   "execution_count": 117,
   "metadata": {},
   "outputs": [],
   "source": [
    "import json\n",
    "import numpy as np\n",
    "dict_val = {}\n",
    "list_itm = []\n",
    "mark = \"bar\"\n",
    "for idx in range(len(data[\"ValorBarras\"])):\n",
    "    #para el valor de las barras\n",
    "    list_itm.append({\"a\":idx,\"b\":data[\"ValorBarras\"][str(idx)]})\n",
    "#se agregan los datos a graficar\n",
    "dict_val[\"data\"] = {\"values\": list_itm}\n",
    "dict_val[\"mark\"] = mark\n",
    "dict_val[\"encoding\"] = {\"x\": {\"field\": \"a\", \"type\": \"nominal\"},\n",
    "                        \"y\": {\"aggregate\": \"average\", \"field\": \"b\", \"type\": \"quantitative\"}}\n",
    "jsonarray = json.dumps(dict_val)"
   ]
  },
  {
   "cell_type": "code",
   "execution_count": 118,
   "metadata": {},
   "outputs": [
    {
     "data": {
      "text/plain": [
       "{'data': {'values': [{'a': 0, 'b': 3.0769230769},\n",
       "   {'a': 1, 'b': 1.0153846154},\n",
       "   {'a': 2, 'b': 0.0},\n",
       "   {'a': 3, 'b': 0.0},\n",
       "   {'a': 4, 'b': 1.0153846154},\n",
       "   {'a': 5, 'b': 0.0},\n",
       "   {'a': 6, 'b': 1.0153846154}]},\n",
       " 'mark': 'bar',\n",
       " 'encoding': {'x': {'field': 'a', 'type': 'nominal'},\n",
       "  'y': {'aggregate': 'average', 'field': 'b', 'type': 'quantitative'}}}"
      ]
     },
     "execution_count": 118,
     "metadata": {},
     "output_type": "execute_result"
    }
   ],
   "source": [
    "dict_val"
   ]
  },
  {
   "cell_type": "markdown",
   "metadata": {},
   "source": [
    "### Json to Json/Vega Lite\n",
    "- Se crea la función para convertir el formato JSON en un formato JSON que se pueda visualizar en Vega-Lite."
   ]
  },
  {
   "cell_type": "code",
   "execution_count": 19,
   "metadata": {},
   "outputs": [],
   "source": [
    "def convert_jsonVlite(r_path, s_path, mark=\"bar\"):\n",
    "    \"\"\"\n",
    "    Función para convertir Json en JsonVegLite\n",
    "    r_path: directorio donde están los Json\n",
    "    s_path: directorio donde se guardarán los nuevo archivos\n",
    "    mark: tipo de gráfico\n",
    "    \"\"\"\n",
    "    import json\n",
    "    import numpy as np\n",
    "    from glob import glob\n",
    "    count = 1\n",
    "    for j_name in glob(r_path + \".json\"):\n",
    "        n_files = len(glob(r_path))\n",
    "        with open(j_name) as file:\n",
    "            data = json.load(file)\n",
    "        print (\"[Procesando \" + str(count) + \" de \" + str(n_files) + \", nombre \" + j_name + \"]\")\n",
    "        dict_val = {}\n",
    "        list_itm = []\n",
    "        for idx in range(len(data[\"ValorBarras\"])):\n",
    "            #para el valor de las barras\n",
    "            list_itm.append({\"a\":idx,\"b\":data[\"ValorBarras\"][str(idx)]})\n",
    "        #se agregan los datos a graficar\n",
    "        dict_val[\"data\"] = {\"values\": list_itm}\n",
    "        dict_val[\"mark\"] = mark\n",
    "        dict_val[\"encoding\"] = {\"x\": {\"field\": \"a\", \"type\": \"nominal\"},\n",
    "                                \"y\": {\"field\": \"b\", \"type\": \"quantitative\"}}\n",
    "        #jsonarray = json.dumps(dict_val)\n",
    "        count += 1\n",
    "        #filePathNameWExt = './' + s_path + '/' + j_name\n",
    "        with open(s_path + \"/VL\" + j_name.split(\"/\")[-1], 'w') as fp:\n",
    "            json.dump(dict_val, fp)"
   ]
  },
  {
   "cell_type": "code",
   "execution_count": null,
   "metadata": {
    "scrolled": true
   },
   "outputs": [],
   "source": [
    "convert_jsonVlite(\"/home/ejrueda/Documentos/JsonPorProcesar/2000jsons/*\",\n",
    "                  \"/home/ejrueda/Documentos/JsonPorProcesar/2000jsons/Resultados\",mark=\"bar\")"
   ]
  },
  {
   "cell_type": "markdown",
   "metadata": {},
   "source": [
    "### Versión 2\n",
    "- Para poder tener en cuenta los parámetros de entrada como los labels de los ejes y el título del grafico"
   ]
  },
  {
   "cell_type": "code",
   "execution_count": 6,
   "metadata": {},
   "outputs": [],
   "source": [
    "with open(\"./data/TitleJsonsImages/bar18.png.json\") as file:\n",
    "    data = json.load(file)"
   ]
  },
  {
   "cell_type": "code",
   "execution_count": 7,
   "metadata": {},
   "outputs": [
    {
     "data": {
      "text/plain": [
       "{'Barras': {'0': [55, 114, 121, 97],\n",
       "  '1': [185, 141, 121, 70],\n",
       "  '2': [315, 28, 121, 183]},\n",
       " 'xAxis': {'0': 211, '1': 211, '2': 211},\n",
       " 'OCRStatus': {'0': 'total', '1': 'total', '2': 'total'},\n",
       " 'ponto': {'0': 'Found by OCR', '1': 'Found by OCR', '2': 'Found by OCR'},\n",
       " 'ValorBarras': {'0': 1.701754386, '1': 1.2280701754, '2': 3.2105263158},\n",
       " 'Title': {'0': 'Fedudif Xazed', '1': 'Fedudif Xazed', '2': 'Fedudif Xazed'},\n",
       " 'LabelX': {'0': 'Qegevukata', '1': 'Qegevukata', '2': 'Qegevukata'},\n",
       " 'LabelY': {'0': 'Reley', '1': 'Reley', '2': 'Reley'}}"
      ]
     },
     "execution_count": 7,
     "metadata": {},
     "output_type": "execute_result"
    }
   ],
   "source": [
    "data"
   ]
  },
  {
   "cell_type": "code",
   "execution_count": 13,
   "metadata": {},
   "outputs": [
    {
     "name": "stdout",
     "output_type": "stream",
     "text": [
      "Fedudif Xazed\n",
      "Qegevukata\n",
      "Reley\n"
     ]
    }
   ],
   "source": [
    "print(data[\"Title\"][\"0\"])\n",
    "print(data[\"LabelX\"][\"0\"])\n",
    "print(data[\"LabelY\"][\"0\"])"
   ]
  },
  {
   "cell_type": "code",
   "execution_count": 17,
   "metadata": {},
   "outputs": [],
   "source": [
    "def convert_jsonVlite(r_path, s_path, mark=\"bar\"):\n",
    "    \"\"\"\n",
    "    Función para convertir Json en JsonVegLite\n",
    "    r_path: directorio donde están los Json\n",
    "    s_path: directorio donde se guardarán los nuevo archivos\n",
    "    mark: tipo de gráfico\n",
    "    \"\"\"\n",
    "    import json\n",
    "    import numpy as np\n",
    "    from glob import glob\n",
    "    count = 1\n",
    "    for j_name in glob(r_path + \".json\"):\n",
    "        n_files = len(glob(r_path))\n",
    "        with open(j_name) as file:\n",
    "            data = json.load(file)\n",
    "        print (\"[Procesando \" + str(count) + \" de \" + str(n_files) + \", nombre \" + j_name + \"]\")\n",
    "        dict_val = {}\n",
    "        list_itm = []\n",
    "        for idx in range(len(data[\"ValorBarras\"])):\n",
    "            #para el valor de las barras\n",
    "            list_itm.append({data[\"LabelX\"][\"0\"]:idx,data[\"LabelY\"][\"0\"]:data[\"ValorBarras\"][str(idx)]})\n",
    "        #se agregan los datos a graficar\n",
    "        dict_val[\"data\"] = {\"values\": list_itm}\n",
    "        dict_val[\"mark\"] = mark\n",
    "        dict_val[\"encoding\"] = {\"x\": {\"field\": data[\"LabelX\"][\"0\"], \"type\": \"nominal\"},\n",
    "                                \"y\": {\"field\": data[\"LabelY\"][\"0\"], \"type\": \"quantitative\"}}\n",
    "        dict_val[\"title\"] = data[\"Title\"][\"0\"]\n",
    "        #jsonarray = json.dumps(dict_val)\n",
    "        count += 1\n",
    "        #filePathNameWExt = './' + s_path + '/' + j_name\n",
    "        with open(s_path + \"/VL\" + j_name.split(\"/\")[-1], 'w') as fp:\n",
    "            json.dump(dict_val, fp)"
   ]
  },
  {
   "cell_type": "code",
   "execution_count": 18,
   "metadata": {},
   "outputs": [
    {
     "name": "stdout",
     "output_type": "stream",
     "text": [
      "[Procesando 1 de 41, nombre /home/ejrueda/Documentos/Maestria UFPA/Proyectos/Vega-Lite/data/TitleJsonsImages/bar453.png.json]\n",
      "[Procesando 2 de 41, nombre /home/ejrueda/Documentos/Maestria UFPA/Proyectos/Vega-Lite/data/TitleJsonsImages/bar1040.png.json]\n",
      "[Procesando 3 de 41, nombre /home/ejrueda/Documentos/Maestria UFPA/Proyectos/Vega-Lite/data/TitleJsonsImages/bar508.png.json]\n",
      "[Procesando 4 de 41, nombre /home/ejrueda/Documentos/Maestria UFPA/Proyectos/Vega-Lite/data/TitleJsonsImages/bar621.png.json]\n",
      "[Procesando 5 de 41, nombre /home/ejrueda/Documentos/Maestria UFPA/Proyectos/Vega-Lite/data/TitleJsonsImages/bar1582.png.json]\n",
      "[Procesando 6 de 41, nombre /home/ejrueda/Documentos/Maestria UFPA/Proyectos/Vega-Lite/data/TitleJsonsImages/bar733.png.json]\n",
      "[Procesando 7 de 41, nombre /home/ejrueda/Documentos/Maestria UFPA/Proyectos/Vega-Lite/data/TitleJsonsImages/bar1177.png.json]\n",
      "[Procesando 8 de 41, nombre /home/ejrueda/Documentos/Maestria UFPA/Proyectos/Vega-Lite/data/TitleJsonsImages/bar416.png.json]\n",
      "[Procesando 9 de 41, nombre /home/ejrueda/Documentos/Maestria UFPA/Proyectos/Vega-Lite/data/TitleJsonsImages/bar1878.png.json]\n",
      "[Procesando 10 de 41, nombre /home/ejrueda/Documentos/Maestria UFPA/Proyectos/Vega-Lite/data/TitleJsonsImages/bar1743.png.json]\n",
      "[Procesando 11 de 41, nombre /home/ejrueda/Documentos/Maestria UFPA/Proyectos/Vega-Lite/data/TitleJsonsImages/bar856.png.json]\n",
      "[Procesando 12 de 41, nombre /home/ejrueda/Documentos/Maestria UFPA/Proyectos/Vega-Lite/data/TitleJsonsImages/bar1209.png.json]\n",
      "[Procesando 13 de 41, nombre /home/ejrueda/Documentos/Maestria UFPA/Proyectos/Vega-Lite/data/TitleJsonsImages/bar1332.png.json]\n",
      "[Procesando 14 de 41, nombre /home/ejrueda/Documentos/Maestria UFPA/Proyectos/Vega-Lite/data/TitleJsonsImages/bar1915.png.json]\n",
      "[Procesando 15 de 41, nombre /home/ejrueda/Documentos/Maestria UFPA/Proyectos/Vega-Lite/data/TitleJsonsImages/bar1823.png.json]\n",
      "[Procesando 16 de 41, nombre /home/ejrueda/Documentos/Maestria UFPA/Proyectos/Vega-Lite/data/TitleJsonsImages/bar1085.png.json]\n",
      "[Procesando 17 de 41, nombre /home/ejrueda/Documentos/Maestria UFPA/Proyectos/Vega-Lite/data/TitleJsonsImages/bar534.png.json]\n",
      "[Procesando 18 de 41, nombre /home/ejrueda/Documentos/Maestria UFPA/Proyectos/Vega-Lite/data/TitleJsonsImages/bar164.png.json]\n",
      "[Procesando 19 de 41, nombre /home/ejrueda/Documentos/Maestria UFPA/Proyectos/Vega-Lite/data/TitleJsonsImages/bar224.png.json]\n",
      "[Procesando 20 de 41, nombre /home/ejrueda/Documentos/Maestria UFPA/Proyectos/Vega-Lite/data/TitleJsonsImages/bar18.png.json]\n"
     ]
    }
   ],
   "source": [
    "convert_jsonVlite(\"/home/ejrueda/Documentos/Maestria UFPA/Proyectos/Vega-Lite/data/TitleJsonsImages/*\",\n",
    "                  \"/home/ejrueda/Documentos/Maestria UFPA/Proyectos/Vega-Lite/data/TitleJsonsImages/Resultados\",\n",
    "                  mark=\"bar\")"
   ]
  },
  {
   "cell_type": "markdown",
   "metadata": {},
   "source": [
    "### Generar el texto a partir del Json en formato Vega-Lite"
   ]
  },
  {
   "cell_type": "markdown",
   "metadata": {},
   "source": [
    "#### Template sumarizado\n",
    "\n",
    "- Este é um gráfico de barras verticais intitulado {obj.title} (if available), a legenda do eixo y {obj.y.field} (if available) com {amount of bar} barras de do eixo x com a legenda {obj.x.field} (if available). Os valores das barras variam entre {min value bar} a {max value bar}. A média dos valores é {bar mean} e o desvio padrão é {bar standard deviation}.\n",
    "\n",
    "\n",
    "#### Template completo\n",
    "\n",
    "- Este é um gráfico de barras verticais intitulado {obj.title} (if available), a legenda do eixo y é {obj.y.field} (if available) com {amount of bar} barras do eixo x com a legenda {obj.x.field} (if available). Os valores das barras variam entre {min value bar} a {max value bar}. A barra {bar n+1} tem valor {bar value} (from 1 to total). A média dos valores é {bar mean} e o desvio padrão é {bar standard deviation}."
   ]
  },
  {
   "cell_type": "code",
   "execution_count": 76,
   "metadata": {},
   "outputs": [],
   "source": [
    "with open(\"/home/ejrueda/Documentos/Maestria UFPA/Proyectos/Vega-Lite/data/TitleJsonsImages/GenerarTexto/bar1823.png.json\") as file:\n",
    "    data = json.load(file)"
   ]
  },
  {
   "cell_type": "code",
   "execution_count": 90,
   "metadata": {},
   "outputs": [
    {
     "data": {
      "text/plain": [
       "{'Barras': {'0': [16, 183, 18, 46],\n",
       "  '1': [36, 216, 18, 13],\n",
       "  '2': [56, 121, 18, 108],\n",
       "  '3': [76, 229, 18, 0],\n",
       "  '4': [96, 178, 18, 51],\n",
       "  '5': [116, 32, 18, 197],\n",
       "  '6': [136, 172, 18, 57],\n",
       "  '7': [156, 205, 18, 24],\n",
       "  '8': [176, 112, 18, 117],\n",
       "  '9': [196, 196, 18, 33],\n",
       "  '10': [216, 101, 18, 128],\n",
       "  '11': [236, 41, 18, 188],\n",
       "  '12': [256, 167, 18, 62],\n",
       "  '13': [276, 116, 18, 113],\n",
       "  '14': [296, 145, 18, 84],\n",
       "  '15': [316, 103, 18, 126],\n",
       "  '16': [336, 43, 18, 186],\n",
       "  '17': [356, 138, 18, 91],\n",
       "  '18': [376, 36, 18, 193]},\n",
       " 'xAxis': {'0': 229,\n",
       "  '1': 229,\n",
       "  '2': 229,\n",
       "  '3': 229,\n",
       "  '4': 229,\n",
       "  '5': 229,\n",
       "  '6': 229,\n",
       "  '7': 229,\n",
       "  '8': 229,\n",
       "  '9': 229,\n",
       "  '10': 229,\n",
       "  '11': 229,\n",
       "  '12': 229,\n",
       "  '13': 229,\n",
       "  '14': 229,\n",
       "  '15': 229,\n",
       "  '16': 229,\n",
       "  '17': 229,\n",
       "  '18': 229},\n",
       " 'OCRStatus': {'0': 'total',\n",
       "  '1': 'total',\n",
       "  '2': 'total',\n",
       "  '3': 'total',\n",
       "  '4': 'total',\n",
       "  '5': 'total',\n",
       "  '6': 'total',\n",
       "  '7': 'total',\n",
       "  '8': 'total',\n",
       "  '9': 'total',\n",
       "  '10': 'total',\n",
       "  '11': 'total',\n",
       "  '12': 'total',\n",
       "  '13': 'total',\n",
       "  '14': 'total',\n",
       "  '15': 'total',\n",
       "  '16': 'total',\n",
       "  '17': 'total',\n",
       "  '18': 'total'},\n",
       " 'ponto': {'0': 'Found by Function',\n",
       "  '1': 'Found by Function',\n",
       "  '2': 'Found by Function',\n",
       "  '3': 'Found by Function',\n",
       "  '4': 'Found by Function',\n",
       "  '5': 'Found by Function',\n",
       "  '6': 'Found by Function',\n",
       "  '7': 'Found by Function',\n",
       "  '8': 'Found by Function',\n",
       "  '9': 'Found by Function',\n",
       "  '10': 'Found by Function',\n",
       "  '11': 'Found by Function',\n",
       "  '12': 'Found by Function',\n",
       "  '13': 'Found by Function',\n",
       "  '14': 'Found by Function',\n",
       "  '15': 'Found by Function',\n",
       "  '16': 'Found by Function',\n",
       "  '17': 'Found by Function',\n",
       "  '18': 'Found by Function'},\n",
       " 'ValorBarras': {'0': 0.2090909091,\n",
       "  '1': 0.0590909091,\n",
       "  '2': 0.4909090909,\n",
       "  '3': 0.0,\n",
       "  '4': 0.2318181818,\n",
       "  '5': 0.8954545455,\n",
       "  '6': 0.2590909091,\n",
       "  '7': 0.1090909091,\n",
       "  '8': 0.5318181818,\n",
       "  '9': 0.15,\n",
       "  '10': 0.5818181818,\n",
       "  '11': 0.8545454545,\n",
       "  '12': 0.2818181818,\n",
       "  '13': 0.5136363636,\n",
       "  '14': 0.3818181818,\n",
       "  '15': 0.5727272727,\n",
       "  '16': 0.8454545455,\n",
       "  '17': 0.4136363636,\n",
       "  '18': 0.8772727273},\n",
       " 'Title': {'0': ' Linifefo Vonak',\n",
       "  '1': ' Linifefo Vonak',\n",
       "  '2': ' Linifefo Vonak',\n",
       "  '3': ' Linifefo Vonak',\n",
       "  '4': ' Linifefo Vonak',\n",
       "  '5': ' Linifefo Vonak',\n",
       "  '6': ' Linifefo Vonak',\n",
       "  '7': ' Linifefo Vonak',\n",
       "  '8': ' Linifefo Vonak',\n",
       "  '9': ' Linifefo Vonak',\n",
       "  '10': ' Linifefo Vonak',\n",
       "  '11': ' Linifefo Vonak',\n",
       "  '12': ' Linifefo Vonak',\n",
       "  '13': ' Linifefo Vonak',\n",
       "  '14': ' Linifefo Vonak',\n",
       "  '15': ' Linifefo Vonak',\n",
       "  '16': ' Linifefo Vonak',\n",
       "  '17': ' Linifefo Vonak',\n",
       "  '18': ' Linifefo Vonak'},\n",
       " 'LabelX': {'0': 'Tozaxeri',\n",
       "  '1': 'Tozaxeri',\n",
       "  '2': 'Tozaxeri',\n",
       "  '3': 'Tozaxeri',\n",
       "  '4': 'Tozaxeri',\n",
       "  '5': 'Tozaxeri',\n",
       "  '6': 'Tozaxeri',\n",
       "  '7': 'Tozaxeri',\n",
       "  '8': 'Tozaxeri',\n",
       "  '9': 'Tozaxeri',\n",
       "  '10': 'Tozaxeri',\n",
       "  '11': 'Tozaxeri',\n",
       "  '12': 'Tozaxeri',\n",
       "  '13': 'Tozaxeri',\n",
       "  '14': 'Tozaxeri',\n",
       "  '15': 'Tozaxeri',\n",
       "  '16': 'Tozaxeri',\n",
       "  '17': 'Tozaxeri',\n",
       "  '18': 'Tozaxeri'},\n",
       " 'LabelY': {'0': 'Yorave',\n",
       "  '1': 'Yorave',\n",
       "  '2': 'Yorave',\n",
       "  '3': 'Yorave',\n",
       "  '4': 'Yorave',\n",
       "  '5': 'Yorave',\n",
       "  '6': 'Yorave',\n",
       "  '7': 'Yorave',\n",
       "  '8': 'Yorave',\n",
       "  '9': 'Yorave',\n",
       "  '10': 'Yorave',\n",
       "  '11': 'Yorave',\n",
       "  '12': 'Yorave',\n",
       "  '13': 'Yorave',\n",
       "  '14': 'Yorave',\n",
       "  '15': 'Yorave',\n",
       "  '16': 'Yorave',\n",
       "  '17': 'Yorave',\n",
       "  '18': 'Yorave'}}"
      ]
     },
     "execution_count": 90,
     "metadata": {},
     "output_type": "execute_result"
    }
   ],
   "source": [
    "data"
   ]
  },
  {
   "cell_type": "code",
   "execution_count": 87,
   "metadata": {},
   "outputs": [
    {
     "data": {
      "text/plain": [
       "'Yorave'"
      ]
     },
     "execution_count": 87,
     "metadata": {},
     "output_type": "execute_result"
    }
   ],
   "source": [
    "list(data[\"LabelY\"].values())[0]"
   ]
  },
  {
   "cell_type": "code",
   "execution_count": 102,
   "metadata": {},
   "outputs": [
    {
     "data": {
      "text/plain": [
       "0.2090909091"
      ]
     },
     "execution_count": 102,
     "metadata": {},
     "output_type": "execute_result"
    }
   ],
   "source": [
    "list(data[\"ValorBarras\"].values())[0]"
   ]
  },
  {
   "cell_type": "code",
   "execution_count": 6,
   "metadata": {},
   "outputs": [],
   "source": [
    "def get_text(r_path, s_path):\n",
    "    \"\"\"\n",
    "    r_path: ruta donde están los Json con la estructura de Vega-Lite.\n",
    "    s_path: ruta donde se guardán los textos\n",
    "    \"\"\"\n",
    "    import json\n",
    "    import numpy as np\n",
    "    from glob import glob\n",
    "    count = 1\n",
    "    for j_name in glob(r_path + \".json\"):\n",
    "        #print (j_name)\n",
    "        temp_sum = \"\" #Template sumarizado\n",
    "        temp_com = \"\" #Template completo\n",
    "        n_files = len(glob(r_path))\n",
    "        with open(j_name) as file:\n",
    "            data = json.load(file)\n",
    "        print (\"[Procesando \" + str(count) + \" de \" + str(n_files) + \", nombre \" + j_name + \"]\")\n",
    "        #para el template sumarizado\n",
    "        temp_sum += \"Este é um gráfico de barras verticais\"\n",
    "        temp_com += \"Este é um gráfico de barras verticais\"\n",
    "        if \"title\" in data and data[\"title\"] != \"NaN\":\n",
    "            temp_sum += \" intitulado \" + str(data[\"title\"])\n",
    "            temp_com += \" intitulado \" + str(data[\"title\"])\n",
    "        if \"LabelY\" in data and data[\"LabelY\"] != \"NaN\":\n",
    "            temp_sum += \" a legenda do eixo y \" + list(data[\"LabelY\"].values())[0]\n",
    "            temp_com += \" a legenda do eixo y \" + list(data[\"LabelY\"].values())[0]\n",
    "        temp_sum += \" com \" + str(len(data[\"ValorBarras\"])) + \" barras\"\n",
    "        temp_com += \" com \" + str(len(data[\"ValorBarras\"])) + \" barras\"\n",
    "        if \"LabelX\" in data and data[\"LabelX\"] != \"NaN\":\n",
    "            temp_sum += \" de do eixo x com a legenda \" + list(data[\"LabelX\"].values())[0] + \".\"\n",
    "            temp_com += \" de do eixo x com a legenda \" + list(data[\"LabelX\"].values())[0] + \".\"\n",
    "        #para describir cada barra\n",
    "        for idx in range(len(data[\"ValorBarras\"])):\n",
    "            temp_com += \" A barra \" + str(idx+1) + \" tem valor \" + str(round(list(data[\"ValorBarras\"].values())[idx], 4)) + \",\"\n",
    "        temp_sum += \" Os valores das barras variam entre \" + str(round(min(data[\"ValorBarras\"].values()), 4))\n",
    "        temp_sum += \" a \" + str(round(max(data[\"ValorBarras\"].values()),4)) + \".\"\n",
    "        temp_sum += \" A média dos valores é \" + str(round(np.mean(list(data[\"ValorBarras\"].values())), 4))\n",
    "        temp_sum += \" e o desvio padrão é \" + str(round(np.std(list(data[\"ValorBarras\"].values())), 4)) + \".\"\n",
    "        temp_com += \" Os valores das barras variam entre \" + str(round(min(data[\"ValorBarras\"].values()), 4))\n",
    "        temp_com += \" a \" + str(round(max(data[\"ValorBarras\"].values()),4)) + \".\"\n",
    "        temp_com += \" A média dos valores é \" + str(round(np.mean(list(data[\"ValorBarras\"].values())), 4))\n",
    "        temp_com += \" e o desvio padrão é \" + str(round(np.std(list(data[\"ValorBarras\"].values())), 4)) + \".\"\n",
    "        arch_sum = open(s_path + \"/TxtSum\" + j_name.split(\"/\")[-1] + \".txt\", \"w\")\n",
    "        arch_sum.write(temp_sum)\n",
    "        arch_sum.close() \n",
    "        arch_com = open(s_path + \"/TxtCom\" + j_name.split(\"/\")[-1] + \".txt\", \"w\")\n",
    "        arch_com.write(temp_com)\n",
    "        arch_com.close()"
   ]
  },
  {
   "cell_type": "code",
   "execution_count": 7,
   "metadata": {},
   "outputs": [
    {
     "name": "stdout",
     "output_type": "stream",
     "text": [
      "[Procesando 1 de 41, nombre /home/ejrueda/Documentos/Maestria UFPA/Proyectos/Vega-Lite/data/TitleJsonsImages/GenerarTexto/bar453.png.json]\n",
      "[Procesando 1 de 41, nombre /home/ejrueda/Documentos/Maestria UFPA/Proyectos/Vega-Lite/data/TitleJsonsImages/GenerarTexto/bar1040.png.json]\n",
      "[Procesando 1 de 41, nombre /home/ejrueda/Documentos/Maestria UFPA/Proyectos/Vega-Lite/data/TitleJsonsImages/GenerarTexto/bar508.png.json]\n",
      "[Procesando 1 de 41, nombre /home/ejrueda/Documentos/Maestria UFPA/Proyectos/Vega-Lite/data/TitleJsonsImages/GenerarTexto/bar621.png.json]\n",
      "[Procesando 1 de 41, nombre /home/ejrueda/Documentos/Maestria UFPA/Proyectos/Vega-Lite/data/TitleJsonsImages/GenerarTexto/bar1582.png.json]\n",
      "[Procesando 1 de 41, nombre /home/ejrueda/Documentos/Maestria UFPA/Proyectos/Vega-Lite/data/TitleJsonsImages/GenerarTexto/bar733.png.json]\n",
      "[Procesando 1 de 41, nombre /home/ejrueda/Documentos/Maestria UFPA/Proyectos/Vega-Lite/data/TitleJsonsImages/GenerarTexto/bar1177.png.json]\n",
      "[Procesando 1 de 41, nombre /home/ejrueda/Documentos/Maestria UFPA/Proyectos/Vega-Lite/data/TitleJsonsImages/GenerarTexto/bar416.png.json]\n",
      "[Procesando 1 de 41, nombre /home/ejrueda/Documentos/Maestria UFPA/Proyectos/Vega-Lite/data/TitleJsonsImages/GenerarTexto/bar1878.png.json]\n",
      "[Procesando 1 de 41, nombre /home/ejrueda/Documentos/Maestria UFPA/Proyectos/Vega-Lite/data/TitleJsonsImages/GenerarTexto/bar1743.png.json]\n",
      "[Procesando 1 de 41, nombre /home/ejrueda/Documentos/Maestria UFPA/Proyectos/Vega-Lite/data/TitleJsonsImages/GenerarTexto/bar856.png.json]\n",
      "[Procesando 1 de 41, nombre /home/ejrueda/Documentos/Maestria UFPA/Proyectos/Vega-Lite/data/TitleJsonsImages/GenerarTexto/bar1209.png.json]\n",
      "[Procesando 1 de 41, nombre /home/ejrueda/Documentos/Maestria UFPA/Proyectos/Vega-Lite/data/TitleJsonsImages/GenerarTexto/bar1332.png.json]\n",
      "[Procesando 1 de 41, nombre /home/ejrueda/Documentos/Maestria UFPA/Proyectos/Vega-Lite/data/TitleJsonsImages/GenerarTexto/bar1915.png.json]\n",
      "[Procesando 1 de 41, nombre /home/ejrueda/Documentos/Maestria UFPA/Proyectos/Vega-Lite/data/TitleJsonsImages/GenerarTexto/bar1823.png.json]\n",
      "[Procesando 1 de 41, nombre /home/ejrueda/Documentos/Maestria UFPA/Proyectos/Vega-Lite/data/TitleJsonsImages/GenerarTexto/bar1085.png.json]\n",
      "[Procesando 1 de 41, nombre /home/ejrueda/Documentos/Maestria UFPA/Proyectos/Vega-Lite/data/TitleJsonsImages/GenerarTexto/bar534.png.json]\n",
      "[Procesando 1 de 41, nombre /home/ejrueda/Documentos/Maestria UFPA/Proyectos/Vega-Lite/data/TitleJsonsImages/GenerarTexto/bar164.png.json]\n",
      "[Procesando 1 de 41, nombre /home/ejrueda/Documentos/Maestria UFPA/Proyectos/Vega-Lite/data/TitleJsonsImages/GenerarTexto/bar224.png.json]\n",
      "[Procesando 1 de 41, nombre /home/ejrueda/Documentos/Maestria UFPA/Proyectos/Vega-Lite/data/TitleJsonsImages/GenerarTexto/bar18.png.json]\n"
     ]
    }
   ],
   "source": [
    "get_text(\"/home/ejrueda/Documentos/Maestria UFPA/Proyectos/Vega-Lite/data/TitleJsonsImages/GenerarTexto/*\",\n",
    "        \"/home/ejrueda/Documentos/Maestria UFPA/Proyectos/Vega-Lite/data/TitleJsonsImages/GenerarTexto/Resultados\")"
   ]
  },
  {
   "cell_type": "code",
   "execution_count": null,
   "metadata": {},
   "outputs": [],
   "source": []
  }
 ],
 "metadata": {
  "kernelspec": {
   "display_name": "Python 3",
   "language": "python",
   "name": "python3"
  },
  "language_info": {
   "codemirror_mode": {
    "name": "ipython",
    "version": 3
   },
   "file_extension": ".py",
   "mimetype": "text/x-python",
   "name": "python",
   "nbconvert_exporter": "python",
   "pygments_lexer": "ipython3",
   "version": "3.6.5"
  }
 },
 "nbformat": 4,
 "nbformat_minor": 2
}
