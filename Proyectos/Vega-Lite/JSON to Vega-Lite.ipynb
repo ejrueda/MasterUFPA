{
 "cells": [
  {
   "cell_type": "markdown",
   "metadata": {},
   "source": [
    "#### Ruta:\n",
    "- Se especifica la ruta en la cual están los archivos JSON a convetir"
   ]
  },
  {
   "cell_type": "code",
   "execution_count": 4,
   "metadata": {},
   "outputs": [],
   "source": [
    "import json\n",
    "import numpy as np"
   ]
  },
  {
   "cell_type": "code",
   "execution_count": 14,
   "metadata": {},
   "outputs": [],
   "source": [
    "with open('JsonsSend/bar10.png.json') as file:\n",
    "    data = json.load(file)"
   ]
  },
  {
   "cell_type": "code",
   "execution_count": 15,
   "metadata": {
    "scrolled": false
   },
   "outputs": [
    {
     "data": {
      "text/plain": [
       "{'Barras': {'0': [69, 29, 24, 200],\n",
       "  '1': [116, 163, 24, 66],\n",
       "  '2': [163, 229, 24, 0],\n",
       "  '3': [210, 229, 24, 0],\n",
       "  '4': [257, 163, 24, 66],\n",
       "  '5': [304, 229, 24, 0],\n",
       "  '6': [351, 163, 24, 66]},\n",
       " 'xAxis': {'0': 229,\n",
       "  '1': 229,\n",
       "  '2': 229,\n",
       "  '3': 229,\n",
       "  '4': 229,\n",
       "  '5': 229,\n",
       "  '6': 229},\n",
       " 'OCRStatus': {'0': 'total',\n",
       "  '1': 'total',\n",
       "  '2': 'total',\n",
       "  '3': 'total',\n",
       "  '4': 'total',\n",
       "  '5': 'total',\n",
       "  '6': 'total'},\n",
       " 'ponto': {'0': 'Found by OCR',\n",
       "  '1': 'Found by OCR',\n",
       "  '2': 'Found by OCR',\n",
       "  '3': 'Found by OCR',\n",
       "  '4': 'Found by OCR',\n",
       "  '5': 'Found by OCR',\n",
       "  '6': 'Found by OCR'},\n",
       " 'ValorBarras': {'0': 3.0769230769,\n",
       "  '1': 1.0153846154,\n",
       "  '2': 0.0,\n",
       "  '3': 0.0,\n",
       "  '4': 1.0153846154,\n",
       "  '5': 0.0,\n",
       "  '6': 1.0153846154}}"
      ]
     },
     "execution_count": 15,
     "metadata": {},
     "output_type": "execute_result"
    }
   ],
   "source": [
    "data"
   ]
  },
  {
   "cell_type": "code",
   "execution_count": 117,
   "metadata": {},
   "outputs": [],
   "source": [
    "import json\n",
    "import numpy as np\n",
    "dict_val = {}\n",
    "list_itm = []\n",
    "mark = \"bar\"\n",
    "for idx in range(len(data[\"ValorBarras\"])):\n",
    "    #para el valor de las barras\n",
    "    list_itm.append({\"a\":idx,\"b\":data[\"ValorBarras\"][str(idx)]})\n",
    "#se agregan los datos a graficar\n",
    "dict_val[\"data\"] = {\"values\": list_itm}\n",
    "dict_val[\"mark\"] = mark\n",
    "dict_val[\"encoding\"] = {\"x\": {\"field\": \"a\", \"type\": \"nominal\"},\n",
    "                        \"y\": {\"aggregate\": \"average\", \"field\": \"b\", \"type\": \"quantitative\"}}\n",
    "jsonarray = json.dumps(dict_val)"
   ]
  },
  {
   "cell_type": "code",
   "execution_count": 118,
   "metadata": {},
   "outputs": [
    {
     "data": {
      "text/plain": [
       "{'data': {'values': [{'a': 0, 'b': 3.0769230769},\n",
       "   {'a': 1, 'b': 1.0153846154},\n",
       "   {'a': 2, 'b': 0.0},\n",
       "   {'a': 3, 'b': 0.0},\n",
       "   {'a': 4, 'b': 1.0153846154},\n",
       "   {'a': 5, 'b': 0.0},\n",
       "   {'a': 6, 'b': 1.0153846154}]},\n",
       " 'mark': 'bar',\n",
       " 'encoding': {'x': {'field': 'a', 'type': 'nominal'},\n",
       "  'y': {'aggregate': 'average', 'field': 'b', 'type': 'quantitative'}}}"
      ]
     },
     "execution_count": 118,
     "metadata": {},
     "output_type": "execute_result"
    }
   ],
   "source": [
    "dict_val"
   ]
  },
  {
   "cell_type": "markdown",
   "metadata": {},
   "source": [
    "### Json to Json/Vega Lite\n",
    "- Se crea la función para convertir el formato JSON en un formato JSON que se pueda visualizar en Vega-Lite."
   ]
  },
  {
   "cell_type": "code",
   "execution_count": 19,
   "metadata": {},
   "outputs": [],
   "source": [
    "def convert_jsonVlite(r_path, s_path, mark=\"bar\"):\n",
    "    \"\"\"\n",
    "    Función para convertir Json en JsonVegLite\n",
    "    r_path: directorio donde están los Json\n",
    "    s_path: directorio donde se guardarán los nuevo archivos\n",
    "    mark: tipo de gráfico\n",
    "    \"\"\"\n",
    "    import json\n",
    "    import numpy as np\n",
    "    from glob import glob\n",
    "    count = 1\n",
    "    for j_name in glob(r_path + \".json\"):\n",
    "        n_files = len(glob(r_path))\n",
    "        with open(j_name) as file:\n",
    "            data = json.load(file)\n",
    "        print (\"[Procesando \" + str(count) + \" de \" + str(n_files) + \", nombre \" + j_name + \"]\")\n",
    "        dict_val = {}\n",
    "        list_itm = []\n",
    "        for idx in range(len(data[\"ValorBarras\"])):\n",
    "            #para el valor de las barras\n",
    "            list_itm.append({\"a\":idx,\"b\":data[\"ValorBarras\"][str(idx)]})\n",
    "        #se agregan los datos a graficar\n",
    "        dict_val[\"data\"] = {\"values\": list_itm}\n",
    "        dict_val[\"mark\"] = mark\n",
    "        dict_val[\"encoding\"] = {\"x\": {\"field\": \"a\", \"type\": \"nominal\"},\n",
    "                                \"y\": {\"field\": \"b\", \"type\": \"quantitative\"}}\n",
    "        #jsonarray = json.dumps(dict_val)\n",
    "        count += 1\n",
    "        #filePathNameWExt = './' + s_path + '/' + j_name\n",
    "        with open(s_path + \"/VL\" + j_name.split(\"/\")[-1], 'w') as fp:\n",
    "            json.dump(dict_val, fp)"
   ]
  },
  {
   "cell_type": "code",
   "execution_count": null,
   "metadata": {
    "scrolled": true
   },
   "outputs": [],
   "source": [
    "convert_jsonVlite(\"/home/ejrueda/Documentos/JsonPorProcesar/2000jsons/*\",\n",
    "                  \"/home/ejrueda/Documentos/JsonPorProcesar/2000jsons/Resultados\",mark=\"bar\")"
   ]
  },
  {
   "cell_type": "markdown",
   "metadata": {},
   "source": [
    "### Versión 2\n",
    "- Para poder tener en cuenta los parámetros de entrada como los labels de los ejes y el título del grafico"
   ]
  },
  {
   "cell_type": "code",
   "execution_count": 6,
   "metadata": {},
   "outputs": [],
   "source": [
    "with open(\"./data/TitleJsonsImages/bar18.png.json\") as file:\n",
    "    data = json.load(file)"
   ]
  },
  {
   "cell_type": "code",
   "execution_count": 7,
   "metadata": {},
   "outputs": [
    {
     "data": {
      "text/plain": [
       "{'Barras': {'0': [55, 114, 121, 97],\n",
       "  '1': [185, 141, 121, 70],\n",
       "  '2': [315, 28, 121, 183]},\n",
       " 'xAxis': {'0': 211, '1': 211, '2': 211},\n",
       " 'OCRStatus': {'0': 'total', '1': 'total', '2': 'total'},\n",
       " 'ponto': {'0': 'Found by OCR', '1': 'Found by OCR', '2': 'Found by OCR'},\n",
       " 'ValorBarras': {'0': 1.701754386, '1': 1.2280701754, '2': 3.2105263158},\n",
       " 'Title': {'0': 'Fedudif Xazed', '1': 'Fedudif Xazed', '2': 'Fedudif Xazed'},\n",
       " 'LabelX': {'0': 'Qegevukata', '1': 'Qegevukata', '2': 'Qegevukata'},\n",
       " 'LabelY': {'0': 'Reley', '1': 'Reley', '2': 'Reley'}}"
      ]
     },
     "execution_count": 7,
     "metadata": {},
     "output_type": "execute_result"
    }
   ],
   "source": [
    "data"
   ]
  },
  {
   "cell_type": "code",
   "execution_count": 13,
   "metadata": {},
   "outputs": [
    {
     "name": "stdout",
     "output_type": "stream",
     "text": [
      "Fedudif Xazed\n",
      "Qegevukata\n",
      "Reley\n"
     ]
    }
   ],
   "source": [
    "print(data[\"Title\"][\"0\"])\n",
    "print(data[\"LabelX\"][\"0\"])\n",
    "print(data[\"LabelY\"][\"0\"])"
   ]
  },
  {
   "cell_type": "code",
   "execution_count": 17,
   "metadata": {},
   "outputs": [],
   "source": [
    "def convert_jsonVlite(r_path, s_path, mark=\"bar\"):\n",
    "    \"\"\"\n",
    "    Función para convertir Json en JsonVegLite\n",
    "    r_path: directorio donde están los Json\n",
    "    s_path: directorio donde se guardarán los nuevo archivos\n",
    "    mark: tipo de gráfico\n",
    "    \"\"\"\n",
    "    import json\n",
    "    import numpy as np\n",
    "    from glob import glob\n",
    "    count = 1\n",
    "    for j_name in glob(r_path + \".json\"):\n",
    "        n_files = len(glob(r_path))\n",
    "        with open(j_name) as file:\n",
    "            data = json.load(file)\n",
    "        print (\"[Procesando \" + str(count) + \" de \" + str(n_files) + \", nombre \" + j_name + \"]\")\n",
    "        dict_val = {}\n",
    "        list_itm = []\n",
    "        for idx in range(len(data[\"ValorBarras\"])):\n",
    "            #para el valor de las barras\n",
    "            list_itm.append({data[\"LabelX\"][\"0\"]:idx,data[\"LabelY\"][\"0\"]:data[\"ValorBarras\"][str(idx)]})\n",
    "        #se agregan los datos a graficar\n",
    "        dict_val[\"data\"] = {\"values\": list_itm}\n",
    "        dict_val[\"mark\"] = mark\n",
    "        dict_val[\"encoding\"] = {\"x\": {\"field\": data[\"LabelX\"][\"0\"], \"type\": \"nominal\"},\n",
    "                                \"y\": {\"field\": data[\"LabelY\"][\"0\"], \"type\": \"quantitative\"}}\n",
    "        dict_val[\"title\"] = data[\"Title\"][\"0\"]\n",
    "        #jsonarray = json.dumps(dict_val)\n",
    "        count += 1\n",
    "        #filePathNameWExt = './' + s_path + '/' + j_name\n",
    "        with open(s_path + \"/VL\" + j_name.split(\"/\")[-1], 'w') as fp:\n",
    "            json.dump(dict_val, fp)"
   ]
  },
  {
   "cell_type": "code",
   "execution_count": 18,
   "metadata": {},
   "outputs": [
    {
     "name": "stdout",
     "output_type": "stream",
     "text": [
      "[Procesando 1 de 41, nombre /home/ejrueda/Documentos/Maestria UFPA/Proyectos/Vega-Lite/data/TitleJsonsImages/bar453.png.json]\n",
      "[Procesando 2 de 41, nombre /home/ejrueda/Documentos/Maestria UFPA/Proyectos/Vega-Lite/data/TitleJsonsImages/bar1040.png.json]\n",
      "[Procesando 3 de 41, nombre /home/ejrueda/Documentos/Maestria UFPA/Proyectos/Vega-Lite/data/TitleJsonsImages/bar508.png.json]\n",
      "[Procesando 4 de 41, nombre /home/ejrueda/Documentos/Maestria UFPA/Proyectos/Vega-Lite/data/TitleJsonsImages/bar621.png.json]\n",
      "[Procesando 5 de 41, nombre /home/ejrueda/Documentos/Maestria UFPA/Proyectos/Vega-Lite/data/TitleJsonsImages/bar1582.png.json]\n",
      "[Procesando 6 de 41, nombre /home/ejrueda/Documentos/Maestria UFPA/Proyectos/Vega-Lite/data/TitleJsonsImages/bar733.png.json]\n",
      "[Procesando 7 de 41, nombre /home/ejrueda/Documentos/Maestria UFPA/Proyectos/Vega-Lite/data/TitleJsonsImages/bar1177.png.json]\n",
      "[Procesando 8 de 41, nombre /home/ejrueda/Documentos/Maestria UFPA/Proyectos/Vega-Lite/data/TitleJsonsImages/bar416.png.json]\n",
      "[Procesando 9 de 41, nombre /home/ejrueda/Documentos/Maestria UFPA/Proyectos/Vega-Lite/data/TitleJsonsImages/bar1878.png.json]\n",
      "[Procesando 10 de 41, nombre /home/ejrueda/Documentos/Maestria UFPA/Proyectos/Vega-Lite/data/TitleJsonsImages/bar1743.png.json]\n",
      "[Procesando 11 de 41, nombre /home/ejrueda/Documentos/Maestria UFPA/Proyectos/Vega-Lite/data/TitleJsonsImages/bar856.png.json]\n",
      "[Procesando 12 de 41, nombre /home/ejrueda/Documentos/Maestria UFPA/Proyectos/Vega-Lite/data/TitleJsonsImages/bar1209.png.json]\n",
      "[Procesando 13 de 41, nombre /home/ejrueda/Documentos/Maestria UFPA/Proyectos/Vega-Lite/data/TitleJsonsImages/bar1332.png.json]\n",
      "[Procesando 14 de 41, nombre /home/ejrueda/Documentos/Maestria UFPA/Proyectos/Vega-Lite/data/TitleJsonsImages/bar1915.png.json]\n",
      "[Procesando 15 de 41, nombre /home/ejrueda/Documentos/Maestria UFPA/Proyectos/Vega-Lite/data/TitleJsonsImages/bar1823.png.json]\n",
      "[Procesando 16 de 41, nombre /home/ejrueda/Documentos/Maestria UFPA/Proyectos/Vega-Lite/data/TitleJsonsImages/bar1085.png.json]\n",
      "[Procesando 17 de 41, nombre /home/ejrueda/Documentos/Maestria UFPA/Proyectos/Vega-Lite/data/TitleJsonsImages/bar534.png.json]\n",
      "[Procesando 18 de 41, nombre /home/ejrueda/Documentos/Maestria UFPA/Proyectos/Vega-Lite/data/TitleJsonsImages/bar164.png.json]\n",
      "[Procesando 19 de 41, nombre /home/ejrueda/Documentos/Maestria UFPA/Proyectos/Vega-Lite/data/TitleJsonsImages/bar224.png.json]\n",
      "[Procesando 20 de 41, nombre /home/ejrueda/Documentos/Maestria UFPA/Proyectos/Vega-Lite/data/TitleJsonsImages/bar18.png.json]\n"
     ]
    }
   ],
   "source": [
    "convert_jsonVlite(\"/home/ejrueda/Documentos/Maestria UFPA/Proyectos/Vega-Lite/data/TitleJsonsImages/*\",\n",
    "                  \"/home/ejrueda/Documentos/Maestria UFPA/Proyectos/Vega-Lite/data/TitleJsonsImages/Resultados\",\n",
    "                  mark=\"bar\")"
   ]
  },
  {
   "cell_type": "markdown",
   "metadata": {},
   "source": [
    "### Generar el texto a partir del Json en formato Vega-Lite"
   ]
  },
  {
   "cell_type": "markdown",
   "metadata": {},
   "source": [
    "#### Template sumarizado\n",
    "\n",
    "- Este é um gráfico de barras verticais intitulado {obj.title} (if available), a legenda do eixo y {obj.y.field} (if available) com {amount of bar} barras de do eixo x com a legenda {obj.x.field} (if available). Os valores das barras variam entre {min value bar} a {max value bar}. A média dos valores é {bar mean} e o desvio padrão é {bar standard deviation}.\n",
    "\n",
    "\n",
    "#### Template completo\n",
    "\n",
    "- Este é um gráfico de barras verticais intitulado {obj.title} (if available), a legenda do eixo y é {obj.y.field} (if available) com {amount of bar} barras do eixo x com a legenda {obj.x.field} (if available). Os valores das barras variam entre {min value bar} a {max value bar}. A barra {bar n+1} tem valor {bar value} (from 1 to total). A média dos valores é {bar mean} e o desvio padrão é {bar standard deviation}."
   ]
  },
  {
   "cell_type": "code",
   "execution_count": 9,
   "metadata": {},
   "outputs": [],
   "source": [
    "with open(\"/home/ejrueda/Documentos/Maestria UFPA/Proyectos/Vega-Lite/data/TitleJsonsImages/GenerarTexto/VLbar18.png.json\") as file:\n",
    "    data = json.load(file)"
   ]
  },
  {
   "cell_type": "code",
   "execution_count": 10,
   "metadata": {
    "scrolled": false
   },
   "outputs": [
    {
     "data": {
      "text/plain": [
       "{'data': {'values': [{'Qegevukata': 0, 'Reley': 1.701754386},\n",
       "   {'Qegevukata': 1, 'Reley': 1.2280701754},\n",
       "   {'Qegevukata': 2, 'Reley': 3.2105263158}]},\n",
       " 'mark': 'bar',\n",
       " 'encoding': {'x': {'field': 'Qegevukata', 'type': 'nominal'},\n",
       "  'y': {'field': 'Reley', 'type': 'quantitative'}},\n",
       " 'title': 'Fedudif Xazed'}"
      ]
     },
     "execution_count": 10,
     "metadata": {},
     "output_type": "execute_result"
    }
   ],
   "source": [
    "data"
   ]
  },
  {
   "cell_type": "code",
   "execution_count": 13,
   "metadata": {},
   "outputs": [
    {
     "data": {
      "text/plain": [
       "'Fedudif Xazed'"
      ]
     },
     "execution_count": 13,
     "metadata": {},
     "output_type": "execute_result"
    }
   ],
   "source": [
    "data[\"title\"]"
   ]
  },
  {
   "cell_type": "code",
   "execution_count": 102,
   "metadata": {},
   "outputs": [
    {
     "data": {
      "text/plain": [
       "0.2090909091"
      ]
     },
     "execution_count": 102,
     "metadata": {},
     "output_type": "execute_result"
    }
   ],
   "source": [
    "list(data[\"ValorBarras\"].values())[0]"
   ]
  },
  {
   "cell_type": "markdown",
   "metadata": {},
   "source": [
    "### Json - txt"
   ]
  },
  {
   "cell_type": "code",
   "execution_count": 11,
   "metadata": {},
   "outputs": [],
   "source": [
    "def get_text(r_path, s_path):\n",
    "    \"\"\"\n",
    "    r_path: ruta donde están los Json con la estructura de Vega-Lite.\n",
    "    s_path: ruta donde se guardán los textos\n",
    "    \"\"\"\n",
    "    import json\n",
    "    import numpy as np\n",
    "    from glob import glob\n",
    "    count = 1\n",
    "    for j_name in glob(r_path + \".json\"):\n",
    "        #print (j_name)\n",
    "        temp_sum = \"\" #Template sumarizado\n",
    "        temp_com = \"\" #Template completo\n",
    "        n_files = len(glob(r_path))\n",
    "        with open(j_name) as file:\n",
    "            data = json.load(file)\n",
    "        print (\"[Procesando \" + str(count) + \" de \" + str(n_files) + \", nombre \" + j_name + \"]\")\n",
    "        #para el template sumarizado\n",
    "        temp_sum += \"Este é um gráfico de barras verticais\"\n",
    "        temp_com += \"Este é um gráfico de barras verticais\"\n",
    "        if \"Title\" in data and data[\"Title\"] != \"NaN\":\n",
    "            temp_sum += \" intitulado \" + list(data[\"Title\"].values())[0]\n",
    "            temp_com += \" intitulado \" + list(data[\"Title\"].values())[0]\n",
    "        if \"LabelY\" in data and data[\"LabelY\"] != \"NaN\":\n",
    "            temp_sum += \" a legenda do eixo y \" + list(data[\"LabelY\"].values())[0]\n",
    "            temp_com += \" a legenda do eixo y \" + list(data[\"LabelY\"].values())[0]\n",
    "        temp_sum += \" com \" + str(len(data[\"ValorBarras\"])) + \" barras\"\n",
    "        temp_com += \" com \" + str(len(data[\"ValorBarras\"])) + \" barras\"\n",
    "        if \"LabelX\" in data and data[\"LabelX\"] != \"NaN\":\n",
    "            temp_sum += \" de do eixo x com a legenda \" + list(data[\"LabelX\"].values())[0] + \".\"\n",
    "            temp_com += \" de do eixo x com a legenda \" + list(data[\"LabelX\"].values())[0] + \".\"\n",
    "        #para describir cada barra\n",
    "        for idx in range(len(data[\"ValorBarras\"])):\n",
    "            temp_com += \" A barra \" + str(idx+1) + \" tem valor \" + str(round(list(data[\"ValorBarras\"].values())[idx], 4)) + \",\"\n",
    "        temp_sum += \" Os valores das barras variam entre \" + str(round(min(data[\"ValorBarras\"].values()), 4))\n",
    "        temp_sum += \" a \" + str(round(max(data[\"ValorBarras\"].values()),4)) + \".\"\n",
    "        temp_sum += \" A média dos valores é \" + str(round(np.mean(list(data[\"ValorBarras\"].values())), 4))\n",
    "        temp_sum += \" e o desvio padrão é \" + str(round(np.std(list(data[\"ValorBarras\"].values())), 4)) + \".\"\n",
    "        temp_com += \" Os valores das barras variam entre \" + str(round(min(data[\"ValorBarras\"].values()), 4))\n",
    "        temp_com += \" a \" + str(round(max(data[\"ValorBarras\"].values()),4)) + \".\"\n",
    "        temp_com += \" A média dos valores é \" + str(round(np.mean(list(data[\"ValorBarras\"].values())), 4))\n",
    "        temp_com += \" e o desvio padrão é \" + str(round(np.std(list(data[\"ValorBarras\"].values())), 4)) + \".\"\n",
    "        arch_sum = open(s_path + \"/TxtSum\" + j_name.split(\"/\")[-1] + \".txt\", \"w\")\n",
    "        arch_sum.write(temp_sum)\n",
    "        arch_sum.close() \n",
    "        arch_com = open(s_path + \"/TxtCom\" + j_name.split(\"/\")[-1] + \".txt\", \"w\")\n",
    "        arch_com.write(temp_com)\n",
    "        arch_com.close()"
   ]
  },
  {
   "cell_type": "code",
   "execution_count": 8,
   "metadata": {},
   "outputs": [
    {
     "name": "stdout",
     "output_type": "stream",
     "text": [
      "[Procesando 1 de 21, nombre /home/ejrueda/Documentos/Maestria UFPA/Proyectos/Vega-Lite/data/TitleJsonsImages/GenerarTexto/VLbar733.png.json]\n"
     ]
    },
    {
     "ename": "KeyError",
     "evalue": "'ValorBarras'",
     "output_type": "error",
     "traceback": [
      "\u001b[0;31m---------------------------------------------------------------------------\u001b[0m",
      "\u001b[0;31mKeyError\u001b[0m                                  Traceback (most recent call last)",
      "\u001b[0;32m<ipython-input-8-d93f1f560de4>\u001b[0m in \u001b[0;36m<module>\u001b[0;34m()\u001b[0m\n\u001b[1;32m      1\u001b[0m get_text(\"/home/ejrueda/Documentos/Maestria UFPA/Proyectos/Vega-Lite/data/TitleJsonsImages/GenerarTexto/*\",\n\u001b[0;32m----> 2\u001b[0;31m         \"/home/ejrueda/Documentos/Maestria UFPA/Proyectos/Vega-Lite/data/TitleJsonsImages/GenerarTexto/Resultados\")\n\u001b[0m",
      "\u001b[0;32m<ipython-input-7-8b90271c66f8>\u001b[0m in \u001b[0;36mget_text\u001b[0;34m(r_path, s_path)\u001b[0m\n\u001b[1;32m     25\u001b[0m             \u001b[0mtemp_sum\u001b[0m \u001b[0;34m+=\u001b[0m \u001b[0;34m\" a legenda do eixo y \"\u001b[0m \u001b[0;34m+\u001b[0m \u001b[0mlist\u001b[0m\u001b[0;34m(\u001b[0m\u001b[0mdata\u001b[0m\u001b[0;34m[\u001b[0m\u001b[0;34m\"LabelY\"\u001b[0m\u001b[0;34m]\u001b[0m\u001b[0;34m.\u001b[0m\u001b[0mvalues\u001b[0m\u001b[0;34m(\u001b[0m\u001b[0;34m)\u001b[0m\u001b[0;34m)\u001b[0m\u001b[0;34m[\u001b[0m\u001b[0;36m0\u001b[0m\u001b[0;34m]\u001b[0m\u001b[0;34m\u001b[0m\u001b[0m\n\u001b[1;32m     26\u001b[0m             \u001b[0mtemp_com\u001b[0m \u001b[0;34m+=\u001b[0m \u001b[0;34m\" a legenda do eixo y \"\u001b[0m \u001b[0;34m+\u001b[0m \u001b[0mlist\u001b[0m\u001b[0;34m(\u001b[0m\u001b[0mdata\u001b[0m\u001b[0;34m[\u001b[0m\u001b[0;34m\"LabelY\"\u001b[0m\u001b[0;34m]\u001b[0m\u001b[0;34m.\u001b[0m\u001b[0mvalues\u001b[0m\u001b[0;34m(\u001b[0m\u001b[0;34m)\u001b[0m\u001b[0;34m)\u001b[0m\u001b[0;34m[\u001b[0m\u001b[0;36m0\u001b[0m\u001b[0;34m]\u001b[0m\u001b[0;34m\u001b[0m\u001b[0m\n\u001b[0;32m---> 27\u001b[0;31m         \u001b[0mtemp_sum\u001b[0m \u001b[0;34m+=\u001b[0m \u001b[0;34m\" com \"\u001b[0m \u001b[0;34m+\u001b[0m \u001b[0mstr\u001b[0m\u001b[0;34m(\u001b[0m\u001b[0mlen\u001b[0m\u001b[0;34m(\u001b[0m\u001b[0mdata\u001b[0m\u001b[0;34m[\u001b[0m\u001b[0;34m\"ValorBarras\"\u001b[0m\u001b[0;34m]\u001b[0m\u001b[0;34m)\u001b[0m\u001b[0;34m)\u001b[0m \u001b[0;34m+\u001b[0m \u001b[0;34m\" barras\"\u001b[0m\u001b[0;34m\u001b[0m\u001b[0m\n\u001b[0m\u001b[1;32m     28\u001b[0m         \u001b[0mtemp_com\u001b[0m \u001b[0;34m+=\u001b[0m \u001b[0;34m\" com \"\u001b[0m \u001b[0;34m+\u001b[0m \u001b[0mstr\u001b[0m\u001b[0;34m(\u001b[0m\u001b[0mlen\u001b[0m\u001b[0;34m(\u001b[0m\u001b[0mdata\u001b[0m\u001b[0;34m[\u001b[0m\u001b[0;34m\"ValorBarras\"\u001b[0m\u001b[0;34m]\u001b[0m\u001b[0;34m)\u001b[0m\u001b[0;34m)\u001b[0m \u001b[0;34m+\u001b[0m \u001b[0;34m\" barras\"\u001b[0m\u001b[0;34m\u001b[0m\u001b[0m\n\u001b[1;32m     29\u001b[0m         \u001b[0;32mif\u001b[0m \u001b[0;34m\"LabelX\"\u001b[0m \u001b[0;32min\u001b[0m \u001b[0mdata\u001b[0m \u001b[0;32mand\u001b[0m \u001b[0mdata\u001b[0m\u001b[0;34m[\u001b[0m\u001b[0;34m\"LabelX\"\u001b[0m\u001b[0;34m]\u001b[0m \u001b[0;34m!=\u001b[0m \u001b[0;34m\"NaN\"\u001b[0m\u001b[0;34m:\u001b[0m\u001b[0;34m\u001b[0m\u001b[0m\n",
      "\u001b[0;31mKeyError\u001b[0m: 'ValorBarras'"
     ]
    }
   ],
   "source": [
    "get_text(\"/home/ejrueda/Documentos/Maestria UFPA/Proyectos/Vega-Lite/data/TitleJsonsImages/GenerarTexto/*\",\n",
    "        \"/home/ejrueda/Documentos/Maestria UFPA/Proyectos/Vega-Lite/data/TitleJsonsImages/GenerarTexto/Resultados\")"
   ]
  },
  {
   "cell_type": "markdown",
   "metadata": {},
   "source": [
    "### Json Vega Lite - txt"
   ]
  },
  {
   "cell_type": "code",
   "execution_count": 66,
   "metadata": {},
   "outputs": [],
   "source": [
    "def get_text(r_path, s_path):\n",
    "    \"\"\"\n",
    "    r_path: ruta donde están los Json con la estructura de Vega-Lite.\n",
    "    s_path: ruta donde se guardán los textos\n",
    "    \"\"\"\n",
    "    import json\n",
    "    import numpy as np\n",
    "    from glob import glob\n",
    "    count = 1\n",
    "    for j_name in glob(r_path + \".json\"):\n",
    "        #print (j_name)\n",
    "        temp_sum = \"\" #Template sumarizado\n",
    "        temp_com = \"\" #Template completo\n",
    "        n_files = len(glob(r_path))\n",
    "        with open(j_name) as file:\n",
    "            data = json.load(file)\n",
    "        print (\"[Procesando \" + str(count) + \" de \" + str(n_files) + \", nombre \" + j_name + \"]\")\n",
    "        #para el template sumarizado\n",
    "        temp_sum += \"Este é um gráfico de barras verticais\"\n",
    "        temp_com += \"Este é um gráfico de barras verticais\"\n",
    "        if \"title\" in data and data[\"title\"] != \"NaN\":\n",
    "            temp_sum += \" intitulado \" + data[\"title\"]\n",
    "            temp_com += \" intitulado \" + data[\"title\"]\n",
    "        if data[\"encoding\"][\"y\"][\"field\"] != \"NaN\":\n",
    "            temp_sum += \" a legenda do eixo y \" + data[\"encoding\"][\"y\"][\"field\"]\n",
    "            temp_com += \" a legenda do eixo y \" + data[\"encoding\"][\"y\"][\"field\"]\n",
    "        temp_sum += \" com \" + str(len(data[\"data\"][\"values\"])) + \" barras\"\n",
    "        temp_com += \" com \" + str(len(data[\"data\"][\"values\"])) + \" barras\"\n",
    "        if data[\"encoding\"][\"x\"][\"field\"] != \"NaN\":\n",
    "            temp_sum += \" de do eixo x com a legenda \" + data[\"encoding\"][\"x\"][\"field\"] + \".\"\n",
    "            temp_com += \" de do eixo x com a legenda \" + data[\"encoding\"][\"x\"][\"field\"] + \".\"\n",
    "        #para describir cada barra\n",
    "        list_val = []\n",
    "        for idx in range(len(data[\"data\"][\"values\"])):\n",
    "            list_val.append(np.round(list(data[\"data\"][\"values\"][idx].values())[1],4))\n",
    "            temp_com += \" A barra \" + str(idx+1) + \" tem valor \" + str(np.round(list(data[\"data\"][\"values\"][idx].values())[1],4)) + \",\"\n",
    "        temp_sum += \" Os valores das barras variam entre \" + str(min(list_val))\n",
    "        temp_sum += \" a \" + str(max(list_val)) + \".\"\n",
    "        temp_sum += \" A média dos valores é \" + str(np.round(np.mean(list_val),4))\n",
    "        temp_sum += \" e o desvio padrão é \" + str(np.round(np.std(list_val),4)) + \".\"\n",
    "        temp_com += \" Os valores das barras variam entre \" + str(min(list_val))\n",
    "        temp_com += \" a \" + str(max(list_val)) + \".\"\n",
    "        temp_com += \" A média dos valores é \" + str(np.round(np.mean(list_val),4))\n",
    "        temp_com += \" e o desvio padrão é \" + str(np.round(np.std(list_val),4)) + \".\"\n",
    "        arch_sum = open(s_path + \"/TxtSum\" + j_name.split(\"/\")[-1] + \".txt\", \"w\")\n",
    "        arch_sum.write(temp_sum)\n",
    "        arch_sum.close() \n",
    "        arch_com = open(s_path + \"/TxtCom\" + j_name.split(\"/\")[-1] + \".txt\", \"w\")\n",
    "        arch_com.write(temp_com)\n",
    "        arch_com.close()"
   ]
  },
  {
   "cell_type": "code",
   "execution_count": 67,
   "metadata": {},
   "outputs": [
    {
     "name": "stdout",
     "output_type": "stream",
     "text": [
      "[Procesando 1 de 21, nombre /home/ejrueda/Documentos/Maestria UFPA/Proyectos/Vega-Lite/data/TitleJsonsImages/GenerarTexto/VLbar733.png.json]\n",
      "[Procesando 1 de 21, nombre /home/ejrueda/Documentos/Maestria UFPA/Proyectos/Vega-Lite/data/TitleJsonsImages/GenerarTexto/VLbar18.png.json]\n",
      "[Procesando 1 de 21, nombre /home/ejrueda/Documentos/Maestria UFPA/Proyectos/Vega-Lite/data/TitleJsonsImages/GenerarTexto/VLbar1209.png.json]\n",
      "[Procesando 1 de 21, nombre /home/ejrueda/Documentos/Maestria UFPA/Proyectos/Vega-Lite/data/TitleJsonsImages/GenerarTexto/VLbar1177.png.json]\n",
      "[Procesando 1 de 21, nombre /home/ejrueda/Documentos/Maestria UFPA/Proyectos/Vega-Lite/data/TitleJsonsImages/GenerarTexto/VLbar856.png.json]\n",
      "[Procesando 1 de 21, nombre /home/ejrueda/Documentos/Maestria UFPA/Proyectos/Vega-Lite/data/TitleJsonsImages/GenerarTexto/VLbar1743.png.json]\n",
      "[Procesando 1 de 21, nombre /home/ejrueda/Documentos/Maestria UFPA/Proyectos/Vega-Lite/data/TitleJsonsImages/GenerarTexto/VLbar1878.png.json]\n",
      "[Procesando 1 de 21, nombre /home/ejrueda/Documentos/Maestria UFPA/Proyectos/Vega-Lite/data/TitleJsonsImages/GenerarTexto/VLbar621.png.json]\n",
      "[Procesando 1 de 21, nombre /home/ejrueda/Documentos/Maestria UFPA/Proyectos/Vega-Lite/data/TitleJsonsImages/GenerarTexto/VLbar508.png.json]\n",
      "[Procesando 1 de 21, nombre /home/ejrueda/Documentos/Maestria UFPA/Proyectos/Vega-Lite/data/TitleJsonsImages/GenerarTexto/VLbar1332.png.json]\n",
      "[Procesando 1 de 21, nombre /home/ejrueda/Documentos/Maestria UFPA/Proyectos/Vega-Lite/data/TitleJsonsImages/GenerarTexto/VLbar1582.png.json]\n",
      "[Procesando 1 de 21, nombre /home/ejrueda/Documentos/Maestria UFPA/Proyectos/Vega-Lite/data/TitleJsonsImages/GenerarTexto/VLbar453.png.json]\n",
      "[Procesando 1 de 21, nombre /home/ejrueda/Documentos/Maestria UFPA/Proyectos/Vega-Lite/data/TitleJsonsImages/GenerarTexto/VLbar1040.png.json]\n",
      "[Procesando 1 de 21, nombre /home/ejrueda/Documentos/Maestria UFPA/Proyectos/Vega-Lite/data/TitleJsonsImages/GenerarTexto/VLbar1823.png.json]\n",
      "[Procesando 1 de 21, nombre /home/ejrueda/Documentos/Maestria UFPA/Proyectos/Vega-Lite/data/TitleJsonsImages/GenerarTexto/VLbar164.png.json]\n",
      "[Procesando 1 de 21, nombre /home/ejrueda/Documentos/Maestria UFPA/Proyectos/Vega-Lite/data/TitleJsonsImages/GenerarTexto/VLbar224.png.json]\n",
      "[Procesando 1 de 21, nombre /home/ejrueda/Documentos/Maestria UFPA/Proyectos/Vega-Lite/data/TitleJsonsImages/GenerarTexto/VLbar416.png.json]\n",
      "[Procesando 1 de 21, nombre /home/ejrueda/Documentos/Maestria UFPA/Proyectos/Vega-Lite/data/TitleJsonsImages/GenerarTexto/VLbar534.png.json]\n",
      "[Procesando 1 de 21, nombre /home/ejrueda/Documentos/Maestria UFPA/Proyectos/Vega-Lite/data/TitleJsonsImages/GenerarTexto/VLbar1085.png.json]\n",
      "[Procesando 1 de 21, nombre /home/ejrueda/Documentos/Maestria UFPA/Proyectos/Vega-Lite/data/TitleJsonsImages/GenerarTexto/VLbar1915.png.json]\n"
     ]
    }
   ],
   "source": [
    "get_text(\"/home/ejrueda/Documentos/Maestria UFPA/Proyectos/Vega-Lite/data/TitleJsonsImages/GenerarTexto/*\",\n",
    "        \"/home/ejrueda/Documentos/Maestria UFPA/Proyectos/Vega-Lite/data/TitleJsonsImages/GenerarTexto/Resultados\")"
   ]
  },
  {
   "cell_type": "code",
   "execution_count": 65,
   "metadata": {},
   "outputs": [
    {
     "data": {
      "text/plain": [
       "'Fedudif Xazed'"
      ]
     },
     "execution_count": 65,
     "metadata": {},
     "output_type": "execute_result"
    }
   ],
   "source": [
    "data[\"title\"]"
   ]
  },
  {
   "cell_type": "code",
   "execution_count": 28,
   "metadata": {},
   "outputs": [
    {
     "data": {
      "text/plain": [
       "{'data': {'values': [{'Qegevukata': 0, 'Reley': 1.701754386},\n",
       "   {'Qegevukata': 1, 'Reley': 1.2280701754},\n",
       "   {'Qegevukata': 2, 'Reley': 3.2105263158}]},\n",
       " 'mark': 'bar',\n",
       " 'encoding': {'x': {'field': 'Qegevukata', 'type': 'nominal'},\n",
       "  'y': {'field': 'Reley', 'type': 'quantitative'}},\n",
       " 'title': 'Fedudif Xazed'}"
      ]
     },
     "execution_count": 28,
     "metadata": {},
     "output_type": "execute_result"
    }
   ],
   "source": [
    "data"
   ]
  },
  {
   "cell_type": "code",
   "execution_count": 46,
   "metadata": {},
   "outputs": [
    {
     "data": {
      "text/plain": [
       "[0, 1.701754386]"
      ]
     },
     "execution_count": 46,
     "metadata": {},
     "output_type": "execute_result"
    }
   ],
   "source": [
    "list(data[\"data\"][\"values\"][0].values())"
   ]
  },
  {
   "cell_type": "code",
   "execution_count": 60,
   "metadata": {},
   "outputs": [
    {
     "data": {
      "text/plain": [
       "{'Qegevukata': 0, 'Reley': 1.701754386}"
      ]
     },
     "execution_count": 60,
     "metadata": {},
     "output_type": "execute_result"
    }
   ],
   "source": [
    "y = data[\"encoding\"][\"y\"][\"field\"]\n",
    "list(data[\"data\"][\"values\"])[0]"
   ]
  },
  {
   "cell_type": "code",
   "execution_count": 54,
   "metadata": {},
   "outputs": [
    {
     "data": {
      "text/plain": [
       "'Reley'"
      ]
     },
     "execution_count": 54,
     "metadata": {},
     "output_type": "execute_result"
    }
   ],
   "source": [
    "y"
   ]
  },
  {
   "cell_type": "code",
   "execution_count": null,
   "metadata": {},
   "outputs": [],
   "source": []
  }
 ],
 "metadata": {
  "kernelspec": {
   "display_name": "Python 3",
   "language": "python",
   "name": "python3"
  },
  "language_info": {
   "codemirror_mode": {
    "name": "ipython",
    "version": 3
   },
   "file_extension": ".py",
   "mimetype": "text/x-python",
   "name": "python",
   "nbconvert_exporter": "python",
   "pygments_lexer": "ipython3",
   "version": "3.6.5"
  }
 },
 "nbformat": 4,
 "nbformat_minor": 2
}
